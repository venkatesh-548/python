{
 "cells": [
  {
   "cell_type": "code",
   "execution_count": 8,
   "metadata": {},
   "outputs": [],
   "source": [
    "def check_prime(func):\n",
    "    def inner(*args,**kwargs):\n",
    "        d={5:True,7:True,23:True,97:True,111:True,20:False,6:False,100:False,48:False,50:False}\n",
    "        count=1\n",
    "        rating=0\n",
    "        for i in d:\n",
    "            if func(i)==d[i]:\n",
    "                res=f\"Testcase {count} ==> input is {i} output is passed\"\n",
    "                print(res)\n",
    "                rating+=1\n",
    "            else:\n",
    "                res=f\"Testcase {count} ==> input is {i} output is Failed\"\n",
    "                print(res)\n",
    "            count+=1\n",
    "        return rating\n",
    "    return inner           "
   ]
  },
  {
   "cell_type": "code",
   "execution_count": 7,
   "metadata": {},
   "outputs": [
    {
     "name": "stdout",
     "output_type": "stream",
     "text": [
      "Testcase 1 ==> input is 5 output is passed\n",
      "Testcase 2 ==> input is 7 output is passed\n",
      "Testcase 3 ==> input is 23 output is passed\n",
      "Testcase 4 ==> input is 97 output is passed\n",
      "Testcase 5 ==> input is 111 output is passed\n",
      "Testcase 6 ==> input is 20 output is passed\n",
      "Testcase 7 ==> input is 6 output is passed\n",
      "Testcase 8 ==> input is 100 output is passed\n",
      "Testcase 9 ==> input is 48 output is passed\n",
      "Testcase 10 ==> input is 9 output is Failed\n"
     ]
    },
    {
     "data": {
      "text/plain": [
       "9"
      ]
     },
     "execution_count": 7,
     "metadata": {},
     "output_type": "execute_result"
    }
   ],
   "source": [
    "@check_prime\n",
    "def prime(n):\n",
    "    for i in range(2,n):\n",
    "        if n%i==0:\n",
    "            return False\n",
    "        return True\n",
    "prime(20)"
   ]
  },
  {
   "cell_type": "code",
   "execution_count": 1,
   "metadata": {},
   "outputs": [
    {
     "name": "stdout",
     "output_type": "stream",
     "text": [
      "1 2 3 4 5 6 7 8 9 10 "
     ]
    }
   ],
   "source": [
    "#generators\n",
    "\n",
    "# wap to genarate the n numbers\n",
    "\n",
    "def firstn(num):\n",
    "    n=1\n",
    "    while n<=num:\n",
    "        yield n\n",
    "        n+=1\n",
    "values=firstn(10)\n",
    "for i in values:\n",
    "    print(i,end=\" \")"
   ]
  },
  {
   "cell_type": "code",
   "execution_count": 2,
   "metadata": {},
   "outputs": [
    {
     "name": "stdout",
     "output_type": "stream",
     "text": [
      "10 9 8 7 6 5 4 3 2 1 "
     ]
    }
   ],
   "source": [
    "#wap to start the countdown\n",
    "\n",
    "def count(num):\n",
    "    while num>0:\n",
    "        yield num\n",
    "        num-=1\n",
    "val=count(10)\n",
    "for i in val:\n",
    "    print(i,end=\" \")"
   ]
  }
 ],
 "metadata": {
  "kernelspec": {
   "display_name": "Python 3",
   "language": "python",
   "name": "python3"
  },
  "language_info": {
   "codemirror_mode": {
    "name": "ipython",
    "version": 3
   },
   "file_extension": ".py",
   "mimetype": "text/x-python",
   "name": "python",
   "nbconvert_exporter": "python",
   "pygments_lexer": "ipython3",
   "version": "3.11.4"
  }
 },
 "nbformat": 4,
 "nbformat_minor": 2
}
