{
 "cells": [
  {
   "cell_type": "code",
   "execution_count": 3,
   "metadata": {},
   "outputs": [
    {
     "name": "stdout",
     "output_type": "stream",
     "text": [
      "{1: 1, 2: 4, 3: 9, 4: 16}\n",
      "{}\n"
     ]
    }
   ],
   "source": [
    "#1 clear()\n",
    "\n",
    "d={i:i**2 for i in range(1,5)}\n",
    "print(d)\n",
    "d.clear()\n",
    "print(d)"
   ]
  },
  {
   "cell_type": "code",
   "execution_count": 6,
   "metadata": {},
   "outputs": [
    {
     "name": "stdout",
     "output_type": "stream",
     "text": [
      "2068433996224 {1: 1, 2: 4, 3: 9, 4: 16}\n",
      "2068433996224 {}\n"
     ]
    }
   ],
   "source": [
    "d={1: 1, 2: 4, 3: 9, 4: 16}\n",
    "print(id(d),d)\n",
    "def clear(coll1):\n",
    "    if type(d)!=dict:\n",
    "        return -1\n",
    "    res=list(d)\n",
    "    for i in res:\n",
    "        del d[i]\n",
    "clear(d)\n",
    "print(id(d),d)\n"
   ]
  },
  {
   "cell_type": "code",
   "execution_count": 7,
   "metadata": {},
   "outputs": [
    {
     "name": "stdout",
     "output_type": "stream",
     "text": [
      "2068434004096 {1: 1, 2: 4, 3: 9, 4: 16}\n",
      "2068433996224 {1: 1, 2: 4, 3: 9, 4: 16}\n"
     ]
    }
   ],
   "source": [
    "d={1: 1, 2: 4, 3: 9, 4: 16}\n",
    "print(id(d),d)\n",
    "d1=d.copy()\n",
    "print(id(d1),d1)"
   ]
  },
  {
   "cell_type": "code",
   "execution_count": 11,
   "metadata": {},
   "outputs": [
    {
     "name": "stdout",
     "output_type": "stream",
     "text": [
      "2068433874176 {1: 1, 2: 4, 3: 9, 4: 16}\n",
      "2068433996224 {1: 1, 2: 4, 3: 9, 4: 16}\n"
     ]
    }
   ],
   "source": [
    "#2copy()\n",
    "d={1: 1, 2: 4, 3: 9, 4: 16}\n",
    "print(id(d),d)\n",
    "def copy(coll1):\n",
    "    if type(d)!=dict:\n",
    "        return -1\n",
    "    d1={}\n",
    "    for i in coll1:\n",
    "        d1[i]=coll1[i]\n",
    "copy(d)\n",
    "print(id(d1),d1)\n"
   ]
  },
  {
   "cell_type": "code",
   "execution_count": 2,
   "metadata": {},
   "outputs": [
    {
     "name": "stdout",
     "output_type": "stream",
     "text": [
      "16\n",
      "9\n",
      "None\n"
     ]
    }
   ],
   "source": [
    "# 3get()\n",
    "d={1: 1, 2: 4, 3: 9, 4: 16}\n",
    "d.get(2)\n",
    "print(d.get(4))\n",
    "print(d[3])\n",
    "print(d.get(5))"
   ]
  },
  {
   "cell_type": "code",
   "execution_count": 6,
   "metadata": {},
   "outputs": [
    {
     "name": "stdout",
     "output_type": "stream",
     "text": [
      "9\n",
      "9\n"
     ]
    }
   ],
   "source": [
    "d={1: 1, 2: 4, 3: 9, 4: 16}\n",
    "\n",
    "def get(coll1,key):\n",
    "    if type(coll1)!=dict:\n",
    "        return -1\n",
    "    print(coll1.get(key))\n",
    "    print(d[key])\n",
    "get(d,3)"
   ]
  },
  {
   "cell_type": "code",
   "execution_count": 12,
   "metadata": {},
   "outputs": [
    {
     "name": "stdout",
     "output_type": "stream",
     "text": [
      "4\n",
      "{1: 1, 3: 9, 4: 16}\n"
     ]
    }
   ],
   "source": [
    "#4 pop()\n",
    "d={1: 1, 2: 4, 3: 9, 4: 16}\n",
    "print(d.pop(2))\n",
    "print(d)"
   ]
  },
  {
   "cell_type": "code",
   "execution_count": 19,
   "metadata": {},
   "outputs": [
    {
     "name": "stdout",
     "output_type": "stream",
     "text": [
      "{1: 1, 2: 4, 3: 9, 4: 16}\n",
      "None\n",
      "{1: 1, 2: 4, 4: 16}\n"
     ]
    }
   ],
   "source": [
    "d={1: 1, 2: 4, 3: 9, 4: 16}\n",
    "print(d)\n",
    "def pop(coll,key):\n",
    "    if type(coll)!=dict:\n",
    "        raise \"it is not a dict\"\n",
    "    del coll[key]\n",
    "print(pop(d,3))\n",
    "print(d)\n",
    "    "
   ]
  },
  {
   "cell_type": "code",
   "execution_count": 17,
   "metadata": {},
   "outputs": [
    {
     "name": "stdout",
     "output_type": "stream",
     "text": [
      "(4, 16)\n",
      "{1: 1, 2: 4, 3: 9}\n"
     ]
    }
   ],
   "source": [
    "#5 popitem()\n",
    "\n",
    "d={1: 1, 2: 4, 3: 9, 4: 16}\n",
    "print(d.popitem())\n",
    "print(d)"
   ]
  },
  {
   "cell_type": "code",
   "execution_count": null,
   "metadata": {},
   "outputs": [],
   "source": [
    "d={1: 1, 2: 4, 3: 9, 4: 16}\n",
    "\n",
    "def popitem(coll):\n",
    "    if type(coll)!=dict:\n",
    "        return -1\n",
    "    del d[]"
   ]
  },
  {
   "cell_type": "code",
   "execution_count": 8,
   "metadata": {},
   "outputs": [
    {
     "name": "stdout",
     "output_type": "stream",
     "text": [
      "[2, 9, 10, 15, 32]\n"
     ]
    },
    {
     "ename": "KeyError",
     "evalue": "2",
     "output_type": "error",
     "traceback": [
      "\u001b[1;31m---------------------------------------------------------------------------\u001b[0m",
      "\u001b[1;31mKeyError\u001b[0m                                  Traceback (most recent call last)",
      "\u001b[1;32mc:\\Users\\venka\\Documents\\GitHub\\basic-python1\\python-Qspy\\functions\\dictfunctions.ipynb Cell 11\u001b[0m line \u001b[0;36m6\n\u001b[0;32m      <a href='vscode-notebook-cell:/c%3A/Users/venka/Documents/GitHub/basic-python1/python-Qspy/functions/dictfunctions.ipynb#X16sZmlsZQ%3D%3D?line=3'>4</a>\u001b[0m val\u001b[39m.\u001b[39msort()\n\u001b[0;32m      <a href='vscode-notebook-cell:/c%3A/Users/venka/Documents/GitHub/basic-python1/python-Qspy/functions/dictfunctions.ipynb#X16sZmlsZQ%3D%3D?line=4'>5</a>\u001b[0m \u001b[39mprint\u001b[39m(val)\n\u001b[1;32m----> <a href='vscode-notebook-cell:/c%3A/Users/venka/Documents/GitHub/basic-python1/python-Qspy/functions/dictfunctions.ipynb#X16sZmlsZQ%3D%3D?line=5'>6</a>\u001b[0m s_d\u001b[39m=\u001b[39m{i:d[i] \u001b[39mfor\u001b[39;49;00m i \u001b[39min\u001b[39;49;00m val}\n\u001b[0;32m      <a href='vscode-notebook-cell:/c%3A/Users/venka/Documents/GitHub/basic-python1/python-Qspy/functions/dictfunctions.ipynb#X16sZmlsZQ%3D%3D?line=6'>7</a>\u001b[0m \u001b[39mprint\u001b[39m(s_d)\n",
      "\u001b[1;32mc:\\Users\\venka\\Documents\\GitHub\\basic-python1\\python-Qspy\\functions\\dictfunctions.ipynb Cell 11\u001b[0m line \u001b[0;36m6\n\u001b[0;32m      <a href='vscode-notebook-cell:/c%3A/Users/venka/Documents/GitHub/basic-python1/python-Qspy/functions/dictfunctions.ipynb#X16sZmlsZQ%3D%3D?line=3'>4</a>\u001b[0m val\u001b[39m.\u001b[39msort()\n\u001b[0;32m      <a href='vscode-notebook-cell:/c%3A/Users/venka/Documents/GitHub/basic-python1/python-Qspy/functions/dictfunctions.ipynb#X16sZmlsZQ%3D%3D?line=4'>5</a>\u001b[0m \u001b[39mprint\u001b[39m(val)\n\u001b[1;32m----> <a href='vscode-notebook-cell:/c%3A/Users/venka/Documents/GitHub/basic-python1/python-Qspy/functions/dictfunctions.ipynb#X16sZmlsZQ%3D%3D?line=5'>6</a>\u001b[0m s_d\u001b[39m=\u001b[39m{i:d[i] \u001b[39mfor\u001b[39;00m i \u001b[39min\u001b[39;00m val}\n\u001b[0;32m      <a href='vscode-notebook-cell:/c%3A/Users/venka/Documents/GitHub/basic-python1/python-Qspy/functions/dictfunctions.ipynb#X16sZmlsZQ%3D%3D?line=6'>7</a>\u001b[0m \u001b[39mprint\u001b[39m(s_d)\n",
      "\u001b[1;31mKeyError\u001b[0m: 2"
     ]
    }
   ],
   "source": [
    "# Python | Sort Python Dictionaries by Key or Value\n",
    "d={'ravi': 10, 'rajnish': 9, 'sanjeev': 15, 'yash': 2, 'suraj': 32}\n",
    "val=list(d.values())\n",
    "val.sort()\n",
    "print(val)\n",
    "s_d={i:d[i] for i in val}\n",
    "print(s_d)\n"
   ]
  },
  {
   "cell_type": "code",
   "execution_count": null,
   "metadata": {},
   "outputs": [],
   "source": []
  },
  {
   "cell_type": "code",
   "execution_count": null,
   "metadata": {},
   "outputs": [],
   "source": []
  },
  {
   "cell_type": "code",
   "execution_count": null,
   "metadata": {},
   "outputs": [],
   "source": []
  }
 ],
 "metadata": {
  "kernelspec": {
   "display_name": "Python 3",
   "language": "python",
   "name": "python3"
  },
  "language_info": {
   "codemirror_mode": {
    "name": "ipython",
    "version": 3
   },
   "file_extension": ".py",
   "mimetype": "text/x-python",
   "name": "python",
   "nbconvert_exporter": "python",
   "pygments_lexer": "ipython3",
   "version": "3.11.4"
  }
 },
 "nbformat": 4,
 "nbformat_minor": 2
}
