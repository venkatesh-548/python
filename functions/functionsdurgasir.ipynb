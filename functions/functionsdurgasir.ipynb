{
 "cells": [
  {
   "cell_type": "code",
   "execution_count": 2,
   "metadata": {},
   "outputs": [
    {
     "name": "stdout",
     "output_type": "stream",
     "text": [
      "good morning\n",
      "good morning\n"
     ]
    }
   ],
   "source": [
    "def wish():\n",
    "    print(\"good morning\")\n",
    "wish()\n",
    "wish()"
   ]
  },
  {
   "cell_type": "code",
   "execution_count": 4,
   "metadata": {},
   "outputs": [
    {
     "name": "stdout",
     "output_type": "stream",
     "text": [
      "hello venky good morning\n",
      "hello nihal good morning\n"
     ]
    }
   ],
   "source": [
    "def wish(name):\n",
    "    print(f'hello {name} good morning')\n",
    "wish(\"venky\")\n",
    "wish(\"nihal\")\n"
   ]
  },
  {
   "cell_type": "code",
   "execution_count": 7,
   "metadata": {},
   "outputs": [
    {
     "name": "stdout",
     "output_type": "stream",
     "text": [
      "100\n",
      "225\n"
     ]
    }
   ],
   "source": [
    "def sqr(n):\n",
    "    print(n**2)\n",
    "sqr(10)\n",
    "sqr(15)"
   ]
  },
  {
   "cell_type": "code",
   "execution_count": 12,
   "metadata": {},
   "outputs": [
    {
     "name": "stdout",
     "output_type": "stream",
     "text": [
      "30\n",
      "300\n",
      "35\n"
     ]
    },
    {
     "data": {
      "text/plain": [
       "5"
      ]
     },
     "execution_count": 12,
     "metadata": {},
     "output_type": "execute_result"
    }
   ],
   "source": [
    "def add(a,b):\n",
    "    return a+b\n",
    "res=add(10,20)\n",
    "print(res)\n",
    "print(add(100,200))\n",
    "print(add(15,20))\n",
    "add(2,3)\n"
   ]
  },
  {
   "cell_type": "code",
   "execution_count": 14,
   "metadata": {},
   "outputs": [
    {
     "name": "stdout",
     "output_type": "stream",
     "text": [
      "sum\n",
      "sum\n",
      "None\n"
     ]
    }
   ],
   "source": [
    "def sum():\n",
    "    print(\"sum\")\n",
    "sum()\n",
    "print(sum())"
   ]
  },
  {
   "cell_type": "code",
   "execution_count": 21,
   "metadata": {},
   "outputs": [
    {
     "name": "stdout",
     "output_type": "stream",
     "text": [
      "5 is odd\n",
      "10 is even\n",
      "6.3 is odd\n",
      "5.2 is odd\n"
     ]
    }
   ],
   "source": [
    "#wap to check wheather the given number is even or odd using function\n",
    "\n",
    "def even_odd(n):\n",
    "    if n%2==0:\n",
    "        print(f\"{n} is even\")\n",
    "    else:\n",
    "        print(f\"{n} is odd\")\n",
    "even_odd(5)\n",
    "even_odd(10)\n",
    "even_odd(6.3)\n",
    "even_odd(5.2)\n",
    "\n",
    "\n"
   ]
  },
  {
   "cell_type": "code",
   "execution_count": 28,
   "metadata": {},
   "outputs": [
    {
     "name": "stdout",
     "output_type": "stream",
     "text": [
      "120\n",
      "1 1\n",
      "2 2\n",
      "3 6\n",
      "4 24\n",
      "5 120\n"
     ]
    }
   ],
   "source": [
    "# wap to find the factorial of the given number\n",
    "\n",
    "def fact(n):\n",
    "    f=1\n",
    "    while n:\n",
    "        f=f*n\n",
    "        n-=1\n",
    "    return f\n",
    "print(fact(5))\n",
    "fact(1)\n",
    "fact(0)\n",
    "for i in range(1,6):\n",
    "    print(i,fact(i))"
   ]
  },
  {
   "cell_type": "code",
   "execution_count": 30,
   "metadata": {},
   "outputs": [
    {
     "name": "stdout",
     "output_type": "stream",
     "text": [
      "(150, 50)\n"
     ]
    }
   ],
   "source": [
    "def sum_sub(a,b):\n",
    "    sum=a+b\n",
    "    sub=a-b\n",
    "    return sum,sub\n",
    "x,y=sum_sub(100,50)\n",
    "print(\"the sum is\",x)\n",
    "print(\"the subtraction is:\",y)\n",
    "# t=sum_sub(100,50)\n",
    "# print(t)"
   ]
  },
  {
   "cell_type": "code",
   "execution_count": 34,
   "metadata": {},
   "outputs": [
    {
     "name": "stdout",
     "output_type": "stream",
     "text": [
      "(30, 10, 200, 2.0)\n",
      "the results are\n",
      "30\n",
      "10\n",
      "200\n",
      "2.0\n"
     ]
    }
   ],
   "source": [
    "def calc(a,b):\n",
    "    sum=a+b\n",
    "    sub=a-b\n",
    "    mul=a*b\n",
    "    div=a/b\n",
    "    return sum,sub,mul,div\n",
    "tup=calc(20,10)\n",
    "print(tup)\n",
    "\n",
    "print(\"the results are\")\n",
    "for i in tup:\n",
    "    print(i)"
   ]
  },
  {
   "cell_type": "code",
   "execution_count": 41,
   "metadata": {},
   "outputs": [
    {
     "name": "stdout",
     "output_type": "stream",
     "text": [
      "0\n",
      "10\n",
      "30\n",
      "100\n"
     ]
    }
   ],
   "source": [
    "# variabe length arguments\n",
    "\n",
    "def sum(*args):\n",
    "    tot=0\n",
    "    for i in args:\n",
    "        tot+=i\n",
    "    return tot\n",
    "print(sum())\n",
    "print(sum(10))\n",
    "print(sum(10,20))\n",
    "print(sum(10,20,30,40))\n",
    "\n",
    "\n",
    "\n"
   ]
  },
  {
   "cell_type": "code",
   "execution_count": 39,
   "metadata": {},
   "outputs": [
    {
     "name": "stdout",
     "output_type": "stream",
     "text": [
      "('venky', 0)\n",
      "('ramu', 10)\n",
      "('dev', 30)\n",
      "('jes', 100)\n"
     ]
    }
   ],
   "source": [
    "def sum(name,*n):\n",
    "    tot=0\n",
    "    for i in n:\n",
    "        tot+=i\n",
    "    return name,tot\n",
    "print(sum(\"venky\"))\n",
    "print(sum(\"ramu\",10))\n",
    "print(sum(\"dev\",10,20))\n",
    "print(sum(\"jes\",10,20,30,40))"
   ]
  },
  {
   "cell_type": "code",
   "execution_count": 40,
   "metadata": {},
   "outputs": [
    {
     "name": "stdout",
     "output_type": "stream",
     "text": [
      "record information\n",
      "name -------- rahul\n",
      "age -------- 30\n",
      "hs -------- 199\n",
      "avg -------- 50\n",
      "record information\n",
      "name -------- kohli\n",
      "age -------- 34\n",
      "hs -------- 241\n",
      "avg -------- 55\n",
      "record information\n",
      "name -------- rohit\n",
      "age -------- 37\n",
      "hs -------- 199\n",
      "avg -------- 45\n"
     ]
    }
   ],
   "source": [
    "# wap to print the keyword arguments\n",
    "\n",
    "def display(**kwargs):\n",
    "    print(\"record information\")\n",
    "    for k,v in kwargs.items():\n",
    "        print(k,\"--------\",v)\n",
    "display(name=\"rahul\",age=\"30\",hs=199,avg=50)\n",
    "display(name=\"kohli\",age=\"34\",hs=241,avg=55)\n",
    "display(name=\"rohit\",age=\"37\",hs=199,avg=45)\n",
    "\n"
   ]
  },
  {
   "cell_type": "code",
   "execution_count": 45,
   "metadata": {},
   "outputs": [
    {
     "name": "stdout",
     "output_type": "stream",
     "text": [
      "1 2 10 20\n",
      "1 2 10 20\n",
      "1 2 3 20\n"
     ]
    }
   ],
   "source": [
    "def f(a,b,c=10,d=20):\n",
    "    print(a,b,c,d)\n",
    "f(1,2)\n",
    "f(1,2)\n",
    "f(1,2,3)"
   ]
  },
  {
   "cell_type": "code",
   "execution_count": 48,
   "metadata": {},
   "outputs": [
    {
     "name": "stdout",
     "output_type": "stream",
     "text": [
      "1\n",
      "120\n"
     ]
    }
   ],
   "source": [
    "#recursive function to print factorial\n",
    "\n",
    "def factorial(n):  \n",
    "    if n==0:\n",
    "        res=1\n",
    "    else:\n",
    "        res=n*factorial(n-1) #res=3*fact(2)\n",
    "    return res               #res=3*2*fact(1)\n",
    "print(factorial(0))          #res=3*2*1*f(0)\n",
    "print(factorial(5))          #res=3*2*1*1=6\n",
    "\n",
    "\n"
   ]
  },
  {
   "cell_type": "code",
   "execution_count": 50,
   "metadata": {},
   "outputs": [
    {
     "name": "stdout",
     "output_type": "stream",
     "text": [
      "4\n",
      "100\n",
      "144\n"
     ]
    }
   ],
   "source": [
    "# anonymous function(lamda)\n",
    "\n",
    "s=lambda a:a**2\n",
    "print(s(2))\n",
    "print(s(10))\n",
    "print(s(12))\n"
   ]
  },
  {
   "cell_type": "code",
   "execution_count": 6,
   "metadata": {},
   "outputs": [
    {
     "name": "stdout",
     "output_type": "stream",
     "text": [
      "5\n",
      "40\n",
      "the large num is: 20\n",
      "the large num is: 100\n",
      "----------------\n",
      "the large num is: 20\n",
      "the large num is: 100\n"
     ]
    }
   ],
   "source": [
    "x=lambda a,b:a+b\n",
    "print(x(3,2))\n",
    "print(x(15,25))\n",
    "\n",
    "#biggest if two num\n",
    "\n",
    "z=lambda a,b:a if a>b else b\n",
    "print(\"the large num is:\",z(10,20))\n",
    "print(\"the large num is:\",z(100,20))\n",
    "print(\"----------------\")\n",
    "z=lambda a,b:[b,a][a>b]\n",
    "print(\"the large num is:\",z(10,20))\n",
    "print(\"the large num is:\",z(100,20))\n",
    "\n",
    "\n"
   ]
  },
  {
   "cell_type": "code",
   "execution_count": 3,
   "metadata": {},
   "outputs": [
    {
     "name": "stdout",
     "output_type": "stream",
     "text": [
      "not prime\n",
      "prime\n",
      "prime\n"
     ]
    }
   ],
   "source": [
    "#wap to pritn prime number using function\n",
    "\n",
    "def prime(n):\n",
    "    count=0\n",
    "    i=2\n",
    "    while i<n:\n",
    "        if n%i==0:\n",
    "            count+=1\n",
    "        i+=1\n",
    "    # print([\"not prime\",\"prime\"][count==2])\n",
    "    print(\"prime\" if count==0 else \"not prime\")\n",
    "    # if count==2:\n",
    "    #     print(\"prime\")\n",
    "    # else:\n",
    "    #     print(\"not prime\")\n",
    "prime(4)\n",
    "prime(2)\n",
    "prime(7)\n"
   ]
  },
  {
   "cell_type": "code",
   "execution_count": 10,
   "metadata": {},
   "outputs": [
    {
     "name": "stdout",
     "output_type": "stream",
     "text": [
      "[0, 2, 6, 8, 8]\n",
      "------using lamda function-----\n",
      "[0, 2, 6, 8, 8]\n",
      "[3, 5, 9]\n"
     ]
    }
   ],
   "source": [
    "#filter function\n",
    "\n",
    "def iseven(x):\n",
    "    if x%2==0:\n",
    "        # print(\"even\")\n",
    "        return True\n",
    "    else:\n",
    "        # print(\"odd\")\n",
    "        return False\n",
    "l=[0,3,5,2,6,8,9,8]\n",
    "l1=list(filter(iseven,l))\n",
    "print(l1)\n",
    "\n",
    "print(\"------using lamda function-----\")\n",
    "\n",
    "l2=[0,3,5,2,6,8,9,8,9]\n",
    "l3=list(filter(lambda x:x%2==0,l))\n",
    "l4=list(filter(lambda x:x%2!=0,l))\n",
    "print(l3)\n",
    "print(l4)\n"
   ]
  },
  {
   "cell_type": "code",
   "execution_count": 13,
   "metadata": {},
   "outputs": [
    {
     "name": "stdout",
     "output_type": "stream",
     "text": [
      "[0, 6, 10, 4, 12, 16, 18, 16, 18]\n",
      "------using lamda function-----\n",
      "[0, 6, 10, 4, 12, 16, 18, 16, 18]\n"
     ]
    }
   ],
   "source": [
    "# map() function\n",
    "\n",
    "def double(x):\n",
    "    return 2*x\n",
    "l=[0,3,5,2,6,8,9,8,9]\n",
    "l1=list(map(double,l))\n",
    "print(l1)\n",
    "\n",
    "print(\"------using lamda function-----\")\n",
    "\n",
    "l=[0,3,5,2,6,8,9,8,9]\n",
    "l2=list(map(lambda x:2*x,l))\n",
    "print(l2)\n"
   ]
  },
  {
   "cell_type": "code",
   "execution_count": 17,
   "metadata": {},
   "outputs": [
    {
     "name": "stdout",
     "output_type": "stream",
     "text": [
      "[1, 4, 9, 16, 25, 36, 49, 64, 81]\n",
      "------using lamda function-----\n",
      "[1, 4, 9, 16, 25, 36, 49, 64, 81]\n"
     ]
    }
   ],
   "source": [
    "# squares of the numbers using map function\n",
    "\n",
    "def sqr(n):\n",
    "    return n**2\n",
    "l=[1,2,3,4,5,6,7,8,9]\n",
    "l1=list(map(sqr,l))\n",
    "print(l1)\n",
    "\n",
    "print(\"------using lamda function-----\")\n",
    "\n",
    "l=[1,2,3,4,5,6,7,8,9]\n",
    "print(list(map(lambda x:x**2,l)))\n"
   ]
  }
 ],
 "metadata": {
  "kernelspec": {
   "display_name": "Python 3",
   "language": "python",
   "name": "python3"
  },
  "language_info": {
   "codemirror_mode": {
    "name": "ipython",
    "version": 3
   },
   "file_extension": ".py",
   "mimetype": "text/x-python",
   "name": "python",
   "nbconvert_exporter": "python",
   "pygments_lexer": "ipython3",
   "version": "3.11.4"
  },
  "orig_nbformat": 4
 },
 "nbformat": 4,
 "nbformat_minor": 2
}
