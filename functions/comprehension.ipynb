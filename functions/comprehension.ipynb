{
 "cells": [
  {
   "cell_type": "code",
   "execution_count": 8,
   "metadata": {},
   "outputs": [
    {
     "name": "stdout",
     "output_type": "stream",
     "text": [
      "[3, 5, 11, 15]\n",
      "[3, 5, 11, 15]\n"
     ]
    }
   ],
   "source": [
    "l=[[1,2],[2,3],[5,6],[7,8]]\n",
    "l1=[]\n",
    "for i in l:\n",
    "    l1+=[sum(i)]\n",
    "print(l1)\n",
    "\n",
    "x=[sum(i) for i in l]\n",
    "print(x)\n"
   ]
  },
  {
   "cell_type": "code",
   "execution_count": 14,
   "metadata": {},
   "outputs": [
    {
     "name": "stdout",
     "output_type": "stream",
     "text": [
      "[1, 2, 2, 3, 5, 6, 7, 8]\n",
      "[1, 2, 2, 3, 5, 6, 7, 8]\n"
     ]
    }
   ],
   "source": [
    "l=[[1,2],[2,3],[5,6],[7,8]]\n",
    "l1=[]\n",
    "for i in l:\n",
    "    for j in i:\n",
    "        l1+=[j]\n",
    "print(l1)\n",
    "\n",
    "x=[j for i in l for j in i]\n",
    "print(x)"
   ]
  },
  {
   "cell_type": "code",
   "execution_count": 20,
   "metadata": {},
   "outputs": [
    {
     "name": "stdout",
     "output_type": "stream",
     "text": [
      "['apple', 'bat', 'cat', 'MONKEY', 'FOUR', 'DOGS', 'egg']\n"
     ]
    }
   ],
   "source": [
    "l=[\"apple\",\"bat\"],[\"cat\",\"monkey\",\"four\"],[\"dogs\",\"egg\"]\n",
    "x=[j.upper() if len(j)%2==0 else j.lower() for i in l for j in i]\n",
    "print(x)"
   ]
  },
  {
   "cell_type": "code",
   "execution_count": 21,
   "metadata": {},
   "outputs": [
    {
     "name": "stdout",
     "output_type": "stream",
     "text": [
      "['apple', 'bat', 'cat', 'MONKEY', 'FOUR', 'DOGS', 'egg']\n"
     ]
    }
   ],
   "source": [
    "l=[\"apple\",\"bat\"],[\"cat\",\"monkey\",\"four\"],[\"dogs\",\"egg\"]\n",
    "x=[[j.lower(),j.upper()][len(j)%2==0] for i in l for j in i]\n",
    "print(x)"
   ]
  },
  {
   "cell_type": "code",
   "execution_count": 23,
   "metadata": {},
   "outputs": [
    {
     "name": "stdout",
     "output_type": "stream",
     "text": [
      "['apple', 'Bat', 'Cat', 'MONKEY', 'Four', 'Dogs', 'Egg']\n"
     ]
    }
   ],
   "source": [
    "l=[\"apple\",\"bat\"],[\"cat\",\"monkey\",\"four\"],[\"dogs\",\"egg\"]\n",
    "x=[[[j.lower(),j.title()][len(j)==3],[j.upper(),j.capitalize()][len(j)==4]][len(j)%2==0] for i in l for j in i]\n",
    "print(x)"
   ]
  },
  {
   "cell_type": "code",
   "execution_count": null,
   "metadata": {},
   "outputs": [],
   "source": [
    "#wap to genatare strong numbers\n",
    "\n",
    "n="
   ]
  }
 ],
 "metadata": {
  "kernelspec": {
   "display_name": "Python 3",
   "language": "python",
   "name": "python3"
  },
  "language_info": {
   "codemirror_mode": {
    "name": "ipython",
    "version": 3
   },
   "file_extension": ".py",
   "mimetype": "text/x-python",
   "name": "python",
   "nbconvert_exporter": "python",
   "pygments_lexer": "ipython3",
   "version": "3.11.4"
  }
 },
 "nbformat": 4,
 "nbformat_minor": 2
}
