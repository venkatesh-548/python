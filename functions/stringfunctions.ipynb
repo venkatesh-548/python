{
 "cells": [
  {
   "cell_type": "code",
   "execution_count": 12,
   "metadata": {},
   "outputs": [
    {
     "name": "stdout",
     "output_type": "stream",
     "text": [
      "Hello world@123\n",
      "Hello world python\n"
     ]
    }
   ],
   "source": [
    "#1 wap to capitilise the given word\n",
    "\n",
    "def capitilise(st,res=\"\"):\n",
    "    if \"a\"<=st[0]<=\"z\":\n",
    "        res+=chr(ord(st[0])-32)\n",
    "    else:\n",
    "        res+=st[0]\n",
    "    for i in range(1,len(st)):\n",
    "        if \"A\"<=st[i]<=\"Z\":\n",
    "            res+=chr(ord(st[i])+32)\n",
    "        else:\n",
    "            res+=st[i]\n",
    "    return res\n",
    "t=capitilise(\"hEllo worlD@123\")\n",
    "print(t)\n",
    "print(capitilise(\"hello world PYTHON\"))"
   ]
  },
  {
   "cell_type": "code",
   "execution_count": 3,
   "metadata": {},
   "outputs": [
    {
     "name": "stdout",
     "output_type": "stream",
     "text": [
      "Hello World@Python123Give H\n"
     ]
    }
   ],
   "source": [
    "# wap to title case\n",
    "def title(st,res=\"\"):\n",
    "    if \"a\"<=st[0]<=\"z\":\n",
    "        res+=chr(ord(st[0])-32)\n",
    "    else:\n",
    "        res+=st[0]\n",
    "    for i in range(1,len(st)):\n",
    "        if (\"a\"<=st[i]<=\"z\" or \"A\"<=st[i]<=\"Z\") and not(\"a\"<=st[i-1]<=\"z\" or \"A\"<=st[i-1]<=\"Z\"):\n",
    "            res+=st[i].upper()\n",
    "        else:\n",
    "            res+=st[i]\n",
    "    return res\n",
    "print(title(\"hello world@python123give h\"))"
   ]
  },
  {
   "cell_type": "code",
   "execution_count": 56,
   "metadata": {},
   "outputs": [
    {
     "data": {
      "text/plain": [
       "True"
      ]
     },
     "execution_count": 56,
     "metadata": {},
     "output_type": "execute_result"
    }
   ],
   "source": [
    "# wap to to check the given char is upper\n",
    "x=\"HELL_O\"\n",
    "def is_upper(st):\n",
    "    res=0\n",
    "    for i in st:\n",
    "        if \"a\"<=i<=\"z\":\n",
    "            res+=1\n",
    "        else:\n",
    "            pass\n",
    "    if res==0:\n",
    "        return True\n",
    "    return False\n",
    "is_upper(x)"
   ]
  },
  {
   "cell_type": "code",
   "execution_count": 54,
   "metadata": {},
   "outputs": [
    {
     "data": {
      "text/plain": [
       "True"
      ]
     },
     "execution_count": 54,
     "metadata": {},
     "output_type": "execute_result"
    }
   ],
   "source": [
    "# wap to to check the given char is lower\n",
    "\n",
    "x=\"hello-a \"\n",
    "def is_lower(st):\n",
    "    res=0\n",
    "    for i in st:\n",
    "        if \"A\"<=i<=\"Z\":\n",
    "            res+=1\n",
    "        else:\n",
    "            pass\n",
    "    if res==0:\n",
    "        return True\n",
    "    return False\n",
    "is_lower(x)"
   ]
  },
  {
   "cell_type": "code",
   "execution_count": 29,
   "metadata": {},
   "outputs": [
    {
     "data": {
      "text/plain": [
       "'HELLO world 123@ PYthon'"
      ]
     },
     "execution_count": 29,
     "metadata": {},
     "output_type": "execute_result"
    }
   ],
   "source": [
    "#swapcase\n",
    "st=\"hello WORLD 123@ pyTHON\"\n",
    "def swapcase(coll):\n",
    "    res=\"\"\n",
    "    for i in coll:\n",
    "        if \"A\"<=i<=\"Z\":\n",
    "            res+=chr(ord(i)+32)\n",
    "        elif \"a\"<=i<=\"z\":\n",
    "            res+=chr(ord(i)-32)\n",
    "        else:\n",
    "            res+=i\n",
    "    return res\n",
    "swapcase(st)"
   ]
  },
  {
   "cell_type": "code",
   "execution_count": 38,
   "metadata": {},
   "outputs": [
    {
     "name": "stdout",
     "output_type": "stream",
     "text": [
      "False\n",
      "False\n"
     ]
    }
   ],
   "source": [
    "#is_alnum\n",
    "st=\"123ABC123\"\n",
    "print(st.isalnum())\n",
    "\n",
    "def is_alnum(st):\n",
    "    for i in st:\n",
    "        if not(\"A\"<=i<=\"Z\" or \"a\"<=i<=\"z\" or \"0\"<=i<=\"9\"):\n",
    "            return False\n",
    "    return True\n",
    "print(is_alnum(st))"
   ]
  },
  {
   "cell_type": "code",
   "execution_count": 66,
   "metadata": {},
   "outputs": [
    {
     "name": "stdout",
     "output_type": "stream",
     "text": [
      "False\n",
      "False\n"
     ]
    }
   ],
   "source": [
    "\n",
    "st=\"7246512\"\n",
    "print(st.isdecimal())\n",
    "def is_decimal(st):\n",
    "    res=0\n",
    "    for i in st:\n",
    "        if \"0\"<=i<=\"9\":\n",
    "            pass\n",
    "        else:\n",
    "            res+=1\n",
    "    # print(res)\n",
    "    if res==0:\n",
    "        return True\n",
    "    return False   \n",
    "print(is_decimal(st))"
   ]
  },
  {
   "cell_type": "code",
   "execution_count": 62,
   "metadata": {},
   "outputs": [
    {
     "name": "stdout",
     "output_type": "stream",
     "text": [
      "False\n",
      "False\n"
     ]
    }
   ],
   "source": [
    "#'isalpha'\n",
    "st=\"helloworld\"\n",
    "print(st.isalpha())\n",
    "\n",
    "def is_alpha(st,res=0):\n",
    "    for i in st:\n",
    "        if \"A\"<=i<=\"Z\" or \"a\"<=i<=\"z\":\n",
    "            pass\n",
    "        else:\n",
    "            res+=1\n",
    "    if res==0:\n",
    "        return True\n",
    "    return False\n",
    "print(is_alpha(st))"
   ]
  },
  {
   "cell_type": "code",
   "execution_count": 72,
   "metadata": {},
   "outputs": [
    {
     "name": "stdout",
     "output_type": "stream",
     "text": [
      "True\n",
      "True\n"
     ]
    }
   ],
   "source": [
    "#'isdigit'\n",
    "st=\"4536732645\"\n",
    "print(st.isdigit())\n",
    "\n",
    "def is_digit(st,res=0):\n",
    "    for i in st:\n",
    "        if \"0\"<=i<=\"9\":\n",
    "            pass\n",
    "        else:\n",
    "            res+=1\n",
    "    if res==0:\n",
    "        return True\n",
    "    return False\n",
    "print(is_digit(st))"
   ]
  },
  {
   "cell_type": "code",
   "execution_count": 80,
   "metadata": {},
   "outputs": [
    {
     "name": "stdout",
     "output_type": "stream",
     "text": [
      "False\n",
      "False\n"
     ]
    }
   ],
   "source": [
    "# isspace\n",
    "\n",
    "st=\" abc \"\n",
    "print(st.isspace())\n",
    "def is_space(st,res=0):\n",
    "    for i in st:\n",
    "        if i==\" \":\n",
    "            pass\n",
    "        else:\n",
    "            res+=1\n",
    "    if res==0:\n",
    "        return True\n",
    "    return False\n",
    "print(is_space(st))"
   ]
  },
  {
   "cell_type": "code",
   "execution_count": 91,
   "metadata": {},
   "outputs": [
    {
     "name": "stdout",
     "output_type": "stream",
     "text": [
      "True\n",
      "hi\n",
      "1\n",
      "2\n",
      "3\n",
      "4\n",
      "5\n",
      "hello\n",
      "5\n",
      "6\n",
      "7\n",
      "8\n",
      "9\n",
      "10\n",
      "hello\n",
      "10\n",
      "11\n",
      "12\n",
      "13\n",
      "False\n"
     ]
    }
   ],
   "source": [
    "# is title()\n",
    "\n",
    "st=\"Hello World4Cup\"\n",
    "print(st.istitle())\n",
    "\n",
    "def is_title(st,res=0):\n",
    "    if \"A\"<=st[0]<=\"Z\":\n",
    "        print(\"hi\")\n",
    "        for i in range(0,len(st)):\n",
    "            if not(\"A\"<=st[i]<=\"Z\" or \"a\"<=st[i]<=\"z\")and(\"A\"<=st[i+1]<=\"Z\"):\n",
    "                print(\"hello\")\n",
    "                pass\n",
    "            else:\n",
    "                res+=1\n",
    "            print(res)\n",
    "            if res==0:\n",
    "                return True\n",
    "    return False\n",
    "print(is_title(st))"
   ]
  },
  {
   "cell_type": "code",
   "execution_count": 5,
   "metadata": {},
   "outputs": [
    {
     "name": "stdout",
     "output_type": "stream",
     "text": [
      "hello world\n"
     ]
    }
   ],
   "source": [
    "#join method()\n",
    "\n",
    "st=[\"h\",\"e\",\"l\",\"l\",\"o\",\" \",\"w\",\"o\",\"r\",\"l\",\"d\"]\n",
    "print(\"\".join(st))"
   ]
  },
  {
   "cell_type": "code",
   "execution_count": 57,
   "metadata": {},
   "outputs": [
    {
     "name": "stdout",
     "output_type": "stream",
     "text": [
      "hello world\n"
     ]
    }
   ],
   "source": [
    "#join method\n",
    "st=[\"h\",\"e\",\"l\",\"l\",\"o\",\" \",\"w\",\"o\",\"r\",\"l\",\"d\"]\n",
    "\n",
    "def join(st,sep=\"\"):\n",
    "    for i in st:\n",
    "        if type(i)!=str:\n",
    "            return False\n",
    "        else:\n",
    "            res=\"\"\n",
    "            for i in st:\n",
    "                res=res+i+sep\n",
    "    return res\n",
    "print(join(st))\n",
    "                \n"
   ]
  },
  {
   "cell_type": "code",
   "execution_count": 14,
   "metadata": {},
   "outputs": [
    {
     "name": "stdout",
     "output_type": "stream",
     "text": [
      "1\n"
     ]
    }
   ],
   "source": [
    "#count()\n",
    "st=\"hello world\"\n",
    "print(st.count(\"l\",3,6))"
   ]
  },
  {
   "cell_type": "code",
   "execution_count": 13,
   "metadata": {},
   "outputs": [
    {
     "name": "stdout",
     "output_type": "stream",
     "text": [
      "1\n"
     ]
    }
   ],
   "source": [
    "st=\"hello world\"\n",
    "\n",
    "def count(st,ele,start=0,end=None):\n",
    "    if end==None:\n",
    "        end=len(st)\n",
    "    count=0\n",
    "    for i in range(start,end):\n",
    "        if st[i]==ele:\n",
    "            count+=1\n",
    "    return count\n",
    "print(count(st,\"l\",3,6))"
   ]
  },
  {
   "cell_type": "code",
   "execution_count": 23,
   "metadata": {},
   "outputs": [
    {
     "name": "stdout",
     "output_type": "stream",
     "text": [
      "-1\n",
      "-1\n"
     ]
    }
   ],
   "source": [
    "#find()\n",
    "st=\"hello world\"\n",
    "print(st.find(\"l\",4,8))\n",
    "\n",
    "def find(st,ele,start=0,end=None):\n",
    "    if end==None:\n",
    "        end=len(st)\n",
    "    if ele not in st:\n",
    "        return -1\n",
    "    for i in range(start,end):\n",
    "        if st[i]==ele:\n",
    "            return i\n",
    "    return -1\n",
    "print(find(st,\"f\",4,8))"
   ]
  },
  {
   "cell_type": "code",
   "execution_count": 53,
   "metadata": {},
   "outputs": [
    {
     "name": "stdout",
     "output_type": "stream",
     "text": [
      "2\n",
      "3\n"
     ]
    }
   ],
   "source": [
    "# rfind()\n",
    "st=\"hello world\"\n",
    "print(st.rfind(\"l\",1,3))\n",
    "\n",
    "def r_find(st,ele,start=0,end=None):\n",
    "    if end==None:\n",
    "        end=len(st)-1\n",
    "    for i in range(end,start,-1):\n",
    "        if st[i]==ele:\n",
    "            return end\n",
    "    return -1\n",
    "print(r_find(st,\"l\",1,3))   "
   ]
  },
  {
   "cell_type": "code",
   "execution_count": 38,
   "metadata": {},
   "outputs": [
    {
     "name": "stdout",
     "output_type": "stream",
     "text": [
      "5\n",
      "False\n"
     ]
    }
   ],
   "source": [
    "# index()\n",
    "st=\"python programme\"\n",
    "print(st.index(\"n\",3))\n",
    "\n",
    "def index(st,ele,start,end=None):\n",
    "    if end==None:\n",
    "        end=len(st)\n",
    "    if ele not in st:\n",
    "        return False\n",
    "    for i in range(start,end):\n",
    "        if st[i]==ele:\n",
    "            return i\n",
    "    return False\n",
    "print(index(st,\"n\",7))"
   ]
  },
  {
   "cell_type": "code",
   "execution_count": 45,
   "metadata": {},
   "outputs": [
    {
     "name": "stdout",
     "output_type": "stream",
     "text": [
      "5\n",
      "5\n"
     ]
    }
   ],
   "source": [
    "#rindex()\n",
    "st=\"python programme\"\n",
    "print(st.rindex(\"n\",1,8))\n",
    "def r_index(st,ele,start=0,end=None):\n",
    "    if end==None:\n",
    "        end=len(st)-1\n",
    "    if ele not in st:\n",
    "        return False\n",
    "    for i in range(end,start,-1):\n",
    "        if st[i]==ele:\n",
    "            return i\n",
    "    return False\n",
    "print(r_index(st,\"n\",1,8))"
   ]
  },
  {
   "cell_type": "code",
   "execution_count": 57,
   "metadata": {},
   "outputs": [
    {
     "data": {
      "text/plain": [
       "['__add__',\n",
       " '__class__',\n",
       " '__contains__',\n",
       " '__delattr__',\n",
       " '__dir__',\n",
       " '__doc__',\n",
       " '__eq__',\n",
       " '__format__',\n",
       " '__ge__',\n",
       " '__getattribute__',\n",
       " '__getitem__',\n",
       " '__getnewargs__',\n",
       " '__getstate__',\n",
       " '__gt__',\n",
       " '__hash__',\n",
       " '__init__',\n",
       " '__init_subclass__',\n",
       " '__iter__',\n",
       " '__le__',\n",
       " '__len__',\n",
       " '__lt__',\n",
       " '__mod__',\n",
       " '__mul__',\n",
       " '__ne__',\n",
       " '__new__',\n",
       " '__reduce__',\n",
       " '__reduce_ex__',\n",
       " '__repr__',\n",
       " '__rmod__',\n",
       " '__rmul__',\n",
       " '__setattr__',\n",
       " '__sizeof__',\n",
       " '__str__',\n",
       " '__subclasshook__',\n",
       " 'capitalize',\n",
       " 'casefold',\n",
       " 'center',\n",
       " 'count',\n",
       " 'encode',\n",
       " 'endswith',\n",
       " 'expandtabs',\n",
       " 'find',\n",
       " 'format',\n",
       " 'format_map',\n",
       " 'index',\n",
       " 'isalnum',\n",
       " 'isalpha',\n",
       " 'isascii',\n",
       " 'isdecimal',\n",
       " 'isdigit',\n",
       " 'isidentifier',\n",
       " 'islower',\n",
       " 'isnumeric',\n",
       " 'isprintable',\n",
       " 'isspace',\n",
       " 'istitle',\n",
       " 'isupper',\n",
       " 'join',\n",
       " 'ljust',\n",
       " 'lower',\n",
       " 'lstrip',\n",
       " 'maketrans',\n",
       " 'partition',\n",
       " 'removeprefix',\n",
       " 'removesuffix',\n",
       " 'replace',\n",
       " 'rfind',\n",
       " 'rindex',\n",
       " 'rjust',\n",
       " 'rpartition',\n",
       " 'rsplit',\n",
       " 'rstrip',\n",
       " 'split',\n",
       " 'splitlines',\n",
       " 'startswith',\n",
       " 'strip',\n",
       " 'swapcase',\n",
       " 'title',\n",
       " 'translate',\n",
       " 'upper',\n",
       " 'zfill']"
      ]
     },
     "execution_count": 57,
     "metadata": {},
     "output_type": "execute_result"
    }
   ],
   "source": [
    "dir(str)"
   ]
  },
  {
   "cell_type": "code",
   "execution_count": 23,
   "metadata": {},
   "outputs": [
    {
     "name": "stdout",
     "output_type": "stream",
     "text": [
      "False\n",
      "False\n"
     ]
    }
   ],
   "source": [
    "#startswith()\n",
    "\n",
    "st=\"hai hello world\"  \n",
    "print(st.startswith(\"ai  \",1))\n",
    "\n",
    "def startswith(st,sub,start=0,end=None):\n",
    "    if end==None:\n",
    "        end=start+len(sub)\n",
    "    if sub not in st:\n",
    "        return False\n",
    "    for i in range(start,end):\n",
    "        if st[i]!=sub[i]:\n",
    "            return False\n",
    "    return True\n",
    "print(st.startswith(\"ai  \",1,5))\n"
   ]
  },
  {
   "cell_type": "code",
   "execution_count": 3,
   "metadata": {},
   "outputs": [
    {
     "name": "stdout",
     "output_type": "stream",
     "text": [
      "True\n",
      "\n",
      "None\n"
     ]
    }
   ],
   "source": [
    "#ends with()\n",
    "str=\"hai hello world\"  \n",
    "print(str.endswith(\" world\"))\n",
    "\n",
    "def endswith(coll,sub,start=0,end=None):\n",
    "    st=\"\"\n",
    "    if end==None:\n",
    "        end=len(st)\n",
    "    while start<end:\n",
    "        st+=coll[start]\n",
    "        start+=1\n",
    "    print(st)\n",
    "    # return True\n",
    "print(endswith(str,\" world\"))\n"
   ]
  },
  {
   "cell_type": "code",
   "execution_count": 5,
   "metadata": {},
   "outputs": [
    {
     "data": {
      "text/plain": [
       "'monday is a holiday monday is enjoying day in sun'"
      ]
     },
     "execution_count": 5,
     "metadata": {},
     "output_type": "execute_result"
    }
   ],
   "source": [
    "st=\"sunday is a holiday sunday is enjoying day in sun\"\n",
    "st.replace(\"sun\",\"mon\",2)"
   ]
  },
  {
   "cell_type": "code",
   "execution_count": 8,
   "metadata": {},
   "outputs": [
    {
     "name": "stdout",
     "output_type": "stream",
     "text": [
      "munday im a holiday sunday is enjoying day in sun\n"
     ]
    }
   ],
   "source": [
    "#wap to replace the specific character\n",
    "\n",
    "st=\"sunday is a holiday sunday is enjoying day in sun\"\n",
    "def replace(coll,old,new,count=None,res=\"\"):\n",
    "    if count==None:\n",
    "        count=len(coll)\n",
    "    co=0\n",
    "    for i in coll:\n",
    "        if i==old and co<count:\n",
    "            res+=new\n",
    "            co+=1\n",
    "        else:\n",
    "            res+=i\n",
    "    return res\n",
    "print(replace(st,\"s\",\"m\",2))"
   ]
  },
  {
   "cell_type": "code",
   "execution_count": 10,
   "metadata": {},
   "outputs": [
    {
     "name": "stdout",
     "output_type": "stream",
     "text": [
      "monday is a holiday monday is enjoying day in mon\n"
     ]
    }
   ],
   "source": [
    "#wap to replace the specific string\n",
    "\n",
    "st=\"sunday is a holiday sunday is enjoying day in sun\"\n",
    "def replace(coll,old,new,count=None,res=\"\"):\n",
    "    if count==None:\n",
    "        count=len(coll)\n",
    "    start=0\n",
    "    while start<len(coll):\n",
    "        if coll[start]==old[0]:\n",
    "            if old==coll[start:start+len(old)]:\n",
    "                coll=coll[0:start]+new+coll[start+len(old):]\n",
    "        start+=1\n",
    "\n",
    "    return coll\n",
    "print(replace(st,\"sun\",\"mon\"))"
   ]
  },
  {
   "cell_type": "code",
   "execution_count": 23,
   "metadata": {},
   "outputs": [
    {
     "name": "stdout",
     "output_type": "stream",
     "text": [
      "monday is a holiday monday is enjoying day in sun\n"
     ]
    }
   ],
   "source": [
    "#wap to replace the specific str with the count\n",
    "st=\"sunday is a holiday sunday is enjoying day in sun\"\n",
    "def replace(coll,old,new,count=None):\n",
    "    if count==None:\n",
    "        count=len(coll)\n",
    "    co=-1\n",
    "    for i in range(0,len(coll)):\n",
    "        if coll[i]==old[0]:\n",
    "            if old==coll[i:i+len(old)] and co<count:\n",
    "                coll=coll[0:i]+new+coll[i+len(old):]\n",
    "            co+=1\n",
    "\n",
    "    return coll\n",
    "print(replace(st,\"sun\",\"mon\",2))\n"
   ]
  },
  {
   "cell_type": "code",
   "execution_count": 27,
   "metadata": {},
   "outputs": [
    {
     "data": {
      "text/plain": [
       "'wednesday is a holiday wednesday is enjoying day in sun'"
      ]
     },
     "execution_count": 27,
     "metadata": {},
     "output_type": "execute_result"
    }
   ],
   "source": [
    "#wap to replace the string at specific occurance\n",
    "\n",
    "st=\"sunday is a holiday sunday is enjoying day in sun\"\n",
    "def replace_occur(coll,old,new,occur=None):\n",
    "    if occur==None:\n",
    "        occur=len(coll)\n",
    "    for i in range(0,len(coll)):\n",
    "        if coll[i]==old[0]:\n",
    "            if old==coll[i:i+len(old)]:\n",
    "                coll=coll[0:i]+new+coll[i+len(old):]\n",
    "    return coll\n",
    "replace_occur(st,\"sun\",\"wednes\",3)\n"
   ]
  },
  {
   "cell_type": "code",
   "execution_count": 3,
   "metadata": {},
   "outputs": [
    {
     "name": "stdout",
     "output_type": "stream",
     "text": [
      "insta.com\n"
     ]
    },
    {
     "data": {
      "text/plain": [
       "'insta.com'"
      ]
     },
     "execution_count": 3,
     "metadata": {},
     "output_type": "execute_result"
    }
   ],
   "source": [
    "#remove prefix\n",
    "\n",
    "st=\"www.insta.com\"\n",
    "print(st.removeprefix(\"www.\"))\n",
    "\n",
    "def removeprefix(coll,ele):\n",
    "    if ele not in coll:\n",
    "        return coll\n",
    "    return coll[len(ele):]\n",
    "removeprefix(st,\"www.\")"
   ]
  },
  {
   "cell_type": "code",
   "execution_count": 23,
   "metadata": {},
   "outputs": [
    {
     "name": "stdout",
     "output_type": "stream",
     "text": [
      "www.insta.c\n",
      "www.insta.\n"
     ]
    }
   ],
   "source": [
    "#removesuffix\n",
    "\n",
    "st=\"www.insta.com\"\n",
    "print(st.removesuffix(\"om\"))\n",
    "\n",
    "def removesuffix(coll,ele):\n",
    "    if ele not in coll:\n",
    "        return coll\n",
    "    return coll[0:len(coll)-len(ele)]\n",
    "print(removesuffix(st,\"com\"))"
   ]
  },
  {
   "cell_type": "code",
   "execution_count": 25,
   "metadata": {},
   "outputs": [
    {
     "name": "stdout",
     "output_type": "stream",
     "text": [
      "www.insta.c\n",
      "www.insta.\n"
     ]
    }
   ],
   "source": [
    "st=\"www.insta.com\"\n",
    "print(st.removesuffix(\"om\"))\n",
    "\n",
    "def removesuffix(coll,ele):\n",
    "    if ele not in coll:\n",
    "        return coll\n",
    "    res=\"\"\n",
    "    for i in range(0,len(coll)-len(ele)):\n",
    "        res+=coll[i]\n",
    "    return res\n",
    "print(removesuffix(st,\"com\"))"
   ]
  },
  {
   "cell_type": "code",
   "execution_count": 3,
   "metadata": {},
   "outputs": [
    {
     "name": "stdout",
     "output_type": "stream",
     "text": [
      " hello world  \n",
      " hello world  \n"
     ]
    }
   ],
   "source": [
    "#lstrip()\n",
    "\n",
    "st=\"h hello world  \"\n",
    "print(st.lstrip('h'))\n",
    "\n",
    "def lstrip(coll,ele=[\" \",\"\\n\",\"\\t\",\"\\f\",\"\\r\"]):\n",
    "    res=\"\"\n",
    "    for i in range(len(coll)):\n",
    "        if coll[i] in ele:\n",
    "            res+=\"\"\n",
    "        else:\n",
    "            res+=coll[i:]\n",
    "            break\n",
    "    return res\n",
    "print(lstrip(st,\"h\"))"
   ]
  },
  {
   "cell_type": "code",
   "execution_count": 4,
   "metadata": {},
   "outputs": [
    {
     "data": {
      "text/plain": [
       "'  hello world'"
      ]
     },
     "execution_count": 4,
     "metadata": {},
     "output_type": "execute_result"
    }
   ],
   "source": [
    "# rstrip()\n",
    "st=\"  hello world         \"\n",
    "def rstrip(coll,ele=[\" \",\"\\n\",\"\\t\",\"\\f\",\"\\r\"]):\n",
    "    for i in range(len(coll)-1,-1,-1):\n",
    "        res=\"\"\n",
    "        if coll[i] in ele:\n",
    "            res=\"\"\n",
    "        else:\n",
    "            res+=coll[:i+1]\n",
    "            break\n",
    "    return res\n",
    "rstrip(st,\" \")\n",
    "\n",
    "\n",
    "\n"
   ]
  },
  {
   "cell_type": "code",
   "execution_count": 35,
   "metadata": {},
   "outputs": [
    {
     "data": {
      "text/plain": [
       "'hello'"
      ]
     },
     "execution_count": 35,
     "metadata": {},
     "output_type": "execute_result"
    }
   ],
   "source": [
    "#strip()\n",
    "s=\"      hello    \"\n",
    "s.strip(\" \\t\")\n",
    "\n",
    "def strip(coll,ele=[\" \",\"\\n\",\"\\t\",\"\\r\",\"\\f\"]):\n",
    "    for i in range(0,len(coll)):\n",
    "        res=\"\"\n",
    "        if coll[i] in ele:\n",
    "            res=\"\"\n",
    "        else:\n",
    "            res=\n",
    "        \n",
    "    "
   ]
  },
  {
   "cell_type": "code",
   "execution_count": 11,
   "metadata": {},
   "outputs": [
    {
     "data": {
      "text/plain": [
       "'hello*****'"
      ]
     },
     "execution_count": 11,
     "metadata": {},
     "output_type": "execute_result"
    }
   ],
   "source": [
    "#ljust()\n",
    "st=\"hello\"\n",
    "def ljust(coll,width,fillchar):\n",
    "    res=\"\"\n",
    "    for i in coll:\n",
    "        res=coll+(width-len(coll))*fillchar\n",
    "    return res\n",
    "ljust(st,10,\"*\")\n"
   ]
  },
  {
   "cell_type": "code",
   "execution_count": 12,
   "metadata": {},
   "outputs": [
    {
     "data": {
      "text/plain": [
       "'$$$$$hello'"
      ]
     },
     "execution_count": 12,
     "metadata": {},
     "output_type": "execute_result"
    }
   ],
   "source": [
    "#rjust()\n",
    "st=\"hello\"\n",
    "def rjust(coll,width,fillchar):\n",
    "    res=\"\"\n",
    "    for i in coll:\n",
    "        res=fillchar*(width-len(coll))+coll\n",
    "    return res\n",
    "rjust(st,10,\"$\")"
   ]
  },
  {
   "cell_type": "code",
   "execution_count": 31,
   "metadata": {},
   "outputs": [
    {
     "data": {
      "text/plain": [
       "'**hell0***'"
      ]
     },
     "execution_count": 31,
     "metadata": {},
     "output_type": "execute_result"
    }
   ],
   "source": [
    "st=\"hell0\"\n",
    "st.center(10,\"*\")"
   ]
  },
  {
   "cell_type": "code",
   "execution_count": 30,
   "metadata": {},
   "outputs": [
    {
     "data": {
      "text/plain": [
       "'##hello###'"
      ]
     },
     "execution_count": 30,
     "metadata": {},
     "output_type": "execute_result"
    }
   ],
   "source": [
    "#center()\n",
    "import math\n",
    "def center(coll,width,fillchar):\n",
    "    res=\"\"\n",
    "    for i in coll:\n",
    "        res=fillchar*math.floor((width-len(coll))/2)+coll+fillchar*math.ceil((width-len(coll))/2)\n",
    "    return res\n",
    "center(\"hello\",10,\"#\")\n"
   ]
  },
  {
   "cell_type": "markdown",
   "metadata": {},
   "source": [
    "len() in-built function:\n",
    "\n",
    "We can use len() function to find the number of characters present in the string.\n",
    "Eg:\n",
    "s='durga'\n",
    "print(len(s)) #"
   ]
  },
  {
   "cell_type": "code",
   "execution_count": 1,
   "metadata": {},
   "outputs": [
    {
     "name": "stdout",
     "output_type": "stream",
     "text": [
      "11\n"
     ]
    },
    {
     "data": {
      "text/plain": [
       "11"
      ]
     },
     "execution_count": 1,
     "metadata": {},
     "output_type": "execute_result"
    }
   ],
   "source": [
    "s=\"hello world\"\n",
    "print(len(s))\n",
    "\n",
    "def count(st):\n",
    "    coun=0\n",
    "    for i in st:\n",
    "        coun+=1\n",
    "    return coun\n",
    "count(\"hello world\")\n"
   ]
  },
  {
   "cell_type": "markdown",
   "metadata": {},
   "source": [
    "Removing spaces from the string:\n",
    "We can use the following 3 methods\n",
    "1. rstrip()===>To remove spaces at right hand side\n",
    "2. lstrip()===>To remove spaces at left hand side\n",
    "3. strip() ==>To remove spaces both sides"
   ]
  },
  {
   "cell_type": "code",
   "execution_count": 6,
   "metadata": {},
   "outputs": [
    {
     "name": "stdout",
     "output_type": "stream",
     "text": [
      "hello\n",
      "hello   \n",
      "    hello\n"
     ]
    }
   ],
   "source": [
    "s=\"    hello   \"\n",
    "print(s.strip())\n",
    "\n",
    "print(s.lstrip())\n",
    "\n",
    "print(s.rstrip())"
   ]
  },
  {
   "cell_type": "markdown",
   "metadata": {},
   "source": [
    "Finding Substrings:\n",
    "We can use the following 4 methods\n",
    "For forward direction:\n",
    "find()\n",
    "index()\n",
    "For backward direction:\n",
    "rfind()\n",
    "rindex()\n",
    "1. find():\n",
    "s.find(substring)\n",
    "Returns index of first occurrence of the given substring. If it is not available then we will get -1\n",
    "\n",
    "2 index() method:\n",
    "index() method is exactly same as find() method except that if the specified substring is not \n",
    "available then we will get ValueError.\n"
   ]
  },
  {
   "cell_type": "code",
   "execution_count": 20,
   "metadata": {},
   "outputs": [
    {
     "name": "stdout",
     "output_type": "stream",
     "text": [
      "12\n",
      "-1\n",
      "3\n",
      "12\n",
      "10\n"
     ]
    },
    {
     "ename": "ValueError",
     "evalue": "substring not found",
     "output_type": "error",
     "traceback": [
      "\u001b[1;31m---------------------------------------------------------------------------\u001b[0m",
      "\u001b[1;31mValueError\u001b[0m                                Traceback (most recent call last)",
      "\u001b[1;32mc:\\Users\\venka\\Documents\\GitHub\\basic-python1\\python-Qspy\\functions\\stringfunctions.ipynb Cell 43\u001b[0m line \u001b[0;36m8\n\u001b[0;32m      <a href='vscode-notebook-cell:/c%3A/Users/venka/Documents/GitHub/basic-python1/python-Qspy/functions/stringfunctions.ipynb#X61sZmlsZQ%3D%3D?line=5'>6</a>\u001b[0m \u001b[39mprint\u001b[39m(s\u001b[39m.\u001b[39mindex(\u001b[39m\"\u001b[39m\u001b[39mpython\u001b[39m\u001b[39m\"\u001b[39m))\n\u001b[0;32m      <a href='vscode-notebook-cell:/c%3A/Users/venka/Documents/GitHub/basic-python1/python-Qspy/functions/stringfunctions.ipynb#X61sZmlsZQ%3D%3D?line=6'>7</a>\u001b[0m \u001b[39mprint\u001b[39m(s\u001b[39m.\u001b[39mrindex(\u001b[39m\"\u001b[39m\u001b[39md\u001b[39m\u001b[39m\"\u001b[39m))\n\u001b[1;32m----> <a href='vscode-notebook-cell:/c%3A/Users/venka/Documents/GitHub/basic-python1/python-Qspy/functions/stringfunctions.ipynb#X61sZmlsZQ%3D%3D?line=7'>8</a>\u001b[0m \u001b[39mprint\u001b[39m(s\u001b[39m.\u001b[39;49mindex(\u001b[39m\"\u001b[39;49m\u001b[39mrd\u001b[39;49m\u001b[39m\"\u001b[39;49m))\n",
      "\u001b[1;31mValueError\u001b[0m: substring not found"
     ]
    }
   ],
   "source": [
    "s=\"hello world python\"\n",
    "print(s.find(\"pyt\"))\n",
    "print(s.find(\"le\"))\n",
    "print(s.rfind(\"l\",0,5))\n",
    "\n",
    "print(s.index(\"python\"))\n",
    "print(s.rindex(\"d\"))\n",
    "print(s.index(\"rd\"))"
   ]
  },
  {
   "cell_type": "markdown",
   "metadata": {},
   "source": [
    "Counting substring in the given String:\n",
    "We can find the number of occurrences of substring present in the given string by using count() \n",
    "method.\n",
    "1. s.count(substring) ==> It will search through out the string\n",
    "2. s.count(substring, bEgin, end) ===> It will search from bEgin index to end-1 index"
   ]
  },
  {
   "cell_type": "code",
   "execution_count": 23,
   "metadata": {},
   "outputs": [
    {
     "name": "stdout",
     "output_type": "stream",
     "text": [
      "3\n",
      "1\n",
      "3\n"
     ]
    }
   ],
   "source": [
    "s=\"hello world python\"\n",
    "print(s.count(\"l\"))\n",
    "print(s.count(\"o\",0,5))\n",
    "print(s.count(\"o\"))\n"
   ]
  },
  {
   "cell_type": "markdown",
   "metadata": {},
   "source": [
    "Replacing a string with another string:\n",
    "s.replace(oldstring,newstring)\n",
    "inside s, every occurrence of oldstring will be replaced with newstring"
   ]
  },
  {
   "cell_type": "code",
   "execution_count": 25,
   "metadata": {},
   "outputs": [
    {
     "name": "stdout",
     "output_type": "stream",
     "text": [
      "hello-world-python\n",
      "hell* w*rld pyth*n\n"
     ]
    }
   ],
   "source": [
    "s=\"hello world python\"\n",
    "print(s.replace(\" \",\"-\"))\n",
    "print(s.replace(\"o\",\"*\"))"
   ]
  },
  {
   "cell_type": "markdown",
   "metadata": {},
   "source": [
    "Splitting of Strings:\n",
    "We can split the given string according to specified seperator by using split() method.\n",
    "l=s.split(seperator)\n",
    "The default seperator is space. The return type of split() method is List"
   ]
  },
  {
   "cell_type": "code",
   "execution_count": 27,
   "metadata": {},
   "outputs": [
    {
     "name": "stdout",
     "output_type": "stream",
     "text": [
      "['hai', 'hello', 'how', 'are', 'you']\n",
      "['', 'ai ', 'ello ', 'ow are you']\n"
     ]
    }
   ],
   "source": [
    "s=\"hai hello how are you\"\n",
    "print(s.split())\n",
    "print(s.split(\"h\"))"
   ]
  },
  {
   "cell_type": "markdown",
   "metadata": {},
   "source": [
    "Joining of Strings:\n",
    "We can join a group of strings(list or tuple) wrt the given seperator.\n",
    "s=seperator.join(group of strings)"
   ]
  },
  {
   "cell_type": "code",
   "execution_count": 30,
   "metadata": {},
   "outputs": [
    {
     "name": "stdout",
     "output_type": "stream",
     "text": [
      "hai hello how are you\n",
      "hai-hello-how-are-you\n",
      "hai hello how are you\n"
     ]
    }
   ],
   "source": [
    "s=['hai', 'hello', 'how', 'are', 'you']\n",
    "s1=\" \".join(s)\n",
    "print(s1)\n",
    "s2=\"-\".join(s)\n",
    "print(s2)\n",
    "\n",
    "t=['', 'ai ', 'ello ', 'ow are you']\n",
    "s3=\"h\".join(t)\n",
    "print(s3)"
   ]
  },
  {
   "cell_type": "markdown",
   "metadata": {},
   "source": [
    "Changing case of a String:\n",
    "We can change case of a string by using the following 4 methods.\n",
    "1. upper()===>To convert all characters to upper case\n",
    "2. lower() ===>To convert all characters to lower case\n",
    "3. swapcase()===>converts all lower case characters to upper case and all upper case characters to \n",
    "lower case\n",
    "4. title() ===>To convert all character to title case. i.e first character in every word should be upper \n",
    "case and all remaining characters should be in lower case.\n",
    "5. capitalize() ==>Only first character will be converted to upper case and all remaining characters \n",
    "can be converted to lower case"
   ]
  },
  {
   "cell_type": "code",
   "execution_count": 39,
   "metadata": {},
   "outputs": [
    {
     "name": "stdout",
     "output_type": "stream",
     "text": [
      "hello world python\n",
      "HELLO WORLD PYTHON\n",
      "Hello World Python\n",
      "Hello world python\n",
      "hello world python\n",
      "hELLO wORLd pyThON\n",
      "------Hello WorlD PYtHon------\n"
     ]
    }
   ],
   "source": [
    "s=\"Hello WorlD PYtHon\"\n",
    "print(s.lower())\n",
    "print(s.upper())\n",
    "print(s.title())\n",
    "print(s.capitalize())\n",
    "print(s.casefold())\n",
    "print(s.swapcase())\n",
    "print(s.center(30,\"-\"))"
   ]
  },
  {
   "cell_type": "markdown",
   "metadata": {},
   "source": [
    "Checking starting and ending part of the string:\n",
    "Python contains the following methods for this purpose\n",
    "1. s.startswith(substring)\n",
    "2. s.endswith(substring)"
   ]
  },
  {
   "cell_type": "code",
   "execution_count": 50,
   "metadata": {},
   "outputs": [
    {
     "name": "stdout",
     "output_type": "stream",
     "text": [
      "True\n",
      "False\n",
      "True\n",
      "False\n",
      "True\n",
      "False\n",
      "True\n",
      "False\n"
     ]
    }
   ],
   "source": [
    "s=\"hello world python\"\n",
    "print(s.startswith(\"h\"))\n",
    "print(s.startswith(\"w\"))\n",
    "print(s.startswith(\"p\",12,17))\n",
    "print(s.startswith(\"p\",5,17))\n",
    "\n",
    "print(s.endswith(\"n\"))\n",
    "print(s.endswith(\"d\"))\n",
    "print(s.endswith(\"d\",1,11))\n",
    "print(s.endswith(\"d\",1,15))\n",
    "\n",
    "\n",
    "\n",
    "\n"
   ]
  },
  {
   "cell_type": "markdown",
   "metadata": {},
   "source": [
    "To check type of characters present in a string:\n",
    "Python contains the following methods for this purpose.\n",
    "1) isalnum(): Returns True if all characters are alphanumeric( a to z , A to Z ,0 to9 )\n",
    "2) isalpha(): Returns True if all characters are only alphabet symbols(a to z,A to Z)\n",
    "3) isdigit(): Returns True if all characters are digits only( 0 to 9)\n",
    "4) islower(): Returns True if all characters are lower case alphabet symbols\n",
    "5) isupper(): Returns True if all characters are upper case aplhabet symbols\n",
    "6) istitle(): Returns True if string is in title case\n",
    "7) isspace(): Returns True if string contains only spaces"
   ]
  },
  {
   "cell_type": "code",
   "execution_count": 65,
   "metadata": {},
   "outputs": [
    {
     "name": "stdout",
     "output_type": "stream",
     "text": [
      "True\n",
      "-----venkatesh------\n",
      "True\n",
      "-----venkatesh------\n",
      "True\n",
      "-----venkatesh------\n",
      "True\n",
      "-----venkatesh------\n",
      "True\n"
     ]
    }
   ],
   "source": [
    "s=\"venkatesh\"\n",
    "print(s.islower())\n",
    "print(s.center(20,\"-\"))\n",
    "s1=\"AjscnTFS\"\n",
    "print(s1.isalpha())\n",
    "print(s.center(20,\"-\"))\n",
    "s2=\"venky756\"\n",
    "print(s.isalnum())\n",
    "print(s.center(20,\"-\"))\n",
    "s3=\"3274687\"\n",
    "print(s3.isdigit())\n",
    "print(s.center(20,\"-\"))\n",
    "s4=\"  \"\n",
    "print(s4.isspace())"
   ]
  },
  {
   "cell_type": "code",
   "execution_count": 68,
   "metadata": {},
   "outputs": [
    {
     "name": "stdout",
     "output_type": "stream",
     "text": [
      "venkateshcoin\n",
      "TADDI\n",
      "19548\n",
      "@..*\n"
     ]
    }
   ],
   "source": [
    "#wap to segregate the chars\n",
    "s=\"venkateshTADDI@19548.co.in*\"\n",
    "s1,s2,s3,s4=\"\",\"\",\"\",\"\"\n",
    "for i in s:\n",
    "    if i.islower():\n",
    "        s1+=i\n",
    "    elif i.isupper():\n",
    "        s2+=i\n",
    "    elif i.isdigit():\n",
    "        s3+=i\n",
    "    elif not(i.islower() and i.upper() and i.isdigit()):\n",
    "        s4+=i\n",
    "print(s1)\n",
    "print(s2)\n",
    "print(s3)\n",
    "print(s4)\n",
    "    "
   ]
  },
  {
   "cell_type": "code",
   "execution_count": 77,
   "metadata": {},
   "outputs": [
    {
     "name": "stdout",
     "output_type": "stream",
     "text": [
      "['easy', 'very', 'is', 'python', 'learning']\n",
      "easy very is python learning\n"
     ]
    }
   ],
   "source": [
    "#wap to reverse the words\n",
    "\n",
    "s=\"learning python is very easy\"\n",
    "l=s.split(\" \")[::-1]\n",
    "print(l)\n",
    "l1=\" \".join(l)\n",
    "print(l1)\n"
   ]
  },
  {
   "cell_type": "code",
   "execution_count": 82,
   "metadata": {},
   "outputs": [
    {
     "name": "stdout",
     "output_type": "stream",
     "text": [
      "['easy', 'very', 'is', 'python', 'learning']\n",
      "gninrael nohtyp si yrev ysae\n"
     ]
    }
   ],
   "source": [
    "# Q3. Program to reverse internal content of each word\n",
    "s=\"learning python is very easy\"\n",
    "l=s.split()[::-1]\n",
    "print(l)\n",
    "l1=\" \".join(l)[::-1]\n",
    "print(l1)"
   ]
  }
 ],
 "metadata": {
  "kernelspec": {
   "display_name": "Python 3",
   "language": "python",
   "name": "python3"
  },
  "language_info": {
   "codemirror_mode": {
    "name": "ipython",
    "version": 3
   },
   "file_extension": ".py",
   "mimetype": "text/x-python",
   "name": "python",
   "nbconvert_exporter": "python",
   "pygments_lexer": "ipython3",
   "version": "3.11.4"
  },
  "orig_nbformat": 4
 },
 "nbformat": 4,
 "nbformat_minor": 2
}
