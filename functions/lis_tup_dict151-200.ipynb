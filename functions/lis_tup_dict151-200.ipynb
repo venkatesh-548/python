{
 "cells": [
  {
   "cell_type": "code",
   "execution_count": 6,
   "metadata": {},
   "outputs": [
    {
     "name": "stdout",
     "output_type": "stream",
     "text": [
      "[1, 2, 3, 4, 5, 6, 7, 8, 9, 10, 11, 12, 13, 14, 15, 16, 17, 18, 19, 20, 21, 22, 23, 24, 25, 26, 27, 28, 29, 30, 31, 32, 33, 34, 35, 36, 37, 38, 39, 40, 41, 42, 43, 44, 45, 46, 47, 48, 49]\n",
      "2 3 4 6 8 9 10 12 14 15 16 18 20 21 22 24 26 27 28 30 32 33 34 36 38 39 40 42 44 45 46 48 "
     ]
    }
   ],
   "source": [
    "# 2. WAP To Print all Integers that Are Divisible by Either 2 or 3 and Lie between 1 and 50.\n",
    "\n",
    "\n",
    "l=[i for i in range(1,50)]\n",
    "print(l)\n",
    "for i in l:\n",
    "    if i%2==0 or i%3==0:\n",
    "        print(i,end=\" \")"
   ]
  },
  {
   "cell_type": "code",
   "execution_count": 7,
   "metadata": {},
   "outputs": [
    {
     "name": "stdout",
     "output_type": "stream",
     "text": [
      "[1, 2, 3, 4, 5, 6, 7, 8, 9, 10, 11, 12, 13, 14, 15, 16, 17, 18, 19, 20, 21, 22, 23, 24, 25, 26, 27, 28, 29, 30, 31, 32, 33, 34, 35, 36, 37, 38, 39, 40, 41, 42, 43, 44, 45, 46, 47, 48, 49]\n",
      "1 2 3 4 5 7 8 9 10 11 13 14 15 16 17 19 20 21 22 23 25 26 27 28 29 31 32 33 34 35 37 38 39 40 41 43 44 45 46 47 49 "
     ]
    }
   ],
   "source": [
    "# 3. WAP To Print all Integers that Are not Divisible by Either 2 or 3 and Lie between 1 and 50.\n",
    "\n",
    "l=[i for i in range(1,50)]\n",
    "print(l)\n",
    "for i in l:\n",
    "    if i%2!=0 or i%3!=0:\n",
    "        print(i,end=\" \")"
   ]
  },
  {
   "cell_type": "code",
   "execution_count": 4,
   "metadata": {},
   "outputs": [
    {
     "name": "stdout",
     "output_type": "stream",
     "text": [
      "[2002, 2009, 2016, 2023, 2037, 2044, 2051, 2058, 2072, 2079, 2086, 2093, 2107, 2114, 2121, 2128, 2142, 2149, 2156, 2163, 2177, 2184, 2191, 2198, 2212, 2219, 2226, 2233, 2247, 2254, 2261, 2268, 2282, 2289, 2296, 2303, 2317, 2324, 2331, 2338, 2352, 2359, 2366, 2373, 2387, 2394, 2401, 2408, 2422, 2429, 2436, 2443, 2457, 2464, 2471, 2478, 2492, 2499, 2506, 2513, 2527, 2534, 2541, 2548, 2562, 2569, 2576, 2583, 2597, 2604, 2611, 2618, 2632, 2639, 2646, 2653, 2667, 2674, 2681, 2688, 2702, 2709, 2716, 2723, 2737, 2744, 2751, 2758, 2772, 2779, 2786, 2793, 2807, 2814, 2821, 2828, 2842, 2849, 2856, 2863, 2877, 2884, 2891, 2898, 2912, 2919, 2926, 2933, 2947, 2954, 2961, 2968, 2982, 2989, 2996]\n",
      "[14, 21, 28, 42, 49, 56, 63, 77, 84, 91, 98]\n"
     ]
    }
   ],
   "source": [
    "#4. WAP which will find all such numbers which are divisible by 7 but \n",
    "# are not a multiple of 5, between 2000 and 3200 (both included).\n",
    "# The numbers obtained should be printed in a comma-separated \n",
    "# sequence on a single line\n",
    "\n",
    "def fun(start,end):\n",
    "    l=[]\n",
    "    for i in range(start,end):\n",
    "        if i%7==0 and i%5!=0:\n",
    "            l+=[i]\n",
    "    return l\n",
    "temp=fun(2000,3000)\n",
    "tem=fun(10,100)\n",
    "print(temp)\n",
    "print(tem)\n",
    "\n"
   ]
  },
  {
   "cell_type": "code",
   "execution_count": 8,
   "metadata": {},
   "outputs": [
    {
     "name": "stdout",
     "output_type": "stream",
     "text": [
      "[1, 2, 4, 8, 17, 34, 68, 136]\n"
     ]
    }
   ],
   "source": [
    "#5. WAP To Find and print all the Divisor(factors) of a given Integer number.\n",
    "\n",
    "def fact(n):\n",
    "    l=[]\n",
    "    for i in range(1,n+1):\n",
    "        if n%i==0:\n",
    "            l+=[i]\n",
    "    return l\n",
    "f=fact(136)\n",
    "print(f)\n"
   ]
  },
  {
   "cell_type": "code",
   "execution_count": 9,
   "metadata": {},
   "outputs": [
    {
     "name": "stdout",
     "output_type": "stream",
     "text": [
      "1\n"
     ]
    }
   ],
   "source": [
    "#6. WAP To Find the Smallest Divisor(factors) of a given Integer number\n",
    "\n",
    "def fact(n):\n",
    "    l=[]\n",
    "    for i in range(1,n+1):\n",
    "        if n%i==0:\n",
    "            l+=[i]\n",
    "    return l[0]\n",
    "f=fact(136)\n",
    "print(f)"
   ]
  },
  {
   "cell_type": "code",
   "execution_count": 10,
   "metadata": {},
   "outputs": [
    {
     "name": "stdout",
     "output_type": "stream",
     "text": [
      "136\n"
     ]
    }
   ],
   "source": [
    "#7. WAP To Find the largest Divisor(factors) of a given Integer number.\n",
    "\n",
    "def fact(n):\n",
    "    l=[]\n",
    "    for i in range(1,n+1):\n",
    "        if n%i==0:\n",
    "            l+=[i]\n",
    "    return l[-1]\n",
    "f=fact(136)\n",
    "print(f)"
   ]
  },
  {
   "cell_type": "code",
   "execution_count": 11,
   "metadata": {},
   "outputs": [
    {
     "name": "stdout",
     "output_type": "stream",
     "text": [
      "[2, 4, 8, 34, 68, 136]\n"
     ]
    }
   ],
   "source": [
    "# 8. WAP To Find and print the even Divisor(factors) of a given Integer number.\n",
    "\n",
    "def fact(n):\n",
    "    l=[]\n",
    "    for i in range(1,n+1):\n",
    "        if n%i==0:\n",
    "            if i%2==0:\n",
    "                l+=[i]\n",
    "    return l\n",
    "f=fact(136)\n",
    "print(f)\n"
   ]
  },
  {
   "cell_type": "code",
   "execution_count": 12,
   "metadata": {},
   "outputs": [
    {
     "name": "stdout",
     "output_type": "stream",
     "text": [
      "[1, 17]\n"
     ]
    }
   ],
   "source": [
    "# 9. WAP To Find and print the odd Divisor(factors) of a given Integer number.\n",
    "\n",
    "def fact(n):\n",
    "    l=[]\n",
    "    for i in range(1,n+1):\n",
    "        if n%i==0:\n",
    "            if i%2!=0:\n",
    "                l+=[i]\n",
    "    return l\n",
    "f=fact(136)\n",
    "print(f)\n"
   ]
  },
  {
   "cell_type": "code",
   "execution_count": 4,
   "metadata": {},
   "outputs": [
    {
     "name": "stdout",
     "output_type": "stream",
     "text": [
      "perfect\n",
      "perfect\n",
      "not perfect\n"
     ]
    }
   ],
   "source": [
    "# 12. WAP To Check if a Number is a Perfect Number or not.\n",
    "\n",
    "def num(n):\n",
    "    sum=0\n",
    "    for i in range(1,n):\n",
    "        if n%i==0:\n",
    "            sum+=i\n",
    "    a=[\"not perfect\",\"perfect\"][n==sum]\n",
    "    return a\n",
    "print(num(28))\n",
    "print(num(6))\n",
    "print(num(12))\n"
   ]
  },
  {
   "cell_type": "code",
   "execution_count": 21,
   "metadata": {},
   "outputs": [
    {
     "name": "stdout",
     "output_type": "stream",
     "text": [
      "6 28 496 8128 "
     ]
    }
   ],
   "source": [
    "# 13. WAP To print the series of Perfect Numbers for a given range.\n",
    "\n",
    "def fun(st,end):\n",
    "    for i in range(st,end):\n",
    "        n=i\n",
    "        sum=0\n",
    "        for j in range(1,n):\n",
    "            if n%j==0:\n",
    "                sum+=j\n",
    "        if n==sum:\n",
    "            print(sum,end=\" \")\n",
    "# fun(1,50)\n",
    "fun(1,10000)\n",
    "\n"
   ]
  },
  {
   "cell_type": "code",
   "execution_count": 22,
   "metadata": {},
   "outputs": [
    {
     "name": "stdout",
     "output_type": "stream",
     "text": [
      "6 28 496 "
     ]
    }
   ],
   "source": [
    "#14. WAP To print the series of even Perfect Numbers for a given range\n",
    "\n",
    "def fun(st,end):\n",
    "    for i in range(st,end):\n",
    "        n=i\n",
    "        sum=0\n",
    "        for j in range(1,n):\n",
    "            if n%j==0:\n",
    "                sum+=j\n",
    "        if n==sum:\n",
    "            if sum%2==0:\n",
    "                print(sum,end=\" \")\n",
    "# fun(1,50)\n",
    "fun(1,1000)"
   ]
  },
  {
   "cell_type": "code",
   "execution_count": 1,
   "metadata": {},
   "outputs": [
    {
     "name": "stdout",
     "output_type": "stream",
     "text": [
      "25\n"
     ]
    }
   ],
   "source": [
    "#15. WAP To Find all Numbers in a Range which are Perfect Squares and Sum of all Digits in the Number is Less than 10\n",
    "\n",
    "n=5\n",
    "s=pow(n,2)\n",
    "i=0\n",
    "while s>0:\n",
    "    ld=n%10\n",
    "    if l"
   ]
  },
  {
   "cell_type": "code",
   "execution_count": 2,
   "metadata": {},
   "outputs": [
    {
     "name": "stdout",
     "output_type": "stream",
     "text": [
      "p y t h o n   i s   a   p r o c e d u r a l   r o g r a m m i n g   l a n g u a g e "
     ]
    }
   ],
   "source": [
    "#16. WAP which accepts a string from the user and prints the characters of the given string.\n",
    "\n",
    "s=\"python is a procedural rogramming language\"\n",
    "def fun(st):\n",
    "    for i in st:\n",
    "        print(i,end=\" \")\n",
    "fun(s)"
   ]
  },
  {
   "cell_type": "code",
   "execution_count": 3,
   "metadata": {},
   "outputs": [
    {
     "data": {
      "text/plain": [
       "'egaugnal gnimmargor larudecorp a si nohtyp'"
      ]
     },
     "execution_count": 3,
     "metadata": {},
     "output_type": "execute_result"
    }
   ],
   "source": [
    "# 17. WAP which accepts a string from the user and prints it in reverse order of the string.\n",
    "s=\"python is a procedural rogramming language\"\n",
    "def rev(st):\n",
    "    res=\"\"\n",
    "    for i in st:\n",
    "        res=i+res\n",
    "    return res\n",
    "rev(s)"
   ]
  },
  {
   "cell_type": "code",
   "execution_count": 5,
   "metadata": {},
   "outputs": [
    {
     "data": {
      "text/plain": [
       "'pto sapoeua ormiglnug'"
      ]
     },
     "execution_count": 5,
     "metadata": {},
     "output_type": "execute_result"
    }
   ],
   "source": [
    "# 18. WAP which accepts a string from the console and prints the characters that have even indexes.\n",
    "\n",
    "s=\"python is a procedural rogramming language\"\n",
    "def index(st):\n",
    "    res=\"\"\n",
    "    for i in range(0,len(st)):\n",
    "        if i%2==0:\n",
    "            res=res+st[i]\n",
    "    return res\n",
    "index(s)"
   ]
  },
  {
   "cell_type": "code",
   "execution_count": 6,
   "metadata": {},
   "outputs": [
    {
     "data": {
      "text/plain": [
       "'yhni  rcdrlrgamn agae'"
      ]
     },
     "execution_count": 6,
     "metadata": {},
     "output_type": "execute_result"
    }
   ],
   "source": [
    "# 19. WAP which accepts a string from the console and prints the characters that have odd indexes.\n",
    "\n",
    "s=\"python is a procedural rogramming language\"\n",
    "def index(st):\n",
    "    res=\"\"\n",
    "    for i in range(0,len(st)):\n",
    "        if i%2!=0:\n",
    "            res=res+st[i]\n",
    "    return res\n",
    "index(s)"
   ]
  },
  {
   "cell_type": "code",
   "execution_count": 8,
   "metadata": {},
   "outputs": [
    {
     "data": {
      "text/plain": [
       "'python is a '"
      ]
     },
     "execution_count": 8,
     "metadata": {},
     "output_type": "execute_result"
    }
   ],
   "source": [
    "# 20. WAP Take in Two Strings and Display the new Larger String without Using any Built-in Functions.\n",
    "\n",
    "s1=\"python is a \"\n",
    "s2=\"programming\"\n",
    "\n",
    "def fun(s1,s2):\n",
    "    cou1=0\n",
    "    for i in s1:\n",
    "        cou1+=1\n",
    "    cou2=0\n",
    "    for j in s2:\n",
    "        cou2+=1\n",
    "    if cou1>cou2:\n",
    "        return s1\n",
    "    return s2\n",
    "fun(s1,s2)\n",
    "\n",
    "\n"
   ]
  },
  {
   "cell_type": "code",
   "execution_count": null,
   "metadata": {},
   "outputs": [],
   "source": [
    "#21. WAP to all Occurrences characters should be replaced to $ in a given String.\n",
    "s=\"python\"\n",
    "\n",
    "def fun(st):\n",
    "    res=\"\"\n",
    "    for i in st:\n",
    "        res+=\n"
   ]
  },
  {
   "cell_type": "code",
   "execution_count": 1,
   "metadata": {},
   "outputs": [
    {
     "data": {
      "text/plain": [
       "'PYTHON IS A HIGH LEVEL\\nOBJECT ORIENTED AND THE \\nPROCEDURAL ORIENTED PROGRAMMING\\nLANGUAGE.IT WAS INVENTED BY THE \\nGUIDOVAN ROSSUM IN FEB 20TH 1991'"
      ]
     },
     "execution_count": 1,
     "metadata": {},
     "output_type": "execute_result"
    }
   ],
   "source": [
    "#22. Write a program that accepts sequence of lines as input and prints the lines after making all characters in the sentence capitalized\n",
    "\n",
    "st=\"\"\"python is a high level\n",
    "object oriented and the \n",
    "procedural oriented programming\n",
    "language.it was invented by the \n",
    "guidovan rossum in feb 20th 1991\"\"\"\n",
    "\n",
    "def string(st):\n",
    "    res=\"\"\n",
    "    for i in st:\n",
    "        if \"a\"<=i<=\"z\":\n",
    "            res+=chr(ord(i)-32)\n",
    "        else:\n",
    "            res+=i\n",
    "    return res\n",
    "string(st)\n"
   ]
  },
  {
   "cell_type": "code",
   "execution_count": 4,
   "metadata": {},
   "outputs": [
    {
     "data": {
      "text/plain": [
       "'Python Is A High Level.\\nObject Oriented And The \\nProcedural Oriented Programming\\nLanguage.It Was @@Invented By The \\nGuidovan Rossum In Feb @20Th 1991'"
      ]
     },
     "execution_count": 4,
     "metadata": {},
     "output_type": "execute_result"
    }
   ],
   "source": [
    "#23. Write a program that accepts a sequence of lines as input and prints the lines after making it in the sentence should be the Title case.\n",
    "\n",
    "st=\"\"\"python is a high level.\n",
    "object oriented and the \n",
    "procedural oriented programming\n",
    "language.it was @@invented by the \n",
    "guidovan rossum in feb @20th 1991\"\"\"\n",
    "\n",
    "def string(st):\n",
    "    res=\"\"\n",
    "    for i in range(0,len(st)):\n",
    "        if (\"a\"<=st[i]<=\"z\" or \"A\"<=st[i]<=\"Z\") and not(\"a\"<=st[i-1]<=\"z\" or \"A\"<=st[i-1]<=\"Z\"):\n",
    "            res+=chr(ord(st[i])-32)\n",
    "        else:\n",
    "            res+=st[i]\n",
    "    return res\n",
    "string(st)\n",
    "    "
   ]
  },
  {
   "cell_type": "code",
   "execution_count": null,
   "metadata": {},
   "outputs": [],
   "source": [
    "#24. WAP that accepts a sequence of whitespace separated words as input.\n",
    "\n"
   ]
  },
  {
   "cell_type": "code",
   "execution_count": 9,
   "metadata": {},
   "outputs": [
    {
     "data": {
      "text/plain": [
       "'d'"
      ]
     },
     "execution_count": 9,
     "metadata": {},
     "output_type": "execute_result"
    }
   ],
   "source": [
    "#27. WAP to Remove the nth Index Character from a given String.\n",
    "st=\"hello world\"\n",
    "def remove(st,index=-1):\n",
    "    for i in range(len(st)):\n",
    "        res=\"\"\n",
    "        if i!=index:\n",
    "            res+=st[i]\n",
    "        else:\n",
    "            res+=\"\"\n",
    "    return res\n",
    "remove(st,4)\n",
    "\n"
   ]
  },
  {
   "cell_type": "code",
   "execution_count": 5,
   "metadata": {},
   "outputs": [
    {
     "name": "stdout",
     "output_type": "stream",
     "text": [
      "['1,2,3,4,5']\n",
      "6,7,8,9\n"
     ]
    }
   ],
   "source": [
    "# 29. Write a program which accepts a sequence of comma-separated numbers from \n",
    "#the console and generates a list and a tuple which contains every number.\n",
    "#Suppose the following input is supplied to the program:\n",
    "#34,67,55,33,12,98\n",
    "#Then, the output should be:\n",
    "#['34', '67', '55', '33', '12', '98']\n",
    "#('34', '67', '55', '33', '12', '98')\n",
    "\n",
    "l=[(input(\"enter\"))]\n",
    "print(l)\n",
    "\n",
    "t=((input(\"enter:\")))\n",
    "print(t)\n"
   ]
  },
  {
   "cell_type": "code",
   "execution_count": 7,
   "metadata": {},
   "outputs": [
    {
     "name": "stdout",
     "output_type": "stream",
     "text": [
      "['1,2,3,4,5,6']\n"
     ]
    }
   ],
   "source": [
    "#31. WAP to store the 5 integer numbers in a List or tuple.\n",
    "\n",
    "if len(l)<=5:\n",
    "    l=[input(\"enter number:\")]\n",
    "print(l)\n",
    "\n"
   ]
  },
  {
   "cell_type": "code",
   "execution_count": 8,
   "metadata": {},
   "outputs": [
    {
     "name": "stdout",
     "output_type": "stream",
     "text": [
      "10\n"
     ]
    }
   ],
   "source": [
    "# 32. WAP to find the largest number in a given List or tuple.\n",
    "\n",
    "l=[4,3,5,10,7,4,9,8]\n",
    "lar=l[0]\n",
    "for i in l:\n",
    "    if lar<i:\n",
    "        lar=i\n",
    "print(lar)"
   ]
  },
  {
   "cell_type": "code",
   "execution_count": 10,
   "metadata": {},
   "outputs": [
    {
     "name": "stdout",
     "output_type": "stream",
     "text": [
      "[10, 9, 8, 7, 5, 4, 4, 3]\n",
      "[10, 9, 8]\n"
     ]
    }
   ],
   "source": [
    "# 33. WAP to find the top 3 largest numbers in a given List or tuple.\n",
    "l=[4,3,5,10,7,4,9,8]\n",
    "for i in range(len(l)):\n",
    "    for j in range(len(l)-1):\n",
    "        if l[j]<l[j+1]:\n",
    "            l[j+1],l[j]=l[j],l[j+1]\n",
    "print(l)\n",
    "print(l[:3])\n"
   ]
  },
  {
   "cell_type": "code",
   "execution_count": 11,
   "metadata": {},
   "outputs": [
    {
     "name": "stdout",
     "output_type": "stream",
     "text": [
      "small: 3\n"
     ]
    }
   ],
   "source": [
    "# 34. WAP to find the smallest number in a given List or tuple\n",
    "\n",
    "l=[4,3,5,10,7,4,9,8]\n",
    "for i in range(len(l)):\n",
    "    for j in range(len(l)-1):\n",
    "        if l[j]<l[j+1]:\n",
    "            l[j+1],l[j]=l[j],l[j+1]\n",
    "print(\"small:\",l[-1])"
   ]
  },
  {
   "cell_type": "code",
   "execution_count": 13,
   "metadata": {},
   "outputs": [
    {
     "name": "stdout",
     "output_type": "stream",
     "text": [
      "top 3 small: [3, 4, 4]\n"
     ]
    }
   ],
   "source": [
    "# 35. WAP to find the top 3 smallest numbers in a given List or tuple\n",
    "\n",
    "l=[4,3,5,10,7,4,9,8]\n",
    "for i in range(len(l)):\n",
    "    for j in range(len(l)-1):\n",
    "        if l[j]<l[j+1]:\n",
    "            l[j+1],l[j]=l[j],l[j+1]\n",
    "print(\"top 3 small:\",l[::-1][:3])"
   ]
  },
  {
   "cell_type": "code",
   "execution_count": 14,
   "metadata": {},
   "outputs": [
    {
     "name": "stdout",
     "output_type": "stream",
     "text": [
      "[4, 10, 4, 8]\n"
     ]
    }
   ],
   "source": [
    "# 36. WAP to store the even numbers in a given list.\n",
    "\n",
    "l=[4,3,5,10,7,4,9,8]\n",
    "l1=[]\n",
    "for i in l:\n",
    "    if type(i)==int:\n",
    "        if i%2==0:\n",
    "            l1+=[i]\n",
    "print(l1)\n"
   ]
  },
  {
   "cell_type": "code",
   "execution_count": 15,
   "metadata": {},
   "outputs": [
    {
     "name": "stdout",
     "output_type": "stream",
     "text": [
      "[3, 5, 7, 9]\n"
     ]
    }
   ],
   "source": [
    "# 37. WAP to store the odd numbers in a given list.\n",
    "l=[4,3,5,10,7,4,9,8]\n",
    "l1=[]\n",
    "for i in l:\n",
    "    if type(i)==int:\n",
    "        if i%2!=0:\n",
    "            l1+=[i]\n",
    "print(l1)"
   ]
  },
  {
   "cell_type": "code",
   "execution_count": 1,
   "metadata": {},
   "outputs": [
    {
     "name": "stdout",
     "output_type": "stream",
     "text": [
      "[24, 6, 120, 3628800, 5040, 24, 362880, 40320]\n"
     ]
    }
   ],
   "source": [
    "# 38. WAP to find out and store the factorial of given numbers in a list.\n",
    "import math\n",
    "l=[4,3,5,10,7,4,9,8]\n",
    "l1=[]\n",
    "for i in l:\n",
    "    if type(i)==int:\n",
    "            l1+=[math.factorial(i)]\n",
    "print(l1)"
   ]
  },
  {
   "cell_type": "code",
   "execution_count": 2,
   "metadata": {},
   "outputs": [
    {
     "name": "stdout",
     "output_type": "stream",
     "text": [
      "[24, 6, 120, 3628800, 5040, 24, 362880, 40320]\n"
     ]
    }
   ],
   "source": [
    "l=[4,3,5,10,7,4,9,8]\n",
    "l1=[]\n",
    "for i in l:\n",
    "    if type(i)==int:\n",
    "            fact=1\n",
    "            k=1\n",
    "            while k<=i:\n",
    "                fact*=k\n",
    "                k+=1\n",
    "            l1+=[fact]\n",
    "            fact=1\n",
    "# print(l1)\n",
    "                \n",
    "print(l1)"
   ]
  },
  {
   "cell_type": "code",
   "execution_count": 3,
   "metadata": {},
   "outputs": [
    {
     "name": "stdout",
     "output_type": "stream",
     "text": [
      "[4, 10, 4, 8]\n",
      "[3, 5, 7, 9]\n"
     ]
    }
   ],
   "source": [
    "# 39. WAP To separate the even and odd elements in a list into two different lists.\n",
    "l=[4,3,5,10,7,4,9,8]\n",
    "el=[]\n",
    "ol=[]\n",
    "for i in l:\n",
    "    if type(i)==int:\n",
    "        if i%2==0:\n",
    "            el+=[i]\n",
    "        else:\n",
    "            ol+=[i]\n",
    "print(el)\n",
    "print(ol)\n"
   ]
  },
  {
   "cell_type": "code",
   "execution_count": 4,
   "metadata": {},
   "outputs": [
    {
     "name": "stdout",
     "output_type": "stream",
     "text": [
      "[1, 2, 10, 20, 30, 40, 50, 6, 7, 8, 9]\n"
     ]
    }
   ],
   "source": [
    "# 40. WAP to modify the new value into the specific position of the given list.(using slicing).\n",
    "\n",
    "l=[1,2,3,4,5,6,7,8,9]\n",
    "l[2:5]=[10,20,30,40,50]\n",
    "print(l)\n"
   ]
  },
  {
   "cell_type": "code",
   "execution_count": 10,
   "metadata": {},
   "outputs": [
    {
     "ename": "IndexError",
     "evalue": "list index out of range",
     "output_type": "error",
     "traceback": [
      "\u001b[1;31m---------------------------------------------------------------------------\u001b[0m",
      "\u001b[1;31mIndexError\u001b[0m                                Traceback (most recent call last)",
      "\u001b[1;32mc:\\Users\\venka\\Documents\\GitHub\\basic-python1\\python-Qspy\\functions\\lis_tup_dict151-200.ipynb Cell 35\u001b[0m line \u001b[0;36m1\n\u001b[0;32m      <a href='vscode-notebook-cell:/c%3A/Users/venka/Documents/GitHub/basic-python1/python-Qspy/functions/lis_tup_dict151-200.ipynb#X64sZmlsZQ%3D%3D?line=7'>8</a>\u001b[0m         l1\u001b[39m+\u001b[39m\u001b[39m=\u001b[39m[\u001b[39m10\u001b[39m,\u001b[39m20\u001b[39m,\u001b[39m30\u001b[39m]\n\u001b[0;32m      <a href='vscode-notebook-cell:/c%3A/Users/venka/Documents/GitHub/basic-python1/python-Qspy/functions/lis_tup_dict151-200.ipynb#X64sZmlsZQ%3D%3D?line=8'>9</a>\u001b[0m     \u001b[39melse\u001b[39;00m:\n\u001b[1;32m---> <a href='vscode-notebook-cell:/c%3A/Users/venka/Documents/GitHub/basic-python1/python-Qspy/functions/lis_tup_dict151-200.ipynb#X64sZmlsZQ%3D%3D?line=9'>10</a>\u001b[0m         l1\u001b[39m+\u001b[39m\u001b[39m=\u001b[39m[l1[i]]\n\u001b[0;32m     <a href='vscode-notebook-cell:/c%3A/Users/venka/Documents/GitHub/basic-python1/python-Qspy/functions/lis_tup_dict151-200.ipynb#X64sZmlsZQ%3D%3D?line=10'>11</a>\u001b[0m \u001b[39mprint\u001b[39m(l)\n",
      "\u001b[1;31mIndexError\u001b[0m: list index out of range"
     ]
    }
   ],
   "source": [
    "# 41. WAP to modify the new value into the specific position of the given list.(without using slicing).\n",
    "\n",
    "l=[1,2,3,4,5,6,7,8,9]\n",
    "l1=[]\n",
    "for i in range(0,len(l)-1):\n",
    "    # print(i)\n",
    "    if i==2:\n",
    "        l1+=[10,20,30]\n",
    "    else:\n",
    "        l1+=[l1[i]]\n",
    "print(l)"
   ]
  },
  {
   "cell_type": "code",
   "execution_count": 16,
   "metadata": {},
   "outputs": [
    {
     "name": "stdout",
     "output_type": "stream",
     "text": [
      "((1, 1), (2, 4), (3, 9), (4, 16), (5, 25), (6, 36), (7, 49), (8, 64), (9, 81))\n"
     ]
    }
   ],
   "source": [
    "# 42. WAP To Create a List of Tuples with the First Element as the Number and Second Element as the Square of the Number\n",
    "\n",
    "d={i:i**2 for i in range(1,10)}\n",
    "l=[]\n",
    "for i in d.items():\n",
    "    l+=[i]\n",
    "print(tuple(l))\n"
   ]
  },
  {
   "cell_type": "code",
   "execution_count": 17,
   "metadata": {},
   "outputs": [
    {
     "name": "stdout",
     "output_type": "stream",
     "text": [
      "((1, 1), (2, 8), (3, 27), (4, 64), (5, 125), (6, 216), (7, 343), (8, 512), (9, 729))\n"
     ]
    }
   ],
   "source": [
    "# 43. WAP To Create a List of tuples with the First Element as the cube of the number and Second Element as the Number.\n",
    "\n",
    "d={i:i**3 for i in range(1,10)}\n",
    "l=[]\n",
    "for i in d.items():\n",
    "    l+=[i]\n",
    "print(tuple(l))\n"
   ]
  },
  {
   "cell_type": "code",
   "execution_count": 18,
   "metadata": {},
   "outputs": [
    {
     "name": "stdout",
     "output_type": "stream",
     "text": [
      "programming\n"
     ]
    }
   ],
   "source": [
    "# 45. WAP To Read a List of Words from the user and Return the Length of the Longest One word\n",
    "\n",
    "l=[\"hai\",\"hello\",\"world\",\"python\",\"is\",\"a\",\"programming\",\"language\"]\n",
    "lar=len(l[0])\n",
    "s=\"\"\n",
    "for i in l:\n",
    "    if len(i)>lar:\n",
    "        lar=len(i)\n",
    "        s=i\n",
    "print(s)\n"
   ]
  },
  {
   "cell_type": "code",
   "execution_count": 19,
   "metadata": {},
   "outputs": [
    {
     "name": "stdout",
     "output_type": "stream",
     "text": [
      "a\n"
     ]
    }
   ],
   "source": [
    "# 46. WAP To Read a List of Words from the user and Return the Length of the first Longest One word.\n",
    "\n",
    "l=[\"hai\",\"hello\",\"world\",\"python\",\"is\",\"a\",\"programming\",\"language\"]\n",
    "lar=len(l[0])\n",
    "s=\"\"\n",
    "for i in l:\n",
    "    if len(i)<lar:\n",
    "        lar=len(i)\n",
    "        s=i\n",
    "print(s)"
   ]
  },
  {
   "cell_type": "code",
   "execution_count": 28,
   "metadata": {},
   "outputs": [
    {
     "name": "stdout",
     "output_type": "stream",
     "text": [
      "{1: 4, 2: 4, 3: 3, 4: 2, 5: 2, 6: 2, 7: 2, 8: 1, 9: 1}\n"
     ]
    }
   ],
   "source": [
    "# 49. WAP To Find each element occurs is a List.\n",
    "l=[1,2,3,4,5,6,7,1,2,2,1,3,4,1,2,3,5,6,7,8,9]\n",
    "d={}\n",
    "for i in l:\n",
    "    if i not in d:\n",
    "        d[i]=1\n",
    "    else:\n",
    "        d[i]=(d[i]+1)\n",
    "print(d)"
   ]
  },
  {
   "cell_type": "code",
   "execution_count": 29,
   "metadata": {},
   "outputs": [
    {
     "name": "stdout",
     "output_type": "stream",
     "text": [
      "{1: 3, 2: 3, 3: 2, 4: 2, 5: 2, 6: 2, 7: 1, 0: 3, 8: 1, 9: 1}\n"
     ]
    }
   ],
   "source": [
    "# 50. WAP To Find each element repeat is a List\n",
    "\n",
    "l=[1,2,3,4,5,6,7,1,2,2,1,3,4,1,2,3,5,6,7,8,9]\n",
    "d={}\n",
    "for i in l:\n",
    "    if i not in d:\n",
    "        d[i]=1\n",
    "    else:\n",
    "        d[i-1]=(d[i]+1)\n",
    "print(d)"
   ]
  },
  {
   "cell_type": "code",
   "execution_count": null,
   "metadata": {},
   "outputs": [],
   "source": []
  },
  {
   "cell_type": "code",
   "execution_count": null,
   "metadata": {},
   "outputs": [],
   "source": []
  },
  {
   "cell_type": "code",
   "execution_count": null,
   "metadata": {},
   "outputs": [],
   "source": []
  },
  {
   "cell_type": "code",
   "execution_count": 5,
   "metadata": {},
   "outputs": [
    {
     "name": "stdout",
     "output_type": "stream",
     "text": [
      "[10, 20, 30, 40, 50, 60, 70]\n"
     ]
    }
   ],
   "source": [
    "#55. WAP To Sort it in ascending order in a given list\n",
    "\n",
    "l=[50,30,40,60,10,20,70]\n",
    "for i in range(len(l)):\n",
    "    for j in range(len(l)-1):\n",
    "        if l[j]>l[j+1]:\n",
    "            l[j+1],l[j]=l[j],l[j+1]\n",
    "print(l)"
   ]
  },
  {
   "cell_type": "code",
   "execution_count": 6,
   "metadata": {},
   "outputs": [
    {
     "name": "stdout",
     "output_type": "stream",
     "text": [
      "[70, 60, 50, 40, 30, 20, 10]\n"
     ]
    }
   ],
   "source": [
    "#56. WAP To sort it in descending order in a given list\n",
    "l=[50,30,40,60,10,20,70]\n",
    "for i in range(len(l)):\n",
    "    for j in range(len(l)-1):\n",
    "        if l[j]<l[j+1]:\n",
    "            l[j],l[j+1]=l[j+1],l[j]\n",
    "print(l)"
   ]
  },
  {
   "cell_type": "code",
   "execution_count": 14,
   "metadata": {},
   "outputs": [
    {
     "name": "stdout",
     "output_type": "stream",
     "text": [
      "[1, 4, 2, 6, 4, 6, 23, 3, 25, 67, 95]\n",
      "[1, 2, 3, 4, 4, 6, 6, 23, 25, 67, 95]\n"
     ]
    }
   ],
   "source": [
    "#57. WAP To Merge Two Lists and Sort it in ascending order.\n",
    "\n",
    "l1=[1,4,2,6,4,6]\n",
    "l2=[23,3,25,67,95]\n",
    "# l1.extend(l2)\n",
    "l1+=l2\n",
    "print(l1)\n",
    "for i in range(len(l1)):\n",
    "    for j in range(len(l1)-1):\n",
    "        if l1[j]>l1[j+1]:\n",
    "            l1[j+1],l1[j]=l1[j],l1[j+1]\n",
    "print(l1)"
   ]
  },
  {
   "cell_type": "code",
   "execution_count": 4,
   "metadata": {},
   "outputs": [
    {
     "name": "stdout",
     "output_type": "stream",
     "text": [
      "[95, 67, 25, 23, 6, 6, 4, 4, 3, 2, 1]\n"
     ]
    }
   ],
   "source": [
    "# 58. WAP To Merge Two Lists and Sort it in descending order\n",
    "l1=[1,4,2,6,4,6]\n",
    "l2=[23,3,25,67,95]\n",
    "l1+=l2\n",
    "for i in range(len(l1)):\n",
    "    for j in range(len(l1)-1):\n",
    "        if l1[j]<l1[j+1]:\n",
    "            l1[j+1],l1[j]=l1[j],l1[j+1]\n",
    "print(l1)\n"
   ]
  },
  {
   "cell_type": "code",
   "execution_count": 2,
   "metadata": {},
   "outputs": [
    {
     "data": {
      "text/plain": [
       "{1: 1, 2: 4, 3: 9, 4: 16, 5: 25, 6: 36, 7: 49, 8: 64}"
      ]
     },
     "execution_count": 2,
     "metadata": {},
     "output_type": "execute_result"
    }
   ],
   "source": [
    "#71. WAP to generate a dictionary that contains (i, i*i) such that is an integral \n",
    "#number between 1 and n (both included) and then the program should print \n",
    "#the dictionary.\n",
    "#Suppose the following input is supplied to the program:\n",
    "#8\n",
    "#Then, the output should be:\n",
    "#{1: 1, 2: 4, 3: 9, 4: 16, 5: 25, 6: 36, 7: 49, 8: 64}\n",
    "\n",
    "def fun(inp):\n",
    "    d={i:i**2 for i in range(1,inp+1)}\n",
    "    return d\n",
    "fun(8)"
   ]
  },
  {
   "cell_type": "code",
   "execution_count": 4,
   "metadata": {},
   "outputs": [
    {
     "name": "stdout",
     "output_type": "stream",
     "text": [
      "{1: 1, 2: 4, 3: 9, 4: 16, 5: 25, 6: 36, 7: 49, 8: 64}\n",
      "{5: 25, 6: 36, 7: 49, 8: 64, 1: 1, 2: 4, 3: 9, 4: 16}\n"
     ]
    }
   ],
   "source": [
    "#72. WAP to Concatenate Two Dictionaries Into One dictionarry\n",
    "\n",
    "d1={1: 1, 2: 4, 3: 9, 4: 16}\n",
    "d2={ 5: 25, 6: 36, 7: 49, 8: 64}\n",
    "d1|=d2\n",
    "d2|=d1\n",
    "print(d1)\n",
    "print(d2)"
   ]
  },
  {
   "cell_type": "code",
   "execution_count": 9,
   "metadata": {},
   "outputs": [
    {
     "name": "stdout",
     "output_type": "stream",
     "text": [
      "204\n",
      "(1, 1) (2, 4) (3, 9) (4, 16) (5, 25) (6, 36) (7, 49) (8, 64) \n",
      "1 2 3 4 5 6 7 8 "
     ]
    }
   ],
   "source": [
    "#73. WAP to Sum All the values in a Dictionary.\n",
    "\n",
    "d={1: 1, 2: 4, 3: 9, 4: 16, 5: 25, 6: 36, 7: 49, 8: 64}\n",
    "sum=0\n",
    "for i in d.values():\n",
    "    sum+=i\n",
    "print(sum)\n",
    "\n",
    "for i in d.items():\n",
    "    \n",
    "    print(i,end=\" \")\n",
    "print()\n",
    "\n"
   ]
  },
  {
   "cell_type": "code",
   "execution_count": 11,
   "metadata": {},
   "outputs": [
    {
     "name": "stdout",
     "output_type": "stream",
     "text": [
      "36\n"
     ]
    }
   ],
   "source": [
    "#74. WAP to Sum All the keys in a Dictionary.(keys should be integers).\n",
    "d={1: 1, 2: 4, 3: 9, 4: 16, 5: 25, 6: 36, 7: 49, 8: 64}\n",
    "sum=0\n",
    "for i in d.keys():\n",
    "    sum+=i\n",
    "print(sum)"
   ]
  },
  {
   "cell_type": "code",
   "execution_count": 12,
   "metadata": {},
   "outputs": [
    {
     "name": "stdout",
     "output_type": "stream",
     "text": [
      "1625702400\n"
     ]
    }
   ],
   "source": [
    " \n",
    "# 75. WAP to Multiply All the values in a Dictionary.\n",
    "\n",
    "d={1: 1, 2: 4, 3: 9, 4: 16, 5: 25, 6: 36, 7: 49, 8: 64}\n",
    "mul=1\n",
    "for i in d.values():\n",
    "    mul*=i\n",
    "print(mul)"
   ]
  },
  {
   "cell_type": "code",
   "execution_count": 14,
   "metadata": {},
   "outputs": [
    {
     "name": "stdout",
     "output_type": "stream",
     "text": [
      "{'h': 2, 'e': 1, 'l': 3, 'o': 3, ' ': 2, 'w': 1, 'r': 1, 'd': 1, 'p': 1, 'y': 1, 't': 1, 'n': 1}\n"
     ]
    }
   ],
   "source": [
    "#76. WAP to Count the Frequency of Words Appearing in a String Using a Dictionary.\n",
    "\n",
    "st=\"hello world python\"\n",
    "def count(st):\n",
    "    d={}\n",
    "    for i in st:\n",
    "        if i not in d:\n",
    "            d[i]=1\n",
    "        else:\n",
    "            d[i]+=1\n",
    "    print(d)\n",
    "count(st)"
   ]
  },
  {
   "cell_type": "code",
   "execution_count": null,
   "metadata": {},
   "outputs": [],
   "source": []
  }
 ],
 "metadata": {
  "kernelspec": {
   "display_name": "Python 3",
   "language": "python",
   "name": "python3"
  },
  "language_info": {
   "codemirror_mode": {
    "name": "ipython",
    "version": 3
   },
   "file_extension": ".py",
   "mimetype": "text/x-python",
   "name": "python",
   "nbconvert_exporter": "python",
   "pygments_lexer": "ipython3",
   "version": "3.11.4"
  },
  "orig_nbformat": 4
 },
 "nbformat": 4,
 "nbformat_minor": 2
}
