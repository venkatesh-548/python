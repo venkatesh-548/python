{
 "cells": [
  {
   "cell_type": "code",
   "execution_count": 10,
   "metadata": {},
   "outputs": [
    {
     "name": "stdout",
     "output_type": "stream",
     "text": [
      "45\n",
      "45\n",
      "None\n"
     ]
    }
   ],
   "source": [
    "def fun(m,n,sum=0):\n",
    "    for i in range(m,n):\n",
    "        sum+=i\n",
    "    return sum\n",
    "print(fun(1,10))\n",
    "\n",
    "#using recursion\n",
    "\n",
    "def fun1(m,n,sum=0):\n",
    "    if m==n:\n",
    "        print(sum)\n",
    "        return \n",
    "    sum+=m\n",
    "    fun1(m+1,n,sum)\n",
    "print(fun1(1,10))\n"
   ]
  },
  {
   "cell_type": "code",
   "execution_count": 6,
   "metadata": {},
   "outputs": [
    {
     "name": "stdout",
     "output_type": "stream",
     "text": [
      "1\n",
      "1\n",
      "120\n"
     ]
    }
   ],
   "source": [
    "#factorial of number\n",
    "\n",
    "def fact(n):\n",
    "    fac=1\n",
    "    for i in range(1,n+1):\n",
    "        fac*=i\n",
    "    return fac\n",
    "print(fact(0))\n",
    "\n",
    "#recursion\n",
    "\n",
    "def fact1(n,i=1,fact=1):\n",
    "    if i==n+1:\n",
    "        print(fact)\n",
    "        return\n",
    "    fact*=i\n",
    "    fact1(n,i+1,fact)\n",
    "fact1(0)\n",
    "\n",
    "#other method\n",
    "\n",
    "def fact2(n,i=1,fact=1):\n",
    "    if i==n:\n",
    "        print(fact)\n",
    "        return\n",
    "    fact*=n\n",
    "    fact2(n-1,i,fact)\n",
    "fact2(5)"
   ]
  },
  {
   "cell_type": "code",
   "execution_count": 4,
   "metadata": {},
   "outputs": [
    {
     "data": {
      "text/plain": [
       "24"
      ]
     },
     "execution_count": 4,
     "metadata": {},
     "output_type": "execute_result"
    }
   ],
   "source": [
    "def fact(n,i=1,fac=1):\n",
    "    if i==n:\n",
    "        return fac\n",
    "    fac*=n\n",
    "    return fact(n-1,i,fac)\n",
    "fact(4)\n"
   ]
  },
  {
   "cell_type": "code",
   "execution_count": 6,
   "metadata": {},
   "outputs": [
    {
     "name": "stdout",
     "output_type": "stream",
     "text": [
      "1\n",
      "2\n",
      "6\n",
      "24\n",
      "120\n",
      "720\n",
      "5040\n",
      "40320\n",
      "362880\n",
      "3628800\n"
     ]
    }
   ],
   "source": [
    "#wap to print the series of numbers\n",
    "import math\n",
    "def ser(a=1,b=11):\n",
    "    if a==b:\n",
    "        return\n",
    "    print(math.factorial(a))\n",
    "    ser(a+1,b)\n",
    "ser()"
   ]
  },
  {
   "cell_type": "code",
   "execution_count": 10,
   "metadata": {},
   "outputs": [],
   "source": [
    "\n",
    "def ser(a=1,b=11):\n",
    "    if a==b:\n",
    "        return\n",
    "    def fact(a,i=1,fac=1):\n",
    "        if a==i:\n",
    "            print(fac)\n",
    "            return fac\n",
    "        fac*=a\n",
    "        fact(a-1,i,fac)\n",
    "    ser(a+1,b)\n",
    "(ser())"
   ]
  },
  {
   "cell_type": "code",
   "execution_count": 21,
   "metadata": {},
   "outputs": [
    {
     "name": "stdout",
     "output_type": "stream",
     "text": [
      "HEllo woRLd\n",
      "HEllo woRLd\n"
     ]
    }
   ],
   "source": [
    "#swap case\n",
    "st=\"heLLO WOrlD\"\n",
    "def swap(st):\n",
    "    res=\"\"\n",
    "    for i in st:\n",
    "        if \"A\"<=i<=\"Z\":\n",
    "            res+=i.lower()\n",
    "        elif \"a\"<=i<=\"z\":\n",
    "            res+=i.upper()\n",
    "        else:\n",
    "            res+=i\n",
    "    return res\n",
    "print(swap(st))\n",
    "\n",
    "#recursion\n",
    "st=\"heLLO WOrlD\"\n",
    "def swap1(st,i=0,res=\"\"):\n",
    "    if i==len(st):\n",
    "        print(res)\n",
    "        return\n",
    "    if \"A\"<=st[i]<=\"Z\":\n",
    "        res+=st[i].lower()\n",
    "    elif \"a\"<=st[i]<=\"z\":\n",
    "        res+=st[i].upper()\n",
    "    else:\n",
    "        res+=st[i]\n",
    "    swap1(st,i+1,res)\n",
    "swap1(st)"
   ]
  },
  {
   "cell_type": "code",
   "execution_count": 62,
   "metadata": {},
   "outputs": [
    {
     "name": "stdout",
     "output_type": "stream",
     "text": [
      "9 X 1 = 9\n",
      "9 X 2 = 18\n",
      "9 X 3 = 27\n",
      "9 X 4 = 36\n",
      "9 X 5 = 45\n",
      "9 X 6 = 54\n",
      "9 X 7 = 63\n",
      "9 X 8 = 72\n",
      "9 X 9 = 81\n",
      "9 X 10 = 90\n",
      "------------venky-------------\n",
      "19 X 1 = 19\n",
      "19 X 2 = 38\n",
      "19 X 3 = 57\n",
      "19 X 4 = 76\n",
      "19 X 5 = 95\n",
      "19 X 6 = 114\n",
      "19 X 7 = 133\n",
      "19 X 8 = 152\n",
      "19 X 9 = 171\n",
      "19 X 10 = 190\n"
     ]
    }
   ],
   "source": [
    "#wap to print the nth table\n",
    "\n",
    "def table(n):\n",
    "    for i in range(1,11):\n",
    "        print(f'{n} X {i} = {n*i}')\n",
    "table(9)\n",
    "\n",
    "print(\"venky\".center(30,\"-\"))\n",
    "\n",
    "#using recursion\n",
    "\n",
    "def table1(n,i=1,j=10):\n",
    "    if i==j+1:\n",
    "        return\n",
    "    print(f'{n} X {i} = {n*i}')\n",
    "    table1(n,i+1,j)\n",
    "table1(19)\n",
    "    "
   ]
  },
  {
   "cell_type": "code",
   "execution_count": 16,
   "metadata": {},
   "outputs": [
    {
     "data": {
      "text/plain": [
       "'not prime'"
      ]
     },
     "execution_count": 16,
     "metadata": {},
     "output_type": "execute_result"
    }
   ],
   "source": [
    "#prime number\n",
    "\n",
    "def prime(n,i=2,count=0):\n",
    "    while i<n:\n",
    "        if n%i==0:\n",
    "            count+=1\n",
    "        i+=1\n",
    "    return [\"not prime\",\"prime\"][count==0]\n",
    "# prime(8)\n",
    "\n",
    "#recussion\n",
    "\n",
    "def prime(n,i=2,count=0):\n",
    "    if i==n:\n",
    "        return [\"not prime\",\"prime\"][count==0]\n",
    "    if n%i==0:\n",
    "        count+=1\n",
    "    return prime(n,i+1,count)\n",
    "prime(30)\n",
    "\n",
    "\n"
   ]
  },
  {
   "cell_type": "code",
   "execution_count": 5,
   "metadata": {},
   "outputs": [
    {
     "data": {
      "text/plain": [
       "120"
      ]
     },
     "execution_count": 5,
     "metadata": {},
     "output_type": "execute_result"
    }
   ],
   "source": [
    "def fact(n,prod=1):\n",
    "    if n==0:\n",
    "        return prod\n",
    "    prod*=n\n",
    "    return fact(n-1,prod)\n",
    "fact(5)"
   ]
  },
  {
   "cell_type": "code",
   "execution_count": 30,
   "metadata": {},
   "outputs": [
    {
     "data": {
      "text/plain": [
       "'strong'"
      ]
     },
     "execution_count": 30,
     "metadata": {},
     "output_type": "execute_result"
    }
   ],
   "source": [
    "#strong number\n",
    "import math\n",
    "def strong(n,sum=0):\n",
    "    for i in str(n):\n",
    "        sum+=math.factorial(int(i))\n",
    "    return [\"not strong\",\"strong\"][n==sum]\n",
    "# strong(145)\n",
    "\n",
    "\n",
    "#using recursion\n",
    "\n",
    "n=input()\n",
    "def strong(n,i=0,sum=0):\n",
    "    if i==len(n):\n",
    "        return [\"not strong\",\"strong\"][int(n)==sum]\n",
    "    sum+=math.factorial(int(n[i]))\n",
    "    return strong(n,i+1,sum)\n",
    "strong(n)"
   ]
  },
  {
   "cell_type": "code",
   "execution_count": 4,
   "metadata": {},
   "outputs": [
    {
     "name": "stdout",
     "output_type": "stream",
     "text": [
      "\n",
      "\n",
      "\n",
      "\n",
      "\n",
      "\n",
      "\n",
      "\n",
      "\n",
      "\n",
      "\n",
      "\n",
      "\n",
      "\n",
      "\n",
      "\n",
      "\n",
      "\n",
      "\n",
      "\n",
      "\n",
      "\n",
      "\n",
      "\n",
      "\n",
      "\n",
      "\n",
      "\n",
      "\n",
      "\n",
      "\n",
      "\n",
      "\n",
      "\n",
      "\n",
      "\n",
      "\n",
      "\n",
      "\n",
      "\n",
      "\n",
      "\n",
      "\n",
      "\n",
      "\n",
      "\n",
      "\n",
      "\n",
      "\n",
      "\n",
      "\n",
      "\n",
      "\n",
      "\n",
      "\n",
      "\n",
      "\n",
      "\n",
      "\n",
      "\n",
      "\n",
      "\n",
      "\n",
      "\n",
      "\n",
      "\n",
      "\n",
      "\n",
      "\n",
      "\n",
      "370\n",
      "371\n",
      "\n",
      "\n",
      "\n",
      "\n",
      "\n",
      "\n",
      "\n",
      "\n",
      "\n",
      "\n",
      "\n",
      "\n",
      "\n",
      "\n",
      "\n",
      "\n",
      "\n",
      "\n",
      "\n",
      "\n",
      "\n",
      "\n",
      "\n",
      "\n",
      "\n",
      "\n",
      "\n",
      "\n"
     ]
    }
   ],
   "source": [
    "#strong number\n",
    "def armstrong(n,sum=0):\n",
    "    for i in str(n):\n",
    "        sum+=(int(i)**3)\n",
    "    return [\"not armstrong\",\"armstrong\"][n==sum]\n",
    "armstrong(153)\n",
    "\n",
    "\n",
    "#using recursion\n",
    "\n",
    "n=input()\n",
    "def strong(n,i=0,sum=0):\n",
    "    if i==len(n):\n",
    "        return [\"\",sum][int(n)==sum]\n",
    "    sum+=(int(n[i])**3)\n",
    "    return strong(n,i+1,sum)\n",
    "strong(n)"
   ]
  },
  {
   "cell_type": "code",
   "execution_count": 8,
   "metadata": {},
   "outputs": [
    {
     "data": {
      "text/plain": [
       "'palindrome'"
      ]
     },
     "execution_count": 8,
     "metadata": {},
     "output_type": "execute_result"
    }
   ],
   "source": [
    "#palindrome\n",
    "st=\"madam\"\n",
    "def palin(st,res=\"\"):\n",
    "    for i in st:\n",
    "        res=i+res\n",
    "    return [\"not palindrome\",\"palindrome\"][st==res]\n",
    "palin(st)\n",
    "\n",
    "#recursion\n",
    "\n",
    "def palin1(st,res=\"\",i=0):\n",
    "    if i==len(st):\n",
    "        return [\"not palindrome\",\"palindrome\"][st==res]\n",
    "    res=res+st[i]\n",
    "    return palin1(st,res,i+1)\n",
    "palin1(st)\n",
    "\n"
   ]
  },
  {
   "cell_type": "code",
   "execution_count": 13,
   "metadata": {},
   "outputs": [
    {
     "name": "stdout",
     "output_type": "stream",
     "text": [
      "[1, 4, 9, 16, 25]\n"
     ]
    },
    {
     "data": {
      "text/plain": [
       "[1, 4, 9, 16, 25]"
      ]
     },
     "execution_count": 13,
     "metadata": {},
     "output_type": "execute_result"
    }
   ],
   "source": [
    "#power of number\n",
    "l=[1,2,3,4,5]\n",
    "def power(l):\n",
    "    return [i**2 for i in l]\n",
    "print(power(l))\n",
    "\n",
    "#recursion\n",
    "\n",
    "def power(l,i=0,l1=[]):\n",
    "    if i==len(l):\n",
    "        return l1\n",
    "    l1.append(l[i]**2)\n",
    "    return power(l,i+1,l1)\n",
    "power(l)\n",
    "\n"
   ]
  },
  {
   "cell_type": "code",
   "execution_count": 15,
   "metadata": {},
   "outputs": [
    {
     "name": "stdout",
     "output_type": "stream",
     "text": [
      "8\n"
     ]
    }
   ],
   "source": [
    "l=[1, 4, 3, -5, -4, 8, 6]\n",
    "def large(l,lar=0):\n",
    "    for i in l:\n",
    "        if i>lar:\n",
    "            lar=i\n",
    "    return lar\n",
    "print(large(l))\n",
    "\n",
    "#recursion\n",
    "\n",
    "def large(l,i=0,lar=0):\n",
    "    if i==len(l):\n",
    "        return lar\n",
    "    if l[i]>lar:\n",
    "        lar=l[i]\n",
    "    return large(l,i+1,lar)\n",
    "print(large(l))\n",
    "\n",
    "def small(l,i=0,sma=l[0]):\n",
    "    if i==len(l):\n",
    "        return sma\n",
    "    if l[i]<sma:\n",
    "        sma=l[i]\n",
    "    return small(l,i+1,sma)\n",
    "print(small(l))"
   ]
  },
  {
   "cell_type": "code",
   "execution_count": 1,
   "metadata": {},
   "outputs": [
    {
     "data": {
      "text/plain": [
       "654321"
      ]
     },
     "execution_count": 1,
     "metadata": {},
     "output_type": "execute_result"
    }
   ],
   "source": [
    "#reverse number using recursion\n",
    "num=str(123456)\n",
    "def rev(num,i=0,res=\"\"):\n",
    "    if i==len((num)):\n",
    "        return int(res)\n",
    "    res=(num[i])+res\n",
    "    return rev(num,i+1,res)\n",
    "rev(num)"
   ]
  },
  {
   "cell_type": "code",
   "execution_count": 2,
   "metadata": {},
   "outputs": [
    {
     "data": {
      "text/plain": [
       "6"
      ]
     },
     "execution_count": 2,
     "metadata": {},
     "output_type": "execute_result"
    }
   ],
   "source": [
    "#reverse number using recursion\n",
    "num=str(123456)\n",
    "def rev(num,i=0,res=0):\n",
    "    if i==len((num)):\n",
    "        return int(res)\n",
    "    res+=1\n",
    "    return rev(num,i+1,res)\n",
    "rev(num)"
   ]
  },
  {
   "cell_type": "code",
   "execution_count": 13,
   "metadata": {},
   "outputs": [
    {
     "name": "stdout",
     "output_type": "stream",
     "text": [
      "ABC\n",
      "ACB\n",
      "BAC\n",
      "BCA\n",
      "CAB\n",
      "CBA\n"
     ]
    }
   ],
   "source": [
    "from itertools import permutations\n",
    "l=tuple(permutations(\"ABC\",3))\n",
    "res=''\n",
    "for i in l:\n",
    "    for j in i:\n",
    "        res+=j\n",
    "    print(res)\n",
    "    res=\"\"\n"
   ]
  },
  {
   "cell_type": "code",
   "execution_count": 15,
   "metadata": {},
   "outputs": [
    {
     "data": {
      "text/plain": [
       "'hello'"
      ]
     },
     "execution_count": 15,
     "metadata": {},
     "output_type": "execute_result"
    }
   ],
   "source": [
    "def lower(st,res=''):\n",
    "  return st.lower()\n",
    "st=\"Hello\"\n",
    "lower(st)"
   ]
  },
  {
   "cell_type": "code",
   "execution_count": 23,
   "metadata": {},
   "outputs": [
    {
     "name": "stdout",
     "output_type": "stream",
     "text": [
      "32\n"
     ]
    },
    {
     "data": {
      "text/plain": [
       "0"
      ]
     },
     "execution_count": 23,
     "metadata": {},
     "output_type": "execute_result"
    }
   ],
   "source": [
    "num=2300\n",
    "def demo(num,res=\"\",rev=\"\"):\n",
    "    for i in str(num):\n",
    "        if i!='0':\n",
    "            res=i+res\n",
    "            rev+=i\n",
    "    print(int(res))\n",
    "    if res==str(num)[::-1]:\n",
    "        return 1\n",
    "    else:\n",
    "        return 0\n",
    "demo(num)\n"
   ]
  },
  {
   "cell_type": "code",
   "execution_count": 25,
   "metadata": {},
   "outputs": [
    {
     "data": {
      "text/plain": [
       "3"
      ]
     },
     "execution_count": 25,
     "metadata": {},
     "output_type": "execute_result"
    }
   ],
   "source": [
    "l=list(map(int,input().split()))\n",
    "def demo(l):\n",
    "    return sum(l)\n",
    "demo(l)"
   ]
  }
 ],
 "metadata": {
  "kernelspec": {
   "display_name": "Python 3",
   "language": "python",
   "name": "python3"
  },
  "language_info": {
   "codemirror_mode": {
    "name": "ipython",
    "version": 3
   },
   "file_extension": ".py",
   "mimetype": "text/x-python",
   "name": "python",
   "nbconvert_exporter": "python",
   "pygments_lexer": "ipython3",
   "version": "3.11.4"
  }
 },
 "nbformat": 4,
 "nbformat_minor": 2
}
