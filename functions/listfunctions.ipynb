{
 "cells": [
  {
   "cell_type": "code",
   "execution_count": 7,
   "metadata": {},
   "outputs": [
    {
     "name": "stdout",
     "output_type": "stream",
     "text": [
      "[20, 'a', 'b', 'c', 'd']\n"
     ]
    }
   ],
   "source": [
    "t=[\"a\",\"b\",\"c\",\"d\"]\n",
    "def insert(coll,index,ele):\n",
    "    if type(coll) !=list or type(index)!=int:\n",
    "        return -1\n",
    "    coll[index:index]=[ele]\n",
    "insert(t,-4,20)\n",
    "print(t)\n"
   ]
  },
  {
   "cell_type": "code",
   "execution_count": null,
   "metadata": {},
   "outputs": [],
   "source": [
    "#wap to sort\n",
    "\n",
    "def sort(coll,)"
   ]
  },
  {
   "cell_type": "code",
   "execution_count": 6,
   "metadata": {},
   "outputs": [
    {
     "name": "stdout",
     "output_type": "stream",
     "text": [
      "None\n",
      "[2, 4, 6, 7, 8, 10, 20, 30, 30, 50]\n"
     ]
    },
    {
     "ename": "IndexError",
     "evalue": "list index out of range",
     "output_type": "error",
     "traceback": [
      "\u001b[1;31m---------------------------------------------------------------------------\u001b[0m",
      "\u001b[1;31mIndexError\u001b[0m                                Traceback (most recent call last)",
      "\u001b[1;32mc:\\Users\\venka\\Documents\\GitHub\\basic-python1\\python-Qspy\\listfunctions.ipynb Cell 3\u001b[0m line \u001b[0;36m1\n\u001b[0;32m     <a href='vscode-notebook-cell:/c%3A/Users/venka/Documents/GitHub/basic-python1/python-Qspy/listfunctions.ipynb#W2sZmlsZQ%3D%3D?line=9'>10</a>\u001b[0m             coll[i],coll[j]\u001b[39m=\u001b[39mcoll[j],coll[i]\n\u001b[0;32m     <a href='vscode-notebook-cell:/c%3A/Users/venka/Documents/GitHub/basic-python1/python-Qspy/listfunctions.ipynb#W2sZmlsZQ%3D%3D?line=10'>11</a>\u001b[0m         j\u001b[39m+\u001b[39m\u001b[39m=\u001b[39m\u001b[39m1\u001b[39m\n\u001b[1;32m---> <a href='vscode-notebook-cell:/c%3A/Users/venka/Documents/GitHub/basic-python1/python-Qspy/listfunctions.ipynb#W2sZmlsZQ%3D%3D?line=11'>12</a>\u001b[0m sort(l)\n",
      "\u001b[1;32mc:\\Users\\venka\\Documents\\GitHub\\basic-python1\\python-Qspy\\listfunctions.ipynb Cell 3\u001b[0m line \u001b[0;36m9\n\u001b[0;32m      <a href='vscode-notebook-cell:/c%3A/Users/venka/Documents/GitHub/basic-python1/python-Qspy/listfunctions.ipynb#W2sZmlsZQ%3D%3D?line=6'>7</a>\u001b[0m j\u001b[39m=\u001b[39m\u001b[39m1\u001b[39m\n\u001b[0;32m      <a href='vscode-notebook-cell:/c%3A/Users/venka/Documents/GitHub/basic-python1/python-Qspy/listfunctions.ipynb#W2sZmlsZQ%3D%3D?line=7'>8</a>\u001b[0m \u001b[39mfor\u001b[39;00m i \u001b[39min\u001b[39;00m \u001b[39mrange\u001b[39m(\u001b[39m0\u001b[39m,\u001b[39mlen\u001b[39m(coll)\u001b[39m+\u001b[39m\u001b[39m2\u001b[39m):\n\u001b[1;32m----> <a href='vscode-notebook-cell:/c%3A/Users/venka/Documents/GitHub/basic-python1/python-Qspy/listfunctions.ipynb#W2sZmlsZQ%3D%3D?line=8'>9</a>\u001b[0m     \u001b[39mif\u001b[39;00m coll[i]\u001b[39m>\u001b[39mcoll[j]:\n\u001b[0;32m     <a href='vscode-notebook-cell:/c%3A/Users/venka/Documents/GitHub/basic-python1/python-Qspy/listfunctions.ipynb#W2sZmlsZQ%3D%3D?line=9'>10</a>\u001b[0m         coll[i],coll[j]\u001b[39m=\u001b[39mcoll[j],coll[i]\n\u001b[0;32m     <a href='vscode-notebook-cell:/c%3A/Users/venka/Documents/GitHub/basic-python1/python-Qspy/listfunctions.ipynb#W2sZmlsZQ%3D%3D?line=10'>11</a>\u001b[0m     j\u001b[39m+\u001b[39m\u001b[39m=\u001b[39m\u001b[39m1\u001b[39m\n",
      "\u001b[1;31mIndexError\u001b[0m: list index out of range"
     ]
    }
   ],
   "source": [
    "l=[10,30,50,2,4,6,7,8,30,20]\n",
    "print(l.sort())\n",
    "print(l)\n",
    "\n",
    "\n",
    "def sort(coll):\n",
    "    j=1\n",
    "    for i in range(0,len(coll)+2):\n",
    "        if coll[i]>coll[j]:\n",
    "            coll[i],coll[j]=coll[j],coll[i]\n",
    "        j+=1\n",
    "sort(l)\n"
   ]
  },
  {
   "cell_type": "code",
   "execution_count": 54,
   "metadata": {},
   "outputs": [
    {
     "name": "stdout",
     "output_type": "stream",
     "text": [
      "[30, 50, 2, 4, 6, 7, 8, 30, 20, 100]\n"
     ]
    }
   ],
   "source": [
    "l=[10,30,50,2,4,6,7,8,30,20,100]\n",
    "del l[0]\n",
    "print(l)"
   ]
  },
  {
   "cell_type": "code",
   "execution_count": 27,
   "metadata": {},
   "outputs": [
    {
     "name": "stdout",
     "output_type": "stream",
     "text": [
      "[10, 30, 50, 2, 4, 6, 7, 8, 30, 20, 100, {10, 20}]\n"
     ]
    }
   ],
   "source": [
    "#append()\n",
    "\n",
    "l=[10,30,50,2,4,6,7,8,30,20,100]\n",
    "def append(coll,ele):\n",
    "    if type(coll)!=list:\n",
    "        return -1\n",
    "    coll+=[ele]\n",
    "append(l,{10,20})\n",
    "print(l)\n",
    "\n"
   ]
  },
  {
   "cell_type": "code",
   "execution_count": 34,
   "metadata": {},
   "outputs": [
    {
     "name": "stdout",
     "output_type": "stream",
     "text": [
      "2\n"
     ]
    },
    {
     "data": {
      "text/plain": [
       "2"
      ]
     },
     "execution_count": 34,
     "metadata": {},
     "output_type": "execute_result"
    }
   ],
   "source": [
    "#count()\n",
    "l=[10,30,50,2,4,6,7,8,30,20,100]\n",
    "print(l.count(30))\n",
    "\n",
    "def count(coll,ele):\n",
    "    if type(coll) !=list:\n",
    "        return -1\n",
    "    count=0\n",
    "    for i in coll:\n",
    "        if i==ele:\n",
    "            count+=1\n",
    "    return count\n",
    "count(l,30)"
   ]
  },
  {
   "cell_type": "code",
   "execution_count": 41,
   "metadata": {},
   "outputs": [
    {
     "name": "stdout",
     "output_type": "stream",
     "text": [
      "10\n"
     ]
    },
    {
     "data": {
      "text/plain": [
       "'element not in list'"
      ]
     },
     "execution_count": 41,
     "metadata": {},
     "output_type": "execute_result"
    }
   ],
   "source": [
    "#index()\n",
    "l=[10,30,50,2,4,6,7,8,30,20,100]\n",
    "print(l.index(100))\n",
    "\n",
    "def index(coll,ele):\n",
    "    if type(coll)!=list:\n",
    "        return -1\n",
    "    if ele not in l:\n",
    "        return \"element not in list\"\n",
    "    for i in range(0,len(coll)):\n",
    "        if coll[i]==ele:\n",
    "            return i\n",
    "index(l,200)"
   ]
  },
  {
   "cell_type": "code",
   "execution_count": 48,
   "metadata": {},
   "outputs": [
    {
     "name": "stdout",
     "output_type": "stream",
     "text": [
      "[10, 30, 50, 2, 4, {400, 300}, 6, 7, 8, 30, 20, 100]\n"
     ]
    }
   ],
   "source": [
    "#insert()\n",
    "\n",
    "l=[10,30,50,2,4,6,7,8,30,20,100]\n",
    "\n",
    "def insert(coll,index,ele):\n",
    "    if type(coll)!=list:\n",
    "        return -1\n",
    "    # for i in range(0,len(coll)):\n",
    "    #     if i==index:\n",
    "\n",
    "    coll[index:index]=[ele]\n",
    "insert(l,5,{300,400})\n",
    "print(l)"
   ]
  },
  {
   "cell_type": "code",
   "execution_count": 63,
   "metadata": {},
   "outputs": [
    {
     "name": "stdout",
     "output_type": "stream",
     "text": [
      "[10, 30, 50, 2, 6, 7, 8, 30, 20, 100]\n",
      "[10, 30, 50, 2, 6, 7, 8, 30, 20, 100]\n"
     ]
    }
   ],
   "source": [
    "l=[10,30,50,2,4,6,7,8,30,20,100]\n",
    "l.pop(-7)\n",
    "print(l)\n",
    "\n",
    "def pop(coll,index=None):\n",
    "    if type(coll)!=list:\n",
    "        return -1\n",
    "    if index==None:\n",
    "        index=len(coll)-1\n",
    "    for i in range(0,len(coll)):\n",
    "        if i==index:\n",
    "            del coll[i]\n",
    "    print(coll)\n",
    "pop(l,-2)\n",
    "# print(l,1)"
   ]
  },
  {
   "cell_type": "markdown",
   "metadata": {},
   "source": [
    "1. len():\n",
    " returns the number of elements present in the list\n",
    "Eg: n=[10,20,30,40]\n",
    " print(len(n))==>4"
   ]
  },
  {
   "cell_type": "code",
   "execution_count": 1,
   "metadata": {},
   "outputs": [
    {
     "name": "stdout",
     "output_type": "stream",
     "text": [
      "8\n"
     ]
    }
   ],
   "source": [
    "l=[1,2,3,4,\"a\",\"b\",\"c\",{1,3}]\n",
    "print(len(l))"
   ]
  },
  {
   "cell_type": "markdown",
   "metadata": {},
   "source": [
    "2. count():\n",
    " It returns the number of occurrences of specified item in the list\n",
    "1) n=[1,2,2,2,2,3,3] \n",
    "2) print(n.count(1)) \n",
    "3) print(n.count(2)) \n",
    "4) print(n.count(3)) \n",
    "5) print(n.count(4))"
   ]
  },
  {
   "cell_type": "code",
   "execution_count": 4,
   "metadata": {},
   "outputs": [
    {
     "name": "stdout",
     "output_type": "stream",
     "text": [
      "4\n",
      "1\n",
      "2\n"
     ]
    }
   ],
   "source": [
    "n=[1,2,2,2,2,3,3] \n",
    "print(n.count(2))\n",
    "print(n.count(1))\n",
    "print(n.count(3))"
   ]
  },
  {
   "cell_type": "markdown",
   "metadata": {},
   "source": [
    "3. index() function:\n",
    "returns the index of first occurrence of the specified item.\n",
    "Eg:\n",
    "1) n=[1,2,2,2,2,3,3] \n",
    "2) print(n.index(1)) ==>0 \n",
    "3) print(n.index(2)) ==>1 \n",
    "4) print(n.index(3)) ==>5 \n",
    "5) print(n.index(4)) ==>ValueError: 4 is not in list"
   ]
  },
  {
   "cell_type": "code",
   "execution_count": 7,
   "metadata": {},
   "outputs": [
    {
     "name": "stdout",
     "output_type": "stream",
     "text": [
      "1\n",
      "4\n"
     ]
    }
   ],
   "source": [
    "n=[1,2,2,2,2,3,3] \n",
    "print(n.index(2))\n",
    "print(n.index(2,4,7))\n"
   ]
  },
  {
   "cell_type": "markdown",
   "metadata": {},
   "source": [
    "1. append() function:\n",
    "We can use append() function to add item at the end of the list"
   ]
  },
  {
   "cell_type": "code",
   "execution_count": 8,
   "metadata": {},
   "outputs": [
    {
     "name": "stdout",
     "output_type": "stream",
     "text": [
      "[1, 2, 3, 4, 5, 6]\n"
     ]
    }
   ],
   "source": [
    "l=[1,2,3,4,5]\n",
    "l.append(6)\n",
    "print(l)"
   ]
  },
  {
   "cell_type": "markdown",
   "metadata": {},
   "source": [
    "2. insert() function:\n",
    "To insert item at specified index position"
   ]
  },
  {
   "cell_type": "code",
   "execution_count": 9,
   "metadata": {},
   "outputs": [
    {
     "name": "stdout",
     "output_type": "stream",
     "text": [
      "[1, 2, 3, 4, 5, 6]\n"
     ]
    }
   ],
   "source": [
    "l=[1,2,4,5,6]\n",
    "l.insert(2,3)\n",
    "print(l)"
   ]
  },
  {
   "cell_type": "markdown",
   "metadata": {},
   "source": [
    "3. extend() function:\n",
    "To add all items of one list to another list"
   ]
  },
  {
   "cell_type": "code",
   "execution_count": 11,
   "metadata": {},
   "outputs": [
    {
     "name": "stdout",
     "output_type": "stream",
     "text": [
      "[1, 2, 3, 4, 5, 6, 7]\n",
      "[5, 6, 7]\n"
     ]
    }
   ],
   "source": [
    "l1=[1,2,3,4]\n",
    "l2=[5,6,7]\n",
    "l1.extend(l2)\n",
    "print(l1)\n",
    "print(l2)"
   ]
  },
  {
   "cell_type": "markdown",
   "metadata": {},
   "source": [
    "4. remove() function:\n",
    "We can use this function to remove specified item from the list.If the item present \n",
    "multiple times then only first occurrence will be removed"
   ]
  },
  {
   "cell_type": "code",
   "execution_count": 15,
   "metadata": {},
   "outputs": [
    {
     "name": "stdout",
     "output_type": "stream",
     "text": [
      "None\n",
      "[1, 2, 3, 4, 5, 6, 7]\n"
     ]
    }
   ],
   "source": [
    "l=[1,2,3,3,4,5,6,7]\n",
    "print(l.remove(3))\n",
    "print(l)"
   ]
  },
  {
   "cell_type": "markdown",
   "metadata": {},
   "source": [
    "5. pop() function:\n",
    "It removes and returns the last element of the list.\n",
    "This is only function which manipulates list and returns some element"
   ]
  },
  {
   "cell_type": "code",
   "execution_count": 17,
   "metadata": {},
   "outputs": [
    {
     "name": "stdout",
     "output_type": "stream",
     "text": [
      "7\n",
      "[1, 2, 3, 3, 4, 5, 6]\n"
     ]
    }
   ],
   "source": [
    "l=[1,2,3,3,4,5,6,7]\n",
    "print(l.pop())\n",
    "print(l)"
   ]
  },
  {
   "cell_type": "markdown",
   "metadata": {},
   "source": [
    "1. reverse():\n",
    " We can use to reverse() order of elements of list"
   ]
  },
  {
   "cell_type": "code",
   "execution_count": 19,
   "metadata": {},
   "outputs": [
    {
     "name": "stdout",
     "output_type": "stream",
     "text": [
      "None\n",
      "[7, 6, 5, 4, 3, 3, 2, 1]\n"
     ]
    }
   ],
   "source": [
    "l=[1,2,3,3,4,5,6,7]\n",
    "print(l.reverse())\n",
    "print(l)"
   ]
  },
  {
   "cell_type": "markdown",
   "metadata": {},
   "source": [
    "2. sort() function:\n",
    "In list by default insertion order is preserved. If want to sort the elements of list according \n",
    "to default natural sorting order then we should go for sort() method.\n",
    "For numbers ==>default natural sorting order is Ascending Order\n",
    "For Strings ==> default natural sorting order is Alphabetical Order"
   ]
  },
  {
   "cell_type": "code",
   "execution_count": 22,
   "metadata": {},
   "outputs": [
    {
     "name": "stdout",
     "output_type": "stream",
     "text": [
      "[False, True, 1, 2, 3, 4, 6]\n"
     ]
    }
   ],
   "source": [
    "l=[2,3,4,6,True,False,1]\n",
    "l.sort()\n",
    "print(l)\n"
   ]
  }
 ],
 "metadata": {
  "kernelspec": {
   "display_name": "Python 3",
   "language": "python",
   "name": "python3"
  },
  "language_info": {
   "codemirror_mode": {
    "name": "ipython",
    "version": 3
   },
   "file_extension": ".py",
   "mimetype": "text/x-python",
   "name": "python",
   "nbconvert_exporter": "python",
   "pygments_lexer": "ipython3",
   "version": "3.11.4"
  },
  "orig_nbformat": 4
 },
 "nbformat": 4,
 "nbformat_minor": 2
}
