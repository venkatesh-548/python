{
 "cells": [
  {
   "cell_type": "code",
   "execution_count": 11,
   "metadata": {},
   "outputs": [
    {
     "name": "stdout",
     "output_type": "stream",
     "text": [
      "{1, 2, 3, 4, 5, 'hello', (7, 8)}\n"
     ]
    }
   ],
   "source": [
    "s={1,2,3,4,5}\n",
    "s.add((7,8))\n",
    "s.add(\"hello\")\n",
    "print(s)"
   ]
  },
  {
   "cell_type": "code",
   "execution_count": 8,
   "metadata": {},
   "outputs": [
    {
     "name": "stdout",
     "output_type": "stream",
     "text": [
      "{1, 2, 3, 4, 5, 6, ('a', 'b')}\n"
     ]
    }
   ],
   "source": [
    "#1 add()\n",
    "s={1,2,3,4,5,6}\n",
    "def add(coll,ele):\n",
    "    if type(coll)!=set:\n",
    "        return False\n",
    "    if type(ele) in [list,set,dict]:\n",
    "        raise Exception(\"set not accept the mutable data\")\n",
    "    coll|={ele}\n",
    "add(s,(\"a\",\"b\"))\n",
    "print(s)"
   ]
  },
  {
   "cell_type": "code",
   "execution_count": 13,
   "metadata": {},
   "outputs": [
    {
     "name": "stdout",
     "output_type": "stream",
     "text": [
      "set()\n"
     ]
    }
   ],
   "source": [
    "#2 clear()\n",
    "s={\"a\",\"b\",2,\"c\",\"d\",4,5}\n",
    "s.clear()\n",
    "print(s)"
   ]
  },
  {
   "cell_type": "code",
   "execution_count": 16,
   "metadata": {},
   "outputs": [
    {
     "name": "stdout",
     "output_type": "stream",
     "text": [
      "{'b', 2, 4, 5, 'c', 'd', 'a'} 2199353913440\n",
      "set() 2199353913440\n"
     ]
    }
   ],
   "source": [
    "#clear()\n",
    "s={\"a\",\"b\",2,\"c\",\"d\",4,5}\n",
    "print(s,id(s))\n",
    "def clear(coll):\n",
    "    if type(coll)!=set:\n",
    "        return -1\n",
    "    coll-=coll\n",
    "clear(s)\n",
    "print(s,id(s))"
   ]
  },
  {
   "cell_type": "code",
   "execution_count": 23,
   "metadata": {},
   "outputs": [
    {
     "name": "stdout",
     "output_type": "stream",
     "text": [
      "{'hai', 20, '2', 30, '1'}\n"
     ]
    }
   ],
   "source": [
    "s={\"hello\",\"hai\",\"1\",\"2\",10,20,30}\n",
    "s.pop()\n",
    "s.pop()\n",
    "print(s)"
   ]
  },
  {
   "cell_type": "code",
   "execution_count": 25,
   "metadata": {},
   "outputs": [
    {
     "name": "stdout",
     "output_type": "stream",
     "text": [
      "2199359032000 {'hello', 10, 'hai', 20, '2', 30, '1'}\n",
      "2199359032000 {10, 'hai', 20, '2', 30, '1'}\n"
     ]
    }
   ],
   "source": [
    "#3pop()\n",
    "s={\"hello\",\"hai\",\"1\",\"2\",10,20,30}\n",
    "print(id(s),s)\n",
    "def pop(coll):\n",
    "    if type(coll)!=set:\n",
    "        return -1\n",
    "    res=list(coll)[0]\n",
    "    coll-={res}\n",
    "pop(s)\n",
    "print(id(s),s)"
   ]
  },
  {
   "cell_type": "code",
   "execution_count": 36,
   "metadata": {},
   "outputs": [
    {
     "name": "stdout",
     "output_type": "stream",
     "text": [
      "{1, 2, 3, 'c', 'a'}\n"
     ]
    }
   ],
   "source": [
    "s={\"a\",\"b\",\"c\",1,2,3,4}\n",
    "s.remove(\"b\")\n",
    "s.remove(4)\n",
    "print(s)"
   ]
  },
  {
   "cell_type": "code",
   "execution_count": 37,
   "metadata": {},
   "outputs": [
    {
     "name": "stdout",
     "output_type": "stream",
     "text": [
      "2199359038944 {'b', 1, 2, 3, 4, 'c', 'a'}\n",
      "2199359038944 {1, 2, 3, 4, 'c', 'a'}\n"
     ]
    }
   ],
   "source": [
    "#4remove()\n",
    "s={\"a\",\"b\",\"c\",1,2,3,4}\n",
    "print(id(s),s)\n",
    "def remove(coll,ele):\n",
    "    if type(coll)!=set:\n",
    "        return -1\n",
    "    if ele not in coll:\n",
    "        raise KeyError(ele)\n",
    "    coll-={ele}\n",
    "remove(s,\"b\")\n",
    "print(id(s),s)"
   ]
  },
  {
   "cell_type": "code",
   "execution_count": 31,
   "metadata": {},
   "outputs": [
    {
     "name": "stdout",
     "output_type": "stream",
     "text": [
      "{'b', 1, 2, (3, 4), 'c'}\n"
     ]
    }
   ],
   "source": [
    "#5 discard()\n",
    "s={\"a\",\"b\",\"c\",1,2,(3,4)}\n",
    "s.discard(\"a\")\n",
    "s.discard((3,4,5))\n",
    "print(s)"
   ]
  },
  {
   "cell_type": "code",
   "execution_count": 38,
   "metadata": {},
   "outputs": [
    {
     "name": "stdout",
     "output_type": "stream",
     "text": [
      "2199359038496 {'b', 1, 2, (3, 4), 'c', 'a'}\n",
      "2199359038496 {1, 2, (3, 4), 'c', 'a'}\n"
     ]
    }
   ],
   "source": [
    "#discard\n",
    "s={\"a\",\"b\",\"c\",1,2,(3,4)}\n",
    "print(id(s),s)\n",
    "def discard(coll,ele):\n",
    "    if type(coll)!=set:\n",
    "        return -1\n",
    "    coll-={ele}\n",
    "discard(s,\"b\")\n",
    "print(id(s),s)"
   ]
  },
  {
   "cell_type": "code",
   "execution_count": 41,
   "metadata": {},
   "outputs": [
    {
     "data": {
      "text/plain": [
       "True"
      ]
     },
     "execution_count": 41,
     "metadata": {},
     "output_type": "execute_result"
    }
   ],
   "source": [
    "s1={1,2,3,4,5}\n",
    "s2={1,2,3}\n",
    "s1.issuperset(s2)"
   ]
  },
  {
   "cell_type": "code",
   "execution_count": 44,
   "metadata": {},
   "outputs": [
    {
     "data": {
      "text/plain": [
       "True"
      ]
     },
     "execution_count": 44,
     "metadata": {},
     "output_type": "execute_result"
    }
   ],
   "source": [
    "#6 issuperset\n",
    "s1={1,2,3,4,5}\n",
    "s2={1,2,3}\n",
    "def issuperset(coll1,coll2):\n",
    "    if type(coll1)!=set or  type(coll2)!=set:\n",
    "        return -1\n",
    "    for i in coll2:\n",
    "        if i not in coll1:\n",
    "            return False\n",
    "    return True\n",
    "issuperset(s1,s2)\n"
   ]
  },
  {
   "cell_type": "code",
   "execution_count": 46,
   "metadata": {},
   "outputs": [
    {
     "data": {
      "text/plain": [
       "True"
      ]
     },
     "execution_count": 46,
     "metadata": {},
     "output_type": "execute_result"
    }
   ],
   "source": [
    "s1={1,2,3,4,5}\n",
    "s2={1,2,3}\n",
    "s2.issubset(s1)"
   ]
  },
  {
   "cell_type": "code",
   "execution_count": 49,
   "metadata": {},
   "outputs": [
    {
     "data": {
      "text/plain": [
       "True"
      ]
     },
     "execution_count": 49,
     "metadata": {},
     "output_type": "execute_result"
    }
   ],
   "source": [
    "#7 issubset()\n",
    "\n",
    "s1={1,2,3,4,5}\n",
    "s2={1,2,3}\n",
    "def issubset(coll1,coll2):\n",
    "    if type(coll1)!=set or  type(coll2)!=set:\n",
    "        return -1\n",
    "    for i in coll2:\n",
    "        if i not in coll1:\n",
    "            return False\n",
    "    return True\n",
    "issubset(s1,s2)"
   ]
  },
  {
   "cell_type": "code",
   "execution_count": 52,
   "metadata": {},
   "outputs": [
    {
     "name": "stdout",
     "output_type": "stream",
     "text": [
      "2199359041408 {1, 2, 3, 4, 5}\n",
      "2199359038720 {1, 2, 3, 4, 5}\n"
     ]
    }
   ],
   "source": [
    "s1={1,2,3,4,5}\n",
    "s2=s1.copy()\n",
    "print(id(s1),s1)\n",
    "print(id(s2),s2)"
   ]
  },
  {
   "cell_type": "code",
   "execution_count": 57,
   "metadata": {},
   "outputs": [
    {
     "name": "stdout",
     "output_type": "stream",
     "text": [
      "2199359042752 {1, 2, 3, 4, 5}\n",
      "2199359043648 {1, 2, 3, 4, 5}\n"
     ]
    }
   ],
   "source": [
    "#8 copy\n",
    "s1={1,2,3,4,5}\n",
    "\n",
    "def copy(coll):\n",
    "    if type(coll)!=set:\n",
    "        return -1\n",
    "    res=set()\n",
    "    l=list(coll)\n",
    "    for i in l:\n",
    "        res|={i}\n",
    "    return res\n",
    "t=copy(s1)\n",
    "print(id(t),t)\n",
    "print(id(s1),s1)"
   ]
  },
  {
   "cell_type": "code",
   "execution_count": 65,
   "metadata": {},
   "outputs": [
    {
     "name": "stdout",
     "output_type": "stream",
     "text": [
      "{1, 2, 3, 4, 5, 'l', 11, 13, 'o', 'h', 'e'}\n"
     ]
    }
   ],
   "source": [
    "#update()\n",
    "s1={1,2,3,4,5}\n",
    "s1.update({11:12,13:14})\n",
    "s1.update(\"hello\")\n",
    "print(s1)"
   ]
  },
  {
   "cell_type": "code",
   "execution_count": 70,
   "metadata": {},
   "outputs": [
    {
     "name": "stdout",
     "output_type": "stream",
     "text": [
      "140730853256392 None\n",
      "2199359033792 {1, 2, 3, 4, 5, 10, 30}\n"
     ]
    }
   ],
   "source": [
    "#update()\n",
    "s1={1,2,3,4,5}\n",
    "\n",
    "def update(coll,ele):\n",
    "    if type(coll)!=set:\n",
    "        return -1\n",
    "    if type(coll)  in [int,float,complex,bytearray,bytes]:\n",
    "        return -1\n",
    "    res=set(ele)\n",
    "    coll |=res\n",
    "t=update(s1,{10:20,30:40})\n",
    "print(id(t),t)\n",
    "print(id(s1),s1)"
   ]
  },
  {
   "cell_type": "code",
   "execution_count": 72,
   "metadata": {},
   "outputs": [
    {
     "name": "stdout",
     "output_type": "stream",
     "text": [
      "{40, 10, 50, 20, 60, 30}\n"
     ]
    }
   ],
   "source": [
    "#union()\n",
    "\n",
    "x={10,20,30,40}\n",
    "y={10,20,30,40,50,60}\n",
    "print(x|y)"
   ]
  },
  {
   "cell_type": "code",
   "execution_count": 78,
   "metadata": {},
   "outputs": [
    {
     "name": "stdout",
     "output_type": "stream",
     "text": [
      "{40, 10, 50, 20, 60, 30}\n",
      "{40, 10, 50, 20, 60, 30}\n",
      "{50, 20, 40, 10, 60, 30}\n"
     ]
    }
   ],
   "source": [
    "#union()\n",
    "x={10,20,30,40}\n",
    "y={10,20,30,40,50,60}\n",
    "print(x|y)\n",
    "def union(coll1,coll2):\n",
    "    if type(coll1)!=set or  type(coll2)!=set:\n",
    "        return -1\n",
    "    coll1 |=coll2\n",
    "union(x,y)\n",
    "print(x)\n",
    "print(y)\n",
    "\n",
    "    "
   ]
  },
  {
   "cell_type": "code",
   "execution_count": 82,
   "metadata": {},
   "outputs": [
    {
     "name": "stdout",
     "output_type": "stream",
     "text": [
      "2199361373568 {40, 10, 20, 30}\n",
      "2199361373568 {40, 10, 20, 30}\n"
     ]
    }
   ],
   "source": [
    "x={10,20,30,40}\n",
    "y={10,20,30,40,50,60}\n",
    "print(id(x),x)\n",
    "x&=y\n",
    "print(id(x),x)"
   ]
  },
  {
   "cell_type": "code",
   "execution_count": 94,
   "metadata": {},
   "outputs": [
    {
     "data": {
      "text/plain": [
       "{10, 20, 30, 40}"
      ]
     },
     "execution_count": 94,
     "metadata": {},
     "output_type": "execute_result"
    }
   ],
   "source": [
    "x={10,20,30,40}\n",
    "y={10,20,30,40,50,60,70}\n",
    "def intersection(coll1,coll2):\n",
    "    if type(coll1)!=set or  type(coll2)!=set:\n",
    "        return -1\n",
    "    coll=set()\n",
    "    for i in coll1:\n",
    "        for j in coll2:\n",
    "            if i==j:\n",
    "                coll|={i}\n",
    "    return coll\n",
    "intersection(x,y)\n",
    "# print(coll)\n",
    "    \n",
    "    "
   ]
  },
  {
   "cell_type": "code",
   "execution_count": 2,
   "metadata": {},
   "outputs": [
    {
     "name": "stdout",
     "output_type": "stream",
     "text": [
      "{200, 100, 110}\n"
     ]
    }
   ],
   "source": [
    "#difference()\n",
    "x={10,20,30,40,100,200,110}\n",
    "y={10,20,30,40,50,60,70}\n",
    "res=x-y\n",
    "print(res)\n"
   ]
  },
  {
   "cell_type": "code",
   "execution_count": 5,
   "metadata": {},
   "outputs": [
    {
     "name": "stdout",
     "output_type": "stream",
     "text": [
      "{200, 100, 110}\n"
     ]
    }
   ],
   "source": [
    "x={10,20,30,40,100,200,110}\n",
    "y={10,20,30,40,50,60,70}\n",
    "def difference(coll1,coll2):\n",
    "    if type(coll1)!=set or type(coll2)!=set:\n",
    "        return -1\n",
    "    res=set()\n",
    "    res=coll1-coll2\n",
    "difference(x,y)\n",
    "print(res)"
   ]
  },
  {
   "cell_type": "code",
   "execution_count": 8,
   "metadata": {},
   "outputs": [
    {
     "name": "stdout",
     "output_type": "stream",
     "text": [
      "{50, 100, 70, 200, 110, 60}\n"
     ]
    }
   ],
   "source": [
    "x={10,20,30,40,100,200,110}\n",
    "y={10,20,30,40,50,60,70}\n",
    "x.symmetric_difference(y)\n",
    "x=x^y\n",
    "print(x)"
   ]
  },
  {
   "cell_type": "code",
   "execution_count": 6,
   "metadata": {},
   "outputs": [
    {
     "name": "stdout",
     "output_type": "stream",
     "text": [
      "{200, 100, 110}\n"
     ]
    }
   ],
   "source": [
    "x={10,20,30,40,100,200,110}\n",
    "y={10,20,30,40,50,60,70}\n",
    "def difference(coll1,coll2):\n",
    "    if type(coll1)!=set or type(coll2)!=set:\n",
    "        return -1\n",
    "    res=set()\n",
    "    res=coll1-coll2\n",
    "    res=coll2-coll1\n",
    "difference(x,y)\n",
    "print(res)"
   ]
  }
 ],
 "metadata": {
  "kernelspec": {
   "display_name": "Python 3",
   "language": "python",
   "name": "python3"
  },
  "language_info": {
   "codemirror_mode": {
    "name": "ipython",
    "version": 3
   },
   "file_extension": ".py",
   "mimetype": "text/x-python",
   "name": "python",
   "nbconvert_exporter": "python",
   "pygments_lexer": "ipython3",
   "version": "3.11.4"
  }
 },
 "nbformat": 4,
 "nbformat_minor": 2
}
