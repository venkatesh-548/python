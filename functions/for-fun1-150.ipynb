{
 "cells": [
  {
   "cell_type": "code",
   "execution_count": 6,
   "metadata": {},
   "outputs": [
    {
     "name": "stdout",
     "output_type": "stream",
     "text": [
      "idovan \n"
     ]
    }
   ],
   "source": [
    "# 2WAP to print all the items present in the string between the range from m to n.\n",
    "\n",
    "def fun(m,n):\n",
    "    st=\"guidovan rossum\"\n",
    "    res=\"\"\n",
    "    while m<=n:\n",
    "        res+=st[m]\n",
    "        m+=1\n",
    "    print(res)\n",
    "fun(2,8)\n",
    "# fun(0,-1)"
   ]
  },
  {
   "cell_type": "code",
   "execution_count": 8,
   "metadata": {},
   "outputs": [
    {
     "name": "stdout",
     "output_type": "stream",
     "text": [
      "PTHONAM\n",
      "PYTHON\n"
     ]
    }
   ],
   "source": [
    "# 3 WAP to print the uppercase characters in a given string\n",
    "\n",
    "def upper(st):\n",
    "    res=\"\"\n",
    "    for i in st:\n",
    "        if \"A\"<=i<=\"Z\":\n",
    "            res+=i\n",
    "    print(res)\n",
    "upper(\"PyTHON progrAM\")\n",
    "upper(\"PYTHON\")\n"
   ]
  },
  {
   "cell_type": "code",
   "execution_count": 9,
   "metadata": {},
   "outputs": [
    {
     "name": "stdout",
     "output_type": "stream",
     "text": [
      "yprogr\n"
     ]
    }
   ],
   "source": [
    "#4 WAP to print the lowercase characters in a given string.\n",
    "\n",
    "\n",
    "def lower(st):\n",
    "    res=\"\"\n",
    "    for i in st:\n",
    "        if \"a\"<=i<=\"z\":\n",
    "            res+=i\n",
    "    print(res)\n",
    "lower(\"PyTHON progrAM\")"
   ]
  },
  {
   "cell_type": "code",
   "execution_count": 12,
   "metadata": {},
   "outputs": [
    {
     "name": "stdout",
     "output_type": "stream",
     "text": [
      "199120\n"
     ]
    }
   ],
   "source": [
    "# 5 WAP to print the ascii numbers(Digits) characters in a given string.\n",
    "\n",
    "def asci(st):\n",
    "    res=\"\"\n",
    "    for i in st:\n",
    "        if \"0\"<=i<=\"9\":\n",
    "            res+=i\n",
    "    print(res)\n",
    "asci(\"guido van@ 1991 feb#$%^ 20\")\n"
   ]
  },
  {
   "cell_type": "code",
   "execution_count": 13,
   "metadata": {},
   "outputs": [
    {
     "name": "stdout",
     "output_type": "stream",
     "text": [
      " @  #$%^ \n"
     ]
    }
   ],
   "source": [
    "# 6 WAP to print the special characters in a given string.\n",
    "\n",
    "def spc(st):\n",
    "    res=\"\"\n",
    "    for i in st:\n",
    "        if not(\"0\"<=i<=\"9\" or \"A\"<=i<=\"Z\" or \"a\"<=i<=\"z\"):\n",
    "            res+=i\n",
    "    print(res)\n",
    "spc(\"guido van@ 1991 feb#$%^ 20\")"
   ]
  },
  {
   "cell_type": "code",
   "execution_count": 14,
   "metadata": {},
   "outputs": [
    {
     "name": "stdout",
     "output_type": "stream",
     "text": [
      "OoA\n"
     ]
    }
   ],
   "source": [
    "# 7 WAP to Print the vowels in a given string\n",
    "\n",
    "def str(st):\n",
    "    res=\"\"\n",
    "    for i in st:\n",
    "        if i in \"aeiouAEIOU\":\n",
    "            res+=i\n",
    "    print(res)\n",
    "str(\"PyTHON progrAM\")"
   ]
  },
  {
   "cell_type": "code",
   "execution_count": 15,
   "metadata": {},
   "outputs": [
    {
     "name": "stdout",
     "output_type": "stream",
     "text": [
      "PyTHN prgrM\n"
     ]
    }
   ],
   "source": [
    "#8 WAP to Print the consonants in a given string\n",
    "\n",
    "def const(st):\n",
    "    res=\"\"\n",
    "    for i in st:\n",
    "        if i not in \"aeiouAEIOU\":\n",
    "            res+=i\n",
    "    print(res)\n",
    "const(\"PyTHON progrAM\")"
   ]
  },
  {
   "cell_type": "code",
   "execution_count": 19,
   "metadata": {},
   "outputs": [
    {
     "name": "stdout",
     "output_type": "stream",
     "text": [
      "nalayalam\n"
     ]
    }
   ],
   "source": [
    "#9 WAP to print the reverse of the characters in a given string.\n",
    "\n",
    "def rev(st):\n",
    "    res=\"\"\n",
    "    for i in st:\n",
    "        res=i+res\n",
    "    print(res)\n",
    "rev(\"malayalan\")\n"
   ]
  },
  {
   "cell_type": "code",
   "execution_count": 20,
   "metadata": {},
   "outputs": [
    {
     "name": "stdout",
     "output_type": "stream",
     "text": [
      "hlowrdpto\n"
     ]
    }
   ],
   "source": [
    "#10 WAP to print even position values characters in a given string.\n",
    "\n",
    "def str(st):\n",
    "    res=\"\"\n",
    "    for i in range(len(st)):\n",
    "        if i%2==0:\n",
    "            res+=st[i]\n",
    "    print(res)\n",
    "str(\"hello world python\")"
   ]
  },
  {
   "cell_type": "code",
   "execution_count": 21,
   "metadata": {},
   "outputs": [
    {
     "name": "stdout",
     "output_type": "stream",
     "text": [
      "el ol yhn\n"
     ]
    }
   ],
   "source": [
    "#11 WAP to print odd position values characters in a given string.\n",
    "\n",
    "def str(st):\n",
    "    res=\"\"\n",
    "    for i in range(len(st)):\n",
    "        if i%2!=0:\n",
    "            res+=st[i]\n",
    "    print(res)\n",
    "str(\"hello world python\")"
   ]
  },
  {
   "cell_type": "code",
   "execution_count": 22,
   "metadata": {},
   "outputs": [
    {
     "name": "stdout",
     "output_type": "stream",
     "text": [
      "14\n"
     ]
    }
   ],
   "source": [
    "#12 WAP to count the total Number of characters in a given string.(with length function)\n",
    "\n",
    "def str(st):\n",
    "    print(len(st))\n",
    "str(\"python program\")"
   ]
  },
  {
   "cell_type": "code",
   "execution_count": 24,
   "metadata": {},
   "outputs": [
    {
     "name": "stdout",
     "output_type": "stream",
     "text": [
      "14\n"
     ]
    }
   ],
   "source": [
    "#13 WAP to count the total Number of characters in a given string.(without length function)\n",
    "\n",
    "def str(st):\n",
    "    count=0\n",
    "    for i in st:\n",
    "        count+=1\n",
    "    print(count)\n",
    "str(\"python program\")"
   ]
  },
  {
   "cell_type": "code",
   "execution_count": 25,
   "metadata": {},
   "outputs": [
    {
     "name": "stdout",
     "output_type": "stream",
     "text": [
      "11\n"
     ]
    }
   ],
   "source": [
    "#14. WAP to count alphabets in a given string.\n",
    " \n",
    "def asci(st):\n",
    "    res=0\n",
    "    for i in st:\n",
    "        if \"A\"<=i<=\"Z\" or \"a\"<=i<=\"z\":\n",
    "            res+=1\n",
    "    print(res)\n",
    "asci(\"guido van@ 1991 feb#$%^ 20\")"
   ]
  },
  {
   "cell_type": "code",
   "execution_count": 26,
   "metadata": {},
   "outputs": [
    {
     "name": "stdout",
     "output_type": "stream",
     "text": [
      "5\n"
     ]
    }
   ],
   "source": [
    "# 15. WAP to count Number of uppercase in a given string.\n",
    "\n",
    "def asci(st):\n",
    "    res=0\n",
    "    for i in st:\n",
    "        if \"A\"<=i<=\"Z\":\n",
    "            res+=1\n",
    "    print(res)\n",
    "asci(\"gUiDO van@ 1991 FEb#$%^ 20\")"
   ]
  },
  {
   "cell_type": "code",
   "execution_count": 27,
   "metadata": {},
   "outputs": [
    {
     "name": "stdout",
     "output_type": "stream",
     "text": [
      "6\n"
     ]
    }
   ],
   "source": [
    "# 16. WAP to count lowercase in a given string.\n",
    "\n",
    "def asci(st):\n",
    "    res=0\n",
    "    for i in st:\n",
    "        if \"a\"<=i<=\"z\":\n",
    "            res+=1\n",
    "    print(res)\n",
    "asci(\"gUiDO van@ 1991 FEb#$%^ 20\")"
   ]
  },
  {
   "cell_type": "code",
   "execution_count": 28,
   "metadata": {},
   "outputs": [
    {
     "name": "stdout",
     "output_type": "stream",
     "text": [
      "9\n"
     ]
    }
   ],
   "source": [
    "# 17. WAP to count Number of special symbols in a given string.\n",
    "\n",
    "def asci(st):\n",
    "    res=0\n",
    "    for i in st:\n",
    "        if not(\"a\"<=i<=\"z\" or \"A\"<=i<=\"Z\" or \"0\"<=i<=\"9\"):\n",
    "            res+=1\n",
    "    print(res)\n",
    "asci(\"gUiDO van@ 1991 FEb#$%^ 20\")"
   ]
  },
  {
   "cell_type": "code",
   "execution_count": 29,
   "metadata": {},
   "outputs": [
    {
     "name": "stdout",
     "output_type": "stream",
     "text": [
      "11\n"
     ]
    }
   ],
   "source": [
    "# 18. WAP to count uppercase and lowercase in a given string.\n",
    "\n",
    "def asci(st):\n",
    "    res=0\n",
    "    for i in st:\n",
    "        if (\"a\"<=i<=\"z\" or \"A\"<=i<=\"Z\"):\n",
    "            res+=1\n",
    "    print(res)\n",
    "asci(\"gUiDO van@ 1991 FEb#$%^ 20\")"
   ]
  },
  {
   "cell_type": "code",
   "execution_count": 30,
   "metadata": {},
   "outputs": [
    {
     "name": "stdout",
     "output_type": "stream",
     "text": [
      "6\n"
     ]
    }
   ],
   "source": [
    "# 19. WAP to count Number of ascii numbers in a given string\n",
    "\n",
    "def asci(st):\n",
    "    res=0\n",
    "    for i in st:\n",
    "        if (\"0\"<=i<=\"9\"):\n",
    "            res+=1\n",
    "    print(res)\n",
    "asci(\"gUiDO van@ 1991 FEb#$%^ 20\")"
   ]
  },
  {
   "cell_type": "code",
   "execution_count": 35,
   "metadata": {},
   "outputs": [
    {
     "name": "stdout",
     "output_type": "stream",
     "text": [
      "['gUiDO', 'van@', '1991', 'FEb#$%^', '20']\n",
      "['python', 'is', 'a', 'programming', 'language']\n"
     ]
    }
   ],
   "source": [
    "# 20. WAP to Count Total Number of Words in a String.\n",
    "\n",
    "def word(st):\n",
    "    res=\"\"\n",
    "    l=[]\n",
    "    for i in st:\n",
    "        if i!=\" \":\n",
    "            res+=i\n",
    "        else:\n",
    "            if len(res)>=1:\n",
    "                l+=[res]\n",
    "                res=\"\"\n",
    "    else:\n",
    "        l+=[res]\n",
    "    print(l)\n",
    "word(\"gUiDO van@ 1991 FEb#$%^ 20\")\n",
    "word(\"python is a programming language\")\n",
    "\n"
   ]
  },
  {
   "cell_type": "code",
   "execution_count": 36,
   "metadata": {},
   "outputs": [
    {
     "name": "stdout",
     "output_type": "stream",
     "text": [
      "4\n"
     ]
    }
   ],
   "source": [
    "# 21. WAP to Count Total Number of spaces in a String.\n",
    "\n",
    "def asci(st):\n",
    "    res=0\n",
    "    for i in st:\n",
    "        if i==\" \":\n",
    "            res+=1\n",
    "    print(res)\n",
    "asci(\"gUiDO van@ 1991 FEb#$%^ 20\")\n"
   ]
  },
  {
   "cell_type": "code",
   "execution_count": 38,
   "metadata": {},
   "outputs": [
    {
     "name": "stdout",
     "output_type": "stream",
     "text": [
      "5\n"
     ]
    }
   ],
   "source": [
    "# 22. WAP to Count Vowels in a String\n",
    "\n",
    "def asci(st):\n",
    "    res=0\n",
    "    for i in st:\n",
    "        if i in \"aeiouAEIOU\":\n",
    "            res+=1\n",
    "    print(res)\n",
    "asci(\"gUiDO van@ 1991 FEb#$%^ 20\")"
   ]
  },
  {
   "cell_type": "code",
   "execution_count": 39,
   "metadata": {},
   "outputs": [
    {
     "name": "stdout",
     "output_type": "stream",
     "text": [
      "21\n"
     ]
    }
   ],
   "source": [
    "# 23. WAP to Count consonants in a String.\n",
    "\n",
    "def asci(st):\n",
    "    res=0\n",
    "    for i in st:\n",
    "        if i not in \"aeiouAEIOU\":\n",
    "            res+=1\n",
    "    print(res)\n",
    "asci(\"gUiDO van@ 1991 FEb#$%^ 20\")"
   ]
  },
  {
   "cell_type": "code",
   "execution_count": 40,
   "metadata": {},
   "outputs": [
    {
     "name": "stdout",
     "output_type": "stream",
     "text": [
      "11\n"
     ]
    }
   ],
   "source": [
    "# 24. WAP to Count Vowels and Consonants in a String.\n",
    "\n",
    "def asci(st):\n",
    "    res=0\n",
    "    for i in st:\n",
    "        if \"A\"<=i<=\"Z\" or \"a\"<=i<=\"z\":\n",
    "            res+=1\n",
    "    print(res)\n",
    "asci(\"gUiDO van@ 1991 FEb#$%^ 20\")"
   ]
  },
  {
   "cell_type": "code",
   "execution_count": 45,
   "metadata": {},
   "outputs": [
    {
     "name": "stdout",
     "output_type": "stream",
     "text": [
      "3\n"
     ]
    }
   ],
   "source": [
    "#25. WAP to count Number of new lines in a given string\n",
    "\n",
    "def asci(st):\n",
    "    res=0\n",
    "    for i in st:\n",
    "        if i==\"\\n\":\n",
    "            res+=1\n",
    "    print(res)\n",
    "asci(\"\"\"WAP to count no of alphabets \n",
    "     numbers, and special characters\n",
    "      in a given string.\n",
    "     WAP to count Number of new lines in a given string.\"\"\")"
   ]
  },
  {
   "cell_type": "code",
   "execution_count": 46,
   "metadata": {},
   "outputs": [
    {
     "name": "stdout",
     "output_type": "stream",
     "text": [
      "4\n"
     ]
    }
   ],
   "source": [
    "# 26. WAP to count Number of lines in a given string.\n",
    "\n",
    "def asci(st):\n",
    "    res=1\n",
    "    for i in st:\n",
    "        if i==\"\\n\":\n",
    "            res+=1\n",
    "    print(res)\n",
    "asci(\"\"\"WAP to count no of alphabets \n",
    "     numbers, and special characters\n",
    "      in a given string.\n",
    "     WAP to count Number of new lines in a given string.\"\"\")"
   ]
  },
  {
   "cell_type": "code",
   "execution_count": null,
   "metadata": {},
   "outputs": [],
   "source": [
    "# 27. WAP to count no of alphabets, numbers, and special characters in a given string.\n",
    "\n",
    "def str(st):\n",
    "    count=0\n",
    "    for i in st:\n",
    "        count+=1\n",
    "    print(count)\n",
    "str(\"\")"
   ]
  },
  {
   "cell_type": "code",
   "execution_count": 13,
   "metadata": {},
   "outputs": [
    {
     "name": "stdout",
     "output_type": "stream",
     "text": [
      "WAP to count no of alphabets \n",
      "6\n"
     ]
    }
   ],
   "source": [
    "#28. WAP to Count Total no of words in a first line of the Doc String.\n",
    "\n",
    "def word(st):\n",
    "    count=0\n",
    "    res=\"\"\n",
    "    for i in st:\n",
    "        if i!=\"\\n\":\n",
    "            res+=i\n",
    "        else:\n",
    "            print(res)\n",
    "            break \n",
    "    for i in res:\n",
    "        if i==\" \"   :\n",
    "            count+=1\n",
    "    print(count)\n",
    "word(\"\"\"WAP to count no of alphabets \n",
    "     numbers, and special characters\n",
    "      in a given string.\n",
    "     WAP to count Number of new lines in a given string.\"\"\")\n",
    "                \n"
   ]
  },
  {
   "cell_type": "code",
   "execution_count": 20,
   "metadata": {},
   "outputs": [
    {
     "name": "stdout",
     "output_type": "stream",
     "text": [
      "15\n",
      "45\n"
     ]
    }
   ],
   "source": [
    "# 29. WAP to sum of digits in a given string.\n",
    "\n",
    "def sum(n):\n",
    "    sum1=0\n",
    "    for i in n:\n",
    "        sum1+=int(i)\n",
    "    print(sum1)\n",
    "sum(\"12345\")\n",
    "sum(\"987654321\")\n"
   ]
  },
  {
   "cell_type": "code",
   "execution_count": 22,
   "metadata": {},
   "outputs": [
    {
     "name": "stdout",
     "output_type": "stream",
     "text": [
      "helo wrd\n",
      "python\n"
     ]
    }
   ],
   "source": [
    "# 30. WAP to Print First Occurrence of a Character in a String.\n",
    "\n",
    "def first(st):\n",
    "    res=\"\"\n",
    "    for i in st:\n",
    "        if i not in res:\n",
    "            res+=i\n",
    "    print(res)\n",
    "first(\"hello world\")\n",
    "first(\"python\")"
   ]
  },
  {
   "cell_type": "code",
   "execution_count": 1,
   "metadata": {},
   "outputs": [
    {
     "name": "stdout",
     "output_type": "stream",
     "text": [
      "\n"
     ]
    }
   ],
   "source": [
    "# 31. WAP to Print Last Occurrence of a Character in a String.\n",
    "\n",
    "def first(st):\n",
    "    res=\"\"\n",
    "    for i in st:\n",
    "        if i not in res:\n",
    "            pass\n",
    "        else:\n",
    "            res+=i\n",
    "    print(res)\n",
    "first(\"hello world\")\n",
    "# first(\"python\")"
   ]
  },
  {
   "cell_type": "code",
   "execution_count": 32,
   "metadata": {},
   "outputs": [
    {
     "name": "stdout",
     "output_type": "stream",
     "text": [
      "l 2\n",
      "o 4\n"
     ]
    }
   ],
   "source": [
    "# 30. WAP to Print First Occurrence of a Character in a String.\n",
    "\n",
    "def fun(st,ch,occ,count=0):\n",
    "    for i in range(len(st)):\n",
    "        if st[i]==ch:\n",
    "            count+=1\n",
    "            if count==occ:\n",
    "                print(st[i],i)\n",
    "fun(\"hello python\",\"l\",1,0)\n",
    "fun(\"hello python\",\"o\",1,0)           "
   ]
  },
  {
   "cell_type": "code",
   "execution_count": 7,
   "metadata": {},
   "outputs": [
    {
     "name": "stdout",
     "output_type": "stream",
     "text": [
      "2\n"
     ]
    },
    {
     "data": {
      "text/plain": [
       "(5, 6)"
      ]
     },
     "execution_count": 7,
     "metadata": {},
     "output_type": "execute_result"
    }
   ],
   "source": [
    "d={1:2,3:4,5:6}\n",
    "print(d[1])\n",
    "d.popitem()"
   ]
  },
  {
   "cell_type": "code",
   "execution_count": 8,
   "metadata": {},
   "outputs": [
    {
     "name": "stdout",
     "output_type": "stream",
     "text": [
      "l 9\n"
     ]
    }
   ],
   "source": [
    "# 31. WAP to Print Last Occurrence of a Character in a String.\n",
    "\n",
    "def fun(st,chr,occ=0,count=0,cou=0):\n",
    "    for i in range(len(st)):\n",
    "        if st[i]==chr:\n",
    "            cou+=1\n",
    "    occ=cou\n",
    "    for i in range(len(st)):\n",
    "        if st[i]==chr:\n",
    "            count+=1\n",
    "            if count==occ:\n",
    "                print(st[i],i)\n",
    "fun(\"hello world\",\"l\")"
   ]
  },
  {
   "cell_type": "code",
   "execution_count": 37,
   "metadata": {},
   "outputs": [
    {
     "name": "stdout",
     "output_type": "stream",
     "text": [
      "l 3\n",
      "l 16\n",
      "o 10\n",
      "o 14\n"
     ]
    }
   ],
   "source": [
    "#32. WAP to Print First not Occurrence of a Character in a String.\n",
    "def fun(st,ch,occ,count=0):\n",
    "    for i in range(len(st)):\n",
    "        if st[i]==ch:\n",
    "            count+=1\n",
    "            if count==occ:\n",
    "                pass\n",
    "            else:\n",
    "                print(st[i],i)\n",
    "fun(\"hello python world\",\"l\",1,0)\n",
    "fun(\"hello python world\",\"o\",1,0)   "
   ]
  },
  {
   "cell_type": "code",
   "execution_count": 39,
   "metadata": {},
   "outputs": [
    {
     "name": "stdout",
     "output_type": "stream",
     "text": [
      "o 4\n",
      "o 7\n"
     ]
    }
   ],
   "source": [
    "#33. WAP to Print last not Occurrence of a Character in a String.\n",
    "\n",
    "def fun(st,chr,occ=0,count=0,cou=0):\n",
    "    for i in range(len(st)):\n",
    "        if st[i]==chr:\n",
    "            cou+=1\n",
    "    occ=cou\n",
    "    for i in range(len(st)):\n",
    "        if st[i]==chr:\n",
    "            count+=1\n",
    "            if count==occ:\n",
    "                pass\n",
    "            else:\n",
    "                print(st[i],i)\n",
    "fun(\"hello world python\",\"o\")"
   ]
  },
  {
   "cell_type": "code",
   "execution_count": 23,
   "metadata": {},
   "outputs": [
    {
     "name": "stdout",
     "output_type": "stream",
     "text": [
      "hell world\n",
      "helo world\n"
     ]
    }
   ],
   "source": [
    "# 34. WAP to Remove First Occurrence of a Character in a String.\n",
    "\n",
    "def fun(st,ch,occ=1,count=0,res=\"\",cou=0):\n",
    "    for i in range(len(st)):\n",
    "            if st[i]==ch:\n",
    "                count+=1\n",
    "                if count==occ:\n",
    "                    res+=\"\"\n",
    "                else:\n",
    "                    res+=st[i]\n",
    "            else:\n",
    "                res+=st[i]\n",
    "    print(res)\n",
    "fun(\"hello world\",\"o\")\n",
    "fun(\"hello world\",\"l\")\n"
   ]
  },
  {
   "cell_type": "code",
   "execution_count": 22,
   "metadata": {},
   "outputs": [
    {
     "name": "stdout",
     "output_type": "stream",
     "text": [
      "2\n",
      "hello wrld\n",
      "3\n",
      "hello word\n"
     ]
    }
   ],
   "source": [
    "# 35. WAP to Remove Last Occurred Character in a String.\n",
    "\n",
    "def fun(st,ch,occ=1,count=0,res=\"\",cou=0):\n",
    "    for i in range(len(st)):\n",
    "        if st[i]==ch:\n",
    "            cou+=1\n",
    "        occ=cou\n",
    "    print(occ)\n",
    "    for i in range(len(st)):\n",
    "        if st[i]==ch:\n",
    "            count+=1\n",
    "            if count==occ:\n",
    "                res+=\"\"\n",
    "            else:\n",
    "                res+=st[i]\n",
    "        else:\n",
    "            res+=st[i]\n",
    "    print(res)\n",
    "fun(\"hello world\",\"o\")\n",
    "fun(\"hello world\",\"l\")\n"
   ]
  },
  {
   "cell_type": "code",
   "execution_count": 30,
   "metadata": {},
   "outputs": [
    {
     "name": "stdout",
     "output_type": "stream",
     "text": [
      "3 l\n",
      "2 o\n"
     ]
    }
   ],
   "source": [
    "# 36. WAP to count the occurrence of a specific character in a given string.\n",
    "\n",
    "def fun(st,chr,count=0):\n",
    "    for i in range(len(st)):\n",
    "        if st[i]==chr:\n",
    "            count+=1\n",
    "    print(count,chr)\n",
    "fun(\"hello world\",\"l\")\n",
    "fun(\"hello world\",\"o\")\n",
    "\n"
   ]
  },
  {
   "cell_type": "code",
   "execution_count": 57,
   "metadata": {},
   "outputs": [
    {
     "name": "stdout",
     "output_type": "stream",
     "text": [
      "['h', 'e', 'l', 'o', ' ', 'w', 'r', 'd', 'p', 'y', 't', 'n', 'f']\n",
      "5 o\n"
     ]
    }
   ],
   "source": [
    "# 37. WAP to count the max occurrence of a character in a given string\n",
    "\n",
    "def fun(st,d={},max=0,chr=\"\"):\n",
    "    for i in st:\n",
    "        if i not in d:\n",
    "            d[i]=1\n",
    "        else:\n",
    "            d[i]+=1\n",
    "    l=list(d)\n",
    "    print(l)\n",
    "    for i in range(len(l)):\n",
    "        if d[l[i]]>max:\n",
    "            max=d[l[i]]\n",
    "            chr=l[i]\n",
    "    print(max,chr)\n",
    "fun(\"hello world python world of\")"
   ]
  },
  {
   "cell_type": "code",
   "execution_count": 50,
   "metadata": {},
   "outputs": [
    {
     "name": "stdout",
     "output_type": "stream",
     "text": [
      "['h', 'e', 'l', 'o', ' ', 'w', 'r', 'd', 'p', 'y', 't', 'n', 'f']\n",
      "1 p\n"
     ]
    }
   ],
   "source": [
    "# 38. WAP to count the min occurrence of a character in a given string.\n",
    "\n",
    "def fun(st,d={},min=0,chr=\"\"):\n",
    "    for i in st:\n",
    "        if i not in d:\n",
    "            d[i]=1\n",
    "        else:\n",
    "            d[i]+=1\n",
    "    l=list(d)\n",
    "    print(l)\n",
    "    min=d[l[0]]\n",
    "    for i in range(len(l)):\n",
    "        if d[l[i]]<min:\n",
    "            min=d[l[i]]\n",
    "            chr=l[i]\n",
    "    print(min,chr)\n",
    "fun(\"hello world python world of e\")"
   ]
  },
  {
   "cell_type": "code",
   "execution_count": null,
   "metadata": {},
   "outputs": [],
   "source": []
  },
  {
   "cell_type": "code",
   "execution_count": null,
   "metadata": {},
   "outputs": [],
   "source": []
  },
  {
   "cell_type": "code",
   "execution_count": null,
   "metadata": {},
   "outputs": [],
   "source": []
  },
  {
   "cell_type": "code",
   "execution_count": 1,
   "metadata": {},
   "outputs": [
    {
     "name": "stdout",
     "output_type": "stream",
     "text": [
      "WAP to count no of @lph@bets\n"
     ]
    }
   ],
   "source": [
    "# 42. WAP to replace a specific character into a new character.\n",
    "\n",
    "def rep(st):\n",
    "    spc=\"a\"\n",
    "    res=\"\"\n",
    "    for i in st:\n",
    "        if i==spc:\n",
    "            res+=\"@\"\n",
    "        else:\n",
    "            res+=i\n",
    "    print(res)\n",
    "rep(\"WAP to count no of alphabets\")\n",
    "        \n"
   ]
  },
  {
   "cell_type": "code",
   "execution_count": 2,
   "metadata": {},
   "outputs": [
    {
     "name": "stdout",
     "output_type": "stream",
     "text": [
      "WAP TO COUNT\n"
     ]
    }
   ],
   "source": [
    "# 43. WAP to convert lowercase to uppercase in a given string.\n",
    "\n",
    "def conv(st):\n",
    "    res=\"\"\n",
    "    for i in st:\n",
    "        if \"a\"<=i<=\"z\":\n",
    "            res+=chr(ord(i)-32)\n",
    "        else:\n",
    "            res+=i\n",
    "    print(res)\n",
    "conv(\"WAP to count\")"
   ]
  },
  {
   "cell_type": "code",
   "execution_count": 3,
   "metadata": {},
   "outputs": [
    {
     "name": "stdout",
     "output_type": "stream",
     "text": [
      "wap to count\n"
     ]
    }
   ],
   "source": [
    "# 44. WAP to convert uppercase to lowercase in a given string.\n",
    "\n",
    "def conv(st):\n",
    "    res=\"\"\n",
    "    for i in st:\n",
    "        if \"A\"<=i<=\"Z\":\n",
    "            res+=chr(ord(i)+32)\n",
    "        else:\n",
    "            res+=i\n",
    "    print(res)\n",
    "conv(\"WAP to count\")"
   ]
  },
  {
   "cell_type": "code",
   "execution_count": 9,
   "metadata": {},
   "outputs": [
    {
     "name": "stdout",
     "output_type": "stream",
     "text": [
      "wAp to CounT\n"
     ]
    }
   ],
   "source": [
    "# 45. WAP to convert uppercase to lowercase in even position characters in a given string.\n",
    "\n",
    "def conv(st):\n",
    "    res=\"\"\n",
    "    for i in range(len(st)):\n",
    "        if i%2==0:\n",
    "            if \"A\"<=st[i]<=\"Z\":\n",
    "                res+=chr(ord(st[i])+32)\n",
    "            else:\n",
    "                res+=st[i]\n",
    "        else:\n",
    "            res+=st[i]\n",
    "    print(res)\n",
    "conv(\"WAP to COunT\")"
   ]
  },
  {
   "cell_type": "code",
   "execution_count": 10,
   "metadata": {},
   "outputs": [
    {
     "name": "stdout",
     "output_type": "stream",
     "text": [
      "WaP to cOunt\n"
     ]
    }
   ],
   "source": [
    "# 46. WAP to convert uppercase to lowercase in odd position characters in a given string.\n",
    "\n",
    "def conv(st):\n",
    "    res=\"\"\n",
    "    for i in range(len(st)):\n",
    "        if i%2!=0:\n",
    "            if \"A\"<=st[i]<=\"Z\":\n",
    "                res+=chr(ord(st[i])+32)\n",
    "            else:\n",
    "                res+=st[i]\n",
    "        else:\n",
    "            res+=st[i]\n",
    "    print(res)\n",
    "conv(\"WAP to COunT\")\n"
   ]
  },
  {
   "cell_type": "code",
   "execution_count": 12,
   "metadata": {},
   "outputs": [
    {
     "name": "stdout",
     "output_type": "stream",
     "text": [
      "GuIdo*VAN**1991*feB*****20\n"
     ]
    }
   ],
   "source": [
    "# 47. WAP to convert the uppercase letter to lowercase letter and lowercase letter to uppercase letter,if the character is special symbol replace with * for the given input string.\n",
    "\n",
    "def conv(st):\n",
    "    res=\"\"\n",
    "    for i in st:\n",
    "        if \"A\"<=i<=\"Z\":\n",
    "            res+=chr(ord(i)+32)\n",
    "        elif \"a\"<=i<=\"z\":\n",
    "            res+=chr(ord(i)-32)\n",
    "        elif \"0\"<=i<=\"9\":\n",
    "            res+=i\n",
    "        else:\n",
    "            res+=\"*\"\n",
    "    print(res)\n",
    "conv(\"gUiDO van@ 1991 FEb#$%^ 20\")"
   ]
  },
  {
   "cell_type": "code",
   "execution_count": 15,
   "metadata": {},
   "outputs": [
    {
     "name": "stdout",
     "output_type": "stream",
     "text": [
      "Hello Pyt$On How Are !Y0U\n"
     ]
    }
   ],
   "source": [
    "# 48. WAP to convert title case in a given string.\n",
    "\n",
    "def title(st):\n",
    "    res=\"\"\n",
    "    if \"a\"<=st[0]<=\"z\":\n",
    "        res+=st[0].upper()\n",
    "    else:\n",
    "        res+=st[0]\n",
    "    for i in range(1,len(st)):\n",
    "        if (\"a\"<=st[i]<=\"z\" or \"A\"<=st[i]<=\"Z\") and not(\"a\"<=st[i-1]<=\"z\" or \"A\"<=st[i-1]<=\"Z\"):\n",
    "            res+=st[i].upper()\n",
    "        else:\n",
    "            res+=st[i]\n",
    "    print(res)\n",
    "    \n",
    "title(\"hello pyt$on how are !y0u\")"
   ]
  },
  {
   "cell_type": "code",
   "execution_count": 18,
   "metadata": {},
   "outputs": [
    {
     "name": "stdout",
     "output_type": "stream",
     "text": [
      "hello_pyt$on_how_are_!y0u\n"
     ]
    }
   ],
   "source": [
    "# 49. WAP to convert snake_case in a given string.\n",
    "\n",
    "def snake(st):\n",
    "    res=\"\"\n",
    "    for i in st:\n",
    "        if i==\" \":\n",
    "            res+=\"_\"\n",
    "        else:\n",
    "            res+=i\n",
    "    print(res)\n",
    "snake(\"hello pyt$on how are !y0u\")"
   ]
  },
  {
   "cell_type": "code",
   "execution_count": 23,
   "metadata": {},
   "outputs": [
    {
     "name": "stdout",
     "output_type": "stream",
     "text": [
      "PythoN\n"
     ]
    }
   ],
   "source": [
    "#50. WAP to Toggle Characters Case in a String.\n",
    "\n",
    "def toggle(st):\n",
    "    res=\"\"\n",
    "    if \"a\"<=st[0]<=\"z\":\n",
    "        res+=st[0].lower()\n",
    "    else:\n",
    "        res+=st[0]\n",
    "    for i in range(1,len(st)):\n",
    "        res+=st[i]\n",
    "    print(res)\n",
    "toggle(\"PythoN\")\n",
    "\n"
   ]
  },
  {
   "cell_type": "code",
   "execution_count": 25,
   "metadata": {},
   "outputs": [
    {
     "name": "stdout",
     "output_type": "stream",
     "text": [
      "Pyth111N\n"
     ]
    }
   ],
   "source": [
    "# 51. WAP to replace vowels into ascii values in a given string.(both with and with temp variable)\n",
    "\n",
    "def rep(st):\n",
    "    res=\"\"\n",
    "    for i in st:\n",
    "        if i in \"aeiouAEIOU\":\n",
    "            res+=str(ord(i))\n",
    "        else:\n",
    "            res+=i\n",
    "    print(res)\n",
    "rep(\"PythoN\")\n"
   ]
  },
  {
   "cell_type": "code",
   "execution_count": 27,
   "metadata": {},
   "outputs": [
    {
     "name": "stdout",
     "output_type": "stream",
     "text": [
      "80a121116104o78\n"
     ]
    }
   ],
   "source": [
    "# 52. WAP to replace consonants into ascii values in a given string. (both with and with temp variable)\n",
    "\n",
    "def rep(st):\n",
    "    res=\"\"\n",
    "    for i in st:\n",
    "        if i not in \"aeiouAEIOU\":\n",
    "            res+=str(ord(i))\n",
    "        else:\n",
    "            res+=i\n",
    "    print(res)\n",
    "rep(\"PaythoN\")"
   ]
  },
  {
   "cell_type": "code",
   "execution_count": 31,
   "metadata": {},
   "outputs": [
    {
     "name": "stdout",
     "output_type": "stream",
     "text": [
      "Pay116hoN121\n"
     ]
    }
   ],
   "source": [
    "# 53. WAP to replace consonants to ascii values in odd position characters in a given string.(both with and with temp variable)\n",
    "\n",
    "def rep(st):\n",
    "    res=\"\"\n",
    "    for i in range(len(st)):\n",
    "        if i%2!=0:\n",
    "            if st[i] not in \"aeiouAEIOU\":\n",
    "                res+=str(ord(st[i]))\n",
    "            else:\n",
    "                res+=st[i]\n",
    "        else:\n",
    "            res+=st[i]\n",
    "    print(res)\n",
    "rep(\"PaythoNy\")"
   ]
  },
  {
   "cell_type": "code",
   "execution_count": 33,
   "metadata": {},
   "outputs": [
    {
     "name": "stdout",
     "output_type": "stream",
     "text": [
      "105P97yth111Ny\n"
     ]
    }
   ],
   "source": [
    "# 54. WAP to replace vowels to ascii values in even position characters in a given string.(both with and with temp variable)\n",
    "\n",
    "def rep(st):\n",
    "    res=\"\"\n",
    "    for i in range(len(st)):\n",
    "        if i%2==0:\n",
    "            if st[i] in \"aeiouAEIOU\":\n",
    "                res+=str(ord(st[i]))\n",
    "            else:\n",
    "                res+=st[i]\n",
    "        else:\n",
    "            res+=st[i]\n",
    "    print(res)\n",
    "rep(\"iPaythoNy\")"
   ]
  },
  {
   "cell_type": "code",
   "execution_count": 35,
   "metadata": {},
   "outputs": [
    {
     "name": "stdout",
     "output_type": "stream",
     "text": [
      "hello-pyt$on-how-are-!y0u\n"
     ]
    }
   ],
   "source": [
    "# 55. WAP to Replace white Spaces with Hyphen in a String.(both with and with temp variable)\n",
    "\n",
    "def rep(st):\n",
    "    res=\"\"\n",
    "    for i in st:\n",
    "        if i==\" \":\n",
    "            res+=\"-\"\n",
    "        else:\n",
    "            res+=i\n",
    "    print(res)\n",
    "rep(\"hello pyt$on how are !y0u\")\n"
   ]
  },
  {
   "cell_type": "code",
   "execution_count": 36,
   "metadata": {},
   "outputs": [
    {
     "name": "stdout",
     "output_type": "stream",
     "text": [
      "PyhN\n"
     ]
    }
   ],
   "source": [
    "# 56. WAP to Remove Odd position Characters in a given String.\n",
    "\n",
    "def rep(st):\n",
    "    res=\"\"\n",
    "    for i in range(len(st)):\n",
    "        if i%2!=0:\n",
    "            res+=\"\"  \n",
    "        else:\n",
    "            res+=st[i]\n",
    "    print(res)\n",
    "rep(\"PaythoNy\")"
   ]
  },
  {
   "cell_type": "code",
   "execution_count": null,
   "metadata": {},
   "outputs": [],
   "source": [
    "# 57. WAP to Remove even position Characters in a given String.\n",
    "\n",
    "def rep(st):\n",
    "    res=\"\"\n",
    "    for i in range(len(st)):\n",
    "        if i%2==0:\n",
    "            res+=\"\"  \n",
    "        else:\n",
    "            res+=st[i]\n",
    "    print(res)\n",
    "rep(\"PaythoNy\")"
   ]
  },
  {
   "cell_type": "code",
   "execution_count": 43,
   "metadata": {},
   "outputs": [
    {
     "name": "stdout",
     "output_type": "stream",
     "text": [
      " $   !0\n"
     ]
    }
   ],
   "source": [
    "# 58. WAP to Remove alphabets in a given String.\n",
    "\n",
    "def rem(st):\n",
    "    res=\"\"\n",
    "    rep=\"\"\n",
    "    for i in st:\n",
    "        if \"A\"<=i<=\"Z\" or \"a\"<=i<=\"z\":\n",
    "            res+=\"\"\n",
    "        else:\n",
    "            res+=i\n",
    "        if len(res)>0:\n",
    "            rep+=res\n",
    "            res=\"\"\n",
    "    print(rep)\n",
    "rem(\"hello pyt$on how are !y0u\")\n"
   ]
  },
  {
   "cell_type": "code",
   "execution_count": 45,
   "metadata": {},
   "outputs": [
    {
     "name": "stdout",
     "output_type": "stream",
     "text": [
      "hello pyt$on how are !yu\n"
     ]
    }
   ],
   "source": [
    "# 59. WAP to Remove ascii numbers in a given String.\n",
    "\n",
    "def rem(st):\n",
    "    res=\"\"\n",
    "    for i in st:\n",
    "        if \"0\"<=i<=\"9\":\n",
    "            res+=\"\"\n",
    "        else:\n",
    "            res+=i\n",
    "    print(res)\n",
    "rem(\"hello5 pyt$on6 how7 are !y0u\")"
   ]
  },
  {
   "cell_type": "code",
   "execution_count": 46,
   "metadata": {},
   "outputs": [
    {
     "name": "stdout",
     "output_type": "stream",
     "text": [
      "hello5pyton6how7arey0u\n"
     ]
    }
   ],
   "source": [
    "# 60. WAP to Remove special characters in a given String.\n",
    "\n",
    "def rem(st):\n",
    "    res=\"\"\n",
    "    for i in st:\n",
    "        if not(\"0\"<=i<=\"9\" or \"a\"<=i<=\"z\" or \"A\"<=i<=\"Z\"):\n",
    "            res+=\"\"\n",
    "        else:\n",
    "            res+=i\n",
    "    print(res)\n",
    "rem(\"hello5 pyt$on6 how7 are !y0u\")"
   ]
  },
  {
   "cell_type": "code",
   "execution_count": 49,
   "metadata": {},
   "outputs": [
    {
     "name": "stdout",
     "output_type": "stream",
     "text": [
      "palindrome\n"
     ]
    }
   ],
   "source": [
    "# 61. WAP to check if the given string is Palindrome or Not.\n",
    "\n",
    "def palin(st):\n",
    "    res=\"\"\n",
    "    for i in st:\n",
    "        res=i+res\n",
    "    print([\"not palindrome\",\"palindrome\"][st==res])\n",
    "palin(\"madam\")\n"
   ]
  },
  {
   "cell_type": "code",
   "execution_count": 52,
   "metadata": {},
   "outputs": [
    {
     "name": "stdout",
     "output_type": "stream",
     "text": [
      "lower\n",
      "not lower\n"
     ]
    }
   ],
   "source": [
    "# 62. WAP to check whether the given string is lowercase or not.\n",
    "\n",
    "def lower(st):\n",
    "    count=0\n",
    "    for i in st:\n",
    "        if (\"A\"<=i<=\"Z\"):\n",
    "            count+=1\n",
    "    print([\"not lower\",\"lower\"][count==0])\n",
    "lower(\"python\")\n",
    "lower(\"pythOn\")"
   ]
  },
  {
   "cell_type": "code",
   "execution_count": 55,
   "metadata": {},
   "outputs": [
    {
     "name": "stderr",
     "output_type": "stream",
     "text": [
      "\n",
      "KeyboardInterrupt\n",
      "\n"
     ]
    }
   ],
   "source": [
    "# 63. WAP to check whether the given number is string or not.\n",
    "\n",
    "def type1(st):\n",
    "    print([\"not string\",\"string\"][type(st)==str])\n",
    "type1(\"133\")"
   ]
  },
  {
   "cell_type": "code",
   "execution_count": 9,
   "metadata": {},
   "outputs": [
    {
     "name": "stdout",
     "output_type": "stream",
     "text": [
      "eoo123aii\n"
     ]
    }
   ],
   "source": [
    "# 64. I/p: ‘hello world 123 haii’\n",
    "# o/p:’eoo123aii’\n",
    "\n",
    "def vow(st):\n",
    "    res=\"\"\n",
    "    for i in st:\n",
    "        if i in \"aeiouAEIOU\":\n",
    "            res+=i\n",
    "        elif \"0\"<=i<=\"9\":\n",
    "            res+=i\n",
    "    print(res)\n",
    "vow(\"hello world 123 haii\")"
   ]
  },
  {
   "cell_type": "code",
   "execution_count": 10,
   "metadata": {},
   "outputs": [
    {
     "name": "stdout",
     "output_type": "stream",
     "text": [
      "eo o 123 aii\n"
     ]
    }
   ],
   "source": [
    "#65. I/p: ‘hello world 123 haii’\n",
    "# o/p:’eo o 123 aii’\n",
    "\n",
    "def vow(st):\n",
    "    res=\"\"\n",
    "    for i in st:\n",
    "        if i in \"aeiouAEIOU\":\n",
    "            res+=i\n",
    "        elif \"0\"<=i<=\"9\":\n",
    "            res+=i\n",
    "        elif not(\"0\"<=i<=\"9\" or \"a\"<=i<=\"z\" or \"A\"<=i<=\"Z\"):\n",
    "            res+=i\n",
    "    print(res)\n",
    "vow(\"hello world 123 haii\")"
   ]
  },
  {
   "cell_type": "code",
   "execution_count": 17,
   "metadata": {},
   "outputs": [
    {
     "name": "stdout",
     "output_type": "stream",
     "text": [
      "hll wrld\n",
      "eoo\n"
     ]
    }
   ],
   "source": [
    "# 68. i/p:’hello world’\n",
    "# o/p:’hll wrld’\n",
    "# o/p:’eoo’\n",
    "\n",
    "def vow(st):\n",
    "    res=\"\"\n",
    "    cons=\"\"\n",
    "    for i in st:\n",
    "        if i in \"aeiouAEIOU\":\n",
    "            res+=i\n",
    "        else:\n",
    "            cons+=i\n",
    "    print(cons)\n",
    "    print(res)\n",
    "vow(\"hello world\")"
   ]
  },
  {
   "cell_type": "code",
   "execution_count": 16,
   "metadata": {},
   "outputs": [
    {
     "name": "stdout",
     "output_type": "stream",
     "text": [
      "hll wrld\n",
      "eoo\n",
      "12344\n"
     ]
    }
   ],
   "source": [
    "# 69. i/p:’12hello3 4world4’\n",
    "# o/p:’hll wrld’\n",
    "# o/p:’eoo’\n",
    "# o/p:’12344’\n",
    "\n",
    "\n",
    "def vow(st):\n",
    "    res=\"\"\n",
    "    cons=\"\"\n",
    "    num=\"\"\n",
    "    for i in st:\n",
    "        if i in \"aeiouAEIOU\":\n",
    "            res+=i\n",
    "        elif \"0\"<=i<=\"9\":\n",
    "            num+=i\n",
    "        else:\n",
    "            cons+=i\n",
    "    print(cons)\n",
    "    print(res)\n",
    "    print(num)\n",
    "vow(\"12hello3 4world4\")\n"
   ]
  },
  {
   "cell_type": "code",
   "execution_count": 20,
   "metadata": {},
   "outputs": [
    {
     "name": "stdout",
     "output_type": "stream",
     "text": [
      "hllwrld\n",
      "eoo\n",
      "12344\n",
      "'(*$ $#*)\n"
     ]
    }
   ],
   "source": [
    "# 70. i/p:’(*12hello3$ $4#world4*)’\n",
    "# o/p:’hllwrld’\n",
    "# o/p:’eoo’\n",
    "# o/p:’12344’\n",
    "# o/p:’(*$ $#*)\n",
    "\n",
    "def vow(st):\n",
    "    res=\"\"\n",
    "    cons=\"\"\n",
    "    num=\"\"\n",
    "    spc=\"\"\n",
    "    for i in st:\n",
    "        if i in \"aeiouAEIOU\":\n",
    "            res+=i\n",
    "        elif \"0\"<=i<=\"9\":\n",
    "            num+=i\n",
    "        elif not(\"0\"<=i<=\"9\" or \"a\"<=i<=\"z\" or \"A\"<=i<=\"Z\"):\n",
    "            spc+=i\n",
    "        else:\n",
    "            cons+=i\n",
    "    print(cons)\n",
    "    print(res)\n",
    "    print(num)\n",
    "    print(spc)\n",
    "vow(\"'(*12hello3$ $4#world4*)\")"
   ]
  },
  {
   "cell_type": "code",
   "execution_count": 23,
   "metadata": {},
   "outputs": [
    {
     "name": "stdout",
     "output_type": "stream",
     "text": [
      "'(*$ $#*),12344,eoo,hllwrld\n"
     ]
    }
   ],
   "source": [
    "# 71. i/p: ’(*12hello3$ $4#world4*)’\n",
    "# o/p: ')*#$ $*(,44321,ooe,dlrwllh'\n",
    "\n",
    "def vow(st):\n",
    "    res=\"\"\n",
    "    cons=\"\"\n",
    "    num=\"\"\n",
    "    spc=\"\"\n",
    "    for i in st:\n",
    "        if i in \"aeiouAEIOU\":\n",
    "            res+=i\n",
    "        elif \"0\"<=i<=\"9\":\n",
    "            num+=i\n",
    "        elif not(\"0\"<=i<=\"9\" or \"a\"<=i<=\"z\" or \"A\"<=i<=\"Z\"):\n",
    "            spc+=i\n",
    "        else:\n",
    "            cons+=i\n",
    "    print(f\"{spc},{num},{res},{cons}\")\n",
    "vow(\"'(*12hello3$ $4#world4*)\")\n"
   ]
  },
  {
   "cell_type": "code",
   "execution_count": 24,
   "metadata": {},
   "outputs": [
    {
     "name": "stdout",
     "output_type": "stream",
     "text": [
      "hllwrld,eoo,12344,'(*$ $#*)\n"
     ]
    }
   ],
   "source": [
    "# 72. i/p:’(*12hello3$ $4#world4*)’\n",
    "# o/p:’hllwrld,eoo,12344,(*$ $#*)’\n",
    "\n",
    "def vow(st):\n",
    "    res=\"\"\n",
    "    cons=\"\"\n",
    "    num=\"\"\n",
    "    spc=\"\"\n",
    "    for i in st:\n",
    "        if i in \"aeiouAEIOU\":\n",
    "            res+=i\n",
    "        elif \"0\"<=i<=\"9\":\n",
    "            num+=i\n",
    "        elif not(\"0\"<=i<=\"9\" or \"a\"<=i<=\"z\" or \"A\"<=i<=\"Z\"):\n",
    "            spc+=i\n",
    "        else:\n",
    "            cons+=i\n",
    "    print(f\"{cons},{res},{num},{spc}\")\n",
    "vow(\"'(*12hello3$ $4#world4*)\")"
   ]
  },
  {
   "cell_type": "code",
   "execution_count": 27,
   "metadata": {},
   "outputs": [
    {
     "name": "stdout",
     "output_type": "stream",
     "text": [
      "',hllwrld,)*#$ $*(',eoo,44321'\n"
     ]
    }
   ],
   "source": [
    "# 73. i/p: ’(*12hello3$ $4#world4*)’\n",
    "# o/p:’,hllwrld,)*#$ $*(’,eoo,44321’\n",
    "\n",
    "def vow(st):\n",
    "    res=\"\"\n",
    "    cons=\"\"\n",
    "    num=\"\"\n",
    "    spc=\"\"\n",
    "    for i in st:\n",
    "        if i in \"aeiouAEIOU\":\n",
    "            res+=i\n",
    "        elif \"0\"<=i<=\"9\":\n",
    "            num=i+num\n",
    "        elif not(\"0\"<=i<=\"9\" or \"a\"<=i<=\"z\" or \"A\"<=i<=\"Z\"):\n",
    "            spc=i+spc\n",
    "        else:\n",
    "            cons+=i\n",
    "    print(f\"',{cons},{spc},{res},{num}'\")\n",
    "vow(\"'(*12hello3$ $4#world4*)\")\n"
   ]
  },
  {
   "cell_type": "code",
   "execution_count": 28,
   "metadata": {},
   "outputs": [
    {
     "name": "stdout",
     "output_type": "stream",
     "text": [
      ")*#$ $*(',44321,ooe,dlrwllh'\n"
     ]
    }
   ],
   "source": [
    "# 74. i/p: ’(*12hello3$ $4#world4*)’\n",
    " # o/p: ')*#$ $*(,44321,ooe,dlrwllh'\n",
    "\n",
    "def vow(st):\n",
    "    res=\"\"\n",
    "    cons=\"\"\n",
    "    num=\"\"\n",
    "    spc=\"\"\n",
    "    for i in st:\n",
    "        if i in \"aeiouAEIOU\":\n",
    "            res=i+res\n",
    "        elif \"0\"<=i<=\"9\":\n",
    "            num=i+num\n",
    "        elif not(\"0\"<=i<=\"9\" or \"a\"<=i<=\"z\" or \"A\"<=i<=\"Z\"):\n",
    "            spc=i+spc\n",
    "        else:\n",
    "            cons=i+cons\n",
    "    print(f\"{spc},{num},{res},{cons}'\")\n",
    "vow(\"'(*12hello3$ $4#world4*)\")\n"
   ]
  },
  {
   "cell_type": "code",
   "execution_count": 31,
   "metadata": {},
   "outputs": [
    {
     "name": "stdout",
     "output_type": "stream",
     "text": [
      "dlrwllh)*#$ $*('ooe44321'\n"
     ]
    }
   ],
   "source": [
    "# 75. i/p: ’(*12hello3$ $4#world4*)’\n",
    "# o/p:’dlrwllh)*#$ $*(ooe44321’\n",
    "\n",
    "def vow(st):\n",
    "    res=\"\"\n",
    "    cons=\"\"\n",
    "    num=\"\"\n",
    "    spc=\"\"\n",
    "    for i in st:\n",
    "        if i in \"aeiouAEIOU\":\n",
    "            res=i+res\n",
    "        elif \"0\"<=i<=\"9\":\n",
    "            num=i+num\n",
    "        elif not(\"0\"<=i<=\"9\" or \"a\"<=i<=\"z\" or \"A\"<=i<=\"Z\"):\n",
    "            spc=i+spc\n",
    "        else:\n",
    "            cons=i+cons\n",
    "    print(f\"{cons}{spc}{res}{num}'\")\n",
    "vow(\"'(*12hello3$ $4#world4*)\")"
   ]
  },
  {
   "cell_type": "code",
   "execution_count": 33,
   "metadata": {},
   "outputs": [
    {
     "name": "stdout",
     "output_type": "stream",
     "text": [
      "h$ll*w*rld\n"
     ]
    }
   ],
   "source": [
    "# 76. I/p:’HELLOWORLD’\n",
    "# o/p:’h$ll*w*rld’\n",
    "\n",
    "def replace(st):\n",
    "    res=\"\"\n",
    "    for i in st:\n",
    "        if i not in \"aeiouAEIOU\":\n",
    "            if \"A\"<=i<=\"Z\":\n",
    "                res+=i.lower()\n",
    "            else:\n",
    "                res+=i\n",
    "        else:\n",
    "            if i==\"e\" or i==\"E\":\n",
    "                res+=\"$\"\n",
    "            else:\n",
    "                res+=\"*\"\n",
    "    print(res)\n",
    "replace(\"HELLOWORLD\")"
   ]
  },
  {
   "cell_type": "code",
   "execution_count": 39,
   "metadata": {},
   "outputs": [
    {
     "name": "stdout",
     "output_type": "stream",
     "text": [
      "hllwrld21\n"
     ]
    }
   ],
   "source": [
    "# 77. #I/p:’123HELLO WORLD456’\n",
    "# o/p:’hllwrld21’\n",
    "\n",
    "def fun(st):\n",
    "    sum=0\n",
    "    res=\"\"\n",
    "    for i in st:\n",
    "        if \"A\"<=i<=\"Z\" or \"a\"<=i<=\"z\":\n",
    "            if i not in \"aeiouAEIOU\":\n",
    "                res+=i.lower()\n",
    "            else:\n",
    "                res+=\"\"\n",
    "        elif \"0\"<=i<=\"9\":\n",
    "            sum+=int(i)\n",
    "    print(f\"{res}{str(sum)}\")\n",
    "fun(\"123HeLLO WORLD456\")"
   ]
  },
  {
   "cell_type": "code",
   "execution_count": 5,
   "metadata": {},
   "outputs": [
    {
     "name": "stdout",
     "output_type": "stream",
     "text": [
      "123hEllO wOrld456\n"
     ]
    }
   ],
   "source": [
    "# 78. #I/p:’123HELLO WORLD456’\n",
    "# o/p:’123hEllO wOrld456’\n",
    "\n",
    "def fun(st):\n",
    "    res=\"\"\n",
    "    for i in st:\n",
    "        if i in \"aeiouAEIOU\":\n",
    "            res+=i\n",
    "        else:\n",
    "            if \"A\"<=i<=\"Z\":\n",
    "                res+=chr(ord(i)+32)\n",
    "            elif \"0\"<=i<=\"9\":\n",
    "                res+=i\n",
    "            else:\n",
    "                res+=i\n",
    "    print(res)\n",
    "fun(\"123HELLO WORLD456\")\n"
   ]
  },
  {
   "cell_type": "code",
   "execution_count": 16,
   "metadata": {},
   "outputs": [
    {
     "name": "stdout",
     "output_type": "stream",
     "text": [
      "['321hEllO']\n"
     ]
    }
   ],
   "source": [
    "# 79. #I/p:’123HELLO WORLD456 ’\n",
    "#o/p:’321hEllO wOrld654’\n",
    "\n",
    "def fun(st):\n",
    "    res=\"\"\n",
    "    l=[]\n",
    "    for i in st:\n",
    "        if i!=\" \":\n",
    "            if i in \"aeiouAEIOU\":\n",
    "                res+=i\n",
    "            else:\n",
    "                if \"A\"<=i<=\"Z\":\n",
    "                    res+=chr(ord(i)+32)\n",
    "                elif \"0\"<=i<=\"9\":\n",
    "                    res=i+res\n",
    "                else:\n",
    "                    res+=i\n",
    "        else:\n",
    "            l+=[res]\n",
    "            res=\"\"\n",
    "    print(l)\n",
    "fun(\"123HELLO WORLD\")\n"
   ]
  },
  {
   "cell_type": "code",
   "execution_count": 19,
   "metadata": {},
   "outputs": [
    {
     "name": "stdout",
     "output_type": "stream",
     "text": [
      "654 321*E**O*O***\n"
     ]
    }
   ],
   "source": [
    "80. #I/p:’123HELLO WORLD456’\n",
    "#o/p:’321*E**O *O***654’\n",
    "\n",
    "def fun(st):\n",
    "    res=\"\"\n",
    "    for i in st:\n",
    "        if \"A\"<=i<=\"Z\" or \"a\"<=i<=\"z\":\n",
    "            if i in \"aeiouAEIOU\":\n",
    "                res+=i\n",
    "            else:\n",
    "                res+=\"*\"\n",
    "        else:\n",
    "            res=i+res\n",
    "    print(res)\n",
    "fun(\"123HELLO WORLD456\")\n",
    "        "
   ]
  },
  {
   "cell_type": "code",
   "execution_count": 20,
   "metadata": {},
   "outputs": [
    {
     "name": "stdout",
     "output_type": "stream",
     "text": [
      "123*E**O *O***456\n"
     ]
    }
   ],
   "source": [
    "81. #I/p:’123HELLO WORLD456’\n",
    "#o/p:’123*E**O *O***456’\n",
    "\n",
    "80. #I/p:’123HELLO WORLD456’\n",
    "#o/p:’321*E**O *O***654’\n",
    "\n",
    "def fun(st):\n",
    "    res=\"\"\n",
    "    for i in st:\n",
    "        if \"A\"<=i<=\"Z\" or \"a\"<=i<=\"z\":\n",
    "            if i in \"aeiouAEIOU\":\n",
    "                res+=i\n",
    "            else:\n",
    "                res+=\"*\"\n",
    "        else:\n",
    "            res=res+i\n",
    "    print(res)\n",
    "fun(\"123HELLO WORLD456\")\n"
   ]
  },
  {
   "cell_type": "code",
   "execution_count": 21,
   "metadata": {},
   "outputs": [
    {
     "name": "stdout",
     "output_type": "stream",
     "text": [
      "h$ll*w*rld\n"
     ]
    }
   ],
   "source": [
    "82. #I/p:’HELLOWORLD’\n",
    "#o/p:’h$ll*w*rld’\n",
    "\n",
    "def replace(st):\n",
    "    res=\"\"\n",
    "    for i in st:\n",
    "        if i not in \"aeiouAEIOU\":\n",
    "            if \"A\"<=i<=\"Z\":\n",
    "                res+=i.lower()\n",
    "            else:\n",
    "                res+=i\n",
    "        else:\n",
    "            if i==\"e\" or i==\"E\":\n",
    "                res+=\"$\"\n",
    "            else:\n",
    "                res+=\"*\"\n",
    "    print(res)\n",
    "replace(\"HELLOWORLD\")"
   ]
  },
  {
   "cell_type": "code",
   "execution_count": 23,
   "metadata": {},
   "outputs": [
    {
     "name": "stdout",
     "output_type": "stream",
     "text": [
      "axbycz\n"
     ]
    }
   ],
   "source": [
    "# 83. i/p: ‘abc’\n",
    "# i/p: ‘xyz’\n",
    "# o/p:’axbycz\n",
    "\n",
    "def rep(s1,s2):\n",
    "    res=\"\"\n",
    "    for i in range(len(s1)):\n",
    "        for j in range(len(s2)):\n",
    "            if i==j:\n",
    "                res+=s1[i]+s2[j]\n",
    "    print(res)\n",
    "rep(\"abc\",\"xyz\")\n"
   ]
  },
  {
   "cell_type": "code",
   "execution_count": 3,
   "metadata": {},
   "outputs": [
    {
     "name": "stdout",
     "output_type": "stream",
     "text": [
      "axbyczw\n"
     ]
    }
   ],
   "source": [
    "# 84. i/p: ‘abc’\n",
    "# i/p: ‘xyzw’\n",
    "# o/p:’axbyczw’\n",
    "\n",
    "def rep(s1,s2):\n",
    "    res=\"\"\n",
    "    for i in range(len(s1)):\n",
    "        for j in range(len(s2)):\n",
    "            if i==j:\n",
    "                res+=s1[i]+s2[j]\n",
    "    if len(s1)<len(s2):\n",
    "        res=res+s2[len(s1)-len(s2):]\n",
    "    elif len(s1)==len(s2):\n",
    "        res=res\n",
    "    else:\n",
    "        res=res+s1[len(s2)-len(s1):]\n",
    "    print(res)\n",
    "rep(\"abc\",\"xyzw\")"
   ]
  },
  {
   "cell_type": "code",
   "execution_count": 59,
   "metadata": {},
   "outputs": [
    {
     "name": "stdout",
     "output_type": "stream",
     "text": [
      "axbyczd\n"
     ]
    }
   ],
   "source": [
    "# 85. i/p: ‘abcd’\n",
    "# i/p: ‘xyz’\n",
    "# o/p:’axbyczd’\n",
    "\n",
    "def rep(s1,s2):\n",
    "    res=\"\"\n",
    "    for i in range(len(s1)):\n",
    "        for j in range(len(s2)):\n",
    "            if i==j:\n",
    "                res+=s1[i]+s2[j]\n",
    "    if len(s1)<len(s2):\n",
    "        res=res+s2[len(s1)-len(s2):]\n",
    "    elif len(s1)==len(s2):\n",
    "        res=res\n",
    "    else:\n",
    "        res=res+s1[len(s2)-len(s1):]\n",
    "    print(res)\n",
    "rep(\"abcd\",\"xyz\")"
   ]
  },
  {
   "cell_type": "code",
   "execution_count": 60,
   "metadata": {},
   "outputs": [
    {
     "name": "stdout",
     "output_type": "stream",
     "text": [
      "axbyczwop\n"
     ]
    }
   ],
   "source": [
    "# 86. i/p: ‘abc’\n",
    "# i/p: ‘xyzwop’\n",
    "# o/p:’axbyczwop’\n",
    "\n",
    "def rep(s1,s2):\n",
    "    res=\"\"\n",
    "    for i in range(len(s1)):\n",
    "        for j in range(len(s2)):\n",
    "            if i==j:\n",
    "                res+=s1[i]+s2[j]\n",
    "    if len(s1)<len(s2):\n",
    "        res=res+s2[len(s1)-len(s2):]\n",
    "    elif len(s1)==len(s2):\n",
    "        res=res\n",
    "    else:\n",
    "        res=res+s1[len(s2)-len(s1):]\n",
    "    print(res)\n",
    "rep(\"abc\",\"xyzwop\")"
   ]
  },
  {
   "cell_type": "code",
   "execution_count": 64,
   "metadata": {},
   "outputs": [
    {
     "name": "stdout",
     "output_type": "stream",
     "text": [
      "a1b2c3\n"
     ]
    }
   ],
   "source": [
    "# 87. i/p:’abc123’\n",
    "# o/p:’a1b2c3\n",
    "\n",
    "def rev(st):\n",
    "    ch,nc=\"\",\"\"\n",
    "    for i in st:\n",
    "        if \"A\"<=i<=\"Z\" or \"a\"<=i<=\"z\":\n",
    "            ch+=i\n",
    "        else:\n",
    "            nc+=i\n",
    "    res=\"\"\n",
    "    for j in range(len(ch)):\n",
    "        for k in range(len(nc)):\n",
    "            if j==k:\n",
    "                res+=str(ch[j])+str(nc[j])\n",
    "    print(res)\n",
    "rev(\"abc123\")\n"
   ]
  },
  {
   "cell_type": "code",
   "execution_count": 6,
   "metadata": {},
   "outputs": [
    {
     "name": "stdout",
     "output_type": "stream",
     "text": [
      "a 1\n",
      "b 2\n",
      "a1b2c\n"
     ]
    }
   ],
   "source": [
    "# 88. i/p:’abc12’\n",
    "# o/p:’a1b2c’\n",
    "\n",
    "def rev(st):\n",
    "    ch,nc=\"\",\"\"\n",
    "    for i in st:\n",
    "        if \"A\"<=i<=\"Z\" or \"a\"<=i<=\"z\":\n",
    "            ch+=i\n",
    "        else:\n",
    "            nc+=i\n",
    "    res=\"\"\n",
    "    for j in range(len(ch)):\n",
    "        for k in range(len(nc)):\n",
    "            if j==k:\n",
    "                print(ch[j],nc[k])\n",
    "                res+=str(ch[j])+str(nc[j])\n",
    "    if len(ch)<len(nc):\n",
    "        res=res+nc[len(ch)-len(nc):]\n",
    "    # elif len(ch)==len(nc):\n",
    "    #     res=res\n",
    "    else:\n",
    "        res=res+ch[len(nc)-len(ch):]\n",
    "    print(res)\n",
    "rev(\"abc12\")\n",
    "\n"
   ]
  },
  {
   "cell_type": "code",
   "execution_count": 80,
   "metadata": {},
   "outputs": [
    {
     "name": "stdout",
     "output_type": "stream",
     "text": [
      "a1b2c34\n"
     ]
    }
   ],
   "source": [
    "# 89. i/p: ‘abc1234’\n",
    "# o/p: ‘a1b2c34’\n",
    "\n",
    "def rev(st):\n",
    "    ch,nc=\"\",\"\"\n",
    "    for i in st:\n",
    "        if \"A\"<=i<=\"Z\" or \"a\"<=i<=\"z\":\n",
    "            ch+=i\n",
    "        else:\n",
    "            nc+=i\n",
    "    res=\"\"\n",
    "    for j in range(len(ch)):\n",
    "        for k in range(len(nc)):\n",
    "            if j==k:\n",
    "                res+=str(ch[j])+str(nc[j])\n",
    "    if len(ch)<len(nc):\n",
    "        res=res+nc[len(ch)-len(nc):]\n",
    "    elif len(ch)==len(nc):\n",
    "        res=res\n",
    "    else:\n",
    "        res=res+ch[len(nc)-len(ch):]\n",
    "    print(res)\n",
    "rev(\"abc1234\")\n",
    "\n"
   ]
  },
  {
   "cell_type": "code",
   "execution_count": 81,
   "metadata": {},
   "outputs": [
    {
     "name": "stdout",
     "output_type": "stream",
     "text": [
      "a1b2c34\n"
     ]
    }
   ],
   "source": [
    "# 90. i/p: ‘1a2bc34’\n",
    "# o/p:’a1b2c34’\n",
    "\n",
    "def rev(st):\n",
    "    ch,nc=\"\",\"\"\n",
    "    for i in st:\n",
    "        if \"A\"<=i<=\"Z\" or \"a\"<=i<=\"z\":\n",
    "            ch+=i\n",
    "        else:\n",
    "            nc+=i\n",
    "    res=\"\"\n",
    "    for j in range(len(ch)):\n",
    "        for k in range(len(nc)):\n",
    "            if j==k:\n",
    "                res+=str(ch[j])+str(nc[j])\n",
    "    if len(ch)<len(nc):\n",
    "        res=res+nc[len(ch)-len(nc):]\n",
    "    elif len(ch)==len(nc):\n",
    "        res=res\n",
    "    else:\n",
    "        res=res+ch[len(nc)-len(ch):]\n",
    "    print(res)\n",
    "rev(\"1a2bc34\")\n"
   ]
  },
  {
   "cell_type": "code",
   "execution_count": 82,
   "metadata": {},
   "outputs": [
    {
     "name": "stdout",
     "output_type": "stream",
     "text": [
      "4\n"
     ]
    }
   ],
   "source": [
    "# 91. i/p:’abcdnmpoijkl12yzabcd5’\n",
    "# o/p:3\n",
    "\n",
    "def rep(st):\n",
    "    count=0\n",
    "    for i in st:\n",
    "        if i in \"aeiouAEIOU\":\n",
    "            count+=1\n",
    "    print(count)\n",
    "rep(\"abcdnmpoijkl12yzabcd5\")\n"
   ]
  },
  {
   "cell_type": "code",
   "execution_count": 84,
   "metadata": {},
   "outputs": [
    {
     "name": "stdout",
     "output_type": "stream",
     "text": [
      "HA1I2I3 HE4LLO5\n"
     ]
    }
   ],
   "source": [
    "# 92. I/P: ‘HAII HELLO’\n",
    "# O/P: ‘HA1I2I3 HE4LLO5’\n",
    "\n",
    "def fun(st):\n",
    "    res=\"\"\n",
    "    count=0\n",
    "    for i in st:\n",
    "        if i in \"aeiouAEIOU\":\n",
    "            count+=1\n",
    "            res+=i+str(count)\n",
    "        else:\n",
    "            res+=i\n",
    "    print(res)\n",
    "fun(\"HAII HELLO\")\n"
   ]
  },
  {
   "cell_type": "code",
   "execution_count": 85,
   "metadata": {},
   "outputs": [
    {
     "name": "stdout",
     "output_type": "stream",
     "text": [
      "H1AII 2H3EL4L5O\n"
     ]
    }
   ],
   "source": [
    "# 93. I/P: ‘HAII HELLO’\n",
    "# O/P: ‘H1AII 2H3EL4L5O’\n",
    "\n",
    "def fun(st):\n",
    "    res=\"\"\n",
    "    count=0\n",
    "    for i in st:\n",
    "        if i in \"aeiouAEIOU\":\n",
    "            res+=i\n",
    "        else:\n",
    "            count+=1\n",
    "            res+=i+str(count)\n",
    "    print(res)\n",
    "fun(\"HAII HELLO\")"
   ]
  },
  {
   "cell_type": "code",
   "execution_count": null,
   "metadata": {},
   "outputs": [],
   "source": [
    "#94. WAP to print all the string values present inside the list if the length \n",
    "# of the string is odd under the first character starts with a vowel"
   ]
  },
  {
   "cell_type": "code",
   "execution_count": 5,
   "metadata": {},
   "outputs": [
    {
     "name": "stdout",
     "output_type": "stream",
     "text": [
      "aaabbcccc\n"
     ]
    }
   ],
   "source": [
    "#95 Write a program for series\n",
    "# Input:- “a3b2c4” ,\n",
    "# Output: “aaabbcccc”\n",
    "\n",
    "def fun(st):\n",
    "    res=\"\"\n",
    "    con=\"\"\n",
    "    for i in st:\n",
    "        if \"a\"<=i<=\"z\" or \"A\"<=i<=\"Z\":\n",
    "            res+=i\n",
    "        else:\n",
    "            res=int(i)*res\n",
    "            con+=res\n",
    "            res=\"\"\n",
    "    print(con)\n",
    "fun(\"a3b2c4\")\n"
   ]
  },
  {
   "cell_type": "code",
   "execution_count": 15,
   "metadata": {},
   "outputs": [
    {
     "name": "stdout",
     "output_type": "stream",
     "text": [
      "a3b2c4\n"
     ]
    }
   ],
   "source": [
    "# 96. Write a program for series\n",
    "# Input: “aaabbcccc”\n",
    "# Output:- “a3b2c4”\n",
    "\n",
    "def fun(st):\n",
    "    d={}\n",
    "    for i in st:\n",
    "        if i not in d:\n",
    "            d[i]=1\n",
    "        else:\n",
    "            d[i]+=1\n",
    "    res=\"\"\n",
    "    for i in list(d):\n",
    "        res+=str(i)+str(d[i])\n",
    "    print(res)\n",
    "fun(\"aaabbcccc\")"
   ]
  },
  {
   "cell_type": "code",
   "execution_count": 31,
   "metadata": {},
   "outputs": [
    {
     "name": "stdout",
     "output_type": "stream",
     "text": [
      "3\n",
      "1\n",
      "5\n"
     ]
    }
   ],
   "source": [
    "# 97. Write a program frequency of each character in given string when count is a prime number\n",
    "# input:”aaaaBBBcddddfffff”\n",
    "# Output: (“B3”,”c1”,”f5”)\n",
    "\n",
    "def fun(st):\n",
    "    d={}\n",
    "    for i in st:\n",
    "        if i not in d:\n",
    "            d[i]=1\n",
    "        else:\n",
    "            d[i]+=1\n",
    "    l=list(d)\n",
    "    l1=[]\n",
    "    for i in range(len(l)):\n",
    "        l1+=[d[l[i]]]\n",
    "        for i in l1:\n",
    "            n=i\n",
    "            count=0\n",
    "            i=2\n",
    "            while i<n:\n",
    "                if n%i==0:\n",
    "                    count+=1\n",
    "                i+=1\n",
    "        if count==0:\n",
    "            print(n)\n",
    "fun(\"aaaaBBBcddddfffff\")\n",
    "\n"
   ]
  },
  {
   "cell_type": "code",
   "execution_count": 3,
   "metadata": {},
   "outputs": [
    {
     "name": "stdout",
     "output_type": "stream",
     "text": [
      "['haii', 'how', 'are', 'you', 'venu']\n"
     ]
    }
   ],
   "source": [
    "# 99. WAP to split the sentence in a given string.\n",
    "# i/p:’haii how are you venu’\n",
    "# o/p:[‘haii’, ’how’,’are’,’you’,’venu’]\n",
    "\n",
    "def fun(st,l=[],res=\"\"):\n",
    "    for i in st:\n",
    "        if i!=\" \":\n",
    "            res+=i\n",
    "        else:\n",
    "            l+=[res]\n",
    "            res=\"\"\n",
    "    l+=[res]\n",
    "    return l\n",
    "print(fun(\"haii how are you venu\"))"
   ]
  },
  {
   "cell_type": "code",
   "execution_count": 12,
   "metadata": {},
   "outputs": [
    {
     "name": "stdout",
     "output_type": "stream",
     "text": [
      "python\n",
      "None\n"
     ]
    }
   ],
   "source": [
    "# 100. Find out the longest word in the string below.\n",
    "# Sentence =”hello world welcome to python”\n",
    "\n",
    "def fun(st,l=[],res=\"\",max=0):\n",
    "    for i in st:\n",
    "        if i!=\" \":\n",
    "            res+=i\n",
    "        else:\n",
    "            l+=[res]\n",
    "            res=\"\"\n",
    "    l+=[res]\n",
    "    for i in l:\n",
    "        if max<len(i):\n",
    "            max=len(i)\n",
    "    print(i)\n",
    "\n",
    "print(fun(\"hello world welcome to python\"))\n"
   ]
  },
  {
   "cell_type": "code",
   "execution_count": 17,
   "metadata": {},
   "outputs": [
    {
     "name": "stdout",
     "output_type": "stream",
     "text": [
      "nohtypotemoclewdlrowolleh\n",
      "None\n"
     ]
    }
   ],
   "source": [
    "# 101. sentence=” hello world welcome to python”\n",
    "# Output: ’olleh dlrow emoclew ot nohtyp’\n",
    "\n",
    "def fun(st,l=[],res=\"\",temp=\"\"):\n",
    "    for i in st:\n",
    "        if i!=\" \":\n",
    "            res+=i\n",
    "        else:\n",
    "            l+=[res]\n",
    "            res=\"\"\n",
    "    l+=[res]\n",
    "    for i in l:\n",
    "        t=\"\"\n",
    "        for j in i:\n",
    "            temp=j+temp\n",
    "        t+=temp\n",
    "        # temp=\"\" \n",
    "    print(t)\n",
    "\n",
    "print(fun(\"hello world welcome to python\"))"
   ]
  },
  {
   "cell_type": "code",
   "execution_count": 6,
   "metadata": {},
   "outputs": [
    {
     "name": "stdout",
     "output_type": "stream",
     "text": [
      "{'python': 1, 'is': 1, 'a': 1, 'programming': 1, 'language': 1}\n"
     ]
    }
   ],
   "source": [
    "# 102. sentence=” python is a programming language” (Using dictionary comprehension)\n",
    "# Output: {‘python’:1, is:1,’a’:1,’language’:1,’programming:1’}\n",
    "\n",
    "def fun(st,d={},res=\"\"):\n",
    "    for i in st:\n",
    "        if i!=\" \":\n",
    "            res+=i\n",
    "        else:\n",
    "            if res not in d:\n",
    "                d[res]=1\n",
    "                res=\"\"\n",
    "            else:\n",
    "                d[res]+=1\n",
    "                res=\"\"\n",
    "    print(d)\n",
    "fun(\"python is a programming language \")"
   ]
  },
  {
   "cell_type": "code",
   "execution_count": 9,
   "metadata": {},
   "outputs": [
    {
     "name": "stdout",
     "output_type": "stream",
     "text": [
      "['PYTHON', 'SCRIPTING', 'PROGRAMMING', 'LANGUAGE']\n"
     ]
    }
   ],
   "source": [
    "#103. I/p:'PYTHON SCRIPTING PROGRAMMING LANGUAGE'\n",
    "# o/p:['PYTHON’,’SCRIPTING’, ‘PROGRAMMING’,’ LANGUAGE']\n",
    "\n",
    "def fun(st,l=[],res=\"\"):\n",
    "    for i in st:\n",
    "        if i!=\" \":\n",
    "            res+=i\n",
    "        else:\n",
    "            l+=[res]\n",
    "            res=\"\"\n",
    "    l+=[res]\n",
    "    print(l)\n",
    "fun(\"PYTHON SCRIPTING PROGRAMMING LANGUAGE\")\n"
   ]
  },
  {
   "cell_type": "code",
   "execution_count": 27,
   "metadata": {},
   "outputs": [
    {
     "name": "stdout",
     "output_type": "stream",
     "text": [
      "['ABCDEFG', 'IJK', 'ABC']\n"
     ]
    }
   ],
   "source": [
    "# 105. I/p: ‘ABCDEFGIJKABC’\n",
    "# O/p: [‘ABCDEFG’, ‘IJK’, ‘ ABC’]\n",
    "\n",
    "def fun(st):\n",
    "    res=\"\"\n",
    "    l=[]\n",
    "    for i in range(len(st)-1):\n",
    "        if ord(st[i])+1==(ord(st[i+1])):\n",
    "            res+=st[i]\n",
    "        else:\n",
    "            res+=st[i]\n",
    "            if len(res)>1:\n",
    "                l+=[res]\n",
    "            res=\"\"\n",
    "    res+=st[i+1]\n",
    "    l+=[res]\n",
    "    print(l)\n",
    "fun(\"ABCDEFGIJKABC\")"
   ]
  },
  {
   "cell_type": "code",
   "execution_count": 28,
   "metadata": {},
   "outputs": [
    {
     "name": "stdout",
     "output_type": "stream",
     "text": [
      "['ABCDEFG', 'IJK', 'ABC']\n"
     ]
    }
   ],
   "source": [
    "#105 \n",
    "def seq(st):\n",
    "    res=\"\"\n",
    "    l=[]\n",
    "    for i in range(len(st)-1):\n",
    "        if ord(st[i])+1==ord(st[i+1]):\n",
    "            res+=st[i]\n",
    "        else:\n",
    "            res+=st[i]\n",
    "            if len(res)>1:\n",
    "                l+=[res]\n",
    "            res=\"\"\n",
    "    res+=st[i+1]\n",
    "    l+=[res]\n",
    "    print(l)\n",
    "seq(\"ABCDEFGIJKABC\")"
   ]
  },
  {
   "cell_type": "code",
   "execution_count": 4,
   "metadata": {},
   "outputs": [
    {
     "name": "stdout",
     "output_type": "stream",
     "text": [
      "True\n",
      "False\n"
     ]
    }
   ],
   "source": [
    "#106. WAP to check whether two given strings contain the same set of \n",
    "#characters but in different order.For example, “POT” and “OTP” are \n",
    "#having the same set of characters.\n",
    "\n",
    "def same(st1,st2):\n",
    "    for i in st1:\n",
    "        if i not in st2:\n",
    "            return False\n",
    "        return True\n",
    "print(same(\"pot\",\"otp\"))\n",
    "print(same(\"pot\",\"ots\"))\n"
   ]
  },
  {
   "cell_type": "code",
   "execution_count": 14,
   "metadata": {},
   "outputs": [
    {
     "name": "stdout",
     "output_type": "stream",
     "text": [
      "['Java', 'Concept', 'for', 'The', 'Day']\n",
      "['avaJ', 'tpecnoC', 'rof', 'ehT', 'yaD']\n"
     ]
    }
   ],
   "source": [
    "# 107. WAPto reverse alternate words of a given string starting with the first \n",
    "# word and the swap first and last char of the remaining words.\n",
    "# For example, if “Java Concept for The Day” is input string then output \n",
    "# should be “avaJ toncepc rof eht yaD”\n",
    "\n",
    "s=\"Java Concept for The Day\"\n",
    "def rev(s):\n",
    "    l=s.split(\" \")\n",
    "    print(l)\n",
    "    l1=[]\n",
    "    for i in l:\n",
    "        l1+=[i[::-1]]\n",
    "    print(l1)\n",
    "rev(s)\n",
    "\n"
   ]
  },
  {
   "cell_type": "code",
   "execution_count": 20,
   "metadata": {},
   "outputs": [
    {
     "name": "stdout",
     "output_type": "stream",
     "text": [
      "0 0 0 3 4 0 0 7 8 0 0 0 0 13 14 0 16 "
     ]
    }
   ],
   "source": [
    "# 108. Find the sum of all numbers present in the string and consider -12 as a \n",
    "# negative number in string.\n",
    "# Ex: saf67as71mha-12v1\n",
    "# o/p: 67 + 71 - 12 + 1 = 127\n",
    "st=\"saf67as71mha-12v1\"\n",
    "def sep(st):\n",
    "    for i in range(len(st)):\n",
    "        sum=0\n",
    "        if \"0\"<=st[i]<=\"9\":\n",
    "            sum+=int(i)\n",
    "        print(sum,end=\" \")\n",
    "sep(st)"
   ]
  },
  {
   "cell_type": "code",
   "execution_count": null,
   "metadata": {},
   "outputs": [],
   "source": []
  },
  {
   "cell_type": "code",
   "execution_count": null,
   "metadata": {},
   "outputs": [],
   "source": []
  },
  {
   "cell_type": "code",
   "execution_count": 18,
   "metadata": {},
   "outputs": [
    {
     "name": "stdout",
     "output_type": "stream",
     "text": [
      "1 3 5 7 9 11 13 15 17 19 21 23 25 27 29 "
     ]
    }
   ],
   "source": [
    "# 117. WAP to print the data items in a given list.\n",
    "\n",
    "l=[i for i in range(1,30,2)]\n",
    "for i in l:\n",
    "    print(i,end=\" \")"
   ]
  },
  {
   "cell_type": "code",
   "execution_count": 19,
   "metadata": {},
   "outputs": [
    {
     "name": "stdout",
     "output_type": "stream",
     "text": [
      "[29, 27, 25, 23, 21, 19, 17, 15, 13, 11, 9, 7, 5, 3, 1]\n"
     ]
    }
   ],
   "source": [
    "# 118. WAP to reverse the data items in a given list.\n",
    "\n",
    "l=[i for i in range(1,30,2)]\n",
    "l1=[]\n",
    "for i in l:\n",
    "    l1=[i]+l1\n",
    "print(l1)\n",
    "    "
   ]
  },
  {
   "cell_type": "code",
   "execution_count": 2,
   "metadata": {},
   "outputs": [
    {
     "data": {
      "text/plain": [
       "[1, 20.4, True, (4+4j)]"
      ]
     },
     "execution_count": 2,
     "metadata": {},
     "output_type": "execute_result"
    }
   ],
   "source": [
    "# 119. WAP to extract and store the single value data types in a given list.(store the values in list)\n",
    "\n",
    "l=[1,20.4,True,4+4j,[1,2,3],{\"a\":10,\"b\":20},{\"a\",\"b\",\"c\"},(10,20,30),\"hello\"]\n",
    "def single(coll):\n",
    "    l1=[]\n",
    "    for i in coll:\n",
    "        if type(i) not in [list,tuple,set,dict,str]:\n",
    "            l1+=[i]\n",
    "    return l1\n",
    "single(l)\n",
    "        \n",
    "\n"
   ]
  },
  {
   "cell_type": "code",
   "execution_count": 12,
   "metadata": {},
   "outputs": [
    {
     "data": {
      "text/plain": [
       "([1, 2, 3], {'a': 10, 'b': 20}, {'a', 'b', 'c'}, (10, 20, 30), 'hello')"
      ]
     },
     "execution_count": 12,
     "metadata": {},
     "output_type": "execute_result"
    }
   ],
   "source": [
    "#120. WAP to extract and store the multi value data types in a given list.(store the values in tuple)\n",
    "\n",
    "l=[1,20.4,True,4+4j,[1,2,3],{\"a\":10,\"b\":20},{\"a\",\"b\",\"c\"},(10,20,30),\"hello\"]\n",
    "def multi(coll):\n",
    "    t1=()\n",
    "    for i in coll:\n",
    "        if type(i) in [list,tuple,set,dict,str]:\n",
    "            t1+=(i,)\n",
    "    return t1\n",
    "multi(l)"
   ]
  },
  {
   "cell_type": "code",
   "execution_count": 1,
   "metadata": {},
   "outputs": [
    {
     "data": {
      "text/plain": [
       "{(10, 20, 30), (4+4j), 1, 20.4, 'hello'}"
      ]
     },
     "execution_count": 1,
     "metadata": {},
     "output_type": "execute_result"
    }
   ],
   "source": [
    "#121. WAP to extract and store the mutable values data types in a given list.(store the values in set)\n",
    "\n",
    "l=[1,20.4,True,4+4j,[1,2,3],{\"a\":10,\"b\":20},{\"a\",\"b\",\"c\"},(10,20,30),\"hello\"]\n",
    "def mutable(coll):\n",
    "    t1=set()\n",
    "    for i in coll:\n",
    "        if type(i) not in [list,set,dict]:\n",
    "            t1|={i}\n",
    "    return t1\n",
    "mutable(l)"
   ]
  },
  {
   "cell_type": "code",
   "execution_count": 3,
   "metadata": {},
   "outputs": [
    {
     "name": "stdout",
     "output_type": "stream",
     "text": [
      "hai hello 12 "
     ]
    }
   ],
   "source": [
    "#123. WAP to print only string items present in the list.\n",
    "l=[10,20,30,\"hai\",\"hello\",\"12\",True,20+5j]\n",
    "for i in l:\n",
    "    if type(i)==str:\n",
    "        print(i,end=\" \")"
   ]
  },
  {
   "cell_type": "code",
   "execution_count": 8,
   "metadata": {},
   "outputs": [
    {
     "name": "stdout",
     "output_type": "stream",
     "text": [
      "average is: 14.0\n"
     ]
    }
   ],
   "source": [
    "# 124. WAP To Calculate the Average of Numbers in a Given List\n",
    "\n",
    "l=[10,12,13,14,15,16,17,18,11]\n",
    "sum=0\n",
    "count=0\n",
    "for i in l:\n",
    "    if type(i)==int:\n",
    "        sum+=i\n",
    "        count+=1\n",
    "avg=sum/count\n",
    "print(\"average is:\",avg)"
   ]
  },
  {
   "cell_type": "code",
   "execution_count": null,
   "metadata": {},
   "outputs": [],
   "source": [
    "# 125. WAP To Accept Three Digits and Print all Possible Combinations from the Digits"
   ]
  },
  {
   "cell_type": "code",
   "execution_count": 11,
   "metadata": {},
   "outputs": [],
   "source": [
    "#126. WAP to print only string items present in the list in between the range from m to n.\n",
    "l=[10,20,30,\"hai\",\"hello\",\"12\",True,20+5j]\n",
    "def sample(st):\n",
    "    def ran(start=0,end=len(st)):\n",
    "        for i in range(start,end):\n",
    "            if type(i)==str:\n",
    "                print(start[i])\n",
    "    ran()\n",
    "sample(l)\n",
    "\n",
    "\n"
   ]
  },
  {
   "cell_type": "code",
   "execution_count": 23,
   "metadata": {},
   "outputs": [
    {
     "data": {
      "text/plain": [
       "2"
      ]
     },
     "execution_count": 23,
     "metadata": {},
     "output_type": "execute_result"
    }
   ],
   "source": [
    "#136. wap count the number of sub same collections in a main collection.\n",
    "#ip= [1,2,3,[1,2],[2,5]]\n",
    "#op:2\n",
    "c=[1,2,3,[1,2],[2,5]]\n",
    "def fun(coll,count=0):\n",
    "    for i in coll:\n",
    "        if type(i) in [list,set,str,dict,tuple]:\n",
    "            count+=1\n",
    "    return count\n",
    "fun(c)"
   ]
  },
  {
   "cell_type": "code",
   "execution_count": 29,
   "metadata": {},
   "outputs": [
    {
     "name": "stdout",
     "output_type": "stream",
     "text": [
      "{'even': 5, 'odd': 6}\n"
     ]
    }
   ],
   "source": [
    "#137. Wap to count the number of even and odd numbers is given a list. \n",
    "#i/p:[1,8,9,7,25,26,98,75,74,36,15]\n",
    "#o/p:{'even':5,'odd':6}\n",
    "\n",
    "l=[1,8,9,7,25,26,98,75,74,36,15]\n",
    "def even_odd(coll,coue=0,couo=0):\n",
    "    for i in coll:\n",
    "        if i%2==0:\n",
    "            coue+=1\n",
    "        else:\n",
    "            couo+=1\n",
    "    d={}\n",
    "    d[\"even\"]=coue\n",
    "    d[\"odd\"]=couo\n",
    "    print(d)\n",
    "    # print(\"even\",coue)\n",
    "    # print(\"odd\",couo)\n",
    "even_odd(l)\n"
   ]
  },
  {
   "cell_type": "code",
   "execution_count": 38,
   "metadata": {},
   "outputs": [
    {
     "name": "stdout",
     "output_type": "stream",
     "text": [
      "<class 'int'>\n",
      "<class 'int'>\n",
      "<class 'int'>\n",
      "<class 'str'>\n",
      "<class 'str'>\n",
      "<class 'complex'>\n",
      "[]\n"
     ]
    }
   ],
   "source": [
    "#138. I/P:\n",
    "#List_1 = [1, 2, 5, ”HAI, ”Hello”, 4+10j],\n",
    "#List_2= [3, ”GOOD”, “HAVE”, ”A”, ”NICE”, ”DAY”]\n",
    "#o/p:\n",
    "#List_1 = [1, 2, 5, 3, 4+10j],\n",
    "#List_2= [”HAI, ”Hello”, ”GOOD”, “HAVE”, ”A”, ”NICE”, ”DAY”]\n",
    "\n",
    "l1 =[1, 2, 5, \"HAI\", \"Hello\", 4+10j]\n",
    "l2=[3, 'GOOD', 'HAVE', 'A', 'NICE', 'DAY']\n",
    "str=[]\n",
    "oth=[]\n",
    "for i in l1:\n",
    "    # print(type(i))\n",
    "    if type(i)==str:\n",
    "        print(i)\n",
    "        # str.append(i)\n",
    "    else:\n",
    "        print(type(i))\n",
    "        oth+=[i]\n",
    "# for j in l2:\n",
    "#     if type(j)==str:\n",
    "#         str+=[j]\n",
    "#     else:\n",
    "#         oth+=[j]\n",
    "print(str)\n",
    "# print(oth)\n"
   ]
  },
  {
   "cell_type": "code",
   "execution_count": 14,
   "metadata": {},
   "outputs": [
    {
     "name": "stdout",
     "output_type": "stream",
     "text": [
      "[0, 1, 2, 3, 4, 5, 6, 7, 8, 9]\n",
      "8\n"
     ]
    }
   ],
   "source": [
    "#141. Write a program to find out the 2nd largest number in an array.\n",
    "# For example: [1,2,3,4,5,6,7,8,9,0].\n",
    "\n",
    "l=[1,2,3,4,5,6,7,8,9,0]\n",
    "for i in range(len(l)):\n",
    "    for j in range(len(l)-1):\n",
    "        if l[j]>l[j+1]:\n",
    "            l[j+1],l[j]=l[j],l[j+1]\n",
    "print(l)\n",
    "print(l[-2])\n"
   ]
  },
  {
   "cell_type": "code",
   "execution_count": 17,
   "metadata": {},
   "outputs": [
    {
     "name": "stdout",
     "output_type": "stream",
     "text": [
      "['google', 'facebook', 'python', 'youtube']\n",
      "{6: ['google', 'python'], 8: ['facebook'], 7: ['youtube']}\n"
     ]
    }
   ],
   "source": [
    "# 144.wap\n",
    "# li={'google.com','facebook.in','python.edu','youtube.com'}\n",
    "# op:{'6':['google','python'],'7':['youtube'],'8':['facebook']}\n",
    "\n",
    "li={'google.com','facebook.in','python.edu','youtube.com'}\n",
    "l2=[]\n",
    "for i in li:\n",
    "    res=\"\"\n",
    "    l1=[]\n",
    "    for j in i:\n",
    "        if j!=\".\":\n",
    "            res+=j\n",
    "        else:\n",
    "            l1+=[res]\n",
    "            res=\"\"\n",
    "    l2+=l1\n",
    "print(l2)\n",
    "d={}\n",
    "for k in l2:\n",
    "    if len(k) not in d:\n",
    "        d[len(k)]=[k]\n",
    "    else:\n",
    "        d[len(k)]+=[k]\n",
    "print(d)"
   ]
  },
  {
   "cell_type": "code",
   "execution_count": 26,
   "metadata": {},
   "outputs": [
    {
     "name": "stdout",
     "output_type": "stream",
     "text": [
      "['in', 'com', 'com', 'edu']\n",
      "{'in': 1, 'com': 2, 'edu': 1}\n",
      "2\n",
      "[('in', 1), ('com', 2), ('edu', 1)]\n"
     ]
    }
   ],
   "source": [
    "#145. wap\n",
    "#li={'google.com','facebook.in','python.edu','youtube.com'}\n",
    "#op=[['com',2],['in',1],['edu',1]]\n",
    "\n",
    "l=[]\n",
    "li={'google.com','facebook.in','python.edu','youtube.com'}\n",
    "for i in li:\n",
    "    res=\"\"\n",
    "    l1=[]\n",
    "    pos=None\n",
    "    for j in range(0,len(i)):\n",
    "        if i[j]==\".\":\n",
    "            pos=j\n",
    "            l1+=[i[pos+1:]]\n",
    "    l+=l1\n",
    "print(l)\n",
    "d={}\n",
    "for m in l:\n",
    "    if m not in d:\n",
    "        d[m]=1\n",
    "    else:\n",
    "        d[m]+=1\n",
    "print(d)\n",
    "print(d[\"com\"])\n",
    "lis=[]\n",
    "for i in d.items():\n",
    "    lis+=[i]\n",
    "print(lis)"
   ]
  },
  {
   "cell_type": "code",
   "execution_count": 14,
   "metadata": {},
   "outputs": [
    {
     "name": "stdout",
     "output_type": "stream",
     "text": [
      "com\n"
     ]
    }
   ],
   "source": [
    "s=\"google.com\"\n",
    "pos=None\n",
    "for i in range(len(s)-1):\n",
    "    if s[i]==\".\":\n",
    "        pos=i\n",
    "        print(s[pos+1:])\n"
   ]
  },
  {
   "cell_type": "code",
   "execution_count": 22,
   "metadata": {},
   "outputs": [
    {
     "name": "stdout",
     "output_type": "stream",
     "text": [
      "['welcome', 'to', 'pyspiders', 'all', 'the', 'best', 'your', 'career']\n",
      "['career', 'your', 'best', 'the', 'all', 'pyspiders', 'to', 'welcome']\n",
      "('reerac', 'ruoy', 'tseb', 'eht', 'lla', 'sredipsyp', 'ot', 'emoclew')\n"
     ]
    }
   ],
   "source": [
    "#146. wap\n",
    "#st='welcome to pyspiders all the best your career '\n",
    "#op=('reerac','ruoy','tseb','eth','lla','sredipsys','ot','emoclew')\n",
    "res=\"\"\n",
    "l=[]\n",
    "st='welcome to pyspiders all the best your career '\n",
    "for i in st:\n",
    "    if i!=\" \":\n",
    "        res+=i\n",
    "    else:\n",
    "        l+=[res]\n",
    "        res=\"\"\n",
    "print(l)\n",
    "l1=l[::-1]\n",
    "print(l1)\n",
    "# temp=\"\"\n",
    "# tup=[]\n",
    "# for m in l1:\n",
    "#     for n in m:\n",
    "#         temp=n+temp\n",
    "#     tup+=[temp]\n",
    "#     temp=\"\"\n",
    "# print(tuple(tup))\n",
    "l2=[]\n",
    "for k in range(len(l1)):\n",
    "    l2+=[l1[k][::-1]]\n",
    "print(tuple(l2))\n",
    "\n",
    "\n",
    "\n"
   ]
  },
  {
   "cell_type": "code",
   "execution_count": 17,
   "metadata": {},
   "outputs": [
    {
     "name": "stdout",
     "output_type": "stream",
     "text": [
      "['welcome', 'to', 'pyspiders', 'all', 'the', 'best', 'your', 'career']\n",
      "['welcome', 'ot', 'pyspiders', 'lla', 'the', 'tseb', 'your', 'reerac']\n"
     ]
    }
   ],
   "source": [
    "#147. wap\n",
    "#st='welcome to pyspiders all the best your career'\n",
    "#op:('welcome','ot','pyspiders','lla','the','tesb','your','reerac')\n",
    "\n",
    "res=\"\"\n",
    "l=[]\n",
    "st='welcome to pyspiders all the best your career '\n",
    "for i in st:\n",
    "    if i!=\" \":\n",
    "        res+=i\n",
    "    else:\n",
    "        l+=[res]\n",
    "        res=\"\"\n",
    "print(l)\n",
    "l1=[]\n",
    "for m in range(len(l)):\n",
    "    # print(l[m][::-1])\n",
    "    if m%2!=0:\n",
    "        l1+=[l[m][::-1]]\n",
    "    else:\n",
    "        l1+=[l[m]]\n",
    "print(l1)\n",
    "\n",
    "    \n",
    "\n",
    "        \n",
    "\n"
   ]
  },
  {
   "cell_type": "code",
   "execution_count": 6,
   "metadata": {},
   "outputs": [
    {
     "name": "stdout",
     "output_type": "stream",
     "text": [
      "{'A': 1, 'C': 2, 'Z': 6, 'a': 24, 'c': 120, 'd': 720}\n"
     ]
    }
   ],
   "source": [
    "# 148. wap\n",
    "# li=('A','C','Z','a','c','d')\n",
    "# op:{'65':1,'67':2,'90':6,'97':24,'99':120,'100':720}\n",
    "import math\n",
    "l=(\"A\",\"C\",\"Z\",\"a\",\"c\",\"d\")\n",
    "d={}\n",
    "for i in range(0,len(l)):\n",
    "    if l[i] not in d:\n",
    "        d[l[i]]=math.factorial(i+1)\n",
    "    else:\n",
    "        d[l[i]]+=1\n",
    "print(d)\n",
    "\n"
   ]
  },
  {
   "cell_type": "code",
   "execution_count": 12,
   "metadata": {},
   "outputs": [
    {
     "name": "stdout",
     "output_type": "stream",
     "text": [
      "[1, 'abc', '2012-07-01', 1, 'dsc', '2012-07-02', 2, 'abc', '2012-07-01', 2, 'dsc', '2012-07-02', 3, 'asdc', '2012-07-04', 2, 'sasa', '2012-07-05']\n"
     ]
    }
   ],
   "source": [
    "#149. mylist = [[1,\"abc\",'2012-07-01'],[1,\"dsc\",'2012-07-\n",
    "#02'],[2,\"abc\",'2012-07-01'],[2,\"dsc\",'2012-07-02'],[3,\"asdc\",'2012-07-\n",
    "#04'],[2,\"sasa\",'2012-07-05']]\n",
    "#output= [[1,\"abc\",'2012-07-01',\"dsc\",'2012-07-02'],[2,\"abc\",'2012-07-\n",
    "#01',\"dsc\",'2012-07-02',\"sasa\",'2012-07-05'],[3,\"asdc\",'2012-07-04']]\n",
    "\n",
    "l=[[1,\"abc\",'2012-07-01'],[1,\"dsc\",'2012-07-02'],[2,\"abc\",'2012-07-01'],[2,\"dsc\",'2012-07-02'],[3,\"asdc\",'2012-07-04'],[2,\"sasa\",'2012-07-05']]\n",
    "\n",
    "l1=[]\n",
    "for i in l:\n",
    "    l1.extend(i)\n",
    "print(l1)\n",
    "\n"
   ]
  }
 ],
 "metadata": {
  "kernelspec": {
   "display_name": "Python 3",
   "language": "python",
   "name": "python3"
  },
  "language_info": {
   "codemirror_mode": {
    "name": "ipython",
    "version": 3
   },
   "file_extension": ".py",
   "mimetype": "text/x-python",
   "name": "python",
   "nbconvert_exporter": "python",
   "pygments_lexer": "ipython3",
   "version": "3.11.4"
  },
  "orig_nbformat": 4
 },
 "nbformat": 4,
 "nbformat_minor": 2
}
