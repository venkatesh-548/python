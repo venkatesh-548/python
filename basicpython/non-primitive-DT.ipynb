{
 "cells": [
  {
   "cell_type": "code",
   "execution_count": 38,
   "metadata": {},
   "outputs": [
    {
     "name": "stdout",
     "output_type": "stream",
     "text": [
      "pto sapormiglnug\n",
      "egaugnal gnimmargorp a si nohtyp\n",
      "ing\n",
      "is a \n",
      "mar\n",
      "gnal\n",
      "egaugnal gnimmargorp a si nohtyp\n",
      "python\n",
      " \n",
      "pythonprogramming\n",
      "pythonprogramming programming\n",
      "python is programming\n",
      "python is a\n",
      "python is programming\n",
      "python is programming language\n",
      "python is programming language highlevel\n",
      "python programming\n",
      "the programming\n",
      "python is a programming language\n",
      "python is a high level programming\n",
      "is a high level programming language\n"
     ]
    }
   ],
   "source": [
    "#python string slicing and indexing\n",
    "s=\"python is a programming language\"\n",
    "s[::]\n",
    "print(s[::2])\n",
    "print(s[-1::-1])\n",
    "print(s[-12:-9:1])\n",
    "print(s[7:12:1])\n",
    "print(s[18:15:-1])\n",
    "print(s[-5:-9:-1])\n",
    "print(s[::-1])\n",
    "print(s[:6:])\n",
    "print(s[6])\n",
    "\n",
    "\n",
    "#string concatination\n",
    "s=\"python\"\n",
    "t=\"programming\"\n",
    "s+=t\n",
    "print(s)\n",
    "print(s+\" \"+t)\n",
    "\n",
    "#append at middle of string\n",
    "a=\"python\"\n",
    "b=\"programming\"\n",
    "t=a+\" is \"+b\n",
    "print(a+\" is \"+b)\n",
    "print(a+\" is a\")\n",
    "\n",
    "#append end of the string\n",
    "l=\" language\"\n",
    "print(t)\n",
    "t+=l\n",
    "print(t)\n",
    "h=\" highlevel\"\n",
    "t+=h\n",
    "print(t)\n",
    "\n",
    "#append at the start of the index\n",
    "b=\"programming\"\n",
    "print(\"python \"+b)\n",
    "a=\"the \"\n",
    "print(a+b)\n",
    "\n",
    "#deletion of the char\n",
    "s=\"python is a high level programming language\"\n",
    "a=s[:12]+s[-20:]\n",
    "print(a)\n",
    "#to delete language\n",
    "a=s[:-9:1]\n",
    "print(a)\n",
    "#to delete python\n",
    "b=s[7::]\n",
    "print(b)\n",
    "\n",
    "\n",
    "\n",
    "\n",
    "\n",
    "\n",
    "\n",
    "\n"
   ]
  },
  {
   "cell_type": "code",
   "execution_count": 4,
   "metadata": {},
   "outputs": [
    {
     "name": "stdout",
     "output_type": "stream",
     "text": [
      "[1, 20.2, (3+5j), b'101', True, ['hai', 'hello'], [1, 2, 3, 4], ('a', 'b', 'c'), {10, 20, 30}, {'a': 100, 'b': 200}]\n",
      "[1, 2, 3, 4]\n",
      "2\n",
      "{10, 20, 30}\n",
      "b\n",
      "['hai', 'hello']\n",
      "['hai', 'hello']\n"
     ]
    }
   ],
   "source": [
    "#list datatype\n",
    "\n",
    "l=[1,20.2,3+5j,b\"101\",True,[\"hai\",\"hello\"],[1,2,3,4],(\"a\",\"b\",\"c\"),{10,20,30},{\"a\":100,\"b\":200}]\n",
    "print(l)\n",
    "#list can accept all type of datatypes it is mutable and modification and deletion can directly apply\n",
    "\n",
    "#indexing and slicing\n",
    "print(l[6])\n",
    "print(l[6][1])\n",
    "print(l[8])\n",
    "print(l[7][1])\n",
    "print(l[5])\n",
    "print(l[-5])\n",
    "\n",
    "#modification of list\n",
    "\n",
    "\n",
    "\n",
    "\n"
   ]
  },
  {
   "cell_type": "code",
   "execution_count": 9,
   "metadata": {},
   "outputs": [
    {
     "name": "stdout",
     "output_type": "stream",
     "text": [
      "[1, 'hai', (3+5j), b'101', True, ['hai', 'hello'], [1, 2, 3, 4], ('a', 'b', 'c'), {10, 20, 30}, {'a': 100, 'b': 200}]\n",
      "[1, 'h', 'e', 'l', 'l', 'o', 'hai', (3+5j), b'101', True, ['hai', 'hello'], [1, 2, 3, 4], ('a', 'b', 'c'), {10, 20, 30}, {'a': 100, 'b': 200}]\n",
      "[1, 'h', 'e', 'l', 'l', [], 'hai', (3+5j), b'101', True, ['hai', 'hello'], [1, 2, 3, 4], ('a', 'b', 'c'), {10, 20, 30}, {'a': 100, 'b': 200}]\n",
      "[1, 'h', 'e', 'l', 'l', (10, 20), 'hai', (3+5j), b'101', True, ['hai', 'hello'], [1, 2, 3, 4], ('a', 'b', 'c'), {10, 20, 30}, {'a': 100, 'b': 200}]\n"
     ]
    }
   ],
   "source": [
    "#modification of list\n",
    "l=[1,20.2,3+5j,b\"101\",True,[\"hai\",\"hello\"],[1,2,3,4],(\"a\",\"b\",\"c\"),{10,20,30},{\"a\":100,\"b\":200}]\n",
    "l[1]=\"hai\"\n",
    "print(l)\n",
    "l[1:1]=\"hello\"\n",
    "print(l)\n",
    "l[5]=[]\n",
    "print(l)\n",
    "l[5]=(10,20)\n",
    "print(l)"
   ]
  },
  {
   "cell_type": "code",
   "execution_count": 8,
   "metadata": {},
   "outputs": [
    {
     "name": "stdout",
     "output_type": "stream",
     "text": [
      "{1, 2, 3, 4, 5, 6, 7, 8}\n",
      "{'hai', 'b', 'a', 'hello'}\n",
      "{(1, 2, 3), (1, 3, 5, 6)}\n",
      "2080019852416\n",
      "2080016313696\n"
     ]
    }
   ],
   "source": [
    "# set data type\n",
    "\n",
    "s={1,2,3,4,5,6,7,8,1,2,3}\n",
    "print(s)\n",
    "\n",
    "#s{[1,2,3],\"str\",(5,6,7)} set data will not accept the mutable datatype(list,set,dict) \n",
    "#print(s)\n",
    "\n",
    "s={\"hai\",\"hello\",\"a\",\"b\",\"a\"}\n",
    "print(s)\n",
    "\n",
    "s={(1,2,3),(1,3,5,6)}\n",
    "print(s)\n",
    "\n",
    "# s1={1,2,3,4,5}  set will not support the addition and subtraction\n",
    "# s1={\"a\",\"b\",\"c\",\"d\"}  it accept the set operations like union,intersection,difference,symmetric difference\n",
    "# s1+=s2\n",
    "# print(s1)\n",
    "\n",
    "s1={1,2,3,4,5}\n",
    "s2={1,2,3,4,5} #id are different for the same sets\n",
    "print(id(s1))\n",
    "print(id(s2))"
   ]
  },
  {
   "cell_type": "code",
   "execution_count": 25,
   "metadata": {},
   "outputs": [
    {
     "name": "stdout",
     "output_type": "stream",
     "text": [
      "2080019849728\n",
      "{1, 2, 3, 4, 5, 6}\n",
      "2080016313696\n",
      "{1, 2, 3, 4, 5, 6}\n",
      "{1, 2}\n",
      "{3, 4, 5, 6}\n",
      "{10, 50, 20}\n",
      "{40, 10, 50, 20}\n",
      "{70, 10, 80, 20, 60, 30}\n",
      "{10, 60}\n",
      "2\n"
     ]
    }
   ],
   "source": [
    "#union of the two sets\n",
    "\n",
    "s1={1,2,3,4}\n",
    "print(id(s1))\n",
    "s2={3,4,5,6}\n",
    "s1=s1|s2   #if we use the compound assignment operator the address will not change otherwise, it will be changed\n",
    "print(s1)\n",
    "print(id(s1))\n",
    "\n",
    "#adding new element to set\n",
    "s1={1,2,3,4}\n",
    "s1|={4,5,6}\n",
    "print(s1)\n",
    "\n",
    "#difference of the set\n",
    "s1={1,2,3,4}\n",
    "s2={3,4,5,6}\n",
    "s1-=s2\n",
    "print(s1)\n",
    "s2-=s1\n",
    "print(s2)\n",
    "\n",
    "#if we want to delete the element from the set\n",
    "\n",
    "a={10,20,30,40,50}\n",
    "a-={30,40}\n",
    "print(a)\n",
    "\n",
    "#intersection of the set\n",
    "c={10,20,30,40,50}\n",
    "d={40,50,10,20,80}\n",
    "c&=d\n",
    "print(c)\n",
    "\n",
    "#semantic difference of the set\n",
    "e={10,20,30,40,50}\n",
    "f={40,50,60,70,80}\n",
    "e^=f\n",
    "print(e)\n",
    "\n",
    "f={40,50,60,70,80}\n",
    "f-={40,50,70,80} #to fetch the val 60 from set\n",
    "\n",
    "f|={10}\n",
    "print(f)\n",
    "print(len(f))"
   ]
  },
  {
   "cell_type": "code",
   "execution_count": 1,
   "metadata": {},
   "outputs": [
    {
     "name": "stdout",
     "output_type": "stream",
     "text": [
      "10\n",
      "{'a': 10, 'b': 20, 'c': 30, 'd': 40, 'e': 60}\n",
      "{'a': 1, 'b': 20, 'c': 30, 'd': 40, 'e': 60}\n"
     ]
    },
    {
     "ename": "TypeError",
     "evalue": "unsupported operand type(s) for |=: 'dict' and 'dict'",
     "output_type": "error",
     "traceback": [
      "\u001b[1;31m---------------------------------------------------------------------------\u001b[0m",
      "\u001b[1;31mTypeError\u001b[0m                                 Traceback (most recent call last)",
      "Cell \u001b[1;32mIn[1], line 14\u001b[0m\n\u001b[0;32m     12\u001b[0m b\u001b[39m=\u001b[39m{\u001b[39m\"\u001b[39m\u001b[39mc\u001b[39m\u001b[39m\"\u001b[39m:\u001b[39mNone\u001b[39;00m,\u001b[39m\"\u001b[39m\u001b[39md\u001b[39m\u001b[39m\"\u001b[39m:\u001b[39m50\u001b[39m,\u001b[39m\"\u001b[39m\u001b[39me\u001b[39m\u001b[39m\"\u001b[39m:\u001b[39m60\u001b[39m}\n\u001b[0;32m     13\u001b[0m \u001b[39m# a.update(b)\u001b[39;00m\n\u001b[1;32m---> 14\u001b[0m a\u001b[39m|\u001b[39m\u001b[39m=\u001b[39mb\n\u001b[0;32m     15\u001b[0m \u001b[39mprint\u001b[39m(a)\n\u001b[0;32m     17\u001b[0m \u001b[39m#deletion from dict\u001b[39;00m\n",
      "\u001b[1;31mTypeError\u001b[0m: unsupported operand type(s) for |=: 'dict' and 'dict'"
     ]
    }
   ],
   "source": [
    "#dictonary data type\n",
    "\n",
    "d={\"a\":10,\"b\":20,\"c\":30,\"d\":40,\"e\":50}\n",
    "print(d[\"a\"])\n",
    "d[\"e\"]=60\n",
    "print(d)\n",
    "d[\"a\"]=1\n",
    "print(d)\n",
    "\n",
    "#modification\n",
    "a={\"a\":10,\"b\":20,\"c\":30}\n",
    "b={\"c\":None,\"d\":50,\"e\":60}\n",
    "# a.update(b)\n",
    "a|=b\n",
    "print(a)\n",
    "\n",
    "#deletion from dict\n",
    "c={\"a\":10,\"b\":20,\"c\":30}\n",
    "del c[\"a\"]\n",
    "print(c)"
   ]
  },
  {
   "cell_type": "code",
   "execution_count": 15,
   "metadata": {},
   "outputs": [
    {
     "data": {
      "text/plain": [
       "10j"
      ]
     },
     "execution_count": 15,
     "metadata": {},
     "output_type": "execute_result"
    }
   ],
   "source": [
    "a=2+10j\n",
    "complex(imag=a.imag)"
   ]
  },
  {
   "cell_type": "code",
   "execution_count": 1,
   "metadata": {},
   "outputs": [
    {
     "name": "stdout",
     "output_type": "stream",
     "text": [
      "{'a': 10, 'b': 20, 'c': 80, 'd': 50, 'e': 60}\n"
     ]
    }
   ],
   "source": [
    "a={\"a\":10,\"b\":20,\"c\":30}\n",
    "b={\"c\":80,\"d\":50,\"e\":60}\n",
    "# a.update(b)\n",
    "print(a|b)"
   ]
  }
 ],
 "metadata": {
  "kernelspec": {
   "display_name": "Python 3",
   "language": "python",
   "name": "python3"
  },
  "language_info": {
   "codemirror_mode": {
    "name": "ipython",
    "version": 3
   },
   "file_extension": ".py",
   "mimetype": "text/x-python",
   "name": "python",
   "nbconvert_exporter": "python",
   "pygments_lexer": "ipython3",
   "version": "3.11.4"
  },
  "orig_nbformat": 4
 },
 "nbformat": 4,
 "nbformat_minor": 2
}
