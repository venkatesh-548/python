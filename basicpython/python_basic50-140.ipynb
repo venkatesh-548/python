{
 "cells": [
  {
   "cell_type": "code",
   "execution_count": null,
   "metadata": {},
   "outputs": [],
   "source": [
    "#basic programmes from 50-140"
   ]
  },
  {
   "cell_type": "code",
   "execution_count": 1,
   "metadata": {},
   "outputs": [
    {
     "name": "stdout",
     "output_type": "stream",
     "text": [
      "[10, 20, 30, 40, 'a', 'b', 'c', 'd']\n"
     ]
    }
   ],
   "source": [
    "# 50 to concat list and tuple by using the compound assignment\n",
    "\n",
    "l=[10,20,30,40]\n",
    "l+=(\"a\",\"b\",\"c\",\"d\")\n",
    "print(l)"
   ]
  },
  {
   "cell_type": "code",
   "execution_count": 2,
   "metadata": {},
   "outputs": [
    {
     "data": {
      "text/plain": [
       "True"
      ]
     },
     "execution_count": 2,
     "metadata": {},
     "output_type": "execute_result"
    }
   ],
   "source": [
    "# 51 to check given number is divisible by the 3\n",
    "\n",
    "n=int(input(\"enter a number:\"))\n",
    "n%3==0\n",
    "    "
   ]
  },
  {
   "cell_type": "code",
   "execution_count": 5,
   "metadata": {},
   "outputs": [
    {
     "data": {
      "text/plain": [
       "True"
      ]
     },
     "execution_count": 5,
     "metadata": {},
     "output_type": "execute_result"
    }
   ],
   "source": [
    "#52 to check the given number is diisible by 2 and 6\n",
    "\n",
    "n=21\n",
    "n%2==0 and n%6==0\n",
    "\n",
    "\n",
    "n=24\n",
    "n%2==0 and n%6==0\n"
   ]
  },
  {
   "cell_type": "code",
   "execution_count": 8,
   "metadata": {},
   "outputs": [
    {
     "data": {
      "text/plain": [
       "True"
      ]
     },
     "execution_count": 8,
     "metadata": {},
     "output_type": "execute_result"
    }
   ],
   "source": [
    "# 53 to extract the last digit of the number and check it is divisible by 3\n",
    "\n",
    "n=1997\n",
    "rem=n%10\n",
    "rem%3==0\n",
    "\n",
    "n=1996\n",
    "rem=n%10\n",
    "rem%3==0"
   ]
  },
  {
   "cell_type": "code",
   "execution_count": 9,
   "metadata": {},
   "outputs": [
    {
     "name": "stdout",
     "output_type": "stream",
     "text": [
      "9\n"
     ]
    }
   ],
   "source": [
    "# 54 to extract the the last int by using the type casting\n",
    "\n",
    "s=2029\n",
    "n=str(s)\n",
    "print(int(n[-1]))"
   ]
  },
  {
   "cell_type": "code",
   "execution_count": 11,
   "metadata": {},
   "outputs": [
    {
     "data": {
      "text/plain": [
       "False"
      ]
     },
     "execution_count": 11,
     "metadata": {},
     "output_type": "execute_result"
    }
   ],
   "source": [
    "# 55 to check the given number is greater than 150\n",
    "\n",
    "n=151\n",
    "n>150\n",
    "\n",
    "n=140\n",
    "n>150"
   ]
  },
  {
   "cell_type": "code",
   "execution_count": 14,
   "metadata": {},
   "outputs": [
    {
     "data": {
      "text/plain": [
       "False"
      ]
     },
     "execution_count": 14,
     "metadata": {},
     "output_type": "execute_result"
    }
   ],
   "source": [
    "# 56 to check the given number is greater than or equal to 100\n",
    "\n",
    "n=100\n",
    "n>=100\n",
    "\n",
    "s=132\n",
    "s>=100\n",
    "\n",
    "a=99\n",
    "a>=100\n"
   ]
  },
  {
   "cell_type": "code",
   "execution_count": 16,
   "metadata": {},
   "outputs": [
    {
     "data": {
      "text/plain": [
       "True"
      ]
     },
     "execution_count": 16,
     "metadata": {},
     "output_type": "execute_result"
    }
   ],
   "source": [
    "# 57 to check the given number is greater than 16 and less than 24\n",
    "\n",
    "n=20\n",
    "n>16 and n<24\n",
    "#true\n",
    "\n",
    "n=25\n",
    "n>16 and n<24\n",
    "#false\n",
    "\n",
    "n=23\n",
    "16<n<24\n",
    "#true"
   ]
  },
  {
   "cell_type": "code",
   "execution_count": 17,
   "metadata": {},
   "outputs": [
    {
     "data": {
      "text/plain": [
       "True"
      ]
     },
     "execution_count": 17,
     "metadata": {},
     "output_type": "execute_result"
    }
   ],
   "source": [
    "# 58 to check the number is less than or equal to 100\n",
    "\n",
    "n=100\n",
    "n<=100\n",
    "#true\n",
    "\n",
    "n=101\n",
    "n<=100\n",
    "#false\n",
    "\n",
    "n=90\n",
    "n<=100\n",
    "#true"
   ]
  },
  {
   "cell_type": "code",
   "execution_count": 18,
   "metadata": {},
   "outputs": [
    {
     "data": {
      "text/plain": [
       "True"
      ]
     },
     "execution_count": 18,
     "metadata": {},
     "output_type": "execute_result"
    }
   ],
   "source": [
    "# 59 to check the given is is even\n",
    "\n",
    "n=121\n",
    "n%2==0\n",
    "#false\n",
    "\n",
    "n=256\n",
    "n%2==0\n",
    "#true"
   ]
  },
  {
   "cell_type": "code",
   "execution_count": 19,
   "metadata": {},
   "outputs": [
    {
     "data": {
      "text/plain": [
       "False"
      ]
     },
     "execution_count": 19,
     "metadata": {},
     "output_type": "execute_result"
    }
   ],
   "source": [
    "# 60 to check the number is odd\n",
    "\n",
    "n=233\n",
    "n%2!=0\n",
    "#true\n",
    "\n",
    "n=122\n",
    "n%2!=0\n",
    "#false"
   ]
  },
  {
   "cell_type": "code",
   "execution_count": 22,
   "metadata": {},
   "outputs": [
    {
     "name": "stdout",
     "output_type": "stream",
     "text": [
      "strstrstrstrstr\n",
      "[10, 20, 30, 10, 20, 30, 10, 20, 30, 10, 20, 30, 10, 20, 30]\n",
      "('a', 'b', 'c', 'a', 'b', 'c', 'a', 'b', 'c', 'a', 'b', 'c')\n"
     ]
    }
   ],
   "source": [
    "# 62 to perform the replication of the string\n",
    "\n",
    "a=\"str\"\n",
    "print(a*5)\n",
    "\n",
    "a=[10,20,30]\n",
    "print(a*5)\n",
    "\n",
    "a=(\"a\",\"b\",\"c\")\n",
    "print(a*4)"
   ]
  },
  {
   "cell_type": "code",
   "execution_count": 24,
   "metadata": {},
   "outputs": [
    {
     "data": {
      "text/plain": [
       "True"
      ]
     },
     "execution_count": 24,
     "metadata": {},
     "output_type": "execute_result"
    }
   ],
   "source": [
    "# 63 to check the given number is greater than 22 and divisible by 3\n",
    "\n",
    "n=29\n",
    "n>22 and n%3==0\n",
    "#false\n",
    "\n",
    "s=24\n",
    "s>22 and s%3==0\n",
    "#true"
   ]
  },
  {
   "cell_type": "code",
   "execution_count": 26,
   "metadata": {},
   "outputs": [
    {
     "data": {
      "text/plain": [
       "False"
      ]
     },
     "execution_count": 26,
     "metadata": {},
     "output_type": "execute_result"
    }
   ],
   "source": [
    "# 64 to check the length of the collection is even or not\n",
    "\n",
    "s=\"python is a programming language\"\n",
    "len(s)%2==0\n",
    "#true\n",
    "\n",
    "\n",
    "s=[1,2,3,4,5,6,90]\n",
    "len(s)%2==0\n",
    "#false"
   ]
  },
  {
   "cell_type": "code",
   "execution_count": 28,
   "metadata": {},
   "outputs": [
    {
     "data": {
      "text/plain": [
       "True"
      ]
     },
     "execution_count": 28,
     "metadata": {},
     "output_type": "execute_result"
    }
   ],
   "source": [
    "# 65 to perform the length of the collection is less than 55 and greater than 16\n",
    "\n",
    "s=\"python is a highlevel programming language\"\n",
    "len(s)>16 and len(s)<55\n",
    "\n",
    "22<len(s)<55\n"
   ]
  },
  {
   "cell_type": "code",
   "execution_count": 36,
   "metadata": {},
   "outputs": [
    {
     "name": "stdout",
     "output_type": "stream",
     "text": [
      "15\n"
     ]
    },
    {
     "data": {
      "text/plain": [
       "True"
      ]
     },
     "execution_count": 36,
     "metadata": {},
     "output_type": "execute_result"
    }
   ],
   "source": [
    "# 66 to perform the the given collection is divisible by 5 and it is odd\n",
    "\n",
    "s=\"python is a programming language\"\n",
    "len(s)%5==0 and len(s)%2!=0\n",
    "#false\n",
    "\n",
    "t=\"programming lan\"\n",
    "print(len(t))\n",
    "len(t)%5==0 and len(t)%2!=0\n",
    "#true\n"
   ]
  },
  {
   "cell_type": "code",
   "execution_count": 40,
   "metadata": {},
   "outputs": [
    {
     "data": {
      "text/plain": [
       "int"
      ]
     },
     "execution_count": 40,
     "metadata": {},
     "output_type": "execute_result"
    }
   ],
   "source": [
    "# 67 to extract the middle position of the given collection and either it is (str,list,tuple)\n",
    "\n",
    "l=\"hello\"\n",
    "l=len(l)//2\n",
    "type(l)"
   ]
  },
  {
   "cell_type": "code",
   "execution_count": 42,
   "metadata": {},
   "outputs": [
    {
     "data": {
      "text/plain": [
       "True"
      ]
     },
     "execution_count": 42,
     "metadata": {},
     "output_type": "execute_result"
    }
   ],
   "source": [
    "#68 to check the given number is greater than 30 and less than 20 and divisible by 2\n",
    "\n",
    "n=25\n",
    "20<n<30 and n%2==0\n",
    "#false\n",
    " \n",
    "n=28\n",
    "20<n<30 and n%2==0"
   ]
  },
  {
   "cell_type": "code",
   "execution_count": 44,
   "metadata": {},
   "outputs": [
    {
     "data": {
      "text/plain": [
       "False"
      ]
     },
     "execution_count": 44,
     "metadata": {},
     "output_type": "execute_result"
    }
   ],
   "source": [
    "# 69 to check the number is less than 120 and even\n",
    "\n",
    "n=108\n",
    "n<120 and n%2==0 \n",
    "#true\n",
    "\n",
    "n=153\n",
    "n<120 and n%2==0\n",
    "#false"
   ]
  },
  {
   "cell_type": "code",
   "execution_count": 46,
   "metadata": {},
   "outputs": [
    {
     "data": {
      "text/plain": [
       "False"
      ]
     },
     "execution_count": 46,
     "metadata": {},
     "output_type": "execute_result"
    }
   ],
   "source": [
    "# 70 to check the number is even and present between 40 and 70\n",
    "\n",
    "n=56\n",
    "40<n<70 and n%2==0\n",
    "#true\n",
    "\n",
    "n=61\n",
    "40<n<70 and n%2==0\n",
    "#false"
   ]
  },
  {
   "cell_type": "code",
   "execution_count": 47,
   "metadata": {},
   "outputs": [
    {
     "data": {
      "text/plain": [
       "True"
      ]
     },
     "execution_count": 47,
     "metadata": {},
     "output_type": "execute_result"
    }
   ],
   "source": [
    "# 71 to check the number is odd and greater than 97\n",
    "n=101\n",
    "n>97 and n%2!=0"
   ]
  },
  {
   "cell_type": "code",
   "execution_count": 51,
   "metadata": {},
   "outputs": [
    {
     "name": "stdout",
     "output_type": "stream",
     "text": [
      "True\n",
      "False\n"
     ]
    }
   ],
   "source": [
    "# 72 to check the number is greater than 46 and less than 122 and divisible by 4\n",
    "\n",
    "n=72\n",
    "a=46<n<122 and n%4==0\n",
    "print(a)\n",
    "\n",
    "n=45\n",
    "a=46<n<122 and n%4==0\n",
    "print(a)\n",
    "\n"
   ]
  },
  {
   "cell_type": "code",
   "execution_count": 52,
   "metadata": {},
   "outputs": [
    {
     "name": "stdout",
     "output_type": "stream",
     "text": [
      "True\n",
      "False\n"
     ]
    }
   ],
   "source": [
    "# 73 to check the given number is divisible by both 3 and 5,display value\n",
    "\n",
    "n=30\n",
    "a=n%3==0 and n%5==0\n",
    "print(a)\n",
    "\n",
    "n=39\n",
    "b=n%3==0 and n%5==0\n",
    "print(b)"
   ]
  },
  {
   "cell_type": "code",
   "execution_count": 53,
   "metadata": {},
   "outputs": [
    {
     "name": "stdout",
     "output_type": "stream",
     "text": [
      "True\n"
     ]
    }
   ],
   "source": [
    "#74 to check the number between 100 and 200 including the limit\n",
    "\n",
    "n=141\n",
    "a=100<n<200\n",
    "print(a)"
   ]
  },
  {
   "cell_type": "code",
   "execution_count": 55,
   "metadata": {},
   "outputs": [
    {
     "name": "stdout",
     "output_type": "stream",
     "text": [
      "False\n",
      "True\n"
     ]
    }
   ],
   "source": [
    "#75 to check the number between 100 and 200 \n",
    "\n",
    "n=41\n",
    "a=100<n<200\n",
    "print(a)\n",
    "\n",
    "n=191\n",
    "a=100<n<200\n",
    "print(a)"
   ]
  },
  {
   "cell_type": "code",
   "execution_count": 2,
   "metadata": {},
   "outputs": [
    {
     "name": "stdout",
     "output_type": "stream",
     "text": [
      "110\n",
      "True\n"
     ]
    }
   ],
   "source": [
    "#76 to check the given string last character ASCII value should be divisible 5 or not\n",
    "\n",
    "s=\"python\"\n",
    "a=ord(s[-1])\n",
    "print(a)\n",
    "print(a%5==0)"
   ]
  },
  {
   "cell_type": "code",
   "execution_count": 4,
   "metadata": {},
   "outputs": [
    {
     "data": {
      "text/plain": [
       "True"
      ]
     },
     "execution_count": 4,
     "metadata": {},
     "output_type": "execute_result"
    }
   ],
   "source": [
    "# 77 to check the number is between 80 and 130 and should be divisible by 3 and 4 last digit should be les than 9\n",
    "\n",
    "n=120\n",
    "print(80<n<130 and n%3==0 and n%4==0 and n%10<=9)\n",
    "\n"
   ]
  },
  {
   "cell_type": "code",
   "execution_count": 6,
   "metadata": {},
   "outputs": [
    {
     "name": "stdout",
     "output_type": "stream",
     "text": [
      "True\n",
      "False\n"
     ]
    }
   ],
   "source": [
    "# 78 to check the number even or less than 25\n",
    "\n",
    "n=24\n",
    "print(n%2==0 or n<25)\n",
    "\n",
    "n=27\n",
    "print(n%2==0 or n<25)"
   ]
  },
  {
   "cell_type": "code",
   "execution_count": 9,
   "metadata": {},
   "outputs": [
    {
     "name": "stdout",
     "output_type": "stream",
     "text": [
      "True\n",
      "True\n",
      "False\n"
     ]
    }
   ],
   "source": [
    "# 79 to check the number is even or less than 25\n",
    "\n",
    "n=18\n",
    "print(n%2==0 or n>25)\n",
    "\n",
    "n=29\n",
    "print(n%2==0 or n>25)\n",
    "\n",
    "n=23\n",
    "print(n%2==0 or n>25)"
   ]
  },
  {
   "cell_type": "code",
   "execution_count": 10,
   "metadata": {},
   "outputs": [
    {
     "name": "stdout",
     "output_type": "stream",
     "text": [
      "True\n",
      "True\n",
      "True\n",
      "False\n"
     ]
    }
   ],
   "source": [
    "# 80 to check the number is divisible by either 3 or 5\n",
    "\n",
    "n=30\n",
    "print(n%3==0 or n%5==0)\n",
    "\n",
    "n=39\n",
    "print(n%3==0 or n%5==0)\n",
    "\n",
    "n=50\n",
    "print(n%3==0 or n%5==0)\n",
    "\n",
    "n=32\n",
    "print(n%3==0 or n%5==0)"
   ]
  },
  {
   "cell_type": "code",
   "execution_count": 2,
   "metadata": {},
   "outputs": [
    {
     "name": "stdout",
     "output_type": "stream",
     "text": [
      "False\n",
      "True\n"
     ]
    }
   ],
   "source": [
    "#81 to check given number is not a even number\n",
    "n=20\n",
    "print(n%2!=0)\n",
    "n=21\n",
    "print(n%2!=0)"
   ]
  },
  {
   "cell_type": "code",
   "execution_count": 3,
   "metadata": {},
   "outputs": [
    {
     "name": "stdout",
     "output_type": "stream",
     "text": [
      "True\n",
      "False\n"
     ]
    }
   ],
   "source": [
    "#82 to check given number is not a odd number\n",
    "n=40\n",
    "print(n%2==0) \n",
    "n=41\n",
    "print(n%2==0)"
   ]
  },
  {
   "cell_type": "code",
   "execution_count": 4,
   "metadata": {},
   "outputs": [
    {
     "name": "stdout",
     "output_type": "stream",
     "text": [
      "True\n",
      "False\n"
     ]
    }
   ],
   "source": [
    "#83 to check number is not divisble by 3\n",
    "n=31\n",
    "print(n%3!=0)\n",
    "n=33\n",
    "print(n%3!=0)"
   ]
  },
  {
   "cell_type": "code",
   "execution_count": 259,
   "metadata": {},
   "outputs": [
    {
     "name": "stdout",
     "output_type": "stream",
     "text": [
      "False\n",
      "True\n"
     ]
    }
   ],
   "source": [
    "#84 to check the given number is not divisible by 3 and 5\n",
    "n=15\n",
    "print(n%3!=0 and n%5!=0) \n",
    "n=38\n",
    "print(n%3!=0 and n%5!=0)"
   ]
  },
  {
   "cell_type": "code",
   "execution_count": 260,
   "metadata": {},
   "outputs": [
    {
     "name": "stdout",
     "output_type": "stream",
     "text": [
      "True\n",
      "False\n",
      "True\n"
     ]
    }
   ],
   "source": [
    "#85) to check the given number is not divisble 3 or 5\n",
    "n=33\n",
    "print(n%3!=0 or n%5!=0 )\n",
    "n=45\n",
    "print(n%3!=0 or n%5!=0 )\n",
    "n=11\n",
    "print(n%3!=0 or n%5!=0 )"
   ]
  },
  {
   "cell_type": "code",
   "execution_count": 261,
   "metadata": {},
   "outputs": [
    {
     "name": "stdout",
     "output_type": "stream",
     "text": [
      "False\n",
      "True\n",
      "False\n"
     ]
    }
   ],
   "source": [
    "#86 to check given character ascii value is not divisible by 5\n",
    "char='A'\n",
    "print(ord(char)%5!=0) \n",
    "char='B'\n",
    "print(ord(char)%5!=0)\n",
    "char='Z'\n",
    "print(ord(char)%5!=0)\n"
   ]
  },
  {
   "cell_type": "code",
   "execution_count": 262,
   "metadata": {},
   "outputs": [
    {
     "name": "stdout",
     "output_type": "stream",
     "text": [
      "c\n",
      "X\n",
      "[\n",
      "^\n",
      "\u001e\n"
     ]
    }
   ],
   "source": [
    "#87 to check to find out the ascii character of given number\n",
    "n=99\n",
    "print(chr(n))\n",
    "n=88\n",
    "print(chr(n))\n",
    "\n",
    "n=91\n",
    "print(chr(n))\n",
    "\n",
    "n=94\n",
    "print(chr(n))\n",
    "\n",
    "n=30\n",
    "print(chr(n))\n"
   ]
  },
  {
   "cell_type": "code",
   "execution_count": 263,
   "metadata": {},
   "outputs": [
    {
     "name": "stdout",
     "output_type": "stream",
     "text": [
      "98\n",
      "99\n",
      "55\n"
     ]
    }
   ],
   "source": [
    "#88 to check find out the ascii value in a given character\n",
    "char='b'\n",
    "print(ord(char))\n",
    "char='c'\n",
    "print(ord(char))\n",
    "\n",
    "num=\"7\"\n",
    "print(ord(num))"
   ]
  },
  {
   "cell_type": "code",
   "execution_count": 264,
   "metadata": {},
   "outputs": [
    {
     "name": "stdout",
     "output_type": "stream",
     "text": [
      "True\n",
      "False\n",
      "False\n",
      "False\n",
      "True\n"
     ]
    }
   ],
   "source": [
    "#89 to check given character is uppercase or not\n",
    "char='A'\n",
    "print('A'<= char<='Z')\n",
    "char='z'\n",
    "print('A'<= char<='Z')\n",
    "char='BC'\n",
    "print( len(char)==1 and 'A'<= char<='Z')\n",
    "char='Abcd'\n",
    "print( len(char)==1 and 'A'<= char<='Z')\n",
    "char='F'\n",
    "print( len(char)==1 and 65<= ord(char)<=90)"
   ]
  },
  {
   "cell_type": "code",
   "execution_count": 265,
   "metadata": {},
   "outputs": [
    {
     "name": "stdout",
     "output_type": "stream",
     "text": [
      "True\n",
      "False\n",
      "True\n"
     ]
    }
   ],
   "source": [
    "#90 to check the character is lowercase\n",
    "char='c'\n",
    "print('a'<= char<='z')\n",
    "char='BC'\n",
    "print( len(char)==1 and 'a'<= char<='z')\n",
    "char='g'\n",
    "print( len(char)==1 and 'a'<= char<='z')"
   ]
  },
  {
   "cell_type": "code",
   "execution_count": 266,
   "metadata": {},
   "outputs": [
    {
     "name": "stdout",
     "output_type": "stream",
     "text": [
      "True\n",
      "True\n",
      "False\n"
     ]
    }
   ],
   "source": [
    "#91 to check char is alphabet\n",
    "ch='a'\n",
    "print('A'<=ch<='Z' or 'a'<=ch<='z')\n",
    "\n",
    "print(len(ch)==1 and ('A'<=ch<='Z' or 'a'<=ch<='z'))\n",
    "ch='0'\n",
    "print(len(ch)==1 and ('A'<=ch<='Z' or 'a'<=ch<='z'))"
   ]
  },
  {
   "cell_type": "code",
   "execution_count": 267,
   "metadata": {},
   "outputs": [
    {
     "name": "stdout",
     "output_type": "stream",
     "text": [
      "True\n",
      "True\n",
      "False\n"
     ]
    }
   ],
   "source": [
    "#92 to check given character is ACSII number\n",
    "ch='5'\n",
    "print('0'<=ch<='9')\n",
    "print(len(ch)==1 and '0'<=ch<='9')\n",
    "ch='A'\n",
    "print(len(ch)==1 and '0'<=ch<='9')"
   ]
  },
  {
   "cell_type": "code",
   "execution_count": 268,
   "metadata": {},
   "outputs": [
    {
     "name": "stdout",
     "output_type": "stream",
     "text": [
      "True\n",
      "True\n"
     ]
    }
   ],
   "source": [
    "#93 to check given char is special character\n",
    "ch='$'\n",
    "print(not('A'<=ch<='Z' or 'a'<=ch<='z' or '0'<=ch<='9'))\n",
    "ch='@'\n",
    "print(0<=ord(ch)<=47 or 58<=ord(ch)<=64 or 91<=ord(ch)<=96 or 123<=ord(ch)<=127)"
   ]
  },
  {
   "cell_type": "code",
   "execution_count": 269,
   "metadata": {},
   "outputs": [
    {
     "name": "stdout",
     "output_type": "stream",
     "text": [
      "False\n",
      "True\n"
     ]
    }
   ],
   "source": [
    "#94 to check the given char is not a uppercase\n",
    "ch='A'\n",
    "print(not('A'<=ch<='Z' ))\n",
    "ch='a'\n",
    "print(not('A'<=ch<='Z' ))"
   ]
  },
  {
   "cell_type": "code",
   "execution_count": 270,
   "metadata": {},
   "outputs": [
    {
     "name": "stdout",
     "output_type": "stream",
     "text": [
      "True\n",
      "False\n"
     ]
    }
   ],
   "source": [
    "#95 to check the given character should not be lowercase.\n",
    "ch='A'\n",
    "print(not('a'<=ch<='z' ))\n",
    "ch='a'\n",
    "print(not('a'<=ch<='z' ))"
   ]
  },
  {
   "cell_type": "code",
   "execution_count": 271,
   "metadata": {},
   "outputs": [
    {
     "name": "stdout",
     "output_type": "stream",
     "text": [
      "False\n",
      "False\n",
      "True\n"
     ]
    }
   ],
   "source": [
    "#96 to check the given character should not be the alphabet.\n",
    "ch='a'\n",
    "print(not('A'<=ch<='Z' or 'a'<=ch<='z'))\n",
    "print(not(len(ch)==1 and ('A'<=ch<='Z' or 'a'<=ch<='z')))\n",
    "ch='0'\n",
    "print(not(len(ch)==1 and ('A'<=ch<='Z' or 'a'<=ch<='z')))"
   ]
  },
  {
   "cell_type": "code",
   "execution_count": 272,
   "metadata": {},
   "outputs": [
    {
     "name": "stdout",
     "output_type": "stream",
     "text": [
      "True\n",
      "False\n"
     ]
    }
   ],
   "source": [
    "#97 to check the given character should not be an ASCII number.\n",
    "ch='a'\n",
    "print(not(ord(ch)>= 48 and ord(ch) <= 57))\n",
    "\n",
    "ch=\"3\"\n",
    "print(not(ord(ch)>= 48 and ord(ch) <= 57))\n"
   ]
  },
  {
   "cell_type": "code",
   "execution_count": 273,
   "metadata": {},
   "outputs": [
    {
     "name": "stdout",
     "output_type": "stream",
     "text": [
      "True\n",
      "False\n",
      "False\n"
     ]
    }
   ],
   "source": [
    "#98 to check the given character should not be a special character.\n",
    "ch='a'\n",
    "print('A'<=ch<='Z' or 'a'<=ch<='z' or '0'<=ch<='9')\n",
    "\n",
    "ch='@'\n",
    "print('A'<=ch<='Z' or 'a'<=ch<='z' or '0'<=ch<='9')\n",
    "\n",
    "ch='@'\n",
    "print(not(0<=ord(ch)<=47 or 58<=ord(ch)<=64 or 91<=ord(ch)<=96 or 123<=ord(ch)<=127))"
   ]
  },
  {
   "cell_type": "code",
   "execution_count": 274,
   "metadata": {},
   "outputs": [
    {
     "name": "stdout",
     "output_type": "stream",
     "text": [
      "True\n",
      "False\n",
      "True\n",
      "False\n"
     ]
    }
   ],
   "source": [
    "#99 to check the given character is a vowel.\n",
    "ch='A'\n",
    "print(ch=='A' or ch=='E' or ch=='I' or ch=='O' or ch=='U' or ch=='a' or ch=='e' or ch=='i' or ch=='o' or ch=='u')\n",
    "ch='b'\n",
    "print(ch=='A' or ch=='E' or ch=='I' or ch=='O' or ch=='U' or ch=='a' or ch=='e' or ch=='i' or ch=='o' or ch=='u')\n",
    "ch='u'\n",
    "print(ch in \"AEIOUaeiou\")\n",
    "ch=\"g\"\n",
    "print(ch in \"AEIOUaeiou\")"
   ]
  },
  {
   "cell_type": "code",
   "execution_count": 275,
   "metadata": {},
   "outputs": [
    {
     "name": "stdout",
     "output_type": "stream",
     "text": [
      "True\n",
      "False\n"
     ]
    }
   ],
   "source": [
    "#100 to check the given character is a consonant.\n",
    "ch=\"g\"\n",
    "print(not(ch in \"AEIOUaeiou\"))\n",
    "ch=\"a\"\n",
    "print(not(ch in \"AEIOUaeiou\"))"
   ]
  },
  {
   "cell_type": "code",
   "execution_count": 13,
   "metadata": {},
   "outputs": [
    {
     "data": {
      "text/plain": [
       "'S'"
      ]
     },
     "execution_count": 13,
     "metadata": {},
     "output_type": "execute_result"
    }
   ],
   "source": [
    "# 101 to convert the uppercase to lowercase\n",
    "\n",
    "ch=\"s\"\n",
    "chr(ord(ch)-32)\n"
   ]
  },
  {
   "cell_type": "code",
   "execution_count": 14,
   "metadata": {},
   "outputs": [
    {
     "data": {
      "text/plain": [
       "'T'"
      ]
     },
     "execution_count": 14,
     "metadata": {},
     "output_type": "execute_result"
    }
   ],
   "source": [
    "# 102 to convert lowercase to the uppercase\n",
    "\n",
    "ch=\"t\"\n",
    "chr(ord(ch)-32)"
   ]
  },
  {
   "cell_type": "code",
   "execution_count": 16,
   "metadata": {},
   "outputs": [
    {
     "data": {
      "text/plain": [
       "'B'"
      ]
     },
     "execution_count": 16,
     "metadata": {},
     "output_type": "execute_result"
    }
   ],
   "source": [
    "#103 to extract the next character the given sting\n",
    "\n",
    "s=\"A\"\n",
    "chr(ord(s)+1)"
   ]
  },
  {
   "cell_type": "code",
   "execution_count": 17,
   "metadata": {},
   "outputs": [
    {
     "data": {
      "text/plain": [
       "'t'"
      ]
     },
     "execution_count": 17,
     "metadata": {},
     "output_type": "execute_result"
    }
   ],
   "source": [
    "#104 to extract the previous character the given sting\n",
    "\n",
    "s=\"u\"\n",
    "chr(ord(s)-1)"
   ]
  },
  {
   "cell_type": "code",
   "execution_count": 22,
   "metadata": {},
   "outputs": [
    {
     "name": "stdout",
     "output_type": "stream",
     "text": [
      "True\n",
      "False\n"
     ]
    }
   ],
   "source": [
    "#105 to check the given character converted to ASCII value and value is even as well as character should be lowercase\n",
    "\n",
    "\n",
    "ch=\"d\"\n",
    "print(len(ch)==1 and ord(ch)%2==0 and \"a\"<=ch<=\"z\")\n",
    "ch=\"g\"\n",
    "print(len(ch)==1 and ord(ch)%2==0 and \"a\"<=ch<=\"z\")"
   ]
  },
  {
   "cell_type": "code",
   "execution_count": 27,
   "metadata": {},
   "outputs": [
    {
     "name": "stdout",
     "output_type": "stream",
     "text": [
      "True\n",
      "False\n"
     ]
    }
   ],
   "source": [
    "#106 to check the given character converted to ASCII value and value is even as well as character should be uppercase\n",
    "\n",
    "ch=\"B\"\n",
    "print(len(ch)==1 and ord(ch)%2==0 and \"A\"<=ch<=\"Z\")\n",
    "ch=\"I\"\n",
    "print(len(ch)==1 and ord(ch)%2==0 and \"A\"<=ch<=\"Z\")\n"
   ]
  },
  {
   "cell_type": "code",
   "execution_count": 31,
   "metadata": {},
   "outputs": [
    {
     "name": "stdout",
     "output_type": "stream",
     "text": [
      "True\n",
      "False\n"
     ]
    }
   ],
   "source": [
    "# 107 to check which the given number is converted to character is not a special symbol or not\n",
    "\n",
    "n=58\n",
    "print(not(\"a\"<=chr(n)<=\"z\" or \"A\"<=chr(n)<\"Z\" or \"0\"<=chr(n)<=\"9\"))\n",
    "n=54\n",
    "print(not(\"a\"<=chr(n)<=\"z\" or \"A\"<=chr(n)<\"Z\" or \"0\"<=chr(n)<=\"9\"))"
   ]
  },
  {
   "cell_type": "code",
   "execution_count": 5,
   "metadata": {},
   "outputs": [
    {
     "name": "stdout",
     "output_type": "stream",
     "text": [
      "True\n",
      "False\n"
     ]
    }
   ],
   "source": [
    "# 108 to check the given number of the ASCII character is vowel or not\n",
    "\n",
    "n=65\n",
    "print(chr(n) in \"aeiouAEIOU\")\n",
    "n=98\n",
    "print(chr(n) in \"aeiouAEIOU\")"
   ]
  },
  {
   "cell_type": "code",
   "execution_count": 14,
   "metadata": {},
   "outputs": [
    {
     "data": {
      "text/plain": [
       "98"
      ]
     },
     "execution_count": 14,
     "metadata": {},
     "output_type": "execute_result"
    }
   ],
   "source": [
    "# 109 to check the first and second characters are squence or not in a given string\n",
    "\n",
    "s=\"abcd\"\n",
    "# print(ord(s[0]+1)==ord(s[1]))\n",
    "ord(s[1])\n",
    "# ord(s[0]+1)"
   ]
  },
  {
   "cell_type": "code",
   "execution_count": 49,
   "metadata": {},
   "outputs": [
    {
     "name": "stdout",
     "output_type": "stream",
     "text": [
      "121\n",
      "False\n",
      "False\n",
      "97\n",
      "True\n",
      "True\n"
     ]
    }
   ],
   "source": [
    "# 110 to check the given character ASCII value should be either greaterthan 50 or greater than 25 or less than 112\n",
    "\n",
    "s=\"y\"\n",
    "print(ord(s))\n",
    "print(ord(s)<112 and (ord(s)>50 or ord(s)>25))\n",
    "print(ord(s)<112)\n",
    "\n",
    "s=\"a\"\n",
    "print(ord(s))\n",
    "print(ord(s)<112 and (ord(s)>50 or ord(s)>25))\n",
    "print(ord(s)<112)"
   ]
  },
  {
   "cell_type": "code",
   "execution_count": 50,
   "metadata": {},
   "outputs": [
    {
     "name": "stdout",
     "output_type": "stream",
     "text": [
      "11\n",
      "21\n"
     ]
    }
   ],
   "source": [
    "# 111 to check the given number increased by 1\n",
    "\n",
    "n=10\n",
    "n+=1\n",
    "print(n) \n",
    "\n",
    "n=20\n",
    "n=n+1\n",
    "print(n)\n"
   ]
  },
  {
   "cell_type": "code",
   "execution_count": 51,
   "metadata": {},
   "outputs": [
    {
     "name": "stdout",
     "output_type": "stream",
     "text": [
      "12\n",
      "22\n"
     ]
    }
   ],
   "source": [
    "# 112 to check the given number increase by 2\n",
    " \n",
    "n=10\n",
    "n+=2\n",
    "print(n)\n",
    "\n",
    "n=20\n",
    "n=n+2\n",
    "print(n)\n"
   ]
  },
  {
   "cell_type": "code",
   "execution_count": 52,
   "metadata": {},
   "outputs": [
    {
     "name": "stdout",
     "output_type": "stream",
     "text": [
      "9\n",
      "19\n"
     ]
    }
   ],
   "source": [
    "# 113 to check the given number decrease by 1\n",
    " \n",
    "n=10\n",
    "n-=1\n",
    "print(n)\n",
    "\n",
    "n=20\n",
    "n=n-1\n",
    "print(n)"
   ]
  },
  {
   "cell_type": "code",
   "execution_count": 53,
   "metadata": {},
   "outputs": [
    {
     "name": "stdout",
     "output_type": "stream",
     "text": [
      "8\n",
      "18\n"
     ]
    }
   ],
   "source": [
    "# 114 to check the given number increase by 2\n",
    " \n",
    "n=10\n",
    "n-=2\n",
    "print(n)\n",
    "\n",
    "n=20\n",
    "n=n-2\n",
    "print(n)"
   ]
  },
  {
   "cell_type": "code",
   "execution_count": 54,
   "metadata": {},
   "outputs": [
    {
     "name": "stdout",
     "output_type": "stream",
     "text": [
      "True\n",
      "False\n"
     ]
    }
   ],
   "source": [
    "# 115 to check the integer value is present in the collection\n",
    "\n",
    "n=10\n",
    "\n",
    "print(n in[10,20,30,40,50,10])\n",
    "\n",
    "\n",
    "n=80\n",
    "\n",
    "print(n in[10,20,30,40,50,10])\n"
   ]
  },
  {
   "cell_type": "code",
   "execution_count": 55,
   "metadata": {},
   "outputs": [
    {
     "name": "stdout",
     "output_type": "stream",
     "text": [
      "50\n",
      "50\n"
     ]
    }
   ],
   "source": [
    "#116 to perform the addition operation on the a val and b val and update the a val\n",
    "\n",
    "a=20\n",
    "b=30\n",
    "a+=30\n",
    "print(a)\n",
    "\n",
    "\n",
    "a=20\n",
    "b=30\n",
    "a=a+b\n",
    "print(a)"
   ]
  },
  {
   "cell_type": "code",
   "execution_count": 56,
   "metadata": {},
   "outputs": [
    {
     "name": "stdout",
     "output_type": "stream",
     "text": [
      "True\n",
      "False\n"
     ]
    }
   ],
   "source": [
    "#117 to check the value present in the collection\n",
    "\n",
    "l=[10,20,30,\"a\",\"b\",[1,2,3]]\n",
    "print([1,2,3] in l)\n",
    "\n",
    "l=[10,20,30,\"a\",\"b\",[1,2,3]]\n",
    "print([2,3,1] in l)"
   ]
  },
  {
   "cell_type": "code",
   "execution_count": 57,
   "metadata": {},
   "outputs": [
    {
     "name": "stdout",
     "output_type": "stream",
     "text": [
      "True\n"
     ]
    }
   ],
   "source": [
    "#119 to check the  dict value present in the  tuple collection\n",
    "\n",
    "t=(10,20,{\"a\":10,\"b\":20},[1,2,3])\n",
    "print({\"a\":10,\"b\":20} in t)"
   ]
  },
  {
   "cell_type": "code",
   "execution_count": 58,
   "metadata": {},
   "outputs": [
    {
     "name": "stdout",
     "output_type": "stream",
     "text": [
      "True\n",
      "False\n"
     ]
    }
   ],
   "source": [
    "# 120 to check the given val is int or not\n",
    "\n",
    "b=15\n",
    "print(type(b)==int)\n",
    "\n",
    "b=15.00\n",
    "print(type(b)==int)\n"
   ]
  },
  {
   "cell_type": "code",
   "execution_count": 59,
   "metadata": {},
   "outputs": [
    {
     "name": "stdout",
     "output_type": "stream",
     "text": [
      "True\n",
      "True\n",
      "False\n"
     ]
    }
   ],
   "source": [
    "# 121 o check the given val is string or not\n",
    "\n",
    "a=\"str\"\n",
    "print(type(a)==str)\n",
    "\n",
    "a=\"101\"\n",
    "print(type(a)==str)\n",
    "\n",
    "a=10.2\n",
    "print(type(a)==str)"
   ]
  },
  {
   "cell_type": "code",
   "execution_count": 60,
   "metadata": {},
   "outputs": [
    {
     "name": "stdout",
     "output_type": "stream",
     "text": [
      "True\n",
      "True\n",
      "True\n",
      "True\n",
      "True\n",
      "False\n"
     ]
    }
   ],
   "source": [
    "# 122 to check the given val is single val dt  not\n",
    "\n",
    "a=12.23\n",
    "print(type(a) in[int,float,complex,bool,bytes,type(None)])\n",
    "\n",
    "a=12\n",
    "print(type(a) in[int,float,complex,bool,bytes,type(None)])\n",
    "\n",
    "a=2+3j\n",
    "print(type(a) in[int,float,complex,bool,bytes,type(None)])\n",
    "\n",
    "a=b'1011'\n",
    "print(type(a) in[int,float,complex,bool,bytes,type(None)])\n",
    "\n",
    "a=None\n",
    "print(type(a) in[int,float,complex,bool,bytes,type(None)])\n",
    "\n",
    "a=\"None\"\n",
    "print(type(a) in[int,float,complex,bool,bytes,type(None)])"
   ]
  },
  {
   "cell_type": "code",
   "execution_count": 61,
   "metadata": {},
   "outputs": [
    {
     "name": "stdout",
     "output_type": "stream",
     "text": [
      "False\n",
      "True\n"
     ]
    }
   ],
   "source": [
    "# 123 to check the given val is should not a single val dt\n",
    "\n",
    "a=12.23\n",
    "print(not(type(a) in[int,float,complex,bool,bytes,type(None)]))\n",
    "\n",
    "a=\"None\"\n",
    "print(not(type(a) in[int,float,complex,bool,bytes,type(None)]))\n"
   ]
  },
  {
   "cell_type": "code",
   "execution_count": 62,
   "metadata": {},
   "outputs": [
    {
     "name": "stdout",
     "output_type": "stream",
     "text": [
      "True\n",
      "True\n",
      "True\n",
      "True\n",
      "True\n",
      "False\n"
     ]
    }
   ],
   "source": [
    "# 124 to check the given value is multi value data type or not\n",
    "\n",
    "a=[10,20,30]\n",
    "print(type(a) in [list,tuple,str,set,dict])\n",
    "\n",
    "a=(10,20,30)\n",
    "print(type(a) in [list,tuple,str,set,dict])\n",
    "\n",
    "a=\"hello\"\n",
    "print(type(a) in [list,tuple,str,set,dict])\n",
    "\n",
    "a={10,20,30}\n",
    "print(type(a) in [list,tuple,str,set,dict])\n",
    "\n",
    "a={10:20,30:40}\n",
    "print(type(a) in [list,tuple,str,set,dict])\n",
    "\n",
    "a=(100200)\n",
    "print(type(a) in [list,tuple,str,set,dict])"
   ]
  },
  {
   "cell_type": "code",
   "execution_count": 63,
   "metadata": {},
   "outputs": [
    {
     "name": "stdout",
     "output_type": "stream",
     "text": [
      "True\n",
      "False\n",
      "False\n",
      "True\n",
      "True\n",
      "False\n"
     ]
    }
   ],
   "source": [
    "# 125 to check the given value is mutable or not\n",
    "\n",
    "\n",
    "a=[10,20,30]\n",
    "print(type(a) in [list,set,dict])\n",
    "\n",
    "a=(10,20,30)\n",
    "print(type(a) in [list,set,dict])\n",
    "\n",
    "a=\"hello\"\n",
    "print(type(a) in [list,set,dict])\n",
    "\n",
    "a={10,20,30}\n",
    "print(type(a) in [list,set,dict])\n",
    "\n",
    "a={10:20,30:40}\n",
    "print(type(a) in [list,set,dict])\n",
    "\n",
    "a=(100200)\n",
    "print(type(a) in [list,set,dict])"
   ]
  },
  {
   "cell_type": "code",
   "execution_count": 64,
   "metadata": {},
   "outputs": [
    {
     "name": "stdout",
     "output_type": "stream",
     "text": [
      "False\n",
      "True\n",
      "True\n",
      "False\n",
      "False\n",
      "False\n"
     ]
    }
   ],
   "source": [
    "# 126 to check the given value is immutable or not\n",
    "\n",
    "\n",
    "a=[10,20,30]\n",
    "print(type(a) in [tuple,str])\n",
    "\n",
    "a=(10,20,30)\n",
    "print(type(a) in [tuple,str])\n",
    "\n",
    "a=\"hello\"\n",
    "print(type(a) in [tuple,str])\n",
    "\n",
    "a={10,20,30}\n",
    "print(type(a) in [tuple,str])\n",
    "\n",
    "a={10:20,30:40}\n",
    "print(type(a) in [tuple,str])\n",
    "\n",
    "a=(100200)\n",
    "print(type(a) in [tuple,str])"
   ]
  },
  {
   "cell_type": "code",
   "execution_count": 65,
   "metadata": {},
   "outputs": [
    {
     "data": {
      "text/plain": [
       "False"
      ]
     },
     "execution_count": 65,
     "metadata": {},
     "output_type": "execute_result"
    }
   ],
   "source": [
    "# 127 to check the value is divisible by 6 and present inside the collection or not\n",
    "\n",
    "n=120\n",
    "n%6==0 and n in [10,20,30,40,120]\n",
    "\n",
    "n=12\n",
    "n%6==0 and n in [10,20,30,40,120]\n",
    "\n",
    "n=20\n",
    "n%6==0 and n in [10,20,30,40,120]"
   ]
  },
  {
   "cell_type": "code",
   "execution_count": 66,
   "metadata": {},
   "outputs": [
    {
     "data": {
      "text/plain": [
       "19"
      ]
     },
     "execution_count": 66,
     "metadata": {},
     "output_type": "execute_result"
    }
   ],
   "source": [
    "# 128 to perform the bitwise and operation  in the given values are 15 and 19\n",
    "\n",
    "15 and 19"
   ]
  },
  {
   "cell_type": "code",
   "execution_count": 67,
   "metadata": {},
   "outputs": [
    {
     "data": {
      "text/plain": [
       "115"
      ]
     },
     "execution_count": 67,
     "metadata": {},
     "output_type": "execute_result"
    }
   ],
   "source": [
    "# 129 to perform the bitwise or operation  in the given values are 115 and 79\n",
    "\n",
    "115 or 79"
   ]
  },
  {
   "cell_type": "code",
   "execution_count": 68,
   "metadata": {},
   "outputs": [
    {
     "data": {
      "text/plain": [
       "46"
      ]
     },
     "execution_count": 68,
     "metadata": {},
     "output_type": "execute_result"
    }
   ],
   "source": [
    "# 130 to perform the bitwise xor operation  in the given values are 56 and 22\n",
    "\n",
    "56^22"
   ]
  },
  {
   "cell_type": "code",
   "execution_count": 69,
   "metadata": {},
   "outputs": [
    {
     "data": {
      "text/plain": [
       "-16"
      ]
     },
     "execution_count": 69,
     "metadata": {},
     "output_type": "execute_result"
    }
   ],
   "source": [
    "# 131 to perform the bitwise not operation  in the given value are 15 \n",
    "\n",
    "~15"
   ]
  },
  {
   "cell_type": "code",
   "execution_count": 70,
   "metadata": {},
   "outputs": [
    {
     "data": {
      "text/plain": [
       "256"
      ]
     },
     "execution_count": 70,
     "metadata": {},
     "output_type": "execute_result"
    }
   ],
   "source": [
    "# 132 to perform the bitwise leftshift operation 32 and skips val 3\n",
    "\n",
    "32<<3"
   ]
  },
  {
   "cell_type": "code",
   "execution_count": 71,
   "metadata": {},
   "outputs": [
    {
     "data": {
      "text/plain": [
       "6"
      ]
     },
     "execution_count": 71,
     "metadata": {},
     "output_type": "execute_result"
    }
   ],
   "source": [
    "# 133 to perform the bitwise rightshift operation 25 and skips val 2\n",
    "\n",
    "25>>2"
   ]
  },
  {
   "cell_type": "code",
   "execution_count": 72,
   "metadata": {},
   "outputs": [
    {
     "data": {
      "text/plain": [
       "1000"
      ]
     },
     "execution_count": 72,
     "metadata": {},
     "output_type": "execute_result"
    }
   ],
   "source": [
    "#134 find out the output of the condition\n",
    "\n",
    "(10+20*60 and 10**3) or ({10,20} or not([15-16]))"
   ]
  },
  {
   "cell_type": "code",
   "execution_count": 73,
   "metadata": {},
   "outputs": [
    {
     "data": {
      "text/plain": [
       "True"
      ]
     },
     "execution_count": 73,
     "metadata": {},
     "output_type": "execute_result"
    }
   ],
   "source": [
    "#135 to check the given key is present in dict\n",
    "\n",
    "d={\"10\":1,\"20\":2,\"30\":3}\n",
    "k=10\n",
    "k in d\n",
    "\n",
    "d={\"10\":1,\"20\":2,\"30\":3}\n",
    "k=\"10\"\n",
    "k in d"
   ]
  },
  {
   "cell_type": "code",
   "execution_count": 74,
   "metadata": {},
   "outputs": [
    {
     "name": "stdout",
     "output_type": "stream",
     "text": [
      "False\n",
      "True\n"
     ]
    }
   ],
   "source": [
    "#136 to check the given val is present in dict\n",
    "\n",
    "d={\"10\":1,\"20\":2,\"30\":3}\n",
    "k=3\n",
    "print(k in d)\n",
    "\n",
    "d={\"10\":1,\"20\":2,\"30\":3}\n",
    "k=2\n",
    "print(k in d.values())"
   ]
  },
  {
   "cell_type": "code",
   "execution_count": 75,
   "metadata": {},
   "outputs": [
    {
     "name": "stdout",
     "output_type": "stream",
     "text": [
      "True\n"
     ]
    }
   ],
   "source": [
    "#137 to check the given key not is present in dict\n",
    "\n",
    "d={\"10\":1,\"20\":2,\"30\":3}\n",
    "k=3\n",
    "print(not(k in d))\n"
   ]
  },
  {
   "cell_type": "code",
   "execution_count": 76,
   "metadata": {},
   "outputs": [
    {
     "name": "stdout",
     "output_type": "stream",
     "text": [
      "False\n"
     ]
    }
   ],
   "source": [
    "#138 to check the key and value present in dict\n",
    "\n",
    "d={\"10\":1,\"20\":2,\"30\":3}\n",
    "k=(30,3)\n",
    "print(k in d.items())"
   ]
  },
  {
   "cell_type": "code",
   "execution_count": 77,
   "metadata": {},
   "outputs": [
    {
     "name": "stdout",
     "output_type": "stream",
     "text": [
      "True\n",
      "False\n"
     ]
    }
   ],
   "source": [
    "#139 to check the two values pointing to same address or not\n",
    "\n",
    "a=15\n",
    "b=15\n",
    "print(a is b)\n",
    "\n",
    "a=257\n",
    "b=257\n",
    "print(a is b)"
   ]
  },
  {
   "cell_type": "code",
   "execution_count": 78,
   "metadata": {},
   "outputs": [
    {
     "name": "stdout",
     "output_type": "stream",
     "text": [
      "True\n"
     ]
    }
   ],
   "source": [
    "#140 to check the both the values should be integer  and pointing to same address\n",
    "\n",
    "a=256\n",
    "b=256\n",
    "type(a)==type(b) \n",
    "print(type(a)==int and type(b)==int and a is b)"
   ]
  }
 ],
 "metadata": {
  "kernelspec": {
   "display_name": "Python 3",
   "language": "python",
   "name": "python3"
  },
  "language_info": {
   "codemirror_mode": {
    "name": "ipython",
    "version": 3
   },
   "file_extension": ".py",
   "mimetype": "text/x-python",
   "name": "python",
   "nbconvert_exporter": "python",
   "pygments_lexer": "ipython3",
   "version": "3.8.2"
  },
  "orig_nbformat": 4
 },
 "nbformat": 4,
 "nbformat_minor": 2
}
