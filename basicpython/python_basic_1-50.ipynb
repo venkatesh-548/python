{
 "cells": [
  {
   "cell_type": "code",
   "execution_count": 1,
   "metadata": {},
   "outputs": [
    {
     "name": "stdout",
     "output_type": "stream",
     "text": [
      "hello world\n"
     ]
    }
   ],
   "source": [
    "# 1 to print the hello word using the shell\n",
    "\n",
    "print(\"hello world\")"
   ]
  },
  {
   "cell_type": "code",
   "execution_count": 2,
   "metadata": {},
   "outputs": [
    {
     "name": "stdout",
     "output_type": "stream",
     "text": [
      "a= 50\n"
     ]
    }
   ],
   "source": [
    "# 2 to print variable and value as 50\n",
    "\n",
    "a=50\n",
    "print(\"a=\",a)"
   ]
  },
  {
   "cell_type": "code",
   "execution_count": 5,
   "metadata": {},
   "outputs": [
    {
     "name": "stdout",
     "output_type": "stream",
     "text": [
      "a,b,c= 10 20 30\n"
     ]
    }
   ],
   "source": [
    "# 3vto inetialize multiple values into the multiple variables\n",
    "\n",
    "a,b,c=10,20,30\n",
    "print(\"a,b,c=\",a,b,c)"
   ]
  },
  {
   "cell_type": "code",
   "execution_count": 6,
   "metadata": {},
   "outputs": [
    {
     "name": "stdout",
     "output_type": "stream",
     "text": [
      "<class 'str'>\n"
     ]
    }
   ],
   "source": [
    "# 4to print the type of the given data\n",
    "\n",
    "a=\"str\"\n",
    "print(type(a))"
   ]
  },
  {
   "cell_type": "code",
   "execution_count": 3,
   "metadata": {},
   "outputs": [
    {
     "name": "stdout",
     "output_type": "stream",
     "text": [
      "140721051588544\n",
      "140721051588544\n",
      "True\n"
     ]
    }
   ],
   "source": [
    "# 5 toto print the address of the variable\n",
    "\n",
    "a=10\n",
    "print(id(a))\n",
    "\n",
    "b=10\n",
    "print(id(b))\n",
    "\n",
    "print((a) is (b))"
   ]
  },
  {
   "cell_type": "code",
   "execution_count": 4,
   "metadata": {},
   "outputs": [
    {
     "name": "stdout",
     "output_type": "stream",
     "text": [
      "venky\n"
     ]
    }
   ],
   "source": [
    "# 6 to print your details and extract your name\n",
    "\n",
    "d={\"no\":548,\"name\":\"venky\",\"phone\":7386624004,\"email\":\"venky@gmail.com\"}\n",
    "\n",
    "print(d[\"name\"])"
   ]
  },
  {
   "cell_type": "code",
   "execution_count": 6,
   "metadata": {},
   "outputs": [
    {
     "name": "stdout",
     "output_type": "stream",
     "text": [
      "venky\n",
      "7386624004\n"
     ]
    }
   ],
   "source": [
    "# 7 to print your details and extract your name\n",
    "\n",
    "name=\"venky\"\n",
    "no=548\n",
    "phone=7386624004\n",
    "\n",
    "print(name)\n",
    "print(phone)\n"
   ]
  },
  {
   "cell_type": "code",
   "execution_count": 8,
   "metadata": {},
   "outputs": [
    {
     "name": "stdout",
     "output_type": "stream",
     "text": [
      "a= 20 b= 10\n"
     ]
    }
   ],
   "source": [
    "# 8 was to swap the variable with the temp\n",
    "\n",
    "a=10\n",
    "b=20\n",
    "temp=a\n",
    "a=b\n",
    "b=temp\n",
    "print(\"a=\",a,\"b=\",b)"
   ]
  },
  {
   "cell_type": "code",
   "execution_count": 9,
   "metadata": {},
   "outputs": [
    {
     "name": "stdout",
     "output_type": "stream",
     "text": [
      "a= 200 b= 100\n"
     ]
    }
   ],
   "source": [
    "# 9 was to swap the variable with out the temp variable\n",
    "a=100\n",
    "b=200\n",
    "a,b=b,a\n",
    "print(\"a=\",a,\"b=\",b)\n"
   ]
  },
  {
   "cell_type": "code",
   "execution_count": 11,
   "metadata": {},
   "outputs": [
    {
     "name": "stdout",
     "output_type": "stream",
     "text": [
      "[10, 20, 30, 40]\n",
      "[10, 50, 30, 40]\n",
      "{'a': 10, 'b': 20, 'c': 50}\n"
     ]
    }
   ],
   "source": [
    "# 10 was to inetialize the a value to the variable and re-inetialize a new value to the exesting variable\n",
    "\n",
    "l=[10,20,30,40] # inetialize \n",
    "print(l)\n",
    "l[1]=50 #re inetialize\n",
    "print(l)\n",
    "\n",
    "d={\"a\":10,\"b\":20,\"c\":30}\n",
    "\n",
    "d[\"c\"]=50\n",
    "print(d)"
   ]
  },
  {
   "cell_type": "code",
   "execution_count": 16,
   "metadata": {},
   "outputs": [
    {
     "name": "stdout",
     "output_type": "stream",
     "text": [
      "b= 10\n",
      "['1', '0']\n"
     ]
    }
   ],
   "source": [
    "# 11 was to convert the single to the multivalue datatype\n",
    "#ip=10 o/p=[\"1\"\"0\"]\n",
    "\n",
    "a=10\n",
    "b=str(a)\n",
    "print(\"b=\",b)\n",
    "print(list(b))\n",
    "\n",
    "\n"
   ]
  },
  {
   "cell_type": "code",
   "execution_count": 18,
   "metadata": {},
   "outputs": [
    {
     "name": "stdout",
     "output_type": "stream",
     "text": [
      "hello world\n",
      "[10, 20, 30, 40, 50]\n",
      "('a', 'b', 'c', 'c', 'd')\n"
     ]
    }
   ],
   "source": [
    "#12 to concat the two multivalue data types (str,list,tuple)\n",
    "\n",
    "a=\"hello\"\n",
    "a+=\" world\"\n",
    "print(a)\n",
    "\n",
    "l=[10,20,30]\n",
    "l+=[40,50]\n",
    "print(l)\n",
    "\n",
    "t=(\"a\",\"b\",\"c\")\n",
    "t+=(\"c\",\"d\")\n",
    "print(t)"
   ]
  },
  {
   "cell_type": "code",
   "execution_count": 19,
   "metadata": {},
   "outputs": [
    {
     "name": "stdout",
     "output_type": "stream",
     "text": [
      "5\n"
     ]
    }
   ],
   "source": [
    "# 13 to check the length of collection\n",
    "s={10,20,30,40,50}\n",
    "\n",
    "print(len(s))"
   ]
  },
  {
   "cell_type": "code",
   "execution_count": 20,
   "metadata": {},
   "outputs": [
    {
     "name": "stdout",
     "output_type": "stream",
     "text": [
      "30\n"
     ]
    }
   ],
   "source": [
    "#14 to check find out the middle value of the given collection\n",
    "l=[10,20,30,40]\n",
    "print(l[len(l)//2])"
   ]
  },
  {
   "cell_type": "code",
   "execution_count": 21,
   "metadata": {},
   "outputs": [
    {
     "name": "stdout",
     "output_type": "stream",
     "text": [
      "haiihow r u\n"
     ]
    }
   ],
   "source": [
    "#15 to concat the new string into starting of given string\n",
    "a=\"how r u\"\n",
    "b=\"haii\"\n",
    "print(b+a)"
   ]
  },
  {
   "cell_type": "code",
   "execution_count": 1,
   "metadata": {},
   "outputs": [
    {
     "name": "stdout",
     "output_type": "stream",
     "text": [
      "string\n"
     ]
    }
   ],
   "source": [
    "# 16 Was to concat the new string into ending of given string\n",
    "\n",
    "a=\"str\"\n",
    "a+=\"ing\"\n",
    "print(a)"
   ]
  },
  {
   "cell_type": "code",
   "execution_count": 3,
   "metadata": {},
   "outputs": [
    {
     "name": "stdout",
     "output_type": "stream",
     "text": [
      "how are  you\n"
     ]
    }
   ],
   "source": [
    "# 17 to concat the new string into middle of given string\n",
    "\n",
    "a=\"how you\"\n",
    "print(a[:3]+\" are \"+a[3:])"
   ]
  },
  {
   "cell_type": "code",
   "execution_count": 5,
   "metadata": {},
   "outputs": [
    {
     "name": "stdout",
     "output_type": "stream",
     "text": [
      "pyspiders\n",
      "i\n",
      "pyspIders\n"
     ]
    }
   ],
   "source": [
    "#18 to modify the new char in to the middle of given string\n",
    "s=\"pyspiders\"\n",
    "print(s)\n",
    "t=s[len(s)//2]\n",
    "print(t)\n",
    "s=s[0:len(s)//2]+\"I\"+s[(len(s)//2)+1:]\n",
    "print(s)\n"
   ]
  },
  {
   "cell_type": "code",
   "execution_count": 6,
   "metadata": {},
   "outputs": [
    {
     "name": "stdout",
     "output_type": "stream",
     "text": [
      "pysPIDers\n"
     ]
    }
   ],
   "source": [
    "# 19 to modify the sequence of character in given string\n",
    "s=\"pyspiders\"\n",
    "print(s[0:3]+\"PID\"+s[6:])"
   ]
  },
  {
   "cell_type": "code",
   "execution_count": 7,
   "metadata": {},
   "outputs": [
    {
     "name": "stdout",
     "output_type": "stream",
     "text": [
      "pyspiders\n",
      "pyspiDers\n"
     ]
    }
   ],
   "source": [
    "# 20 to delete the specific chaaracter in given string\n",
    "\n",
    "s=\"pyspiders\"\n",
    "print(s)\n",
    "print(s[:-4]+'D'+s[-3:])"
   ]
  },
  {
   "cell_type": "code",
   "execution_count": 8,
   "metadata": {},
   "outputs": [
    {
     "name": "stdout",
     "output_type": "stream",
     "text": [
      "pypiders\n"
     ]
    }
   ],
   "source": [
    "#21 to delete a specific character in a given string\n",
    "s=\"pyspiders\"\n",
    "print(s[:2]+s[3:])"
   ]
  },
  {
   "cell_type": "code",
   "execution_count": 9,
   "metadata": {},
   "outputs": [
    {
     "name": "stdout",
     "output_type": "stream",
     "text": [
      "hai hai are you\n"
     ]
    }
   ],
   "source": [
    "#23 to concat new string into a specific potion of given string\n",
    "s=\"hai are you\"\n",
    "print(s[:4]+'hai'+s[3:])"
   ]
  },
  {
   "cell_type": "code",
   "execution_count": 10,
   "metadata": {},
   "outputs": [
    {
     "name": "stdout",
     "output_type": "stream",
     "text": [
      "[4, 5, 7, 1, 2, 3]\n"
     ]
    }
   ],
   "source": [
    "#24 to concat new value into starting of given list\n",
    "s=[1,2,3]\n",
    "print([4,5,7]+s)"
   ]
  },
  {
   "cell_type": "code",
   "execution_count": 11,
   "metadata": {},
   "outputs": [
    {
     "name": "stdout",
     "output_type": "stream",
     "text": [
      "[1, 2, 3, 4, 5, 7]\n"
     ]
    }
   ],
   "source": [
    "#25 to concat new value into ending  of given list\n",
    "s=[1,2,3]\n",
    "print(s+[4,5,7])"
   ]
  },
  {
   "cell_type": "code",
   "execution_count": 68,
   "metadata": {},
   "outputs": [
    {
     "name": "stdout",
     "output_type": "stream",
     "text": [
      "[10, 10.12, True, 'a', 'b', 200, 300, 'hai', 123]\n"
     ]
    }
   ],
   "source": [
    "#26 to concat new value into middle of given list\n",
    "s=[10,10.12,True ,200,300,'hai',123]\n",
    "s[len(s)//2:len(s)//2]=['a','b']\n",
    "print(s)"
   ]
  },
  {
   "cell_type": "code",
   "execution_count": 69,
   "metadata": {},
   "outputs": [
    {
     "name": "stdout",
     "output_type": "stream",
     "text": [
      "[10, 10.12, 'hai', True, 'hai']\n"
     ]
    }
   ],
   "source": [
    "#27 to concat new value into specific postion of given list\n",
    "s=[10,10.12,True ,'hai']\n",
    "s[2:2]=['hai']\n",
    "print(s)"
   ]
  },
  {
   "cell_type": "code",
   "execution_count": 70,
   "metadata": {},
   "outputs": [
    {
     "name": "stdout",
     "output_type": "stream",
     "text": [
      "[10, True, True, 'hai']\n"
     ]
    }
   ],
   "source": [
    "#28 to modify new value into specific postion of given list\n",
    "s=[10,10.12,True ,'hai']\n",
    "s[1]=True\n",
    "print(s)"
   ]
  },
  {
   "cell_type": "code",
   "execution_count": 71,
   "metadata": {},
   "outputs": [
    {
     "name": "stdout",
     "output_type": "stream",
     "text": [
      "[{'a': 20}, 10.12, True, 'hai']\n"
     ]
    }
   ],
   "source": [
    "#29 to modify new value into starting postion of given list\n",
    "s=[10,10.12,True ,'hai']\n",
    "s[0]={'a':20}\n",
    "print(s)"
   ]
  },
  {
   "cell_type": "code",
   "execution_count": 72,
   "metadata": {},
   "outputs": [
    {
     "name": "stdout",
     "output_type": "stream",
     "text": [
      "[10, 10.12, True, 'qspiders']\n"
     ]
    }
   ],
   "source": [
    "#30 to modify new value into ending value of given list\n",
    "s=[10,10.12,True ,'hai']\n",
    "s[-1]='qspiders'\n",
    "print(s)"
   ]
  },
  {
   "cell_type": "code",
   "execution_count": 73,
   "metadata": {},
   "outputs": [
    {
     "name": "stdout",
     "output_type": "stream",
     "text": [
      "[10, 10.6, 'hello', 'haii']\n"
     ]
    }
   ],
   "source": [
    "#31 to modify the new value into middile of list\n",
    "l=[10,10.6,True,'haii']\n",
    "l[len(l)//2]=\"hello\"\n",
    "print(l)"
   ]
  },
  {
   "cell_type": "code",
   "execution_count": 74,
   "metadata": {},
   "outputs": [
    {
     "name": "stdout",
     "output_type": "stream",
     "text": [
      "['a', 'b', 'c', 5, 6, 7, 8]\n"
     ]
    }
   ],
   "source": [
    "#32 to modify the first 4 positions of given list\n",
    "l=[1,2,3,4,5,6,7,8]\n",
    "l[0:4]=['a','b','c',]\n",
    "print(l)"
   ]
  },
  {
   "cell_type": "code",
   "execution_count": 75,
   "metadata": {},
   "outputs": [
    {
     "name": "stdout",
     "output_type": "stream",
     "text": [
      "[1, 2, 3, 4, 5, 6, 7, 8, 9]\n",
      "[2, 4, 6, 8]\n",
      "[1, 20, 3, 40, 5, 60, 7, 80, 9]\n",
      "[1, 2, 4, 8, 9]\n",
      "[1, 3, 4, 5, 16, 7, 64, 6, 81, 15]\n"
     ]
    }
   ],
   "source": [
    "#33 to modify the sequence of values in the given list\n",
    "d=[1,2,3,4,5,6,7,8,9]\n",
    "print(d)\n",
    "print(d[1: :2])\n",
    "d[1: :2]=[20,40,60,80]\n",
    "print(d)\n",
    "\n",
    "d=[1,3,2,5,4,7,8,6,9,15]\n",
    "print(d[ : :2])\n",
    "d[ : :2]=[d[0]**2,d[2]**2,d[4]**2,d[6]**2,d[8]**2,]\n",
    "print(d)"
   ]
  },
  {
   "cell_type": "code",
   "execution_count": 76,
   "metadata": {},
   "outputs": [
    {
     "name": "stdout",
     "output_type": "stream",
     "text": [
      "[1, 2, 3, 4, 5]\n",
      "[1, 2, 3, 5]\n"
     ]
    }
   ],
   "source": [
    "#34 to delete the values in specific position in the given list\n",
    "s=[1,2,3,4,5]\n",
    "print(s)\n",
    "del s[3]\n",
    "print(s)"
   ]
  },
  {
   "cell_type": "code",
   "execution_count": 77,
   "metadata": {},
   "outputs": [
    {
     "name": "stdout",
     "output_type": "stream",
     "text": [
      "[1, 2, 3, 4, 5]\n",
      "[1, 2, 3, 4]\n"
     ]
    }
   ],
   "source": [
    "#35 to delete the values at the ending of list\n",
    "s=[1,2,3,4,5]\n",
    "print(s)\n",
    "del s[-1]\n",
    "print(s)"
   ]
  },
  {
   "cell_type": "code",
   "execution_count": 78,
   "metadata": {},
   "outputs": [
    {
     "name": "stdout",
     "output_type": "stream",
     "text": [
      "[1, 3, 5, 7, 9, 11]\n",
      "[3, 5, 7, 9, 11]\n"
     ]
    }
   ],
   "source": [
    "#36 to delete new value at starting of list\n",
    "s=[1,3,5,7,9,11]\n",
    "print(s)\n",
    "s[0:1]=[]\n",
    "print(s)"
   ]
  },
  {
   "cell_type": "code",
   "execution_count": 79,
   "metadata": {},
   "outputs": [
    {
     "name": "stdout",
     "output_type": "stream",
     "text": [
      "[1, 2, 3, 4, 5, 6, 7]\n",
      "3\n",
      "[1, 2, 3, 5, 6, 7]\n"
     ]
    }
   ],
   "source": [
    "#37 to delete new value in the middle of the list\n",
    "s=[1,2,3,4,5,6,7]\n",
    "print(s)\n",
    "print(len(s)//2)\n",
    "del s[len(s)//2]\n",
    "print(s)"
   ]
  },
  {
   "cell_type": "code",
   "execution_count": 80,
   "metadata": {},
   "outputs": [
    {
     "name": "stdout",
     "output_type": "stream",
     "text": [
      "(1, 2, 3, 4, 5)\n",
      "('a', 'b', 1, 2, 3, 4, 5)\n"
     ]
    }
   ],
   "source": [
    "#38 to concat the value at starting of tuple\n",
    "t=(1,2,3,4,5)\n",
    "print(t)\n",
    "t=('a','b')+t\n",
    "print(t)"
   ]
  },
  {
   "cell_type": "code",
   "execution_count": 81,
   "metadata": {},
   "outputs": [
    {
     "name": "stdout",
     "output_type": "stream",
     "text": [
      "(1, 2, 3, 4, 5)\n",
      "(1, 2, 'a', 'b', 3, 4, 5)\n"
     ]
    }
   ],
   "source": [
    "#39 to concat the value at the middle of tuple.\n",
    "t=(1,2,3,4,5)\n",
    "print(t)\n",
    "t=t[0:2]+('a','b')+t[2:]\n",
    "print(t)"
   ]
  },
  {
   "cell_type": "code",
   "execution_count": 82,
   "metadata": {},
   "outputs": [
    {
     "name": "stdout",
     "output_type": "stream",
     "text": [
      "(1, 2, 3, 4, 5)\n",
      "(1, 2, 3, 4, 5, 'a', 'b')\n"
     ]
    }
   ],
   "source": [
    "#40 to concatenate the new value at the ending of tuple\n",
    "t=(1,2,3,4,5)\n",
    "print(t)\n",
    "t+=('a','b')\n",
    "print(t)"
   ]
  },
  {
   "cell_type": "code",
   "execution_count": 83,
   "metadata": {},
   "outputs": [
    {
     "name": "stdout",
     "output_type": "stream",
     "text": [
      "(10, 10.12, 'modified')\n"
     ]
    }
   ],
   "source": [
    "#41 to modify sequence values in a tuple\n",
    "t=(10,10.12,True,50)\n",
    "print(t[0:2]+('modified',))"
   ]
  },
  {
   "cell_type": "code",
   "execution_count": 84,
   "metadata": {},
   "outputs": [
    {
     "name": "stdout",
     "output_type": "stream",
     "text": [
      "(10, [10, True])\n"
     ]
    }
   ],
   "source": [
    "#42 to delete sequence of values in a tuple \n",
    "t=(10,10.12,True,'string',[10,True])\n",
    "print(t[:1]+t[-1:])"
   ]
  },
  {
   "cell_type": "code",
   "execution_count": 85,
   "metadata": {},
   "outputs": [
    {
     "name": "stdout",
     "output_type": "stream",
     "text": [
      "{50, 20, 40, 10, 30}\n"
     ]
    }
   ],
   "source": [
    "#43 to concat the new value into the set\n",
    "s={10,20,30}\n",
    "s|={40,50}\n",
    "print(s)"
   ]
  },
  {
   "cell_type": "code",
   "execution_count": 86,
   "metadata": {},
   "outputs": [
    {
     "name": "stdout",
     "output_type": "stream",
     "text": [
      "{10, 30}\n"
     ]
    }
   ],
   "source": [
    "#44 to delete specific value in a set\n",
    "s={10,20,30}\n",
    "s-={20}\n",
    "print(s)"
   ]
  },
  {
   "cell_type": "code",
   "execution_count": 87,
   "metadata": {},
   "outputs": [
    {
     "name": "stdout",
     "output_type": "stream",
     "text": [
      "{10: 20, 20: 30, 40: 50, 50: 309}\n"
     ]
    }
   ],
   "source": [
    "#45 to concat new value and key to dict\n",
    "d={10:20,20:30,40:50}\n",
    "d[50]=309\n",
    "print(d) #to add single value"
   ]
  },
  {
   "cell_type": "code",
   "execution_count": 88,
   "metadata": {},
   "outputs": [
    {
     "name": "stdout",
     "output_type": "stream",
     "text": [
      "{10: 20, 40: 50}\n"
     ]
    }
   ],
   "source": [
    "#46 to delete specific key and value in the given dict\n",
    "d={10:20,20:30,40:50}\n",
    "del d[20]\n",
    "print(d)"
   ]
  },
  {
   "cell_type": "code",
   "execution_count": 89,
   "metadata": {},
   "outputs": [
    {
     "name": "stdout",
     "output_type": "stream",
     "text": [
      "{10: 200, 20: 30, 40: 50}\n"
     ]
    }
   ],
   "source": [
    "#47 to modify the specific value in a given dict\n",
    "d={10:20,20:30,40:50}\n",
    "d[10]=200\n",
    "print(d)"
   ]
  },
  {
   "cell_type": "code",
   "execution_count": 90,
   "metadata": {},
   "outputs": [
    {
     "name": "stdout",
     "output_type": "stream",
     "text": [
      "[10, 10.12, True, 'string', 'a', 'b']\n"
     ]
    }
   ],
   "source": [
    "#48 to concat list value and tuple values by using typecasting\n",
    "l=[10,10.12,True]\n",
    "t=(\"string\",'a','b')\n",
    "print(l+list(t))"
   ]
  },
  {
   "cell_type": "code",
   "execution_count": 91,
   "metadata": {},
   "outputs": [
    {
     "name": "stdout",
     "output_type": "stream",
     "text": [
      "[10, 10.12, True, 'string', 'a', 'b']\n"
     ]
    }
   ],
   "source": [
    "#49 to concat list and tuple value without using typecasting\n",
    "l=[10,10.12,True]\n",
    "t=(\"string\",'a','b')\n",
    "l+=t\n",
    "print(l)"
   ]
  },
  {
   "cell_type": "code",
   "execution_count": 92,
   "metadata": {},
   "outputs": [
    {
     "name": "stdout",
     "output_type": "stream",
     "text": [
      "[10, 20, 30, 40, 'a', 'b', 'c', 'd']\n"
     ]
    }
   ],
   "source": [
    "# 50 to concat list and tuple by using the compound assignment\n",
    "\n",
    "l=[10,20,30,40]\n",
    "l+=(\"a\",\"b\",\"c\",\"d\")\n",
    "print(l)\n",
    "\n",
    "# l=[10,20,30,40]\n",
    "# l1=(\"a\",\"b\",\"c\",\"d\") #we can concat two different data types by using the compound assignment only\n",
    "# l=l+l1\n",
    "# print(l)"
   ]
  },
  {
   "cell_type": "code",
   "execution_count": null,
   "metadata": {},
   "outputs": [],
   "source": []
  }
 ],
 "metadata": {
  "kernelspec": {
   "display_name": "Python 3",
   "language": "python",
   "name": "python3"
  },
  "language_info": {
   "codemirror_mode": {
    "name": "ipython",
    "version": 3
   },
   "file_extension": ".py",
   "mimetype": "text/x-python",
   "name": "python",
   "nbconvert_exporter": "python",
   "pygments_lexer": "ipython3",
   "version": "3.8.2"
  },
  "orig_nbformat": 4
 },
 "nbformat": 4,
 "nbformat_minor": 2
}
