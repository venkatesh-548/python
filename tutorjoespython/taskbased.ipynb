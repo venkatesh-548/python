{
 "cells": [
  {
   "cell_type": "code",
   "execution_count": 1,
   "metadata": {},
   "outputs": [
    {
     "name": "stdout",
     "output_type": "stream",
     "text": [
      "the gross salary is:40000.0\n"
     ]
    }
   ],
   "source": [
    "#1. Ramesh's basic salary is input through the keyboard. His dearness allowance is 40% of basic salary, and house rent allowance is 20% of basic salary. Write a program to calculate his gross salary.\n",
    "\n",
    "sal=int(input(\"enter salary\"))\n",
    "da=0.4*sal\n",
    "hra=0.2*sal\n",
    "grs=sal+da+hra\n",
    "print(f\"the gross salary is:{grs}\")"
   ]
  },
  {
   "cell_type": "code",
   "execution_count": 4,
   "metadata": {},
   "outputs": [
    {
     "name": "stdout",
     "output_type": "stream",
     "text": [
      "meter:165000\n",
      "cm:165000000\n",
      "inch:64960629.92125984\n",
      "feet:5413385.826771653\n"
     ]
    }
   ],
   "source": [
    "# 2. The distance between two cities (in km.) is input through the keyboard. Write a program to convert and print this distance in meters, feet, inches and centimeters.\n",
    "\n",
    "km=165\n",
    "meter=km*1000\n",
    "cm=meter*1000\n",
    "inch=cm/2.54\n",
    "feet=inch/12\n",
    "print(f\"meter:{meter}\")\n",
    "print(f\"cm:{cm}\")\n",
    "print(f\"inch:{inch}\")\n",
    "print(f\"feet:{feet}\")"
   ]
  },
  {
   "cell_type": "code",
   "execution_count": 6,
   "metadata": {},
   "outputs": [
    {
     "name": "stdout",
     "output_type": "stream",
     "text": [
      "avg:88.83333333333333\n",
      "tot:533\n",
      "per:8883.333333333332\n"
     ]
    }
   ],
   "source": [
    "#3. If the marks obtained by a student in five different subjects are input through the keyboard, find out the aggregate marks and percentage marks obtained by the student. Assume that the maximum marks that can be obtained by a student in each subject is 100.\n",
    "\n",
    "tel=91\n",
    "hin=85\n",
    "eng=91\n",
    "phy=81\n",
    "che=91\n",
    "soc=94\n",
    "tot=tel+hin+eng+phy+che+soc\n",
    "avg=tot/6\n",
    "per=avg*100\n",
    "print(f\"avg:{avg}\")\n",
    "print(f\"tot:{tot}\")\n",
    "print(f\"per:{per}\")\n"
   ]
  },
  {
   "cell_type": "code",
   "execution_count": 7,
   "metadata": {},
   "outputs": [
    {
     "name": "stdout",
     "output_type": "stream",
     "text": [
      "36.888888888888886\n"
     ]
    }
   ],
   "source": [
    "# 4. Temperature of a city in Fahrenheit degrees is input through the keyboard. Write a program to convert this temperature into Centigrade degrees.\n",
    "\n",
    "temp=98.4\n",
    "deg=(temp-32)*5/9\n",
    "print(deg)"
   ]
  },
  {
   "cell_type": "code",
   "execution_count": 17,
   "metadata": {},
   "outputs": [
    {
     "name": "stdout",
     "output_type": "stream",
     "text": [
      "1300.0\n",
      "11700.0\n"
     ]
    }
   ],
   "source": [
    "#1. While purchasing certain items, a discount of 10% is offered if the quantity purchased is more than 10. If quantity and price per item are input through the keyboard, write a program to calculate the total expenses.\n",
    "\n",
    "shirt=650\n",
    "qty=20\n",
    "if qty>10:\n",
    "    disc=qty*shirt*.1\n",
    "    print(disc)\n",
    "    price=shirt*qty-disc\n",
    "else:\n",
    "    price=shirt*qty\n",
    "print(price)\n",
    "\n",
    "\n"
   ]
  },
  {
   "cell_type": "code",
   "execution_count": 18,
   "metadata": {},
   "outputs": [
    {
     "name": "stdout",
     "output_type": "stream",
     "text": [
      "bonus 15000\n"
     ]
    }
   ],
   "source": [
    "# 2. The current year and the year in which the employee joined the organization are entered through the keyboard. If the number of years for which the employee has served the organization is greater than 3 then a bonus of Rs. 2500/- is given to the employee. If the years of service are not greater than 3, then the program should do nothing.\n",
    "\n",
    "cur_y=2023\n",
    "join_y=2017\n",
    "exp=cur_y-join_y\n",
    "if exp>3:\n",
    "    bonus=exp*2500\n",
    "else:\n",
    "    pass\n",
    "print(\"bonus\",bonus)\n",
    "\n"
   ]
  },
  {
   "cell_type": "code",
   "execution_count": 20,
   "metadata": {},
   "outputs": [
    {
     "name": "stdout",
     "output_type": "stream",
     "text": [
      "2000.0\n"
     ]
    }
   ],
   "source": [
    "#3. If his basic salary is less than Rs. 1500, then HRA = 10% of basic salary and DA = 90% of basic salary. If his salary is either equal to or above Rs. 1500, then HRA = Rs. 500 and DA = 98% of basic salary. If the employee's salary is input through the keyboard write a program to find his gross salary\n",
    "\n",
    "sal=int(input(\"enter sal:\"))\n",
    "if sal>=1500:\n",
    "    hra=500\n",
    "    da=sal*(98/100)\n",
    "    gsal=sal+hra+da\n",
    "else:\n",
    "    hra=sal*(10/100)\n",
    "    da=sal*(90/100)\n",
    "    gsal=sal+hra+da\n",
    "print(gsal)\n"
   ]
  },
  {
   "cell_type": "code",
   "execution_count": 29,
   "metadata": {},
   "outputs": [
    {
     "name": "stdout",
     "output_type": "stream",
     "text": [
      "30.833333333333332\n",
      "30.83333333333333\n",
      "fail\n"
     ]
    }
   ],
   "source": [
    "# 4. The marks obtained by a student in 5 different subjects are input through the keyboard. The student gets a division as per the following rules: Write a program to calculate the division obtained by the student.\n",
    "\n",
    "tel=41\n",
    "hin=35\n",
    "eng=11\n",
    "phy=23\n",
    "che=51\n",
    "soc=24\n",
    "tot=tel+hin+eng+phy+che+soc\n",
    "avg=tot/6\n",
    "print(avg)\n",
    "per=(avg*100)/100\n",
    "print(per)\n",
    "if per>=60:\n",
    "    print(\"first division\")\n",
    "elif 50<=per<60:\n",
    "    print(\"second division\")\n",
    "elif 40<=per<50:\n",
    "    print(\"third division\")\n",
    "else:\n",
    "    print(\"fail\")\n"
   ]
  },
  {
   "cell_type": "code",
   "execution_count": null,
   "metadata": {},
   "outputs": [],
   "source": []
  }
 ],
 "metadata": {
  "kernelspec": {
   "display_name": "Python 3",
   "language": "python",
   "name": "python3"
  },
  "language_info": {
   "codemirror_mode": {
    "name": "ipython",
    "version": 3
   },
   "file_extension": ".py",
   "mimetype": "text/x-python",
   "name": "python",
   "nbconvert_exporter": "python",
   "pygments_lexer": "ipython3",
   "version": "3.11.4"
  },
  "orig_nbformat": 4
 },
 "nbformat": 4,
 "nbformat_minor": 2
}
