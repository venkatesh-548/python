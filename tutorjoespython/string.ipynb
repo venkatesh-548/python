{
 "cells": [
  {
   "cell_type": "code",
   "execution_count": 1,
   "metadata": {},
   "outputs": [
    {
     "name": "stdout",
     "output_type": "stream",
     "text": [
      "length of the string is:10\n"
     ]
    }
   ],
   "source": [
    "# 1. Write a Python program to calculate the length of a string.\n",
    "\n",
    "s=\"Tutor Joes\"\n",
    "print(f\"length of the string is:{len(s)}\")"
   ]
  },
  {
   "cell_type": "code",
   "execution_count": 2,
   "metadata": {},
   "outputs": [
    {
     "name": "stdout",
     "output_type": "stream",
     "text": [
      "{'t': 2, 'u': 1, 'o': 2, 'r': 1, 'j': 1, 'e': 1, 's': 1}\n"
     ]
    }
   ],
   "source": [
    "#2. Write a Python program to count the number of characters (character frequency) in a string.\n",
    "\n",
    "s=\"tutorjoes\"\n",
    "st={}\n",
    "for i in s:\n",
    "    if i not in st:\n",
    "        st[i]=1\n",
    "    else:\n",
    "        st[i]+=1\n",
    "print(st)\n"
   ]
  },
  {
   "cell_type": "code",
   "execution_count": 9,
   "metadata": {},
   "outputs": [
    {
     "name": "stdout",
     "output_type": "stream",
     "text": [
      "tu@orj@es\n"
     ]
    }
   ],
   "source": [
    "# 3. Write a Python program to get a string from a given \n",
    "#string where all occurrences of its first char have been changed to '@', except the first char itself.\n",
    "\n",
    "s=\"tutorjoes\"\n",
    "st=\"\"\n",
    "for i in s:\n",
    "    if i not in st:\n",
    "        st+=i\n",
    "    else:\n",
    "        st+=\"@\"\n",
    "print(st)"
   ]
  },
  {
   "cell_type": "code",
   "execution_count": 5,
   "metadata": {},
   "outputs": [
    {
     "data": {
      "text/plain": [
       "'you are how hello hai '"
      ]
     },
     "execution_count": 5,
     "metadata": {},
     "output_type": "execute_result"
    }
   ],
   "source": [
    "# Reverse words in a given String in Python\n",
    "\n",
    "s=\"hai hello how are you\"\n",
    "def rev(s,res=\"\",l=[],temp=\"\"):\n",
    "    for i in s:\n",
    "        if i!=\" \":\n",
    "            res+=i\n",
    "        else:\n",
    "            l+=[res]\n",
    "            res=\"\"\n",
    "    l+=[res]\n",
    "    for j in l:\n",
    "        temp=j+\" \"+temp\n",
    "    return temp\n",
    "rev(s)"
   ]
  },
  {
   "cell_type": "code",
   "execution_count": 7,
   "metadata": {},
   "outputs": [
    {
     "data": {
      "text/plain": [
       "'hellohai'"
      ]
     },
     "execution_count": 7,
     "metadata": {},
     "output_type": "execute_result"
    }
   ],
   "source": [
    "# Ways to remove i’th character from string in Python\n",
    "\n",
    "s=\"hello123hai\"\n",
    "def rem(s,res=\"\"):\n",
    "    for i in s:\n",
    "        if \"0\"<=i<=\"9\":\n",
    "            res+=\"\"\n",
    "        else:\n",
    "            res+=i\n",
    "    return res\n",
    "rem(s)"
   ]
  },
  {
   "cell_type": "code",
   "execution_count": 11,
   "metadata": {},
   "outputs": [
    {
     "name": "stdout",
     "output_type": "stream",
     "text": [
      "haii hellow yoou "
     ]
    }
   ],
   "source": [
    "# Python program to print even length words in a string\n",
    "\n",
    "s=\"haii hellow how are yoou\"\n",
    "def even_len(s,res=\"\",l=[]):\n",
    "    for k in s:\n",
    "        if k!=\" \":\n",
    "            res+=k\n",
    "        else:\n",
    "            l+=[res]\n",
    "            res=\"\"\n",
    "    else:\n",
    "        l+=[res]      \n",
    "    for i in l:\n",
    "        if len(i)%2==0:\n",
    "            print(i,end=\" \")\n",
    "even_len(s)"
   ]
  },
  {
   "cell_type": "markdown",
   "metadata": {},
   "source": [
    "4. Write a Python program to get a single string from two given strings, separated by a space and swap the first two characters of each string.\n",
    "\n",
    "Sample Output\n",
    "\n",
    "Before Swap = abc xyz\n",
    "\n",
    "After Swap = xyc abz"
   ]
  },
  {
   "cell_type": "code",
   "execution_count": 1,
   "metadata": {},
   "outputs": [
    {
     "name": "stdout",
     "output_type": "stream",
     "text": [
      "before swap: abc xyz\n",
      "xyc abz\n"
     ]
    }
   ],
   "source": [
    "# 4\n",
    "a='abc'\n",
    "b='xyz'\n",
    "print('before swap:',a,b)\n",
    "print(b[:2]+a[2]+\" \"+a[:2]+b[2])\n"
   ]
  },
  {
   "cell_type": "markdown",
   "metadata": {},
   "source": [
    "5. Write a Python program to remove the nth index character from a nonempty string.\n",
    "\n",
    "Sample Output\n",
    "\n",
    "Before Remove = Tutor Joes\n",
    "\n",
    "Remove character = t\n",
    "\n",
    "After Remove = Tuor Joes"
   ]
  },
  {
   "cell_type": "code",
   "execution_count": 2,
   "metadata": {},
   "outputs": [
    {
     "data": {
      "text/plain": [
       "'Tutr Joes'"
      ]
     },
     "execution_count": 2,
     "metadata": {},
     "output_type": "execute_result"
    }
   ],
   "source": [
    "def remove(n):\n",
    "    a=s[:n]\n",
    "    b=s[n+1:]\n",
    "    return a+b\n",
    "s='Tutor Joes'\n",
    "remove(3)"
   ]
  },
  {
   "cell_type": "markdown",
   "metadata": {},
   "source": [
    "6. Write a Python program to change a given string to a new string where the first and last chars have been exchanged\n",
    "\n",
    "Sample Output\n",
    "\n",
    "Before Exchange = Python\n",
    "\n",
    "After Exchange = nythoP"
   ]
  },
  {
   "cell_type": "code",
   "execution_count": 4,
   "metadata": {},
   "outputs": [
    {
     "name": "stdout",
     "output_type": "stream",
     "text": [
      "Before Exchange =  Python\n",
      "After Exchange =  nythoP\n"
     ]
    }
   ],
   "source": [
    "s='Python'\n",
    "print(\"Before Exchange = \",s)\n",
    "res=s[-1]+s[1:-1]+s[0]\n",
    "print(\"After Exchange = \",res)"
   ]
  },
  {
   "cell_type": "markdown",
   "metadata": {},
   "source": [
    "7. Write a Python program to remove the characters which have odd index values of a given string\n",
    "\n",
    "Sample Output\n",
    "\n",
    "String = Computer Education\n",
    "\n",
    "Remove Odd Index Char = Cmue dcto"
   ]
  },
  {
   "cell_type": "code",
   "execution_count": 6,
   "metadata": {},
   "outputs": [
    {
     "name": "stdout",
     "output_type": "stream",
     "text": [
      "String =  Computer Education\n",
      "Remove Odd Index Char =  Cmue dcto\n"
     ]
    }
   ],
   "source": [
    "s='Computer Education'\n",
    "print(\"String = \",s)\n",
    "print(\"Remove Odd Index Char = \",s[0::2])"
   ]
  },
  {
   "cell_type": "markdown",
   "metadata": {},
   "source": [
    "8. Write a Python program to count the occurrences of each word in a given sentence\n",
    "\n",
    "Sample Output\n",
    "\n",
    "string = To change the overall look your document. To change the look available in the gallery\n",
    "\n",
    "{ 'To': 2, 'change': 2, 'the': 3, 'overall': 1, 'look': 2, 'your': 1, 'document.': 1, 'available': 1, 'in': 1, 'gallery': 1 }"
   ]
  },
  {
   "cell_type": "code",
   "execution_count": 9,
   "metadata": {},
   "outputs": [
    {
     "data": {
      "text/plain": [
       "{'To': 2,\n",
       " 'change': 2,\n",
       " 'the': 3,\n",
       " 'overall': 1,\n",
       " 'look': 2,\n",
       " 'your': 1,\n",
       " 'document.': 1,\n",
       " 'available': 1,\n",
       " 'in': 1,\n",
       " 'gallery': 1}"
      ]
     },
     "execution_count": 9,
     "metadata": {},
     "output_type": "execute_result"
    }
   ],
   "source": [
    "s='To change the overall look your document. To change the look available in the gallery'\n",
    "def occur(s,d={},res='',l=[]):\n",
    "    for i in s:\n",
    "        if i!=\" \":\n",
    "            res+=i\n",
    "        else:\n",
    "            if len(res)>1:\n",
    "                l+=[res]\n",
    "                res=''\n",
    "    l+=[res]\n",
    "    for j in l:\n",
    "        if j not in d:\n",
    "            d[j]=1\n",
    "        else:\n",
    "            d[j]+=1\n",
    "    return d\n",
    "occur(s)\n"
   ]
  },
  {
   "cell_type": "markdown",
   "metadata": {},
   "source": [
    "9. Write a Python script that takes input from the user and displays that input back in upper and lower cases.\n",
    "\n",
    "Sample Output\n",
    "\n",
    "Enter the String = Tutor Joes\n",
    "\n",
    "Uppercase = TUTOR JOES\n",
    "\n",
    "Lowercase = tutor joes"
   ]
  },
  {
   "cell_type": "code",
   "execution_count": 12,
   "metadata": {},
   "outputs": [
    {
     "data": {
      "text/plain": [
       "('TUTOR JOES', 'tutor joes')"
      ]
     },
     "execution_count": 12,
     "metadata": {},
     "output_type": "execute_result"
    }
   ],
   "source": [
    "def up_lc(st,res1='',res2=''):\n",
    "    for i in st:\n",
    "        if i.isalpha():\n",
    "            res1+=i.upper()\n",
    "            res2+=i.lower()\n",
    "        else:\n",
    "            res1+=i\n",
    "            res2+=i\n",
    "    return res1,res2\n",
    "s='Tutor Joes'\n",
    "up_lc(s)\n",
    "\n"
   ]
  },
  {
   "cell_type": "markdown",
   "metadata": {},
   "source": [
    "10. Write a Python function to reverses a string if it's length is a multiple of 4.\n",
    "\n",
    "Sample Output\n",
    "\n",
    "Enter the String = Computer\n",
    "\n",
    "If the length is a multiple of 4 = retupmoC\n",
    "\n",
    "Enter the String = Science\n",
    "\n",
    "If the length is not a multiple of 4 = Science"
   ]
  },
  {
   "cell_type": "code",
   "execution_count": 14,
   "metadata": {},
   "outputs": [
    {
     "data": {
      "text/plain": [
       "'Science'"
      ]
     },
     "execution_count": 14,
     "metadata": {},
     "output_type": "execute_result"
    }
   ],
   "source": [
    "def reverse(s,res=''):\n",
    "    if len(s)%4==0:\n",
    "        for i in s:\n",
    "            res=i+res\n",
    "    else:\n",
    "        for i in s:\n",
    "            res+=i\n",
    "    return res\n",
    "s1='Computer'\n",
    "s2='Science'\n",
    "reverse(s2)"
   ]
  },
  {
   "cell_type": "markdown",
   "metadata": {},
   "source": [
    "11. Write a Python function to convert a given string to all uppercase if it contains at least 2 uppercase characters in the first 4 characters.\n",
    "\n",
    "Sample Output\n",
    "\n",
    "Enter the String = ComPuTeR\n",
    "\n",
    "Check if there are at least 2 uppercase letters in the first 4 characters = COMPUTER\n",
    "\n",
    "Enter the String = Computer\n",
    "\n",
    "Check if does not contain at least 2 uppercase letters in the first 4 characters = Computer"
   ]
  },
  {
   "cell_type": "code",
   "execution_count": 16,
   "metadata": {},
   "outputs": [
    {
     "data": {
      "text/plain": [
       "'Computer'"
      ]
     },
     "execution_count": 16,
     "metadata": {},
     "output_type": "execute_result"
    }
   ],
   "source": [
    "def convert(s,res='',count=0):\n",
    "    for i in s[:4]:\n",
    "        if i.isupper():\n",
    "            count+=1\n",
    "    if count>1:\n",
    "        for i in s:\n",
    "            res+=i.upper()\n",
    "    else:\n",
    "        res=s\n",
    "    return res\n",
    "s='ComPuTeR'\n",
    "s1='Computer'\n",
    "convert(s1)"
   ]
  },
  {
   "cell_type": "markdown",
   "metadata": {},
   "source": [
    "12. Write a Python program to sort a string lexicographically.\n",
    "\n",
    "Sample Output\n",
    "\n",
    "Enter the String = Tutor\n",
    "\n",
    "['o', 'r', 'T', 't', 'u']"
   ]
  },
  {
   "cell_type": "code",
   "execution_count": 20,
   "metadata": {},
   "outputs": [
    {
     "name": "stdout",
     "output_type": "stream",
     "text": [
      "['o', 'r', 'T', 't', 'u']\n"
     ]
    }
   ],
   "source": [
    "s='Tutor'\n",
    "print(sorted(sorted(s),key=str.upper))"
   ]
  },
  {
   "cell_type": "markdown",
   "metadata": {},
   "source": [
    "13. Write a Python program to remove a newline in Python.\n",
    "\n",
    "Sample Output\n",
    "\n",
    "String = \"\\nTutor \\nJoes \\nComputer \\nEducation\\n\"\n",
    "\n",
    "Before Remove NewLine(\\n)\n",
    "Tutor\n",
    "Joes\n",
    "Computer\n",
    "Education\n",
    "\n",
    "After Remove NewLine(\\n) = Tutor Joes Computer Education\n",
    "\n"
   ]
  },
  {
   "cell_type": "code",
   "execution_count": 22,
   "metadata": {},
   "outputs": [
    {
     "name": "stdout",
     "output_type": "stream",
     "text": [
      "Tutor Joes Computer Education\n"
     ]
    }
   ],
   "source": [
    "s=\"\\nTutor \\nJoes \\nComputer \\nEducation\\n\"\n",
    "res=''\n",
    "for i in s:\n",
    "    if i==\"\\n\":\n",
    "        res+=\"\"\n",
    "    else:\n",
    "        res+=i\n",
    "print(res)"
   ]
  },
  {
   "cell_type": "markdown",
   "metadata": {},
   "source": [
    "14. Write a Python program to check whether a string starts with specified characters.\n",
    "\n",
    "Sample Output\n",
    "\n",
    "Tutor Joes Computer Education\n",
    "\n",
    "Prefix to check = Tu\n",
    "\n",
    "Check if the input string starts with the prefix = True"
   ]
  },
  {
   "cell_type": "code",
   "execution_count": 26,
   "metadata": {},
   "outputs": [
    {
     "name": "stdout",
     "output_type": "stream",
     "text": [
      "True\n"
     ]
    }
   ],
   "source": [
    "s='Tutor Joes Computer Education'\n",
    "#s.startswith('Tu')\n",
    "ch='Tu'\n",
    "# for i in range(len(s)-1):\n",
    "if s[:len(ch)]==ch:\n",
    "    print('True')\n",
    "else:\n",
    "    print(\"False\")\n",
    "\n",
    "\n"
   ]
  },
  {
   "cell_type": "markdown",
   "metadata": {},
   "source": [
    "16. Write a Python program to remove existing indentation from all of the lines in a given text.\n",
    "\n",
    "Sample Output\n",
    "\n",
    "Original text :\n",
    "              Python is an interpreted, object-oriented, high-level programming language\n",
    "              that can be used for a wide variety of applications. Python is a powerful\n",
    "              general-purpose programming language.\n",
    "\n",
    "Dedented text :\n",
    "Python is an interpreted, object-oriented, high-level programming language\n",
    "that can be used for a wide variety of applications. Python is a powerful\n",
    "general-purpose programming language."
   ]
  },
  {
   "cell_type": "code",
   "execution_count": 27,
   "metadata": {},
   "outputs": [
    {
     "name": "stdout",
     "output_type": "stream",
     "text": [
      "Python is an interpreted, object-oriented, high-level \n",
      "programming language\n",
      "        that can be used for a wide variety of applications.\n",
      "    Python is a powerful\n",
      "    general-purpose programming language.\n"
     ]
    }
   ],
   "source": [
    "s='''          Python is an interpreted, object-oriented, high-level \n",
    "programming language\n",
    "        that can be used for a wide variety of applications.\n",
    "    Python is a powerful\n",
    "    general-purpose programming language.'''\n",
    "print(s.strip())"
   ]
  },
  {
   "cell_type": "markdown",
   "metadata": {},
   "source": [
    "22. Write a Python program to reverse a string.\n",
    "\n",
    "Sample Output\n",
    "\n",
    "String = Python Exercises\n",
    "\n",
    "Reverse String = sesicrexE nohtyP"
   ]
  },
  {
   "cell_type": "code",
   "execution_count": 2,
   "metadata": {},
   "outputs": [
    {
     "data": {
      "text/plain": [
       "'sesicrexE nohtyP'"
      ]
     },
     "execution_count": 2,
     "metadata": {},
     "output_type": "execute_result"
    }
   ],
   "source": [
    "s='Python Exercises'\n",
    "def reverse(s,rev=''):\n",
    "    for i in s:\n",
    "        rev=i+rev\n",
    "    return rev\n",
    "reverse(s)"
   ]
  },
  {
   "cell_type": "markdown",
   "metadata": {},
   "source": [
    "23. Write a Python program to reverse words in a string.\n",
    "\n",
    "Sample Output\n",
    "\n",
    "String = Tutor Joes Computer Educations\n",
    "\n",
    "Reverse Words = Educations Computer Joes Tutor"
   ]
  },
  {
   "cell_type": "code",
   "execution_count": 7,
   "metadata": {},
   "outputs": [
    {
     "name": "stdout",
     "output_type": "stream",
     "text": [
      "['Tutor', 'Joes', 'Computer', 'Educations']\n"
     ]
    },
    {
     "data": {
      "text/plain": [
       "'Educations Computer Joes Tutor '"
      ]
     },
     "execution_count": 7,
     "metadata": {},
     "output_type": "execute_result"
    }
   ],
   "source": [
    "s='Tutor Joes Computer Educations'\n",
    "def revword(s,rev='',l=[],res=''):\n",
    "    for i in s:\n",
    "        if i!=\" \":\n",
    "            rev+=i\n",
    "        else:\n",
    "            if len(rev)>1:\n",
    "                l+=[rev]\n",
    "                rev=''\n",
    "    l+=[rev]\n",
    "    print(l)\n",
    "    for j in l:\n",
    "        res=j+\" \"+res\n",
    "    return res\n",
    "revword(s)"
   ]
  },
  {
   "cell_type": "markdown",
   "metadata": {},
   "source": [
    "24. Write a Python program to strip a set of characters from a string.\n",
    "\n",
    "Sample Output\n",
    "\n",
    "String = Tutor Joes Computer Education\n",
    "\n",
    "After stripping aeiou AEIOU = T t r    J s    C m p t r    d c t n"
   ]
  },
  {
   "cell_type": "code",
   "execution_count": 8,
   "metadata": {},
   "outputs": [
    {
     "data": {
      "text/plain": [
       "'Ttr Js Cmptr dctn'"
      ]
     },
     "execution_count": 8,
     "metadata": {},
     "output_type": "execute_result"
    }
   ],
   "source": [
    "s='Tutor Joes Computer Education'\n",
    "def strip(s,res=''):\n",
    "    for i in s:\n",
    "        if i in \"aeiouAAEIOU\":\n",
    "            res+=\"\"\n",
    "        else:\n",
    "            res+=i\n",
    "    return res\n",
    "strip(s)\n",
    "\n"
   ]
  },
  {
   "cell_type": "markdown",
   "metadata": {},
   "source": [
    "26. Write a Python program to swap comma and dot in a string.\n",
    "\n",
    "Sample Output\n",
    "\n",
    "Before Swap Comma and Dot = 23,2000.00\n",
    "\n",
    "After Swap Comma and Dot = 23.2000,00"
   ]
  },
  {
   "cell_type": "code",
   "execution_count": 12,
   "metadata": {},
   "outputs": [
    {
     "name": "stdout",
     "output_type": "stream",
     "text": [
      "23.2000,00\n"
     ]
    }
   ],
   "source": [
    "n='23,2000.00'\n",
    "res=''\n",
    "for i in n:\n",
    "    if i==\",\":\n",
    "        res+=\".\"\n",
    "    elif i==\".\":\n",
    "        res+=\",\"\n",
    "    else:\n",
    "        res+=i\n",
    "print(res)"
   ]
  },
  {
   "cell_type": "code",
   "execution_count": 18,
   "metadata": {},
   "outputs": [
    {
     "name": "stdout",
     "output_type": "stream",
     "text": [
      "['t', 'o']\n"
     ]
    }
   ],
   "source": [
    "#wap to print the duplicates\n",
    "\n",
    "s='tutor Joes'\n",
    "l=[]\n",
    "d=[]\n",
    "for i in s:\n",
    "    if i not in l:\n",
    "        l+=[i]\n",
    "    else:\n",
    "        d+=[i]\n",
    "print(d)\n",
    "\n",
    "\n"
   ]
  },
  {
   "cell_type": "markdown",
   "metadata": {},
   "source": [
    "30. Write a Python program to find the first repeated word in a given string.\n",
    "\n",
    "Sample Output\n",
    "\n",
    "String = Hello world ! Hello Tutor Joes\n",
    "\n",
    "First Repeated Word = Hello"
   ]
  },
  {
   "cell_type": "code",
   "execution_count": null,
   "metadata": {},
   "outputs": [],
   "source": [
    "s='Hello world ! Hello Tutor Joes'\n",
    "l=s.split(\" \")\n",
    "for i in l:\n",
    "    if "
   ]
  }
 ],
 "metadata": {
  "kernelspec": {
   "display_name": "Python 3",
   "language": "python",
   "name": "python3"
  },
  "language_info": {
   "codemirror_mode": {
    "name": "ipython",
    "version": 3
   },
   "file_extension": ".py",
   "mimetype": "text/x-python",
   "name": "python",
   "nbconvert_exporter": "python",
   "pygments_lexer": "ipython3",
   "version": "3.11.4"
  },
  "orig_nbformat": 4
 },
 "nbformat": 4,
 "nbformat_minor": 2
}
