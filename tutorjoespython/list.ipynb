{
 "cells": [
  {
   "cell_type": "code",
   "execution_count": 2,
   "metadata": {},
   "outputs": [
    {
     "name": "stdout",
     "output_type": "stream",
     "text": [
      "the sum is 26\n"
     ]
    }
   ],
   "source": [
    "# 1. Write a Python program to sum all the items\n",
    "\n",
    "l=[1,7,-10,34,2,-8]\n",
    "sum=0\n",
    "for i in l:\n",
    "    sum+=i\n",
    "print(f'the sum is {sum}')\n"
   ]
  },
  {
   "cell_type": "code",
   "execution_count": 3,
   "metadata": {},
   "outputs": [
    {
     "name": "stdout",
     "output_type": "stream",
     "text": [
      "the multiplication is:1680\n"
     ]
    }
   ],
   "source": [
    "# 2. Write a Python program to multiply all the items in a list\n",
    "\n",
    "l=[3,4,5,4,7]\n",
    "mul=1\n",
    "for i in l:\n",
    "    mul*=i\n",
    "print(f\"the multiplication is:{mul}\")"
   ]
  },
  {
   "cell_type": "code",
   "execution_count": 5,
   "metadata": {},
   "outputs": [
    {
     "name": "stdout",
     "output_type": "stream",
     "text": [
      "large is :34\n"
     ]
    }
   ],
   "source": [
    "# 3. Write a Python program to get the largest number from a list\n",
    "\n",
    "l=[1,7,10,34,2,8]\n",
    "large=0\n",
    "for i in l:\n",
    "    if i>large:\n",
    "        large=i\n",
    "print(f\"large is :{large}\")"
   ]
  },
  {
   "cell_type": "code",
   "execution_count": 6,
   "metadata": {},
   "outputs": [
    {
     "name": "stdout",
     "output_type": "stream",
     "text": [
      "the small is :2\n"
     ]
    }
   ],
   "source": [
    "# 4. Write a Python program to get the smallest number from a list\n",
    "\n",
    "l=[51,7,10,34,2,8]\n",
    "small=l[0]\n",
    "for i in l:\n",
    "    if i<small:\n",
    "        small=i\n",
    "print(f\"the small is :{small}\")"
   ]
  },
  {
   "cell_type": "code",
   "execution_count": 8,
   "metadata": {},
   "outputs": [
    {
     "name": "stdout",
     "output_type": "stream",
     "text": [
      "the count is 2\n"
     ]
    }
   ],
   "source": [
    "# 5. Write a Python program to count the number of strings where the string length is 2 or more and the first and last character are same from a given list of strings\n",
    "\n",
    "s=['abc', 'xyz', 'aba', '1221']\n",
    "count=0\n",
    "for i in s:\n",
    "    if len(i)>=2:\n",
    "        if i[0]==i[-1]:\n",
    "            count+=1\n",
    "print(f\"the count is {count}\")"
   ]
  },
  {
   "cell_type": "code",
   "execution_count": 9,
   "metadata": {},
   "outputs": [
    {
     "name": "stdout",
     "output_type": "stream",
     "text": [
      "[1, 2, 3, 7, 5, 6, 4, 8]\n"
     ]
    }
   ],
   "source": [
    "# 6. Write a Python program to remove duplicates from a list\n",
    "\n",
    "l=[1,2,3,7,2,1,5,6,4,8,5,4]\n",
    "uni=[]\n",
    "for i in l:\n",
    "    if i not in uni:\n",
    "        uni+=[i]\n",
    "print(uni)"
   ]
  },
  {
   "cell_type": "code",
   "execution_count": 12,
   "metadata": {},
   "outputs": [
    {
     "name": "stdout",
     "output_type": "stream",
     "text": [
      "empty\n"
     ]
    }
   ],
   "source": [
    "# 7. Write a Python program to check a list is empty or not\n",
    "\n",
    "l=[]\n",
    "count=0\n",
    "for i in l:\n",
    "    count+=1\n",
    "print([\"notempty\",\"empty\"][count==0])"
   ]
  },
  {
   "cell_type": "code",
   "execution_count": 15,
   "metadata": {},
   "outputs": [
    {
     "name": "stdout",
     "output_type": "stream",
     "text": [
      "new:[10, 22, 44, 23, 4]\n",
      "copy:[10, 22, 44, 23, 4]\n"
     ]
    }
   ],
   "source": [
    "#8. Write a Python program to clone or copy a list\n",
    "\n",
    "l=[10, 22, 44, 23, 4]\n",
    "copy=l\n",
    "print(f\"new:{l}\")\n",
    "print(f\"copy:{copy}\")\n",
    "\n",
    "#Clone or Copy a List : [10, 22, 44, 23, 4]"
   ]
  },
  {
   "cell_type": "code",
   "execution_count": 17,
   "metadata": {},
   "outputs": [
    {
     "name": "stdout",
     "output_type": "stream",
     "text": [
      "['python', 'java', 'html', 'bootstrap', 'nodejs']\n"
     ]
    }
   ],
   "source": [
    "# 9. Write a Python program to find the list of words that are longer than n from a given list of words\n",
    "\n",
    "l=[\"python\",\"java\",\"html\",\"css\",\"js\",\"sql\",\"bootstrap\",\"nodejs\"]\n",
    "l1=[]\n",
    "for i in l:\n",
    "    if len(i)>=4:\n",
    "        l1+=[i]\n",
    "print(l1)"
   ]
  },
  {
   "cell_type": "code",
   "execution_count": 22,
   "metadata": {},
   "outputs": [
    {
     "name": "stdout",
     "output_type": "stream",
     "text": [
      "1\n",
      " yes they have at least one common member\n"
     ]
    }
   ],
   "source": [
    "# 10. Write a Program that get two lists as input and check if they have at least one common member\n",
    "\n",
    "l1=[1,2,3,4,5]\n",
    "l2=[5,6,7,8,9]\n",
    "count=0\n",
    "for i in l1:\n",
    "    for j in l2:\n",
    "        if i==j:\n",
    "            count+=1\n",
    "print(count)\n",
    "a=[\"No common member\",\" yes they have at least one common member\"][count>=1]\n",
    "print(a)\n",
    "        "
   ]
  },
  {
   "cell_type": "code",
   "execution_count": 39,
   "metadata": {},
   "outputs": [
    {
     "name": "stdout",
     "output_type": "stream",
     "text": [
      "['Dog', 'Elephant', 'Fox', 'Tiger', 'Ponda']\n"
     ]
    }
   ],
   "source": [
    "# 11. Write a Python program to print a specified list after removing the 0th, 4th and 5th elements. (enumerate)\n",
    "\n",
    "l=[\"Cat\", \"Dog\", \"Elephant\", \"Fox\", \"Tiger\", \"Lion\", \"Ponda\",\"monkey\" ]\n",
    "n=[0,4,5]\n",
    "for i in range(0,len(l)):\n",
    "    if i==0 or i==4 or i==5:\n",
    "        del l[i]\n",
    "    else:\n",
    "        pass\n",
    "print(l)"
   ]
  },
  {
   "cell_type": "code",
   "execution_count": 40,
   "metadata": {},
   "outputs": [
    {
     "name": "stdout",
     "output_type": "stream",
     "text": [
      "[7, 81, 25, 23, 27]\n"
     ]
    }
   ],
   "source": [
    "# 12. Write a Python program to print the numbers of a specified list after removing even numbers from it\n",
    "\n",
    "l=[7,32,81,20,25,14,23,27]\n",
    "l1=[]\n",
    "for i in l:\n",
    "    if i%2==0:\n",
    "        pass\n",
    "    else:\n",
    "        l1+=[i]\n",
    "print(l1)\n",
    "    "
   ]
  },
  {
   "cell_type": "code",
   "execution_count": 47,
   "metadata": {},
   "outputs": [
    {
     "name": "stdout",
     "output_type": "stream",
     "text": [
      "['Elephant', 'Ponda', 'Fox', 'Tiger', 'Lion', 'Dog', 'Cat']\n",
      "['Fox', 'Ponda', 'Cat', 'Lion', 'Dog', 'Tiger', 'Elephant']\n"
     ]
    }
   ],
   "source": [
    "# 13. Write a Python program to shuffle and print a specified list (shuffle)\n",
    "\n",
    "from random import shuffle\n",
    "\n",
    "l=[\"Cat\", \"Dog\", \"Elephant\", \"Fox\", \"Tiger\", \"Lion\", \"Ponda\"]\n",
    "shuffle(l)\n",
    "print(l)\n",
    "\n",
    "import random\n",
    "animal = [\"Cat\", \"Dog\", \"Elephant\", \"Fox\", \"Tiger\", \"Lion\", \"Ponda\"]\n",
    "random.shuffle(animal)\n",
    "print(animal)\n",
    " "
   ]
  },
  {
   "cell_type": "code",
   "execution_count": 57,
   "metadata": {},
   "outputs": [
    {
     "name": "stdout",
     "output_type": "stream",
     "text": [
      "[121, 144, 169, 196, 225]\n",
      "[676, 729, 784, 841, 900]\n"
     ]
    }
   ],
   "source": [
    "# 14. Write a Python program to generate and print a list of first and last 5 elements where the values are square of numbers between 1 and 30\n",
    "\n",
    "l=[i**2 for i in range(11,31)]\n",
    "print(l[:5])\n",
    "print(l[-5:])"
   ]
  },
  {
   "cell_type": "code",
   "execution_count": 61,
   "metadata": {},
   "outputs": [
    {
     "name": "stdout",
     "output_type": "stream",
     "text": [
      "((1, 2, 3), (1, 3, 2), (2, 1, 3), (2, 3, 1), (3, 1, 2), (3, 2, 1))\n"
     ]
    }
   ],
   "source": [
    "# 15. Write a Python program to generate all permutations of a list in Python. (itertools)\n",
    "\n",
    "from itertools import permutations\n",
    "l=[1,2,3]\n",
    "print(tuple(permutations(l,3)))"
   ]
  },
  {
   "cell_type": "code",
   "execution_count": 62,
   "metadata": {},
   "outputs": [
    {
     "name": "stdout",
     "output_type": "stream",
     "text": [
      "Tutor Joes\n"
     ]
    }
   ],
   "source": [
    "#16. Write a Python program to convert a list of characters into a string\n",
    "\n",
    "l=['T','u','t','o','r',' ','J','o','e','s']\n",
    "res=\"\"\n",
    "for i in l:\n",
    "    res+=i\n",
    "print(res)\n",
    "\n"
   ]
  },
  {
   "cell_type": "code",
   "execution_count": 67,
   "metadata": {},
   "outputs": [
    {
     "name": "stdout",
     "output_type": "stream",
     "text": [
      "index of char:2\n"
     ]
    }
   ],
   "source": [
    "# 17. Write a Python program to find the index of an item in a specified list\n",
    "\n",
    "l=[20, 70, 30, 90, 10, 30, 90, 10, 80]\n",
    "ch=30\n",
    "for i in range(len(l)):\n",
    "    if int(l[i])==ch:\n",
    "        print(f\"index of char:{i}\")\n",
    "        break\n",
    "\n"
   ]
  },
  {
   "cell_type": "code",
   "execution_count": 68,
   "metadata": {},
   "outputs": [
    {
     "name": "stdout",
     "output_type": "stream",
     "text": [
      "[20, 30, 70, 30, 90, 10, 30, 20, 70, 90, 10, 80]\n"
     ]
    }
   ],
   "source": [
    "# 18. Write a Python program to flatten a shallow list\n",
    "\n",
    "l=[[20,30,70],[30,90,10], [30,20], [70,90,10,80]]\n",
    "res=[]\n",
    "for i in l:\n",
    "    for j in i:\n",
    "        res+=[j]\n",
    "print(res)"
   ]
  },
  {
   "cell_type": "code",
   "execution_count": 69,
   "metadata": {},
   "outputs": [
    {
     "name": "stdout",
     "output_type": "stream",
     "text": [
      "[10, 20, 30, 40, 'Cat', 'Dog', 'Lion', 'Ponda']\n"
     ]
    }
   ],
   "source": [
    "# 19. Write a Python program to add a list to the second list\n",
    "\n",
    "l1=[10, 20, 30, 40]\n",
    "l2=[\"Cat\", \"Dog\", \"Lion\", \"Ponda\"]\n",
    "l1.extend(l2)\n",
    "print(l1)"
   ]
  },
  {
   "cell_type": "code",
   "execution_count": 72,
   "metadata": {},
   "outputs": [
    {
     "name": "stdout",
     "output_type": "stream",
     "text": [
      "Dog\n",
      "Elephant\n"
     ]
    }
   ],
   "source": [
    "# 20. Write a Python program to select an item randomly from a list Using random.choice()\n",
    "import random\n",
    "l=[\"Cat\", \"Dog\", \"Elephant\", \"Fox\", \"Tiger\", \"Lion\", \"Ponda\"]\n",
    "a=random.choice(l)\n",
    "b=random.choice(l)\n",
    "print(b)\n",
    "print(a)\n",
    "\n"
   ]
  },
  {
   "cell_type": "code",
   "execution_count": 2,
   "metadata": {},
   "outputs": [
    {
     "name": "stdout",
     "output_type": "stream",
     "text": [
      "False\n"
     ]
    }
   ],
   "source": [
    "# 21. Write a python program to check whether two lists are circularly identical\n",
    "\n",
    "\n",
    "l1=[8, 8, 12, 12, 8]\n",
    "\n",
    "l2=[8, 8, 8, 12, 12]\n",
    "\n",
    "l3=[1, 8, 8, 12, 12]\n",
    "\n",
    "a=\" \".join(map(str,l2)) in \" \".join(map(str,l1*2))\n",
    "print(a)\n"
   ]
  },
  {
   "cell_type": "code",
   "execution_count": 3,
   "metadata": {},
   "outputs": [
    {
     "name": "stdout",
     "output_type": "stream",
     "text": [
      "the smallest val is:2\n"
     ]
    }
   ],
   "source": [
    "# 22. Write a Python program to find the second smallest number in a list\n",
    "\n",
    "\n",
    "l=[2,4,56,78,4,34,5,8,9]\n",
    "small=l[0]\n",
    "for i in l:\n",
    "    if small>i:\n",
    "        small=i\n",
    "print(f\"the smallest val is:{small}\")\n"
   ]
  },
  {
   "cell_type": "code",
   "execution_count": 11,
   "metadata": {},
   "outputs": [
    {
     "name": "stdout",
     "output_type": "stream",
     "text": [
      "[82, 4, 56, 78, 4, 34, 5, 9]\n",
      "the second large val is:82\n"
     ]
    }
   ],
   "source": [
    "# 23. Write a Python program to find the second largest number in a list\n",
    "\n",
    "l=[82,4,56,78,4,34,5,100,9]\n",
    "# sort=sorted(l)\n",
    "# print(sort)\n",
    "# print(sort[-2])\n",
    "pos=None\n",
    "large=0\n",
    "for i in range(len(l)):\n",
    "    if large<l[i]:\n",
    "        large=l[i]\n",
    "        pos=i\n",
    "del l[pos]\n",
    "print(l)\n",
    "lar=0\n",
    "for i in l:\n",
    "    if lar<i:\n",
    "        lar=i\n",
    "print(f\"the second large val is:{lar}\")\n",
    "\n",
    "    "
   ]
  },
  {
   "cell_type": "code",
   "execution_count": 15,
   "metadata": {},
   "outputs": [
    {
     "name": "stdout",
     "output_type": "stream",
     "text": [
      "[82, 4, 10, 56, 78, 34, 5, 9]\n"
     ]
    }
   ],
   "source": [
    "# 24. Write a Python program to get unique values from a list\n",
    "\n",
    "\n",
    "l=[82, 4, 10, 56, 78, 4, 34, 5, 10, 9]\n",
    "uni=[]\n",
    "for i in l:\n",
    "    if i not in uni:\n",
    "        uni+=[i]\n",
    "print(uni)\n",
    "        "
   ]
  },
  {
   "cell_type": "code",
   "execution_count": 16,
   "metadata": {},
   "outputs": [
    {
     "name": "stdout",
     "output_type": "stream",
     "text": [
      "{10: 2, 30: 2, 50: 3, 20: 2, 60: 2, 40: 2}\n"
     ]
    }
   ],
   "source": [
    "# 25. Write a Python program to get the frequency of the elements in a list.\n",
    "\n",
    "l=[10, 30, 50, 10, 20, 60, 20, 60, 40, 40, 50, 50, 30]\n",
    "d={}\n",
    "for i in l:\n",
    "    if i not in d:\n",
    "        d[i]=1\n",
    "    else:\n",
    "        d[i]+=1\n",
    "print(d)"
   ]
  },
  {
   "cell_type": "code",
   "execution_count": 17,
   "metadata": {},
   "outputs": [
    {
     "name": "stdout",
     "output_type": "stream",
     "text": [
      "[67, 89, 34]\n"
     ]
    }
   ],
   "source": [
    "#28. Write a Python program to find common items from two lists\n",
    "\n",
    "l1=[23,45,67,78,89,34]\n",
    "\n",
    "l2=[34,89,55,56,39,67]\n",
    "l=[]\n",
    "for i in l1:\n",
    "    for j in l2:\n",
    "        if i==j:\n",
    "            l+=[j]\n",
    "print(l)\n"
   ]
  },
  {
   "cell_type": "code",
   "execution_count": 21,
   "metadata": {},
   "outputs": [
    {
     "name": "stdout",
     "output_type": "stream",
     "text": [
      "['c', 'd', 't', 'l', 'F', 'S', 'm', 'b']\n",
      "[['cat', 'cow'], ['dog'], ['tiger', 'turtle'], ['lion'], ['Fox'], ['Shark', 'Snake'], ['mouse', 'monkey'], ['bear']]\n"
     ]
    }
   ],
   "source": [
    "# 29. Write a Python program to split a list based on first character of word\n",
    "\n",
    "\n",
    "l=[\"cat\", \"dog\", \"cow\", \"tiger\", \"lion\", \"Fox\", \"Shark\", \"Snake\", \"turtle\", \"mouse\", \"monkey\", \"bear\"]\n",
    "\n",
    "uni=[]\n",
    "for i in range(len(l)):\n",
    "    if l[i][0] not in uni:\n",
    "        uni+=[l[i][0]]\n",
    "print(uni)\n",
    "d=[]\n",
    "for j in uni:\n",
    "    d+=[[]]\n",
    "    for k in l:\n",
    "        if j==k[0]:\n",
    "            # print(j)\n",
    "            # print(k)\n",
    "            d[-1]+=[k]\n",
    "print(d)"
   ]
  },
  {
   "cell_type": "code",
   "execution_count": 25,
   "metadata": {},
   "outputs": [
    {
     "name": "stdout",
     "output_type": "stream",
     "text": [
      "[1, 3, 7, 5, 9, 7, 9]\n"
     ]
    }
   ],
   "source": [
    "#30. Write a Python program to select the odd number of a list\n",
    "\n",
    "l=[1,2,4,3,6,7,5,8,9,7,8,9,10]\n",
    "l1=[]\n",
    "for i in range(0,len(l)):\n",
    "    if l[i]%2!=0:\n",
    "        l1+=[l[i]]\n",
    "print(l1)"
   ]
  },
  {
   "cell_type": "code",
   "execution_count": 26,
   "metadata": {},
   "outputs": [
    {
     "name": "stdout",
     "output_type": "stream",
     "text": [
      "[10, 20, 30, 50, 80, 70]\n",
      "6\n"
     ]
    }
   ],
   "source": [
    "# 31. Write a Python Program to count unique values inside a list\n",
    "\n",
    "\n",
    "l=[10, 20, 30, 50, 80, 70, 70, 80, 10]\n",
    "uni=[]\n",
    "count=0\n",
    "for i in l:\n",
    "    if i not in uni:\n",
    "        uni+=[i]\n",
    "        count+=1\n",
    "print(uni)\n",
    "print(count)"
   ]
  },
  {
   "cell_type": "code",
   "execution_count": 31,
   "metadata": {},
   "outputs": [
    {
     "name": "stdout",
     "output_type": "stream",
     "text": [
      "[2, 1, 4, 6, 3]\n",
      "144\n"
     ]
    }
   ],
   "source": [
    "# 32. Write a Python Program to List product excluding duplicates\n",
    "\n",
    "l=[2, 1, 2, 4, 6, 4, 3, 2, 1]\n",
    "uni=[]\n",
    "d=[]\n",
    "for i in l:\n",
    "    if i not in uni:\n",
    "        uni+=[i]\n",
    "    else:\n",
    "        d+=[i]\n",
    "print(uni)\n",
    "fact=1\n",
    "for i in uni:\n",
    "    fact*=i\n",
    "print(fact)\n"
   ]
  },
  {
   "cell_type": "code",
   "execution_count": 3,
   "metadata": {},
   "outputs": [
    {
     "name": "stdout",
     "output_type": "stream",
     "text": [
      "{4: 3, 6: 1, 3: 3, 7: 1, 8: 2}\n",
      "dict_values([3, 1, 3, 1, 2])\n"
     ]
    }
   ],
   "source": [
    "#33. Write a Python Program to Extract elements with Frequency greater than K\n",
    "\n",
    "l=[4, 6, 4, 3, 3, 4, 3, 7, 8, 8]\n",
    "d={}\n",
    "for i in l:\n",
    "    if i not in d:\n",
    "        d[i]=1\n",
    "    else:\n",
    "        d[i]+=1\n",
    "print(d)\n",
    "n=3\n",
    "v=d.values()\n",
    "for i in v:\n",
    "    if i>=3:\n",
    "        \n",
    "\n",
    "\n"
   ]
  },
  {
   "cell_type": "code",
   "execution_count": null,
   "metadata": {},
   "outputs": [],
   "source": []
  },
  {
   "cell_type": "code",
   "execution_count": null,
   "metadata": {},
   "outputs": [],
   "source": []
  },
  {
   "cell_type": "code",
   "execution_count": null,
   "metadata": {},
   "outputs": [],
   "source": []
  }
 ],
 "metadata": {
  "kernelspec": {
   "display_name": "Python 3",
   "language": "python",
   "name": "python3"
  },
  "language_info": {
   "codemirror_mode": {
    "name": "ipython",
    "version": 3
   },
   "file_extension": ".py",
   "mimetype": "text/x-python",
   "name": "python",
   "nbconvert_exporter": "python",
   "pygments_lexer": "ipython3",
   "version": "3.11.4"
  },
  "orig_nbformat": 4
 },
 "nbformat": 4,
 "nbformat_minor": 2
}
