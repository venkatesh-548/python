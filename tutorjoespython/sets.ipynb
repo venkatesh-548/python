{
 "cells": [
  {
   "cell_type": "code",
   "execution_count": 3,
   "metadata": {},
   "outputs": [
    {
     "name": "stdout",
     "output_type": "stream",
     "text": [
      "<class 'set'> {True, 'joes,45.6', 'T', 23, 56, 45}\n"
     ]
    }
   ],
   "source": [
    "s=set()\n",
    "s|={'T',True,45,23,56,'joes,45.6'}\n",
    "print(type(s),s)"
   ]
  },
  {
   "cell_type": "code",
   "execution_count": 4,
   "metadata": {},
   "outputs": [
    {
     "name": "stdout",
     "output_type": "stream",
     "text": [
      "80 50 20 40 10 60 "
     ]
    }
   ],
   "source": [
    "#2. Write a Python program to iteration over sets Sample Output\n",
    "\n",
    "s={10,40,60,20,80,50}\n",
    "for i in s:\n",
    "    print(i,end=\" \")\n"
   ]
  },
  {
   "cell_type": "code",
   "execution_count": 6,
   "metadata": {},
   "outputs": [
    {
     "name": "stdout",
     "output_type": "stream",
     "text": [
      "{'cat', 'lion', 'dog'}\n",
      "{'cat', 'tiger', 'panda', 'lion', 'dog'}\n"
     ]
    }
   ],
   "source": [
    "# 3. Write a Python program to add member(s) in a set Sample Output\n",
    "\n",
    "s={'lion',\"cat\"}\n",
    "s|={'dog'}\n",
    "print(s)\n",
    "s|={'panda','tiger'}\n",
    "print(s)"
   ]
  },
  {
   "cell_type": "code",
   "execution_count": 7,
   "metadata": {},
   "outputs": [
    {
     "name": "stdout",
     "output_type": "stream",
     "text": [
      "{20, 70, 60, 30}\n"
     ]
    }
   ],
   "source": [
    "# 4. Write a Python program to remove item(s) from a given set\n",
    "\n",
    "s={50,20,70,60,30}\n",
    "s-={50}\n",
    "print(s)"
   ]
  },
  {
   "cell_type": "code",
   "execution_count": 8,
   "metadata": {},
   "outputs": [
    {
     "name": "stdout",
     "output_type": "stream",
     "text": [
      "{40, 20}\n"
     ]
    }
   ],
   "source": [
    "# 6. Write a Python program to create an intersection of sets\n",
    "\n",
    "s1={40,20,70,30}\n",
    "s2={40,50,20,60}\n",
    "\n",
    "s1&=s2\n",
    "print(s1)"
   ]
  },
  {
   "cell_type": "code",
   "execution_count": 9,
   "metadata": {},
   "outputs": [
    {
     "name": "stdout",
     "output_type": "stream",
     "text": [
      "{70, 40, 50, 20, 60, 30}\n"
     ]
    }
   ],
   "source": [
    "# 7. Write a Python program to create a union of sets\n",
    "\n",
    "s1={40,20,70,30}\n",
    "s2={40,50,20,60}\n",
    "s1|=s2\n",
    "print(s1)"
   ]
  },
  {
   "cell_type": "code",
   "execution_count": 13,
   "metadata": {},
   "outputs": [
    {
     "name": "stdout",
     "output_type": "stream",
     "text": [
      "{80, 70, 30}\n",
      "{50, 20, 90, 40, 10, 60}\n"
     ]
    }
   ],
   "source": [
    "# 8. Write a Python program to create set difference\n",
    "\n",
    "a = {80, 50, 20, 70, 40, 30}\n",
    "\n",
    "b = {50, 20, 90, 40, 10, 60}\n",
    "\n",
    "a-=b\n",
    "print(a)\n",
    "b-=a\n",
    "print(b)\n"
   ]
  },
  {
   "cell_type": "code",
   "execution_count": 17,
   "metadata": {},
   "outputs": [
    {
     "name": "stdout",
     "output_type": "stream",
     "text": [
      "{70, 10, 80, 90, 60, 30}\n",
      "{70, 40, 80, 50, 20, 30}\n"
     ]
    }
   ],
   "source": [
    "# 9. Write a Python program to create a symmetric difference\n",
    "\n",
    "A = {80, 50, 20, 70, 40, 30}\n",
    "\n",
    "B = {50, 20, 90, 40, 10, 60}\n",
    "A^=B\n",
    "print(A)\n",
    "B^=A\n",
    "print(B)"
   ]
  },
  {
   "cell_type": "code",
   "execution_count": 18,
   "metadata": {},
   "outputs": [
    {
     "name": "stdout",
     "output_type": "stream",
     "text": [
      "{'joes', 'tutor'}\n"
     ]
    }
   ],
   "source": [
    "# 10. Write a Python program to create a shallow copy of sets\n",
    "\n",
    "s1={'tutor',\"joes\"}\n",
    "s2=s1.copy()\n",
    "print(s2)"
   ]
  },
  {
   "cell_type": "code",
   "execution_count": 21,
   "metadata": {},
   "outputs": [
    {
     "name": "stdout",
     "output_type": "stream",
     "text": [
      "{50, 20, 70, 40, 10, 60, 30}\n",
      "{80, 100, 90}\n"
     ]
    }
   ],
   "source": [
    "# 11. Write a Python program to find the elements in a given set that are not in another set\n",
    "\n",
    "X = {50, 20, 70, 40, 10, 60, 30}\n",
    "\n",
    "Y = {80, 50, 100, 70, 90, 60}\n",
    "# X-=Y\n",
    "print(X)\n",
    "Y-=X\n",
    "print(Y)"
   ]
  }
 ],
 "metadata": {
  "kernelspec": {
   "display_name": "Python 3",
   "language": "python",
   "name": "python3"
  },
  "language_info": {
   "codemirror_mode": {
    "name": "ipython",
    "version": 3
   },
   "file_extension": ".py",
   "mimetype": "text/x-python",
   "name": "python",
   "nbconvert_exporter": "python",
   "pygments_lexer": "ipython3",
   "version": "3.11.4"
  }
 },
 "nbformat": 4,
 "nbformat_minor": 2
}
