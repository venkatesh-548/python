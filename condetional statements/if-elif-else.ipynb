{
 "cells": [
  {
   "cell_type": "code",
   "execution_count": 5,
   "metadata": {},
   "outputs": [
    {
     "name": "stdout",
     "output_type": "stream",
     "text": [
      "0 is neutral\n",
      "10 is positive\n"
     ]
    }
   ],
   "source": [
    "\"\"\"1 wap to print the number positive negative or zero\"\"\"\n",
    "\n",
    "n=0\n",
    "if n>0:\n",
    "    res=f\"{n} is positive\"\n",
    "elif n<0:\n",
    "    res=f\"{n} is negative\"\n",
    "else:\n",
    "    res=f\"{n} is neutral\"\n",
    "print(res)\n",
    "\n",
    "n=10\n",
    "if n>0:\n",
    "    res=f\"{n} is positive\"\n",
    "elif n<0:\n",
    "    res=f\"{n} is negative\"\n",
    "else:\n",
    "    res=f\"{n} is neutral\"\n",
    "print(res)"
   ]
  },
  {
   "cell_type": "code",
   "execution_count": 12,
   "metadata": {},
   "outputs": [
    {
     "name": "stdout",
     "output_type": "stream",
     "text": [
      "* special character\n",
      "9 number\n"
     ]
    }
   ],
   "source": [
    "\"\"\"2 to check the char is what type if the char\"\"\"\n",
    "\n",
    "ch=\"*\"\n",
    "if \"a\"<=ch<=\"z\":\n",
    "    res=f\"{ch} lowercase\"\n",
    "elif \"A\"<=ch<=\"Z\":\n",
    "    res=f\"{ch} uppercase\"\n",
    "elif \"0\"<=ch<=\"9\":\n",
    "    res=f\"{ch} number\"\n",
    "else:\n",
    "    res=f\"{ch} special character\"\n",
    "print(res)\n",
    "\n",
    "ch=\"9\"\n",
    "if 97<=ord(ch)<=122:\n",
    "    res=f\"{ch} lowercase\"\n",
    "elif 65<=ord(ch)<=90:\n",
    "    res=f\"{ch} uppercase\"\n",
    "elif 48<=ord(ch)<=57:\n",
    "    res=f\"{ch} number\"\n",
    "else:\n",
    "    res=f\"{ch} special character\"\n",
    "print(res)"
   ]
  },
  {
   "cell_type": "code",
   "execution_count": 14,
   "metadata": {},
   "outputs": [
    {
     "name": "stdout",
     "output_type": "stream",
     "text": [
      "division of two num is:4.0\n"
     ]
    }
   ],
   "source": [
    "\"\"\"3 to perform the arithematical operations in between two values by the help of the user choice\"\"\"\n",
    "\n",
    "a=40\n",
    "b=10\n",
    "n=int(input(\"1.addition\\n2.subtraction\\n3.multiplication\\n4.division\\n5.modulo div\\n6.floordiv\\n7.power\\nenter choice:\"))\n",
    "if n==1:\n",
    "    res=a+b\n",
    "    print(f\"addition of two num is:{res}\")\n",
    "elif n==2:\n",
    "    res=a-b\n",
    "    print(f\"subtraction of two num is:{res}\")\n",
    "elif n==3:\n",
    "    res=a*b\n",
    "    print(f\"multiplication of two num is:{res}\")\n",
    "elif n==4:\n",
    "    res=a/b\n",
    "    print(f\"division of two num is:{res}\")\n",
    "elif n==5:\n",
    "    res=a%b\n",
    "    print(f\"modulo of two num is:{res}\")\n",
    "elif n==6:\n",
    "    res=a//b\n",
    "    print(f\"floor division of two num is:{res}\")\n",
    "elif n==7:\n",
    "    res=a**b\n",
    "    print(f\"power of two num is:{res}\")\n",
    "else:\n",
    "    print(\"enter correct choice\")"
   ]
  },
  {
   "cell_type": "code",
   "execution_count": 21,
   "metadata": {},
   "outputs": [
    {
     "name": "stdout",
     "output_type": "stream",
     "text": [
      "('None', [1, 2, 3]) is the sequence datatype\n"
     ]
    }
   ],
   "source": [
    "\"\"\"4 wap to find the the given value is which type of the data type \"\"\"\n",
    "\n",
    "v=(\"None\",[1,2,3])\n",
    "if type(v) in [int,float,complex,bytes]:\n",
    "    res=f\"{v} is the numerical datatype\"\n",
    "elif type(v) in [True,False]:\n",
    "    res=f\"{v} is the boolean datatype\"\n",
    "elif type(v) in [list,tuple,str]:\n",
    "    res=f\"{v} is the sequence datatype\"\n",
    "elif type(v) in [set,dict]:\n",
    "    res=f\"{v} is the mapping datatype\"\n",
    "else:\n",
    "    res=res=f\"{v} is the None datatype\"\n",
    "print(res)\n",
    "\n"
   ]
  },
  {
   "cell_type": "code",
   "execution_count": 27,
   "metadata": {},
   "outputs": [
    {
     "name": "stdout",
     "output_type": "stream",
     "text": [
      "4\n"
     ]
    }
   ],
   "source": [
    "\"\"\"5 wap to check the the given char is alphabet or number or special symbol if alphabet concat the val \n",
    "into dict elif perform bitwsie right shift operator else asci num is floor division with 10.\"\"\"\n",
    "\n",
    "ch=\",\"\n",
    "d={}\n",
    "if \"a\"<=ch<=\"z\" or \"A\"<=ch<=\"Z\":\n",
    "    d[ch]=ord(ch)\n",
    "    res=d\n",
    "elif \"0\"<=ch<=\"9\":\n",
    "    res=int(ch)>>2\n",
    "else:\n",
    "    res=ord(ch)//10\n",
    "print(res)\n",
    "\n"
   ]
  },
  {
   "cell_type": "code",
   "execution_count": 28,
   "metadata": {},
   "outputs": [
    {
     "name": "stdout",
     "output_type": "stream",
     "text": [
      "valid user\n"
     ]
    }
   ],
   "source": [
    "\"\"\"wap to check the given password and uid is authenticate \"\"\"\n",
    "venky={\"name\":\"venky\",\"uid\":\"venky@gmail.com\",\"password\":\"venky123\"}\n",
    "nihal={\"name\":\"nihal\",\"uid\":\"nihal@gmail.com\",\"password\":\"nihal123\"}\n",
    "uid=\"venky@gmail.com\"\n",
    "password=\"venky123\"\n",
    "if uid==venky[\"uid\"] and password==venky[\"password\"]:\n",
    "    print(\"valid user\")\n",
    "else:\n",
    "    print(\"invalid user\")\n"
   ]
  },
  {
   "cell_type": "code",
   "execution_count": null,
   "metadata": {},
   "outputs": [],
   "source": [
    "#Program for accepting 3 values and find biggest among them by using if..else statement \n",
    "#BigThreeEx1.py"
   ]
  },
  {
   "cell_type": "code",
   "execution_count": null,
   "metadata": {},
   "outputs": [],
   "source": []
  },
  {
   "cell_type": "code",
   "execution_count": null,
   "metadata": {},
   "outputs": [],
   "source": []
  },
  {
   "cell_type": "code",
   "execution_count": null,
   "metadata": {},
   "outputs": [],
   "source": []
  },
  {
   "cell_type": "code",
   "execution_count": null,
   "metadata": {},
   "outputs": [],
   "source": []
  },
  {
   "cell_type": "code",
   "execution_count": null,
   "metadata": {},
   "outputs": [],
   "source": []
  },
  {
   "cell_type": "code",
   "execution_count": null,
   "metadata": {},
   "outputs": [],
   "source": []
  },
  {
   "cell_type": "code",
   "execution_count": null,
   "metadata": {},
   "outputs": [],
   "source": []
  },
  {
   "cell_type": "code",
   "execution_count": null,
   "metadata": {},
   "outputs": [],
   "source": []
  },
  {
   "cell_type": "code",
   "execution_count": null,
   "metadata": {},
   "outputs": [],
   "source": []
  }
 ],
 "metadata": {
  "kernelspec": {
   "display_name": "Python 3",
   "language": "python",
   "name": "python3"
  },
  "language_info": {
   "codemirror_mode": {
    "name": "ipython",
    "version": 3
   },
   "file_extension": ".py",
   "mimetype": "text/x-python",
   "name": "python",
   "nbconvert_exporter": "python",
   "pygments_lexer": "ipython3",
   "version": "3.8.2"
  },
  "orig_nbformat": 4
 },
 "nbformat": 4,
 "nbformat_minor": 2
}
