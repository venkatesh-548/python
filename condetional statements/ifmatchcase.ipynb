{
 "cells": [
  {
   "cell_type": "code",
   "execution_count": 2,
   "metadata": {},
   "outputs": [
    {
     "name": "stdout",
     "output_type": "stream",
     "text": [
      "hello\n"
     ]
    }
   ],
   "source": [
    "n=20\n",
    "match n:\n",
    "    case 10:\n",
    "        print(\"hai\")\n",
    "    case 20:\n",
    "        print(\"hello\")\n",
    "    case 30:\n",
    "        print(\"bye\")\n",
    "    case _:\n",
    "        print(\"exit\")"
   ]
  },
  {
   "cell_type": "code",
   "execution_count": 5,
   "metadata": {},
   "outputs": [
    {
     "name": "stdout",
     "output_type": "stream",
     "text": [
      "enter valid case\n"
     ]
    }
   ],
   "source": [
    "n='Sub'\n",
    "a=10\n",
    "b=20\n",
    "match n:\n",
    "    case 'add'|'ADD':\n",
    "        print(a+b)\n",
    "    case 'sub'|'SUB':\n",
    "        print(a-b)\n",
    "    case \"mul\"|\"MUL\":\n",
    "        print(a*b)\n",
    "    case 'div'|\"DIV\":\n",
    "        print(a/b)\n",
    "    case _:\n",
    "        print(\"enter valid case\")"
   ]
  },
  {
   "cell_type": "code",
   "execution_count": 20,
   "metadata": {},
   "outputs": [
    {
     "name": "stdout",
     "output_type": "stream",
     "text": [
      "list\n"
     ]
    }
   ],
   "source": [
    "n=[10,20,30]\n",
    "match n:\n",
    "    case [10]|[10,20,30]:\n",
    "        print(\"list\")\n",
    "    case [10|100]:\n",
    "        print(\"b\")\n",
    "    case [10]|[20]|[30]:\n",
    "        print(\"c\")\n",
    "    case _:\n",
    "        print(\"invalid\")"
   ]
  },
  {
   "cell_type": "code",
   "execution_count": 29,
   "metadata": {},
   "outputs": [
    {
     "name": "stdout",
     "output_type": "stream",
     "text": [
      "C\n"
     ]
    }
   ],
   "source": [
    "n=['hai',1]\n",
    "match n:\n",
    "    case [10|50|70,60|100|108]:\n",
    "        print(\"a\")\n",
    "    case [50,60|70]:\n",
    "        print(\"b\")\n",
    "    case [20|\"hai\"|10,'bye'|1|2]:\n",
    "        print(\"C\")\n",
    "    case _:\n",
    "        print(\"invalid\")"
   ]
  },
  {
   "cell_type": "code",
   "execution_count": 33,
   "metadata": {},
   "outputs": [
    {
     "name": "stdout",
     "output_type": "stream",
     "text": [
      "dict\n"
     ]
    }
   ],
   "source": [
    "d={\"a\":10}\n",
    "match d:\n",
    "    case {\"a\":10}|{\"b\":20}|{\"c\":30}:\n",
    "        print(\"dict\")\n",
    "    case {\"a\":20}:\n",
    "        print(\"a\")\n"
   ]
  },
  {
   "cell_type": "code",
   "execution_count": 45,
   "metadata": {},
   "outputs": [
    {
     "name": "stdout",
     "output_type": "stream",
     "text": [
      "f\n"
     ]
    }
   ],
   "source": [
    "#packages concept\n",
    "d=[10,20,30,40,300]\n",
    "match d:\n",
    "    case [10,20,30,40,100]:\n",
    "        print(\"a\")\n",
    "    case [10,20,30,40,200]:\n",
    "        print(\"b\")\n",
    "    case [10,30,*a]:\n",
    "        print(\"c\")\n",
    "    case [10,13,*a,300]:\n",
    "        print(\"d\")\n",
    "    case [*a,200]:\n",
    "        print(\"e\")\n",
    "    case [*a]:\n",
    "        print(\"f\")\n",
    "\n",
    "    "
   ]
  },
  {
   "cell_type": "code",
   "execution_count": null,
   "metadata": {},
   "outputs": [],
   "source": [
    "d={\"a\":10}\n",
    "match d:\n",
    "    case {\"a\":10}|{\"b\":20}|{\"c\":30}:\n",
    "        print(\"dict\")\n",
    "    case {\"a\":20}:\n",
    "        print(\"a\")\n"
   ]
  },
  {
   "cell_type": "code",
   "execution_count": 5,
   "metadata": {},
   "outputs": [
    {
     "name": "stdout",
     "output_type": "stream",
     "text": [
      "fail\n"
     ]
    }
   ],
   "source": [
    "#wap to match the percentage with thegrade\n",
    "\n",
    "per=38\n",
    "n=10\n",
    "match n:\n",
    "    case 10 if 80<per<=100:\n",
    "        print(\"first class\")\n",
    "    case 10 if 60<per<=80:\n",
    "        print(\"second class\")\n",
    "    case 10 if 40<=per<=60:\n",
    "        print(\"third class\")\n",
    "    case 10 if per<40:\n",
    "        print(\"fail\")\n",
    "    case _:\n",
    "        print(\"enter valid percentage\")\n",
    "    \n"
   ]
  },
  {
   "cell_type": "code",
   "execution_count": 9,
   "metadata": {},
   "outputs": [
    {
     "name": "stdout",
     "output_type": "stream",
     "text": [
      "('d', 100)\n",
      "('1', 49)\n"
     ]
    }
   ],
   "source": [
    "#ternary operator\n",
    "\n",
    "# ch=\"@\"\n",
    "# if \"a\"<=ch<=\"z\" or \"A\"<=ch<=\"Z\":\n",
    "#     if \"A\"<=ch<=\"Z\":\n",
    "#         res=chr(ord(ch)+32)\n",
    "#         print(res,ord(res))\n",
    "#     else:\n",
    "#         res=chr(ord(ch)-32)\n",
    "#         print(res,chr(ord(res)+1))\n",
    "# else:\n",
    "#     print(ch,ord(ch))\n",
    "\n",
    "#[false,true][condition]\n",
    "\n",
    "ch=\"D\"\n",
    "res=[(chr(ord(ch)-32),chr(ord(ch)-32+1)),(chr(ord(ch)+32),ord(ch)+32)][\"A\"<=ch<=\"Z\"]\n",
    "a=[(ch,ord(ch)),res][\"a\"<=ch<=\"z\" or \"A\"<=ch<=\"Z\"]\n",
    "print(a)\n",
    "\n",
    "ch=\"1\"\n",
    "print([(ch,ord(ch)),[(chr(ord(ch)-32),chr(ord(ch)-32+1)),(chr(ord(ch)+32),ord(ch)+32)][\"A\"<=ch<=\"Z\"]][\"a\"<=ch<=\"z\" or \"A\"<=ch<=\"Z\"])\n",
    "\n",
    "# ch=\"a\"\n",
    "# [print(ch,ord(ch)),[print(chr(ord(ch)-32),chr(ord(ch)+1)),print(chr(ord(ch)+32),ord(ch)+32)][\"A\"<=ch<=\"Z\"]][\"a\"<=ch<=\"z\" or \"A\"<=ch<=\"Z\"]"
   ]
  },
  {
   "cell_type": "code",
   "execution_count": 22,
   "metadata": {},
   "outputs": [
    {
     "name": "stdout",
     "output_type": "stream",
     "text": [
      "84\n",
      "57\n",
      "[86, 69, 78, 75, 89]\n",
      "64\n"
     ]
    }
   ],
   "source": [
    "#to check the asci val of the character without ord function\n",
    "s=\"T\"\n",
    "print(list(bytes(s,\"utf-8\"))[0])\n",
    "\n",
    "a=\"9\"\n",
    "print(list(bytes(a,\"utf-8\"))[0])\n",
    "\n",
    "b=\"VENKY\"\n",
    "print(list(bytes(b,\"utf-8\")))\n",
    "\n",
    "c=\"@\"\n",
    "print(list(bytes(c,\"utf-8\"))[0])\n"
   ]
  }
 ],
 "metadata": {
  "kernelspec": {
   "display_name": "Python 3",
   "language": "python",
   "name": "python3"
  },
  "language_info": {
   "codemirror_mode": {
    "name": "ipython",
    "version": 3
   },
   "file_extension": ".py",
   "mimetype": "text/x-python",
   "name": "python",
   "nbconvert_exporter": "python",
   "pygments_lexer": "ipython3",
   "version": "3.11.4"
  },
  "orig_nbformat": 4
 },
 "nbformat": 4,
 "nbformat_minor": 2
}
