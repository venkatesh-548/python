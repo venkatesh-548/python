{
 "cells": [
  {
   "cell_type": "code",
   "execution_count": 2,
   "metadata": {},
   "outputs": [
    {
     "name": "stdout",
     "output_type": "stream",
     "text": [
      "negative -101\n"
     ]
    }
   ],
   "source": [
    "\"\"\"wap to check wheather given val is positive or negative\"\"\"\n",
    "\n",
    "n=int(input(\"enter number:\"))\n",
    "if n>=0:\n",
    "    print(\"positive\",n)\n",
    "else:\n",
    "    print(\"negative\",n)"
   ]
  },
  {
   "cell_type": "code",
   "execution_count": 4,
   "metadata": {},
   "outputs": [
    {
     "name": "stdout",
     "output_type": "stream",
     "text": [
      "even 144\n"
     ]
    }
   ],
   "source": [
    "\"\"\" to check even or odd\"\"\"\n",
    "\n",
    "\"\"\"wap to check wheather given val is positive or negative\"\"\"\n",
    "\n",
    "n=int(input(\"enter number:\"))\n",
    "if n%2==0:\n",
    "    print(\"even\",n**2)\n",
    "else:\n",
    "    print(\"odd\",n**3)"
   ]
  },
  {
   "cell_type": "code",
   "execution_count": 11,
   "metadata": {},
   "outputs": [
    {
     "name": "stdout",
     "output_type": "stream",
     "text": [
      "{20, 100, 200, 10, 30}\n",
      "{10, 20, (100, 200, 30)}\n"
     ]
    }
   ],
   "source": [
    "\"\"\" wap to check wheather given val is multival dt or not, if it is multival dt store it in set\"\"\"\n",
    "\n",
    "s={10,20}\n",
    "a=(100,200,30)\n",
    "if type(a) in [tuple,str]:\n",
    "    s|=set(a)\n",
    "    print(s)\n",
    "\n",
    "s={10,20}\n",
    "a=(100,200,30)\n",
    "if type(a) in [tuple,str]:\n",
    "    s|={a}\n",
    "    print(s)\n",
    "\n",
    "#if we take the mutable data type set will not accept the mutable datatype"
   ]
  },
  {
   "cell_type": "code",
   "execution_count": 13,
   "metadata": {},
   "outputs": [
    {
     "name": "stdout",
     "output_type": "stream",
     "text": [
      "it is palindrome\n",
      "malay\n",
      "not palindrome malayalan\n"
     ]
    }
   ],
   "source": [
    "\"\"\"wap to check wheather given string is palindrome or not\"\"\"\n",
    "\n",
    "s=\"malayalam\"\n",
    "if s[::-1]==s[::1]:\n",
    "    print(\"it is palindrome\")\n",
    "    res=s[0:(len(s)//2+1):1]\n",
    "    print(res)\n",
    "else:\n",
    "    print(\"not palindrome\",s)\n",
    "\n",
    "s=\"malayalan\"\n",
    "if s[::-1]==s[::1]:\n",
    "    print(\"it is palindrome\")\n",
    "    res=s[0:(len(s)//2+1):1]\n",
    "    print(res)\n",
    "else:\n",
    "    print(\"not palindrome\",s)\n",
    "    "
   ]
  },
  {
   "cell_type": "code",
   "execution_count": 1,
   "metadata": {},
   "outputs": [
    {
     "name": "stdout",
     "output_type": "stream",
     "text": [
      "AaBbcAB\n"
     ]
    }
   ],
   "source": [
    "\"\"\" wap to check the starting char and the middle char are in the sequence or not if sequence extract the two and append in the string \"\"\"\n",
    "\n",
    "s=\"AaBbc\"\n",
    "a=(ord(s[0])+1)\n",
    "b=(ord(s[len(s)//2]))\n",
    "if a==b:\n",
    "    s+=s[0]+s[len(s)//2]\n",
    "print(s)\n",
    "\n",
    "\n",
    "\n"
   ]
  },
  {
   "cell_type": "code",
   "execution_count": 5,
   "metadata": {},
   "outputs": [
    {
     "name": "stdout",
     "output_type": "stream",
     "text": [
      "66\n",
      "66\n",
      "AaBbcAB\n"
     ]
    }
   ],
   "source": [
    "\n",
    "s=\"AaBbc\"\n",
    "print(ord(s[0])+1)\n",
    "print(ord(s[len(s)//2]))\n",
    "\n",
    "if ord(s[0])+1==ord(s[len(s)//2]):\n",
    "    s+=s[0]+s[len(s)//2]\n",
    "    print(s)\n",
    "else:\n",
    "    print(s)"
   ]
  },
  {
   "cell_type": "code",
   "execution_count": 124,
   "metadata": {},
   "outputs": [
    {
     "name": "stdout",
     "output_type": "stream",
     "text": [
      "1221\n",
      "the given num is palindrome\n"
     ]
    }
   ],
   "source": [
    "# to check the given number is palindrome or not\n",
    "\n",
    "n=1221\n",
    "s=str(n)\n",
    "print(s)\n",
    "if s[::1]==s[::-1]:\n",
    "    print(\"the given num is palindrome\")\n",
    "else:\n",
    "    print(\"not palindrome\")\n",
    "    "
   ]
  },
  {
   "cell_type": "code",
   "execution_count": 63,
   "metadata": {},
   "outputs": [
    {
     "name": "stdout",
     "output_type": "stream",
     "text": [
      "positive\n"
     ]
    }
   ],
   "source": [
    "#1 WAP to check whether a number is positive or negative. If Positive print positive \n",
    "#message or else print Negative Number\n",
    "\n",
    "n=int(input(\"enter number:\"))\n",
    "if n>0:\n",
    "    print(\"positive\")\n",
    "else:\n",
    "    print(\"negative\")"
   ]
  },
  {
   "cell_type": "code",
   "execution_count": 64,
   "metadata": {},
   "outputs": [
    {
     "name": "stdout",
     "output_type": "stream",
     "text": [
      "even 28\n",
      "odd 39\n"
     ]
    }
   ],
   "source": [
    "\"\"\"2 WAP to check whether a number is even or odd. If even, print message an even \n",
    "or else print message as odd.\"\"\"\n",
    "\n",
    "n=28\n",
    "if n%2==0:\n",
    "    print(\"even\",n)\n",
    "else:\n",
    "    print(\"odd\",n)\n",
    "\n",
    "n=39\n",
    "if n%2==0:\n",
    "    print(\"even\",n)\n",
    "else:\n",
    "    print(\"odd\",n)"
   ]
  },
  {
   "cell_type": "code",
   "execution_count": 65,
   "metadata": {},
   "outputs": [
    {
     "name": "stdout",
     "output_type": "stream",
     "text": [
      "greater\n",
      "9 is not greater than 10\n"
     ]
    }
   ],
   "source": [
    "\"\"\"3 Write a program to check whether a given number is greater than 10 or not. if it \n",
    "is greater than 10 print message as greater or else print that number with not a \n",
    "greater than.\"\"\"\n",
    "\n",
    "n=11\n",
    "if n>10:\n",
    "    print(\"greater\")\n",
    "else:\n",
    "    print(n,\"not greater than 10\")\n",
    "\n",
    "n=9\n",
    "if n>10:\n",
    "    print(\"greater\")\n",
    "else:\n",
    "    print(n,\"is not greater than 10\")"
   ]
  },
  {
   "cell_type": "code",
   "execution_count": 66,
   "metadata": {},
   "outputs": [
    {
     "name": "stdout",
     "output_type": "stream",
     "text": [
      "good morning\n",
      "good evening\n"
     ]
    }
   ],
   "source": [
    "\"\"\"4 WAP to check whether the given two input numbers are divisible by 3 and 5. If it \n",
    "is divisible, print “Good Morning”, if it is not divisible print “Good Evening”.\"\"\"\n",
    "\n",
    "n=90\n",
    "if n%3==0 and n%5==0:\n",
    "    print(\"good morning\")\n",
    "else:\n",
    "    print(\"good evening\")\n",
    "\n",
    "n=80\n",
    "if n%3==0 and n%5==0:\n",
    "    print(\"good morning\")\n",
    "else:\n",
    "    print(\"good evening\")\n"
   ]
  },
  {
   "cell_type": "code",
   "execution_count": 127,
   "metadata": {},
   "outputs": [
    {
     "name": "stdout",
     "output_type": "stream",
     "text": [
      "1600\n",
      "('30', '40')\n"
     ]
    }
   ],
   "source": [
    "\"\"\"5 WAP to accept two integers and check whether those two values are equal or not.\n",
    "If equal, multiply to value or else to display the quotation value. \"\"\"\n",
    "\n",
    "a=40\n",
    "b=40\n",
    "if a==b:\n",
    "    res=a*b\n",
    "else:\n",
    "    res=str(a),str(b)\n",
    "print(res)\n",
    "\n",
    "a=30\n",
    "b=40\n",
    "if a==b:\n",
    "    res=a*b\n",
    "else:\n",
    "    res=str(a),str(b)\n",
    "print(res)"
   ]
  },
  {
   "cell_type": "code",
   "execution_count": 68,
   "metadata": {},
   "outputs": [
    {
     "name": "stdout",
     "output_type": "stream",
     "text": [
      "45 is greater\n"
     ]
    }
   ],
   "source": [
    "#6 WAP to find the largest of two numbers.\n",
    "\n",
    "n1=45\n",
    "n2=35\n",
    "if n1<n2:\n",
    "    print(n2,\"is greater\")\n",
    "else:\n",
    "    print(n1,\"is greater\")\n"
   ]
  },
  {
   "cell_type": "code",
   "execution_count": 128,
   "metadata": {},
   "outputs": [
    {
     "name": "stdout",
     "output_type": "stream",
     "text": [
      "11 is greater than 10\n"
     ]
    }
   ],
   "source": [
    "\"\"\"7 WAP to check whether the input number is greater than 10 or not if it is greater \n",
    "than 10 print messages as greater with number. if it is not a greater than 10 print \n",
    "that number.\"\"\"\n",
    "\n",
    "n=11\n",
    "if n>10:\n",
    "    print(f'{n} is greater than 10')\n",
    "else:\n",
    "    print(f'{n} is greater than 10')"
   ]
  },
  {
   "cell_type": "code",
   "execution_count": 130,
   "metadata": {},
   "outputs": [
    {
     "name": "stdout",
     "output_type": "stream",
     "text": [
      "-63\n",
      "14\n"
     ]
    }
   ],
   "source": [
    "\"\"\"8 WAP to the given number integer, if n is greater than 21,print the absolute \n",
    "difference between n and 21 otherwise print twice the absolute difference.\"\"\"\n",
    "\n",
    "n=84\n",
    "if n>0 and n>21:\n",
    "    diff=-1*(n-21)\n",
    "else:\n",
    "    diff=2*(21-n)\n",
    "print(diff)\n",
    "\n",
    "n=14\n",
    "if n>0 and n>21:\n",
    "    diff=n-21\n",
    "else:\n",
    "    diff=2*(21-n)\n",
    "print(diff)\n"
   ]
  },
  {
   "cell_type": "code",
   "execution_count": 71,
   "metadata": {},
   "outputs": [
    {
     "name": "stdout",
     "output_type": "stream",
     "text": [
      "201\n",
      "200\n"
     ]
    }
   ],
   "source": [
    "\"\"\"9 WAP to check whether the given number is even or odd. If it is even then make \n",
    "it as an add number, if it is an odd number then make it as even number.\"\"\"\n",
    "\n",
    "n=200\n",
    "if n%2==0:\n",
    "    n=n+1\n",
    "else:\n",
    "    n=n-1\n",
    "print(n)\n",
    "n=201\n",
    "if n%2==0:\n",
    "    n=n+1\n",
    "else:\n",
    "    n=n-1\n",
    "print(n)"
   ]
  },
  {
   "cell_type": "code",
   "execution_count": 72,
   "metadata": {},
   "outputs": [
    {
     "name": "stdout",
     "output_type": "stream",
     "text": [
      "35 is smaller\n"
     ]
    }
   ],
   "source": [
    "#10 WAP to find the smallest of two numbers\n",
    "\n",
    "n1=45\n",
    "n2=35\n",
    "if n1<n2:\n",
    "    print(n1,\"is smaller\")\n",
    "else:\n",
    "    print(n2,\"is smaller\")"
   ]
  },
  {
   "cell_type": "code",
   "execution_count": 73,
   "metadata": {},
   "outputs": [
    {
     "name": "stdout",
     "output_type": "stream",
     "text": [
      "number: 39\n",
      "125\n"
     ]
    }
   ],
   "source": [
    "\"\"\"11 WAP to check whether the given number is divisible by 3 or not if yes, print the \n",
    "number or else print the cube of the numbers.\"\"\"\n",
    "\n",
    "n=39\n",
    "if n%3==0:\n",
    "    print(\"number:\",n)\n",
    "else:\n",
    "    print(n**3)\n",
    "\n",
    "n=5\n",
    "if n%3==0:\n",
    "    print(\"number:\",n)\n",
    "else:\n",
    "    print(n**3)"
   ]
  },
  {
   "cell_type": "code",
   "execution_count": 74,
   "metadata": {},
   "outputs": [
    {
     "name": "stdout",
     "output_type": "stream",
     "text": [
      "(90, <class 'int'>)\n",
      "<class 'str'>\n"
     ]
    }
   ],
   "source": [
    "\"\"\"12 WAP to check whether the given input is divisible by 3 and 5. If yes print the \n",
    "actual number or else print string of that number.\"\"\"\n",
    "\n",
    "n=90\n",
    "if n%3==0 and n%5==0:\n",
    "    res=n,type(n)\n",
    "else:\n",
    "    res=str(n)\n",
    "print(res)\n",
    "\n",
    "n=80\n",
    "if n%3==0 and n%5==0:\n",
    "    res=n\n",
    "else:\n",
    "    res=str(n)\n",
    "    res=type(res)\n",
    "print(res)\n"
   ]
  },
  {
   "cell_type": "code",
   "execution_count": 75,
   "metadata": {},
   "outputs": [
    {
     "name": "stdout",
     "output_type": "stream",
     "text": [
      "361\n",
      "8000\n"
     ]
    }
   ],
   "source": [
    "\"\"\"13 WAP to check whether the given number lies between 1 to 19, if it is true square \n",
    "that number or else false cube that number and display the number.\"\"\"\n",
    "\n",
    "n=19\n",
    "if 1<=n<=19:\n",
    "    res=n**2\n",
    "else:\n",
    "    res=n**3\n",
    "print(res)\n",
    "\n",
    "n=20\n",
    "if 1<=n<=19:\n",
    "    res=n**2\n",
    "else:\n",
    "    res=n**3\n",
    "print(res)"
   ]
  },
  {
   "cell_type": "code",
   "execution_count": 76,
   "metadata": {},
   "outputs": [
    {
     "name": "stdout",
     "output_type": "stream",
     "text": [
      "('passed', 91)\n",
      "('failed', 39)\n"
     ]
    }
   ],
   "source": [
    "\"\"\"14 WAP to check whether the student has passed or failed. If the student got more \n",
    "than 40 marks, print ‘PASS’ along with those marks, if it is not printed ‘FAIL’ along \n",
    "with those marks\"\"\"\n",
    "\n",
    "marks=91\n",
    "if marks>40:\n",
    "    res=(\"passed\",marks)\n",
    "else:\n",
    "    res=(\"failed\",marks)\n",
    "print(res)\n",
    "\n",
    "marks=39\n",
    "if marks>40:\n",
    "    res=(\"passed\",marks)\n",
    "else:\n",
    "    res=(\"failed\",marks)\n",
    "print(res)"
   ]
  },
  {
   "cell_type": "code",
   "execution_count": 77,
   "metadata": {},
   "outputs": [
    {
     "name": "stdout",
     "output_type": "stream",
     "text": [
      "4\n",
      "11\n"
     ]
    }
   ],
   "source": [
    "\"\"\"15 WAP to check whether a given value is even and in range of 47 to 58 and not in 0 \n",
    "or odd. if condition is True, to perform display the ascii character. or else to \n",
    "perform floor division with 5 and display it.\"\"\"\n",
    "\n",
    "n=52\n",
    "if 47<=n<58 and n!=0 and n%2==0:\n",
    "    res=chr(n)\n",
    "else:\n",
    "    res=n//5\n",
    "print(res)\n",
    "\n",
    "n=58\n",
    "if 47<=n<58 and n!=0 and n%2==0:\n",
    "    res=chr(n)\n",
    "else:\n",
    "    res=n//5\n",
    "print(res)"
   ]
  },
  {
   "cell_type": "code",
   "execution_count": 78,
   "metadata": {},
   "outputs": [
    {
     "name": "stdout",
     "output_type": "stream",
     "text": [
      "{67: 'C'}\n",
      "[47]\n"
     ]
    }
   ],
   "source": [
    "\"\"\"16 WAP to check whether a given value is less than 125 and in between 47 to 125 or \n",
    "not. if condition is True, to perform store the given value as key and value as a \n",
    "character into the dict or else to append the value in list and display it.\"\"\"\n",
    "\n",
    "l=[]\n",
    "d={}\n",
    "n=67\n",
    "if 47<n<125:\n",
    "    d[n]=chr(n)\n",
    "    res=d\n",
    "else:\n",
    "    l+=[n]\n",
    "    res=l\n",
    "print(res)\n",
    "\n",
    "l=[]\n",
    "d={}\n",
    "n=47\n",
    "if 47<n<125:\n",
    "    d[n]=chr(n)\n",
    "    res=d\n",
    "else:\n",
    "    l+=[n]\n",
    "    res=l\n",
    "print(res)\n"
   ]
  },
  {
   "cell_type": "code",
   "execution_count": 79,
   "metadata": {},
   "outputs": [
    {
     "name": "stdout",
     "output_type": "stream",
     "text": [
      "alphabet a\n",
      "not a alphabet /\n"
     ]
    }
   ],
   "source": [
    "\"\"\"17 WAP to check whether a given character is in the alphabet or not. if alphabet, \n",
    "display the alphabet with character or else display the not alphabet with \n",
    "character.\"\"\"\n",
    "\n",
    "ch=\"a\"\n",
    "if \"a\"<=ch<=\"z\" or \"A\"<=ch<=\"Z\":\n",
    "    print(\"alphabet\",ch)\n",
    "else:\n",
    "    print(\"not a alphabet\",ch)\n",
    "\n",
    "ch=\"/\"\n",
    "if \"a\"<=ch<=\"z\" or \"A\"<=ch<=\"Z\":\n",
    "    print(\"alphabet\",ch)\n",
    "else:\n",
    "    print(\"not a alphabet\",ch)\n"
   ]
  },
  {
   "cell_type": "code",
   "execution_count": 80,
   "metadata": {},
   "outputs": [
    {
     "name": "stdout",
     "output_type": "stream",
     "text": [
      "('uppercase', 'A')\n",
      "('other character', '@')\n"
     ]
    }
   ],
   "source": [
    "\"\"\"18 WAP to check whether a given character is in the alphabet or not. if alphabet, \n",
    "display the alphabet with character or else display the not alphabet with \n",
    "character.\"\"\"\n",
    "ch=\"A\"\n",
    "if \"A\"<=ch<=\"Z\":\n",
    "    res=\"uppercase\",ch\n",
    "else:\n",
    "    res=\"other character\",ch\n",
    "print(res)\n",
    "\n",
    "ch=\"@\"\n",
    "if \"A\"<=ch<=\"Z\":\n",
    "    res=\"uppercase\",ch\n",
    "else:\n",
    "    res=\"other character\",ch\n",
    "print(res)"
   ]
  },
  {
   "cell_type": "code",
   "execution_count": 81,
   "metadata": {},
   "outputs": [
    {
     "name": "stdout",
     "output_type": "stream",
     "text": [
      "('lowercase', 'b')\n",
      "('other character', '&')\n"
     ]
    }
   ],
   "source": [
    "\"\"\"19 WAP to check whether a given character is lowercase or other character. if \n",
    "lowercase, display the lowercase with character or else display the other\n",
    "character with character.\"\"\"\n",
    "ch=\"b\"\n",
    "if \"a\"<=ch<=\"z\":\n",
    "    res=\"lowercase\",ch\n",
    "else:\n",
    "    res=\"other character\",ch\n",
    "print(res)\n",
    "\n",
    "ch=\"&\"\n",
    "if \"a\"<=ch<=\"z\":\n",
    "    res=\"lowercase\",ch\n",
    "else:\n",
    "    res=\"other character\",ch\n",
    "print(res)"
   ]
  },
  {
   "cell_type": "code",
   "execution_count": 82,
   "metadata": {},
   "outputs": [
    {
     "name": "stdout",
     "output_type": "stream",
     "text": [
      "a\n",
      "36\n"
     ]
    }
   ],
   "source": [
    "\"\"\"20 WAP to check whether a given character is uppercase or other character. if \n",
    "uppercase, convert to lowercase .or else display the ascii number\"\"\"\n",
    "\n",
    "ch=\"A\"\n",
    "if \"A\"<=ch<=\"Z\":\n",
    "    res=chr(ord(ch)+32)\n",
    "else:\n",
    "    res=ord(ch)\n",
    "print(res)\n",
    "\n",
    "ch=\"$\"\n",
    "if \"A\"<=ch<=\"Z\":\n",
    "    res=chr(ord(ch)+32)\n",
    "else:\n",
    "    res=ord(ch)\n",
    "print(res)"
   ]
  },
  {
   "cell_type": "code",
   "execution_count": 83,
   "metadata": {},
   "outputs": [
    {
     "name": "stdout",
     "output_type": "stream",
     "text": [
      "T\n",
      "y\n"
     ]
    }
   ],
   "source": [
    "\"\"\"21 WAP to check whether the given character is in lowercase or uppercase. If it is \n",
    "in lowercase, convert it into uppercase, or else it is in uppercase and convert it \n",
    "into lowercase. Display the value.\"\"\"\n",
    "\n",
    "ch=\"t\"\n",
    "if \"A\"<=ch<=\"Z\":\n",
    "    res=chr(ord(ch)+32)\n",
    "elif \"a\"<=ch<=\"z\":\n",
    "    res=chr(ord(ch)-32)\n",
    "else:\n",
    "    None\n",
    "print(res)\n",
    "\n",
    "ch=\"Y\"\n",
    "if \"A\"<=ch<=\"Z\":\n",
    "    res=chr(ord(ch)+32)\n",
    "elif \"a\"<=ch<=\"z\":\n",
    "    res=chr(ord(ch)-32)\n",
    "else:\n",
    "    None\n",
    "print(res)"
   ]
  },
  {
   "cell_type": "code",
   "execution_count": 84,
   "metadata": {},
   "outputs": [
    {
     "name": "stdout",
     "output_type": "stream",
     "text": [
      "@t\n",
      "h\n",
      "noh\n"
     ]
    }
   ],
   "source": [
    "\"\"\"22 WAP to check whether the given string of the first character is a special symbol \n",
    "or not. If a special symbol, to extract and display the middle character or else to \n",
    "reverse the string and display the half of the string.\"\"\"\n",
    "\n",
    "s=\"@python\"\n",
    "if 0<=ord(s[0])<=47 or 58<=ord(s[0])<=64 or 91<=ord(s[0])<=96 or 123<=ord(s[0])<=127:\n",
    "    res=s[0]+s[len(s)//2]\n",
    "else:\n",
    "    res=s[-1:s[len(s)//2]]\n",
    "print(res)\n",
    "\n",
    "s=\"python\"\n",
    "b=s[len(s)//2]\n",
    "print(b)\n",
    "if 0<=ord(s[0])<=47 or 58<=ord(s[0])<=64 or 91<=ord(s[0])<=96 or 123<=ord(s[0])<=127:\n",
    "    res=s[0]+b\n",
    "else:\n",
    "    res=s[-1:-len(s)//2-1:-1]\n",
    "    \n",
    "print(res)"
   ]
  },
  {
   "cell_type": "code",
   "execution_count": 85,
   "metadata": {},
   "outputs": [
    {
     "name": "stdout",
     "output_type": "stream",
     "text": [
      "64\n",
      "48\n",
      "57\n",
      "65\n",
      "90\n",
      "97\n",
      "122\n",
      "\n",
      "\n"
     ]
    }
   ],
   "source": [
    "s=\"@python\"\n",
    "print(ord(s[0]))\n",
    "print(ord(\"0\"))\n",
    "print(ord(\"9\"))\n",
    "print(ord(\"A\"))\n",
    "print(ord(\"Z\"))\n",
    "print(ord(\"a\"))\n",
    "print(ord(\"z\"))\n",
    "print(chr(129))\n",
    "print(chr(128))\n"
   ]
  },
  {
   "cell_type": "code",
   "execution_count": 86,
   "metadata": {},
   "outputs": [
    {
     "name": "stdout",
     "output_type": "stream",
     "text": [
      "('VOWEL', 'a')\n",
      "CONSONANT\n"
     ]
    }
   ],
   "source": [
    "\"\"\"23 WAP to check whether the input character is a vowel or not. If it is vowel print \n",
    "‘VOWEL’ along with that character, if it is not just print ‘CONSONANT’. \"\"\"\n",
    "\n",
    "\n",
    "ch=\"a\"\n",
    "if ch in \"AEIOUaeiou\":\n",
    "    res=\"VOWEL\",ch\n",
    "else:\n",
    "    res=\"CONSONANT\"\n",
    "print(res)\n",
    "ch=\"z\"\n",
    "if ch in \"AEIOUaeiou\":\n",
    "    res=\"VOWEL\",ch\n",
    "else:\n",
    "    res=\"CONSONANT\"\n",
    "print(res)\n"
   ]
  },
  {
   "cell_type": "code",
   "execution_count": 87,
   "metadata": {},
   "outputs": [
    {
     "name": "stdout",
     "output_type": "stream",
     "text": [
      "v\n",
      "s\n"
     ]
    }
   ],
   "source": [
    "\"\"\"24 WAP to check whether a given character is a vowel or consonant. if vowel, to \n",
    "print the next character of a given character or else print previous characters.\"\"\"\n",
    "ch=\"u\"\n",
    "if ch in \"AEIOUaeiou\":\n",
    "    res=chr(ord(ch)+1)\n",
    "else:\n",
    "    res=chr(ord(ch)-1)\n",
    "print(res)\n",
    "ch=\"t\"\n",
    "if ch in \"AEIOUaeiou\":\n",
    "    res=chr(ord(ch)+1)\n",
    "else:\n",
    "    res=chr(ord(ch)-1)\n",
    "print(res)"
   ]
  },
  {
   "cell_type": "code",
   "execution_count": 88,
   "metadata": {},
   "outputs": [
    {
     "name": "stdout",
     "output_type": "stream",
     "text": [
      "sgnirts\n",
      "r\n"
     ]
    }
   ],
   "source": [
    "\"\"\"25 WAP to check whether a given string of first character is alphabet or not\n",
    "if the alphabet prints, reverse the string or else print the middle character. \"\"\"\n",
    "s=\"strings\"\n",
    "if \"a\"<=s[0]<=\"z\" or \"A\"<=s[0]<=\"Z\":\n",
    "    res=s[::-1]\n",
    "else:\n",
    "    res=s[len(s)//2]\n",
    "print(res)\n",
    "\n",
    "s=\"$string\"\n",
    "if \"a\"<=s[0]<=\"z\" or \"A\"<=s[0]<=\"Z\":\n",
    "    res=s[::-1]\n",
    "else:\n",
    "    res=s[len(s)//2]\n",
    "print(res)\n"
   ]
  },
  {
   "cell_type": "code",
   "execution_count": 89,
   "metadata": {},
   "outputs": [
    {
     "name": "stdout",
     "output_type": "stream",
     "text": [
      "T\n",
      "y\n"
     ]
    }
   ],
   "source": [
    "\"\"\"26 WAP to check whether the given input character is uppercase or lowercase. If \n",
    "the input character is upper case convert into lower case and vice versa\"\"\"\n",
    "\n",
    "ch=\"t\"\n",
    "if \"A\"<=ch<=\"Z\":\n",
    "    res=chr(ord(ch)+32)\n",
    "elif \"a\"<=ch<=\"z\":\n",
    "    res=chr(ord(ch)-32)\n",
    "else:\n",
    "    None\n",
    "print(res)\n",
    "\n",
    "ch=\"Y\"\n",
    "if \"A\"<=ch<=\"Z\":\n",
    "    res=chr(ord(ch)+32)\n",
    "elif \"a\"<=ch<=\"z\":\n",
    "    res=chr(ord(ch)-32)\n",
    "else:\n",
    "    None\n",
    "print(res)"
   ]
  },
  {
   "cell_type": "code",
   "execution_count": 90,
   "metadata": {},
   "outputs": [
    {
     "name": "stdout",
     "output_type": "stream",
     "text": [
      "lo\n",
      "hi\n"
     ]
    }
   ],
   "source": [
    "\"\"\"27 WAP to check whether a given string is less than 3 characters, to print the entire \n",
    "string otherwise to print after third positions to the remaining string.\"\"\"\n",
    "\n",
    "s=\"hello\"\n",
    "if len(s)<3:\n",
    "    res=s\n",
    "else:\n",
    "    res=s[3:]\n",
    "print(res)\n",
    "\n",
    "s=\"hi\"\n",
    "if len(s)<3:\n",
    "    res=s\n",
    "else:\n",
    "    res=s[3:]\n",
    "print(res)"
   ]
  },
  {
   "cell_type": "code",
   "execution_count": 91,
   "metadata": {},
   "outputs": [
    {
     "name": "stdout",
     "output_type": "stream",
     "text": [
      "qspiders bye\n",
      "ps\n"
     ]
    }
   ],
   "source": [
    "\"\"\"28 WAP to check whether a given length of the string is even or not. if even, to \n",
    "append the new string called \"bye\" or else print the first and last characters.\"\"\"\n",
    "\n",
    "s=\"qspiders\"\n",
    "if len(s)%2==0:\n",
    "    res=s+\" bye\"\n",
    "else:\n",
    "    res=s[0]+s[-1]\n",
    "print(res)\n",
    "\n",
    "s=\"pyspiders\"\n",
    "if len(s)%2==0:\n",
    "    res=s+\" bye\"\n",
    "else:\n",
    "    res=s[0]+s[-1]\n",
    "print(res)\n"
   ]
  },
  {
   "cell_type": "code",
   "execution_count": 92,
   "metadata": {},
   "outputs": [
    {
     "name": "stdout",
     "output_type": "stream",
     "text": [
      "hai pyspiders\n",
      "spider\n"
     ]
    }
   ],
   "source": [
    "\"\"\"29 WAP to check whether a given length of the string is odd or not. if odd, to append \n",
    "the new string(\"Haii\") from the starting of the given string, or else to avoid the \n",
    "starting character and ending character of the given\n",
    "string and to display the remaining characters.\"\"\"\n",
    "\n",
    "s=\"pyspiders\"\n",
    "if len(s)%2!=0:\n",
    "    res=\"hai \"+s\n",
    "else:\n",
    "    res=s[1:len(s)-1:1]\n",
    "print(res)\n",
    "\n",
    "s=\"qspiders\"\n",
    "if len(s)%2!=0:\n",
    "    res=\"hai \"+s\n",
    "else:\n",
    "    res=s[1:len(s)-1:1]\n",
    "print(res)"
   ]
  },
  {
   "cell_type": "code",
   "execution_count": 93,
   "metadata": {},
   "outputs": [
    {
     "name": "stdout",
     "output_type": "stream",
     "text": [
      "redips\n",
      "ders\n"
     ]
    }
   ],
   "source": [
    "\"\"\"30 WAP to check whether the last of the given string is a special character or not, if \n",
    "the special character prints reverse the string except the last character or else to \n",
    "check if the length of the string is odd or not, if odd to extract the middle \n",
    "character to the end of the string\"\"\"\n",
    "\n",
    "s=\"spider@\"\n",
    "if 0<=ord(s[-1])<=47 or 58<=ord(s[-1])<=64 or 91<=ord(s[-1])<=96 or 123<=ord(s[-1])<=127:\n",
    "    res=s[-2::-1]\n",
    "else:\n",
    "    if len(s)%2!=0:\n",
    "        res=s[len(s)//2::]\n",
    "print(res)\n",
    "\n",
    "s=\"spiders\"\n",
    "if 0<=ord(s[-1])<=47 or 58<=ord(s[-1])<=64 or 91<=ord(s[-1])<=96 or 123<=ord(s[-1])<=127:\n",
    "    res=s[-2::-1]\n",
    "else:\n",
    "    if len(s)%2!=0:\n",
    "        res=s[len(s)//2::]\n",
    "print(res)\n"
   ]
  },
  {
   "cell_type": "code",
   "execution_count": 94,
   "metadata": {},
   "outputs": [
    {
     "name": "stdout",
     "output_type": "stream",
     "text": [
      "1900 not leap year\n",
      "1900 not leap year\n"
     ]
    }
   ],
   "source": [
    "\"\"\"31 WAP to check whether a given year is a leap year or not. if leap year, print leap \n",
    "year or else not a leap year.\"\"\"\n",
    "\n",
    "\n",
    "y=1900\n",
    "if y%4==0:\n",
    "    if y%100==0:\n",
    "        if y%400==0:\n",
    "            print(f\"{y} leap year\")\n",
    "        else:\n",
    "            print(f\"{y} not leap year\")\n",
    "    else:\n",
    "        print(f\"{y} Leap year\")\n",
    "else:\n",
    "    print(f\"{y} not leap year\")\n",
    "\n",
    "#anothor method using if-else\n",
    "\n",
    "y=1900\n",
    "if (y%4==0 and y%100!=0) or y%400==0:\n",
    "    print(f'{y} leap year')\n",
    "else:\n",
    "    print(f\"{y} not leap year\")"
   ]
  },
  {
   "cell_type": "code",
   "execution_count": 95,
   "metadata": {},
   "outputs": [
    {
     "name": "stdout",
     "output_type": "stream",
     "text": [
      "greatest 100\n"
     ]
    }
   ],
   "source": [
    "\"\"\"32 WAP to find out the greatest of two numbers and display the greatest number. if \n",
    "the greatest number, display the greatest message with value.\"\"\"\n",
    "\n",
    "n1=100\n",
    "n2=46\n",
    "if n1>n2:\n",
    "    print(\"greatest\",n1)\n",
    "else:\n",
    "    print(\"greatest\",n2)"
   ]
  },
  {
   "cell_type": "code",
   "execution_count": 96,
   "metadata": {},
   "outputs": [
    {
     "name": "stdout",
     "output_type": "stream",
     "text": [
      "the value is present in the given collection\n"
     ]
    }
   ],
   "source": [
    "\"\"\"33 WAP to check whether the given value is present inside the given collection or \n",
    "not.if value is present, display the value is available or else the value is not \n",
    "present.\"\"\"\n",
    "\n",
    "l=[1,2,3,4,5,6,7]\n",
    "if 5 in l:\n",
    "    print(\"the value is present in the given collection\")\n",
    "else:\n",
    "    print(\"not present in the given collection\")"
   ]
  },
  {
   "cell_type": "code",
   "execution_count": 97,
   "metadata": {},
   "outputs": [
    {
     "name": "stdout",
     "output_type": "stream",
     "text": [
      "rpides\n",
      "hihihi\n"
     ]
    }
   ],
   "source": [
    "\"\"\"34 WAP whether a given string, if string length is more than 2, then it displays a new \n",
    "string with the first and last characters switched, otherwise the display the 3 \n",
    "copies of given string.\"\"\"\n",
    "\n",
    "s=\"spider\"\n",
    "if len(s)>2:\n",
    "    res=s[-1]+s[1:len(s)-1]+s[0]\n",
    "else:\n",
    "    res=s*3\n",
    "print(res)\n",
    "\n",
    "s=\"hi\"\n",
    "if len(s)>2:\n",
    "    res=s[-1]+s[1:len(s)-1]+s[0]\n",
    "else:\n",
    "    res=s*3\n",
    "print(res)"
   ]
  },
  {
   "cell_type": "code",
   "execution_count": 98,
   "metadata": {},
   "outputs": [
    {
     "name": "stdout",
     "output_type": "stream",
     "text": [
      "[3.3333333333333335, 20, 30, 40, -51]\n",
      "25\n"
     ]
    }
   ],
   "source": [
    "\"\"\"35 WAP to check whether a given value is a list and first and last values should be \n",
    "integer if condition is satisfied first value is True division by 3 and perform the \n",
    "bitwise not for last value and those result values are stored in same positions in \n",
    "given list or else, to perform length of the collection power by 2 and display \n",
    "value. \"\"\"\n",
    "\n",
    "l=[10,20,30,40,50]\n",
    "if type(l)==list and type(l[0])==int and type(l[-1])==int:\n",
    "    l[0]=l[0]/3\n",
    "    l[-1]=~l[-1]\n",
    "    res=l\n",
    "else:\n",
    "    res=len(l)**2\n",
    "print(res)\n",
    "\n",
    "l=[10,20,30,40,\"a\"]\n",
    "if type(l)==list and type(l[0])==int and type(l[-1])==int:\n",
    "    l[0]=l[0]/3\n",
    "    l[-1]=~l[-1]\n",
    "    res=l\n",
    "else:\n",
    "    res=len(l)**2\n",
    "print(res)"
   ]
  },
  {
   "cell_type": "code",
   "execution_count": 99,
   "metadata": {},
   "outputs": [
    {
     "name": "stdout",
     "output_type": "stream",
     "text": [
      "condhaiition\n",
      "pythonpythonpython\n"
     ]
    }
   ],
   "source": [
    "\"\"\"36 WAP to check whether a given value is a string or not and length of the value \n",
    "should be more than 7, if condition is satisfied to append the new string in the \n",
    "middle of the given string or else to perform the replications with 3 and display \n",
    "the result.\"\"\"\n",
    "\n",
    "s=\"condition\"\n",
    "if type(s)==str and len(s)>7:\n",
    "    res=s[0:len(s)//2]+\"hai\"+s[len(s)//2:]\n",
    "else:\n",
    "    res=s*3\n",
    "print(res)\n",
    "\n",
    "s=\"python\"\n",
    "if type(s)==str and len(s)>7:\n",
    "    res=s[0:len(s)//2]+\"hai\"+s[len(s)//2:]\n",
    "else:\n",
    "    res=s*3\n",
    "print(res)"
   ]
  },
  {
   "cell_type": "code",
   "execution_count": 100,
   "metadata": {},
   "outputs": [
    {
     "name": "stdout",
     "output_type": "stream",
     "text": [
      "ABced\n",
      "cbAcde\n"
     ]
    }
   ],
   "source": [
    "\"\"\"37 WAP to check if the given string of first and second character should be sequence \n",
    "or not. if the sequence prints the first, second and last two characters, or else the \n",
    "first half string is reversed and the remaining half string should be normal and \n",
    "display it. \"\"\"\n",
    "\n",
    "s=\"ABcde\"\n",
    "if ord(s[0])+1==ord(s[1]):\n",
    "    res=s[:3]+s[-1:-3:-1]\n",
    "else:\n",
    "    res=s[len(s)//2::-1]+s[len(s)//2::1]\n",
    "print(res)\n",
    "\n",
    "s=\"Abcde\"\n",
    "if ord(s[0])+1==ord(s[1]):\n",
    "    res=s[:3]+s[-1:-3:-1]\n",
    "else:\n",
    "    res=s[len(s)//2::-1]+s[len(s)//2::1]\n",
    "print(res)"
   ]
  },
  {
   "cell_type": "code",
   "execution_count": 101,
   "metadata": {},
   "outputs": [
    {
     "data": {
      "text/plain": [
       "'repeated'"
      ]
     },
     "execution_count": 101,
     "metadata": {},
     "output_type": "execute_result"
    }
   ],
   "source": [
    "\"\"\"38 WAP to check whether a given value is present inside the collection or not. If \n",
    "present, print the value or else print value is not found.\"\"\"\n",
    "\n",
    "\"repeated\""
   ]
  },
  {
   "cell_type": "code",
   "execution_count": 102,
   "metadata": {},
   "outputs": [
    {
     "name": "stdout",
     "output_type": "stream",
     "text": [
      "{'a': 10, 'b': 20, 'c': 30, 'd': 40, 'f': 50}\n",
      "cbAcde\n"
     ]
    }
   ],
   "source": [
    "\"\"\"38 WAP to check whether a given key is present in the dict or not. if key is present: \n",
    "display the value or else add key and new value inside the dict.\"\"\"\n",
    "\n",
    "d={\"a\":10,\"b\":20,\"c\":30,\"d\":40}\n",
    "n=\"f\"\n",
    "if n in d:\n",
    "    res=d[n]\n",
    "else:\n",
    "    d[n]=50\n",
    "    print(d)\n",
    "print(res)"
   ]
  },
  {
   "cell_type": "code",
   "execution_count": 103,
   "metadata": {},
   "outputs": [
    {
     "name": "stdout",
     "output_type": "stream",
     "text": [
      "{40, 'b', 10, 20, 'a', 90, 30}\n",
      "{90, 'a', 30, 10, 'b'}\n"
     ]
    }
   ],
   "source": [
    "\"\"\"39 WAP to check whether a given collection is set or not. if set, append the new \n",
    "value, or else eliminate the duplicate values in collection. final results should be \n",
    "set type\"\"\"\n",
    "\n",
    "c={10,20,30,40,\"a\",\"b\"}\n",
    "if type(c)==set:\n",
    "    d={90,}\n",
    "    c|=d\n",
    "    res=c\n",
    "else:\n",
    "    res=type(set)\n",
    "print(res)\n",
    "\n",
    "c={10,10,30,30,\"a\",\"b\"}\n",
    "if type(c)==set:\n",
    "    d={90,}\n",
    "    c|=d\n",
    "    res=c\n",
    "else:\n",
    "    res=type(set)\n",
    "print(res)\n"
   ]
  },
  {
   "cell_type": "code",
   "execution_count": 104,
   "metadata": {},
   "outputs": [
    {
     "name": "stdout",
     "output_type": "stream",
     "text": [
      "('eligible for vote', 21)\n",
      "not eligible\n"
     ]
    }
   ],
   "source": [
    "\"\"\"40 WAP to read the age of a candidate and determine whether it is eligible for \n",
    "his/her own vote or not.it eligible print age and eligible messages or else print \n",
    "not eligible.\"\"\"\n",
    "\n",
    "age=21\n",
    "if age>=18:\n",
    "    res=\"eligible for vote\",age\n",
    "else:\n",
    "    res=\"not eligible\"\n",
    "print(res)\n",
    "\n",
    "age=11\n",
    "if age>=18:\n",
    "    res=\"eligible for vote\",age\n",
    "else:\n",
    "    res=\"not eligible\"\n",
    "print(res)"
   ]
  },
  {
   "cell_type": "code",
   "execution_count": 105,
   "metadata": {},
   "outputs": [
    {
     "name": "stdout",
     "output_type": "stream",
     "text": [
      "(54, '6')\n",
      "8\n"
     ]
    }
   ],
   "source": [
    "\"\"\"41 WAP to check whether a given value is even and in between 47 to 58 and not in \n",
    "0 or odd. if condition is True, to perform display the ascii character or else to \n",
    "perform floor division with 5 and display it. \"\"\"\n",
    "\n",
    "n=54\n",
    "if 47<n<58 and n%2==0 and n!=0:\n",
    "    res=(n,chr(n))\n",
    "else:\n",
    "    res=n//5\n",
    "print(res)\n",
    "\n",
    "n=44\n",
    "if 47<n<58 and n%2==0 and n!=0:\n",
    "    res=(n,chr(n))\n",
    "else:\n",
    "    res=n//5\n",
    "print(res)"
   ]
  },
  {
   "cell_type": "code",
   "execution_count": 106,
   "metadata": {},
   "outputs": [
    {
     "name": "stdout",
     "output_type": "stream",
     "text": [
      "it is palindrome\n",
      "malay\n",
      "not palindrome malayalan\n"
     ]
    }
   ],
   "source": [
    "\"\"\"42 WAP to check whether the given string is palindrome or not if it is a palindrome \n",
    "string palindrome along with the string if it is not a palindrome print not \n",
    "palindrome\"\"\"\n",
    "\n",
    "s=\"malayalam\"\n",
    "if s[::-1]==s[::1]:\n",
    "    print(\"it is palindrome\")\n",
    "    res=s[0:(len(s)//2+1):1]\n",
    "    print(res)\n",
    "else:\n",
    "    print(\"not palindrome\",s)\n",
    "\n",
    "s=\"malayalan\"\n",
    "if s[::-1]==s[::1]:\n",
    "    print(\"it is palindrome\")\n",
    "    res=s[0:(len(s)//2+1):1]\n",
    "    print(res)\n",
    "else:\n",
    "    print(\"not palindrome\",s)"
   ]
  },
  {
   "cell_type": "code",
   "execution_count": 107,
   "metadata": {},
   "outputs": [
    {
     "name": "stdout",
     "output_type": "stream",
     "text": [
      "palindrome\n",
      "palindrome\n"
     ]
    }
   ],
   "source": [
    "\"\"\"43 WAP to check whether a given number is palindrome or not. If palindrome, \n",
    "display the given value as a palindrome or else not a palindrome.\"\"\"\n",
    "\n",
    "n=121\n",
    "s=n\n",
    "rem=0\n",
    "while n>0:\n",
    "    num=n%10\n",
    "    rem=rem*10+num\n",
    "    n=n//10\n",
    "if rem==s:\n",
    "    print(\"palindrome\")\n",
    "else:\n",
    "    print(\"not palindrome\")\n",
    "\n",
    "n=1221\n",
    "s=str(n)\n",
    "if s[::1]==s[::-1]:\n",
    "    print(\"palindrome\")\n",
    "else:\n",
    "    print(\"not palindrome\")\n",
    "\n"
   ]
  },
  {
   "cell_type": "code",
   "execution_count": 108,
   "metadata": {},
   "outputs": [
    {
     "name": "stdout",
     "output_type": "stream",
     "text": [
      "pythonprogra\n",
      "6 python\n",
      "7 program\n"
     ]
    }
   ],
   "source": [
    "\"\"\"44 WAP to check length of both string collections are equal or not. if both are equal \n",
    "print the concat the two strings and display, or else if any one of the collection \n",
    "not equal print both the collections with lengths \"\"\"\n",
    "\n",
    "s1=\"python\"\n",
    "s2=\"progra\"\n",
    "if len(s1)==len(s2):\n",
    "    s1+=s2\n",
    "    print(s1)\n",
    "else:\n",
    "    print(len(s1),s1)\n",
    "    print(len(s2),s2)\n",
    "\n",
    "s1=\"python\"\n",
    "s2=\"program\"\n",
    "if len(s1)==len(s2):\n",
    "    s1+=s2\n",
    "    print(s1)\n",
    "else:\n",
    "    print(len(s1),s1)\n",
    "    print(len(s2),s2)\n"
   ]
  },
  {
   "cell_type": "code",
   "execution_count": 109,
   "metadata": {},
   "outputs": [
    {
     "name": "stdout",
     "output_type": "stream",
     "text": [
      "[1, 5]\n",
      "3\n"
     ]
    }
   ],
   "source": [
    "\"\"\"45 WAP to check whether both given values point to the same memory location or \n",
    "not. if it is true print the middle item of the second collection, or else if it is false \n",
    "print the first item and last item of the first collection along with the memory \n",
    "address.\"\"\"\n",
    "\n",
    "a=[1,2,3,4,5]\n",
    "b=[1,2,3,4,5]\n",
    "if id(a)==id(b):\n",
    "    res=b[len(b)//2]\n",
    "else:\n",
    "    res=[a[0],a[-1]]\n",
    "print(res)\n",
    "\n",
    "a=[1,2,3,4,5]\n",
    "b=[1,2,3,4,5]\n",
    "if a==b: #it is not consider ids\n",
    "    res=b[len(b)//2]\n",
    "else:\n",
    "    res=[a[0],a[-1]]\n",
    "print(res)\n",
    "\n",
    "\n"
   ]
  },
  {
   "cell_type": "code",
   "execution_count": 110,
   "metadata": {},
   "outputs": [
    {
     "name": "stdout",
     "output_type": "stream",
     "text": [
      "215\n",
      "(112, 111, 103)\n",
      "212\n",
      "python programmindpython programmindpython programmind\n"
     ]
    }
   ],
   "source": [
    "\"\"\"46 WAP to check whether a given string collection is more than ten, and the first + \n",
    "last character of the ascii values should be divisible by 5, if condition is satisfied \n",
    "print first, middle, last characters ASCII values or else print the string three \n",
    "times.\"\"\"\n",
    "s=\"python programming\"\n",
    "a=ord(s[0])+ord(s[-1])\n",
    "print(a)\n",
    "if len(s)>10 and a%5==0:\n",
    "    res=ord(s[0]),ord(s[len(s)//2]),ord(s[-1])\n",
    "else:\n",
    "    res=s*3\n",
    "print(res)\n",
    "\n",
    "\"\"\"46 WAP to check whether a given string collection is more than ten, and the first + \n",
    "last character of the ascii values should be divisible by 5, if condition is satisfied \n",
    "print first, middle, last characters ASCII values or else print the string three \n",
    "times.\"\"\"\n",
    "s=\"python programmind\"\n",
    "a=ord(s[0])+ord(s[-1])\n",
    "print(a)\n",
    "if len(s)>10 and a%5==0:\n",
    "    res=ord(s[0]),ord(s[len(s)//2]),ord(s[-1])\n",
    "else:\n",
    "    res=s*3\n",
    "print(res)\n",
    "\n"
   ]
  },
  {
   "cell_type": "code",
   "execution_count": 111,
   "metadata": {},
   "outputs": [
    {
     "name": "stdout",
     "output_type": "stream",
     "text": [
      "[10, 20, 'hai', 40, 50]\n",
      "20\n"
     ]
    }
   ],
   "source": [
    "\"\"\"47 WAP to check whether the middle of the item present in the list is string data type \n",
    "or not if it is string print that list or else if it is not string then print that middle \n",
    "item.\"\"\"\n",
    "l=[10,20,\"hai\",40,50]\n",
    "if type(l[len(l)//2])==str:\n",
    "    res=l\n",
    "else:\n",
    "    res=l[len(l)//2]\n",
    "print(res)\n",
    "\n",
    "l=[1,2,10,20,\"hai\",40,50]\n",
    "if type(l[len(l)//2])==str:\n",
    "    res=l\n",
    "else:\n",
    "    res=l[len(l)//2]\n",
    "print(res)"
   ]
  },
  {
   "cell_type": "code",
   "execution_count": 112,
   "metadata": {},
   "outputs": [
    {
     "name": "stdout",
     "output_type": "stream",
     "text": [
      "gtrins\n"
     ]
    }
   ],
   "source": [
    "\"\"\"48 WAP Given a string, return a new string where the first and last characters have \n",
    "been exchanged\"\"\"\n",
    "\n",
    "s=\"string\"\n",
    "if type(s)==str:\n",
    "    res=s[-1]+s[1:len(s)-1:]+s[0]\n",
    "else:\n",
    "    res=str(s)\n",
    "print(res)"
   ]
  },
  {
   "cell_type": "code",
   "execution_count": 113,
   "metadata": {},
   "outputs": [
    {
     "name": "stdout",
     "output_type": "stream",
     "text": [
      "49\n",
      "140\n"
     ]
    }
   ],
   "source": [
    "\"\"\"49 Write a program to find out such numbers which are divisible by 7 but are not a \n",
    "multiple of 5. Both the conditional is satisfied and print actual value. if one \n",
    "condition is not satisfied actual number is multiply by 4 and print result\"\"\"\n",
    "\n",
    "n=49\n",
    "if n%7==0 and not(n%10==0 or n%10==5):\n",
    "    res=n\n",
    "else:\n",
    "    res=n*4\n",
    "print(res)\n",
    "\n",
    "n=35\n",
    "if n%7==0 and not(n%10==0 or n%10==5):\n",
    "    res=n\n",
    "else:\n",
    "    res=n*4\n",
    "print(res)"
   ]
  },
  {
   "cell_type": "code",
   "execution_count": 114,
   "metadata": {},
   "outputs": [
    {
     "name": "stdout",
     "output_type": "stream",
     "text": [
      "140709905949440\n",
      "(2387198371888, 2387198371600)\n"
     ]
    }
   ],
   "source": [
    "\"\"\"50 WAP to check whether two values are pointing to the same memory address or \n",
    "not. If the same memory displays the address or else displays the two values \n",
    "addresses.\"\"\"\n",
    "\n",
    "a=100\n",
    "b=100\n",
    "if id(a)==id(b):\n",
    "    res=id(a)\n",
    "else:\n",
    "    res=id(a),id(b)\n",
    "print(res)\n",
    "\n",
    "a=257\n",
    "b=257\n",
    "if id(a)==id(b): #in 64 memory block reference memory block will be creted\n",
    "    res=id(a)    #upto 256 consider as 32 bit these are same mb\n",
    "else:\n",
    "    res=id(a),id(b)\n",
    "print(res)"
   ]
  },
  {
   "cell_type": "code",
   "execution_count": 115,
   "metadata": {},
   "outputs": [
    {
     "name": "stdout",
     "output_type": "stream",
     "text": [
      "@@@\n",
      "aaaaa\n"
     ]
    }
   ],
   "source": [
    "\"\"\" 51 WAP to check whether a given input character is a special symbol or not if it is a \n",
    "special symbol then print that character three times and tell print that character \n",
    "5 times.\"\"\"\n",
    "\n",
    "s=\"@\"\n",
    "if 0<=ord(s)<=47 or 58<=ord(s)<=64 or 91<=ord(s)<=96 or 123<=ord(s)<=127:\n",
    "    res=s*3\n",
    "else:\n",
    "    res=s*5\n",
    "print(res)\n",
    "\n",
    "s=\"a\"\n",
    "if 0<=ord(s)<=47 or 58<=ord(s)<=64 or 91<=ord(s)<=96 or 123<=ord(s)<=127:\n",
    "    res=s*3\n",
    "else:\n",
    "    res=s*5\n",
    "print(res)"
   ]
  },
  {
   "cell_type": "code",
   "execution_count": 116,
   "metadata": {},
   "outputs": [
    {
     "name": "stdout",
     "output_type": "stream",
     "text": [
      "python\n",
      "('hello', 'welcome')\n"
     ]
    }
   ],
   "source": [
    "\"\"\"52 WAP to check length of both string collections equal or not if it is equal print the \n",
    "connection of any one of the collections if it is not equal print both the collection.\"\"\"\n",
    "\n",
    "s1=\"python\"\n",
    "s2=\"progra\"\n",
    "if len(s1)==len(s2):\n",
    "    res=s1\n",
    "else:\n",
    "    res=s1,s2\n",
    "print(res)\n",
    "\n",
    "s1=\"hello\"\n",
    "s2=\"welcome\"\n",
    "if len(s1)==len(s2):\n",
    "    res=s1\n",
    "else:\n",
    "    res=s1,s2\n",
    "print(res)"
   ]
  },
  {
   "cell_type": "code",
   "execution_count": 117,
   "metadata": {},
   "outputs": [
    {
     "name": "stdout",
     "output_type": "stream",
     "text": [
      "g\n",
      "1\n"
     ]
    }
   ],
   "source": [
    "\"\"\"53 WAP To check whether both input variables point to the same memory location \n",
    "or not if it is true print the last item of the second collection, if it is false print the \n",
    "first item of the first collection along with the memory address.\"\"\"\n",
    "\n",
    "a=\"string\"\n",
    "b=\"string\"\n",
    "if id(a)==id(b):\n",
    "    res=b[-1]\n",
    "else:\n",
    "    res=a[0]\n",
    "print(res)\n",
    "\n",
    "a=(1,2,3,4,5)\n",
    "b=(1,2,3,4,5)\n",
    "if id(a)==id(b):\n",
    "    res=b[-1]\n",
    "else:\n",
    "    res=a[0]\n",
    "print(res)\n",
    "\n"
   ]
  },
  {
   "cell_type": "code",
   "execution_count": 118,
   "metadata": {},
   "outputs": [
    {
     "name": "stdout",
     "output_type": "stream",
     "text": [
      "dtringdtringdtringdtringdtring\n",
      "h\n",
      "stringstringstring\n"
     ]
    }
   ],
   "source": [
    "\"\"\" 54 WAP to print the string collection five times when the length of the string \n",
    "collection should be more than 3 and the middle character of the string should \n",
    "be vowel and the first character ASCII value should be even, to print the previous \n",
    "character of middle character, or else if ASCII value is odd then print the string \n",
    "three times as print that string\"\"\"\n",
    "\n",
    "s=\"dtring\"\n",
    "if len(s)>3 and s[len(s)//2] in \"AEIOUaeiou\" and ord(s[0])%2==0:\n",
    "    print(s*5)\n",
    "    res=chr(ord(s[len(s)//2])-1)\n",
    "else:\n",
    "    if ord(s[0])%2!=0:\n",
    "        res=s*3\n",
    "print(res)\n",
    "\n",
    "\n",
    "s=\"string\"\n",
    "if len(s)>3 and s[len(s)//2] in \"AEIOUaeiou\" and ord(s[0])%2==0:\n",
    "    print(s*5)\n",
    "    res=chr(ord(s[len(s)//2])-1)\n",
    "else:\n",
    "    if ord(s[0])%2!=0:\n",
    "        res=s*3\n",
    "print(res)"
   ]
  },
  {
   "cell_type": "code",
   "execution_count": 119,
   "metadata": {},
   "outputs": [
    {
     "name": "stdout",
     "output_type": "stream",
     "text": [
      "ravi buys pen\n",
      "ravi buys pen\n"
     ]
    }
   ],
   "source": [
    "\"\"\"55 Ravi would like to buy a new cello or red pen. The cost of the pen should be 10. \n",
    "If the pen is available in the shop, he will buy the pen. If it is not there he will \n",
    "come out of the shop. \"\"\"\n",
    "cost=10\n",
    "pen=[\"cello\",\"red\",\"blue\",\"black\"]\n",
    "product=[\"available\",\"unavailable\"]\n",
    "if \"cello\" in pen or \"red\" in pen  and cost==10 and product in\"available\":\n",
    "    print(\"ravi buys pen\")\n",
    "else:\n",
    "    print(\"he will come out of shop\")\n",
    "\n",
    "cost=20\n",
    "pen=[\"cello\",\"red\",\"blue\",\"black\"]\n",
    "product=[\"available\"]\n",
    "if \"cello\" in pen or \"red\" in pen  and cost<=10 and product in\"unavailable\":\n",
    "    print(\"ravi buys pen\")\n",
    "else:\n",
    "    print(\"he will come out of shop\")\n",
    "\n",
    "\n",
    "\n"
   ]
  },
  {
   "cell_type": "code",
   "execution_count": 120,
   "metadata": {},
   "outputs": [
    {
     "name": "stdout",
     "output_type": "stream",
     "text": [
      "40\n",
      "-21\n"
     ]
    }
   ],
   "source": [
    "\"\"\"56 WAP to perform addition and subtraction operation by using list collection if the \n",
    "first and middle data items number are even performing addition operation, or \n",
    "else performing subtraction. \"\"\"\n",
    "\n",
    "l=[10,20,30,\"a\",\"b\"]\n",
    "if type(l)==list and l[0]%2==0 and l[len(l)//2]%2==0:\n",
    "    res=l[0]+l[len(l)//2]\n",
    "else:\n",
    "    res=l[0]-l[len(l)//2]\n",
    "print(res)\n",
    "\n",
    "l=[10,20,31,\"a\",\"b\"]\n",
    "if type(l)==list and l[0]%2==0 and l[len(l)//2]%2==0:\n",
    "    res=l[0]+l[len(l)//2]\n",
    "else:\n",
    "    res=l[0]-l[len(l)//2]\n",
    "print(res)"
   ]
  },
  {
   "cell_type": "code",
   "execution_count": 121,
   "metadata": {},
   "outputs": [
    {
     "name": "stdout",
     "output_type": "stream",
     "text": [
      "[1, 2, 3, 4, 5, 10, 20, 30, 40, 50]\n",
      "2387199529600\n",
      "2387200222208\n"
     ]
    }
   ],
   "source": [
    "\"\"\"57 WAP to check whether the first item of these two lists is either integer or not. \n",
    "If it is an integer, concatenate these two lists or else print the memory \n",
    "address of these two lists \"\"\"\n",
    "\n",
    "l1=[1,2,3,4,5]\n",
    "l2=[10,20,30,40,50]\n",
    "if type(l1[0])==int and type(l2[0])==int:\n",
    "    l1+=l2\n",
    "    res=l1\n",
    "else:\n",
    "    res=id(l1)\n",
    "    res=id(l2)\n",
    "print(res)\n",
    "\n",
    "l1=[1,2,3,4,5]\n",
    "l2=[\"10\",20,30,40,50]\n",
    "if type(l1[0])==int and type(l2[0])==int:\n",
    "    l1+=l2\n",
    "    res=l1\n",
    "else:\n",
    "    res=id(l1)\n",
    "    res1=id(l2)\n",
    "print(res)\n",
    "print(res1)\n"
   ]
  },
  {
   "cell_type": "code",
   "execution_count": 1,
   "metadata": {},
   "outputs": [
    {
     "name": "stdout",
     "output_type": "stream",
     "text": [
      "max (100,120)=120\n"
     ]
    }
   ],
   "source": [
    "#wap which will accept the numarical numbers abd decide biggest among them\n",
    "\n",
    "a=100\n",
    "b=120\n",
    "if a>b:\n",
    "    print(\"max ({},{})={}\".format(a,b,a))\n",
    "else:\n",
    "    print(\"max ({},{})={}\".format(a,b,b))"
   ]
  },
  {
   "cell_type": "code",
   "execution_count": 3,
   "metadata": {},
   "outputs": [
    {
     "name": "stdout",
     "output_type": "stream",
     "text": [
      "max(100,120,180)=180\n"
     ]
    }
   ],
   "source": [
    "#Program for accepting 3 values and find biggest among them by using if..else statement \n",
    "#BigThreeEx1.py\n",
    "a=100\n",
    "b=120\n",
    "c=180\n",
    "if a>b and a>c:\n",
    "    print(\"max({},{},{})={}\".format(a,b,c,a))\n",
    "else:\n",
    "    if b>a and b>c:\n",
    "        print(\"max({},{},{})={}\".format(a,b,c,b))\n",
    "    else:\n",
    "        print(\"max({},{},{})={}\".format(a,b,c,c))\n",
    "\n",
    "\n"
   ]
  }
 ],
 "metadata": {
  "kernelspec": {
   "display_name": "Python 3",
   "language": "python",
   "name": "python3"
  },
  "language_info": {
   "codemirror_mode": {
    "name": "ipython",
    "version": 3
   },
   "file_extension": ".py",
   "mimetype": "text/x-python",
   "name": "python",
   "nbconvert_exporter": "python",
   "pygments_lexer": "ipython3",
   "version": "3.11.4"
  },
  "orig_nbformat": 4
 },
 "nbformat": 4,
 "nbformat_minor": 2
}
