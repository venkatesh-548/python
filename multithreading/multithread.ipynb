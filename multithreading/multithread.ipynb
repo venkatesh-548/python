{
 "cells": [
  {
   "cell_type": "code",
   "execution_count": null,
   "metadata": {},
   "outputs": [],
   "source": [
    "import threading\n",
    "print(\"the current thread is:\",threading.current_thread().getName())\n",
    "threading.current_thread().setName(\"Victory Venkatesh Zindabad!!!!!!!\")\n",
    "print(\"the current thread is:\",threading.current_thread().getName())\n"
   ]
  },
  {
   "cell_type": "code",
   "execution_count": null,
   "metadata": {},
   "outputs": [],
   "source": [
    "import threading\n",
    "print(\"the current thread is:\",threading.currentThread().getName())\n",
    "threading.current_thread().setName(\"Dattebayoo!!!!\")\n",
    "print(\"the current thread is:\",threading.currentThread().getName())\n"
   ]
  },
  {
   "cell_type": "code",
   "execution_count": 1,
   "metadata": {},
   "outputs": [
    {
     "name": "stdout",
     "output_type": "stream",
     "text": [
      "this code executed by thread: MainThread\n"
     ]
    },
    {
     "name": "stderr",
     "output_type": "stream",
     "text": [
      "C:\\Users\\venka\\AppData\\Local\\Temp\\ipykernel_23092\\2275643942.py:3: DeprecationWarning: getName() is deprecated, get the name attribute instead\n",
      "  print(\"this code executed by thread:\",current_thread().getName())\n"
     ]
    }
   ],
   "source": [
    "from threading import *\n",
    "def display():\n",
    "    print(\"this code executed by thread:\",current_thread().getName())\n",
    "display()"
   ]
  },
  {
   "cell_type": "code",
   "execution_count": 5,
   "metadata": {},
   "outputs": [
    {
     "name": "stdout",
     "output_type": "stream",
     "text": [
      "this code executed by thread: MainThread\n"
     ]
    },
    {
     "name": "stderr",
     "output_type": "stream",
     "text": [
      "C:\\Users\\venka\\AppData\\Local\\Temp\\ipykernel_23092\\951230292.py:5: DeprecationWarning: getName() is deprecated, get the name attribute instead\n",
      "  print(\"this code executed by thread:\",current_thread().getName())\n"
     ]
    }
   ],
   "source": [
    "from threading import *\n",
    "def display():\n",
    "    print(\"this code executed by thread:\",current_thread().getName())\n",
    "t=Thread(target=display) #mainthread creates child thread object\n",
    "print(\"this code executed by thread:\",current_thread().getName())\n"
   ]
  },
  {
   "cell_type": "code",
   "execution_count": 6,
   "metadata": {},
   "outputs": [
    {
     "name": "stderr",
     "output_type": "stream",
     "text": [
      "C:\\Users\\venka\\AppData\\Local\\Temp\\ipykernel_23092\\3672480791.py:3: DeprecationWarning: getName() is deprecated, get the name attribute instead\n",
      "  print(\"this code executed by thread:\",current_thread().getName())\n"
     ]
    },
    {
     "name": "stdout",
     "output_type": "stream",
     "text": [
      "this code executed by thread: Thread-9 (display)\n"
     ]
    }
   ],
   "source": [
    "from threading import *\n",
    "def display():\n",
    "    print(\"this code executed by thread:\",current_thread().getName())\n",
    "t=Thread(target=display)\n",
    "t.start() #mainthread starts child thread\n",
    "# print(\"this code executed by thread:\",current_thread().getName())\n"
   ]
  },
  {
   "cell_type": "code",
   "execution_count": 8,
   "metadata": {},
   "outputs": [
    {
     "name": "stdout",
     "output_type": "stream",
     "text": [
      "this code executed by thread: MainThread\n"
     ]
    },
    {
     "name": "stderr",
     "output_type": "stream",
     "text": [
      "C:\\Users\\venka\\AppData\\Local\\Temp\\ipykernel_23092\\2521158696.py:3: DeprecationWarning: getName() is deprecated, get the name attribute instead\n",
      "  print(\"this code executed by thread display:\",current_thread().getName())\n",
      "C:\\Users\\venka\\AppData\\Local\\Temp\\ipykernel_23092\\2521158696.py:6: DeprecationWarning: getName() is deprecated, get the name attribute instead\n",
      "  print(\"this code executed by thread:\",current_thread().getName())\n"
     ]
    },
    {
     "name": "stdout",
     "output_type": "stream",
     "text": [
      "this code executed by thread display: Thread-11 (display)\n"
     ]
    }
   ],
   "source": [
    "from threading import *\n",
    "def display():\n",
    "    print(\"this code executed by thread display:\",current_thread().getName())\n",
    "t=Thread(target=display)\n",
    "t.start()\n",
    "print(\"this code executed by thread:\",current_thread().getName())"
   ]
  },
  {
   "cell_type": "markdown",
   "metadata": {},
   "source": [
    "we cannot predict the order of the execution of the program it will vary based on the os\n",
    "if there is no dependecy of the the program then use the multithreading"
   ]
  },
  {
   "cell_type": "code",
   "execution_count": 12,
   "metadata": {},
   "outputs": [
    {
     "name": "stdout",
     "output_type": "stream",
     "text": [
      "00 :main thread\n",
      "1 :main thread\n",
      "2 :main thread\n",
      "3 :main thread\n",
      "4 :main thread\n",
      "5 :main thread\n",
      "6 :main thread\n",
      "7 :main thread\n",
      "8 :main thread\n",
      "9 :main thread\n",
      " :child thread\n",
      "1 :child thread\n",
      "2 :child thread\n",
      "3 :child thread\n",
      "4 :child thread\n",
      "5 :child thread\n",
      "6 :child thread\n",
      "7 :child thread\n",
      "8 :child thread\n",
      "9 :child thread\n"
     ]
    }
   ],
   "source": [
    "from threading import *\n",
    "def display():\n",
    "    for i in range(10):\n",
    "        print(i,\":child thread\")\n",
    "t=Thread(target=display)\n",
    "t.start()\n",
    "for i in range(10):\n",
    "    print(i,\":main thread\")"
   ]
  },
  {
   "cell_type": "code",
   "execution_count": 17,
   "metadata": {},
   "outputs": [
    {
     "name": "stdout",
     "output_type": "stream",
     "text": [
      "00 :main thread\n",
      "1 :main thread\n",
      "2 :main thread\n",
      "3 :main thread\n",
      "4 :main thread\n",
      "5 :main thread\n",
      "6 :main thread\n",
      "7 :main thread\n",
      "8 :main thread\n",
      "9 :main thread\n",
      " :child thread 1\n",
      "1 :child thread 1\n",
      "2 :child thread 1\n",
      "3 :child thread 1\n",
      "4 :child thread 1\n",
      "5 :child thread 1\n",
      "6 :child thread 1\n",
      "7 :child thread 1\n",
      "8 :child thread 1\n",
      "9 :child thread 1\n"
     ]
    }
   ],
   "source": [
    "#creating thread by extending thread class\n",
    "from threading import *\n",
    "class mythread(Thread):\n",
    "    def run(self):\n",
    "        for i in range(10):\n",
    "            print(i,\":child thread 1\")\n",
    "t=mythread()\n",
    "t.start()\n",
    "for i in range(10):\n",
    "    print(i,\":main thread\")"
   ]
  },
  {
   "cell_type": "code",
   "execution_count": 19,
   "metadata": {},
   "outputs": [
    {
     "name": "stdout",
     "output_type": "stream",
     "text": [
      "main_thread\n",
      "main_thread\n",
      "main_thread\n",
      "main_thread\n",
      "main_thread\n",
      "main_thread\n",
      "main_thread\n",
      "main_thread\n",
      "main_thread\n",
      "main_thread\n"
     ]
    },
    {
     "name": "stderr",
     "output_type": "stream",
     "text": [
      "Exception in thread Thread-22 (display):\n",
      "Traceback (most recent call last):\n",
      "  File \"c:\\Users\\venka\\AppData\\Local\\Programs\\Python\\Python311\\Lib\\threading.py\", line 1038, in _bootstrap_inner\n",
      "    self.run()\n",
      "  File \"c:\\Users\\venka\\AppData\\Local\\Programs\\Python\\Python311\\Lib\\threading.py\", line 975, in run\n",
      "    self._target(*self._args, **self._kwargs)\n",
      "TypeError: Test.display() takes 0 positional arguments but 1 was given\n"
     ]
    }
   ],
   "source": [
    "from threading import *\n",
    "class Test:\n",
    "    def display():\n",
    "        for i in range(10):\n",
    "            print(i,\"child thread\")\n",
    "obj=Test()\n",
    "t=Thread(target=obj.display)\n",
    "t.start()\n",
    "for i in range(10):\n",
    "    print(\"main_thread\")"
   ]
  },
  {
   "cell_type": "code",
   "execution_count": 1,
   "metadata": {},
   "outputs": [
    {
     "name": "stdout",
     "output_type": "stream",
     "text": [
      "doubles: 2\n",
      "doubles: 4\n",
      "doubles: 6\n",
      "doubles: 8\n",
      "doubles: 10\n",
      "doubles: 12\n",
      "squares: 1\n",
      "squares: 4\n",
      "squares: 9\n",
      "squares: 16\n",
      "squares: 25\n",
      "squares: 36\n",
      "total time: 12.016645193099976\n"
     ]
    }
   ],
   "source": [
    "import time\n",
    "def doubles(num):\n",
    "    for i in num:\n",
    "        time.sleep(1)\n",
    "        print(\"doubles:\",2*i)\n",
    "def square(num):\n",
    "    for i in num:\n",
    "        time.sleep(1)\n",
    "        print(\"squares:\",i*i)\n",
    "num=[1,2,3,4,5,6]\n",
    "begtime=time.time()\n",
    "doubles(num)\n",
    "square(num)\n",
    "endtime=time.time()\n",
    "print(\"total time:\",endtime-begtime)"
   ]
  },
  {
   "cell_type": "code",
   "execution_count": 2,
   "metadata": {},
   "outputs": [
    {
     "name": "stdout",
     "output_type": "stream",
     "text": [
      "doubles: 2\n",
      "squares: 1\n",
      "doubles:squares: 4\n",
      " 4\n",
      "squares: 9\n",
      "doubles: 6\n",
      "squares: 16\n",
      "doubles: 8\n",
      "squares:doubles: 10\n",
      " 25\n",
      "squares:doubles: 12\n",
      " 36\n",
      "total time: 6.0230467319488525\n"
     ]
    }
   ],
   "source": [
    "from threading import *\n",
    "import time\n",
    "def doubles(num):\n",
    "    for i in num:\n",
    "        time.sleep(1)\n",
    "        print(\"doubles:\",2*i)\n",
    "def square(num):\n",
    "    for i in num:\n",
    "        time.sleep(1)\n",
    "        print(\"squares:\",i*i)\n",
    "num=[1,2,3,4,5,6]\n",
    "begtime=time.time()\n",
    "t1=Thread(target=doubles,args=(num,))\n",
    "t2=Thread(target=square,args=(num,))\n",
    "t1.start()\n",
    "t2.start()\n",
    "t1.join()\n",
    "t2.join()\n",
    "endtime=time.time()\n",
    "print(\"total time:\",endtime-begtime)\n"
   ]
  },
  {
   "cell_type": "markdown",
   "metadata": {},
   "source": [
    "# ident method used to get the identification number of the thread"
   ]
  },
  {
   "cell_type": "code",
   "execution_count": 3,
   "metadata": {},
   "outputs": [
    {
     "name": "stdout",
     "output_type": "stream",
     "text": [
      "child threadmain thread identification number: 19852\n",
      "child thread identification number: 3956\n",
      "\n"
     ]
    }
   ],
   "source": [
    "\n",
    "import threading\n",
    "def test():\n",
    "    print(\"child thread\")\n",
    "t=threading.Thread(target=test)\n",
    "t.start()\n",
    "print(\"main thread identification number:\",threading.current_thread().ident)\n",
    "print(\"child thread identification number:\",t.ident)\n",
    "\n"
   ]
  },
  {
   "cell_type": "code",
   "execution_count": 17,
   "metadata": {},
   "outputs": [
    {
     "name": "stdout",
     "output_type": "stream",
     "text": [
      "the no of active threads: 6\n",
      "childthread 1 started\n",
      "childthread 2 started\n",
      "childthread 3 started\n",
      "the no of active threads: 9\n",
      "childthread 1 ended\n",
      "childthread 3 ended\n",
      "childthread 2 ended\n",
      "the no of active threads: 6\n"
     ]
    }
   ],
   "source": [
    "from threading import *\n",
    "import time\n",
    "\n",
    "def display():\n",
    "    print(current_thread().name,'started')\n",
    "    time.sleep(3)\n",
    "    print(current_thread().name,'ended')\n",
    "print(\"the no of active threads:\",active_count())\n",
    "t1=Thread(target=display,name='childthread 1')\n",
    "t2=Thread(target=display,name='childthread 2')\n",
    "t3=Thread(target=display,name='childthread 3')\n",
    "t1.start()\n",
    "t2.start()\n",
    "t3.start()\n",
    "print(\"the no of active threads:\",active_count())\n",
    "time.sleep(10)\n",
    "print(\"the no of active threads:\",active_count())\n"
   ]
  },
  {
   "cell_type": "markdown",
   "metadata": {},
   "source": [
    "# enumerate() function:  this function returns list of the all active threads currently."
   ]
  },
  {
   "cell_type": "code",
   "execution_count": 14,
   "metadata": {},
   "outputs": [
    {
     "name": "stdout",
     "output_type": "stream",
     "text": [
      "childthread 1 started\n",
      "childthread 2 started\n",
      "childthread 3 started\n",
      "MainThread\n",
      "IOPub\n",
      "Heartbeat\n",
      "Control\n",
      "IPythonHistorySavingThread\n",
      "Thread-4\n",
      "childthread 1\n",
      "childthread 2\n",
      "childthread 3\n",
      "childthread 1 ended\n",
      "childthread 2 ended\n",
      "childthread 3 ended\n",
      "MainThread\n",
      "IOPub\n",
      "Heartbeat\n",
      "Control\n",
      "IPythonHistorySavingThread\n",
      "Thread-4\n"
     ]
    }
   ],
   "source": [
    "from threading import *\n",
    "import time\n",
    "def display():\n",
    "    print(current_thread().name,\"started\")\n",
    "    time.sleep(3)\n",
    "    print(current_thread().name,\"ended\")\n",
    "t1=Thread(target=display,name='childthread 1')\n",
    "t2=Thread(target=display,name='childthread 2')\n",
    "t3=Thread(target=display,name='childthread 3')\n",
    "t1.start()\n",
    "t2.start()\n",
    "t3.start()\n",
    "l=enumerate()\n",
    "for t in l:\n",
    "    print(t.name)\n",
    "time.sleep(5)\n",
    "l=enumerate()\n",
    "for t in l:\n",
    "    print(t.name)"
   ]
  },
  {
   "cell_type": "markdown",
   "metadata": {},
   "source": [
    "# isAlive(): this method checks wheather the thread is still executing or not."
   ]
  },
  {
   "cell_type": "code",
   "execution_count": 12,
   "metadata": {},
   "outputs": [
    {
     "name": "stdout",
     "output_type": "stream",
     "text": [
      "child 1 ...started\n",
      "child 2 ...started\n",
      "child 1  is alive: True\n",
      "child 2  is alive True\n",
      "child 1 ...ended\n",
      "child 2 ...ended\n",
      "child 1  is alive: False\n",
      "child 2  is alive False\n"
     ]
    }
   ],
   "source": [
    "from threading import *\n",
    "import time\n",
    "def display():\n",
    "    print(current_thread().name,\"...started\")\n",
    "    time.sleep(3)\n",
    "    print(current_thread().name,\"...ended\")\n",
    "t1=Thread(target=display,name='child 1')\n",
    "t2=Thread(target=display,name='child 2')\n",
    "t1.start()\n",
    "t2.start()\n",
    "print(t1.name,\" is alive:\",t1.is_alive())\n",
    "print(t2.name,\" is alive\",t2.is_alive())\n",
    "time.sleep(5)\n",
    "print(t1.name,\" is alive:\",t1.is_alive())\n",
    "print(t2.name,\" is alive\",t2.is_alive())"
   ]
  },
  {
   "cell_type": "markdown",
   "metadata": {},
   "source": [
    "# join() method: if thread waits untill completing some other thread then we should for join method."
   ]
  },
  {
   "cell_type": "code",
   "execution_count": 18,
   "metadata": {},
   "outputs": [
    {
     "name": "stdout",
     "output_type": "stream",
     "text": [
      "seetha thread\n",
      "seetha thread\n",
      "seetha thread\n",
      "seetha thread\n",
      "seetha thread\n",
      "seetha thread\n",
      "rama thread\n",
      "rama thread\n",
      "rama thread\n",
      "rama thread\n",
      "rama thread\n",
      "rama thread\n",
      "rama thread\n",
      "rama thread\n",
      "rama thread\n",
      "rama thread\n"
     ]
    },
    {
     "name": "stdout",
     "output_type": "stream",
     "text": [
      "seetha thread\n",
      "seetha thread\n",
      "seetha thread\n",
      "seetha thread\n"
     ]
    }
   ],
   "source": [
    "from threading import *\n",
    "import time\n",
    "def display():\n",
    "    for i in range(10):\n",
    "        print(\"seetha thread\")\n",
    "        time.sleep(2)\n",
    "t=Thread(target=display)\n",
    "t.start()\n",
    "t.join(10) # it stops executing the rama thread upto 10 sec then rama thread executes\n",
    "# t.join() # it stops executing rama thread until completes the seetha thread\n",
    "for i in range(10):\n",
    "    print(\"rama thread\")\n"
   ]
  },
  {
   "cell_type": "markdown",
   "metadata": {},
   "source": [
    "# Daemon Threads:\n",
    "The threads which are running in the background are called Daemon Threads.\n",
    "The main objective of Daemon Threads is to provide support for Non Daemon Threads( like main \n",
    "thread)\n",
    "# Eg: Garbage Collector\n",
    "Whenever Main Thread runs with low memory, immediately PVM runs Garbage Collector to \n",
    "destroy useless objects and to provide free memory,so that Main Thread can continue its \n",
    "execution without having any memory problems.\n",
    "We can check whether thread is Daemon or not by using t.isDaemon() method of Thread class or \n",
    "by using daemon property"
   ]
  },
  {
   "cell_type": "code",
   "execution_count": 1,
   "metadata": {},
   "outputs": [
    {
     "name": "stdout",
     "output_type": "stream",
     "text": [
      "False\n",
      "True\n"
     ]
    },
    {
     "name": "stderr",
     "output_type": "stream",
     "text": [
      "C:\\Users\\venka\\AppData\\Local\\Temp\\ipykernel_11560\\719222567.py:6: DeprecationWarning: setDaemon() is deprecated, set the daemon attribute instead\n",
      "  t.setDaemon(True)\n"
     ]
    }
   ],
   "source": [
    "from threading import *\n",
    "def job():\n",
    "    print(\"child thread\")\n",
    "t=Thread(target=job)\n",
    "print(t.daemon)\n",
    "t.setDaemon(True)\n",
    "print(t.daemon)"
   ]
  },
  {
   "cell_type": "markdown",
   "metadata": {},
   "source": [
    "Default Nature:  by default the main thread is the non daemon thread. but for the remaining threads the daemon nature will be inherited from the parent to the child i.e if the parent thread is non-demon then the child thread is also non daemon.\n",
    "\n",
    "# Note:  main thread is always daemon and we cannot change its daemon nature because it is already started in the begning only.\n",
    "\n",
    "# when ever the Non daemon threads terminated then automatically the daemon threads are terminated"
   ]
  },
  {
   "cell_type": "code",
   "execution_count": 4,
   "metadata": {},
   "outputs": [
    {
     "name": "stdout",
     "output_type": "stream",
     "text": [
      "0 :lazy thread\n",
      "1 :lazy thread\n",
      "end of main thread\n"
     ]
    },
    {
     "name": "stdout",
     "output_type": "stream",
     "text": [
      "2 :lazy thread\n",
      "3 :lazy thread\n",
      "4 :lazy thread\n",
      "5 :lazy thread\n",
      "6 :lazy thread\n",
      "7 :lazy thread\n",
      "8 :lazy thread\n",
      "9 :lazy thread\n"
     ]
    }
   ],
   "source": [
    "from threading import *\n",
    "import time\n",
    "def job():\n",
    "    for i in range(10):\n",
    "        print(i,\":lazy thread\")\n",
    "        time.sleep(3)\n",
    "t=Thread(target=job)\n",
    "t.start()\n",
    "time.sleep(5)\n",
    "print(\"end of main thread\")"
   ]
  },
  {
   "cell_type": "markdown",
   "metadata": {},
   "source": [
    "# when ever the Non daemon threads terminated then automatically the daemon threads are terminated"
   ]
  },
  {
   "cell_type": "code",
   "execution_count": 7,
   "metadata": {},
   "outputs": [
    {
     "name": "stdout",
     "output_type": "stream",
     "text": [
      "lazy threadend of the main thread\n"
     ]
    },
    {
     "name": "stderr",
     "output_type": "stream",
     "text": [
      "C:\\Users\\venka\\AppData\\Local\\Temp\\ipykernel_11560\\1346038580.py:8: DeprecationWarning: setDaemon() is deprecated, set the daemon attribute instead\n",
      "  t.setDaemon(True) # we can change daemon nature for child\n"
     ]
    },
    {
     "name": "stdout",
     "output_type": "stream",
     "text": [
      "\n"
     ]
    },
    {
     "name": "stdout",
     "output_type": "stream",
     "text": [
      "lazy thread\n",
      "lazy thread\n",
      "lazy thread\n",
      "lazy thread\n",
      "lazy thread\n",
      "lazy thread\n",
      "lazy thread\n",
      "lazy thread\n",
      "lazy thread\n"
     ]
    }
   ],
   "source": [
    "from threading import *\n",
    "import time\n",
    "def job():\n",
    "    for i in range(10):\n",
    "        print(\"lazy thread\")\n",
    "        time.sleep(2)\n",
    "t=Thread(target=job)\n",
    "t.setDaemon(True) # we can change daemon nature for child\n",
    "t.start()\n",
    "# time.sleep(5)\n",
    "print(\"end of the main thread\")"
   ]
  },
  {
   "cell_type": "markdown",
   "metadata": {},
   "source": [
    "# synchronization:- executing the only one thread at a time is called the synchronization.\n",
    "\n",
    "1 Lock\n",
    "2 RLock\n",
    "3 Semaphore"
   ]
  },
  {
   "cell_type": "code",
   "execution_count": 4,
   "metadata": {},
   "outputs": [
    {
     "name": "stdout",
     "output_type": "stream",
     "text": [
      "Good evening: Good evening: "
     ]
    },
    {
     "name": "stdout",
     "output_type": "stream",
     "text": [
      "dhonikohli\n",
      "Good evening: \n",
      "Good evening: kohlidhoni\n",
      "Good evening: \n",
      "Good evening: dhoni\n",
      "Good evening: kohli\n",
      "Good evening: dhoni\n",
      "Good evening: kohli\n",
      "Good evening: dhoni\n",
      "kohli\n"
     ]
    }
   ],
   "source": [
    "from threading import *\n",
    "import time\n",
    "def wish(name):\n",
    "    for i in range(5):\n",
    "        print(\"Good evening: \",end=\"\")\n",
    "        time.sleep(1)\n",
    "        print(name)\n",
    "t1=Thread(target=wish,args=('dhoni',))\n",
    "t2=Thread(target=wish,args=('kohli',))\n",
    "t1.start()\n",
    "t2.start()"
   ]
  },
  {
   "cell_type": "markdown",
   "metadata": {},
   "source": [
    "# Synchronization By using Lock concept\n",
    "l=Lock() # creating lock object"
   ]
  },
  {
   "cell_type": "code",
   "execution_count": 6,
   "metadata": {},
   "outputs": [
    {
     "name": "stdout",
     "output_type": "stream",
     "text": [
      "Good evening: "
     ]
    },
    {
     "name": "stdout",
     "output_type": "stream",
     "text": [
      "dhoni\n",
      "Good evening: dhoni\n",
      "Good evening: dhoni\n",
      "Good evening: dhoni\n",
      "Good evening: dhoni\n"
     ]
    }
   ],
   "source": [
    "from threading import *\n",
    "import time\n",
    "l=Lock()\n",
    "def wish(name):\n",
    "    l.acquire()\n",
    "    for i in range(5):\n",
    "        print(\"Good evening: \",end=\"\")\n",
    "        time.sleep(2)\n",
    "        print(name)\n",
    "    l.release()\n",
    "t1=Thread(target=wish,args=('dhoni',))\n",
    "t2=Thread(target=wish,args=('kohli',))\n",
    "t3=Thread(target=wish,args=('rohit',))\n",
    "t4=Thread(target=wish,args=('rahul',))\n",
    "t1.start()\n",
    "t2.start()\n",
    "t3.start()\n",
    "t4.start()"
   ]
  }
 ],
 "metadata": {
  "kernelspec": {
   "display_name": "Python 3",
   "language": "python",
   "name": "python3"
  },
  "language_info": {
   "codemirror_mode": {
    "name": "ipython",
    "version": 3
   },
   "file_extension": ".py",
   "mimetype": "text/x-python",
   "name": "python",
   "nbconvert_exporter": "python",
   "pygments_lexer": "ipython3",
   "version": "3.11.4"
  }
 },
 "nbformat": 4,
 "nbformat_minor": 2
}
