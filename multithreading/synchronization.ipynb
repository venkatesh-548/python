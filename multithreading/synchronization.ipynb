{
 "cells": [
  {
   "cell_type": "code",
   "execution_count": 7,
   "metadata": {},
   "outputs": [
    {
     "name": "stdout",
     "output_type": "stream",
     "text": [
      "good evening: kohli\n",
      "good evening: rohit\n",
      "good evening: rahul\n"
     ]
    },
    {
     "name": "stdout",
     "output_type": "stream",
     "text": [
      "good evening: kohli\n",
      "good evening: rohit\n",
      "good evening: rahul\n",
      "good evening: kohli\n",
      "good evening: rohit\n",
      "good evening: rahul\n",
      "good evening: kohli\n",
      "good evening: rohit\n",
      "good evening: rahul\n",
      "good evening: kohli\n",
      "good evening: rohit\n",
      "good evening: rahul\n",
      "good evening: pandey\n",
      "good evening: pandey\n",
      "good evening: pandey\n",
      "good evening: pandey\n",
      "good evening: pandey\n"
     ]
    }
   ],
   "source": [
    "from threading import *\n",
    "import time\n",
    "s=Semaphore(3)\n",
    "def wish(name):\n",
    "    s.acquire()\n",
    "    for i in range(5):\n",
    "        print(\"good evening:\",name)\n",
    "        time.sleep(1)\n",
    "        # print(name)\n",
    "    s.release()\n",
    "t1=Thread(target=wish,args=('kohli',))\n",
    "t2=Thread(target=wish,args=('rohit',))\n",
    "t3=Thread(target=wish,args=('rahul',))\n",
    "t4=Thread(target=wish,args=('pandey',))\n",
    "t1.start()\n",
    "t2.start()\n",
    "t3.start()\n",
    "t4.start()"
   ]
  },
  {
   "cell_type": "code",
   "execution_count": 3,
   "metadata": {},
   "outputs": [
    {
     "name": "stdout",
     "output_type": "stream",
     "text": [
      "good evening:good evening:"
     ]
    },
    {
     "name": "stdout",
     "output_type": "stream",
     "text": [
      "rohitvirat\n",
      "good evening:\n",
      "good evening:rohitvirat\n",
      "good evening:\n",
      "good evening:viratrohit\n",
      "good evening:\n",
      "good evening:virat\n",
      "good evening:rohit\n",
      "good evening:viratrohit\n",
      "\n"
     ]
    }
   ],
   "source": [
    "from threading import *\n",
    "import time\n",
    "def wish(name):\n",
    "    l=Lock()\n",
    "    l.acquire()\n",
    "    for i in range(5):\n",
    "        print(\"good evening:\",end='')\n",
    "        time.sleep(2)\n",
    "        print(name)\n",
    "    l.release()\n",
    "t1=Thread(target=wish,args=('rohit',))\n",
    "t2=Thread(target=wish,args=(\"virat\",))\n",
    "t1.start()\n",
    "t2.start()\n"
   ]
  }
 ],
 "metadata": {
  "kernelspec": {
   "display_name": "Python 3",
   "language": "python",
   "name": "python3"
  },
  "language_info": {
   "codemirror_mode": {
    "name": "ipython",
    "version": 3
   },
   "file_extension": ".py",
   "mimetype": "text/x-python",
   "name": "python",
   "nbconvert_exporter": "python",
   "pygments_lexer": "ipython3",
   "version": "3.11.4"
  }
 },
 "nbformat": 4,
 "nbformat_minor": 2
}
