{
 "cells": [
  {
   "cell_type": "code",
   "execution_count": 8,
   "metadata": {},
   "outputs": [
    {
     "name": "stdout",
     "output_type": "stream",
     "text": [
      "0 :child thread\n",
      "1 :child thread\n",
      "2 :child thread\n",
      "3 :child thread\n",
      "4 :child thread\n",
      "5 :child thread\n",
      "6 :child thread\n",
      "7 :child thread\n",
      "8 :child thread\n",
      "9 :child thread\n"
     ]
    }
   ],
   "source": [
    "from threading import*\n",
    "import time\n",
    "def display(n):\n",
    "    for i in range(n):\n",
    "        time.sleep(2)\n",
    "        print(i,\":child thread\")\n",
    "n=10\n",
    "t=Thread(target=display,args=(n,))\n",
    "t.start()"
   ]
  },
  {
   "cell_type": "code",
   "execution_count": 32,
   "metadata": {},
   "outputs": [
    {
     "name": "stdout",
     "output_type": "stream",
     "text": [
      "0 :child thread\n",
      "100 :child 2\n",
      "1101 :child 2\n",
      " :child thread\n",
      "102 :child 2\n",
      "2 :child thread\n",
      "103 :child 2\n",
      "3 :child thread\n",
      "4104 :child 2\n",
      " :child thread\n",
      "105 :child 2\n",
      "5 :child thread\n",
      "1066 :child thread\n",
      " :child 2\n",
      "7 :child thread\n",
      "107 :child 2\n",
      "8 :child thread\n",
      "108 :child 2\n",
      "9 :child thread\n",
      "109 :child 2\n",
      "total time taken: 10.022640943527222\n"
     ]
    },
    {
     "name": "stdout",
     "output_type": "stream",
     "text": [
      "110 :child 2\n"
     ]
    }
   ],
   "source": [
    "import threading\n",
    "import time\n",
    "def display(n):\n",
    "    for i in range(n):\n",
    "        time.sleep(1)\n",
    "        print(i,\":child thread\")\n",
    "def display1(n1):\n",
    "    for i in range(100,n1):\n",
    "        time.sleep(1)\n",
    "        print(i,\":child 2\")\n",
    "n=10\n",
    "n1=111\n",
    "begtime=time.time()\n",
    "t=threading.Thread(target=display,args=(n,))\n",
    "t1=threading.Thread(target=display1,args=(n1,))\n",
    "t.start()\n",
    "t1.start()\n",
    "t.join()\n",
    "t1.join()\n",
    "endtime=time.time()\n",
    "print(\"total time taken:\",endtime-begtime)"
   ]
  },
  {
   "cell_type": "code",
   "execution_count": 26,
   "metadata": {},
   "outputs": [
    {
     "name": "stdout",
     "output_type": "stream",
     "text": [
      "0 :child thread\n",
      "1 :child thread\n",
      "2 :child thread\n",
      "3 :child thread\n",
      "4 :child thread\n",
      "5 :child thread\n",
      "6 :child thread\n",
      "7 :child thread\n",
      "8 :child thread\n",
      "9 :child thread\n",
      "100 :child 2\n",
      "101 :child 2\n",
      "102 :child 2\n",
      "103 :child 2\n",
      "104 :child 2\n",
      "105 :child 2\n",
      "106 :child 2\n",
      "107 :child 2\n",
      "108 :child 2\n",
      "109 :child 2\n",
      "110 :child 2\n",
      "total time: 21.02175784111023\n"
     ]
    }
   ],
   "source": [
    "import time\n",
    "def display(n):\n",
    "    for i in range(n):\n",
    "        time.sleep(1)\n",
    "        print(i,\":child thread\")\n",
    "def display1(n1):\n",
    "    for i in range(100,n1):\n",
    "        time.sleep(1)\n",
    "        print(i,\":child 2\")\n",
    "n=10\n",
    "n1=111\n",
    "beg=time.time()\n",
    "display(n)\n",
    "display1(n1)\n",
    "end=time.time()\n",
    "print(\"total time:\",end-beg)"
   ]
  },
  {
   "cell_type": "code",
   "execution_count": 30,
   "metadata": {},
   "outputs": [
    {
     "name": "stdout",
     "output_type": "stream",
     "text": [
      "address: 1640\n"
     ]
    },
    {
     "name": "stdout",
     "output_type": "stream",
     "text": [
      "the name is: venky\n",
      "the age is: 23\n"
     ]
    }
   ],
   "source": [
    "from threading import *\n",
    "import time\n",
    "def student(name,age):\n",
    "    time.sleep(1)\n",
    "    print(\"the name is:\",name)\n",
    "    time.sleep(1)\n",
    "    print(\"the age is:\",age)\n",
    "t=Thread(target=student,args=('venky',),kwargs=({'age':23}))\n",
    "# t1=Thread(target=student,args=('venky',20))\n",
    "t.start()\n",
    "# t1.start()\n",
    "print(\"address:\",current_thread().ident)\n"
   ]
  },
  {
   "cell_type": "markdown",
   "metadata": {},
   "source": [
    "ident(): it is an inbuilt method of the threading module ,used to return the thread module\n",
    "\n",
    "thread identifiers can be recycled when a thread is exist and another thread is created."
   ]
  },
  {
   "cell_type": "code",
   "execution_count": 23,
   "metadata": {},
   "outputs": [
    {
     "name": "stdout",
     "output_type": "stream",
     "text": [
      "identification number: 4888\n"
     ]
    },
    {
     "name": "stdout",
     "output_type": "stream",
     "text": [
      "0\n",
      "1\n",
      "2\n",
      "3\n",
      "4\n"
     ]
    }
   ],
   "source": [
    "from threading import *\n",
    "import time\n",
    "def fun(n):\n",
    "    for i in range(n):\n",
    "        time.sleep(1)\n",
    "        print(i)\n",
    "        # print(\"thread name:\",current_thread().name)\n",
    "\n",
    "# fun()\n",
    "# print(\"thread name:\",current_thread().getName())\n",
    "t=Thread(target=fun,name=\"child thread\",kwargs=({\"n\":5}))\n",
    "t.start()\n",
    "print(\"identification number:\",t.ident)\n",
    "# print(\"thread name:\",current_thread().setName(\"venky\"))\n",
    "# print(\"current thread:\",current_thread().getName())\n",
    "\n",
    "\n"
   ]
  },
  {
   "cell_type": "code",
   "execution_count": 33,
   "metadata": {},
   "outputs": [
    {
     "name": "stdout",
     "output_type": "stream",
     "text": [
      "0\n",
      "1\n",
      "2\n",
      "3\n",
      "4\n"
     ]
    }
   ],
   "source": [
    "from threading import *\n",
    "import time\n",
    "class mythead(Thread):\n",
    "    def run(self):\n",
    "        for i in range(5):\n",
    "            time.sleep(1)\n",
    "            print(i)\n",
    "t=mythead()\n",
    "t.start()\n"
   ]
  },
  {
   "cell_type": "code",
   "execution_count": 34,
   "metadata": {},
   "outputs": [
    {
     "name": "stdout",
     "output_type": "stream",
     "text": [
      "0\n",
      "1\n",
      "2\n",
      "3\n",
      "4\n"
     ]
    }
   ],
   "source": [
    "from threading import *\n",
    "import time\n",
    "class mythead:\n",
    "    def run1(self):\n",
    "        for i in range(5):\n",
    "            time.sleep(1)\n",
    "            print(i)\n",
    "obj=mythead()\n",
    "t=Thread(target=obj.run1)\n",
    "t.start()"
   ]
  }
 ],
 "metadata": {
  "kernelspec": {
   "display_name": "Python 3",
   "language": "python",
   "name": "python3"
  },
  "language_info": {
   "codemirror_mode": {
    "name": "ipython",
    "version": 3
   },
   "file_extension": ".py",
   "mimetype": "text/x-python",
   "name": "python",
   "nbconvert_exporter": "python",
   "pygments_lexer": "ipython3",
   "version": "3.11.4"
  }
 },
 "nbformat": 4,
 "nbformat_minor": 2
}
