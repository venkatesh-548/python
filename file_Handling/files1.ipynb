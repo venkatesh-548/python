{
 "cells": [
  {
   "cell_type": "code",
   "execution_count": 1,
   "metadata": {},
   "outputs": [],
   "source": [
    "fp=open('file1.txt','w')\n",
    "fp.write(\"hai hello good morning\")\n",
    "fp.close()"
   ]
  },
  {
   "cell_type": "code",
   "execution_count": 4,
   "metadata": {},
   "outputs": [
    {
     "name": "stdout",
     "output_type": "stream",
     "text": [
      "hai hello good morning\n",
      "hello good afternoon\n"
     ]
    }
   ],
   "source": [
    "fp=open('file1.txt','r')\n",
    "res=fp.read()\n",
    "print(res)\n",
    "fp.close()"
   ]
  },
  {
   "cell_type": "code",
   "execution_count": 11,
   "metadata": {},
   "outputs": [],
   "source": [
    "fp=open('file1.txt','a')\n",
    "fp.write(\"\\npythonis a highlevel programming language\")\n",
    "fp.write(\"\\nit is a dynamically typed language\")\n",
    "fp.write(\"\\nit is a compatable language\")\n",
    "# res=fp.read()  #without specify the mode it is not perform any operation\n",
    "# print(res)\n",
    "fp.close()"
   ]
  },
  {
   "cell_type": "code",
   "execution_count": 13,
   "metadata": {},
   "outputs": [
    {
     "name": "stdout",
     "output_type": "stream",
     "text": [
      "it is platform independent\n",
      "pythonis a highlevel programming language\n",
      "it is a dynamically typed language\n",
      "it is a compatable language\n"
     ]
    }
   ],
   "source": [
    "with open('file1.txt','r') as fp:\n",
    "    res=fp.read()\n",
    "    print(res)"
   ]
  },
  {
   "cell_type": "code",
   "execution_count": 14,
   "metadata": {},
   "outputs": [
    {
     "name": "stdout",
     "output_type": "stream",
     "text": [
      "\n",
      "pythonis a highlevel programming language\n",
      "it is a dynamically typed language\n",
      "it is a compatable language\n"
     ]
    }
   ],
   "source": [
    "fp=open('file1.txt','r+')\n",
    "fp.write(\"it is platform independent\")\n",
    "res=fp.read()\n",
    "print(res)\n",
    "fp.close()"
   ]
  },
  {
   "cell_type": "code",
   "execution_count": 19,
   "metadata": {},
   "outputs": [
    {
     "name": "stdout",
     "output_type": "stream",
     "text": [
      "\n"
     ]
    }
   ],
   "source": [
    "with open('file2.txt','w+') as fp:\n",
    "    l=['python','\\ndjango','\\nhtml','\\ncss','\\njavascript','\\nsql']\n",
    "    fp.writelines(l)\n",
    "    # res=fp.read(10)\n",
    "    # print(res)\n"
   ]
  },
  {
   "cell_type": "code",
   "execution_count": null,
   "metadata": {},
   "outputs": [],
   "source": [
    "with open('file2.txt','r+') as fp:\n",
    "    print(fp.tell())\n",
    "    r1=fp.read(14)\n",
    "    print(r1)\n",
    "\n",
    "    print(fp.tell())\n",
    "    fp.seek(0)\n",
    "    r2=fp.readline()\n",
    "    print(r2)\n",
    "\n",
    "    print(fp.tell())\n",
    "    fp.seek(0)\n",
    "    r3=fp.readlines()\n",
    "    print(r3)\n",
    "\n",
    "    print(\"is writable:\",fp.writable())\n",
    "    print(\"is readable:\",fp.readable())\n",
    "\n",
    "    fp.write(\"\\n manual testing\")\n",
    "    r4=fp.read()\n",
    "    print(r4)\n"
   ]
  },
  {
   "cell_type": "code",
   "execution_count": 41,
   "metadata": {},
   "outputs": [
    {
     "name": "stdout",
     "output_type": "stream",
     "text": [
      "is readable True\n",
      "is writable True\n",
      "my skillslls\n",
      "\n",
      "html\n",
      "css\n",
      "javascript\n",
      "sql\n",
      "manual testing\n",
      "lls\n",
      "\n",
      "html\n",
      "css\n",
      "javascript\n",
      "sql\n",
      "manual testing\n",
      "58\n"
     ]
    }
   ],
   "source": [
    "with open('file2.txt','r+') as fp:\n",
    "    print(\"is readable\",fp.readable())\n",
    "    print(\"is writable\",fp.writable())\n",
    "    re1=fp.read()\n",
    "    print(re1)\n",
    "    fp.seek(0)\n",
    "    fp.write(\"my skills\")\n",
    "    re2=fp.read()\n",
    "    print(re2)\n",
    "    print(fp.tell())"
   ]
  },
  {
   "cell_type": "code",
   "execution_count": 50,
   "metadata": {},
   "outputs": [
    {
     "name": "stdout",
     "output_type": "stream",
     "text": [
      "writable: True\n",
      "readable True\n",
      "70\n",
      "0\n",
      "my skill\n",
      "\n",
      "python\n",
      "\n",
      "django\n",
      "\n",
      "html\n",
      "\n",
      "css\n",
      "\n",
      "javascript\n",
      "\n",
      "sql\n",
      "\n",
      "manual testing\n",
      "\n"
     ]
    }
   ],
   "source": [
    "with open('file2.txt','a+') as fp:\n",
    "    print(\"writable:\",fp.writable())\n",
    "    print(\"readable\",fp.readable())\n",
    "    print(fp.tell())\n",
    "    fp.seek(0)\n",
    "    print(fp.tell())\n",
    "    fp.write(\"my resume\\n\")\n",
    "    re=fp.readlines()\n",
    "    for i in re:\n",
    "        print(i)\n",
    "\n"
   ]
  },
  {
   "cell_type": "code",
   "execution_count": 59,
   "metadata": {},
   "outputs": [
    {
     "name": "stdout",
     "output_type": "stream",
     "text": [
      "<_io.TextIOWrapper name='file2.txt' mode='r' encoding='cp1252'>\n",
      "my skill\n",
      "\n",
      "python\n",
      "\n",
      "django\n",
      "\n",
      "html\n",
      "\n",
      "css\n",
      "\n",
      "javascript\n",
      "\n",
      "sql\n",
      "\n",
      "manual testing\n",
      "\n",
      "my resume\n",
      "\n",
      "lines: 9\n",
      "words: 12\n",
      "characters: 72\n"
     ]
    }
   ],
   "source": [
    "#count no lines words of the file\n",
    "data=open('file2.txt','r')\n",
    "print(data)\n",
    "lc=wc=cc=0\n",
    "for i in data:\n",
    "    lc=lc+1\n",
    "    print(i)\n",
    "    cc+=len(i)\n",
    "    w=i.split()\n",
    "    wc+=len(w)\n",
    "print(\"lines:\",lc)\n",
    "print(\"words:\",wc)\n",
    "print(\"characters:\",cc)"
   ]
  }
 ],
 "metadata": {
  "kernelspec": {
   "display_name": "Python 3",
   "language": "python",
   "name": "python3"
  },
  "language_info": {
   "codemirror_mode": {
    "name": "ipython",
    "version": 3
   },
   "file_extension": ".py",
   "mimetype": "text/x-python",
   "name": "python",
   "nbconvert_exporter": "python",
   "pygments_lexer": "ipython3",
   "version": "3.11.4"
  }
 },
 "nbformat": 4,
 "nbformat_minor": 2
}
