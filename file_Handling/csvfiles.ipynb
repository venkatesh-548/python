{
 "cells": [
  {
   "cell_type": "markdown",
   "metadata": {},
   "source": [
    "csv files:- comma separated files\n",
    "\n",
    "1 it will accept the file pointer address and return an object\n",
    "2 the object can be utilized only once.\n",
    "3 if we want to see the data in the object we can typecast it or iterate it\n",
    "4 for write the row we use \"fw=csv.writer(fp)\" fp is filepointer address\n",
    "5 there are two methods to write the data\n",
    " writerow()\n",
    " writerows()\n",
    "6 for reading the data\n",
    " we use \"fr=csv.reader(fp)\"\n",
    " we can typecast the generated object\n"
   ]
  },
  {
   "cell_type": "code",
   "execution_count": 1,
   "metadata": {},
   "outputs": [],
   "source": [
    "import csv\n",
    "fp=open('student.csv','w',newline='\\n')\n",
    "fw=csv.writer(fp) #it accept filepointer address and write object\n",
    "fw.writerow(['sid','sname','sage','sphone','smarks'])\n",
    "fp.close()"
   ]
  },
  {
   "cell_type": "code",
   "execution_count": 2,
   "metadata": {},
   "outputs": [],
   "source": [
    "import csv\n",
    "fp=open('student.csv','a',newline='\\n')\n",
    "fw=csv.writer(fp)\n",
    "fw.writerow([1,'venky',24,7386624002,78])\n",
    "fp.close()"
   ]
  },
  {
   "cell_type": "code",
   "execution_count": 4,
   "metadata": {},
   "outputs": [],
   "source": [
    "import csv\n",
    "fp=open('student.csv','a+',newline='\\n')\n",
    "fw=csv.writer(fp)\n",
    "fw.writerows([[2,'venkat',23,7386624003,88],[3,'venkatesh',23,7386624001,68]])\n",
    "fp.close()"
   ]
  },
  {
   "cell_type": "code",
   "execution_count": 6,
   "metadata": {},
   "outputs": [
    {
     "name": "stdout",
     "output_type": "stream",
     "text": [
      "[['sid', 'sname', 'sage', 'sphone', 'smarks'], ['1', 'venky', '24', '7386624002', '78'], ['2', 'venkat', '23', '7386624003', '88'], ['3', 'venkatesh', '23', '7386624001', '68']]\n"
     ]
    }
   ],
   "source": [
    "import csv\n",
    "fp=open('student.csv','r',newline='\\n')\n",
    "fr=csv.reader(fp)\n",
    "print(list(fr))\n",
    "for i in fp:\n",
    "    print(i)\n",
    "fp.close()"
   ]
  },
  {
   "cell_type": "markdown",
   "metadata": {},
   "source": [
    "dictwriter object accepts the filepointer address and fieldname and returns write object.\n",
    "ex:=\n",
    "  fp=open('student.csv','w',newline='\\n')\n",
    "  fw=Dictwriter(fp,['sid','sname','sage','sphone'])\n",
    "  fw.writeheader() it is used to create the header inside file\n",
    "Dictreader() used to read the data\n"
   ]
  },
  {
   "cell_type": "code",
   "execution_count": 12,
   "metadata": {},
   "outputs": [],
   "source": [
    "import csv\n",
    "fp=open('employee.csv','w',newline='\\n')\n",
    "fw=csv.DictWriter(fp,['eid','ename','eage','ephone','sal'])\n",
    "fw.writeheader()\n",
    "fp.close()"
   ]
  },
  {
   "cell_type": "code",
   "execution_count": 14,
   "metadata": {},
   "outputs": [],
   "source": [
    "import csv\n",
    "fp=open('employee.csv','a',newline='\\n')\n",
    "fw=csv.DictWriter(fp,['eid','ename','eage','ephone','sal'])\n",
    "fw.writerow({'eid':1,'ename':'venky',\"eage\":23,\"ephone\":89346587,\"sal\":35000})\n",
    "fp.close()"
   ]
  },
  {
   "cell_type": "code",
   "execution_count": 16,
   "metadata": {},
   "outputs": [],
   "source": [
    "import csv\n",
    "fp=open('employee.csv','a',newline='\\n')\n",
    "fw=csv.DictWriter(fp,['eid','ename','eage','ephone','sal'])\n",
    "fw.writerows([{'eid':2,'ename':'venkatesh',\"eage\":24,\"ephone\":89346587,\"sal\":35000},{'eid':3,'eage':20,'ename':'venkat',\"eage\":25,\"ephone\":89346577,\"sal\":38000,'sal':34241}])\n",
    "fp.close()"
   ]
  },
  {
   "cell_type": "code",
   "execution_count": 22,
   "metadata": {},
   "outputs": [
    {
     "ename": "AttributeError",
     "evalue": "'dict' object has no attribute 'eid'",
     "output_type": "error",
     "traceback": [
      "\u001b[1;31m---------------------------------------------------------------------------\u001b[0m",
      "\u001b[1;31mAttributeError\u001b[0m                            Traceback (most recent call last)",
      "\u001b[1;32mc:\\Users\\venka\\Documents\\GitHub\\basic-python1\\python-Qspy\\file_Handling\\csvfiles.ipynb Cell 10\u001b[0m line \u001b[0;36m5\n\u001b[0;32m      <a href='vscode-notebook-cell:/c%3A/Users/venka/Documents/GitHub/basic-python1/python-Qspy/file_Handling/csvfiles.ipynb#X12sZmlsZQ%3D%3D?line=2'>3</a>\u001b[0m fw\u001b[39m=\u001b[39mcsv\u001b[39m.\u001b[39mDictReader(fp,[\u001b[39m'\u001b[39m\u001b[39meid\u001b[39m\u001b[39m'\u001b[39m,\u001b[39m'\u001b[39m\u001b[39mename\u001b[39m\u001b[39m'\u001b[39m,\u001b[39m'\u001b[39m\u001b[39meage\u001b[39m\u001b[39m'\u001b[39m,\u001b[39m'\u001b[39m\u001b[39mephone\u001b[39m\u001b[39m'\u001b[39m,\u001b[39m'\u001b[39m\u001b[39msal\u001b[39m\u001b[39m'\u001b[39m,\u001b[39m'\u001b[39m\u001b[39mesal\u001b[39m\u001b[39m'\u001b[39m])\n\u001b[0;32m      <a href='vscode-notebook-cell:/c%3A/Users/venka/Documents/GitHub/basic-python1/python-Qspy/file_Handling/csvfiles.ipynb#X12sZmlsZQ%3D%3D?line=3'>4</a>\u001b[0m \u001b[39mfor\u001b[39;00m i \u001b[39min\u001b[39;00m fw:\n\u001b[1;32m----> <a href='vscode-notebook-cell:/c%3A/Users/venka/Documents/GitHub/basic-python1/python-Qspy/file_Handling/csvfiles.ipynb#X12sZmlsZQ%3D%3D?line=4'>5</a>\u001b[0m     \u001b[39mprint\u001b[39m(i\u001b[39m.\u001b[39;49meid)\n\u001b[0;32m      <a href='vscode-notebook-cell:/c%3A/Users/venka/Documents/GitHub/basic-python1/python-Qspy/file_Handling/csvfiles.ipynb#X12sZmlsZQ%3D%3D?line=5'>6</a>\u001b[0m fp\u001b[39m.\u001b[39mclose()\n",
      "\u001b[1;31mAttributeError\u001b[0m: 'dict' object has no attribute 'eid'"
     ]
    }
   ],
   "source": [
    "import csv\n",
    "fp=open('employee.csv','r',newline='\\n')\n",
    "fw=csv.DictReader(fp,['eid','ename','eage','ephone','sal','esal'])\n",
    "for i in fw:\n",
    "    print(i)\n",
    "fp.close()"
   ]
  }
 ],
 "metadata": {
  "kernelspec": {
   "display_name": "Python 3",
   "language": "python",
   "name": "python3"
  },
  "language_info": {
   "codemirror_mode": {
    "name": "ipython",
    "version": 3
   },
   "file_extension": ".py",
   "mimetype": "text/x-python",
   "name": "python",
   "nbconvert_exporter": "python",
   "pygments_lexer": "ipython3",
   "version": "3.11.4"
  }
 },
 "nbformat": 4,
 "nbformat_minor": 2
}
