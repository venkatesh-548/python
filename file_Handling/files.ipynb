{
 "cells": [
  {
   "cell_type": "markdown",
   "metadata": {},
   "source": [
    "Opening a File:\n",
    "Before performing any operation (like read or write) on the file,first we have to open that file.\n",
    "For this we should use Python's inbuilt function open()\n",
    "But at the time of open, we have to specify mode,which represents the purpose of opening file.\n",
    "\n",
    "f=open('file_name',mode)\n",
    "\n",
    "ex-> f=open('abc.txt',r)"
   ]
  },
  {
   "cell_type": "code",
   "execution_count": 1,
   "metadata": {},
   "outputs": [
    {
     "name": "stdout",
     "output_type": "stream",
     "text": [
      "file name: abc.txt\n",
      "file mode w\n",
      "is file readable: False\n",
      "is file writable: True\n",
      "is file closed: False\n",
      "is file closed: True\n"
     ]
    }
   ],
   "source": [
    "f=open('abc.txt','w')\n",
    "print('file name:',f.name)\n",
    "print('file mode',f.mode)\n",
    "print('is file readable:',f.readable())\n",
    "print('is file writable:',f.writable())\n",
    "print('is file closed:',f.closed)\n",
    "f.close()\n",
    "print('is file closed:',f.closed)\n"
   ]
  },
  {
   "cell_type": "markdown",
   "metadata": {},
   "source": [
    "Writing data to text files:\n",
    "We can write character data to the text files by using the following 2 methods.\n",
    "write(str)\n",
    "writelines(list of lines)"
   ]
  },
  {
   "cell_type": "code",
   "execution_count": 3,
   "metadata": {},
   "outputs": [
    {
     "name": "stdout",
     "output_type": "stream",
     "text": [
      "data written to the file successfully\n"
     ]
    }
   ],
   "source": [
    "f=open('abc.txt','w')\n",
    "f.write(\"venkatesh\\n\")\n",
    "f.write(\"taddi\\n\")\n",
    "f.write(\"7386624002\")\n",
    "print(\"data written to the file successfully\")\n",
    "f.close()\n",
    "\n",
    "\"\"\" in the above program the data can be override every time if we run the program\n",
    "to overcome this problem we can use the append method to add the data to the existing file\"\"\""
   ]
  },
  {
   "cell_type": "code",
   "execution_count": 8,
   "metadata": {},
   "outputs": [
    {
     "name": "stdout",
     "output_type": "stream",
     "text": [
      "the data written successfully\n"
     ]
    },
    {
     "data": {
      "text/plain": [
       "' while writing the data by using the write methods we compulsory use the \\n\\n ,otherwise the data should written in single line.'"
      ]
     },
     "execution_count": 8,
     "metadata": {},
     "output_type": "execute_result"
    }
   ],
   "source": [
    "f=open('abcd.txt','w')\n",
    "l=['sunny\\n','bunny\\n','vinny\\n','chinny\\n']\n",
    "f.writelines(l)\n",
    "print(\"the data written successfully\")\n",
    "f.close()\n",
    "\n",
    "\"\"\" while writing the data by using the write methods we compulsory use the \n",
    "\\n ,otherwise the data should written in single line.\"\"\""
   ]
  },
  {
   "cell_type": "markdown",
   "metadata": {},
   "source": [
    "reading the data from the file:\n",
    "\n",
    "we can read the character data from the text file by using the following methods\n",
    "\n",
    "read():- to read the total data from the file\n",
    "read(n):- to read the n characters from the file\n",
    "readline():- to read only one line\n",
    "readlines():- to read all the lines into the list"
   ]
  },
  {
   "cell_type": "code",
   "execution_count": 9,
   "metadata": {},
   "outputs": [
    {
     "name": "stdout",
     "output_type": "stream",
     "text": [
      "venkatesh\n",
      "taddi\n",
      "7386624002\n"
     ]
    }
   ],
   "source": [
    "f=open('abc.txt','r')\n",
    "data=f.read()\n",
    "print(data)\n",
    "f.close()"
   ]
  },
  {
   "cell_type": "code",
   "execution_count": 20,
   "metadata": {},
   "outputs": [
    {
     "name": "stdout",
     "output_type": "stream",
     "text": [
      "['sunny\\n', 'bunny\\n', 'vinny\\n', 'chinny\\n']\n"
     ]
    }
   ],
   "source": [
    "f=open('abcd.txt','r')\n",
    "# data=f.read()\n",
    "da=f.readlines()\n",
    "print(da)\n",
    "# print(data)\n",
    "f.close()"
   ]
  },
  {
   "cell_type": "markdown",
   "metadata": {},
   "source": [
    "the with statement:\n",
    "--------------------\n",
    " the with statement can be used while opening a file.we can use this to group file operation statements within a block\n",
    "\n",
    " the main advantage of the with statement is it will take care of file,after completing all the operations automatically even in the case of exceptions also\n"
   ]
  },
  {
   "cell_type": "code",
   "execution_count": 1,
   "metadata": {},
   "outputs": [
    {
     "name": "stdout",
     "output_type": "stream",
     "text": [
      "is file closed: False\n",
      "is file closed: True\n"
     ]
    }
   ],
   "source": [
    "with open('abcde.txt','w') as f:\n",
    "    f.write(\"hai how are you\\n\")\n",
    "    f.write(\"venkatesh\\n\")\n",
    "    f.write(\"bye\")\n",
    "    print(\"is file closed:\",f.closed)\n",
    "print(\"is file closed:\",f.closed)"
   ]
  },
  {
   "cell_type": "markdown",
   "metadata": {},
   "source": [
    "tell():-  we can use the tell method to return the current position of the pointer.the starting position is 0.\n",
    "\n",
    "seek():- we can use the seek method to move the pointer to the specified location."
   ]
  },
  {
   "cell_type": "code",
   "execution_count": 5,
   "metadata": {},
   "outputs": [
    {
     "name": "stdout",
     "output_type": "stream",
     "text": [
      "0\n",
      "ven\n",
      "3\n",
      "katesh\n",
      "tad\n",
      "14\n"
     ]
    }
   ],
   "source": [
    "# tell method\n",
    "f=open('abc.txt','r')\n",
    "print(f.tell())\n",
    "print(f.read(3))\n",
    "print(f.tell())\n",
    "print(f.read(10))\n",
    "print(f.tell())\n"
   ]
  },
  {
   "cell_type": "code",
   "execution_count": 27,
   "metadata": {},
   "outputs": [
    {
     "name": "stdout",
     "output_type": "stream",
     "text": [
      "All The Students Are Stupidssunny\n",
      "bunny\n",
      "vinny\n",
      "chinny\n",
      "All The Students Are Stupids\n",
      "All The Students Are Stupids\n",
      "All The Students Are Stupids\n",
      "\n",
      "the current position: 147\n",
      "the current position is: 21\n",
      "All The Students Are gems!!!sunny\n",
      "bunny\n",
      "vinny\n",
      "chinny\n",
      "All The Students Are Stupids\n",
      "All The Students Are Stupids\n",
      "All The Students Are Stupids\n",
      "\n"
     ]
    }
   ],
   "source": [
    "# seek method\n",
    "\n",
    "data='All The Students Are Stupids'\n",
    "f=open('data.txt','w')\n",
    "f.write(data)\n",
    "l=['sunny\\n','bunny\\n','vinny\\n','chinny\\n']\n",
    "l1=['All The Students Are Stupids\\n','All The Students Are Stupids\\n','All The Students Are Stupids\\n']\n",
    "# f=open('data.txt','a+')\n",
    "f=open('data.txt','a+')\n",
    "f.writelines(l)\n",
    "f.writelines(l1)\n",
    "with open('data.txt','r+') as f:\n",
    "    text=f.read()\n",
    "    print(text)\n",
    "    print(\"the current position:\",f.tell())\n",
    "    f.seek(21)\n",
    "    print(\"the current position is:\",f.tell())\n",
    "    f.write('gems!!!')\n",
    "    f.seek(0)\n",
    "    text=f.read()\n",
    "    print(text)\n",
    "\n"
   ]
  },
  {
   "cell_type": "code",
   "execution_count": 24,
   "metadata": {},
   "outputs": [
    {
     "name": "stdout",
     "output_type": "stream",
     "text": [
      "file exists: abc.txt\n",
      "the content of the file\n",
      "venkatesh\n",
      "taddi\n",
      "7386624002\n"
     ]
    }
   ],
   "source": [
    "#  Write a program to check whether the given file exists or not. If it is \n",
    "# available then print its content?\n",
    "\n",
    "import os,sys\n",
    "fname=input(\"enter file name:\")\n",
    "if os.path.isfile(fname):\n",
    "    print(\"file exists:\",fname)\n",
    "    f=open(fname,'r')\n",
    "else:\n",
    "    print('File does not exist:',fname)\n",
    "    sys.exit(0)\n",
    "print(\"the content of the file\")\n",
    "data=f.read()\n",
    "print(data)\n"
   ]
  },
  {
   "cell_type": "code",
   "execution_count": 30,
   "metadata": {},
   "outputs": [
    {
     "name": "stdout",
     "output_type": "stream",
     "text": [
      "file exists: data.txt\n",
      "All The Students Are gems!!!sunny\n",
      "\n",
      "bunny\n",
      "\n",
      "vinny\n",
      "\n",
      "chinny\n",
      "\n",
      "All The Students Are Stupids\n",
      "\n",
      "All The Students Are Stupids\n",
      "\n",
      "All The Students Are Stupids\n",
      "\n",
      "no of lines: 7\n",
      "no of words: 23\n",
      "no of char 140\n"
     ]
    }
   ],
   "source": [
    "# Q. Program to print the number of lines,words and characters present in the given file?\n",
    "\n",
    "import os\n",
    "fname=input('enter filename:')\n",
    "if os.path.isfile(fname):\n",
    "    print(\"file exists:\",fname)\n",
    "    f=open(fname,'r')\n",
    "else:\n",
    "    print(\"file does not exist\")\n",
    "lc=wc=cc=0\n",
    "for i in f:\n",
    "    print(i)\n",
    "    lc+=1\n",
    "    cc=cc+len(i)\n",
    "    w=i.split()\n",
    "    wc+=len(w)\n",
    "print(\"no of lines:\",lc)\n",
    "print(\"no of words:\",wc)\n",
    "print(\"no of char\",cc)\n",
    "\n"
   ]
  }
 ],
 "metadata": {
  "kernelspec": {
   "display_name": "Python 3",
   "language": "python",
   "name": "python3"
  },
  "language_info": {
   "codemirror_mode": {
    "name": "ipython",
    "version": 3
   },
   "file_extension": ".py",
   "mimetype": "text/x-python",
   "name": "python",
   "nbconvert_exporter": "python",
   "pygments_lexer": "ipython3",
   "version": "3.11.4"
  }
 },
 "nbformat": 4,
 "nbformat_minor": 2
}
