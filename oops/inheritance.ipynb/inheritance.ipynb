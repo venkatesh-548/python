{
 "cells": [
  {
   "cell_type": "code",
   "execution_count": 5,
   "metadata": {},
   "outputs": [
    {
     "name": "stdout",
     "output_type": "stream",
     "text": [
      "Employee Name:venky\n",
      "employee id is 548\n",
      "car info is:\n",
      "car name:suzuki and color red and model is 5g\n"
     ]
    }
   ],
   "source": [
    "#wap to composition method (IS A RELATION)\n",
    "\n",
    "class Car:\n",
    "    def __init__(self,name,model,color):\n",
    "        self.name=name\n",
    "        self.model=model\n",
    "        self.color=color\n",
    "    def carinfo(self):\n",
    "        print(f'car name:{self.name} and color {self.color} and model is {self.model}')\n",
    "    \n",
    "class Employee:\n",
    "    def __init__(self,ename,eid,car):\n",
    "        self.ename=ename\n",
    "        self.eid=eid\n",
    "        self.car=car\n",
    "    def empinfo(self):\n",
    "        print(f\"Employee Name:{self.ename}\")\n",
    "        print(f'employee id is {self.eid}')\n",
    "        print(\"car info is:\")\n",
    "        self.car.carinfo()\n",
    "c=Car(\"suzuki\",\"5g\",\"red\")\n",
    "e=Employee(\"venky\",548,c)\n",
    "e.empinfo()\n",
    "\n",
    "\n"
   ]
  },
  {
   "cell_type": "code",
   "execution_count": 1,
   "metadata": {},
   "outputs": [
    {
     "name": "stdout",
     "output_type": "stream",
     "text": [
      "venky\n",
      "548\n"
     ]
    },
    {
     "ename": "AttributeError",
     "evalue": "'Employee' object has no attribute 'car'",
     "output_type": "error",
     "traceback": [
      "\u001b[1;31m---------------------------------------------------------------------------\u001b[0m",
      "\u001b[1;31mAttributeError\u001b[0m                            Traceback (most recent call last)",
      "\u001b[1;32mc:\\Users\\venka\\Documents\\GitHub\\basic-python1\\python-Qspy\\oops\\inheritance.ipynb\\inheritance.ipynb Cell 2\u001b[0m line \u001b[0;36m2\n\u001b[0;32m     <a href='vscode-notebook-cell:/c%3A/Users/venka/Documents/GitHub/basic-python1/python-Qspy/oops/inheritance.ipynb/inheritance.ipynb#X21sZmlsZQ%3D%3D?line=19'>20</a>\u001b[0m car1\u001b[39m=\u001b[39mcar(\u001b[39m'\u001b[39m\u001b[39minnova\u001b[39m\u001b[39m'\u001b[39m,\u001b[39m'\u001b[39m\u001b[39m5g\u001b[39m\u001b[39m'\u001b[39m,\u001b[39m'\u001b[39m\u001b[39mred\u001b[39m\u001b[39m'\u001b[39m)\n\u001b[0;32m     <a href='vscode-notebook-cell:/c%3A/Users/venka/Documents/GitHub/basic-python1/python-Qspy/oops/inheritance.ipynb/inheritance.ipynb#X21sZmlsZQ%3D%3D?line=20'>21</a>\u001b[0m emp\u001b[39m=\u001b[39mEmployee(\u001b[39m\"\u001b[39m\u001b[39mvenky\u001b[39m\u001b[39m\"\u001b[39m,\u001b[39m548\u001b[39m)\n\u001b[1;32m---> <a href='vscode-notebook-cell:/c%3A/Users/venka/Documents/GitHub/basic-python1/python-Qspy/oops/inheritance.ipynb/inheritance.ipynb#X21sZmlsZQ%3D%3D?line=21'>22</a>\u001b[0m emp\u001b[39m.\u001b[39;49mempfun()\n",
      "\u001b[1;32mc:\\Users\\venka\\Documents\\GitHub\\basic-python1\\python-Qspy\\oops\\inheritance.ipynb\\inheritance.ipynb Cell 2\u001b[0m line \u001b[0;36m1\n\u001b[0;32m     <a href='vscode-notebook-cell:/c%3A/Users/venka/Documents/GitHub/basic-python1/python-Qspy/oops/inheritance.ipynb/inheritance.ipynb#X21sZmlsZQ%3D%3D?line=16'>17</a>\u001b[0m \u001b[39mprint\u001b[39m(\u001b[39mself\u001b[39m\u001b[39m.\u001b[39meno)\n\u001b[0;32m     <a href='vscode-notebook-cell:/c%3A/Users/venka/Documents/GitHub/basic-python1/python-Qspy/oops/inheritance.ipynb/inheritance.ipynb#X21sZmlsZQ%3D%3D?line=17'>18</a>\u001b[0m \u001b[39m# self.car.carfun()\u001b[39;00m\n\u001b[1;32m---> <a href='vscode-notebook-cell:/c%3A/Users/venka/Documents/GitHub/basic-python1/python-Qspy/oops/inheritance.ipynb/inheritance.ipynb#X21sZmlsZQ%3D%3D?line=18'>19</a>\u001b[0m \u001b[39mself\u001b[39;49m\u001b[39m.\u001b[39;49mcar\u001b[39m.\u001b[39mcarfun()\n",
      "\u001b[1;31mAttributeError\u001b[0m: 'Employee' object has no attribute 'car'"
     ]
    }
   ],
   "source": [
    "class car:\n",
    "    a=100\n",
    "    def __init__(self,name,model,color):\n",
    "        self.name=name\n",
    "        self.model=model\n",
    "        self.color=color\n",
    "    def carfun(self):\n",
    "        print('Car Name:',self.name)\n",
    "        print('Car Model:',self.model)\n",
    "        print('Car Color:',self.color)\n",
    "class Employee:\n",
    "    def __init__(self,ename,eno):\n",
    "        self.ename=ename\n",
    "        self.eno=eno\n",
    "    def empfun(self):\n",
    "        print(self.ename)\n",
    "        print(self.eno)\n",
    "        # self.car.carfun()\n",
    "        self.car.carfun()\n",
    "car1=car('innova','5g','red')\n",
    "emp=Employee(\"venky\",548)\n",
    "emp.empfun()"
   ]
  },
  {
   "cell_type": "code",
   "execution_count": 11,
   "metadata": {},
   "outputs": [
    {
     "name": "stdout",
     "output_type": "stream",
     "text": [
      "this is parent constructor\n",
      "parent destructor method\n",
      "this is parent instance method\n",
      "this is parent class method\n",
      "this is parent static method\n",
      "10\n"
     ]
    }
   ],
   "source": [
    "# HAS A RELATION\n",
    "\n",
    "class X:\n",
    "    def __init__(self):\n",
    "        self.a=10\n",
    "        print(\"this is parent constructor\")\n",
    "    def m1(self):\n",
    "        print(\"this is parent instance method\")\n",
    "    @classmethod\n",
    "    def m2(cls):\n",
    "        print(\"this is parent class method\")\n",
    "    @staticmethod\n",
    "    def m3():\n",
    "        print(\"this is parent static method\")\n",
    "    def __del__(self):\n",
    "        print(\"parent destructor method\")\n",
    "class Y(X):\n",
    "    pass\n",
    "y=Y()\n",
    "y.m1()\n",
    "y.m2()\n",
    "y.m3()\n",
    "print(y.a)"
   ]
  },
  {
   "cell_type": "code",
   "execution_count": 2,
   "metadata": {},
   "outputs": [
    {
     "name": "stdout",
     "output_type": "stream",
     "text": [
      "eating biryani\n",
      "venky\n",
      "20\n",
      "548\n",
      "25000\n",
      "coding python\n"
     ]
    }
   ],
   "source": [
    "class Person:\n",
    "    def __init__(self,name,age):\n",
    "        self.name=name\n",
    "        self.age=age\n",
    "    def eat(self):\n",
    "        print(\"eating biryani\")\n",
    "class SE(Person):\n",
    "    def __init__(self,name,age,eno,esal):\n",
    "        super().__init__(name,age)\n",
    "        self.eno=eno\n",
    "        self.esal=esal\n",
    "    def work(self):\n",
    "        print(s.name)\n",
    "        print(s.age)\n",
    "        print(s.eno)\n",
    "        print(s.esal)\n",
    "        print(\"coding python\")\n",
    "s=SE(\"venky\",20,548,25000)\n",
    "# print(s.name,s.age,s.eno,s.esal)\n",
    "s.eat()\n",
    "s.work()\n",
    "\n"
   ]
  },
  {
   "cell_type": "code",
   "execution_count": 5,
   "metadata": {},
   "outputs": [
    {
     "name": "stdout",
     "output_type": "stream",
     "text": [
      "22\n",
      "10\n"
     ]
    }
   ],
   "source": [
    "class P:\n",
    "    a=22      #by using super keyword we can call the parent members explicitely\n",
    "              # we can't call the the instance variables directly\n",
    "              # we can call the method and then call the variable\n",
    "    def m1(self):\n",
    "        self.a=10\n",
    "class C(P):\n",
    "    def __init__(self):\n",
    "        super().m1()\n",
    "        print(super().a)\n",
    "        print(self.a)\n",
    "c=C()"
   ]
  },
  {
   "cell_type": "code",
   "execution_count": 9,
   "metadata": {},
   "outputs": [
    {
     "name": "stdout",
     "output_type": "stream",
     "text": [
      "nvr college\n",
      "Name:venky\n",
      "Age:23\n",
      "ID:548\n",
      "Marks:75\n"
     ]
    }
   ],
   "source": [
    "#wap to use super keyword\n",
    "\n",
    "class Person:\n",
    "    col=\"nvr college\"\n",
    "    def __init__(self,name,age):\n",
    "        self.name=name\n",
    "        self.age=age\n",
    "    def display(self):\n",
    "        print(f'Name:{self.name}')\n",
    "        print(f'Age:{self.age}')\n",
    "class Student(Person):\n",
    "    def __init__(self,name,age,id,marks):\n",
    "        super().__init__(name,age)\n",
    "        self.id=id\n",
    "        self.marks=marks\n",
    "    def display(self):\n",
    "        print(super().col)\n",
    "        # print(super().name)  we can't call the instance variables directly\n",
    "        super().display()\n",
    "        print(f'ID:{self.id}')\n",
    "        print(f'Marks:{self.marks}')\n",
    "s=Student(\"venky\",23,548,75)\n",
    "s.display()\n"
   ]
  },
  {
   "cell_type": "code",
   "execution_count": 10,
   "metadata": {},
   "outputs": [
    {
     "name": "stdout",
     "output_type": "stream",
     "text": [
      "300\n"
     ]
    }
   ],
   "source": [
    "#wap to operator overloading (+)\n",
    "\n",
    "class Book:\n",
    "    def __init__(self,pages):\n",
    "        self.pages=pages\n",
    "    def __add__(self,other):\n",
    "        return self.pages+other.pages\n",
    "b1=Book(100)\n",
    "b2=Book(200)\n",
    "print(b1+b2)\n"
   ]
  },
  {
   "cell_type": "code",
   "execution_count": 14,
   "metadata": {},
   "outputs": [
    {
     "name": "stdout",
     "output_type": "stream",
     "text": [
      "Sal: 30000\n"
     ]
    }
   ],
   "source": [
    "#wap to operator overloading (*)\n",
    "\n",
    "class Employee:\n",
    "    def __init__(self,name,sal):\n",
    "        self.name=name\n",
    "        self.sal=sal\n",
    "    def __mul__(self,other):\n",
    "        return self.sal*other.days\n",
    "class Timesheet:\n",
    "    def __init__(self,name,days):\n",
    "        self.name=name\n",
    "        self.days=days\n",
    "    # def __mul__(self,other):\n",
    "    #     return self.days*other.sal\n",
    "e=Employee(\"venky\",1000)\n",
    "t=Timesheet(\"venky\",30)\n",
    "print(\"Sal:\",e*t)\n",
    "# print(\"sal:\",t*e)\n",
    "    \n"
   ]
  },
  {
   "cell_type": "code",
   "execution_count": 16,
   "metadata": {},
   "outputs": [
    {
     "name": "stdout",
     "output_type": "stream",
     "text": [
      "Gold+Land+Cash\n",
      "python programming\n"
     ]
    }
   ],
   "source": [
    "# method overriding\n",
    "\n",
    "class Parent:\n",
    "    def property(self):\n",
    "        print(\"Gold+Land+Cash\")\n",
    "    def study(self):\n",
    "        print(\"java program\")\n",
    "class Child(Parent):\n",
    "    def study(self):   #method overloading\n",
    "        print(\"python programming\")\n",
    "p=Child()\n",
    "p.property()\n",
    "p.study()"
   ]
  },
  {
   "cell_type": "code",
   "execution_count": 17,
   "metadata": {},
   "outputs": [
    {
     "name": "stdout",
     "output_type": "stream",
     "text": [
      "Gold+Land+Cash\n",
      "java program\n",
      "python programming\n"
     ]
    }
   ],
   "source": [
    "class Parent:\n",
    "    def property(self):\n",
    "        print(\"Gold+Land+Cash\")\n",
    "    def study(self):\n",
    "        print(\"java program\")\n",
    "class Child(Parent):\n",
    "    def study(self):  \n",
    "        super().study() #when we call explicitely then it will executed\n",
    "        print(\"python programming\")\n",
    "p=Child()\n",
    "p.property()\n",
    "p.study()"
   ]
  },
  {
   "cell_type": "code",
   "execution_count": 22,
   "metadata": {},
   "outputs": [
    {
     "name": "stdout",
     "output_type": "stream",
     "text": [
      "Name:venky\n",
      "Age:23\n",
      "ID:548\n",
      "Sal:30000\n",
      "************\n",
      "Name:vcj\n",
      "Age:23\n",
      "ID:548\n",
      "Sal:20000\n"
     ]
    }
   ],
   "source": [
    "# constructor over riding\n",
    "\n",
    "class Person:\n",
    "    def __init__(self,name,age):\n",
    "        self.name=name\n",
    "        self.age=age\n",
    "class Employee(Person):\n",
    "    def __init__(self,name,age,id,sal):\n",
    "        super().__init__(name,age)\n",
    "        self.id=id\n",
    "        self.sal=sal\n",
    "    def display(self):\n",
    "        print(f'Name:{self.name}')\n",
    "        print(f'Age:{self.age}')\n",
    "        print(f'ID:{self.id}')\n",
    "        print(f'Sal:{self.sal}')\n",
    "e1=Employee(\"venky\",23,548,30000)\n",
    "e1.display()\n",
    "print(\"************\")\n",
    "e2=Employee(\"vcj\",23,548,20000)\n",
    "e2.display()\n",
    "\n",
    "\n",
    "        \n"
   ]
  },
  {
   "cell_type": "code",
   "execution_count": null,
   "metadata": {},
   "outputs": [],
   "source": []
  },
  {
   "cell_type": "code",
   "execution_count": null,
   "metadata": {},
   "outputs": [],
   "source": []
  },
  {
   "cell_type": "code",
   "execution_count": null,
   "metadata": {},
   "outputs": [],
   "source": []
  },
  {
   "cell_type": "code",
   "execution_count": null,
   "metadata": {},
   "outputs": [],
   "source": []
  },
  {
   "cell_type": "code",
   "execution_count": null,
   "metadata": {},
   "outputs": [],
   "source": []
  }
 ],
 "metadata": {
  "kernelspec": {
   "display_name": "Python 3",
   "language": "python",
   "name": "python3"
  },
  "language_info": {
   "codemirror_mode": {
    "name": "ipython",
    "version": 3
   },
   "file_extension": ".py",
   "mimetype": "text/x-python",
   "name": "python",
   "nbconvert_exporter": "python",
   "pygments_lexer": "ipython3",
   "version": "3.11.4"
  },
  "orig_nbformat": 4
 },
 "nbformat": 4,
 "nbformat_minor": 2
}
