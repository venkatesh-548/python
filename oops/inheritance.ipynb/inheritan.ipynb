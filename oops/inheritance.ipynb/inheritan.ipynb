{
 "cells": [
  {
   "cell_type": "markdown",
   "metadata": {},
   "source": [
    "composition:-  by using class name or creating object we can access the members of one class is nothing but composition"
   ]
  },
  {
   "cell_type": "code",
   "execution_count": 24,
   "metadata": {},
   "outputs": [
    {
     "name": "stdout",
     "output_type": "stream",
     "text": [
      "venky\n",
      "548\n"
     ]
    },
    {
     "ename": "AttributeError",
     "evalue": "'Employee' object has no attribute 'car'",
     "output_type": "error",
     "traceback": [
      "\u001b[1;31m---------------------------------------------------------------------------\u001b[0m",
      "\u001b[1;31mAttributeError\u001b[0m                            Traceback (most recent call last)",
      "\u001b[1;32mc:\\Users\\venka\\Documents\\GitHub\\basic-python1\\python-Qspy\\oops\\inheritance.ipynb\\inheritan.ipynb Cell 2\u001b[0m line \u001b[0;36m2\n\u001b[0;32m     <a href='vscode-notebook-cell:/c%3A/Users/venka/Documents/GitHub/basic-python1/python-Qspy/oops/inheritance.ipynb/inheritan.ipynb#W2sZmlsZQ%3D%3D?line=19'>20</a>\u001b[0m car1\u001b[39m=\u001b[39mcar(\u001b[39m'\u001b[39m\u001b[39minnova\u001b[39m\u001b[39m'\u001b[39m,\u001b[39m'\u001b[39m\u001b[39m5g\u001b[39m\u001b[39m'\u001b[39m,\u001b[39m'\u001b[39m\u001b[39mred\u001b[39m\u001b[39m'\u001b[39m)\n\u001b[0;32m     <a href='vscode-notebook-cell:/c%3A/Users/venka/Documents/GitHub/basic-python1/python-Qspy/oops/inheritance.ipynb/inheritan.ipynb#W2sZmlsZQ%3D%3D?line=20'>21</a>\u001b[0m emp\u001b[39m=\u001b[39mEmployee(\u001b[39m\"\u001b[39m\u001b[39mvenky\u001b[39m\u001b[39m\"\u001b[39m,\u001b[39m548\u001b[39m)\n\u001b[1;32m---> <a href='vscode-notebook-cell:/c%3A/Users/venka/Documents/GitHub/basic-python1/python-Qspy/oops/inheritance.ipynb/inheritan.ipynb#W2sZmlsZQ%3D%3D?line=21'>22</a>\u001b[0m emp\u001b[39m.\u001b[39;49mempfun()\n",
      "\u001b[1;32mc:\\Users\\venka\\Documents\\GitHub\\basic-python1\\python-Qspy\\oops\\inheritance.ipynb\\inheritan.ipynb Cell 2\u001b[0m line \u001b[0;36m1\n\u001b[0;32m     <a href='vscode-notebook-cell:/c%3A/Users/venka/Documents/GitHub/basic-python1/python-Qspy/oops/inheritance.ipynb/inheritan.ipynb#W2sZmlsZQ%3D%3D?line=16'>17</a>\u001b[0m \u001b[39mprint\u001b[39m(\u001b[39mself\u001b[39m\u001b[39m.\u001b[39meno)\n\u001b[0;32m     <a href='vscode-notebook-cell:/c%3A/Users/venka/Documents/GitHub/basic-python1/python-Qspy/oops/inheritance.ipynb/inheritan.ipynb#W2sZmlsZQ%3D%3D?line=17'>18</a>\u001b[0m \u001b[39m# self.car.carfun()\u001b[39;00m\n\u001b[1;32m---> <a href='vscode-notebook-cell:/c%3A/Users/venka/Documents/GitHub/basic-python1/python-Qspy/oops/inheritance.ipynb/inheritan.ipynb#W2sZmlsZQ%3D%3D?line=18'>19</a>\u001b[0m \u001b[39mself\u001b[39;49m\u001b[39m.\u001b[39;49mcar\u001b[39m.\u001b[39mcarfun()\n",
      "\u001b[1;31mAttributeError\u001b[0m: 'Employee' object has no attribute 'car'"
     ]
    }
   ],
   "source": [
    "class car:\n",
    "    a=100\n",
    "    def __init__(self,name,model,color):\n",
    "        self.name=name\n",
    "        self.model=model\n",
    "        self.color=color\n",
    "    def carfun(self):\n",
    "        print('Car Name:',self.name)\n",
    "        print('Car Model:',self.model)\n",
    "        print('Car Color:',self.color)\n",
    "class Employee:\n",
    "    def __init__(self,ename,eno):\n",
    "        self.ename=ename\n",
    "        self.eno=eno\n",
    "    def empfun(self):\n",
    "        print(self.ename)\n",
    "        print(self.eno)\n",
    "        # self.car.carfun()\n",
    "        self.car.carfun()\n",
    "car1=car('innova','5g','red')\n",
    "emp=Employee(\"venky\",548)\n",
    "emp.empfun()"
   ]
  }
 ],
 "metadata": {
  "kernelspec": {
   "display_name": "Python 3",
   "language": "python",
   "name": "python3"
  },
  "language_info": {
   "codemirror_mode": {
    "name": "ipython",
    "version": 3
   },
   "file_extension": ".py",
   "mimetype": "text/x-python",
   "name": "python",
   "nbconvert_exporter": "python",
   "pygments_lexer": "ipython3",
   "version": "3.11.4"
  }
 },
 "nbformat": 4,
 "nbformat_minor": 2
}
