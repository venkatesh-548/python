{
 "cells": [
  {
   "cell_type": "code",
   "execution_count": 2,
   "metadata": {},
   "outputs": [
    {
     "name": "stdout",
     "output_type": "stream",
     "text": [
      "3\n",
      "12\n"
     ]
    }
   ],
   "source": [
    "print(1+2)\n",
    "print('1'+'2')\n"
   ]
  },
  {
   "cell_type": "code",
   "execution_count": 5,
   "metadata": {},
   "outputs": [
    {
     "ename": "TypeError",
     "evalue": "unsupported operand type(s) for +: 'test' and 'test'",
     "output_type": "error",
     "traceback": [
      "\u001b[1;31m---------------------------------------------------------------------------\u001b[0m",
      "\u001b[1;31mTypeError\u001b[0m                                 Traceback (most recent call last)",
      "\u001b[1;32mc:\\Users\\venka\\Documents\\GitHub\\basic-python1\\python-Qspy\\oops\\polymorphism.ipynb Cell 2\u001b[0m line \u001b[0;36m6\n\u001b[0;32m      <a href='vscode-notebook-cell:/c%3A/Users/venka/Documents/GitHub/basic-python1/python-Qspy/oops/polymorphism.ipynb#W1sZmlsZQ%3D%3D?line=3'>4</a>\u001b[0m obj1\u001b[39m=\u001b[39mtest(\u001b[39m10\u001b[39m)\n\u001b[0;32m      <a href='vscode-notebook-cell:/c%3A/Users/venka/Documents/GitHub/basic-python1/python-Qspy/oops/polymorphism.ipynb#W1sZmlsZQ%3D%3D?line=4'>5</a>\u001b[0m obj2\u001b[39m=\u001b[39mtest(\u001b[39m20\u001b[39m)\n\u001b[1;32m----> <a href='vscode-notebook-cell:/c%3A/Users/venka/Documents/GitHub/basic-python1/python-Qspy/oops/polymorphism.ipynb#W1sZmlsZQ%3D%3D?line=5'>6</a>\u001b[0m \u001b[39mprint\u001b[39m(obj1\u001b[39m+\u001b[39;49mobj2)\n",
      "\u001b[1;31mTypeError\u001b[0m: unsupported operand type(s) for +: 'test' and 'test'"
     ]
    }
   ],
   "source": [
    "class test:\n",
    "    def __init__(self,m1):\n",
    "        self.m1=m1\n",
    "obj1=test(10)\n",
    "obj2=test(20)\n",
    "print(obj1+obj2)"
   ]
  },
  {
   "cell_type": "code",
   "execution_count": 13,
   "metadata": {},
   "outputs": [
    {
     "name": "stdout",
     "output_type": "stream",
     "text": [
      "120\n",
      "True\n"
     ]
    }
   ],
   "source": [
    "#operator over\n",
    "class test:\n",
    "    def __init__(self,m1):\n",
    "        self.m1=m1\n",
    "    def __add__(self,other):\n",
    "        return self.m1+other.m1\n",
    "    def __gt__(self,other):\n",
    "        return self.m1>other.m1\n",
    "obj1=test(100)\n",
    "obj2=test(20)\n",
    "print(obj1+obj2)\n",
    "print(obj1>obj2)"
   ]
  },
  {
   "cell_type": "code",
   "execution_count": 18,
   "metadata": {},
   "outputs": [
    {
     "name": "stdout",
     "output_type": "stream",
     "text": [
      "child\n"
     ]
    }
   ],
   "source": [
    "# method overloading\n",
    "class test:\n",
    "    @staticmethod\n",
    "    def m1():\n",
    "        print(\"parent\")\n",
    "    @staticmethod\n",
    "    def m1():\n",
    "        print(\"child\")\n",
    "obj=test()\n",
    "obj.m1()"
   ]
  },
  {
   "cell_type": "code",
   "execution_count": 23,
   "metadata": {},
   "outputs": [
    {
     "name": "stdout",
     "output_type": "stream",
     "text": [
      "child\n"
     ]
    }
   ],
   "source": [
    "class test:\n",
    "    def __init__(self,m1):\n",
    "        self.m1=m1\n",
    "        print(\"parent\")\n",
    "    def __init__(self,m1):\n",
    "        self.m1=m1\n",
    "        print(\"child\")\n",
    "obj=test(10)\n"
   ]
  },
  {
   "cell_type": "code",
   "execution_count": 26,
   "metadata": {},
   "outputs": [
    {
     "name": "stdout",
     "output_type": "stream",
     "text": [
      "bow-bow\n",
      "meaw-meaw\n",
      "am-am\n",
      "ha-ha\n"
     ]
    }
   ],
   "source": [
    "class dog:\n",
    "    def talk(self):\n",
    "        print('bow-bow')\n",
    "class cat:\n",
    "    def talk(self):\n",
    "        print('meaw-meaw')\n",
    "class cow:\n",
    "    def talk(self):\n",
    "        print('am-am')\n",
    "class human:\n",
    "    def talk(self):\n",
    "        print('ha-ha')\n",
    "# obj=dog()\n",
    "# obj.talk()\n",
    "def f1(obj):\n",
    "    obj.talk()\n",
    "l=[dog(),cat(),cow(),human()]\n",
    "for obj in l:\n",
    "    f1(obj)"
   ]
  }
 ],
 "metadata": {
  "kernelspec": {
   "display_name": "Python 3",
   "language": "python",
   "name": "python3"
  },
  "language_info": {
   "codemirror_mode": {
    "name": "ipython",
    "version": 3
   },
   "file_extension": ".py",
   "mimetype": "text/x-python",
   "name": "python",
   "nbconvert_exporter": "python",
   "pygments_lexer": "ipython3",
   "version": "3.11.4"
  }
 },
 "nbformat": 4,
 "nbformat_minor": 2
}
