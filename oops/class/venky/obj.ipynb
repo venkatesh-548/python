{
 "cells": [
  {
   "cell_type": "code",
   "execution_count": null,
   "metadata": {},
   "outputs": [],
   "source": [
    "class classname:\n",
    "    '''documentation string''' #optional\n",
    "    #variables: instance variables,static variables and local variables\n",
    "    # methods: instance method,static method and class method\n",
    "    "
   ]
  },
  {
   "cell_type": "code",
   "execution_count": 3,
   "metadata": {},
   "outputs": [
    {
     "name": "stdout",
     "output_type": "stream",
     "text": [
      "this is student properities and actions\n"
     ]
    }
   ],
   "source": [
    "# 1 wap to access the documentation string\n",
    "\n",
    "class Student:\n",
    "    '''this is student properities and actions'''\n",
    "    pass\n",
    "print(Student.__doc__)\n",
    "# help(Student)"
   ]
  },
  {
   "cell_type": "code",
   "execution_count": 8,
   "metadata": {},
   "outputs": [
    {
     "name": "stdout",
     "output_type": "stream",
     "text": [
      "my name is venky\n",
      "my name rollno is 548\n",
      "my marks are 72\n",
      "venky 548 72\n"
     ]
    }
   ],
   "source": [
    "#wap to define class and object\n",
    "\n",
    "class Student:\n",
    "    def __init__(self):\n",
    "        self.name='venky'\n",
    "        self.rollno=548\n",
    "        self.marks=72\n",
    "    def talk(self):\n",
    "        print(f'my name is {self.name}')\n",
    "        print(f'my name rollno is {self.rollno}')\n",
    "        print(f'my marks are {self.marks}')\n",
    "s1=Student()\n",
    "s1.talk()\n",
    "print(s1.name,s1.rollno,s1.marks)\n"
   ]
  },
  {
   "cell_type": "code",
   "execution_count": 10,
   "metadata": {},
   "outputs": [
    {
     "name": "stdout",
     "output_type": "stream",
     "text": [
      "constructor execution\n",
      "constructor execution\n",
      "method execution\n"
     ]
    }
   ],
   "source": [
    "class Test:\n",
    "    def __init__(self):\n",
    "        print(\"constructor execution\")\n",
    "    def m1(self):\n",
    "        print(\"method execution\")\n",
    "t1=Test()  #constructor automatically executed while creating the object\n",
    "t2=Test()\n",
    "t1.m1()"
   ]
  },
  {
   "cell_type": "code",
   "execution_count": 14,
   "metadata": {},
   "outputs": [
    {
     "name": "stdout",
     "output_type": "stream",
     "text": [
      "hai  \n",
      "marks is 0\n",
      "hai venky\n",
      "marks is 75\n"
     ]
    }
   ],
   "source": [
    "#wap the constructor with multiple arguments\n",
    "\n",
    "class Student:\n",
    "    def __init__(self,name=\" \",marks=0):\n",
    "        self.name=name\n",
    "        self.marks=marks\n",
    "    def display(self):\n",
    "        print(f\"hai {self.name}\")\n",
    "        print(f\"marks is {self.marks}\")\n",
    "s1=Student()\n",
    "s1.display()\n",
    "s2=Student(\"venky\",75)\n",
    "s2.display()\n"
   ]
  },
  {
   "cell_type": "code",
   "execution_count": 20,
   "metadata": {},
   "outputs": [
    {
     "name": "stdout",
     "output_type": "stream",
     "text": [
      "Employee Name:venky\n",
      "Employee No:548\n",
      "Employee Salary:25k\n",
      "Employee Age:23\n",
      "-------------------------------\n",
      "Employee Name:nihal\n",
      "Employee No:401\n",
      "Employee Salary:50k\n",
      "Employee Age:27\n"
     ]
    }
   ],
   "source": [
    "#wap to print employee information\n",
    "\n",
    "class Employee:\n",
    "    def __init__(self,ename,eno,esal,eage):\n",
    "        self.empname=ename\n",
    "        self.eno=eno\n",
    "        self.esal=esal\n",
    "        self.eage=eage\n",
    "    def display(self):\n",
    "        print(f\"Employee Name:{self.empname}\")\n",
    "        print(f\"Employee No:{self.eno}\")\n",
    "        print(f\"Employee Salary:{self.esal}\")\n",
    "        print(f\"Employee Age:{self.eage}\")\n",
    "e1=Employee(\"venky\",548,\"25k\",23)\n",
    "e1.display()\n",
    "print(\"-------------------------------\")\n",
    "e2=Employee(\"nihal\",401,\"50k\",27)\n",
    "e2.display()\n"
   ]
  },
  {
   "cell_type": "code",
   "execution_count": 7,
   "metadata": {},
   "outputs": [
    {
     "name": "stdout",
     "output_type": "stream",
     "text": [
      "{'eno': 548, 'ename': 'venky', 'esal': 25000, 'age': 23, 'company': 'wipro', 'c': 23}\n",
      "{'eno': 548, 'ename': 'venky', 'esal': 25000, 'age': 23, 'company': 'wipro'}\n"
     ]
    }
   ],
   "source": [
    "# Wap to access the instance variables from various resources\n",
    "\n",
    "class Employee:\n",
    "    def __init__(self):\n",
    "        self.eno=548\n",
    "        self.ename=\"venky\"\n",
    "        self.esal=25000\n",
    "    def personal(self):\n",
    "        self.age=23   #to inetialize instance variables inside the method\n",
    "    \n",
    "e1=Employee()\n",
    "e1.personal()\n",
    "e1.company=\"wipro\" #to inetialize instance variables outside class\n",
    "e1.c=23\n",
    "print(e1.__dict__)\n",
    "# to delete instance variables\n",
    "del e1.c\n",
    "print(e1.__dict__)"
   ]
  },
  {
   "cell_type": "code",
   "execution_count": 12,
   "metadata": {},
   "outputs": [
    {
     "name": "stdout",
     "output_type": "stream",
     "text": [
      "{'__module__': '__main__', 'a': 10, '__init__': <function Test.__init__ at 0x000002808BCD1300>, 'm1': <function Test.m1 at 0x000002808BCD1260>, 'm2': <classmethod(<function Test.m2 at 0x000002808BCD3E20>)>, 'm3': <staticmethod(<function Test.m3 at 0x000002808BCD1BC0>)>, '__dict__': <attribute '__dict__' of 'Test' objects>, '__weakref__': <attribute '__weakref__' of 'Test' objects>, '__doc__': None}\n",
      "{'__module__': '__main__', 'a': 10, '__init__': <function Test.__init__ at 0x000002808BCD1300>, 'm1': <function Test.m1 at 0x000002808BCD1260>, 'm2': <classmethod(<function Test.m2 at 0x000002808BCD3E20>)>, 'm3': <staticmethod(<function Test.m3 at 0x000002808BCD1BC0>)>, '__dict__': <attribute '__dict__' of 'Test' objects>, '__weakref__': <attribute '__weakref__' of 'Test' objects>, '__doc__': None, 'b': 20}\n",
      "{'__module__': '__main__', 'a': 10, '__init__': <function Test.__init__ at 0x000002808BCD1300>, 'm1': <function Test.m1 at 0x000002808BCD1260>, 'm2': <classmethod(<function Test.m2 at 0x000002808BCD3E20>)>, 'm3': <staticmethod(<function Test.m3 at 0x000002808BCD1BC0>)>, '__dict__': <attribute '__dict__' of 'Test' objects>, '__weakref__': <attribute '__weakref__' of 'Test' objects>, '__doc__': None, 'b': 20, 'c': 30}\n",
      "{'__module__': '__main__', 'a': 10, '__init__': <function Test.__init__ at 0x000002808BCD1300>, 'm1': <function Test.m1 at 0x000002808BCD1260>, 'm2': <classmethod(<function Test.m2 at 0x000002808BCD3E20>)>, 'm3': <staticmethod(<function Test.m3 at 0x000002808BCD1BC0>)>, '__dict__': <attribute '__dict__' of 'Test' objects>, '__weakref__': <attribute '__weakref__' of 'Test' objects>, '__doc__': None, 'b': 20, 'c': 30, 'd': 40}\n",
      "{'__module__': '__main__', 'a': 10, '__init__': <function Test.__init__ at 0x000002808BCD1300>, 'm1': <function Test.m1 at 0x000002808BCD1260>, 'm2': <classmethod(<function Test.m2 at 0x000002808BCD3E20>)>, 'm3': <staticmethod(<function Test.m3 at 0x000002808BCD1BC0>)>, '__dict__': <attribute '__dict__' of 'Test' objects>, '__weakref__': <attribute '__weakref__' of 'Test' objects>, '__doc__': None, 'b': 20, 'c': 30, 'd': 40, 'e': 50}\n",
      "{'__module__': '__main__', 'a': 10, '__init__': <function Test.__init__ at 0x000002808BCD1300>, 'm1': <function Test.m1 at 0x000002808BCD1260>, 'm2': <classmethod(<function Test.m2 at 0x000002808BCD3E20>)>, 'm3': <staticmethod(<function Test.m3 at 0x000002808BCD1BC0>)>, '__dict__': <attribute '__dict__' of 'Test' objects>, '__weakref__': <attribute '__weakref__' of 'Test' objects>, '__doc__': None, 'b': 20, 'c': 30, 'd': 40, 'e': 50, 'f': 60}\n"
     ]
    }
   ],
   "source": [
    "# wap to declare the static variables\n",
    "\n",
    "class Test:\n",
    "    a=10  #with in the class directly\n",
    "    def __init__(self):\n",
    "        Test.b=20 #. Inside constructor by using class name\n",
    "    def m1(self):\n",
    "        Test.c=30  # Inside instance method by using class name\n",
    "    @classmethod\n",
    "    def m2(cls):\n",
    "        cls.d=40  #Inside classmethod by using either class name or cls variabl\n",
    "    @staticmethod\n",
    "    def m3():\n",
    "        Test.e=50  # Inside static method by using class name\n",
    "print(Test.__dict__)\n",
    "t1=Test()\n",
    "print(Test.__dict__)\n",
    "t1.m1()\n",
    "print(Test.__dict__)\n",
    "Test.m2()\n",
    "print(Test.__dict__)\n",
    "Test.m3()\n",
    "print(Test.__dict__)\n",
    "Test.f=60\n",
    "print(Test.__dict__)"
   ]
  },
  {
   "cell_type": "code",
   "execution_count": 20,
   "metadata": {},
   "outputs": [
    {
     "name": "stdout",
     "output_type": "stream",
     "text": [
      "10\n",
      "88\n",
      "22\n",
      "{'__module__': '__main__', 'a': 22, 'm1': <function Test.m1 at 0x000002808BC5B920>, '__dict__': <attribute '__dict__' of 'Test' objects>, '__weakref__': <attribute '__weakref__' of 'Test' objects>, '__doc__': None}\n",
      "22\n"
     ]
    }
   ],
   "source": [
    "class Test:\n",
    "    a=10\n",
    "    def m1(self):\n",
    "        self.b=88\n",
    "t1=Test()\n",
    "t1.m1()\n",
    "print(Test.a)\n",
    "print(t1.b)\n",
    "Test.a=22\n",
    "print(Test.a)\n",
    "print(Test.__dict__)\n",
    "t2=Test()\n",
    "print(t2.a)\n"
   ]
  },
  {
   "cell_type": "code",
   "execution_count": 25,
   "metadata": {},
   "outputs": [
    {
     "name": "stdout",
     "output_type": "stream",
     "text": [
      "{'__module__': '__main__', '__init__': <function Test.__init__ at 0x000002808BE6C7C0>, 'm1': <function Test.m1 at 0x000002808BE6C540>, 'm2': <staticmethod(<function Test.m2 at 0x000002808BE6C5E0>)>, '__dict__': <attribute '__dict__' of 'Test' objects>, '__weakref__': <attribute '__weakref__' of 'Test' objects>, '__doc__': None, 'b': 20}\n",
      "{'__module__': '__main__', '__init__': <function Test.__init__ at 0x000002808BE6C7C0>, 'm1': <function Test.m1 at 0x000002808BE6C540>, 'm2': <staticmethod(<function Test.m2 at 0x000002808BE6C5E0>)>, '__dict__': <attribute '__dict__' of 'Test' objects>, '__weakref__': <attribute '__weakref__' of 'Test' objects>, '__doc__': None, 'c': 30}\n",
      "{'__module__': '__main__', '__init__': <function Test.__init__ at 0x000002808BE6C7C0>, 'm1': <function Test.m1 at 0x000002808BE6C540>, 'm2': <staticmethod(<function Test.m2 at 0x000002808BE6C5E0>)>, '__dict__': <attribute '__dict__' of 'Test' objects>, '__weakref__': <attribute '__weakref__' of 'Test' objects>, '__doc__': None}\n"
     ]
    }
   ],
   "source": [
    "class Test:\n",
    "    a=10\n",
    "    def __init__(self):\n",
    "        Test.b=20\n",
    "        del Test.a\n",
    "    def m1(self):\n",
    "        Test.c=30\n",
    "        del Test.b\n",
    "    @staticmethod\n",
    "    def m2(cls):\n",
    "        cls.d=40\n",
    "        del Test.c\n",
    "t=Test()\n",
    "print(Test.__dict__)\n",
    "t.m1()\n",
    "print(Test.__dict__)\n",
    "# t.m2()\n",
    "# print(Test.__dict__)\n",
    "del Test.c\n",
    "print(Test.__dict__)\n"
   ]
  },
  {
   "cell_type": "code",
   "execution_count": 7,
   "metadata": {},
   "outputs": [
    {
     "name": "stdout",
     "output_type": "stream",
     "text": [
      "welcome to the CANARA BANK CNRB004803\n",
      "d-deposit \n",
      "c-cust_details \n",
      "w-withdraw \n",
      "e-exit\n",
      "NAME: venkatesh\n",
      "ACCOUNT_NO: 101\n",
      "AADHAR_CARD: 980860790647\n",
      "PANCARD PANC234HG0\n",
      "EMAIL: venky@gmail.com\n",
      "GENDER male\n",
      "DOB 15-07-2001\n",
      "d-deposit \n",
      "c-cust_details \n",
      "w-withdraw \n",
      "e-exit\n",
      "hai venkatesh and ACC_NO:101 balance after deposit is 2000.0\n",
      "d-deposit \n",
      "c-cust_details \n",
      "w-withdraw \n",
      "e-exit\n",
      " hai venkatesh and ACC_NO:101 balance after withdraw is 1000.0\n",
      "d-deposit \n",
      "c-cust_details \n",
      "w-withdraw \n",
      "e-exit\n",
      "----thanks for banking-----\n"
     ]
    }
   ],
   "source": [
    "\n",
    "class Customer:\n",
    "    bank=\"CANARA BANK\"\n",
    "    IFSC=\"CNRB004803\"\n",
    "    no_cust=0\n",
    "    acc_no=100\n",
    "    def __init__(self,name,balance=0.0):\n",
    "        self.name=name\n",
    "        self.balance=balance\n",
    "        self.aadhar=980860790647\n",
    "        self.pancard=\"PANC234HG0\"\n",
    "        self.gender=\"male\"\n",
    "        self.email=\"venky@gmail.com\"\n",
    "        self.dob='15-07-2001'\n",
    "        self.no_cust_inc()\n",
    "        self.account_no=100+self.no_cust\n",
    "    @classmethod\n",
    "    def no_cust_inc(cls):\n",
    "        cls.no_cust+=1\n",
    "    def cust_details(self):\n",
    "        print(\"NAME:\",self.name)\n",
    "        print(\"ACCOUNT_NO:\",self.account_no)\n",
    "        print(\"AADHAR_CARD:\",self.aadhar)\n",
    "        print(\"PANCARD:\",self.pancard)\n",
    "        print(\"EMAIL:\",self.email)\n",
    "        print(\"GENDER:\",self.gender)\n",
    "        print(\"DOB:\",self.dob)\n",
    "    def deposit(self,amt):\n",
    "        self.balance=self.balance+amt\n",
    "        print(f\"hai {self.name} and ACC_NO:{self.account_no} balance after deposit is {self.balance}\")\n",
    "    def withdraw(self,amt):\n",
    "        if amt>self.balance:\n",
    "            print(\"insufficient funds\")\n",
    "            return\n",
    "        self.balance=self.balance-amt\n",
    "        print(f\" hai {self.name} and ACC_NO:{self.account_no} balance after withdraw is {self.balance}\")\n",
    "print(f'welcome to the {Customer.bank} {Customer.IFSC}')\n",
    "name=input(\"enter name:\")\n",
    "c=Customer(name)\n",
    "while True:\n",
    "    print('d-deposit \\nc-cust_details \\nw-withdraw \\ne-exit')\n",
    "    option=input(\"enter your choice:\")\n",
    "    if option=='d' or option==\"D\":\n",
    "        amt=eval(input(\"enter amount:\"))\n",
    "        c.deposit(amt)\n",
    "    elif option=='c' or option==\"C\":\n",
    "        c.cust_details()\n",
    "    elif option==\"w\" or option==\"W\":\n",
    "        amt=eval(input(\"enter amount:\"))\n",
    "        c.withdraw(amt)\n",
    "    elif option==\"e\" or option==\"E\":\n",
    "        print(\"----thanks for banking-----\")\n",
    "        break\n",
    "    else:\n",
    "        print(\"invalid option...plz choose valid option\")"
   ]
  },
  {
   "cell_type": "code",
   "execution_count": 1,
   "metadata": {},
   "outputs": [
    {
     "name": "stdout",
     "output_type": "stream",
     "text": [
      "hai nagi \n",
      "your marks are 456\n",
      "you got the first rank\n",
      "hai vdv \n",
      "your marks are 35\n",
      "you failed in the exam\n",
      "hai hsg \n",
      "your marks are 365\n",
      "you got the first rank\n"
     ]
    }
   ],
   "source": [
    "class Student:\n",
    "    def __init__(self,name,marks):\n",
    "        self.name=name\n",
    "        self.marks=marks\n",
    "    def display(self):\n",
    "        print(f'hai {self.name} ')\n",
    "        print(f'your marks are {self.marks}')\n",
    "    def grade(self):\n",
    "        if self.marks>80:\n",
    "            print(\"you got the first rank\")\n",
    "        elif 60<self.marks<=80:\n",
    "            print(\"you got the second rank\")\n",
    "        elif 40<self.marks<=60:\n",
    "            print(\"you got the third rank\")\n",
    "        else:\n",
    "            print(\"you failed in the exam\")\n",
    "n=int(input(\"enter no of students:\"))\n",
    "for i in range(n):\n",
    "    name=input(\"enter name:\")\n",
    "    marks=int(input(\"enter marks\"))\n",
    "    s=Student(name,marks)\n",
    "    s.display()\n",
    "    s.grade()\n",
    "    # print()\n",
    "\n",
    "\n"
   ]
  },
  {
   "cell_type": "code",
   "execution_count": 6,
   "metadata": {},
   "outputs": [
    {
     "name": "stdout",
     "output_type": "stream",
     "text": [
      "constructor\n",
      "constructor\n",
      "method\n",
      "method\n",
      "method\n",
      "method\n"
     ]
    }
   ],
   "source": [
    "class student:\n",
    "    def __init__(self):\n",
    "        print(\"constructor\")\n",
    "    def display(self):\n",
    "        print(\"method\")\n",
    "s=student()\n",
    "s1=student()\n",
    "s.display()\n",
    "s.display()\n",
    "s.display()\n",
    "s.display()"
   ]
  },
  {
   "cell_type": "code",
   "execution_count": 13,
   "metadata": {},
   "outputs": [
    {
     "data": {
      "text/plain": [
       "{1601: <__main__.bank at 0x20b38c03910>,\n",
       " 1602: <__main__.bank at 0x20b38c01890>}"
      ]
     },
     "execution_count": 13,
     "metadata": {},
     "output_type": "execute_result"
    }
   ],
   "source": [
    "class bank:\n",
    "    bname=\"icici\"\n",
    "    branch=\"hyd\"\n",
    "    ifsc=\"icicibn0004567\"\n",
    "    no_cust=0\n",
    "    details={}\n",
    "    def __init__(self,name,age,phone):\n",
    "        self.name=name\n",
    "        self.phone=phone\n",
    "        self.age=age\n",
    "        self.inc_no_of_cust()\n",
    "        self.acc_no=1600+self.no_cust\n",
    "        self.conct_details(self.acc_no,self)\n",
    "    @classmethod\n",
    "    def inc_no_of_cust(cls):\n",
    "        cls.no_cust+=1\n",
    "    @classmethod\n",
    "    def conct_details(cls,acc_no,self):\n",
    "        cls.details[acc_no]=self\n",
    "\n",
    "ob=bank(\"venky\",23,4387563756)\n",
    "ob1=bank(\"venky\",23,4387563756)\n",
    "bank.details\n",
    "# ob1.__dict__\n",
    "    "
   ]
  },
  {
   "cell_type": "code",
   "execution_count": 8,
   "metadata": {},
   "outputs": [
    {
     "name": "stdout",
     "output_type": "stream",
     "text": [
      "constructor\n",
      "vennd\n",
      "**********method*********\n",
      "vennd\n",
      "venky\n",
      "vennd\n"
     ]
    }
   ],
   "source": [
    "class std:\n",
    "    cname=\"vennd\"\n",
    "    cid=12312\n",
    "    def __init__(self,name,id):\n",
    "        print(\"constructor\")\n",
    "        self.name=name\n",
    "        self.id=id\n",
    "    def fun(self):\n",
    "        print(\"**********method*********\")\n",
    "        # print(self.name)\n",
    "        # print(self.id)\n",
    "        print(self.cname)\n",
    "        self.cname=input(\"enter name:\")\n",
    "        print(self.cname)\n",
    "\n",
    "    # def nagi(self):\n",
    "    #     print(self.cname)\n",
    "    # @classmethod\n",
    "    # def m1(cls):\n",
    "    #     cls.cname=(input(\"enter name:\"))\n",
    "    #     print(cls.cname)\n",
    "s=std(\"venn\",540)\n",
    "# s1=std(\"dh\",67)\n",
    "print(std.cname)\n",
    "s.fun()\n",
    "print(std.cname)\n",
    "\n",
    "# s.nagi()\n",
    "# s1.fun()\n",
    "# s1.m1()\n",
    "# s.m1()\n",
    "# s.fun()\n",
    "# s1.fun()\n",
    "# s.fun()"
   ]
  }
 ],
 "metadata": {
  "kernelspec": {
   "display_name": "Python 3",
   "language": "python",
   "name": "python3"
  },
  "language_info": {
   "codemirror_mode": {
    "name": "ipython",
    "version": 3
   },
   "file_extension": ".py",
   "mimetype": "text/x-python",
   "name": "python",
   "nbconvert_exporter": "python",
   "pygments_lexer": "ipython3",
   "version": "3.11.4"
  },
  "orig_nbformat": 4
 },
 "nbformat": 4,
 "nbformat_minor": 2
}
