{
 "cells": [
  {
   "cell_type": "code",
   "execution_count": 3,
   "metadata": {},
   "outputs": [
    {
     "name": "stdout",
     "output_type": "stream",
     "text": [
      "(venky got [12, 12, 13])\n"
     ]
    }
   ],
   "source": [
    "class students:\n",
    "    def __init__(self,name):\n",
    "        self.name=name\n",
    "        self.marks=[]\n",
    "    def entermarks(self):\n",
    "        for i in range(3):\n",
    "            m=int(input(\"enter marks:\"))\n",
    "            self.marks+=[m]\n",
    "    def display(self):\n",
    "        print(f'({self.name} got {self.marks})')\n",
    "s=students(\"venky\")\n",
    "s.entermarks()\n",
    "s.display()\n"
   ]
  },
  {
   "cell_type": "code",
   "execution_count": 5,
   "metadata": {},
   "outputs": [
    {
     "name": "stdout",
     "output_type": "stream",
     "text": [
      "taddi\n",
      "3-136\n",
      "mainroad\n",
      "wap02170A0079\n",
      "naidu\n",
      "48\n",
      "8736557625\n",
      "naidu@gmail.com\n",
      "893274768756\n",
      "*************************************\n",
      "taddi\n",
      "3-136\n",
      "mainroad\n",
      "wap02170A0079\n",
      "mangamma\n",
      "45\n",
      "8736557625\n",
      "mangamma@gmail.com\n",
      "893274768756\n",
      "*************************************\n",
      "taddi\n",
      "3-136\n",
      "mainroad\n",
      "wap02170A0079\n",
      "rama\n",
      "25\n",
      "8736557625\n",
      "rama@gmail.com\n",
      "893274768756\n",
      "*************************************\n",
      "taddi\n",
      "3-136\n",
      "mainroad\n",
      "wap02170A0079\n",
      "venky\n",
      "23\n",
      "8736557625\n",
      "venky@gmail.com\n",
      "893274768756\n",
      "*************************************\n"
     ]
    }
   ],
   "source": [
    "class family:\n",
    "    surname=\"taddi\"\n",
    "    house=\"3-136\"\n",
    "    street=\"mainroad\"\n",
    "    ration=\"wap02170A0079\"\n",
    "    # list_fam=[]\n",
    "    def __init__(self,name,age,phone,email,aadhar):\n",
    "        self.name=name\n",
    "        self.age=age\n",
    "        self.phone=phone\n",
    "        self.email=email\n",
    "        self.aadhar=aadhar\n",
    "        # list_fam+=[]\n",
    "    def display(self):\n",
    "        print(self.surname)\n",
    "        print(self.house)\n",
    "        print(self.street)\n",
    "        print(self.ration)\n",
    "        print(self.name)\n",
    "        print(self.age)\n",
    "        print(self.phone)\n",
    "        print(self.email)\n",
    "        print(self.aadhar)\n",
    "        print(\"*************************************\")\n",
    "father=family(\"naidu\",48,8736557625,'naidu@gmail.com',893274768756)\n",
    "father.display()\n",
    "mom=family(\"mangamma\",45,8736557625,'mangamma@gmail.com',893274768756)\n",
    "mom.display()\n",
    "daughter=family(\"rama\",25,8736557625,'rama@gmail.com',893274768756)\n",
    "daughter.display()\n",
    "son=family(\"venky\",23,8736557625,'venky@gmail.com',893274768756)\n",
    "son.display()"
   ]
  },
  {
   "cell_type": "code",
   "execution_count": 23,
   "metadata": {},
   "outputs": [
    {
     "name": "stdout",
     "output_type": "stream",
     "text": [
      "constuctor\n",
      "method\n",
      "method\n"
     ]
    }
   ],
   "source": [
    "class fun:\n",
    "    def __init__(self):\n",
    "        print(\"constuctor\")\n",
    "    def display(self):\n",
    "        print(\"method\")\n",
    "c=fun()\n",
    "# c1=fun()\n",
    "c.display()\n",
    "c.display()\n",
    "# c1.display()\n"
   ]
  },
  {
   "cell_type": "code",
   "execution_count": 30,
   "metadata": {},
   "outputs": [
    {
     "name": "stdout",
     "output_type": "stream",
     "text": [
      "******************************\n",
      "surname: spiders\n",
      "sddress: balnglore\n",
      "qspy: testing\n",
      "pyspy: python\n",
      "jspy: java\n",
      "******************************\n",
      "surname: spiders\n",
      "sddress: balnglore\n",
      "qspy: manual\n",
      "pyspy: django\n",
      "jspy: core\n"
     ]
    }
   ],
   "source": [
    "class family:\n",
    "    sname=\"spiders\"\n",
    "    addres=\"balnglore\"\n",
    "    def __init__(self,qspy,pyspy,jspy):\n",
    "        self.qspy=qspy\n",
    "        self.pyspy=pyspy\n",
    "        self.jspy=jspy\n",
    "    def display(self):\n",
    "        print(\"*\"*30)\n",
    "        print(\"surname:\",self.sname)\n",
    "        print(\"sddress:\",self.addres)\n",
    "        print(\"qspy:\",self.qspy)\n",
    "        print(\"pyspy:\",self.pyspy)\n",
    "        print(\"jspy:\",self.jspy)\n",
    "obj=family(\"testing\",\"python\",\"java\")\n",
    "obj1=family(\"manual\",\"django\",\"core\")\n",
    "# family.display(obj)\n",
    "# family.display(obj1)\n",
    "# obj.display()\n",
    "# obj1.display()"
   ]
  },
  {
   "cell_type": "code",
   "execution_count": 1,
   "metadata": {},
   "outputs": [
    {
     "name": "stdout",
     "output_type": "stream",
     "text": [
      "\n",
      "Veg Menu:\n",
      "Veg Biryani: 150\n",
      "Paneer Tikka: 200\n",
      "\n",
      "Non-veg Menu:\n",
      "Chicken Biryani: 250\n",
      "Mutton Rogan Josh: 300\n",
      "\n",
      "Noodles Menu:\n",
      "Hakka Noodles: 100\n",
      "Chicken Chow Mein: 200\n",
      "\n",
      "\n",
      "Veg Biryani has been added to your cart.\n",
      "\n",
      "\n",
      "Chicken Biryani has been added to your cart.\n",
      "\n",
      "Your Cart:\n",
      "Veg Biryani: 1 x 150 = 150\n",
      "Chicken Biryani: 1 x 250 = 250\n",
      "\n",
      "Total Price: 400\n"
     ]
    }
   ],
   "source": [
    "class Restaurant:\n",
    "    menu = {\n",
    "        \"veg\": {\n",
    "            \"Veg Biryani\": 150,\n",
    "            \"Paneer Tikka\": 200,\n",
    "            # Add more items...\n",
    "        },\n",
    "        \"non-veg\": {\n",
    "            \"Chicken Biryani\": 250,\n",
    "            \"Mutton Rogan Josh\": 300,\n",
    "            # Add more items...\n",
    "        },\n",
    "        \"noodles\": {\n",
    "            \"Hakka Noodles\": 100,\n",
    "            \"Chicken Chow Mein\": 200,\n",
    "            # Add more items...\n",
    "        }\n",
    "    }\n",
    "\n",
    "    def __init__(self):\n",
    "        self.cart = {}\n",
    "\n",
    "    def display_menu(self):\n",
    "        for category, items in self.menu.items():\n",
    "            print(f\"\\n{category.capitalize()} Menu:\")\n",
    "            for item, price in items.items():\n",
    "                print(f\"{item}: {price}\")\n",
    "\n",
    "    def add_to_cart(self, category, item):\n",
    "        if category in self.menu and item in self.menu[category]:\n",
    "            if item in self.cart:\n",
    "                self.cart[item] += 1\n",
    "            else:\n",
    "                self.cart[item] = 1\n",
    "            print(f\"\\n\\n{item} has been added to your cart.\")\n",
    "        else:\n",
    "            print(\"This item is not in the menu.\")\n",
    "\n",
    "    def view_cart(self):\n",
    "        print(\"\\nYour Cart:\")\n",
    "        total_price = 0\n",
    "        for item, quantity in self.cart.items():\n",
    "            price = self.get_price(item)\n",
    "            print(f\"{item}: {quantity} x {price} = {quantity * price}\")\n",
    "            total_price += quantity * price\n",
    "        print(f\"\\nTotal Price: {total_price}\")\n",
    "\n",
    "    def get_price(self, item):\n",
    "        for category in self.menu:\n",
    "            if item in self.menu[category]:\n",
    "                return self.menu[category][item]\n",
    "        return 0\n",
    "\n",
    "# Create a Restaurant object\n",
    "restaurant = Restaurant()\n",
    "\n",
    "# Display the menu\n",
    "restaurant.display_menu()\n",
    "\n",
    "# Add items to cart\n",
    "restaurant.add_to_cart(\"veg\", \"Veg Biryani\")\n",
    "restaurant.add_to_cart(\"non-veg\", \"Chicken Biryani\")\n",
    "\n",
    "# View the cart\n",
    "restaurant.view_cart()"
   ]
  },
  {
   "cell_type": "code",
   "execution_count": null,
   "metadata": {},
   "outputs": [],
   "source": []
  }
 ],
 "metadata": {
  "kernelspec": {
   "display_name": "Python 3",
   "language": "python",
   "name": "python3"
  },
  "language_info": {
   "codemirror_mode": {
    "name": "ipython",
    "version": 3
   },
   "file_extension": ".py",
   "mimetype": "text/x-python",
   "name": "python",
   "nbconvert_exporter": "python",
   "pygments_lexer": "ipython3",
   "version": "3.11.4"
  }
 },
 "nbformat": 4,
 "nbformat_minor": 2
}
