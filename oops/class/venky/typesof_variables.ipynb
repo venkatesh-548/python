{
 "cells": [
  {
   "cell_type": "code",
   "execution_count": 6,
   "metadata": {},
   "outputs": [
    {
     "name": "stdout",
     "output_type": "stream",
     "text": [
      "venky got 490 %\n",
      "ram got 93.33333333333333 %\n"
     ]
    }
   ],
   "source": [
    "#class method\n",
    "\n",
    "class Student:\n",
    "    def __init__(self,name,marks):\n",
    "        self.name=name\n",
    "        self.marks=marks\n",
    "    def meg(self):\n",
    "        print(self.name+\" got \"+self.marks+\" %\")\n",
    "    @classmethod\n",
    "    def get_per(cls,name,marks):\n",
    "        return cls(name,str((int(marks)/600)*100))\n",
    "s1=Student(\"venky\",\"490\")\n",
    "s1.meg()\n",
    "name=\"ram\"\n",
    "marks=\"560\"\n",
    "s2=Student.get_per(name,marks)\n",
    "s2.meg()\n"
   ]
  },
  {
   "cell_type": "code",
   "execution_count": 10,
   "metadata": {},
   "outputs": [
    {
     "data": {
      "text/plain": [
       "3"
      ]
     },
     "execution_count": 10,
     "metadata": {},
     "output_type": "execute_result"
    }
   ],
   "source": [
    "#classmethod\n",
    "class Student:\n",
    "    counter=0\n",
    "    def __init__(self,name,marks):\n",
    "        self.name=name\n",
    "        self.marks=marks\n",
    "        Student.counter+=1\n",
    "    @classmethod\n",
    "    def counter_method(cls):\n",
    "        return cls.counter\n",
    "s1=Student(\"vemky\",540)\n",
    "s2=Student(\"vemky\",340)\n",
    "s3=Student(\"vemky\",440)\n",
    "Student.counter_method()\n",
    "s1.counter_method()\n",
    "    \n"
   ]
  },
  {
   "cell_type": "code",
   "execution_count": 13,
   "metadata": {},
   "outputs": [
    {
     "name": "stdout",
     "output_type": "stream",
     "text": [
      "belongs to school\n"
     ]
    }
   ],
   "source": [
    "#staticmethod\n",
    "class Student:\n",
    "    counter=0\n",
    "    def __init__(self,name,marks):\n",
    "        self.name=name\n",
    "        self.marks=marks\n",
    "        Student.counter+=1\n",
    "    @classmethod\n",
    "    def counter_method(cls):\n",
    "        return cls.counter\n",
    "    @staticmethod\n",
    "    def get_age(age):\n",
    "        if age>17:\n",
    "            print(\"belongs to school\")\n",
    "        else:\n",
    "            print(\"belongs to college\")\n",
    "s1=Student(\"ram\",560)\n",
    "s1.counter_method()\n",
    "s2=Student.get_age(18)\n"
   ]
  },
  {
   "cell_type": "markdown",
   "metadata": {},
   "source": [
    "1. Instance Variables:\n",
    "If the value of a variable is varied from object to object, then such type of variables are called \n",
    "instance variables.\n",
    "For every object a separate copy of instance variables will be created.\n",
    "Where we can declare Instance variables:\n",
    "1. Inside Constructor by using self variable\n",
    "2. Inside Instance Method by using self variable\n",
    "3. Outside of the class by using object reference variable"
   ]
  },
  {
   "cell_type": "code",
   "execution_count": 15,
   "metadata": {},
   "outputs": [
    {
     "name": "stdout",
     "output_type": "stream",
     "text": [
      "{'name': 'ram', 'marks': 560, 'age': 24}\n"
     ]
    }
   ],
   "source": [
    "#instance variables\n",
    "#1. Inside Constructor by using self variable\n",
    "class Student:\n",
    "    def __init__(self,name,marks,age):\n",
    "        self.name=name\n",
    "        self.marks=marks\n",
    "        self.age=age\n",
    "s=Student(\"ram\",560,24)\n",
    "print(s.__dict__)"
   ]
  },
  {
   "cell_type": "code",
   "execution_count": 18,
   "metadata": {},
   "outputs": [
    {
     "name": "stdout",
     "output_type": "stream",
     "text": [
      "{'name': 'sita', 'age': 23, 'marks': 400}\n"
     ]
    }
   ],
   "source": [
    "#2. Inside Instance Method by using self variable:\n",
    "\n",
    "class Test:\n",
    "    def __init__(self,name,age):\n",
    "        self.name=name\n",
    "        self.age=age\n",
    "    def m1(self):\n",
    "        self.marks=400\n",
    "t=Test(\"sita\",23)\n",
    "t.m1()\n",
    "print(t.__dict__)"
   ]
  },
  {
   "cell_type": "code",
   "execution_count": 22,
   "metadata": {},
   "outputs": [
    {
     "name": "stdout",
     "output_type": "stream",
     "text": [
      "{'name': 'sita', 'age': 23, 'marks': 400, 'branch': 'cse', 'per': 67}\n"
     ]
    }
   ],
   "source": [
    "#3. Outside of the class by using object reference variable:\n",
    "\n",
    "class Test:\n",
    "    def __init__(self,name,age):\n",
    "        self.name=name\n",
    "        self.age=age\n",
    "    def m1(self):\n",
    "        self.marks=400\n",
    "t=Test(\"sita\",23)\n",
    "t.m1()\n",
    "t.branch=\"cse\"\n",
    "t.per=67\n",
    "print(t.__dict__)"
   ]
  },
  {
   "cell_type": "markdown",
   "metadata": {},
   "source": [
    "How to access Instance variables:\n",
    "We can access instance variables with in the class by using self variable and outside of the class by using object reference."
   ]
  },
  {
   "cell_type": "code",
   "execution_count": 32,
   "metadata": {},
   "outputs": [
    {
     "name": "stdout",
     "output_type": "stream",
     "text": [
      "{'a': 100}\n",
      "10\n",
      "20\n",
      "{'a': 10, 'b': 20}\n",
      "{'a': 100}\n",
      "100\n",
      "10\n",
      "20\n"
     ]
    }
   ],
   "source": [
    "# How to access Instance variables:\n",
    "\n",
    "class Test:\n",
    "    def __init__(self):\n",
    "        self.a=10\n",
    "        self.b=20\n",
    "        self.c=30\n",
    "    def m1(self):\n",
    "        print(self.a)\n",
    "        print(self.b)\n",
    "        del self.c\n",
    "print(t.__dict__)\n",
    "t=Test()\n",
    "t.m1()\n",
    "print(t.__dict__)\n",
    "t.a=100\n",
    "t.b=200\n",
    "del t.b\n",
    "print(t.__dict__)\n",
    "print(t.a)\n",
    "t1=Test()\n",
    "t1.m1()"
   ]
  },
  {
   "cell_type": "code",
   "execution_count": 39,
   "metadata": {},
   "outputs": [
    {
     "name": "stdout",
     "output_type": "stream",
     "text": [
      "{'__module__': '__main__', 'a': 10, '__init__': <function Test.__init__ at 0x00000237C3CB84A0>, 'm1': <function Test.m1 at 0x00000237C3CBA020>, 'm2': <classmethod(<function Test.m2 at 0x00000237C3CB85E0>)>, 'm3': <staticmethod(<function Test.m3 at 0x00000237C3CBA0C0>)>, '__dict__': <attribute '__dict__' of 'Test' objects>, '__weakref__': <attribute '__weakref__' of 'Test' objects>, '__doc__': None}\n",
      "{'__module__': '__main__', 'a': 10, '__init__': <function Test.__init__ at 0x00000237C3CB84A0>, 'm1': <function Test.m1 at 0x00000237C3CBA020>, 'm2': <classmethod(<function Test.m2 at 0x00000237C3CB85E0>)>, 'm3': <staticmethod(<function Test.m3 at 0x00000237C3CBA0C0>)>, '__dict__': <attribute '__dict__' of 'Test' objects>, '__weakref__': <attribute '__weakref__' of 'Test' objects>, '__doc__': None, 'b': 20, 'c': 30}\n",
      "{'__module__': '__main__', 'a': 10, '__init__': <function Test.__init__ at 0x00000237C3CB84A0>, 'm1': <function Test.m1 at 0x00000237C3CBA020>, 'm2': <classmethod(<function Test.m2 at 0x00000237C3CB85E0>)>, 'm3': <staticmethod(<function Test.m3 at 0x00000237C3CBA0C0>)>, '__dict__': <attribute '__dict__' of 'Test' objects>, '__weakref__': <attribute '__weakref__' of 'Test' objects>, '__doc__': None, 'b': 20, 'c': 30, 'd1': 40, 'd2': 50}\n",
      "{'__module__': '__main__', 'a': 10, '__init__': <function Test.__init__ at 0x00000237C3CB84A0>, 'm1': <function Test.m1 at 0x00000237C3CBA020>, 'm2': <classmethod(<function Test.m2 at 0x00000237C3CB85E0>)>, 'm3': <staticmethod(<function Test.m3 at 0x00000237C3CBA0C0>)>, '__dict__': <attribute '__dict__' of 'Test' objects>, '__weakref__': <attribute '__weakref__' of 'Test' objects>, '__doc__': None, 'b': 20, 'c': 30, 'd1': 40, 'd2': 50, 'e': 60}\n",
      "{'__module__': '__main__', 'a': 10, '__init__': <function Test.__init__ at 0x00000237C3CB84A0>, 'm1': <function Test.m1 at 0x00000237C3CBA020>, 'm2': <classmethod(<function Test.m2 at 0x00000237C3CB85E0>)>, 'm3': <staticmethod(<function Test.m3 at 0x00000237C3CBA0C0>)>, '__dict__': <attribute '__dict__' of 'Test' objects>, '__weakref__': <attribute '__weakref__' of 'Test' objects>, '__doc__': None, 'b': 20, 'c': 30, 'd1': 40, 'd2': 50, 'e': 60, 'f': 70}\n"
     ]
    }
   ],
   "source": [
    "class Test:\n",
    "    a=10\n",
    "    def __init__(self):\n",
    "        Test.b=20\n",
    "    def m1(self):\n",
    "        Test.c=30\n",
    "    @classmethod\n",
    "    def m2(cls):\n",
    "        cls.d1=40\n",
    "        Test.d2=50\n",
    "    @staticmethod\n",
    "    def m3():\n",
    "        Test.e=60\n",
    "print(Test.__dict__)\n",
    "t=Test()\n",
    "t.m1()\n",
    "print(Test.__dict__)\n",
    "Test.m2()\n",
    "print(Test.__dict__)\n",
    "Test.m3()\n",
    "print(Test.__dict__)\n",
    "Test.f=70\n",
    "print(Test.__dict__)"
   ]
  },
  {
   "cell_type": "markdown",
   "metadata": {},
   "source": [
    "1. Static variables:\n",
    "If the value of a variable is not varied from object to object, such type of variables we have to \n",
    "declare with in the class directly but outside of methods. Such type of variables are called Static \n",
    "variables.\n",
    "For total class only one copy of static variable will be created and shared by all objects of that \n",
    "class.\n",
    "We can access static variables either by class name or by object reference. But recommended to \n",
    "use class name.\n"
   ]
  },
  {
   "cell_type": "code",
   "execution_count": 4,
   "metadata": {},
   "outputs": [
    {
     "name": "stdout",
     "output_type": "stream",
     "text": [
      "t1: 10 20\n",
      "t2: 10 20\n",
      "t1: 100 20\n",
      "t2: 100 20\n"
     ]
    }
   ],
   "source": [
    "class test:\n",
    "    a=10\n",
    "    def __init__(self):\n",
    "        self.b=20\n",
    "t1=test()\n",
    "t2=test()\n",
    "print(\"t1:\",t1.a,t1.b)\n",
    "print(\"t2:\",t2.a,t2.b)\n",
    "test.a=100\n",
    "t1.b=200\n",
    "print(\"t1:\",t1.a,t1.b)\n",
    "print(\"t2:\",t2.a,t2.b)\n",
    "\n"
   ]
  },
  {
   "cell_type": "markdown",
   "metadata": {},
   "source": [
    "Various places to declare static variables:\n",
    "1. In general we can declare within the class directly but from out side of any method\n",
    "2. Inside constructor by using class name\n",
    "3. Inside instance method by using class name\n",
    "4. Inside classmethod by using either class name or cls variable\n",
    "5. Inside static method by using class name"
   ]
  },
  {
   "cell_type": "code",
   "execution_count": 10,
   "metadata": {},
   "outputs": [
    {
     "name": "stdout",
     "output_type": "stream",
     "text": [
      "{'__module__': '__main__', 'a': 10, '__init__': <function test.__init__ at 0x0000025BCEBB6F20>, 'show': <function test.show at 0x0000025BCEBB6660>, 'disp': <classmethod(<function test.disp at 0x0000025BCEBB63E0>)>, 'm3': <staticmethod(<function test.m3 at 0x0000025BCEBB6520>)>, '__dict__': <attribute '__dict__' of 'test' objects>, '__weakref__': <attribute '__weakref__' of 'test' objects>, '__doc__': None}\n",
      "{'__module__': '__main__', 'a': 10, '__init__': <function test.__init__ at 0x0000025BCEBB6F20>, 'show': <function test.show at 0x0000025BCEBB6660>, 'disp': <classmethod(<function test.disp at 0x0000025BCEBB63E0>)>, 'm3': <staticmethod(<function test.m3 at 0x0000025BCEBB6520>)>, '__dict__': <attribute '__dict__' of 'test' objects>, '__weakref__': <attribute '__weakref__' of 'test' objects>, '__doc__': None, 'b': 20}\n",
      "{'__module__': '__main__', 'a': 10, '__init__': <function test.__init__ at 0x0000025BCEBB6F20>, 'show': <function test.show at 0x0000025BCEBB6660>, 'disp': <classmethod(<function test.disp at 0x0000025BCEBB63E0>)>, 'm3': <staticmethod(<function test.m3 at 0x0000025BCEBB6520>)>, '__dict__': <attribute '__dict__' of 'test' objects>, '__weakref__': <attribute '__weakref__' of 'test' objects>, '__doc__': None, 'b': 20, 'c': 30}\n",
      "{'__module__': '__main__', 'a': 10, '__init__': <function test.__init__ at 0x0000025BCEBB6F20>, 'show': <function test.show at 0x0000025BCEBB6660>, 'disp': <classmethod(<function test.disp at 0x0000025BCEBB63E0>)>, 'm3': <staticmethod(<function test.m3 at 0x0000025BCEBB6520>)>, '__dict__': <attribute '__dict__' of 'test' objects>, '__weakref__': <attribute '__weakref__' of 'test' objects>, '__doc__': None, 'b': 20, 'c': 30, 'd1': 40, 'd2': 400}\n"
     ]
    }
   ],
   "source": [
    "class test:\n",
    "    a=10\n",
    "    def __init__(self):\n",
    "        test.b=20\n",
    "    def show(self):\n",
    "        self.x=100\n",
    "        test.c=30\n",
    "    @classmethod\n",
    "    def disp(cls):\n",
    "        cls.d1=40\n",
    "        test.d2=400\n",
    "    @staticmethod\n",
    "    def m3():\n",
    "        test.e=50\n",
    "print(test.__dict__)\n",
    "t=test()\n",
    "print(test.__dict__)\n",
    "t.show()\n",
    "print(test.__dict__)\n",
    "t.disp()\n",
    "print(test.__dict__)\n",
    "\n",
    "\n"
   ]
  },
  {
   "cell_type": "markdown",
   "metadata": {},
   "source": [
    "How to access static variables:\n",
    "1. inside constructor: by using either self or classname\n",
    "2. inside instance method: by using either self or classname\n",
    "3. inside class method: by using either cls variable or classname\n",
    "4. inside static method: by using classname\n",
    "5. From outside of class: by using either object reference or classnmae"
   ]
  },
  {
   "cell_type": "code",
   "execution_count": 20,
   "metadata": {},
   "outputs": [
    {
     "name": "stdout",
     "output_type": "stream",
     "text": [
      "inside constructor 10\n",
      "10\n",
      "otside class: 10\n",
      "otside class: 10\n",
      "inside instance method 10\n",
      "inside class method 10\n",
      "inside class method 10\n"
     ]
    }
   ],
   "source": [
    "class test:\n",
    "    a=10\n",
    "    def __init__(self):\n",
    "        print(\"inside constructor\",self.a)\n",
    "        print(test.a)\n",
    "    def m1(self):\n",
    "        print(\"inside instance method\",self.a)\n",
    "    @classmethod\n",
    "    def m2(cls):\n",
    "        print(\"inside class method\",cls.a)\n",
    "        print(\"inside class method\",test.a)\n",
    "    @staticmethod\n",
    "    def m3():\n",
    "        print(\"inside static method:\",test.a)\n",
    "t=test()\n",
    "print(\"otside class:\",test.a)\n",
    "print(\"otside class:\",t.a)\n",
    "t.m1()\n",
    "t.m2()"
   ]
  },
  {
   "cell_type": "code",
   "execution_count": 21,
   "metadata": {},
   "outputs": [
    {
     "name": "stdout",
     "output_type": "stream",
     "text": [
      "{'__module__': '__main__', 'a': 10, 'b': 20, 'm1': <classmethod(<function test.m1 at 0x0000025BCEBB6E80>)>, '__dict__': <attribute '__dict__' of 'test' objects>, '__weakref__': <attribute '__weakref__' of 'test' objects>, '__doc__': None}\n",
      "{'__module__': '__main__', 'm1': <classmethod(<function test.m1 at 0x0000025BCEBB6E80>)>, '__dict__': <attribute '__dict__' of 'test' objects>, '__weakref__': <attribute '__weakref__' of 'test' objects>, '__doc__': None}\n"
     ]
    }
   ],
   "source": [
    "class test:\n",
    "    a=10\n",
    "    b=20\n",
    "    @classmethod\n",
    "    def m1(cls):\n",
    "        del cls.a\n",
    "        del test.b\n",
    "print(test.__dict__)\n",
    "t=test()\n",
    "t.m1()\n",
    "print(test.__dict__)\n"
   ]
  }
 ],
 "metadata": {
  "kernelspec": {
   "display_name": "Python 3",
   "language": "python",
   "name": "python3"
  },
  "language_info": {
   "codemirror_mode": {
    "name": "ipython",
    "version": 3
   },
   "file_extension": ".py",
   "mimetype": "text/x-python",
   "name": "python",
   "nbconvert_exporter": "python",
   "pygments_lexer": "ipython3",
   "version": "3.11.4"
  }
 },
 "nbformat": 4,
 "nbformat_minor": 2
}
