{
 "cells": [
  {
   "cell_type": "code",
   "execution_count": 1,
   "metadata": {},
   "outputs": [
    {
     "name": "stdout",
     "output_type": "stream",
     "text": [
      "hello world\n",
      "hello world\n",
      "hello world\n",
      "hello world\n",
      "hello world\n"
     ]
    }
   ],
   "source": [
    "#1 wap to print hello world 5 times using while\n",
    "\n",
    "n=5\n",
    "i=1\n",
    "while i<=n:\n",
    "    print(\"hello world\")\n",
    "    i+=1"
   ]
  },
  {
   "cell_type": "code",
   "execution_count": 3,
   "metadata": {},
   "outputs": [
    {
     "name": "stdout",
     "output_type": "stream",
     "text": [
      "1 2 3 4 5 6 7 8 9 10 "
     ]
    }
   ],
   "source": [
    "#2 wap to print 1 -10  using while\n",
    "\n",
    "i=1\n",
    "n=10\n",
    "while i<=n:\n",
    "    print(i,end=\" \")\n",
    "    i+=1\n"
   ]
  },
  {
   "cell_type": "code",
   "execution_count": 4,
   "metadata": {},
   "outputs": [
    {
     "name": "stdout",
     "output_type": "stream",
     "text": [
      "1 2 3 4 5 6 7 8 9 10 11 12 13 14 15 16 17 18 19 20 "
     ]
    }
   ],
   "source": [
    "#3 wap to print natural numbers from 1 to n using while\n",
    "\n",
    "n=int(input(\"enter a number:\"))\n",
    "i=1\n",
    "while i<=n:\n",
    "    print(i,end=\" \")\n",
    "    i+=1"
   ]
  },
  {
   "cell_type": "code",
   "execution_count": 12,
   "metadata": {},
   "outputs": [
    {
     "name": "stdout",
     "output_type": "stream",
     "text": [
      "20 19 18 17 16 15 14 13 12 11 10 9 8 7 6 5 4 3 2 1 0 "
     ]
    }
   ],
   "source": [
    "#4 wap to print revesre of the numbers from n to 1 using while\n",
    "\n",
    "n=20\n",
    "i=0\n",
    "while n>=i:\n",
    "    print(n,end=\" \")\n",
    "    n-=1\n"
   ]
  },
  {
   "cell_type": "code",
   "execution_count": 15,
   "metadata": {},
   "outputs": [
    {
     "name": "stdout",
     "output_type": "stream",
     "text": [
      "0 1 2 3 4 5 6 7 8 9 10 11 12 13 14 15 16 17 18 19 20 "
     ]
    }
   ],
   "source": [
    "#5 wap to print the whole number until nth time by using the while\n",
    "n=int(input(\"enter a number:\"))\n",
    "i=0\n",
    "while i<=n:\n",
    "    print(i,end=\" \")\n",
    "    i+=1"
   ]
  },
  {
   "cell_type": "code",
   "execution_count": 16,
   "metadata": {},
   "outputs": [
    {
     "name": "stdout",
     "output_type": "stream",
     "text": [
      "20 19 18 17 16 15 14 13 12 11 10 9 8 7 6 5 4 3 2 1 0 "
     ]
    }
   ],
   "source": [
    "#6 wap to print the whole number from nth to zero by using the while\n",
    "\n",
    "n=20\n",
    "i=0\n",
    "while n>=i:\n",
    "    print(n,end=\" \")\n",
    "    n-=1"
   ]
  },
  {
   "cell_type": "code",
   "execution_count": 17,
   "metadata": {},
   "outputs": [
    {
     "name": "stdout",
     "output_type": "stream",
     "text": [
      "2 4 6 8 10 12 14 16 18 20 22 24 26 28 30 "
     ]
    }
   ],
   "source": [
    "#7 to print the even numbers untill nth term using while\n",
    "\n",
    "n=int(input(\"enter a number:\"))\n",
    "i=1\n",
    "while i<=n:\n",
    "    if i%2==0:\n",
    "        print(i,end=\" \")\n",
    "    i+=1\n"
   ]
  },
  {
   "cell_type": "code",
   "execution_count": 19,
   "metadata": {},
   "outputs": [
    {
     "name": "stdout",
     "output_type": "stream",
     "text": [
      "40 38 36 34 32 30 28 26 24 22 20 18 16 14 12 10 8 6 4 2 "
     ]
    }
   ],
   "source": [
    "#8 to print the even numbres from nth term to 1 using while\n",
    "\n",
    "n=int(input(\"enter n:\"))\n",
    "i=1\n",
    "while i<=n:\n",
    "    if n%2==0:\n",
    "        print(n,end=\" \")\n",
    "    n-=1"
   ]
  },
  {
   "cell_type": "code",
   "execution_count": 20,
   "metadata": {},
   "outputs": [
    {
     "name": "stdout",
     "output_type": "stream",
     "text": [
      "1 3 5 7 9 11 13 15 17 19 21 23 25 27 29 "
     ]
    }
   ],
   "source": [
    "#9 to print the odd numbers from 1 to n using while\n",
    "i=1\n",
    "n=30\n",
    "while i<=n:\n",
    "    if i%2!=0:\n",
    "        print(i,end=\" \")\n",
    "    i+=1"
   ]
  },
  {
   "cell_type": "code",
   "execution_count": 21,
   "metadata": {},
   "outputs": [
    {
     "name": "stdout",
     "output_type": "stream",
     "text": [
      "39 37 35 33 31 29 27 25 23 21 19 17 15 13 11 9 7 5 3 1 "
     ]
    }
   ],
   "source": [
    "#10 to print the odd numbres from nth term to 1 using while\n",
    "n=40\n",
    "i=1\n",
    "while i<=n:\n",
    "    if n%2!=0:\n",
    "        print(n,end=\" \")\n",
    "    n-=1\n"
   ]
  },
  {
   "cell_type": "code",
   "execution_count": 23,
   "metadata": {},
   "outputs": [
    {
     "name": "stdout",
     "output_type": "stream",
     "text": [
      "13 * 1 = 13\n",
      "13 * 2 = 26\n",
      "13 * 3 = 39\n",
      "13 * 4 = 52\n",
      "13 * 5 = 65\n",
      "13 * 6 = 78\n",
      "13 * 7 = 91\n",
      "13 * 8 = 104\n",
      "13 * 9 = 117\n",
      "13 * 10 = 130\n",
      "13 * 11 = 143\n",
      "13 * 12 = 156\n",
      "13 * 13 = 169\n",
      "13 * 14 = 182\n",
      "13 * 15 = 195\n",
      "13 * 16 = 208\n",
      "13 * 17 = 221\n",
      "13 * 18 = 234\n",
      "13 * 19 = 247\n",
      "13 * 20 = 260\n"
     ]
    }
   ],
   "source": [
    "#11 to print the nth table using while\n",
    "\n",
    "i=1\n",
    "n=int(input(\"enter a num:\"))\n",
    "while i<=20:\n",
    "    print(f'{n} * {i} = {n*i}')\n",
    "    i+=1"
   ]
  },
  {
   "cell_type": "code",
   "execution_count": 24,
   "metadata": {},
   "outputs": [
    {
     "name": "stdout",
     "output_type": "stream",
     "text": [
      "15 * 20 = 300\n",
      "15 * 19 = 285\n",
      "15 * 18 = 270\n",
      "15 * 17 = 255\n",
      "15 * 16 = 240\n",
      "15 * 15 = 225\n",
      "15 * 14 = 210\n",
      "15 * 13 = 195\n",
      "15 * 12 = 180\n",
      "15 * 11 = 165\n",
      "15 * 10 = 150\n",
      "15 * 9 = 135\n",
      "15 * 8 = 120\n",
      "15 * 7 = 105\n",
      "15 * 6 = 90\n",
      "15 * 5 = 75\n",
      "15 * 4 = 60\n",
      "15 * 3 = 45\n",
      "15 * 2 = 30\n",
      "15 * 1 = 15\n"
     ]
    }
   ],
   "source": [
    "#12 to print the nth table using while from 20 to 1\n",
    "n=int(input(\"enter a number:\"))\n",
    "num=20\n",
    "i=1\n",
    "while i<=num:\n",
    "    print(f'{n} * {num} = {num*n}')\n",
    "    num-=1\n",
    "\n",
    "\n"
   ]
  },
  {
   "cell_type": "code",
   "execution_count": 25,
   "metadata": {},
   "outputs": [
    {
     "name": "stdout",
     "output_type": "stream",
     "text": [
      "27 30 33 36 39 42 45 48 51 54 57 60 63 66 "
     ]
    }
   ],
   "source": [
    "#13 to print the numbers divisible by 3 from 25 to 66\n",
    "\n",
    "start=25\n",
    "end=66\n",
    "while start<=end:\n",
    "    if start%3==0:\n",
    "        print(start,end=\" \")\n",
    "    start+=1"
   ]
  },
  {
   "cell_type": "code",
   "execution_count": 26,
   "metadata": {},
   "outputs": [
    {
     "name": "stdout",
     "output_type": "stream",
     "text": [
      "15 18 21 24 27 30 33 36 39 42 45 48 51 54 57 60 63 66 69 72 75 "
     ]
    }
   ],
   "source": [
    "#14 to print the numbers divisible by 3 from 15 to 76\n",
    "\n",
    "start=15\n",
    "end=76\n",
    "while start<=end:\n",
    "    if start%3==0:\n",
    "        print(start,end=\" \")\n",
    "    start+=1"
   ]
  },
  {
   "cell_type": "code",
   "execution_count": 30,
   "metadata": {},
   "outputs": [
    {
     "name": "stdout",
     "output_type": "stream",
     "text": [
      "70 35 "
     ]
    }
   ],
   "source": [
    "#15 to print the numbers divisible by 5 and 7 from 77 to 22\n",
    "\n",
    "start=77\n",
    "end=22\n",
    "while start>=end:\n",
    "    if start%5==0 and start%7==0:\n",
    "        print(start,end=\" \")\n",
    "    start-=1"
   ]
  },
  {
   "cell_type": "code",
   "execution_count": 32,
   "metadata": {},
   "outputs": [
    {
     "name": "stdout",
     "output_type": "stream",
     "text": [
      "i love you\n",
      "I Like You\n",
      "i love you\n",
      "i love you\n",
      "I Like You\n",
      "i love you\n",
      "i love you\n",
      "i love you\n",
      "I Like You\n",
      "i love you\n",
      "i love you\n",
      "I Like You\n",
      "i love you\n",
      "i love you\n"
     ]
    }
   ],
   "source": [
    "#16 wap to print the \"love you\".if the value is divisible by 3 or print \"hate you\" the value is divisible by 5 print \"like you if divisible by both 3 and 5\"\n",
    "i=1\n",
    "n=30\n",
    "while i<=n:\n",
    "    if i%3 and i%5==0:\n",
    "        print(\"I Like You\")\n",
    "    elif i%3==0:\n",
    "        print(\"i love you\")\n",
    "    elif i%5==0:\n",
    "        print(\"I Hate you\")\n",
    "    i+=1"
   ]
  },
  {
   "cell_type": "code",
   "execution_count": 35,
   "metadata": {},
   "outputs": [
    {
     "name": "stdout",
     "output_type": "stream",
     "text": [
      "120\n"
     ]
    }
   ],
   "source": [
    "#17 wap to print sum of n natural numbers\n",
    "\n",
    "n=15\n",
    "i=1\n",
    "sum=0\n",
    "while i<=n:\n",
    "    sum+=i\n",
    "    i+=1\n",
    "print(sum)\n"
   ]
  },
  {
   "cell_type": "code",
   "execution_count": 37,
   "metadata": {},
   "outputs": [
    {
     "name": "stdout",
     "output_type": "stream",
     "text": [
      "110\n"
     ]
    }
   ],
   "source": [
    "#18 wap to print the sum of even numbers from 1 to 20\n",
    "\n",
    "i=1\n",
    "n=20\n",
    "sum=0\n",
    "while i<=n:\n",
    "    if i%2==0:\n",
    "        sum+=i\n",
    "    i+=1\n",
    "print(sum)\n"
   ]
  },
  {
   "cell_type": "code",
   "execution_count": 38,
   "metadata": {},
   "outputs": [
    {
     "name": "stdout",
     "output_type": "stream",
     "text": [
      "720\n"
     ]
    }
   ],
   "source": [
    "#19 wap to print the product of 1 to 6\n",
    "\n",
    "i=1\n",
    "n=6\n",
    "fact=1\n",
    "while i<=n:\n",
    "    fact*=i\n",
    "    i+=1\n",
    "print(fact)\n"
   ]
  },
  {
   "cell_type": "code",
   "execution_count": 40,
   "metadata": {},
   "outputs": [
    {
     "name": "stdout",
     "output_type": "stream",
     "text": [
      "15\n"
     ]
    }
   ],
   "source": [
    "#20 to count the odd number of the values from 1 to 30\n",
    "i=1\n",
    "n=30\n",
    "count=0\n",
    "while i<=n:\n",
    "    if i%2!=0:\n",
    "        count+=1\n",
    "    i+=1\n",
    "print(count)"
   ]
  },
  {
   "cell_type": "code",
   "execution_count": 43,
   "metadata": {},
   "outputs": [
    {
     "name": "stdout",
     "output_type": "stream",
     "text": [
      "1 2 3 5 6 10 15 30 "
     ]
    }
   ],
   "source": [
    "#21 wap to print the factors of the given numbers\n",
    "n=30\n",
    "i=1\n",
    "while i<=n:\n",
    "    if n%i==0:\n",
    "        print(i,end=\" \")\n",
    "    i+=1"
   ]
  },
  {
   "cell_type": "code",
   "execution_count": 48,
   "metadata": {},
   "outputs": [
    {
     "name": "stdout",
     "output_type": "stream",
     "text": [
      "28\n"
     ]
    }
   ],
   "source": [
    "#22 wap to print the product of the factors of the of the given number\n",
    "n=12\n",
    "i=1\n",
    "sum=0\n",
    "while i<=n:\n",
    "    if n%i==0:\n",
    "        sum+=i\n",
    "    i+=1\n",
    "print(sum)"
   ]
  },
  {
   "cell_type": "code",
   "execution_count": 46,
   "metadata": {},
   "outputs": [
    {
     "name": "stdout",
     "output_type": "stream",
     "text": [
      "36\n"
     ]
    }
   ],
   "source": [
    "#23 wap to print the product of the factors of the of the given number\n",
    "n=6\n",
    "i=1\n",
    "prod=1\n",
    "while i<=n:\n",
    "    if n%i==0:\n",
    "        prod*=i\n",
    "    i+=1\n",
    "print(prod)"
   ]
  },
  {
   "cell_type": "code",
   "execution_count": 60,
   "metadata": {},
   "outputs": [
    {
     "name": "stdout",
     "output_type": "stream",
     "text": [
      "0 1 1 2 3 5 8 13 21 34 55 89 "
     ]
    }
   ],
   "source": [
    "#24 to print the fabinocci series from 0 to n\n",
    "n1=0\n",
    "n2=1\n",
    "print(n1,end=\" \")\n",
    "print(n2,end=\" \")\n",
    "n=10\n",
    "i=1\n",
    "while i<=n:\n",
    "    n3=n1+n2\n",
    "    n1=n2\n",
    "    n2=n3\n",
    "    print(n3,end=\" \")\n",
    "    i+=1\n",
    "\n",
    "\n"
   ]
  },
  {
   "cell_type": "code",
   "execution_count": 61,
   "metadata": {},
   "outputs": [
    {
     "name": "stdout",
     "output_type": "stream",
     "text": [
      "factorial 720\n"
     ]
    }
   ],
   "source": [
    "#25 wap to find the factorial of given number\n",
    "\n",
    "n=6\n",
    "fact=1\n",
    "i=1\n",
    "while i<=n:\n",
    "    fact*=i\n",
    "    i+=1\n",
    "print(\"factorial\",fact)"
   ]
  },
  {
   "cell_type": "code",
   "execution_count": 4,
   "metadata": {},
   "outputs": [
    {
     "name": "stdout",
     "output_type": "stream",
     "text": [
      "fact 1==>1\n",
      "fact 2==>2\n",
      "fact 3==>6\n",
      "fact 4==>24\n",
      "fact 5==>120\n"
     ]
    }
   ],
   "source": [
    "#26 wap to print the factorial numbers from m to n:\n",
    "m=1\n",
    "n=5\n",
    "while m<=n:\n",
    "    num=m\n",
    "    # print(num)\n",
    "    fact=1\n",
    "    i=1\n",
    "    while i<=num:\n",
    "        fact*=i\n",
    "        i+=1\n",
    "    print(f'fact {i-1}==>{fact}')\n",
    "    m+=1"
   ]
  },
  {
   "cell_type": "code",
   "execution_count": 5,
   "metadata": {},
   "outputs": [
    {
     "name": "stdout",
     "output_type": "stream",
     "text": [
      "prime number\n"
     ]
    }
   ],
   "source": [
    "#27 wap to check the given number is prime or not\n",
    "\n",
    "n=17\n",
    "i=1\n",
    "count=0\n",
    "while i<=n:\n",
    "    if n%i==0:\n",
    "        count+=1\n",
    "    i+=1\n",
    "if count==2:\n",
    "    print(\"prime number\")\n",
    "else:\n",
    "    print(\"not a prime number\")"
   ]
  },
  {
   "cell_type": "code",
   "execution_count": 13,
   "metadata": {},
   "outputs": [
    {
     "name": "stdout",
     "output_type": "stream",
     "text": [
      "2 3 5 7 11 13 17 19 23 29 31 37 41 43 47 53 59 61 67 71 73 79 83 89 97 "
     ]
    }
   ],
   "source": [
    "#28 wap to print the prime numbers from 1 to 100\n",
    "\n",
    "m=1\n",
    "n=100\n",
    "while m<=n:\n",
    "    num=m\n",
    "    i=1\n",
    "    count=0\n",
    "    while i<=num:\n",
    "        if num%i==0:\n",
    "            count+=1\n",
    "        i+=1\n",
    "    if count==2:\n",
    "        print(num,end=\" \")\n",
    "    m+=1\n"
   ]
  },
  {
   "cell_type": "code",
   "execution_count": 22,
   "metadata": {},
   "outputs": [
    {
     "name": "stdout",
     "output_type": "stream",
     "text": [
      "not an armstrong\n"
     ]
    }
   ],
   "source": [
    "#29 wap to check the number is armstrong or not\n",
    "\n",
    "n=377\n",
    "num=n\n",
    "count=0\n",
    "while n:\n",
    "    count+=1\n",
    "    n=n//10\n",
    "rev=0\n",
    "temp=num\n",
    "while num:\n",
    "    ld=num%10\n",
    "    rev=rev+ld**count\n",
    "    num//=10\n",
    "if rev==temp:\n",
    "    print(\"armstrong\")\n",
    "else:\n",
    "    print(\"not an armstrong\")\n",
    "\n"
   ]
  },
  {
   "cell_type": "code",
   "execution_count": 24,
   "metadata": {},
   "outputs": [
    {
     "name": "stdout",
     "output_type": "stream",
     "text": [
      "153 370 371 407 "
     ]
    }
   ],
   "source": [
    "# 30 wap to print the armstrong from mto n\n",
    "\n",
    "m=1\n",
    "n=1000\n",
    "while m<=n:\n",
    "    num=m\n",
    "    temp=num\n",
    "    ls=len(str(num))\n",
    "    if int(ls)>2:\n",
    "        sum=0\n",
    "        while num:\n",
    "            ld=num%10\n",
    "            sum+=ld**ls\n",
    "            num//=10\n",
    "        if sum==temp:\n",
    "            print(temp,end=\" \")\n",
    "    m+=1\n",
    "\n",
    "    "
   ]
  },
  {
   "cell_type": "code",
   "execution_count": 25,
   "metadata": {},
   "outputs": [
    {
     "name": "stdout",
     "output_type": "stream",
     "text": [
      "2 3 5 7 11 13 17 19 23 29 31 37 41 43 47 53 59 61 67 71 73 79 83 89 97 101 103 107 109 113 127 131 137 139 149 151 157 163 167 173 179 181 191 193 197 199 "
     ]
    }
   ],
   "source": [
    "#31 wap to print prime number series from  1 to n\n",
    "\n",
    "m=1\n",
    "n=int(input(\"enter a number:\"))\n",
    "while m<=n:\n",
    "    num=m\n",
    "    i=1\n",
    "    count=0\n",
    "    while i<=num:\n",
    "        if num%i==0:\n",
    "            count+=1\n",
    "        i+=1\n",
    "    if count==2:\n",
    "        print(num,end=\" \")\n",
    "    m+=1\n"
   ]
  },
  {
   "cell_type": "code",
   "execution_count": 37,
   "metadata": {},
   "outputs": [
    {
     "name": "stdout",
     "output_type": "stream",
     "text": [
      "0 1 1 2 3 5 8 13 21 34 55 89 144 233 377 610 987 1597 2584 4181 6765 10946 [0, 1, 1, 2, 3, 5, 8, 13, 21, 34, 55, 89, 144, 233, 377, 610, 987, 1597, 2584, 4181, 6765, 10946]\n",
      "[2, 3, 5, 13, 89, 233, 1597]\n"
     ]
    }
   ],
   "source": [
    "#32 wap to print the fabinocci series of the prime numbers\n",
    "n1=0\n",
    "n2=1\n",
    "print(n1,end=\" \")\n",
    "print(n2,end=\" \")\n",
    "n=20\n",
    "i=1\n",
    "l=[n1,n2]\n",
    "l2=[]\n",
    "while i<=n:\n",
    "    n3=n1+n2\n",
    "    print(n3,end=\" \")\n",
    "    l+=[n3]\n",
    "    n1,n2=n2,n3\n",
    "    i+=1\n",
    "print(l)\n",
    "m=1\n",
    "while m<len(l):\n",
    "    num=l[m]\n",
    "    count=0\n",
    "    j=1\n",
    "    while j<=num:\n",
    "        if num%j==0:\n",
    "            count+=1\n",
    "        j+=1\n",
    "    if count==2:\n",
    "        l2+=[num]\n",
    "    m+=1\n",
    "print(l2)\n"
   ]
  },
  {
   "cell_type": "code",
   "execution_count": 35,
   "metadata": {},
   "outputs": [
    {
     "name": "stdout",
     "output_type": "stream",
     "text": [
      "[2, 3, 5, 13, 89]\n"
     ]
    }
   ],
   "source": [
    "#wap to print the prime numbers from the list\n",
    "l=[0, 1, 1, 2, 3, 5, 8, 13, 21, 34, 55, 89]\n",
    "i=1\n",
    "l2=[]\n",
    "while i<len(l):\n",
    "    num=l[i]\n",
    "    count=0\n",
    "    j=1\n",
    "    while j<=num:\n",
    "        if num%j==0:\n",
    "            count+=1\n",
    "        j+=1\n",
    "    if count==2:\n",
    "        l2+=[num]\n",
    "    i+=1\n",
    "print(l2)"
   ]
  },
  {
   "cell_type": "code",
   "execution_count": 16,
   "metadata": {},
   "outputs": [
    {
     "name": "stdout",
     "output_type": "stream",
     "text": [
      "1060\n"
     ]
    }
   ],
   "source": [
    "#33 sum of the prime numbers in the in the given range  \n",
    "\n",
    "m=2\n",
    "n=100\n",
    "l=[]\n",
    "while m<=n:\n",
    "    num=m\n",
    "    i=2\n",
    "    count=0\n",
    "    while i<num:\n",
    "        if num%i==0:\n",
    "            count+=1\n",
    "        i+=1\n",
    "    if count==0:\n",
    "        l.append(num)\n",
    "    m+=1\n",
    "# l=lis\n",
    "j=0\n",
    "sum=0\n",
    "while j<len(l):\n",
    "    sum+=l[j]\n",
    "    j+=1\n",
    "print(sum)      "
   ]
  },
  {
   "cell_type": "code",
   "execution_count": null,
   "metadata": {},
   "outputs": [],
   "source": []
  },
  {
   "cell_type": "code",
   "execution_count": 58,
   "metadata": {},
   "outputs": [
    {
     "data": {
      "text/plain": [
       "'palindrome'"
      ]
     },
     "execution_count": 58,
     "metadata": {},
     "output_type": "execute_result"
    }
   ],
   "source": [
    "#34 wap to check the number is palindrome or not\n",
    "\n",
    "n=1223221\n",
    "temp=n\n",
    "rev=0\n",
    "while n:\n",
    "    ld=n%10\n",
    "    rev=rev*10+ld\n",
    "    n//=10\n",
    "[\"not a palindrome\",\"palindrome\"][temp==rev]\n"
   ]
  },
  {
   "cell_type": "code",
   "execution_count": 2,
   "metadata": {},
   "outputs": [
    {
     "name": "stdout",
     "output_type": "stream",
     "text": [
      "6\n",
      "python\n",
      "python\n",
      "python\n",
      "python\n",
      "python\n",
      "python\n",
      "python\n",
      "python\n",
      "python\n",
      "python\n"
     ]
    }
   ],
   "source": [
    "#35 wap to check the length of the sting is even or odd if even print the string 10 times ,not print 5 times\n",
    "\n",
    "s=\"python\"\n",
    "i=1\n",
    "count=0\n",
    "while i<=len(s):\n",
    "    count+=1\n",
    "    i+=1\n",
    "print(count)\n",
    "if count%2==0:\n",
    "    i=1\n",
    "    n=10\n",
    "    while i<=n:\n",
    "        print(s)\n",
    "        i+=1\n",
    "else:\n",
    "    i=1\n",
    "    n=5\n",
    "    while i<=n:\n",
    "        print(s)\n",
    "        i+=1\n",
    "    \n"
   ]
  },
  {
   "cell_type": "code",
   "execution_count": 66,
   "metadata": {},
   "outputs": [
    {
     "name": "stdout",
     "output_type": "stream",
     "text": [
      "A B C D E F G H I J K L M N O P Q R S T U V W X Y Z "
     ]
    }
   ],
   "source": [
    "#36 to print the uppercase from 'A' to 'Z'\n",
    "\n",
    "m=65\n",
    "n=90\n",
    "while m<=n:\n",
    "    print(chr(m),end=\" \")\n",
    "    m+=1"
   ]
  },
  {
   "cell_type": "code",
   "execution_count": 68,
   "metadata": {},
   "outputs": [
    {
     "name": "stdout",
     "output_type": "stream",
     "text": [
      "a b c d e f g h i j k l m n o p q r s t u v w x y z "
     ]
    }
   ],
   "source": [
    "# 37 wap to print the lowercase char from \"a\" to \"z\"\n",
    "\n",
    "m=97\n",
    "n=122\n",
    "while m<=n:\n",
    "    print(chr(m),end=\" \")\n",
    "    m+=1"
   ]
  },
  {
   "cell_type": "code",
   "execution_count": 69,
   "metadata": {},
   "outputs": [
    {
     "name": "stdout",
     "output_type": "stream",
     "text": [
      "0  1  2  3  4  5  6  7  8  9  "
     ]
    }
   ],
   "source": [
    "# 38 wap to print ascii num characters from \"0\" to \"9\"\n",
    "\n",
    "m=48\n",
    "n=57\n",
    "while m<=n:\n",
    "    print(chr(m),end=\"  \")\n",
    "    m+=1\n"
   ]
  },
  {
   "cell_type": "code",
   "execution_count": 73,
   "metadata": {},
   "outputs": [
    {
     "name": "stdout",
     "output_type": "stream",
     "text": [
      "E F G H I J K L M N O P Q R S T U "
     ]
    }
   ],
   "source": [
    "# 39 to print the uppercase char from e to u \n",
    "\n",
    "m=ord('E')\n",
    "n=ord('U')\n",
    "while m<=n:\n",
    "    print(chr(m),end=\" \")\n",
    "    m+=1"
   ]
  },
  {
   "cell_type": "code",
   "execution_count": 75,
   "metadata": {},
   "outputs": [
    {
     "name": "stdout",
     "output_type": "stream",
     "text": [
      "Z Y X W V U T S R Q P O N M L K J I H G F E D C B A "
     ]
    }
   ],
   "source": [
    "#40 wap to print the uppercase char from z to a\n",
    "\n",
    "m=ord('Z')\n",
    "n=ord('A')\n",
    "while m>=n:\n",
    "    print(chr(m),end=\" \")\n",
    "    m-=1"
   ]
  },
  {
   "cell_type": "code",
   "execution_count": 76,
   "metadata": {},
   "outputs": [
    {
     "name": "stdout",
     "output_type": "stream",
     "text": [
      "U T S R Q P O N M L K J I H G "
     ]
    }
   ],
   "source": [
    "#41 wap to print the uppercase char from u to g\n",
    "\n",
    "m=ord('U')\n",
    "n=ord('G')\n",
    "while m>=n:\n",
    "    print(chr(m),end=\" \")\n",
    "    m-=1"
   ]
  },
  {
   "cell_type": "code",
   "execution_count": 77,
   "metadata": {},
   "outputs": [
    {
     "name": "stdout",
     "output_type": "stream",
     "text": [
      "i j k l m n o p q r s t u v w x y "
     ]
    }
   ],
   "source": [
    "#42 wap to print lowercase from i to y\n",
    "\n",
    "m=ord('i')\n",
    "n=ord('y')\n",
    "while m<=n:\n",
    "    print(chr(m),end=\" \")\n",
    "    m+=1"
   ]
  },
  {
   "cell_type": "code",
   "execution_count": 78,
   "metadata": {},
   "outputs": [
    {
     "name": "stdout",
     "output_type": "stream",
     "text": [
      "z y x w v u t s r q p o n m l k j i h g f e d c b a "
     ]
    }
   ],
   "source": [
    "#43 wap to print lowercase from i to y\n",
    "m=ord('z')\n",
    "n=ord('a')\n",
    "while m>=n:\n",
    "    print(chr(m),end=\" \")\n",
    "    m-=1"
   ]
  },
  {
   "cell_type": "code",
   "execution_count": 79,
   "metadata": {},
   "outputs": [
    {
     "name": "stdout",
     "output_type": "stream",
     "text": [
      "p o n m l k j i h g f e d c "
     ]
    }
   ],
   "source": [
    "#44 wap to print lowercase from p to c\n",
    "\n",
    "m=ord('p')\n",
    "n=ord('c')\n",
    "while m>=n:\n",
    "    print(chr(m),end=\" \")\n",
    "    m-=1\n"
   ]
  },
  {
   "cell_type": "code",
   "execution_count": 80,
   "metadata": {},
   "outputs": [
    {
     "name": "stdout",
     "output_type": "stream",
     "text": [
      "B D F H J L N P R T V X Z "
     ]
    }
   ],
   "source": [
    "# 45 wap to print uppercase char based on even ascii values\n",
    "\n",
    "m=ord('A')\n",
    "n=ord('Z')\n",
    "while m<=n:\n",
    "    if m%2==0:\n",
    "        print(chr(m),end=\" \")\n",
    "    m+=1"
   ]
  },
  {
   "cell_type": "code",
   "execution_count": 81,
   "metadata": {},
   "outputs": [
    {
     "name": "stdout",
     "output_type": "stream",
     "text": [
      "b d f h j l n p r t v x z "
     ]
    }
   ],
   "source": [
    "# 46 wap to print lowercase char based on even ascii values\n",
    "\n",
    "m=ord('a')\n",
    "n=ord('z')\n",
    "while m<=n:\n",
    "    if m%2==0:\n",
    "        print(chr(m),end=\" \")\n",
    "    m+=1\n"
   ]
  },
  {
   "cell_type": "code",
   "execution_count": 82,
   "metadata": {},
   "outputs": [
    {
     "name": "stdout",
     "output_type": "stream",
     "text": [
      "A C E G I K M O Q S U W Y "
     ]
    }
   ],
   "source": [
    "# 47 wap to print uppercase char based on odd ascii values\n",
    "m=ord('A')\n",
    "n=ord('Z')\n",
    "while m<=n:\n",
    "    if m%2!=0:\n",
    "        print(chr(m),end=\" \")\n",
    "    m+=1\n"
   ]
  },
  {
   "cell_type": "code",
   "execution_count": 83,
   "metadata": {},
   "outputs": [
    {
     "name": "stdout",
     "output_type": "stream",
     "text": [
      "a c e g i k m o q s u w y "
     ]
    }
   ],
   "source": [
    "# 48 wap to print lowercase char based on odd ascii values\n",
    "\n",
    "m=ord('a')\n",
    "n=ord('z')\n",
    "while m<=n:\n",
    "    if m%2!=0:\n",
    "        print(chr(m),end=\" \")\n",
    "    m+=1\n",
    "\n"
   ]
  },
  {
   "cell_type": "code",
   "execution_count": 2,
   "metadata": {},
   "outputs": [
    {
     "name": "stdout",
     "output_type": "stream",
     "text": [
      "B D F H J L N P R T V X Z "
     ]
    }
   ],
   "source": [
    "#49 wap to print the all even charcters from A to Z\n",
    "\n",
    "m=ord('A')\n",
    "n=ord(\"Z\")\n",
    "while m<=n:\n",
    "    if m%2==0:\n",
    "        print(chr(m),end=\" \")\n",
    "    m+=1"
   ]
  },
  {
   "cell_type": "code",
   "execution_count": 3,
   "metadata": {},
   "outputs": [
    {
     "name": "stdout",
     "output_type": "stream",
     "text": [
      "a c e g i k m o q s u w y "
     ]
    }
   ],
   "source": [
    "#50 wap to print the  odd characters from \"a\" to \"z\"\n",
    "\n",
    "m=ord('a')\n",
    "n=ord('z')\n",
    "while m<=n:\n",
    "    if m%2!=0:\n",
    "        print(chr(m),end=\" \")\n",
    "    m+=1\n",
    "\n"
   ]
  },
  {
   "cell_type": "code",
   "execution_count": 6,
   "metadata": {},
   "outputs": [
    {
     "name": "stdout",
     "output_type": "stream",
     "text": [
      "4\n"
     ]
    }
   ],
   "source": [
    "#51 wap to count the no of vowels from D to v\n",
    "\n",
    "m=ord(\"D\")\n",
    "n=ord(\"V\")\n",
    "count=0\n",
    "while m<=n:\n",
    "    if chr(m) in \"AEIOUaeiou\":\n",
    "        count+=1\n",
    "    m+=1\n",
    "print(count)"
   ]
  },
  {
   "cell_type": "code",
   "execution_count": 10,
   "metadata": {},
   "outputs": [
    {
     "name": "stdout",
     "output_type": "stream",
     "text": [
      "4\n"
     ]
    }
   ],
   "source": [
    "#52 wap to count the no of vowels from u to e\n",
    "\n",
    "m=ord(\"u\")\n",
    "n=ord(\"e\")\n",
    "count=0\n",
    "while m>=n:\n",
    "    if chr(m) in \"AEIOUaeiou\":\n",
    "        count+=1\n",
    "    m-=1\n",
    "print(count)\n",
    "\n"
   ]
  },
  {
   "cell_type": "code",
   "execution_count": 41,
   "metadata": {},
   "outputs": [
    {
     "name": "stdout",
     "output_type": "stream",
     "text": [
      "225 900 2025 3600 5625 8100 "
     ]
    }
   ],
   "source": [
    "#53 wap to print the squuare of the numbers in b/w the range from m to n which is multiple of 3 and divisible by 5\n",
    "\n",
    "m=1\n",
    "n=100\n",
    "while m<=n:\n",
    "    if m%3==0 and m%5==0 :\n",
    "        pow=m**2\n",
    "        print(pow,end=\" \")\n",
    "    m+=1\n"
   ]
  },
  {
   "cell_type": "code",
   "execution_count": 46,
   "metadata": {},
   "outputs": [
    {
     "name": "stdout",
     "output_type": "stream",
     "text": [
      "31\n",
      "4\n",
      "4\n"
     ]
    }
   ],
   "source": [
    "# 54 wap which takes an integer number and finds the sum of the digits and repeat it untill it becomes single digit\n",
    "\n",
    "n=214455415\n",
    "while n>9:\n",
    "    sum=0\n",
    "    while n:\n",
    "        ld=n%10\n",
    "        sum+=ld\n",
    "        n=n//10\n",
    "    print(sum)\n",
    "    n=sum\n",
    "print(sum)\n"
   ]
  },
  {
   "cell_type": "code",
   "execution_count": 16,
   "metadata": {},
   "outputs": [
    {
     "name": "stdout",
     "output_type": "stream",
     "text": [
      "['2', '12', '20', '21', '22', '23', '24', '25', '26', '27', '28', '29', '32', '42', '52']\n",
      "15\n"
     ]
    }
   ],
   "source": [
    "#55 wap to count the no of 2's between 0 to n\n",
    "#ip=35 o/p=2,12,20-29,32\n",
    "\n",
    "n=55\n",
    "i=1\n",
    "l=[]\n",
    "while i<=n:\n",
    "    l.append(i)\n",
    "    i+=1\n",
    "# print(l)\n",
    "j=0\n",
    "count=0\n",
    "l2=[]\n",
    "while j<len(l):\n",
    "    var=str(l[j])\n",
    "    if \"2\" in var:\n",
    "        count+=1\n",
    "        l2+=[var]\n",
    "    j+=1\n",
    "print(l2)\n",
    "print(count)"
   ]
  },
  {
   "cell_type": "code",
   "execution_count": 15,
   "metadata": {},
   "outputs": [
    {
     "name": "stdout",
     "output_type": "stream",
     "text": [
      "[2, 4, 6, 8, 10, 12, 14, 16, 18, 20, 22, 24]\n"
     ]
    }
   ],
   "source": [
    "#wap to print the even numbers from the list\n",
    "l=[1, 2, 3, 4, 5, 6, 7, 8, 9, 10, 11, 12, 13, 14, 15, 16, 17, 18, 19, 20, 21, 22, 23, 24]\n",
    "m=0\n",
    "l1=[]\n",
    "while m<len(l):\n",
    "    num=l[m]\n",
    "    if num%2==0:\n",
    "        l1.append(num)\n",
    "    m+=1\n",
    "print(l1)"
   ]
  },
  {
   "cell_type": "code",
   "execution_count": 21,
   "metadata": {},
   "outputs": [
    {
     "name": "stdout",
     "output_type": "stream",
     "text": [
      "9\n",
      "[4, 2, 7, 5, 4, 6, 1]\n"
     ]
    }
   ],
   "source": [
    "l=[4,2,7,5,9,4,6,1]\n",
    "rem=0\n",
    "m=0\n",
    "while m<len(l):\n",
    "    num=l[m]\n",
    "    if num>rem:\n",
    "        rem=num\n",
    "    m+=1\n",
    "print(rem)\n",
    "l.remove(rem)\n",
    "print(l)"
   ]
  },
  {
   "cell_type": "code",
   "execution_count": 13,
   "metadata": {},
   "outputs": [
    {
     "name": "stdout",
     "output_type": "stream",
     "text": [
      "5\n",
      "1\n",
      "valid email id\n"
     ]
    }
   ],
   "source": [
    "# 54 wap to check given emailid is valid or not if valid print email otherwise print invalid \n",
    "# except .and @ should not use special char\n",
    "# exactly one @,and miniumum 1 .\n",
    "# after @ . should be there\n",
    "\n",
    "mail=\"venky@123gmail.co.in\"\n",
    "count=0\n",
    "m=0\n",
    "while m<len(mail):\n",
    "    if not(\"A\"<=mail[m]<=\"Z\" or \"a\"<=mail[m]<=\"z\" or \"0\"<=mail[m]<=\"9\" or mail[m] in \"@.\"):\n",
    "        count+=1\n",
    "    m+=1\n",
    "if count==0:\n",
    "    coun=0\n",
    "    pos=None\n",
    "    n=0\n",
    "    while n<len(mail):\n",
    "        if mail[n]==\"@\":\n",
    "            coun+=1\n",
    "            pos=n\n",
    "        n+=1\n",
    "    print(pos)\n",
    "    print(coun)\n",
    "    if coun==1:\n",
    "        if \".\" in mail[pos:]:\n",
    "            cou=0\n",
    "            p=pos\n",
    "            while p<len(mail):\n",
    "                if mail[p]==\".\":\n",
    "                    cou+=1\n",
    "                p+=1\n",
    "            if 1<=cou<=2:\n",
    "                print(\"valid email id\")\n",
    "            else:\n",
    "                print(\"invalid email id\")\n",
    "        else:\n",
    "            print(\"invalid email id\")\n",
    "    else:\n",
    "        print(\"invalid email id\")\n",
    "else:\n",
    "    print(\"invalid email id\")"
   ]
  },
  {
   "cell_type": "code",
   "execution_count": 18,
   "metadata": {},
   "outputs": [
    {
     "name": "stdout",
     "output_type": "stream",
     "text": [
      "  b a l a y y a "
     ]
    }
   ],
   "source": [
    "#59 wap to print all the items present in the string b/w the range from m to n\n",
    "\n",
    "s=\"jai balayya\"\n",
    "m=3\n",
    "n=len(s)\n",
    "while m<n:\n",
    "    print(s[m],end=\" \")\n",
    "    m+=1"
   ]
  },
  {
   "cell_type": "code",
   "execution_count": 5,
   "metadata": {},
   "outputs": [
    {
     "name": "stdout",
     "output_type": "stream",
     "text": [
      " V S R E D D Y\n"
     ]
    }
   ],
   "source": [
    "# 60 Wap to print all the uppercase letters from the given string\n",
    "\n",
    "s=\"Veera Simha REDDY\"\n",
    "m=0\n",
    "res=\"\"\n",
    "while m<len(s):\n",
    "    if \"A\"<=s[m]<=\"Z\":\n",
    "        res+=\" \"+s[m]\n",
    "    m+=1\n",
    "print(res)\n"
   ]
  },
  {
   "cell_type": "code",
   "execution_count": 6,
   "metadata": {},
   "outputs": [
    {
     "name": "stdout",
     "output_type": "stream",
     "text": [
      "  e e r a i m h a\n"
     ]
    }
   ],
   "source": [
    "# 61 Wap to print all the lowercase letters from the given string\n",
    "s=\"Veera Simha REDDY\"\n",
    "m=0\n",
    "res=\" \"\n",
    "while m<len(s):\n",
    "    if \"a\"<=s[m]<=\"z\":\n",
    "        res+=\" \"+s[m]\n",
    "    m+=1\n",
    "print(res)\n"
   ]
  },
  {
   "cell_type": "code",
   "execution_count": 7,
   "metadata": {},
   "outputs": [
    {
     "name": "stdout",
     "output_type": "stream",
     "text": [
      "  1 0 1 3 2 7 8 6\n"
     ]
    }
   ],
   "source": [
    "# 62 Wap to print all the Ascii number char from the given string\n",
    "s=\"101 Veera 32786Simha REDDY\"\n",
    "m=0\n",
    "res=\" \"\n",
    "while m<len(s):\n",
    "    if \"0\"<=s[m]<=\"9\":\n",
    "        res+=\" \"+s[m]\n",
    "    m+=1\n",
    "print(res)"
   ]
  },
  {
   "cell_type": "code",
   "execution_count": 8,
   "metadata": {},
   "outputs": [
    {
     "name": "stdout",
     "output_type": "stream",
     "text": [
      "        ^ % $ ^ % & ^ @  \n"
     ]
    }
   ],
   "source": [
    "# 63 Wap to print all the special char from the given string\n",
    "s=\"101 Veera 32786Simha ^%$^%&^@ REDDY\"\n",
    "m=0\n",
    "res=\" \"\n",
    "while m<len(s):\n",
    "    if not(\"0\"<=s[m]<=\"9\" or \"A\"<=s[m]<=\"Z\" or \"a\"<=s[m]<=\"z\"):\n",
    "        res+=\" \"+s[m]\n",
    "    m+=1\n",
    "print(res)"
   ]
  },
  {
   "cell_type": "code",
   "execution_count": 9,
   "metadata": {},
   "outputs": [
    {
     "name": "stdout",
     "output_type": "stream",
     "text": [
      "  e e a i a E\n"
     ]
    }
   ],
   "source": [
    "# 64 Wap to print all the vowel char from the given string\n",
    "s=\"101 Veera 32786Simha ^%$^%&^@ REDDY\"\n",
    "m=0\n",
    "res=\" \"\n",
    "while m<len(s):\n",
    "    if s[m] in \"aeiouAEIOU\":\n",
    "        res+=\" \"+s[m]\n",
    "    m+=1\n",
    "print(res)"
   ]
  },
  {
   "cell_type": "code",
   "execution_count": 14,
   "metadata": {},
   "outputs": [
    {
     "name": "stdout",
     "output_type": "stream",
     "text": [
      "  V r   S m h   R D D Y\n"
     ]
    }
   ],
   "source": [
    "# 65 Wap to print all consonant char from the given string\n",
    "s=\"Veera Simha REDDY\"\n",
    "m=0\n",
    "res=\" \"\n",
    "while m<len(s):\n",
    "    if s[m] not in \"aeiouAEIOU\":\n",
    "        res+=\" \"+s[m]\n",
    "    m+=1\n",
    "print(res)"
   ]
  },
  {
   "cell_type": "code",
   "execution_count": 17,
   "metadata": {},
   "outputs": [
    {
     "name": "stdout",
     "output_type": "stream",
     "text": [
      "Y D D E R   a h m i S   a r e e "
     ]
    }
   ],
   "source": [
    "#66 wap to print the reverse of the char from the given string\n",
    "\n",
    "s=\"Veera Simha REDDY\"\n",
    "m=len(s)-1\n",
    "while 0<m:\n",
    "    print(s[m],end=\" \")\n",
    "    m-=1\n",
    "\n"
   ]
  },
  {
   "cell_type": "code",
   "execution_count": 22,
   "metadata": {},
   "outputs": [
    {
     "name": "stdout",
     "output_type": "stream",
     "text": [
      "V e a S m a R D Y "
     ]
    }
   ],
   "source": [
    "#67 wap to print the even position values from the given string\n",
    "\n",
    "s=\"Veera Simha REDDY\"\n",
    "m=0\n",
    "while m<len(s):\n",
    "    if m%2==0:\n",
    "        print(s[m],end=\" \")\n",
    "    m+=1\n"
   ]
  },
  {
   "cell_type": "code",
   "execution_count": 23,
   "metadata": {},
   "outputs": [
    {
     "name": "stdout",
     "output_type": "stream",
     "text": [
      "e r   i h   E D "
     ]
    }
   ],
   "source": [
    "#68 wap to print the odd position values from the given string\n",
    "\n",
    "s=\"Veera Simha REDDY\"\n",
    "m=0\n",
    "while m<len(s):\n",
    "    if m%2!=0:\n",
    "        print(s[m],end=\" \")\n",
    "    m+=1"
   ]
  },
  {
   "cell_type": "code",
   "execution_count": 24,
   "metadata": {},
   "outputs": [
    {
     "name": "stdout",
     "output_type": "stream",
     "text": [
      "17\n"
     ]
    }
   ],
   "source": [
    "#69 wap to count the total no of char in the given string with lenth function\n",
    "\n",
    "s=\"Veera Simha REDDY\"\n",
    "print(len(s))\n"
   ]
  },
  {
   "cell_type": "code",
   "execution_count": 25,
   "metadata": {},
   "outputs": [
    {
     "name": "stdout",
     "output_type": "stream",
     "text": [
      "17\n"
     ]
    }
   ],
   "source": [
    "#70 wap to count the total no of char in the given string without lenth function\n",
    "\n",
    "s=\"Veera Simha REDDY\"\n",
    "m=0\n",
    "count=0\n",
    "while m<len(s):\n",
    "    count+=1\n",
    "    m+=1\n",
    "print(count)\n"
   ]
  },
  {
   "cell_type": "code",
   "execution_count": 27,
   "metadata": {},
   "outputs": [
    {
     "name": "stdout",
     "output_type": "stream",
     "text": [
      "15\n"
     ]
    }
   ],
   "source": [
    "#71 wap to print the alphabets in the given string\n",
    "s=\"101 Veera 32786Simha ^%$^%&^@ REDDY\"\n",
    "m=0\n",
    "count=0\n",
    "while m<len(s):\n",
    "    if \"A\"<=s[m]<=\"Z\" or \"a\"<=s[m]<=\"z\":\n",
    "        count+=1\n",
    "    m+=1\n",
    "print(count)"
   ]
  },
  {
   "cell_type": "code",
   "execution_count": 28,
   "metadata": {},
   "outputs": [
    {
     "name": "stdout",
     "output_type": "stream",
     "text": [
      "7\n"
     ]
    }
   ],
   "source": [
    "#72 wap to count the no of uppercase from the given string\n",
    "s=\"101 Veera 32786Simha ^%$^%&^@ REDDY\"\n",
    "m=0\n",
    "count=0\n",
    "while m<len(s):\n",
    "    if \"A\"<=s[m]<=\"Z\":\n",
    "        count+=1\n",
    "    m+=1\n",
    "print(count)"
   ]
  },
  {
   "cell_type": "code",
   "execution_count": 29,
   "metadata": {},
   "outputs": [
    {
     "name": "stdout",
     "output_type": "stream",
     "text": [
      "8\n"
     ]
    }
   ],
   "source": [
    "#73 wap to count the no of lowercase from the given string\n",
    "s=\"101 Veera 32786Simha ^%$^%&^@ REDDY\"\n",
    "m=0\n",
    "count=0\n",
    "while m<len(s):\n",
    "    if \"a\"<=s[m]<=\"z\":\n",
    "        count+=1\n",
    "    m+=1\n",
    "print(count)"
   ]
  },
  {
   "cell_type": "code",
   "execution_count": 35,
   "metadata": {},
   "outputs": [
    {
     "name": "stdout",
     "output_type": "stream",
     "text": [
      "10\n"
     ]
    }
   ],
   "source": [
    "#74 wap to count the no of special symbols from the given string\n",
    "s=\"101 Veera 32786Simha #%$^%$ REDDY\"\n",
    "m=0 #space also ane special char\n",
    "count=0\n",
    "while m<len(s):\n",
    "    if not(\"A\"<=s[m]<=\"Z\" or \"a\"<=s[m]<=\"z\" or \"0\"<=s[m]<=\"9\"):\n",
    "        count+=1\n",
    "    m+=1\n",
    "print(count)"
   ]
  },
  {
   "cell_type": "code",
   "execution_count": 36,
   "metadata": {},
   "outputs": [
    {
     "name": "stdout",
     "output_type": "stream",
     "text": [
      "15\n"
     ]
    }
   ],
   "source": [
    "#75 wap to count the no of lowercase and uppercase from the given string\n",
    "s=\"101 Veera 32786Simha ^%$^%&^@ REDDY\"\n",
    "m=0\n",
    "count=0\n",
    "while m<len(s):\n",
    "    if \"a\"<=s[m]<=\"z\" or \"A\"<=s[m]<=\"Z\":\n",
    "        count+=1\n",
    "    m+=1\n",
    "print(count)"
   ]
  },
  {
   "cell_type": "code",
   "execution_count": 37,
   "metadata": {},
   "outputs": [
    {
     "name": "stdout",
     "output_type": "stream",
     "text": [
      "8\n"
     ]
    }
   ],
   "source": [
    "#76 wap to count the no of asci num from the given string\n",
    "s=\"101 Veera 32786Simha ^%$^%&^@ REDDY\"\n",
    "m=0\n",
    "count=0\n",
    "while m<len(s):\n",
    "    if \"0\"<=s[m]<=\"9\":\n",
    "        count+=1\n",
    "    m+=1\n",
    "print(count)"
   ]
  },
  {
   "cell_type": "code",
   "execution_count": 40,
   "metadata": {},
   "outputs": [
    {
     "name": "stdout",
     "output_type": "stream",
     "text": [
      "5\n"
     ]
    }
   ],
   "source": [
    "#77 wap to count no of words in the given string\n",
    "s=\"101 Veera 32786Simha ^%$^%&^@ REDDY\"\n",
    "count=1\n",
    "m=0    # for n spaces n+1 words are there\n",
    "while m<len(s):\n",
    "    if s[m]==\" \":\n",
    "        count+=1\n",
    "    m+=1\n",
    "print(count)"
   ]
  },
  {
   "cell_type": "code",
   "execution_count": 42,
   "metadata": {},
   "outputs": [
    {
     "name": "stdout",
     "output_type": "stream",
     "text": [
      "4\n"
     ]
    }
   ],
   "source": [
    "#78 wap to count no of spaces in the given string\n",
    "s=\"101 Veera 32786Simha ^%$^%&^@ REDDY\"\n",
    "count=0\n",
    "m=0    \n",
    "while m<len(s):\n",
    "    if s[m]==\" \":\n",
    "        count+=1\n",
    "    m+=1\n",
    "print(count)"
   ]
  },
  {
   "cell_type": "code",
   "execution_count": 43,
   "metadata": {},
   "outputs": [
    {
     "name": "stdout",
     "output_type": "stream",
     "text": [
      "6\n"
     ]
    }
   ],
   "source": [
    "#79 wap to count no of vowels in the given string\n",
    "s=\"101 Veera 32786Simha ^%$^%&^@ REDDY\"\n",
    "count=0\n",
    "m=0    \n",
    "while m<len(s):\n",
    "    if s[m] in \"AEIOUaeiou\":\n",
    "        count+=1\n",
    "    m+=1\n",
    "print(count)"
   ]
  },
  {
   "cell_type": "code",
   "execution_count": 44,
   "metadata": {},
   "outputs": [
    {
     "name": "stdout",
     "output_type": "stream",
     "text": [
      "11\n"
     ]
    }
   ],
   "source": [
    "#80 wap to count no of consonants in the given string\n",
    "s=\"Veera Simha REDDY\"\n",
    "count=0\n",
    "m=0    \n",
    "while m<len(s):\n",
    "    if s[m] not in \"AEIOUaeiou\":\n",
    "        count+=1\n",
    "    m+=1\n",
    "print(count)"
   ]
  },
  {
   "cell_type": "code",
   "execution_count": 45,
   "metadata": {},
   "outputs": [
    {
     "name": "stdout",
     "output_type": "stream",
     "text": [
      "15\n"
     ]
    }
   ],
   "source": [
    "#81 wap to count no of vowels and consonants in the given string\n",
    "s=\"101 Veera 32786Simha ^%$^%&^@ REDDY\"\n",
    "count=0\n",
    "m=0    \n",
    "while m<len(s):\n",
    "    if \"A\"<=s[m]<=\"Z\" or \"a\"<=s[m]<=\"z\":\n",
    "        count+=1\n",
    "    m+=1\n",
    "print(count)"
   ]
  },
  {
   "cell_type": "code",
   "execution_count": 18,
   "metadata": {},
   "outputs": [
    {
     "name": "stdout",
     "output_type": "stream",
     "text": [
      "3\n"
     ]
    }
   ],
   "source": [
    "#82 Wap to count no of new lines in the given string\n",
    "s='''Python is a general-purpose high-level programming language \n",
    "and is widely used among the developers’ community.Python was \n",
    "mainly developed for emphasis on code readability, and its syntax \n",
    "allows programmers to express concepts in fewer lines of code.'''\n",
    "m=0\n",
    "count=0\n",
    "while m<len(s):\n",
    "    if s[m]==\"\\n\":\n",
    "        count+=1\n",
    "    m+=1\n",
    "print(count)\n"
   ]
  },
  {
   "cell_type": "code",
   "execution_count": 16,
   "metadata": {},
   "outputs": [
    {
     "name": "stdout",
     "output_type": "stream",
     "text": [
      "4\n"
     ]
    }
   ],
   "source": [
    "#83 Wap to count no of lines in the given string\n",
    "s='''Python is a general-purpose high-level programming language and is widely \n",
    "used among the developers’ community.Python was mainly developed for emphasis \n",
    "on code readability, and its syntax allows programmers to express concepts in\n",
    "fewer lines of code.'''\n",
    "m=0\n",
    "count=1\n",
    "while m<len(s):\n",
    "    if s[m]==\"\\n\":\n",
    "        count+=1\n",
    "    m+=1\n",
    "print(count)"
   ]
  },
  {
   "cell_type": "code",
   "execution_count": 48,
   "metadata": {},
   "outputs": [
    {
     "name": "stdout",
     "output_type": "stream",
     "text": [
      "VeeraSimhaREDDY 15\n",
      "10132786 8\n",
      "   ^%$^%&^@  12\n"
     ]
    }
   ],
   "source": [
    "#84 wap to count the no of alphabets,numbers,special char in the given string\n",
    "s=\"101 Veera 32786Simha ^%$^%&^@ REDDY\"\n",
    "ab=\"\"\n",
    "nu=\"\"\n",
    "sc=\"\"\n",
    "couab=0\n",
    "counu=0\n",
    "cousc=0\n",
    "m=0\n",
    "while m<len(s):\n",
    "    if \"A\"<=s[m]<=\"Z\" or \"a\"<=s[m]<=\"z\":\n",
    "        ab+=s[m]\n",
    "        couab+=1\n",
    "    elif \"0\"<=s[m]<=\"9\":\n",
    "        nu+=s[m]\n",
    "        counu+=1\n",
    "    else:\n",
    "        sc+=s[m]\n",
    "        cousc+=1\n",
    "    m+=1\n",
    "print(ab,couab)\n",
    "print(nu,counu)\n",
    "print(sc,cousc)\n"
   ]
  },
  {
   "cell_type": "code",
   "execution_count": 29,
   "metadata": {},
   "outputs": [
    {
     "name": "stdout",
     "output_type": "stream",
     "text": [
      "11\n"
     ]
    }
   ],
   "source": [
    "#85 wap to count the total no of words in the given first line of the  string\n",
    "s='''Python is a general-purpose high-level programming language and is widely used\n",
    "used among the developers’ community.Python was mainly developed for emphasis \n",
    "on code readability, and its syntax allows programmers to express\n",
    "concepts in fewer lines of code.'''\n",
    "m=0\n",
    "count=1\n",
    "while m<len(s):\n",
    "    if s[m]==\"\\n\":\n",
    "        break\n",
    "    if s[m]==\" \":\n",
    "        count+=1\n",
    "    m+=1\n",
    "print(count)"
   ]
  },
  {
   "cell_type": "code",
   "execution_count": 52,
   "metadata": {},
   "outputs": [
    {
     "name": "stdout",
     "output_type": "stream",
     "text": [
      "35\n"
     ]
    }
   ],
   "source": [
    "#86 wap to sum of digits of the given string\n",
    "s=\"38798\"\n",
    "sum=0\n",
    "m=0\n",
    "while m<len(s):\n",
    "    sum+=int(s[m])\n",
    "    m+=1\n",
    "print(sum)"
   ]
  },
  {
   "cell_type": "code",
   "execution_count": 11,
   "metadata": {},
   "outputs": [
    {
     "name": "stdout",
     "output_type": "stream",
     "text": [
      "helo wrd\n"
     ]
    }
   ],
   "source": [
    "#87 wap to print the first occurence of the of a character in a given string\n",
    "\n",
    "s=\"hello world\"\n",
    "res=\"\"\n",
    "re=\"\"\n",
    "m=0\n",
    "while m<len(s):\n",
    "    if s[m] not in res:\n",
    "        res+=s[m]\n",
    "    else:\n",
    "        re+=s[m]\n",
    "    m+=1\n",
    "print(res)"
   ]
  },
  {
   "cell_type": "code",
   "execution_count": 12,
   "metadata": {},
   "outputs": [
    {
     "name": "stdout",
     "output_type": "stream",
     "text": [
      "lolr\n"
     ]
    }
   ],
   "source": [
    "#88 wap to print the last occurence of the character in the given string\n",
    "\n",
    "s=\"hello worlrd\"\n",
    "res=\"\"\n",
    "re=\"\"\n",
    "m=0\n",
    "while m<len(s):\n",
    "    if s[m] not in res:\n",
    "        res+=s[m]\n",
    "    else:\n",
    "        re+=s[m]\n",
    "    m+=1\n",
    "print(re)\n"
   ]
  },
  {
   "cell_type": "code",
   "execution_count": 9,
   "metadata": {},
   "outputs": [
    {
     "name": "stdout",
     "output_type": "stream",
     "text": [
      "h\n"
     ]
    }
   ],
   "source": [
    "#89 wap to print the first not occurence of the character in the given string\n",
    "s=\"hello worlrd\"\n",
    "no=\"\"\n",
    "oc=\"\"\n",
    "m=0\n",
    "while m<len(s):\n",
    "    if s[m] not in no:\n",
    "        no+=s[m]\n",
    "    else:\n",
    "        oc+=s[m]\n",
    "    m+=1\n",
    "print(no[0])\n",
    "# i=0\n",
    "# while i<len(oc):"
   ]
  },
  {
   "cell_type": "code",
   "execution_count": 13,
   "metadata": {},
   "outputs": [
    {
     "name": "stdout",
     "output_type": "stream",
     "text": [
      "d\n"
     ]
    }
   ],
   "source": [
    "#90 wap to print the last not occurence of the character in the given string\n",
    "\n",
    "s=\"hello world\"\n",
    "no=\"\"\n",
    "oc=\"\"\n",
    "m=0\n",
    "while m<len(s):\n",
    "    if s[m] not in no:\n",
    "        no+=s[m]\n",
    "    else:\n",
    "        oc+=s[m]\n",
    "    m+=1\n",
    "print(no[-1])\n",
    "\n"
   ]
  },
  {
   "cell_type": "code",
   "execution_count": 16,
   "metadata": {},
   "outputs": [
    {
     "name": "stdout",
     "output_type": "stream",
     "text": [
      " e a r e d\n"
     ]
    }
   ],
   "source": [
    "#91 wap to remove first occurence of the char from the given string\n",
    "\n",
    "st=\"veera simhareddy\"\n",
    "no=\"\"\n",
    "oc=\"\"\n",
    "m=0\n",
    "while m<len(st):\n",
    "    if st[m] not in no:\n",
    "        no+=st[m]\n",
    "    else:\n",
    "        oc+=\" \" +st[m]\n",
    "    m+=1\n",
    "print(oc)"
   ]
  },
  {
   "cell_type": "code",
   "execution_count": 17,
   "metadata": {},
   "outputs": [
    {
     "name": "stdout",
     "output_type": "stream",
     "text": [
      " v e r a s i m h d y\n"
     ]
    }
   ],
   "source": [
    "#92 wap to remove last occured char in the given string\n",
    "\n",
    "st=\"veera simhareddy\"\n",
    "no=\"\"\n",
    "oc=\"\"\n",
    "m=0\n",
    "while m<len(st):\n",
    "    if st[m] not in no:\n",
    "        no+=\" \" +st[m]\n",
    "    else:\n",
    "        oc+=st[m]\n",
    "    m+=1\n",
    "print(no)\n"
   ]
  },
  {
   "cell_type": "code",
   "execution_count": 27,
   "metadata": {},
   "outputs": [
    {
     "name": "stdout",
     "output_type": "stream",
     "text": [
      "{'v': 1, 'e': 3, 'r': 2, 'a': 2, ' ': 1, 's': 1, 'i': 1, 'm': 1, 'h': 1, 'd': 2, 'y': 1}\n",
      "r 2\n"
     ]
    }
   ],
   "source": [
    "#93 wap to count the occurence of the specific char from the string\n",
    "\n",
    "st=\"veera simhareddy\"\n",
    "res={}\n",
    "m=0\n",
    "while m<len(st):\n",
    "    if st[m] not in res:\n",
    "        res[st[m]]=1\n",
    "    else:\n",
    "        res[st[m]]+=1\n",
    "    m+=1\n",
    "print(res)\n",
    "l=list(res)\n",
    "print(l[2],res[l[2]])"
   ]
  },
  {
   "cell_type": "code",
   "execution_count": 25,
   "metadata": {},
   "outputs": [
    {
     "name": "stdout",
     "output_type": "stream",
     "text": [
      "{'v': 1, 'e': 3, 'r': 2, 'a': 2, ' ': 1, 's': 1, 'i': 1, 'm': 1, 'h': 1, 'd': 2, 'y': 1}\n",
      "e 3\n"
     ]
    }
   ],
   "source": [
    "#94 wap to count the max occurence of the  char from the string\n",
    "\n",
    "st=\"veera simhareddy\"\n",
    "res={}\n",
    "m=0\n",
    "while m<len(st):\n",
    "    if st[m] not in res:\n",
    "        res[st[m]]=1\n",
    "    else:\n",
    "        res[st[m]]+=1\n",
    "    m+=1\n",
    "print(res)\n",
    "l=list(res)\n",
    "i=0\n",
    "max=0\n",
    "ch=\"\"\n",
    "while i<len(l):\n",
    "    if res[l[i]]>max:\n",
    "        max=res[l[i]]\n",
    "        ch=l[i]\n",
    "    i+=1\n",
    "print(ch,max)\n",
    "\n",
    "\n"
   ]
  },
  {
   "cell_type": "code",
   "execution_count": 1,
   "metadata": {},
   "outputs": [
    {
     "name": "stdout",
     "output_type": "stream",
     "text": [
      "{'a': 4, 'b': 3, 'c': 2, 'd': 2, 'e': 1}\n",
      "e 1\n"
     ]
    }
   ],
   "source": [
    "#95 wap to count the min occurence of the  char from the string\n",
    "\n",
    "s=\"aaaabbbccdde\"\n",
    "m=0\n",
    "d={}\n",
    "while m<len(s):\n",
    "    if s[m] not in d:\n",
    "        d[s[m]]=1\n",
    "    else:\n",
    "        d[s[m]]+=1\n",
    "    m+=1\n",
    "print(d)\n",
    "l=list(d)\n",
    "i=0\n",
    "min=d[l[2]]\n",
    "ch=\"\"\n",
    "while i<len(l):\n",
    "    if d[l[i]]<min:\n",
    "        min=d[l[i]]\n",
    "        ch=l[i]\n",
    "    i+=1\n",
    "print(ch,min)\n",
    "\n"
   ]
  },
  {
   "cell_type": "code",
   "execution_count": 48,
   "metadata": {},
   "outputs": [
    {
     "name": "stdout",
     "output_type": "stream",
     "text": [
      "{'v': 1, 'e': 3, 'r': 2, 'a': 2, ' ': 1, 's': 1, 'i': 1, 'm': 1, 'h': 1, 'd': 2, 'y': 1}\n"
     ]
    }
   ],
   "source": [
    "#96 wap to count the repeat of the  char from the string\n",
    "\n",
    "s=\"veera simhareddy\"\n",
    "d={}\n",
    "e={}\n",
    "m=0\n",
    "while m<len(s):\n",
    "    if s[m] not in d:\n",
    "        d[s[m]]=1\n",
    "    else:\n",
    "        d[s[m]]+=1\n",
    "    m+=1\n",
    "print(d)\n"
   ]
  },
  {
   "cell_type": "code",
   "execution_count": 49,
   "metadata": {},
   "outputs": [
    {
     "name": "stdout",
     "output_type": "stream",
     "text": [
      "{'v': 1, 'e': 3, 'r': 2, 'a': 2, ' ': 1, 's': 1, 'i': 1, 'm': 1, 'h': 1, 'd': 2, 'y': 1}\n",
      "e 3\n"
     ]
    }
   ],
   "source": [
    "#97 wap to count the max repeated of the  char from the string\n",
    "\n",
    "s=\"veera simhareddy\"\n",
    "d={}\n",
    "m=0\n",
    "while m<len(s):\n",
    "    if s[m] not in d:\n",
    "        d[s[m]]=1\n",
    "    else:\n",
    "        d[s[m]]+=1\n",
    "    m+=1\n",
    "print(d)\n",
    "l=list(d)\n",
    "max=0\n",
    "i=0\n",
    "ch=\"\"\n",
    "while i<len(l):\n",
    "    if d[l[i]]>max:\n",
    "        max=d[l[i]]\n",
    "        ch=l[i]\n",
    "    i+=1\n",
    "print(ch,max)"
   ]
  },
  {
   "cell_type": "code",
   "execution_count": 19,
   "metadata": {},
   "outputs": [
    {
     "name": "stdout",
     "output_type": "stream",
     "text": [
      "{'a': 4, 'b': 3, 'c': 2, 'd': 3, 'e': 1, 'f': 1, 'g': 1}\n",
      "e 1\n"
     ]
    }
   ],
   "source": [
    "#98 wap to count the min repeated char from the given string\n",
    "\n",
    "s=\"aaaabbbccddedfg\"\n",
    "m=0\n",
    "d={}\n",
    "while m<len(s):\n",
    "    if s[m] not in d:\n",
    "        d[s[m]]=1\n",
    "    else:\n",
    "        d[s[m]]+=1\n",
    "    m+=1\n",
    "print(d)\n",
    "l=list(d)\n",
    "i=0\n",
    "min=d[l[3]]\n",
    "# di={}\n",
    "ch=\"\"\n",
    "while i<len(l):\n",
    "    if d[l[i]]<min:\n",
    "        min=d[l[i]]\n",
    "        ch=l[i]\n",
    "    i+=1\n",
    "print(ch,min)\n",
    "\n"
   ]
  },
  {
   "cell_type": "code",
   "execution_count": 63,
   "metadata": {},
   "outputs": [
    {
     "name": "stdout",
     "output_type": "stream",
     "text": [
      "veera simhareddy\n"
     ]
    }
   ],
   "source": [
    "#99 replace the specific char into the new char newchar\n",
    "s=\"veeqa simhareddy\"\n",
    "m=0\n",
    "res=\"\"\n",
    "while m<len(s):\n",
    "    if s[m]==\"q\":\n",
    "        res+=\"r\"\n",
    "    else:\n",
    "        res+=s[m]\n",
    "    m+=1\n",
    "print(res)\n",
    "    \n"
   ]
  },
  {
   "cell_type": "code",
   "execution_count": 78,
   "metadata": {},
   "outputs": [
    {
     "name": "stdout",
     "output_type": "stream",
     "text": [
      "gcwbgfcndbfiufngdjfvbb\n"
     ]
    }
   ],
   "source": [
    "#100 wap to convert the upper case to lowercase\n",
    "s=\"GCWBGFCNDBFIUFNGdjfvbb\"\n",
    "m=0\n",
    "res=\"\"\n",
    "while m<len(s):\n",
    "    if \"A\"<=s[m]<=\"Z\":\n",
    "        res+=chr(ord(s[m])+32)\n",
    "    else:\n",
    "        res+=s[m]\n",
    "    m+=1\n",
    "print(res)\n",
    "\n"
   ]
  },
  {
   "cell_type": "code",
   "execution_count": 79,
   "metadata": {},
   "outputs": [
    {
     "name": "stdout",
     "output_type": "stream",
     "text": [
      "GCWBGFCNDBFIUFNGDJFVBB\n"
     ]
    }
   ],
   "source": [
    "#101 wap to convert the lower case to uppercase\n",
    "s=\"GCWBGFCNDBFIUFNGdjfvbb\"\n",
    "m=0\n",
    "res=\"\"\n",
    "while m<len(s):\n",
    "    if \"a\"<=s[m]<=\"z\":\n",
    "        res+=chr(ord(s[m])-32)\n",
    "    else:\n",
    "        res+=s[m]\n",
    "    m+=1\n",
    "print(res)"
   ]
  },
  {
   "cell_type": "code",
   "execution_count": 20,
   "metadata": {},
   "outputs": [
    {
     "name": "stdout",
     "output_type": "stream",
     "text": [
      "gCwBgFcNdBfIuFnGdjfvbb\n"
     ]
    }
   ],
   "source": [
    "#102 wap to convert the uppercase to lowercase in the even position of string\n",
    "\n",
    "s=\"GCWBGFCNDBFIUFNGdjfvbb\"\n",
    "m=0\n",
    "res=\"\"\n",
    "while m<len(s):\n",
    "    if m%2==0:\n",
    "        if \"A\"<=s[m]<=\"Z\":\n",
    "            res+=chr(ord(s[m])+32)\n",
    "        else:\n",
    "            res+=s[m]\n",
    "    else:\n",
    "        res+=s[m]\n",
    "    m+=1\n",
    "print(res)\n"
   ]
  },
  {
   "cell_type": "code",
   "execution_count": 21,
   "metadata": {},
   "outputs": [
    {
     "name": "stdout",
     "output_type": "stream",
     "text": [
      "GcWbGfCnDbFiUfNgdjfvbb\n"
     ]
    }
   ],
   "source": [
    "#103 wap to convert the uppercase to lowercase in the odd position of string\n",
    "\n",
    "s=\"GCWBGFCNDBFIUFNGdjfvbb\"\n",
    "m=0\n",
    "res=\"\"\n",
    "while m<len(s):\n",
    "    if m%2!=0:\n",
    "        if \"A\"<=s[m]<=\"Z\":\n",
    "            res+=chr(ord(s[m])+32)\n",
    "        else:\n",
    "            res+=s[m]\n",
    "    else:\n",
    "        res+=s[m]\n",
    "    m+=1\n",
    "print(res)"
   ]
  },
  {
   "cell_type": "code",
   "execution_count": 28,
   "metadata": {},
   "outputs": [
    {
     "name": "stdout",
     "output_type": "stream",
     "text": [
      "HGJjf**ggPgFF***F**\n"
     ]
    }
   ],
   "source": [
    "#104 wap to convert the uppercase to lowercase and lower to upper and special char replace with * for the given string\n",
    "\n",
    "s=\"hgjJF(*GGpGff*&^f%^\"\n",
    "m=0\n",
    "res=\"\"\n",
    "while m<len(s):\n",
    "    if \"A\"<=s[m]<=\"Z\":\n",
    "        res+=chr(ord(s[m])+32)\n",
    "    elif \"a\"<=s[m]<=\"z\":\n",
    "        res+=s[m].upper()\n",
    "    elif not(\"0\"<=s[m]<=\"9\"):\n",
    "        res+=\"*\"\n",
    "    m+=1\n",
    "print(res)"
   ]
  },
  {
   "cell_type": "code",
   "execution_count": 62,
   "metadata": {},
   "outputs": [
    {
     "name": "stdout",
     "output_type": "stream",
     "text": [
      "Hello World Python\n"
     ]
    }
   ],
   "source": [
    "#105 wap to convert the title case of the given string\n",
    "s=\"hello world python\"\n",
    "m=1\n",
    "res=\"\"\n",
    "if \"a\"<=s[0]<=\"z\":\n",
    "    res+=s[0].upper()\n",
    "while m<len(s):\n",
    "    if \"a\"<=s[m]<=\"z\":\n",
    "        if s[m-1]==\" \":\n",
    "            res+=s[m].upper()\n",
    "        else:\n",
    "            res+=s[m]\n",
    "    else:\n",
    "        res+=s[m]\n",
    "    m+=1\n",
    "print(res)"
   ]
  },
  {
   "cell_type": "code",
   "execution_count": 52,
   "metadata": {},
   "outputs": [
    {
     "name": "stdout",
     "output_type": "stream",
     "text": [
      "hello_world_python\n"
     ]
    }
   ],
   "source": [
    "#106 wap to convert the snake case of the given string\n",
    "\n",
    "s=\"hello world python\"\n",
    "m=0\n",
    "res=\"\"\n",
    "while m<len(s):\n",
    "    if s[m]==\" \":\n",
    "        res+=\"_\"\n",
    "    else:\n",
    "        res+=s[m]\n",
    "    m+=1\n",
    "print(res)"
   ]
  },
  {
   "cell_type": "code",
   "execution_count": 68,
   "metadata": {},
   "outputs": [
    {
     "name": "stdout",
     "output_type": "stream",
     "text": [
      "Hello World Python\n"
     ]
    }
   ],
   "source": [
    "#wap to capitilise the each word ofthe string\n",
    "s=\"hello world python\"\n",
    "m=1\n",
    "res=\"\"\n",
    "if \"a\"<=s[0]<=\"z\":\n",
    "    res+=s[0].upper()\n",
    "while m<len(s):\n",
    "    if \"a\"<=s[m]<=\"z\" and s[m-1]==\" \":\n",
    "        res+=s[m].upper()\n",
    "    else:\n",
    "        res+=s[m]\n",
    "    m+=1\n",
    "print(res)"
   ]
  },
  {
   "cell_type": "code",
   "execution_count": 12,
   "metadata": {},
   "outputs": [
    {
     "name": "stdout",
     "output_type": "stream",
     "text": [
      "Hello Pyt$On How Are !Y0U\n"
     ]
    }
   ],
   "source": [
    "# Wap to write the given string in the title case\n",
    "\n",
    "s=\"HEllo pYT$on hOw are !y0u\"\n",
    "m=1\n",
    "res=\"\"    \n",
    "if \"a\"<s[0]<=\"z\":\n",
    "    res+=s[0].upper()\n",
    "else:\n",
    "    res+=s[0]\n",
    "while m<len(s):\n",
    "    if (\"a\"<=s[m]<=\"z\" or \"A\"<=s[m]<=\"Z\") and not(\"a\"<=s[m-1]<=\"z\" or \"A\"<=s[m-1]<=\"Z\"):\n",
    "        res+=s[m].upper()\n",
    "    elif \"A\"<=s[m]<=\"Z\":\n",
    "        res+=s[m].lower()\n",
    "    else:\n",
    "        res+=s[m]\n",
    "    m+=1\n",
    "print(res)"
   ]
  },
  {
   "cell_type": "code",
   "execution_count": 76,
   "metadata": {},
   "outputs": [
    {
     "name": "stdout",
     "output_type": "stream",
     "text": [
      "hELLO wORLD pYTHON\n"
     ]
    }
   ],
   "source": [
    "#107 wap to toggle case in a given string\n",
    "s=\"HELlo world Python\"\n",
    "res=\"\"\n",
    "m=1\n",
    "if \"A\"<=s[0]<=\"Z\":\n",
    "    res+=s[0].lower()\n",
    "while m<len(s):\n",
    "    if (\"A\"<=s[m]<=\"Z\" or \"a\"<=s[m]<=\"z\" ) and s[m-1]==\" \":\n",
    "        res+=s[m].lower()\n",
    "    elif \"a\"<=s[m]<=\"z\":\n",
    "        res+=s[m].upper()\n",
    "    else:\n",
    "        res+=s[m]\n",
    "    m+=1\n",
    "print(res)\n"
   ]
  },
  {
   "cell_type": "code",
   "execution_count": 4,
   "metadata": {},
   "outputs": [
    {
     "name": "stdout",
     "output_type": "stream",
     "text": [
      " V 101 101 r 97   s 105 m h 97 r 101 d d y\n"
     ]
    }
   ],
   "source": [
    "#108 wap to replace vowels into the ascii values in the given string\n",
    "s=\"Veera simhareddy\"\n",
    "res=\"\"\n",
    "m=0\n",
    "while m<len(s):\n",
    "    if s[m] in \"AEIOUaeiou\":\n",
    "        res+=\" \"+str(ord(s[m]))\n",
    "    else:\n",
    "        res+=\" \"+s[m]\n",
    "    m+=1\n",
    "print(res)\n",
    "\n"
   ]
  },
  {
   "cell_type": "code",
   "execution_count": 5,
   "metadata": {},
   "outputs": [
    {
     "name": "stdout",
     "output_type": "stream",
     "text": [
      " 86 e e 114 a 32 115 i 109 104 a 114 e 100 100 121\n"
     ]
    }
   ],
   "source": [
    "#109 wap to replace consoanats into the ascii values in the given string\n",
    "s=\"Veera simhareddy\"\n",
    "res=\"\"\n",
    "m=0\n",
    "while m<len(s):\n",
    "    if s[m] not in \"AEIOUaeiou\":\n",
    "        res+=\" \"+str(ord(s[m]))\n",
    "    else:\n",
    "        res+=\" \"+s[m]\n",
    "    m+=1\n",
    "print(res)"
   ]
  },
  {
   "cell_type": "code",
   "execution_count": 7,
   "metadata": {},
   "outputs": [
    {
     "name": "stdout",
     "output_type": "stream",
     "text": [
      " V e e 114 a 32 S i m 104 a 114 e 100 d 121\n"
     ]
    }
   ],
   "source": [
    "#110 wap to replace consoanats into the ascii values in the odd position of given string\n",
    "\n",
    "s=\"Veera Simhareddy\"\n",
    "res=\"\"\n",
    "m=0\n",
    "while m<len(s):\n",
    "    if s[m] not in \"AEIOUaeiou\" and m%2!=0:\n",
    "        res+=\" \"+str(ord(s[m]))\n",
    "    else:\n",
    "        res+=\" \"+s[m]\n",
    "    m+=1\n",
    "print(res)\n"
   ]
  },
  {
   "cell_type": "code",
   "execution_count": 8,
   "metadata": {},
   "outputs": [
    {
     "name": "stdout",
     "output_type": "stream",
     "text": [
      " V e 101 r 97   S i m h 97 r 101 d d y\n"
     ]
    }
   ],
   "source": [
    "#111 wap to replace vowels into the ascii values in the even position of given string\n",
    "\n",
    "s=\"Veera Simhareddy\"\n",
    "res=\"\"\n",
    "m=0\n",
    "while m<len(s):\n",
    "    if s[m] in \"AEIOUaeiou\" and m%2==0:\n",
    "        res+=\" \"+str(ord(s[m]))\n",
    "    else:\n",
    "        res+=\" \"+s[m]\n",
    "    m+=1\n",
    "print(res)"
   ]
  },
  {
   "cell_type": "code",
   "execution_count": 9,
   "metadata": {},
   "outputs": [
    {
     "name": "stdout",
     "output_type": "stream",
     "text": [
      "hai_hello_python\n"
     ]
    }
   ],
   "source": [
    "#112 wap to replace the the space with the underscore\n",
    "\n",
    "s=\"hai hello python\"\n",
    "res=\"\"\n",
    "m=0\n",
    "while m<len(s):\n",
    "    if s[m]==\" \":\n",
    "        res+=\"_\"\n",
    "    else:\n",
    "        res+=s[m]\n",
    "    m+=1\n",
    "print(res)"
   ]
  },
  {
   "cell_type": "code",
   "execution_count": 11,
   "metadata": {},
   "outputs": [
    {
     "name": "stdout",
     "output_type": "stream",
     "text": [
      "hihlopto ol\n"
     ]
    }
   ],
   "source": [
    "#113 wap to remove the odd position of the char from the given string\n",
    "\n",
    "s=\"hai hello python world\"\n",
    "res=\"\"\n",
    "m=0\n",
    "while m< len(s):\n",
    "    if m%2!=0:\n",
    "        res+=\"\"\n",
    "    else:\n",
    "        res+=s[m]\n",
    "    m+=1\n",
    "print(res)"
   ]
  },
  {
   "cell_type": "code",
   "execution_count": 12,
   "metadata": {},
   "outputs": [
    {
     "name": "stdout",
     "output_type": "stream",
     "text": [
      "a el yhnwrd\n"
     ]
    }
   ],
   "source": [
    "#114 wap to remove the even position of the char from the given string\n",
    "\n",
    "\n",
    "s=\"hai hello python world\"\n",
    "res=\"\"\n",
    "m=0\n",
    "while m< len(s):\n",
    "    if m%2==0:\n",
    "        res+=\"\"\n",
    "    else:\n",
    "        res+=s[m]\n",
    "    m+=1\n",
    "print(res)\n"
   ]
  },
  {
   "cell_type": "code",
   "execution_count": 13,
   "metadata": {},
   "outputs": [
    {
     "name": "stdout",
     "output_type": "stream",
     "text": [
      "@123 -#@123\n"
     ]
    }
   ],
   "source": [
    "#115 wap to remove the alphabets from the given string\n",
    "\n",
    "s=\"Hello@123 Python-Programming#@123\"\n",
    "res=\"\"\n",
    "m=0\n",
    "while m<len(s):\n",
    "    if \"a\"<=s[m]<=\"z\" or \"A\"<=s[m]<=\"Z\":\n",
    "        res+=\"\"\n",
    "    else:\n",
    "        res+=s[m]\n",
    "    m+=1\n",
    "print(res)\n"
   ]
  },
  {
   "cell_type": "code",
   "execution_count": 14,
   "metadata": {},
   "outputs": [
    {
     "name": "stdout",
     "output_type": "stream",
     "text": [
      "Hello@ Python-Programming#@\n"
     ]
    }
   ],
   "source": [
    "#116 wap to remove the ascii numbers from the given string\n",
    "\n",
    "s=\"Hello@123 Python-Programming#@123\"\n",
    "res=\"\"\n",
    "m=0\n",
    "while m<len(s):\n",
    "    if \"0\"<=s[m]<=\"9\":\n",
    "        res+=\"\"\n",
    "    else:\n",
    "        res+=s[m]\n",
    "    m+=1\n",
    "print(res)"
   ]
  },
  {
   "cell_type": "code",
   "execution_count": 15,
   "metadata": {},
   "outputs": [
    {
     "name": "stdout",
     "output_type": "stream",
     "text": [
      "Hello123PythonProgramming123\n"
     ]
    }
   ],
   "source": [
    "#117 wap to remove the special char from the given string\n",
    "\n",
    "s=\"Hello@123 Python-Programming#@123\"\n",
    "res=\"\"\n",
    "m=0\n",
    "while m<len(s):\n",
    "    if not(\"a\"<=s[m]<=\"z\" or \"A\"<=s[m]<=\"Z\" or \"0\"<=s[m]<=\"9\"):\n",
    "        res+=\"\"\n",
    "    else:\n",
    "        res+=s[m]\n",
    "    m+=1\n",
    "print(res)"
   ]
  },
  {
   "cell_type": "code",
   "execution_count": 33,
   "metadata": {},
   "outputs": [
    {
     "name": "stdout",
     "output_type": "stream",
     "text": [
      "8\n",
      "malayalam\n",
      "palindrome\n"
     ]
    }
   ],
   "source": [
    "#118 wap to check the given string is palindrome or not\n",
    "s=\"malayalam\" \n",
    "n=s\n",
    "res=\"\"\n",
    "m=len(s)-1\n",
    "print(m)\n",
    "while 0<=m:\n",
    "    res+=s[m]\n",
    "    m-=1\n",
    "print(res)\n",
    "if res==n:\n",
    "    print(\"palindrome\")\n",
    "else:\n",
    "    print(\"not\")"
   ]
  },
  {
   "cell_type": "code",
   "execution_count": 7,
   "metadata": {},
   "outputs": [
    {
     "name": "stdout",
     "output_type": "stream",
     "text": [
      "lowercase\n"
     ]
    }
   ],
   "source": [
    "#119 wap to check wheather the given string is in lowercase or not\n",
    "s=\"hello world\"\n",
    "m=0\n",
    "count=0\n",
    "while m<len(s):\n",
    "    if \"a\"<=s[m]<=\"z\" :\n",
    "        pass\n",
    "    elif \"A\"<=s[m]<=\"Z\":\n",
    "        count+=1\n",
    "    else:\n",
    "        pass\n",
    "    m+=1\n",
    "if count>=1:\n",
    "    print(\"not in lowercase\")\n",
    "else:\n",
    "    print(\"lowercase\")"
   ]
  },
  {
   "cell_type": "code",
   "execution_count": 8,
   "metadata": {},
   "outputs": [
    {
     "name": "stdout",
     "output_type": "stream",
     "text": [
      "uppercase\n"
     ]
    }
   ],
   "source": [
    "#120 wap to check wheather the given string is in uppercase or not\n",
    "s=\"HELLO WORLD\"\n",
    "m=0\n",
    "count=0\n",
    "while m<len(s):\n",
    "    if \"A\"<=s[m]<=\"Z\" :\n",
    "        pass\n",
    "    elif \"a\"<=s[m]<=\"z\":\n",
    "        count+=1\n",
    "    else:\n",
    "        pass\n",
    "    m+=1\n",
    "if count>=1:\n",
    "    print(\"not in uppercase\")\n",
    "else:\n",
    "    print(\"uppercase\")"
   ]
  },
  {
   "cell_type": "code",
   "execution_count": 14,
   "metadata": {},
   "outputs": [
    {
     "name": "stdout",
     "output_type": "stream",
     "text": [
      "False\n"
     ]
    }
   ],
   "source": [
    "#121 wap to check wheather the given number is string or not\n",
    "\n",
    "s=\"242635475\"\n",
    "s1=242635475\n",
    "print(s==s1)\n"
   ]
  },
  {
   "cell_type": "code",
   "execution_count": 8,
   "metadata": {},
   "outputs": [
    {
     "name": "stdout",
     "output_type": "stream",
     "text": [
      "eoo123aii\n"
     ]
    }
   ],
   "source": [
    "#121 i/p= hello world 123haii\n",
    "#o/p=eoo123aii\n",
    "\n",
    "s=\"hello world 123haii\"\n",
    "m=0\n",
    "res=\"\"\n",
    "while m<len(s):\n",
    "    if s[m] in \"aeiouAEIOU\" or \"0\"<=s[m]<=\"9\":\n",
    "        res+=s[m]\n",
    "    # else:\n",
    "    #     res+=\"\"\n",
    "    m+=1\n",
    "print(res)"
   ]
  },
  {
   "cell_type": "code",
   "execution_count": 11,
   "metadata": {},
   "outputs": [
    {
     "name": "stdout",
     "output_type": "stream",
     "text": [
      "eo o 123aii\n"
     ]
    }
   ],
   "source": [
    "#122 i/p= hello world 123 haii\n",
    "#o/p=eo o 123 aii\n",
    "\n",
    "s=\"hello world 123haii\"\n",
    "m=0\n",
    "res=\"\"\n",
    "while m<len(s):\n",
    "    if not(\"a\"<=s[m]<=\"z\" or \"A\"<=s[m]<=\"Z\" or \"0\"<=s[m]<=\"9\") or s[m] in \"aeiouAEIOU\" or \"0\"<=s[m]<=\"9\":\n",
    "        res+=s[m]\n",
    "    # else:\n",
    "    #     res+=\"\"\n",
    "    m+=1\n",
    "print(res)\n",
    "\n"
   ]
  },
  {
   "cell_type": "code",
   "execution_count": 12,
   "metadata": {},
   "outputs": [
    {
     "name": "stdout",
     "output_type": "stream",
     "text": [
      "eo o aii\n"
     ]
    }
   ],
   "source": [
    "#123 i/p= hello world 123 haii\n",
    "#o/p=eo o  aii\n",
    "\n",
    "s=\"hello world 123haii\"\n",
    "m=0\n",
    "res=\"\"\n",
    "while m<len(s):\n",
    "    if not(\"a\"<=s[m]<=\"z\" or \"A\"<=s[m]<=\"Z\" or \"0\"<=s[m]<=\"9\") or s[m] in \"aeiouAEIOU\":\n",
    "        res+=s[m]\n",
    "    m+=1\n",
    "print(res)"
   ]
  },
  {
   "cell_type": "code",
   "execution_count": 32,
   "metadata": {},
   "outputs": [
    {
     "name": "stdout",
     "output_type": "stream",
     "text": [
      "oo world 123haii\n"
     ]
    }
   ],
   "source": [
    "#124 i/p= hello world 123 haii\n",
    "#o/p= hll world haii\n",
    "\n",
    "s=\"hello world 123haii\"\n",
    "m=0\n",
    "res=\"\"\n",
    "while m<len(s):\n",
    "    if \"0\"<=s[m]<=\"9\":\n",
    "        res+=\"\"\n",
    "    elif s[m]==\" \":\n",
    "        break\n",
    "    else:\n",
    "        res=s[m]+s[m:]\n",
    "    m+=1\n",
    "print(res)"
   ]
  },
  {
   "cell_type": "code",
   "execution_count": 33,
   "metadata": {},
   "outputs": [
    {
     "name": "stdout",
     "output_type": "stream",
     "text": [
      "hll wrld\n",
      "eoo\n"
     ]
    }
   ],
   "source": [
    "#125 i/p: \"hello world\"\n",
    "#o/p: \"hll wrld \"\n",
    "#o/p: \"eoo\"\n",
    "\n",
    "s=\"hello world\"\n",
    "vow=\"\"\n",
    "con=\"\"\n",
    "m=0\n",
    "while m<len(s):\n",
    "    if s[m] not in \"aeiouAEIOU\":\n",
    "        con+=s[m]\n",
    "    else:\n",
    "        vow+=s[m]\n",
    "    m+=1\n",
    "print(con)\n",
    "print(vow)"
   ]
  },
  {
   "cell_type": "code",
   "execution_count": 56,
   "metadata": {},
   "outputs": [
    {
     "name": "stdout",
     "output_type": "stream",
     "text": [
      "hll wrld\n",
      "eoo\n",
      "12344\n"
     ]
    }
   ],
   "source": [
    "#126 i/p: \"12hello3 4world4\"\n",
    "#o/p: \"hll wrld \"\n",
    "#o/p: \"eoo\"\n",
    "#12344\n",
    "\n",
    "s=\"12hello3 4world4\"\n",
    "vow=\"\"\n",
    "con=\"\"\n",
    "num=\"\"\n",
    "m=0\n",
    "while m<len(s):\n",
    "    if \"0\"<=s[m]<=\"9\":\n",
    "        num+=s[m]\n",
    "    elif s[m] in \"aeiouAEIOU\":\n",
    "        vow+=s[m]\n",
    "    else:\n",
    "        con+=s[m]\n",
    "    m+=1\n",
    "print(con)\n",
    "print(vow)\n",
    "print(num)"
   ]
  },
  {
   "cell_type": "code",
   "execution_count": 57,
   "metadata": {},
   "outputs": [
    {
     "name": "stdout",
     "output_type": "stream",
     "text": [
      "hllwrld\n",
      "eoo\n",
      "12344\n",
      "(*$ $#*)\n"
     ]
    }
   ],
   "source": [
    "#127 i/p: \"(*12hello3$ $4#world4*)\"\n",
    "#o/p: \"hll wrld \"\n",
    "#o/p: \"eoo\"\n",
    "#12344\n",
    "#(*$ $#*)\n",
    "s=\"(*12hello3$ $4#world4*)\"\n",
    "vow=\"\"\n",
    "con=\"\"\n",
    "num=\"\"\n",
    "spc=\"\"\n",
    "m=0\n",
    "while m<len(s):\n",
    "    if \"0\"<=s[m]<=\"9\":\n",
    "        num+=s[m]\n",
    "    elif s[m] in \"aeiouAEIOU\":\n",
    "        vow+=s[m]\n",
    "    elif \"a\"<=s[m]<=\"z\" or \"A\"<=s[m]<=\"Z\":\n",
    "        con+=s[m]\n",
    "    else:\n",
    "        spc+=s[m]\n",
    "    m+=1\n",
    "print(con)\n",
    "print(vow)\n",
    "print(num)\n",
    "print(spc)"
   ]
  },
  {
   "cell_type": "code",
   "execution_count": 69,
   "metadata": {},
   "outputs": [
    {
     "name": "stdout",
     "output_type": "stream",
     "text": [
      ")*#$$*(,44321,ooe,dlrwllh\n"
     ]
    }
   ],
   "source": [
    "#128 i/p: \"(*12hello3$ $4#world4*)\"\n",
    "#o/p: )*#$$*(,44321,ooe,dlrwllh\n",
    "\n",
    "s=\"(*12hello3$$4#world4*)\"\n",
    "vow=\"\"\n",
    "con=\"\"\n",
    "num=\"\"\n",
    "spc=\"\"\n",
    "tup=()\n",
    "m=0\n",
    "while m<len(s):\n",
    "    if \"0\"<=s[m]<=\"9\":\n",
    "        num+=s[m]\n",
    "    elif s[m] in \"aeiouAEIOU\":\n",
    "        vow+=s[m]\n",
    "    elif \"a\"<=s[m]<=\"z\" or \"A\"<=s[m]<=\"Z\":\n",
    "        con+=s[m]\n",
    "    else:\n",
    "        spc+=s[m]\n",
    "    m+=1\n",
    "res=spc[::-1]+\",\"+num[::-1]+\",\"+vow[::-1]+\",\"+con[::-1]\n",
    "print(res)"
   ]
  },
  {
   "cell_type": "code",
   "execution_count": 70,
   "metadata": {},
   "outputs": [
    {
     "name": "stdout",
     "output_type": "stream",
     "text": [
      "hllwrld,eoo,12344,(*$$#*)\n"
     ]
    }
   ],
   "source": [
    "#129 i/p: \"(*12hello3$ $4#world4*)\"\n",
    "#o/p: \"hllwrld,eoo,12344,(*$$#*)\"\n",
    "\n",
    "s=\"(*12hello3$$4#world4*)\"\n",
    "vow=\"\"\n",
    "con=\"\"\n",
    "num=\"\"\n",
    "spc=\"\"\n",
    "tup=()\n",
    "m=0\n",
    "while m<len(s):\n",
    "    if \"0\"<=s[m]<=\"9\":\n",
    "        num+=s[m]\n",
    "    elif s[m] in \"aeiouAEIOU\":\n",
    "        vow+=s[m]\n",
    "    elif \"a\"<=s[m]<=\"z\" or \"A\"<=s[m]<=\"Z\":\n",
    "        con+=s[m]\n",
    "    else:\n",
    "        spc+=s[m]\n",
    "    m+=1\n",
    "res=f'{con},{vow},{num},{spc}'\n",
    "print(res)\n"
   ]
  },
  {
   "cell_type": "code",
   "execution_count": 71,
   "metadata": {},
   "outputs": [
    {
     "name": "stdout",
     "output_type": "stream",
     "text": [
      ",hllwrld,)*#$$*(,eoo,44321\n"
     ]
    }
   ],
   "source": [
    "#130 i/p: \"(*12hello3$ $4#world4*)\"\n",
    "# o/p:,hllwrld,)*#$$*(,eoo,44321\n",
    "s=\"(*12hello3$$4#world4*)\"\n",
    "vow=\"\"\n",
    "con=\"\"\n",
    "num=\"\"\n",
    "spc=\"\"\n",
    "tup=()\n",
    "m=0\n",
    "while m<len(s):\n",
    "    if \"0\"<=s[m]<=\"9\":\n",
    "        num+=s[m]\n",
    "    elif s[m] in \"aeiouAEIOU\":\n",
    "        vow+=s[m]\n",
    "    elif \"a\"<=s[m]<=\"z\" or \"A\"<=s[m]<=\"Z\":\n",
    "        con+=s[m]\n",
    "    else:\n",
    "        spc+=s[m]\n",
    "    m+=1\n",
    "res=f',{con},{spc[::-1]},{vow},{num[::-1]}'\n",
    "print(res)\n",
    "\n"
   ]
  },
  {
   "cell_type": "code",
   "execution_count": 75,
   "metadata": {},
   "outputs": [
    {
     "name": "stdout",
     "output_type": "stream",
     "text": [
      "')*#$$*(,44321,ooe,dlrwllh'\n"
     ]
    }
   ],
   "source": [
    "#131 i/p: \"(*12hello3$ $4#world4*)\"\n",
    "# o/p:')*#$$*(,44321,ooe,dlrwllh'\n",
    "s=\"(*12hello3$$4#world4*)\"\n",
    "vow=\"\"\n",
    "con=\"\"\n",
    "num=\"\"\n",
    "spc=\"\"\n",
    "tup=()\n",
    "m=0\n",
    "while m<len(s):\n",
    "    if \"0\"<=s[m]<=\"9\":\n",
    "        num+=s[m]\n",
    "    elif s[m] in \"aeiouAEIOU\":\n",
    "        vow+=s[m]\n",
    "    elif \"a\"<=s[m]<=\"z\" or \"A\"<=s[m]<=\"Z\":\n",
    "        con+=s[m]\n",
    "    else:\n",
    "        spc+=s[m]\n",
    "    m+=1\n",
    "res=f\"'{spc[::-1]},{num[::-1]},{vow[::-1]},{con[::-1]}'\"\n",
    "print(res)"
   ]
  },
  {
   "cell_type": "code",
   "execution_count": 76,
   "metadata": {},
   "outputs": [
    {
     "name": "stdout",
     "output_type": "stream",
     "text": [
      "'dlrwllh)*#$$*(ooedlrwllh'\n"
     ]
    }
   ],
   "source": [
    "#132 i/p: \"(*12hello3$ $4#world4*)\"\n",
    "# o/p:'dlrwllh)*#$$*(ooedlrwllh'\n",
    "s=\"(*12hello3$$4#world4*)\"\n",
    "vow=\"\"\n",
    "con=\"\"\n",
    "num=\"\"\n",
    "spc=\"\"\n",
    "tup=()\n",
    "m=0\n",
    "while m<len(s):\n",
    "    if \"0\"<=s[m]<=\"9\":\n",
    "        num+=s[m]\n",
    "    elif s[m] in \"aeiouAEIOU\":\n",
    "        vow+=s[m]\n",
    "    elif \"a\"<=s[m]<=\"z\" or \"A\"<=s[m]<=\"Z\":\n",
    "        con+=s[m]\n",
    "    else:\n",
    "        spc+=s[m]\n",
    "    m+=1\n",
    "res=f\"'{con[::-1]}{spc[::-1]}{vow[::-1]}{con[::-1]}'\"\n",
    "print(res)"
   ]
  },
  {
   "cell_type": "code",
   "execution_count": 93,
   "metadata": {},
   "outputs": [
    {
     "name": "stdout",
     "output_type": "stream",
     "text": [
      "h$ll*w*rld\n"
     ]
    }
   ],
   "source": [
    "#133 i/p: \"HELLOWORLD\"\n",
    "#o/p: \"h$ll*w*rld\"\n",
    "\n",
    "s=\"HELLOWORLD\"\n",
    "res=\"\"\n",
    "m=0\n",
    "while m<len(s):\n",
    "    if \"A\"<=s[m]<=\"Z\":\n",
    "        res+=s[m].lower()\n",
    "    m+=1\n",
    "st=res\n",
    "re=\"\"\n",
    "i=0\n",
    "while i<len(st):\n",
    "    if st[i]==\"e\":\n",
    "        re+=\"$\"\n",
    "    elif st[i]==\"o\":\n",
    "        re+=\"*\"\n",
    "    else:\n",
    "        re+=st[i]\n",
    "    i+=1\n",
    "print(re)"
   ]
  },
  {
   "cell_type": "code",
   "execution_count": 9,
   "metadata": {},
   "outputs": [
    {
     "name": "stdout",
     "output_type": "stream",
     "text": [
      "ell\n",
      "olle\n"
     ]
    }
   ],
   "source": [
    "s=\"hello\"\n",
    "print(s[1:-1])\n",
    "print(s[-1:-5:-1])"
   ]
  }
 ],
 "metadata": {
  "kernelspec": {
   "display_name": "Python 3",
   "language": "python",
   "name": "python3"
  },
  "language_info": {
   "codemirror_mode": {
    "name": "ipython",
    "version": 3
   },
   "file_extension": ".py",
   "mimetype": "text/x-python",
   "name": "python",
   "nbconvert_exporter": "python",
   "pygments_lexer": "ipython3",
   "version": "3.11.4"
  },
  "orig_nbformat": 4
 },
 "nbformat": 4,
 "nbformat_minor": 2
}
