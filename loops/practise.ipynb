{
 "cells": [
  {
   "cell_type": "code",
   "execution_count": 13,
   "metadata": {},
   "outputs": [
    {
     "data": {
      "text/plain": [
       "'Gzrsd lzjdr vzrsd'"
      ]
     },
     "execution_count": 13,
     "metadata": {},
     "output_type": "execute_result"
    }
   ],
   "source": [
    "s='Haste makes waste'\n",
    "def before(s,res=''):\n",
    "    for i in s:\n",
    "        if i=='A' or i==\"a\":\n",
    "            res+=chr(ord(i)+25)\n",
    "        elif not('a'<=i<'z' or 'A'<=i<='Z'):\n",
    "            res+=i\n",
    "        else:\n",
    "            res+=chr(ord(i)-1)\n",
    "    return res\n",
    "before(s)"
   ]
  },
  {
   "cell_type": "code",
   "execution_count": 7,
   "metadata": {},
   "outputs": [
    {
     "name": "stdout",
     "output_type": "stream",
     "text": [
      "z\n"
     ]
    }
   ],
   "source": [
    "s='a'\n",
    "if s==\"A\" or s=='a':\n",
    "    print(chr(ord(s)+25))\n",
    "else:\n",
    "    print(chr(ord(s)-1))"
   ]
  },
  {
   "cell_type": "code",
   "execution_count": null,
   "metadata": {},
   "outputs": [],
   "source": [
    "def digitsum(n):\n",
    "    while n>9:\n",
    "        "
   ]
  }
 ],
 "metadata": {
  "kernelspec": {
   "display_name": "Python 3",
   "language": "python",
   "name": "python3"
  },
  "language_info": {
   "codemirror_mode": {
    "name": "ipython",
    "version": 3
   },
   "file_extension": ".py",
   "mimetype": "text/x-python",
   "name": "python",
   "nbconvert_exporter": "python",
   "pygments_lexer": "ipython3",
   "version": "3.11.4"
  }
 },
 "nbformat": 4,
 "nbformat_minor": 2
}
