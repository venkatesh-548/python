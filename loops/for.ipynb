{
 "cells": [
  {
   "cell_type": "code",
   "execution_count": 13,
   "metadata": {},
   "outputs": [
    {
     "name": "stdout",
     "output_type": "stream",
     "text": [
      "valid VenkBFjhv897#@\n"
     ]
    }
   ],
   "source": [
    "# 53 WAP to checjk the given password is valid or not\n",
    "#if password is valid to display valid with given string\n",
    "#minimum 2 special char and 1 numaric char and minimum 1 lowercase char ,2 uppercase char minimum 8 char max 16 char\n",
    "\n",
    "pas=\"VenkBFjhv897#@\"\n",
    "if 8<=len(pas)<=16:\n",
    "    up,lc,nc,sp=\"\",\"\",\"\",\"\"\n",
    "    for i in pas:\n",
    "        if \"a\"<=i<=\"z\":\n",
    "            lc+=i\n",
    "        elif \"A\"<=i<=\"Z\":\n",
    "            up+=i\n",
    "        elif \"0\"<=i<=\"9\":\n",
    "            nc+=i\n",
    "        else:\n",
    "            sp+=i\n",
    "    if len(sp)>=2 and len(nc)>=1 and len(lc)>=1 and len(up)>=2:\n",
    "        print(\"valid\",pas)\n",
    "    else:\n",
    "        print(\"in-valid\")\n",
    "else:\n",
    "    print(\"in-valid\")"
   ]
  },
  {
   "cell_type": "code",
   "execution_count": 18,
   "metadata": {},
   "outputs": [
    {
     "name": "stdout",
     "output_type": "stream",
     "text": [
      "invalid\n"
     ]
    }
   ],
   "source": [
    "# 54 wap to check given emailid is valid or not if valid print email otherwise print invalid \n",
    "# except .and @ should not use special char\n",
    "# exactly one @,and miniumum 1 .\n",
    "# after @ . should be there\n",
    "\n",
    "st=\"venky123@gmail.com.in\"\n",
    "count=0\n",
    "for i in st:\n",
    "    if not(\"a\"<=i<=\"z\" or \"A\"<=i<=\"Z\" or \"0\"<=i<=\"9\" or i==\"@\" or i==\".\"):\n",
    "        count+=1\n",
    "if count==0:\n",
    "    cou=0\n",
    "    pos=None\n",
    "    for j in range(0,len(st)):\n",
    "        if st[j]==\"@\":\n",
    "            cou+=1\n",
    "            pos=j\n",
    "    # print(cou)\n",
    "    # print(pos)\n",
    "    if cou==1:\n",
    "        if \".\" in st[pos:]:\n",
    "            cout=0\n",
    "            for i in range(pos,len(st)):\n",
    "                if st[i]==\".\":\n",
    "                    cout+=1\n",
    "            if 1<=cout<=2:\n",
    "                print(\"valid\")\n",
    "            else:\n",
    "                print(\"invalid\")\n",
    "        else:\n",
    "            print(\"in-valid\")\n",
    "    else:\n",
    "        print(\"in-valid\")\n",
    "else:\n",
    "    print(\"in-valid\")"
   ]
  },
  {
   "cell_type": "code",
   "execution_count": 20,
   "metadata": {},
   "outputs": [
    {
     "name": "stdout",
     "output_type": "stream",
     "text": [
      "pYTHON\u0000pROGrAMMEING\n"
     ]
    }
   ],
   "source": [
    "# Wap to print swap case\n",
    "\n",
    "s=\"Python ProgRammeing\"\n",
    "res=\"\"\n",
    "for i in s:\n",
    "    if \"A\"<=i<=\"Z\":\n",
    "        res+=i.lower()\n",
    "    else:\n",
    "        res+=chr(ord(i)-32)\n",
    "print(res)\n"
   ]
  },
  {
   "cell_type": "code",
   "execution_count": 24,
   "metadata": {},
   "outputs": [
    {
     "name": "stdout",
     "output_type": "stream",
     "text": [
      "python_programme_language_in_the_\n"
     ]
    }
   ],
   "source": [
    "#wap to convert given string into snake case\n",
    "\n",
    "s=\"Python Programme Language In The_\"\n",
    "res=\"\"\n",
    "for i in s:\n",
    "    if i==\" \":\n",
    "        res+=\"_\"\n",
    "    elif \"A\"<=i<=\"Z\":\n",
    "        res+=i.lower()\n",
    "    else:\n",
    "        res+=i\n",
    "print(res)\n"
   ]
  },
  {
   "cell_type": "code",
   "execution_count": 26,
   "metadata": {},
   "outputs": [
    {
     "name": "stdout",
     "output_type": "stream",
     "text": [
      "['p', 'y', 't', 'h', 'o', 'n', 'i', 's', 's', 'i', 'm', 'p', 'l', 'e', 'a', 'n', 'd', 'e', 'a', 's', 'y', 't', 'o', 'u', 's', 'e']\n"
     ]
    }
   ],
   "source": [
    "s=\"python is simple and easy to use\"\n",
    "l=[]\n",
    "for i in s:\n",
    "    if not(i==\" \"):\n",
    "        l+=[i]\n",
    "print(l)"
   ]
  },
  {
   "cell_type": "code",
   "execution_count": 28,
   "metadata": {},
   "outputs": [
    {
     "name": "stdout",
     "output_type": "stream",
     "text": [
      "{'p': 112, 'y': 121, 't': 116, 'h': 104, 'o': 111, 'n': 110, 'i': 105, 's': 115, 'm': 109, 'l': 108, 'e': 101, 'a': 97, 'd': 100, 'u': 117}\n"
     ]
    }
   ],
   "source": [
    "s=\"python is simple and easy to use\"\n",
    "d={}\n",
    "for i in s:\n",
    "    if not(i==\" \"):\n",
    "        d[i]=ord(i)\n",
    "print(d)"
   ]
  },
  {
   "cell_type": "code",
   "execution_count": 29,
   "metadata": {},
   "outputs": [
    {
     "name": "stdout",
     "output_type": "stream",
     "text": [
      "python isdamclegu\n"
     ]
    }
   ],
   "source": [
    "#wap to extract the unique char\n",
    "s=\"python is dynamically typed language\"\n",
    "d=\"\"\n",
    "for i in s:\n",
    "    if i not in d:\n",
    "        d+=i\n",
    "print(d)"
   ]
  },
  {
   "cell_type": "code",
   "execution_count": 2,
   "metadata": {},
   "outputs": [
    {
     "name": "stdout",
     "output_type": "stream",
     "text": [
      "Hello Pyt$On How Are !@Y0U\n"
     ]
    }
   ],
   "source": [
    "# Wap to write the given string in the title case\n",
    "\n",
    "s=\"hello pyt$on how are !@y0u\"\n",
    "res=\"\"\n",
    "if \"a\"<=s[0]<=\"z\":\n",
    "    res+=s[0].upper()\n",
    "else:\n",
    "    res+=s[0]\n",
    "for i in range(1,len(s)):\n",
    "    if (\"a\"<=s[i]<=\"z\" or \"A\"<=s[i]<=\"Z\") and not(\"a\"<=s[i-1]<=\"z\" or \"A\"<=s[i-1]<=\"Z\"):\n",
    "        res+=s[i].upper()\n",
    "    else:\n",
    "        res+=s[i]\n",
    "print(res)"
   ]
  },
  {
   "cell_type": "code",
   "execution_count": 23,
   "metadata": {},
   "outputs": [
    {
     "name": "stdout",
     "output_type": "stream",
     "text": [
      "['hai', 'hello', 'world', 'i', 'love', 'india', 'i', 'like']\n",
      "hhwiliil\n",
      "[['hai', 'hello'], ['hai', 'hello'], ['world'], ['i', 'india', 'i'], ['love', 'like'], ['i', 'india', 'i'], ['i', 'india', 'i'], ['love', 'like']]\n"
     ]
    }
   ],
   "source": [
    "#st=\"hai hello world i love indai i love python\"\n",
    "# o/p: [[\"hai\",hello],[\"world\"],[\"i\",\"i\",\"india\"],[\"love\",\"like\"],[\"python\"]]\n",
    "\n",
    "st=\"hai hello world i love india i like python\"\n",
    "res=\"\"\n",
    "l=[]\n",
    "for i in st:\n",
    "    if i!=\" \":\n",
    "        res+=i\n",
    "    else:\n",
    "        if len(res)>=1:\n",
    "            l+=[res]\n",
    "            res=\"\"\n",
    "print(l)\n",
    "uni=\"\"\n",
    "for j in l:\n",
    "    uni+=j[0]\n",
    "print(uni)\n",
    "d=[]\n",
    "for k in uni:\n",
    "    d+=[[]]\n",
    "    for x in range(0,len(l)):\n",
    "        # print(x[0])\n",
    "        if k[0]==l[x][0]:\n",
    "            d[-1]+=[l[x]]\n",
    "print(d)\n"
   ]
  },
  {
   "cell_type": "code",
   "execution_count": 13,
   "metadata": {},
   "outputs": [
    {
     "name": "stdout",
     "output_type": "stream",
     "text": [
      "['hai', 'hello', 'i', 'love', 'python', 'i', 'like', 'python']\n",
      "hilp\n",
      "[['hai', 'hello'], ['i', 'i'], ['love', 'like'], ['python', 'python']]\n"
     ]
    }
   ],
   "source": [
    "s=\"hai hello i love python i like python\"\n",
    "def nested(s,uni=\"\"):\n",
    "    l=s.split()\n",
    "    print(l)\n",
    "    for i in l:\n",
    "        if i[0] not in uni:\n",
    "            uni+=i[0]\n",
    "    print(uni)\n",
    "    d=[]\n",
    "    for j in uni:\n",
    "        d+=[[]]\n",
    "        for k in range(0,len(l)):\n",
    "            if j[0]==l[k][0]:\n",
    "                d[-1]+=[l[k]]\n",
    "    print(d)\n",
    "nested(s)\n",
    "\n"
   ]
  },
  {
   "cell_type": "code",
   "execution_count": 32,
   "metadata": {},
   "outputs": [
    {
     "name": "stdout",
     "output_type": "stream",
     "text": [
      "['hai', 'hello', 'i', 'love', 'python', 'i', 'like', 'python']\n",
      "{3: ['hai'], 5: ['hello'], 1: ['i', 'i'], 4: ['love', 'like'], 6: ['python', 'python']}\n"
     ]
    }
   ],
   "source": [
    "s=\"hai hello i love python i like python\"\n",
    "def nested(s,uni=\"\"):\n",
    "    l=s.split()\n",
    "    print(l)\n",
    "    d={}\n",
    "    for k in l:\n",
    "        if len(k) not in d:\n",
    "            d[len(k)]=[k]\n",
    "        else:\n",
    "            d[len(k)]+=[k]\n",
    "    print(d)  \n",
    "nested(s)"
   ]
  },
  {
   "cell_type": "code",
   "execution_count": 31,
   "metadata": {},
   "outputs": [
    {
     "name": "stdout",
     "output_type": "stream",
     "text": [
      "['hai', 'hello', 'i', 'love', 'python', 'i', 'like', 'python']\n",
      "{'h': ['hai', 'hello'], 'i': ['i', 'i'], 'l': ['love', 'like'], 'p': ['python', 'python']}\n"
     ]
    }
   ],
   "source": [
    "s=\"hai hello i love python i like python\"\n",
    "def nested(s,uni=\"\"):\n",
    "    l=s.split()\n",
    "    print(l)\n",
    "    d={}\n",
    "    for k in l:\n",
    "        if k[0] not in d:\n",
    "            d[k[0]]=[k]\n",
    "        else:\n",
    "            d[k[0]]+=[k]\n",
    "    print(d)  \n",
    "nested(s)"
   ]
  },
  {
   "cell_type": "code",
   "execution_count": 22,
   "metadata": {},
   "outputs": [
    {
     "data": {
      "text/plain": [
       "'1100'"
      ]
     },
     "execution_count": 22,
     "metadata": {},
     "output_type": "execute_result"
    }
   ],
   "source": [
    "n=12\n",
    "def binary(x,res=''):\n",
    "    # print(x)\n",
    "    if x==0:\n",
    "        return res\n",
    "    l_d=x%2\n",
    "    res=str(l_d)+res\n",
    "    return binary(x//2,res)\n",
    "binary(n)\n",
    "    "
   ]
  },
  {
   "cell_type": "code",
   "execution_count": 44,
   "metadata": {},
   "outputs": [
    {
     "name": "stdout",
     "output_type": "stream",
     "text": [
      "12\n"
     ]
    }
   ],
   "source": [
    "l=[10,30,40,50,60,10,10,50,10,10,18,20,10,10]\n",
    "def sample(coll,ele,occur=1,start=0,end=0):\n",
    "    if start<0:\n",
    "        start=len(coll)+start\n",
    "    if end<0:\n",
    "        end=len(coll)+end\n",
    "    if end==0:\n",
    "        end=len(coll)\n",
    "    count=0\n",
    "    for i in range(start,end):\n",
    "        if coll[i]==ele:\n",
    "            count+=1\n",
    "            if count==occur:\n",
    "                return i\n",
    "    return -1\n",
    "print(sample(l,10,3,-7,-1))"
   ]
  },
  {
   "cell_type": "code",
   "execution_count": 50,
   "metadata": {},
   "outputs": [
    {
     "name": "stdout",
     "output_type": "stream",
     "text": [
      "304050601010501010182010"
     ]
    }
   ],
   "source": [
    "l=[10,30,40,50,60,10,10,50,10,10,18,20,10,10]\n",
    "for i in range(1,-1+len(l)):\n",
    "    print(l[i],end=\"\")"
   ]
  },
  {
   "cell_type": "code",
   "execution_count": null,
   "metadata": {},
   "outputs": [],
   "source": []
  },
  {
   "cell_type": "code",
   "execution_count": null,
   "metadata": {},
   "outputs": [],
   "source": []
  },
  {
   "cell_type": "code",
   "execution_count": 10,
   "metadata": {},
   "outputs": [
    {
     "name": "stdout",
     "output_type": "stream",
     "text": [
      "HWPYTHON "
     ]
    }
   ],
   "source": [
    "#1 wap to extract uppercase char from the given string\n",
    "\n",
    "s=\"Hello World PYTHON\"\n",
    "res=\"\"\n",
    "for i in s:\n",
    "    if \"A\"<=i<=\"Z\":\n",
    "        res+=i\n",
    "print(res,end=\" \")\n"
   ]
  },
  {
   "cell_type": "code",
   "execution_count": 12,
   "metadata": {},
   "outputs": [
    {
     "name": "stdout",
     "output_type": "stream",
     "text": [
      "enky@ gmail.co,in@\n"
     ]
    }
   ],
   "source": [
    "#2 wap to extract and store the special char and lowercase  from the given string\n",
    "\n",
    "s=\"Venky@ gmail.co,in@123\"\n",
    "res=\"\"\n",
    "for i in s:\n",
    "    if not(\"A\"<=i<=\"Z\" or \"0\"<=i<=\"9\"):\n",
    "        res+=i\n",
    "print(res)\n"
   ]
  },
  {
   "cell_type": "code",
   "execution_count": 13,
   "metadata": {},
   "outputs": [
    {
     "name": "stdout",
     "output_type": "stream",
     "text": [
      "VENKY\n",
      "gmailcomcoin\n",
      "123\n",
      "@...@\n"
     ]
    }
   ],
   "source": [
    "#3 wap to segregate the char from the given string\n",
    "\n",
    "s=\"VENKY@gmail.com.co.in@123\"\n",
    "up,lc,nc,sp=\"\",\"\",\"\",\"\"\n",
    "for i in s:\n",
    "    if \"A\"<=i<=\"Z\":\n",
    "        up+=i\n",
    "    elif \"a\"<=i<=\"z\":\n",
    "        lc+=i\n",
    "    elif \"0\"<=i<=\"9\":\n",
    "        nc+=i\n",
    "    else:\n",
    "        sp+=i\n",
    "print(up)\n",
    "print(lc)\n",
    "print(nc)\n",
    "print(sp)"
   ]
  },
  {
   "cell_type": "code",
   "execution_count": 29,
   "metadata": {},
   "outputs": [
    {
     "name": "stdout",
     "output_type": "stream",
     "text": [
      "<class 'str'>\n",
      "not valid\n"
     ]
    }
   ],
   "source": [
    "#4 wap to validate the password\n",
    "pas=\"Venky@123#TADDI\"\n",
    "print(type(pas))\n",
    "if  type(pas)==str and 8<=len(pas)<=20 and \"A\"<=pas[0]<=\"Z\" and \"A\"<=pas[-1]<=\"Z\":\n",
    "    up,lc,nc,sp,pos=\"\",\"\",\"\",\"\",\"\"\n",
    "    for i in pas:\n",
    "        if \"A\"<=i<=\"Z\":\n",
    "            up+=i\n",
    "        elif \"a\"<=i<=\"z\":\n",
    "            lc+=i\n",
    "        elif \"0\"<=i<=\"9\":\n",
    "            nc+=i\n",
    "        elif i not in \". ()[]{}\":\n",
    "            sp+=i\n",
    "        else:\n",
    "            pos+=i\n",
    "    print(up,lc,sp,nc,pos)\n",
    "    if 1<=len(lc)<=5 and len(sp)>=2 and len(pos)==0 and len(nc)>=1:\n",
    "        print(\"valid password\")\n",
    "    else:\n",
    "        print(\"not valid\")\n",
    "else:\n",
    "    print(\"not valid\")"
   ]
  },
  {
   "cell_type": "code",
   "execution_count": 38,
   "metadata": {},
   "outputs": [
    {
     "name": "stdout",
     "output_type": "stream",
     "text": [
      "<class 'str'>\n",
      "VTAI enkygh #  \n",
      "password should have min 1 and max 5 lowercase only\n",
      "password should contain minimum 2 special char only\n",
      "minimum 1 numaric char should contain\n"
     ]
    }
   ],
   "source": [
    "pas=\"Venkygh#TAI\"\n",
    "print(type(pas))\n",
    "if  not(type(pas)==str):\n",
    "    print(\"password should be in string format only\")\n",
    "elif not(8<=len(pas)<=20):\n",
    "    print(\"password should have minimum 8 char and maximum 20 char\")\n",
    "elif not(\"A\"<=pas[0]<=\"Z\" and \"A\"<=pas[-1]<=\"Z\"):\n",
    "    print(\" the starting and last char should be in uppercase\")\n",
    "else:\n",
    "    up,lc,nc,sp,pos=\"\",\"\",\"\",\"\",\"\"\n",
    "    for i in pas:\n",
    "        if \"A\"<=i<=\"Z\":\n",
    "            up+=i\n",
    "        elif \"a\"<=i<=\"z\":\n",
    "            lc+=i\n",
    "        elif \"0\"<=i<=\"9\":\n",
    "            nc+=i\n",
    "        elif i not in \". ()[]{}\":\n",
    "            sp+=i\n",
    "        else:\n",
    "            pos+=i\n",
    "    print(up,lc,sp,nc,pos)\n",
    "    if not(1<=len(lc)<=5):\n",
    "        print(\"password should have min 1 and max 5 lowercase only\")\n",
    "    if not(len(sp)>=2):\n",
    "        print(\"password should contain minimum 2 special char only\")\n",
    "    if not(len(pos)==0):\n",
    "        print(\"password should not contain . ()[]{}\")\n",
    "    if not(len(nc)>=1):\n",
    "        print(\"minimum 1 numaric char should contain\")"
   ]
  },
  {
   "cell_type": "code",
   "execution_count": 31,
   "metadata": {},
   "outputs": [
    {
     "name": "stdout",
     "output_type": "stream",
     "text": [
      "                                                        *       \n",
      "                                                    *       *       \n",
      "                                                *       *       *       \n",
      "                                            *       *       *       *       \n",
      "                                        *       *       *       *       *       \n"
     ]
    }
   ],
   "source": [
    "n=5\n",
    "i=1\n",
    "while i<=n: \n",
    "    print(\"    \"*(n-i),end=\"                                        \")\n",
    "    j=1\n",
    "    while j<=i:\n",
    "        print(\"*\",end=\"       \")\n",
    "        j+=1\n",
    "    print()\n",
    "    i+=1\n"
   ]
  },
  {
   "cell_type": "code",
   "execution_count": 42,
   "metadata": {},
   "outputs": [
    {
     "name": "stdout",
     "output_type": "stream",
     "text": [
      "        * \n",
      "      * * \n",
      "    * * * \n",
      "  * * * * \n",
      "* * * * * \n"
     ]
    }
   ],
   "source": [
    "n=5\n",
    "i=1\n",
    "while i<=n:\n",
    "    print(\"  \"*(n-i),end=\"\")\n",
    "    j=1\n",
    "    while j<=i:\n",
    "        print(\"*\",end=\" \")\n",
    "        j+=1\n",
    "    print()\n",
    "    i+=1"
   ]
  },
  {
   "cell_type": "code",
   "execution_count": 53,
   "metadata": {},
   "outputs": [
    {
     "name": "stdout",
     "output_type": "stream",
     "text": [
      " 1   1   1   1   1   \n",
      "   2   2   2   2   \n",
      "     3   3   3   \n",
      "       4   4   \n",
      "         5   \n"
     ]
    }
   ],
   "source": [
    "n=5\n",
    "i=1\n",
    "while i<=n:\n",
    "    print(\"  \"*(i-1),end=\" \")\n",
    "    j=1\n",
    "    while j<=n-i+1:\n",
    "        print(i,end=\"   \")\n",
    "        j+=1\n",
    "    print()\n",
    "    i+=1\n"
   ]
  },
  {
   "cell_type": "code",
   "execution_count": 71,
   "metadata": {},
   "outputs": [
    {
     "name": "stdout",
     "output_type": "stream",
     "text": [
      "helo\n",
      "[['h', 1], ['e', 1], ['l', 2], ['o', 1]]\n",
      "{'h': 1, 'e': 1, 'l': 2, 'o': 1}\n"
     ]
    }
   ],
   "source": [
    "# wap to extract the char from the given given collection\n",
    "\n",
    "s=\"hello\"\n",
    "uni=\"\"\n",
    "for i in s:\n",
    "    if i not in uni:\n",
    "        uni+=i\n",
    "print(uni)\n",
    "l=[]\n",
    "for j in uni:\n",
    "    count=0\n",
    "    for k in s:\n",
    "        if k==j:\n",
    "            count+=1\n",
    "    l+=[[j,count]]\n",
    "print(l)\n",
    "u=dict(l)\n",
    "print(u)"
   ]
  },
  {
   "cell_type": "code",
   "execution_count": 82,
   "metadata": {},
   "outputs": [
    {
     "name": "stdout",
     "output_type": "stream",
     "text": [
      "{'h': 1, 'e': 1, 'l': 3, 'o': 2, ' ': 2, 'w': 1, 'r': 1, 'd': 1}\n",
      "['h', 'e', 'l', 'o', ' ', 'w', 'r', 'd']\n",
      "l 3\n",
      "h 1\n"
     ]
    }
   ],
   "source": [
    "# wap to extract the char from the given given collection\n",
    "\n",
    "s=\"hello world \"\n",
    "d={}\n",
    "for i in s:\n",
    "    if i not in d:\n",
    "        d[i]=1\n",
    "    else:\n",
    "        d[i]+=1\n",
    "print(d)\n",
    "l=list(d)\n",
    "print(l)\n",
    "u=[]\n",
    "max=0\n",
    "max_ch=\"\"\n",
    "min_ch=\"\"\n",
    "min=len(s)\n",
    "for j in l:\n",
    "    if d[j]>max:\n",
    "        max=d[j]\n",
    "        max_ch=j\n",
    "    if d[j]<min:\n",
    "        min=d[j]\n",
    "        min_ch=j\n",
    "print(max_ch,max)\n",
    "print(min_ch,min)\n",
    "# print(u)\n",
    "\n",
    "\n"
   ]
  },
  {
   "cell_type": "code",
   "execution_count": 3,
   "metadata": {},
   "outputs": [
    {
     "name": "stdout",
     "output_type": "stream",
     "text": [
      "{'h': 1, 'e': 1, 'l': 3, 'o': 2, ' ': 2, 'w': 1, 'r': 1, 'd': 1}\n",
      "{1: ['h', 'e', 'w', 'r', 'd'], 3: ['l'], 2: ['o', ' ']}\n"
     ]
    }
   ],
   "source": [
    "s=\"hello world \"\n",
    "d={}\n",
    "for i in s:\n",
    "    if i not in d:\n",
    "        d[i]=1\n",
    "    else:\n",
    "        d[i]+=1\n",
    "print(d)\n",
    "res={}\n",
    "for j in d:\n",
    "    if d[j] not in res:\n",
    "        res[d[j]]=[j]\n",
    "    else:\n",
    "        res[d[j]]+=[j]\n",
    "print(res)"
   ]
  },
  {
   "cell_type": "code",
   "execution_count": 93,
   "metadata": {},
   "outputs": [
    {
     "name": "stdout",
     "output_type": "stream",
     "text": [
      "{1: ['h', 'e', 'w', 'r', 'd'], 3: ['l'], 2: ['o', ' ']}\n",
      "1\n",
      "5 ['h', 'e', 'w', 'r', 'd']\n"
     ]
    }
   ],
   "source": [
    "s=\"hello world \"\n",
    "d={}\n",
    "for i in s:\n",
    "    if i not in d:\n",
    "        d[i]=1\n",
    "    else:\n",
    "        d[i]+=1\n",
    "# print(d)\n",
    "res={}\n",
    "for j in d:\n",
    "    if d[j] not in res:\n",
    "        res[d[j]]=[j]\n",
    "    else:\n",
    "        res[d[j]]+=[j]\n",
    "print(res)\n",
    "min=len(res)\n",
    "for k in res:\n",
    "    if min>k:\n",
    "        min=k\n",
    "print(min)\n",
    "l=len(res[min])\n",
    "print(l,res[min])\n",
    "    "
   ]
  },
  {
   "cell_type": "code",
   "execution_count": 57,
   "metadata": {},
   "outputs": [
    {
     "name": "stdout",
     "output_type": "stream",
     "text": [
      "[1, 2, 3, 4, 5, 6, 32, 45]\n"
     ]
    }
   ],
   "source": [
    "#wap to eliminate the duplicates\n",
    "\n",
    "l=[1,2,3,4,5,2,3,5,6,32,45,6,6,4]\n",
    "d=[]\n",
    "for i in l:\n",
    "    if i not in d:\n",
    "        d+=[i]\n",
    "print(d)\n"
   ]
  },
  {
   "cell_type": "code",
   "execution_count": 3,
   "metadata": {},
   "outputs": [
    {
     "name": "stdout",
     "output_type": "stream",
     "text": [
      "olleh\n"
     ]
    }
   ],
   "source": [
    "s=\"hello\"\n",
    "res=\"\"\n",
    "for i in s:\n",
    "    res=i+res\n",
    "print(res)"
   ]
  },
  {
   "cell_type": "code",
   "execution_count": 4,
   "metadata": {},
   "outputs": [
    {
     "name": "stdout",
     "output_type": "stream",
     "text": [
      "palindrome\n"
     ]
    }
   ],
   "source": [
    "#wap to check the given string is palindrome or not\n",
    "s=\"malayalam\"\n",
    "res=\"\"\n",
    "for i in s:\n",
    "    res=i+res\n",
    "if res==s:\n",
    "    print(\"palindrome\")\n",
    "else:\n",
    "    print(\"not a palindrome\")"
   ]
  },
  {
   "cell_type": "code",
   "execution_count": 31,
   "metadata": {},
   "outputs": [
    {
     "name": "stdout",
     "output_type": "stream",
     "text": [
      "m\n",
      "mo\n",
      "mob\n",
      "mobi\n",
      "mobil\n",
      "mobile\n"
     ]
    }
   ],
   "source": [
    "st=\"mobile\"\n",
    "res=\"\"\n",
    "for i in st:\n",
    "    res+=i\n",
    "    print(res)\n"
   ]
  },
  {
   "cell_type": "code",
   "execution_count": 32,
   "metadata": {},
   "outputs": [
    {
     "name": "stdout",
     "output_type": "stream",
     "text": [
      "m\n",
      "mo\n",
      "mob\n",
      "mobi\n",
      "mobil\n",
      "mobile\n"
     ]
    }
   ],
   "source": [
    "st=\"mobile\"\n",
    "for i in range(1,len(st)+1):\n",
    "    print(st[0:i])"
   ]
  },
  {
   "cell_type": "code",
   "execution_count": 33,
   "metadata": {},
   "outputs": [
    {
     "name": "stdout",
     "output_type": "stream",
     "text": [
      "m\n",
      "mo\n",
      "mob\n",
      "mobi\n",
      "mobil\n",
      "mobile\n"
     ]
    }
   ],
   "source": [
    "st=\"mobile\"\n",
    "res=\"\"\n",
    "for i in range(0,len(st)):\n",
    "    res+=st[i]\n",
    "    print(res)"
   ]
  },
  {
   "cell_type": "code",
   "execution_count": 12,
   "metadata": {},
   "outputs": [
    {
     "name": "stdout",
     "output_type": "stream",
     "text": [
      "malayalam\n",
      "malayala\n",
      "malayal\n",
      "malaya\n",
      "malay\n",
      "mala\n",
      "mal\n",
      "ma\n",
      "m\n"
     ]
    }
   ],
   "source": [
    "st=\"malayalam\"\n",
    "pos=len(st)\n",
    "for i in st:\n",
    "    print(st[0:pos])\n",
    "    pos-=1"
   ]
  },
  {
   "cell_type": "code",
   "execution_count": 30,
   "metadata": {},
   "outputs": [
    {
     "data": {
      "text/plain": [
       "[10, 11, 12, 13, 14, 15, 16, 17, 18, 19]"
      ]
     },
     "execution_count": 30,
     "metadata": {},
     "output_type": "execute_result"
    }
   ],
   "source": [
    "list(range(10,20))"
   ]
  },
  {
   "cell_type": "code",
   "execution_count": 40,
   "metadata": {},
   "outputs": [
    {
     "name": "stdout",
     "output_type": "stream",
     "text": [
      "m\n",
      "mo\n",
      "mob\n",
      "mobi\n",
      "mobil\n",
      "mobile\n",
      "o\n",
      "ob\n",
      "obi\n",
      "obil\n",
      "obile\n",
      "b\n",
      "bi\n",
      "bil\n",
      "bile\n",
      "i\n",
      "il\n",
      "ile\n",
      "l\n",
      "le\n",
      "e\n"
     ]
    }
   ],
   "source": [
    "st=\"mobile\"\n",
    "for j in range(0,len(st)):\n",
    "    for i in range(j+1,len(st)+1):\n",
    "        print(st[j:i])\n",
    "    # print()"
   ]
  },
  {
   "cell_type": "code",
   "execution_count": 26,
   "metadata": {},
   "outputs": [
    {
     "name": "stdout",
     "output_type": "stream",
     "text": [
      "['abcdcba', 'bcdcb', 'cdc', '12321', '232']\n",
      "5\n"
     ]
    }
   ],
   "source": [
    "#wap to print the palindromes in the given string\n",
    "l=[]\n",
    "s=\"abcdcbaefghfe12321\"\n",
    "for i in range(0,len(s)):\n",
    "    for j in range(i,len(s)+1):\n",
    "        res=s[i:j]\n",
    "        if len(res)>1 and res==res[::-1]:\n",
    "            l+=[res]\n",
    "print(l)\n",
    "print(len(l))"
   ]
  },
  {
   "cell_type": "code",
   "execution_count": 5,
   "metadata": {},
   "outputs": [
    {
     "name": "stdout",
     "output_type": "stream",
     "text": [
      "['abcdcba', 'bcdcb', 'cdc', 'xyzzyx', 'yzzy', '5445']\n"
     ]
    }
   ],
   "source": [
    "st=\"abcdcbalifhixyzzyx15445#$5\"\n",
    "l=[]\n",
    "for start in range(0,len(st)):\n",
    "    for end in range(start+1,len(st)+1):\n",
    "        # print(st[start:end])\n",
    "        res=''\n",
    "        for i in range(start,end):\n",
    "            res+=st[i]\n",
    "        rev=''\n",
    "        for j in range(0,len(res)):\n",
    "            rev=res[j]+rev\n",
    "        if len(res)>2 and res==rev:\n",
    "            l+=[res]\n",
    "print(l)"
   ]
  },
  {
   "cell_type": "code",
   "execution_count": 2,
   "metadata": {},
   "outputs": [
    {
     "name": "stdout",
     "output_type": "stream",
     "text": [
      "['abcdcba', 'bcdcb', 'cdc', 'xyzzyx', 'yzzy', '5445']\n"
     ]
    }
   ],
   "source": [
    "#wap to print the palindromes\n",
    "l=[]\n",
    "st=\"abcdcbalifhixyzzyx15445#$5\"\n",
    "for i in range(0,len(st)):\n",
    "    for j in range(i+1,len(st)+1):\n",
    "        res=\"\"\n",
    "        rev=\"\"\n",
    "        for k in range(i,j):\n",
    "            res+=st[k]\n",
    "            rev=st[k]+rev\n",
    "        if len(res)>2 and res==rev:\n",
    "            l+=[res]\n",
    "print(l)"
   ]
  },
  {
   "cell_type": "code",
   "execution_count": 4,
   "metadata": {},
   "outputs": [
    {
     "name": "stdout",
     "output_type": "stream",
     "text": [
      "['abcdcba', 'bcdcb', 'cdc', 'xyzzyx', 'yzzy', '5445']\n"
     ]
    }
   ],
   "source": [
    "st=\"abcdcbalifhixyzzyx15445#$5\"\n",
    "l=[]\n",
    "for start in range(0,len(st)):\n",
    "    for end in range(start+1,len(st)+1):\n",
    "        # print(st[start:end])\n",
    "        res=''\n",
    "        rev=''\n",
    "        for i in range(start,end):\n",
    "            res+=st[i]\n",
    "            rev=st[i]+rev\n",
    "        if len(res)>2 and res==rev:\n",
    "            l+=[res]\n",
    "print(l)"
   ]
  },
  {
   "cell_type": "code",
   "execution_count": 5,
   "metadata": {},
   "outputs": [
    {
     "name": "stdout",
     "output_type": "stream",
     "text": [
      "[('4', '9'), ('4', '3'), ('4', '2'), ('4', '1'), ('9', '3'), ('9', '2'), ('9', '1'), ('3', '2'), ('3', '1'), ('2', '1')]\n",
      "[('4', '9', '3'), ('4', '9', '2'), ('4', '9', '1'), ('4', '3', '2'), ('4', '3', '1'), ('4', '2', '1'), ('9', '3', '2'), ('9', '3', '1'), ('9', '2', '1'), ('3', '2', '1')]\n",
      "[('4', '9', '3', '2'), ('4', '9', '3', '1'), ('4', '9', '2', '1'), ('4', '3', '2', '1'), ('9', '3', '2', '1')]\n"
     ]
    }
   ],
   "source": [
    "from itertools import combinations\n",
    "st=\"49321\"\n",
    "print(list(combinations(st,2)))\n",
    "print(list(combinations(st,3)))\n",
    "print(list(combinations(st,4)))"
   ]
  },
  {
   "cell_type": "code",
   "execution_count": 12,
   "metadata": {},
   "outputs": [
    {
     "name": "stdout",
     "output_type": "stream",
     "text": [
      "('4', '1') 5\n",
      "('3', '2') 5\n",
      "2\n"
     ]
    }
   ],
   "source": [
    "from itertools import combinations\n",
    "st=\"49321\"\n",
    "count=0\n",
    "for k in range(2,len(st)):\n",
    "    # print(k)\n",
    "    for i in list(combinations(st,k)):\n",
    "        # print(i)\n",
    "        sum=0\n",
    "        for j in i:\n",
    "            sum+=int(j)\n",
    "        if sum==5:\n",
    "            print(i,sum)\n",
    "            count+=1\n",
    "print(count)\n"
   ]
  },
  {
   "cell_type": "code",
   "execution_count": 17,
   "metadata": {},
   "outputs": [
    {
     "name": "stdout",
     "output_type": "stream",
     "text": [
      "('1', '4') 5\n",
      "('4', '1') 5\n",
      "('4', '1') 5\n",
      "('3', '2') 5\n",
      "('3', '2') 5\n",
      "('3', '2') 5\n",
      "('2', '3') 5\n",
      "('3', '2') 5\n",
      "('3', '2') 5\n",
      "('1', '3', '1') 5\n",
      "('1', '3', '1') 5\n",
      "('1', '2', '2') 5\n",
      "('1', '2', '2') 5\n",
      "('1', '3', '1') 5\n",
      "('1', '3', '1') 5\n",
      "('1', '2', '2') 5\n",
      "('3', '1', '1') 5\n",
      "('2', '1', '2') 5\n",
      "('2', '1', '2') 5\n",
      "('2', '2', '1') 5\n",
      "('2', '2', '1') 5\n",
      "('3', '1', '1') 5\n",
      "('1', '2', '2') 5\n",
      "('2', '2', '1') 5\n",
      "('1', '2', '1', '1') 5\n",
      "('1', '1', '2', '1') 5\n",
      "('1', '1', '2', '1') 5\n",
      "27\n"
     ]
    }
   ],
   "source": [
    "from itertools import permutations\n",
    "st=\"143231221\"\n",
    "count=0\n",
    "for i in range(2,len(st)):\n",
    "    # print(i)\n",
    "    for j in list(combinations(st,i)):\n",
    "        # print(j)\n",
    "        sum=0\n",
    "        for k in j:\n",
    "            sum+=int(k)\n",
    "        if sum==5:\n",
    "            print(j,sum)\n",
    "            count+=1\n",
    "print(count)\n"
   ]
  },
  {
   "cell_type": "code",
   "execution_count": 5,
   "metadata": {},
   "outputs": [
    {
     "name": "stdout",
     "output_type": "stream",
     "text": [
      "p 2\n",
      "p 5\n"
     ]
    }
   ],
   "source": [
    "s=\"laptop\"\n",
    "ch=\"p\"\n",
    "count=0\n",
    "for i in range(0,len(s)):\n",
    "    if ch==s[i]:\n",
    "        print(s[i],i)"
   ]
  },
  {
   "cell_type": "code",
   "execution_count": null,
   "metadata": {},
   "outputs": [],
   "source": []
  },
  {
   "cell_type": "code",
   "execution_count": 3,
   "metadata": {},
   "outputs": [
    {
     "name": "stdout",
     "output_type": "stream",
     "text": [
      "a 1\n",
      "a 1\n",
      "a 10\n",
      "a 10\n",
      "h 12\n",
      "a 13\n",
      "a 13\n",
      "r 14\n",
      "r 14\n",
      "d 15\n",
      "w 16\n",
      "a 17\n",
      "a 17\n",
      "r 18\n",
      "r 18\n",
      "e 19\n",
      "e 27\n"
     ]
    }
   ],
   "source": [
    "s=\"laptop is a hardware component\"\n",
    "ss=\"hardware\"\n",
    "for i in range(0,len(s)):\n",
    "    for j in range(0,len(ss)):\n",
    "        if s[i]==ss[j]:\n",
    "            print(s[i],i)\n"
   ]
  },
  {
   "cell_type": "code",
   "execution_count": 13,
   "metadata": {},
   "outputs": [
    {
     "name": "stdout",
     "output_type": "stream",
     "text": [
      "h 12\n",
      "a 1\n",
      "r 14\n",
      "d 15\n",
      "w 16\n",
      "a 1\n",
      "r 14\n",
      "e 19\n"
     ]
    }
   ],
   "source": [
    "s=\"laptop is a hardware component\"\n",
    "ss=\"hardware\"\n",
    "for i in range(0,len(ss)):\n",
    "    for j in range(0,len(s)):\n",
    "        if ss[i]==s[j]:\n",
    "            print(s[j],j)\n",
    "            break"
   ]
  },
  {
   "cell_type": "code",
   "execution_count": 15,
   "metadata": {},
   "outputs": [
    {
     "name": "stdout",
     "output_type": "stream",
     "text": [
      "c 21\n",
      "o 4\n",
      "m 23\n",
      "p 2\n",
      "o 4\n",
      "n 26\n",
      "e 19\n",
      "n 26\n",
      "t 3\n"
     ]
    }
   ],
   "source": [
    "s=\"laptop is a hardware component\"\n",
    "ss=\"component\"\n",
    "for i in range(0,len(ss)):\n",
    "    for j in range(0,len(s)):\n",
    "        if ss[i]==s[j]:\n",
    "            print(s[j],j)\n",
    "            break\n",
    "\n"
   ]
  },
  {
   "cell_type": "code",
   "execution_count": 17,
   "metadata": {},
   "outputs": [
    {
     "name": "stdout",
     "output_type": "stream",
     "text": [
      "is a 9\n"
     ]
    }
   ],
   "source": [
    "#wap to check the given subsrting is present inside the given string of not if sub string is present to display the stating index and ending index of the \n",
    "\n",
    "st=\"pythonis a is a programming\"\n",
    "s=\"is a\"\n",
    "res=\"\"\n",
    "for i in range(0,len(s)):\n",
    "    for j in range(0,len(st)):\n",
    "        if s[i]==st[j]:\n",
    "            res+=st[j]\n",
    "            break\n",
    "print(res,j)\n",
    "       \n",
    "        \n"
   ]
  },
  {
   "cell_type": "code",
   "execution_count": 19,
   "metadata": {},
   "outputs": [
    {
     "name": "stdout",
     "output_type": "stream",
     "text": [
      "6 10\n",
      "11 15\n",
      "28 32\n"
     ]
    }
   ],
   "source": [
    "#wap to check the given subsrting is present inside the given string of not if sub string is present to display the stating index and ending index of the \n",
    "\n",
    "st=\"pythonis a is a programming is a\"\n",
    "s=\"is a\"\n",
    "\n",
    "if s in st:\n",
    "    for i in range(0,len(st)):\n",
    "        if s[0]==st[i]:\n",
    "            if st[i:i+len(s)]==s:\n",
    "                print(i,i+len(s))\n",
    "else:\n",
    "    print(\"string is not available\")\n"
   ]
  },
  {
   "cell_type": "code",
   "execution_count": 20,
   "metadata": {},
   "outputs": [
    {
     "name": "stdout",
     "output_type": "stream",
     "text": [
      "[10, 20, 30, 40, 50]\n"
     ]
    }
   ],
   "source": [
    "#wap to eliminate the duplicates from the list with out change the address\n",
    "\n",
    "l=[10,20,30,40,10,20,30,10,50]\n",
    "u=l.copy()\n",
    "count=0\n",
    "t=[]\n",
    "for i in range(len(u)):\n",
    "    if u[i] not in t:\n",
    "        t+=[u[i]]\n",
    "    else:\n",
    "        del l[i-count]\n",
    "        count+=1\n",
    "print(l)\n"
   ]
  },
  {
   "cell_type": "code",
   "execution_count": 1,
   "metadata": {},
   "outputs": [
    {
     "name": "stdout",
     "output_type": "stream",
     "text": [
      "[10, 20, 30, 40, 50]\n"
     ]
    }
   ],
   "source": [
    "#wap to eliminate the duplicates\n",
    "\n",
    "l=[10,20,30,40,10,20,30,10,50]\n",
    "u=l.copy()\n",
    "t=[]\n",
    "count=0\n",
    "for i in range(len(u)):\n",
    "    if u[i] not in t:\n",
    "        t+=[u[i]]\n",
    "    else:\n",
    "        del l[i-count]\n",
    "        count+=1\n",
    "        \n",
    "print(l)"
   ]
  },
  {
   "cell_type": "code",
   "execution_count": 5,
   "metadata": {},
   "outputs": [
    {
     "name": "stdout",
     "output_type": "stream",
     "text": [
      "1791260058304\n",
      "[40, 10, 50, 20, 30]\n",
      "1791260208960\n"
     ]
    }
   ],
   "source": [
    "l=[10,20,30,40,10,20,30,10,50]\n",
    "print(id(l))\n",
    "l=list(set(l))\n",
    "print(l)\n",
    "print(id(l))\n",
    "\n"
   ]
  },
  {
   "cell_type": "code",
   "execution_count": 14,
   "metadata": {},
   "outputs": [
    {
     "name": "stdout",
     "output_type": "stream",
     "text": [
      "[1, 2, 3, 1, 4, 2, 6]\n"
     ]
    }
   ],
   "source": [
    "#wap to delete the nth occurence of the char\n",
    "#to delete the 3rd occurance of the char\n",
    "l=[1,2,3,1,4,2,6,2,1]\n",
    "uni=[]\n",
    "for i in l:\n",
    "    if i not in uni:\n",
    "        uni+=[i]\n",
    "for j in uni:\n",
    "    count=0\n",
    "    n=3\n",
    "    for k in range(0,len(l)):\n",
    "        if j==l[k]:\n",
    "            count+=1\n",
    "        if count==n:\n",
    "            del l[k]\n",
    "            break\n",
    "print(l)\n",
    "\n"
   ]
  },
  {
   "cell_type": "code",
   "execution_count": 13,
   "metadata": {},
   "outputs": [
    {
     "name": "stdout",
     "output_type": "stream",
     "text": [
      "phone pad tab\n"
     ]
    }
   ],
   "source": [
    "#wap to delete the nth occurance of the string\n",
    "\n",
    "s=\"iphone ipad itab\"\n",
    "sp=\"i\"\n",
    "n=3\n",
    "res=\"\"\n",
    "for i in range(0,len(s)):\n",
    "    if s[i]==sp:\n",
    "        count+=1\n",
    "        # print(\"hai\")\n",
    "    # else:\n",
    "    #     res+=s[i]\n",
    "    \n",
    "    else:\n",
    "        res+=s[i]\n",
    "print(res)\n"
   ]
  },
  {
   "cell_type": "code",
   "execution_count": 26,
   "metadata": {},
   "outputs": [
    {
     "name": "stdout",
     "output_type": "stream",
     "text": [
      "(66.5+2j)\n"
     ]
    }
   ],
   "source": [
    "c=(10,20,30.5,5+2j,True)\n",
    "if type(c) in [list,tuple,set]:\n",
    "    sum=0\n",
    "    for i in range(len(c)):\n",
    "        if type(c[i]) in (int,float,complex,bool):\n",
    "            sum+=c[i]\n",
    "print(sum)"
   ]
  },
  {
   "cell_type": "code",
   "execution_count": 33,
   "metadata": {},
   "outputs": [
    {
     "name": "stdout",
     "output_type": "stream",
     "text": [
      "18\n"
     ]
    }
   ],
   "source": [
    "#wap to \n",
    "\n",
    "s=\"abc156cde123\"\n",
    "sum=0\n",
    "for i in s:\n",
    "    if \"a\"<=i<=\"z\":\n",
    "        pass\n",
    "    else:\n",
    "        sum+=int(i)\n",
    "print(sum)\n"
   ]
  },
  {
   "cell_type": "code",
   "execution_count": 10,
   "metadata": {},
   "outputs": [
    {
     "name": "stdout",
     "output_type": "stream",
     "text": [
      "\n",
      "\n",
      "\n",
      "156\n",
      "\n",
      "\n",
      "123\n",
      "\n",
      "\n",
      "279\n"
     ]
    }
   ],
   "source": [
    "s=\"abc156cde123efg\"\n",
    "res=\"\"\n",
    "sum=0\n",
    "for i in s:\n",
    "    if \"0\"<=i<=\"9\":\n",
    "        res+=i\n",
    "    else:\n",
    "        print(res)\n",
    "        if len(res)>0:\n",
    "            sum+=int(res)\n",
    "            res=\"\"\n",
    "print(sum)\n",
    "\n"
   ]
  },
  {
   "cell_type": "code",
   "execution_count": 24,
   "metadata": {},
   "outputs": [
    {
     "name": "stdout",
     "output_type": "stream",
     "text": [
      "\n",
      "\n",
      "\n",
      "326\n",
      "36\n",
      "\n",
      "\n",
      "\n",
      "\n",
      "125\n",
      "10\n",
      "\n",
      "46\n"
     ]
    }
   ],
   "source": [
    "st=\"abc326dshfg125hg\"\n",
    "#o/p:=46\n",
    "res=\"\"\n",
    "sum=0\n",
    "for i in st:\n",
    "    if \"0\"<=i<=\"9\":\n",
    "        res+=i\n",
    "    else:\n",
    "        fact=1\n",
    "        print(res)\n",
    "\n",
    "        if len(res)>=1:\n",
    "            for j in res:\n",
    "                fact*=int(j)\n",
    "            print(fact)\n",
    "            sum+=fact\n",
    "            res=\"\"\n",
    "print(sum)\n",
    "\n",
    "                                                               \n",
    "\n"
   ]
  }
 ],
 "metadata": {
  "kernelspec": {
   "display_name": "Python 3",
   "language": "python",
   "name": "python3"
  },
  "language_info": {
   "codemirror_mode": {
    "name": "ipython",
    "version": 3
   },
   "file_extension": ".py",
   "mimetype": "text/x-python",
   "name": "python",
   "nbconvert_exporter": "python",
   "pygments_lexer": "ipython3",
   "version": "3.11.4"
  },
  "orig_nbformat": 4
 },
 "nbformat": 4,
 "nbformat_minor": 2
}
