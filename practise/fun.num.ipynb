{
 "cells": [
  {
   "cell_type": "code",
   "execution_count": 1,
   "metadata": {},
   "outputs": [
    {
     "name": "stdout",
     "output_type": "stream",
     "text": [
      "['abcd', 'pqrs', 'xy']\n"
     ]
    }
   ],
   "source": [
    "s=\"abcdepqrstxyz\"\n",
    "res=\"\"\n",
    "l=[]\n",
    "for i in range(0,len(s)):\n",
    "    if i!=len(s)-1 and ord(s[i])==ord(s[i+1])-1:\n",
    "        res+=s[i]\n",
    "    else:\n",
    "        res+=s[i]\n",
    "        l+=[res]\n",
    "        res=\"\"    \n",
    "print(l)\n",
    "\n"
   ]
  },
  {
   "cell_type": "code",
   "execution_count": 2,
   "metadata": {},
   "outputs": [
    {
     "name": "stdout",
     "output_type": "stream",
     "text": [
      "abcde\n",
      "pqrst\n",
      "xyz\n",
      "\n"
     ]
    }
   ],
   "source": [
    "s=\"abcdepqrstxyz\"\n",
    "res=\"\"\n",
    "l=\"\"\n",
    "for i in range(len(s)):\n",
    "    if i!=len(s)-1 and (ord(s[i])==ord(s[i+1])-1):\n",
    "        res+=s[i]\n",
    "    else:\n",
    "        res+=s[i]\n",
    "        print(res)\n",
    "        res=\"\"\n",
    "print(res)"
   ]
  },
  {
   "cell_type": "code",
   "execution_count": null,
   "metadata": {},
   "outputs": [],
   "source": []
  },
  {
   "cell_type": "code",
   "execution_count": 26,
   "metadata": {},
   "outputs": [
    {
     "data": {
      "text/plain": [
       "'armstrong'"
      ]
     },
     "execution_count": 26,
     "metadata": {},
     "output_type": "execute_result"
    }
   ],
   "source": [
    "#7 to check the given number is armstrong num or not\n",
    "\n",
    "def armstrong(num):\n",
    "    temp=num\n",
    "    l=len(str(num))\n",
    "    i=0\n",
    "    sum=0\n",
    "    while i<num:\n",
    "        ld=num%10\n",
    "        sum=sum+(ld**l)\n",
    "        num//=10\n",
    "    return [\"not armstrong\",\"armstrong\"][sum==temp]\n",
    "armstrong(153)\n"
   ]
  },
  {
   "cell_type": "code",
   "execution_count": 27,
   "metadata": {},
   "outputs": [
    {
     "name": "stdout",
     "output_type": "stream",
     "text": [
      "153 370 371 407 "
     ]
    }
   ],
   "source": [
    "def armstrser(start,end):\n",
    "    for i in range(start,end):\n",
    "        temp=i\n",
    "        l=len(str(i))\n",
    "        sum=0\n",
    "        while i>0:\n",
    "            ld=i%10\n",
    "            sum+=(ld**l)\n",
    "            i//=10\n",
    "        if sum==temp:\n",
    "            print(temp,end=\" \")\n",
    "armstrser(10,1000)"
   ]
  },
  {
   "cell_type": "code",
   "execution_count": 28,
   "metadata": {},
   "outputs": [
    {
     "data": {
      "text/plain": [
       "'palindrome'"
      ]
     },
     "execution_count": 28,
     "metadata": {},
     "output_type": "execute_result"
    }
   ],
   "source": [
    "def palin(num):\n",
    "    rev=0\n",
    "    temp=num\n",
    "    while num>0:\n",
    "        ld=num%10\n",
    "        rev=(rev*10)+ld\n",
    "        num//=10\n",
    "    return [\"not palindrome\",\"palindrome\"][temp==rev]\n",
    "palin(12321)"
   ]
  },
  {
   "cell_type": "code",
   "execution_count": 29,
   "metadata": {},
   "outputs": [
    {
     "name": "stdout",
     "output_type": "stream",
     "text": [
      "1\n",
      "2\n",
      "6\n",
      "24\n",
      "120\n",
      "720\n",
      "5040\n",
      "40320\n",
      "362880\n"
     ]
    }
   ],
   "source": [
    "def fun(start,end):\n",
    "    for i in range(start,end):\n",
    "        num=i\n",
    "        def factorial(num):\n",
    "            fact=1\n",
    "            for i in range(1,num+1):\n",
    "                fact*=i\n",
    "            return fact\n",
    "        res=factorial(num)\n",
    "        print(res)\n",
    "fun(1,10)"
   ]
  },
  {
   "cell_type": "code",
   "execution_count": 30,
   "metadata": {},
   "outputs": [
    {
     "data": {
      "text/plain": [
       "'prime'"
      ]
     },
     "execution_count": 30,
     "metadata": {},
     "output_type": "execute_result"
    }
   ],
   "source": [
    "def prime(num):\n",
    "    i=2\n",
    "    count=0\n",
    "    while i<num:\n",
    "        if num%i==0:\n",
    "            count+=1\n",
    "        i+=1\n",
    "    return [\"not prime\",\"prime\"][count==0]\n",
    "prime(7)"
   ]
  },
  {
   "cell_type": "code",
   "execution_count": 31,
   "metadata": {},
   "outputs": [
    {
     "name": "stdout",
     "output_type": "stream",
     "text": [
      "11 13 17 19 23 29 31 37 41 43 47 53 59 61 67 71 73 79 83 89 97 "
     ]
    }
   ],
   "source": [
    "def fun(start,end):\n",
    "    for j in range(start,end):\n",
    "        num=j\n",
    "        def prime(num):\n",
    "            i=2\n",
    "            count=0\n",
    "            while i<num:\n",
    "                if num%i==0:\n",
    "                    count+=1\n",
    "                i+=1\n",
    "            if count==0:\n",
    "                print(num,end=\" \")\n",
    "        prime(num)\n",
    "fun(10,100)"
   ]
  },
  {
   "cell_type": "code",
   "execution_count": 32,
   "metadata": {},
   "outputs": [
    {
     "data": {
      "text/plain": [
       "45"
      ]
     },
     "execution_count": 32,
     "metadata": {},
     "output_type": "execute_result"
    }
   ],
   "source": [
    "def sum(start,end):\n",
    "    sum=0\n",
    "    for i in range(start,end):\n",
    "        sum+=i\n",
    "    return sum\n",
    "sum(1,10)\n"
   ]
  },
  {
   "cell_type": "code",
   "execution_count": 33,
   "metadata": {},
   "outputs": [
    {
     "name": "stdout",
     "output_type": "stream",
     "text": [
      "0 1 1 2 3 5 8 13 21 34 55 89 144 "
     ]
    }
   ],
   "source": [
    "n1=0\n",
    "n2=1\n",
    "print(n1,n2,end=\" \")\n",
    "n=10\n",
    "i=0\n",
    "while i<=n:\n",
    "    n3=n1+n2\n",
    "    n1=n2\n",
    "    n2=n3\n",
    "    print(n3,end=\" \")\n",
    "    i+=1\n",
    "\n"
   ]
  },
  {
   "cell_type": "code",
   "execution_count": 34,
   "metadata": {},
   "outputs": [
    {
     "name": "stdout",
     "output_type": "stream",
     "text": [
      "14\n",
      "1\n"
     ]
    }
   ],
   "source": [
    "def perfect(num):\n",
    "    i=1\n",
    "    nu=num\n",
    "    sum=0\n",
    "    while i<num:\n",
    "        if num%i==0:\n",
    "            sum+=i\n",
    "        i+=1\n",
    "    if sum==nu:\n",
    "        print(\"1\")\n",
    "    else:\n",
    "        print(sum)\n",
    "        \n",
    "perfect(22)\n",
    "perfect(6)\n"
   ]
  },
  {
   "cell_type": "code",
   "execution_count": 35,
   "metadata": {},
   "outputs": [
    {
     "name": "stdout",
     "output_type": "stream",
     "text": [
      "\n",
      "\n",
      "\n",
      "p\n"
     ]
    }
   ],
   "source": [
    "str=\"abcd efgh ijkl mnop\"\n",
    "l=len(str)\n",
    "for i in str:\n",
    "    # print(i)\n",
    "    res=\"\"\n",
    "    if i!=\" \":\n",
    "        res+=i\n",
    "    else:\n",
    "        print(res)\n",
    "        res=\"\"\n",
    "print(res)\n",
    "\n"
   ]
  },
  {
   "cell_type": "code",
   "execution_count": 3,
   "metadata": {},
   "outputs": [
    {
     "name": "stdout",
     "output_type": "stream",
     "text": [
      "['abcd', 'efgh', 'ijkl', 'mnop']\n",
      "ijkl mnop abcd efgh "
     ]
    }
   ],
   "source": [
    "str=\"abcd efgh ijkl mnop\"\n",
    "res=\"\"\n",
    "l=[]\n",
    "for i in str:\n",
    "    # print(i,end=\"\")\n",
    "    if i!=\" \":\n",
    "        res+=i\n",
    "    else:\n",
    "        l+=[res]\n",
    "        res=\"\"\n",
    "l+=[res]\n",
    "print(l)\n",
    "a=2\n",
    "for i in range(len(l)):\n",
    "    print(l[i-2],end=\" \")\n",
    "    # \" \".join(i)\n",
    "\n"
   ]
  },
  {
   "cell_type": "code",
   "execution_count": 37,
   "metadata": {},
   "outputs": [
    {
     "name": "stdout",
     "output_type": "stream",
     "text": [
      "['abcd', 'efgh', 'ijkl', 'mnop']\n",
      "ijkl mnop abcd efgh \n",
      "['abcd', 'efgh', 'ijkl', 'mnop']\n",
      "efgh ijkl mnop abcd \n",
      "['atgjh', 'erkfjg', 'ropedm', 'splendoue', 'famrrdj', 'esdt']\n",
      "splendoue famrrdj esdt atgjh erkfjg ropedm "
     ]
    }
   ],
   "source": [
    "def sample(str,num):\n",
    "    l1=len(str)\n",
    "    res=\"\"\n",
    "    l=[]\n",
    "    for i in str:\n",
    "        if i!=\" \":\n",
    "            res+=i\n",
    "        else:\n",
    "            l+=[res]\n",
    "            res=\"\"\n",
    "    l+=[res]\n",
    "    print(l)\n",
    "    for i in range(len(l)):\n",
    "        print(l[i-num],end=\" \")\n",
    "sample(\"abcd efgh ijkl mnop\",2)\n",
    "print()\n",
    "sample(\"abcd efgh ijkl mnop\",3)\n",
    "print()\n",
    "sample(\"atgjh erkfjg ropedm splendoue famrrdj esdt\",3)"
   ]
  },
  {
   "cell_type": "code",
   "execution_count": 28,
   "metadata": {},
   "outputs": [
    {
     "name": "stdout",
     "output_type": "stream",
     "text": [
      "{'a': 4, 'b': 1, 'e': 1, 'i': 2, 'c': 1, 'd': 1, 'o': 1}\n",
      "{'a': 4, 'b': 1, 'e': 1, 'i': 2, 'c': 1, 'd': 1, 'o': 1}\n",
      "['a', 'b', 'e', 'i', 'c', 'd', 'o']\n",
      "a 4\n"
     ]
    }
   ],
   "source": [
    "str=\"abeaicaidao\"\n",
    "k={i:str.count(i) for i in str}\n",
    "print(k)\n",
    "d={}\n",
    "for i in str:\n",
    "    if i not in d:\n",
    "        d[i]=1\n",
    "    else:\n",
    "        d[i]+=1\n",
    "print(d)\n",
    "l=list(d)\n",
    "print(l)\n",
    "max=0\n",
    "ch=\"\"\n",
    "for i in range(0,len(l)):\n",
    "    if d[l[i]]>max:\n",
    "        max=d[l[i]]\n",
    "        ch=l[i]\n",
    "print(ch,max)"
   ]
  },
  {
   "cell_type": "code",
   "execution_count": 39,
   "metadata": {},
   "outputs": [
    {
     "name": "stdout",
     "output_type": "stream",
     "text": [
      "{1: 1, 2: 4, 3: 9, 4: 16, 5: 25, 6: 36, 7: 49, 8: 64, 9: 81, 10: 100, 11: 121, 12: 144, 13: 169, 14: 196, 15: 225, 16: 256, 17: 289, 18: 324, 19: 361}\n"
     ]
    }
   ],
   "source": [
    "#Wap to find the the power of the num\n",
    "\n",
    "def power(start,end):\n",
    "    d={}\n",
    "    for i in range(start,end):\n",
    "        # print(i,pow(i,2))\n",
    "        d[i]=pow(i,2)\n",
    "    print(d)\n",
    "power(1,20)"
   ]
  },
  {
   "cell_type": "code",
   "execution_count": 40,
   "metadata": {},
   "outputs": [
    {
     "data": {
      "text/plain": [
       "'not perfect'"
      ]
     },
     "execution_count": 40,
     "metadata": {},
     "output_type": "execute_result"
    }
   ],
   "source": [
    "#wap to check the number is perfect or not\n",
    "\n",
    "def perfect(num):\n",
    "    i=1\n",
    "    temp=num\n",
    "    sum=0\n",
    "    while i<num:\n",
    "        if num%i==0:\n",
    "            sum+=i\n",
    "        i+=1\n",
    "    return [\"not perfect\",\"perfect\"][temp==sum]\n",
    "perfect(28)\n",
    "perfect(8)\n"
   ]
  },
  {
   "cell_type": "code",
   "execution_count": 41,
   "metadata": {},
   "outputs": [
    {
     "name": "stdout",
     "output_type": "stream",
     "text": [
      "6\n",
      "28\n",
      "496\n"
     ]
    }
   ],
   "source": [
    "def perfran(start,end):\n",
    "    for i in range(start,end):\n",
    "        num=i\n",
    "        def perfect(num):\n",
    "            temp=num\n",
    "            sum=0\n",
    "            i=1\n",
    "            while i<num:\n",
    "                if num%i==0:\n",
    "                    sum+=i\n",
    "                i+=1\n",
    "            if sum==temp:\n",
    "                print(temp)\n",
    "        perfect(num)\n",
    "perfran(1,1000)"
   ]
  },
  {
   "cell_type": "code",
   "execution_count": 42,
   "metadata": {},
   "outputs": [
    {
     "name": "stdout",
     "output_type": "stream",
     "text": [
      "2\n"
     ]
    }
   ],
   "source": [
    "s1=\"ABCDCDC\"\n",
    "s2=\"CDC\"\n",
    "def fun(s1,s2):\n",
    "    count=0\n",
    "    for i in range(0,len(s1)):\n",
    "        for j in range(0,len(s2)):\n",
    "            if (s1[i]==s2[j] and s1[i-1]==s2[j-1]) and s1[i-2]==s2[j-2]:\n",
    "                count+=1\n",
    "    print(count)\n",
    "fun(s1,s2)\n",
    "\n"
   ]
  },
  {
   "cell_type": "code",
   "execution_count": 43,
   "metadata": {},
   "outputs": [
    {
     "name": "stdout",
     "output_type": "stream",
     "text": [
      "22\n"
     ]
    }
   ],
   "source": [
    "h=1.65\n",
    "w=60\n",
    "bmi=w/(h**2)\n",
    "print(round(bmi))"
   ]
  },
  {
   "cell_type": "code",
   "execution_count": 44,
   "metadata": {},
   "outputs": [
    {
     "data": {
      "text/plain": [
       "'not strong'"
      ]
     },
     "execution_count": 44,
     "metadata": {},
     "output_type": "execute_result"
    }
   ],
   "source": [
    "#strong number\n",
    "\n",
    "def strong(num):\n",
    "    temp=num\n",
    "    sum=0\n",
    "    while num>0:\n",
    "        ld=num%10\n",
    "        i=1\n",
    "        fact=1\n",
    "        while i<=ld:\n",
    "            fact*=i\n",
    "            i+=1\n",
    "        sum+=fact\n",
    "        num//=10\n",
    "    return [\"not strong\",\"strong\"][temp==sum]\n",
    "strong(14)\n",
    "\n",
    "\n"
   ]
  },
  {
   "cell_type": "code",
   "execution_count": 45,
   "metadata": {},
   "outputs": [
    {
     "name": "stdout",
     "output_type": "stream",
     "text": [
      "145\n"
     ]
    }
   ],
   "source": [
    "def strrange(start,end):\n",
    "    for n in range(start,end):\n",
    "        def strong(n):\n",
    "            temp=n\n",
    "            sum=0\n",
    "            while n>0:\n",
    "                ld=n%10\n",
    "                fact=1\n",
    "                i=1\n",
    "                while i<=ld:\n",
    "                    fact*=i\n",
    "                    i+=1\n",
    "                sum+=fact\n",
    "                n//=10\n",
    "            if sum==temp:\n",
    "                print(temp)\n",
    "        strong(n)\n",
    "strrange(10,2000)"
   ]
  },
  {
   "cell_type": "code",
   "execution_count": 46,
   "metadata": {},
   "outputs": [
    {
     "name": "stdout",
     "output_type": "stream",
     "text": [
      "22 123 132 213 231 312 321 "
     ]
    }
   ],
   "source": [
    "def ran(start,end):\n",
    "    for num in range(start,end):\n",
    "        def spy(num):\n",
    "            sum=0\n",
    "            temp=num\n",
    "            fact=1\n",
    "            i=0\n",
    "            while i<num:\n",
    "                ld=num%10\n",
    "                sum+=ld\n",
    "                fact*=ld\n",
    "                num//=10\n",
    "            if sum==fact:\n",
    "                print(temp,end=\" \")\n",
    "        spy(num)\n",
    "ran(10,1000)"
   ]
  },
  {
   "cell_type": "code",
   "execution_count": 47,
   "metadata": {},
   "outputs": [
    {
     "ename": "TypeError",
     "evalue": "'str' object is not callable",
     "output_type": "error",
     "traceback": [
      "\u001b[1;31m---------------------------------------------------------------------------\u001b[0m",
      "\u001b[1;31mTypeError\u001b[0m                                 Traceback (most recent call last)",
      "\u001b[1;32mc:\\Users\\venka\\Documents\\GitHub\\basic-python1\\python-Qspy\\practise\\fun.num.ipynb Cell 23\u001b[0m line \u001b[0;36m4\n\u001b[0;32m      <a href='vscode-notebook-cell:/c%3A/Users/venka/Documents/GitHub/basic-python1/python-Qspy/practise/fun.num.ipynb#X31sZmlsZQ%3D%3D?line=0'>1</a>\u001b[0m \u001b[39m#wap to print the middle char of the given SyntaxWarning\u001b[39;00m\n\u001b[0;32m      <a href='vscode-notebook-cell:/c%3A/Users/venka/Documents/GitHub/basic-python1/python-Qspy/practise/fun.num.ipynb#X31sZmlsZQ%3D%3D?line=1'>2</a>\u001b[0m \u001b[39m# import math\u001b[39;00m\n\u001b[0;32m      <a href='vscode-notebook-cell:/c%3A/Users/venka/Documents/GitHub/basic-python1/python-Qspy/practise/fun.num.ipynb#X31sZmlsZQ%3D%3D?line=2'>3</a>\u001b[0m num\u001b[39m=\u001b[39m\u001b[39m54321\u001b[39m\n\u001b[1;32m----> <a href='vscode-notebook-cell:/c%3A/Users/venka/Documents/GitHub/basic-python1/python-Qspy/practise/fun.num.ipynb#X31sZmlsZQ%3D%3D?line=3'>4</a>\u001b[0m s\u001b[39m=\u001b[39m\u001b[39mstr\u001b[39;49m(num)\n\u001b[0;32m      <a href='vscode-notebook-cell:/c%3A/Users/venka/Documents/GitHub/basic-python1/python-Qspy/practise/fun.num.ipynb#X31sZmlsZQ%3D%3D?line=4'>5</a>\u001b[0m l1\u001b[39m=\u001b[39m\u001b[39mlen\u001b[39m(s)\n\u001b[0;32m      <a href='vscode-notebook-cell:/c%3A/Users/venka/Documents/GitHub/basic-python1/python-Qspy/practise/fun.num.ipynb#X31sZmlsZQ%3D%3D?line=5'>6</a>\u001b[0m \u001b[39mif\u001b[39;00m l1\u001b[39m%\u001b[39m\u001b[39m2\u001b[39m\u001b[39m==\u001b[39m\u001b[39m0\u001b[39m:\n",
      "\u001b[1;31mTypeError\u001b[0m: 'str' object is not callable"
     ]
    }
   ],
   "source": [
    "#wap to print the middle char of the given SyntaxWarning\n",
    "# import math\n",
    "num=54321\n",
    "s=str(num)\n",
    "l1=len(s)\n",
    "if l1%2==0:\n",
    "    l=int((l1/2)-1)\n",
    "else:\n",
    "    l=(l1//2)\n",
    "print(int(str(s[l])))\n"
   ]
  },
  {
   "cell_type": "code",
   "execution_count": null,
   "metadata": {},
   "outputs": [
    {
     "name": "stdout",
     "output_type": "stream",
     "text": [
      "4\n"
     ]
    }
   ],
   "source": [
    "def middle(num):\n",
    "    count=0\n",
    "    temp=num\n",
    "    while num>0:\n",
    "        ld=num%10\n",
    "        count+=1\n",
    "        num//=10\n",
    "    l=count//2\n",
    "    while l:\n",
    "        temp=temp//10\n",
    "        l-=1\n",
    "    print(temp%10)\n",
    "middle(1234567)"
   ]
  },
  {
   "cell_type": "code",
   "execution_count": null,
   "metadata": {},
   "outputs": [
    {
     "name": "stdout",
     "output_type": "stream",
     "text": [
      "['this', 'is', 'a', 'string']\n",
      "this-is-a-string\n"
     ]
    }
   ],
   "source": [
    "s=\"this is a string\"\n",
    "res=\"\"\n",
    "l=[]\n",
    "for i in s:\n",
    "    if i!=\" \":\n",
    "        res+=i\n",
    "    else:\n",
    "        l+=[res]\n",
    "        res=\"\"\n",
    "l+=[res]\n",
    "print(l)\n",
    "temp=\"\"\n",
    "for i in range(len(l)):\n",
    "    if i!=len(l)-1:\n",
    "        temp+=l[i]+\"-\"\n",
    "temp+=l[i]\n",
    "print(temp)\n"
   ]
  },
  {
   "cell_type": "code",
   "execution_count": null,
   "metadata": {},
   "outputs": [
    {
     "name": "stdout",
     "output_type": "stream",
     "text": [
      "hello taddi venky! \n"
     ]
    }
   ],
   "source": [
    "first=\"taddi\"\n",
    "last=\"venky\"\n",
    "print(f\"hello {first} {last}! \")"
   ]
  },
  {
   "cell_type": "code",
   "execution_count": null,
   "metadata": {},
   "outputs": [
    {
     "name": "stdout",
     "output_type": "stream",
     "text": [
      "132 456 Wq  M E\n"
     ]
    }
   ],
   "source": [
    "s=\"132 456 Wq  m e\"\n",
    "res=\"\"\n",
    "if s[0].islower():\n",
    "    res+=s[0].upper()\n",
    "else:\n",
    "    res+=s[0]\n",
    "for i in range(1,len(s)):\n",
    "    if (\"a\"<=s[i]<=\"z\" or \"A\"<=s[i]<=\"Z\") and s[i-1]==\" \":\n",
    "        res+=s[i].upper()\n",
    "    elif s[i].isupper():\n",
    "        res+=s[i].lower()\n",
    "    else:\n",
    "        res+=s[i]\n",
    "print(res)\n"
   ]
  },
  {
   "cell_type": "code",
   "execution_count": null,
   "metadata": {},
   "outputs": [
    {
     "name": "stdout",
     "output_type": "stream",
     "text": [
      "1 0o1 0x1 0b1\n",
      "2 0o2 0x2 0b10\n",
      "3 0o3 0x3 0b11\n",
      "4 0o4 0x4 0b100\n",
      "5 0o5 0x5 0b101\n",
      "6 0o6 0x6 0b110\n",
      "7 0o7 0x7 0b111\n",
      "8 0o10 0x8 0b1000\n",
      "9 0o11 0x9 0b1001\n",
      "10 0o12 0xa 0b1010\n",
      "11 0o13 0xb 0b1011\n",
      "12 0o14 0xc 0b1100\n",
      "13 0o15 0xd 0b1101\n",
      "14 0o16 0xe 0b1110\n",
      "15 0o17 0xf 0b1111\n",
      "16 0o20 0x10 0b10000\n",
      "17 0o21 0x11 0b10001\n"
     ]
    }
   ],
   "source": [
    "def print_formatted(number):\n",
    "    # your code goes here\n",
    "    for i in range(1,number+1):\n",
    "        print(int(i),(oct(i)),hex(i),bin(i))\n",
    "print_formatted(17)"
   ]
  },
  {
   "cell_type": "code",
   "execution_count": null,
   "metadata": {},
   "outputs": [
    {
     "name": "stdout",
     "output_type": "stream",
     "text": [
      "ABCDE\n",
      "FGHI\n",
      "JKLI\n",
      "MNOQ\n",
      "RSTU\n",
      "VWXY\n",
      "Z\n"
     ]
    }
   ],
   "source": [
    "s=\"ABCDEFGHIJKLIMNOQRSTUVWXYZ\"\n",
    "w=4\n",
    "res=s[0]\n",
    "for i in range(1,len(s)-1):\n",
    "    if len(res)==1:\n",
    "        \n",
    "    if i%4!=0:\n",
    "        # print(\"kl\")\n",
    "        res+=s[i]\n",
    "    else:\n",
    "        res+=s[i]\n",
    "        print(res)\n",
    "        res=\"\"\n",
    "res+=s[i+1]\n",
    "print(res)"
   ]
  },
  {
   "cell_type": "code",
   "execution_count": null,
   "metadata": {},
   "outputs": [
    {
     "name": "stdout",
     "output_type": "stream",
     "text": [
      "abcjk\n",
      "def\n",
      "klmno\n",
      "pqrstuv\n"
     ]
    }
   ],
   "source": [
    "#wap to extarct the sequence ordered char\n",
    "\n",
    "st=\"abcjkdhfkh defkjdv klmnohdb pqrstuv\"\n",
    "res=\"\"\n",
    "for i in range(0,len(st)):\n",
    "    if i!=len(st)-1 and ord(st[i])+1==ord(st[i+1]):\n",
    "        res+=st[i]\n",
    "    elif ord(st[i-1])==ord(st[i])-1:\n",
    "        res+=st[i]\n",
    "    else:\n",
    "        if len(res)>=3:\n",
    "            print(res)\n",
    "        res=\"\"\n",
    "print(res)\n",
    "        \n"
   ]
  },
  {
   "cell_type": "code",
   "execution_count": 16,
   "metadata": {},
   "outputs": [
    {
     "name": "stdout",
     "output_type": "stream",
     "text": [
      "['.com', '.com', '.com', '.com']\n"
     ]
    }
   ],
   "source": [
    "st='qspider@gmail.com  pyspider@ymail.com jspider@py.com venky@outlook.com'\n",
    "res=\"\"\n",
    "l=[]\n",
    "for i in st:\n",
    "    if i==\".\":\n",
    "        res=\"\"\n",
    "        res+=i\n",
    "    elif i==\" \":\n",
    "        if len(res)!=0:\n",
    "            l+=[res]\n",
    "            res=\"\"\n",
    "    else:\n",
    "        res+=i\n",
    "l+=[res]\n",
    "print(l)\n",
    "    \n"
   ]
  },
  {
   "cell_type": "code",
   "execution_count": null,
   "metadata": {},
   "outputs": [
    {
     "name": "stdout",
     "output_type": "stream",
     "text": [
      "['hai', 'hello', 'world', 'love', 'india', 'like', 'python', 'hii']\n",
      "hwlip\n",
      "[['hai', 'hello', 'hii'], ['world'], ['love', 'like'], ['india'], ['python']]\n"
     ]
    }
   ],
   "source": [
    "st=\" hai hello world    i love india i like python hii\"\n",
    "res=\"\"\n",
    "l=[]\n",
    "for i in st:\n",
    "    if i!=\" \":\n",
    "        res+=i\n",
    "    else:\n",
    "        if len(res)>1:\n",
    "            l+=[res]\n",
    "        res=\"\"\n",
    "if len(res)>1:\n",
    "    l+=[res]\n",
    "print(l)\n",
    "uni=\"\"\n",
    "for i in range(0,len(l)):\n",
    "    if l[i][0] not in uni:\n",
    "        uni+=l[i][0]\n",
    "print(uni)\n",
    "l1=[]\n",
    "for m in uni:\n",
    "    l1+=[[]]\n",
    "    for n in range(0,len(l)):\n",
    "        if m==l[n][0]:\n",
    "            l1[-1]+=[l[n]]\n",
    "print(l1)"
   ]
  },
  {
   "cell_type": "code",
   "execution_count": null,
   "metadata": {},
   "outputs": [
    {
     "name": "stdout",
     "output_type": "stream",
     "text": [
      "['hai', 'hello', 'world', 'love', 'india', 'like', 'python']\n",
      "[3, 5, 4, 6]\n",
      "[['hai'], ['hello', 'world', 'india'], ['love', 'like'], ['python']]\n"
     ]
    }
   ],
   "source": [
    "st=\" hai hello world    i love india i like python hii\"\n",
    "res=\"\"\n",
    "l=[]\n",
    "for i in st:\n",
    "    if i!=\" \":\n",
    "        res+=i\n",
    "    else:\n",
    "        if len(res)>1:\n",
    "            l+=[res]\n",
    "        res=\"\"\n",
    "print(l)\n",
    "l1=[]\n",
    "for i in l:\n",
    "    if len(i) not in l1:\n",
    "        l1+=[len(i)]\n",
    "print(l1)\n",
    "l2=[]\n",
    "for m in l1:\n",
    "    l2+=[[]]\n",
    "    for n in range(len(l)):\n",
    "        if m==len(l[n]):\n",
    "            l2[-1]+=[l[n]]\n",
    "print(l2)\n",
    "\n",
    "\n",
    "\n",
    "\n"
   ]
  },
  {
   "cell_type": "code",
   "execution_count": null,
   "metadata": {},
   "outputs": [
    {
     "name": "stdout",
     "output_type": "stream",
     "text": [
      "['hai', 'hello', 'world', 'i', 'love', 'india', 'i', 'like', 'python', 'hii']\n",
      "{'h': ['hai', 'hello', 'hii'], 'w': ['world'], 'i': ['i', 'india', 'i'], 'l': ['love', 'like'], 'p': ['python']}\n",
      "{3: ['hii'], 5: ['india'], 1: ['i'], 4: ['like'], 6: ['python']}\n"
     ]
    }
   ],
   "source": [
    "st=\" hai hello world    i love india i like python hii \"\n",
    "res=\"\"\n",
    "l=[]\n",
    "for i in st:\n",
    "    if i!=\" \":\n",
    "        res+=i\n",
    "    else:\n",
    "        if len(res)>=1:\n",
    "            l+=[res]\n",
    "        res=\"\"\n",
    "print(l)\n",
    "d={}\n",
    "for m in range(0,len(l)):\n",
    "    if l[m][0] not in d:\n",
    "        d[l[m][0]]=[l[m]]\n",
    "    else:\n",
    "        d[l[m][0]]+=[l[m]]\n",
    "print(d)\n",
    "d1={}\n",
    "for n in range(len(l)):\n",
    "    if len(l[n]) not in d:\n",
    "        d1[len(l[n])]=[l[n]]\n",
    "    else:\n",
    "        d1[len(l[n])]+=[l[n]]\n",
    "print(d1)\n",
    "\n"
   ]
  },
  {
   "cell_type": "code",
   "execution_count": null,
   "metadata": {},
   "outputs": [
    {
     "name": "stdout",
     "output_type": "stream",
     "text": [
      "[1, 2, 3, 4, 12, 4, 5, 6, 2, 3, 4, 51, 2, 3, 1, 245, 6]\n",
      "[1, 2, 3, 4, 12, 5, 6, 51, 245]\n",
      "[1, 2, 3, 4, 12, 5, 6, 4, 51, 2, 3, 245, 6]\n"
     ]
    }
   ],
   "source": [
    "l=[1,2,3,4,12,4,5,6,2,3,4,51,2,3,1,245,6]\n",
    "print(l)\n",
    "uni=[]\n",
    "for i in l:\n",
    "    if i not in uni:\n",
    "        uni+=[i]\n",
    "print(uni)\n",
    "for m in uni:\n",
    "    x=2\n",
    "    count=0\n",
    "    for n in range(len(l)-1):\n",
    "        if m==l[n]:\n",
    "            count+=1\n",
    "            if count==x:\n",
    "                del l[n]\n",
    "print(l)\n",
    "\n",
    "\n"
   ]
  },
  {
   "cell_type": "code",
   "execution_count": null,
   "metadata": {},
   "outputs": [
    {
     "name": "stdout",
     "output_type": "stream",
     "text": [
      "[1, 2, 3, 4, 12, 4, 5, 6, 2, 3, 4, 51, 2, 3, 1, 245, 6]\n",
      "[1, 2, 3, 4, 12, 4, 5, 6, 2, 3, 4, 51, 3, 1, 245, 6]\n"
     ]
    }
   ],
   "source": [
    "l=[1,2,3,4,12,4,5,6,2,3,4,51,2,3,1,245,6]\n",
    "print(l)\n",
    "sp=2\n",
    "occ=3\n",
    "count=0\n",
    "for i in range(len(l)-1):\n",
    "    if sp==l[i]:\n",
    "        count+=1\n",
    "        if count==occ:\n",
    "            del l[i]\n",
    "print(l)\n",
    "\n",
    "\n",
    "    "
   ]
  },
  {
   "cell_type": "code",
   "execution_count": null,
   "metadata": {},
   "outputs": [
    {
     "name": "stdout",
     "output_type": "stream",
     "text": [
      "iphone ipad watch\n"
     ]
    }
   ],
   "source": [
    "#wap to delete the nth occ of char from the given string\n",
    "\n",
    "s=\"iphone ipad iwatch\"\n",
    "sp=\"i\"\n",
    "n=3\n",
    "count=0\n",
    "for i in range(len(s)-1):\n",
    "    if sp==s[i]:\n",
    "        count+=1\n",
    "        if count==n:\n",
    "            print(s[:i]+s[i+1:])"
   ]
  },
  {
   "cell_type": "code",
   "execution_count": null,
   "metadata": {},
   "outputs": [
    {
     "name": "stdout",
     "output_type": "stream",
     "text": [
      "{'h': 2, 'e': 1, 'l': 3, 'o': 3, ' ': 2, 'w': 1, 'r': 1, 'd': 1, 'p': 1, 'y': 1, 't': 1, 'n': 1}\n",
      "['h', 'e', 'l', 'o', ' ', 'w', 'r', 'd', 'p', 'y', 't', 'n']\n",
      "1 e\n",
      "3 l\n"
     ]
    }
   ],
   "source": [
    "st=\"hello world python\"\n",
    "d={}\n",
    "for i in st:\n",
    "    if i not in d:\n",
    "        d[i]=1\n",
    "    else:\n",
    "        d[i]+=1\n",
    "print(d)\n",
    "l=list(d)\n",
    "print(l)\n",
    "min=d[l[0]]\n",
    "chs=\"\"\n",
    "chb=\"\"\n",
    "max=0\n",
    "for i in range(len(l)):\n",
    "    if d[l[i]]<min:\n",
    "        min=d[l[i]]\n",
    "        chs=l[i]\n",
    "    if d[l[i]]>max:\n",
    "        max=d[l[i]]\n",
    "        chb=l[i]\n",
    "print(min,chs)\n",
    "print(max,chb)"
   ]
  },
  {
   "cell_type": "code",
   "execution_count": null,
   "metadata": {},
   "outputs": [
    {
     "name": "stdout",
     "output_type": "stream",
     "text": [
      "123456\n",
      "abc\n",
      "a1b2c3456\n"
     ]
    }
   ],
   "source": [
    "s=\"1a2bc3456\"\n",
    "\n",
    "nc,ch=\"\",\"\"\n",
    "for i in s:\n",
    "    if \"A\"<=i<=\"Z\" or \"a\"<=i<=\"z\":\n",
    "        ch+=i\n",
    "    else:\n",
    "        nc+=i\n",
    "print(nc)\n",
    "print(ch)\n",
    "res=\"\"\n",
    "for j in range(len(nc)):\n",
    "    for k in range(len(ch)):\n",
    "        if j==k:\n",
    "            res+=ch[k]+nc[j]\n",
    "if len(nc)>len(ch):\n",
    "    res=res+nc[len(ch)-len(nc):]\n",
    "print(res)\n"
   ]
  },
  {
   "cell_type": "code",
   "execution_count": null,
   "metadata": {},
   "outputs": [
    {
     "name": "stdout",
     "output_type": "stream",
     "text": [
      "aaabbcccc\n"
     ]
    }
   ],
   "source": [
    "# Input:- “a3b2c4” ,\n",
    "# Output: “aaabbcccc”\n",
    "\n",
    "l=\"a3b2c4\"\n",
    "res=\"\"\n",
    "con=\"\"\n",
    "for i in l:\n",
    "    if \"A\"<=i<=\"Z\" or \"a\"<=i<=\"z\":\n",
    "        res+=i\n",
    "    else:\n",
    "        res=int(i)*res\n",
    "        con+=res\n",
    "        res=\"\"\n",
    "print(con)\n"
   ]
  },
  {
   "cell_type": "code",
   "execution_count": null,
   "metadata": {},
   "outputs": [
    {
     "name": "stdout",
     "output_type": "stream",
     "text": [
      "{'a': 3, 'b': 2, 'c': 4}\n",
      "a3b2c4\n"
     ]
    }
   ],
   "source": [
    "st=\"aaabbcccc\"\n",
    "d={}\n",
    "for i in st:\n",
    "    if i not in d:\n",
    "        d[i]=1\n",
    "    else:\n",
    "        d[i]+=1\n",
    "print(d)\n",
    "res=\"\"\n",
    "for i in list(d):\n",
    "    res+=str(i)+str(d[i])\n",
    "print(res)\n"
   ]
  },
  {
   "cell_type": "code",
   "execution_count": null,
   "metadata": {},
   "outputs": [
    {
     "name": "stdout",
     "output_type": "stream",
     "text": [
      "YES\n"
     ]
    }
   ],
   "source": [
    "#anagrams\n",
    "\n",
    "def anagram(st1,st2):\n",
    "    count=0\n",
    "    for i in st1:\n",
    "        for j in st2:\n",
    "            if i==j:\n",
    "                count+=1\n",
    "    if count==len(st1):\n",
    "        print(\"YES\")\n",
    "    else:\n",
    "        print(\"NO\")\n",
    "anagram(\"bat\",\"tab\")"
   ]
  },
  {
   "cell_type": "code",
   "execution_count": null,
   "metadata": {},
   "outputs": [
    {
     "data": {
      "text/plain": [
       "'yes'"
      ]
     },
     "execution_count": 3,
     "metadata": {},
     "output_type": "execute_result"
    }
   ],
   "source": [
    "def anagram(st):\n",
    "    if st==st[::-1]:\n",
    "        return \"yes\"\n",
    "    else:\n",
    "        return \"no\"\n",
    "anagram(\"madam\")"
   ]
  },
  {
   "cell_type": "code",
   "execution_count": null,
   "metadata": {},
   "outputs": [
    {
     "data": {
      "text/plain": [
       "'yes'"
      ]
     },
     "execution_count": 13,
     "metadata": {},
     "output_type": "execute_result"
    }
   ],
   "source": [
    "s1=\"tabat\"\n",
    "s2=\"batat\"\n",
    "def anagram(s1,s2):\n",
    "    if sorted(s1)==sorted(s2):\n",
    "        return \"yes\"\n",
    "    return \"no\"\n",
    "anagram(s1,s2)"
   ]
  },
  {
   "cell_type": "code",
   "execution_count": null,
   "metadata": {},
   "outputs": [
    {
     "data": {
      "text/plain": [
       "90"
      ]
     },
     "execution_count": 27,
     "metadata": {},
     "output_type": "execute_result"
    }
   ],
   "source": [
    "def fun(start,end):\n",
    "    sum1=0\n",
    "    sum2=0\n",
    "    for i in range(1,end+1):\n",
    "        if i%start==0:\n",
    "            sum1+=i\n",
    "        else:\n",
    "            sum2+=i\n",
    "        diff=sum2-sum1\n",
    "    return diff\n",
    "fun(4,20)\n",
    "\n",
    "\n"
   ]
  },
  {
   "cell_type": "code",
   "execution_count": null,
   "metadata": {},
   "outputs": [
    {
     "name": "stdout",
     "output_type": "stream",
     "text": [
      "vowel\n"
     ]
    }
   ],
   "source": [
    "# Python Program for checking a character is a vowel or consonant\n",
    "\n",
    "def check(ch):\n",
    "    if ch in \"aeiouAEIOU\":\n",
    "        print(\"vowel\")\n",
    "    else:\n",
    "        print(\"consonant\")\n",
    "check(\"E\")\n",
    "        "
   ]
  },
  {
   "cell_type": "code",
   "execution_count": null,
   "metadata": {},
   "outputs": [
    {
     "name": "stdout",
     "output_type": "stream",
     "text": [
      "YES\n"
     ]
    }
   ],
   "source": [
    "# Python program to check whether a character is an alphabet or not\n",
    "\n",
    "def check(ch):\n",
    "    if \"A\"<=ch<=\"Z\" or \"a\"<=ch<=\"z\":\n",
    "        print(\"YES\")\n",
    "    else:\n",
    "        print(\"NO\")\n",
    "check(\"A\")"
   ]
  },
  {
   "cell_type": "code",
   "execution_count": null,
   "metadata": {},
   "outputs": [
    {
     "name": "stdout",
     "output_type": "stream",
     "text": [
      "97\n"
     ]
    }
   ],
   "source": [
    "# Python program to find ASCII values of a character\n",
    "\n",
    "def asci(ch):\n",
    "    print(ord(ch))\n",
    "asci(\"a\")"
   ]
  },
  {
   "cell_type": "code",
   "execution_count": null,
   "metadata": {},
   "outputs": [
    {
     "data": {
      "text/plain": [
       "5"
      ]
     },
     "execution_count": 7,
     "metadata": {},
     "output_type": "execute_result"
    }
   ],
   "source": [
    "# Python Program for Calculating the length of string Without using length() function\n",
    "\n",
    "def length(st):\n",
    "    count=0\n",
    "    for i in st:\n",
    "        count+=1\n",
    "    return count\n",
    "length(\"hello\")"
   ]
  },
  {
   "cell_type": "code",
   "execution_count": null,
   "metadata": {},
   "outputs": [
    {
     "data": {
      "text/plain": [
       "3"
      ]
     },
     "execution_count": 8,
     "metadata": {},
     "output_type": "execute_result"
    }
   ],
   "source": [
    "# Python program to count the number of vowels in a string\n",
    "\n",
    "def count(st):\n",
    "    count=0\n",
    "    for i in st:\n",
    "        if i in \"aeiouAEIOU\":\n",
    "            count+=1\n",
    "    return count\n",
    "count(\"hello world\")"
   ]
  },
  {
   "cell_type": "code",
   "execution_count": null,
   "metadata": {},
   "outputs": [
    {
     "data": {
      "text/plain": [
       "'hELLO worLD123 pYTHon'"
      ]
     },
     "execution_count": 10,
     "metadata": {},
     "output_type": "execute_result"
    }
   ],
   "source": [
    "# Python program to toggle each character in a string\n",
    "\n",
    "def toggle(st):\n",
    "    res=\"\"\n",
    "    for i in st:\n",
    "        if \"a\"<=i<=\"z\":\n",
    "            res+=chr(ord(i)-32)\n",
    "        elif \"A\"<=i<=\"Z\":\n",
    "            res+=i.lower()\n",
    "        else:\n",
    "            res+=i\n",
    "    return res\n",
    "toggle(\"Hello WORld123 PythON\")\n"
   ]
  },
  {
   "cell_type": "code",
   "execution_count": null,
   "metadata": {},
   "outputs": [
    {
     "data": {
      "text/plain": [
       "'Prpnst'"
      ]
     },
     "execution_count": 11,
     "metadata": {},
     "output_type": "execute_result"
    }
   ],
   "source": [
    "# Python Program to Remove Vowels from a String\n",
    "\n",
    "def remove(st):\n",
    "    res=\"\"\n",
    "    for i in st:\n",
    "        if i in \"aeiouAEIOU\":\n",
    "            res+=\"\"\n",
    "        else:\n",
    "            res+=i\n",
    "    return res\n",
    "remove(\"PrepInsta\")"
   ]
  },
  {
   "cell_type": "code",
   "execution_count": null,
   "metadata": {},
   "outputs": [
    {
     "data": {
      "text/plain": [
       "'palindrome'"
      ]
     },
     "execution_count": 13,
     "metadata": {},
     "output_type": "execute_result"
    }
   ],
   "source": [
    "# Program to check whether a String is a Palindrome or not in Python\n",
    "\n",
    "def palin(st):\n",
    "    res=\"\"\n",
    "    for i in st:\n",
    "        res=i+res\n",
    "    return [\"not palindrome\",\"palindrome\"][st==res]\n",
    "palin(\"12321\")\n"
   ]
  },
  {
   "cell_type": "code",
   "execution_count": null,
   "metadata": {},
   "outputs": [
    {
     "data": {
      "text/plain": [
       "'dlrow olleH'"
      ]
     },
     "execution_count": 15,
     "metadata": {},
     "output_type": "execute_result"
    }
   ],
   "source": [
    "# Program to Reverse a String in Python\n",
    "\n",
    "def reverse(st):\n",
    "    res=\"\"\n",
    "    for i in st:\n",
    "        res=i+res\n",
    "    return res\n",
    "reverse(\"Hello world\")"
   ]
  },
  {
   "cell_type": "code",
   "execution_count": null,
   "metadata": {},
   "outputs": [
    {
     "data": {
      "text/plain": [
       "'helloworldpython'"
      ]
     },
     "execution_count": 16,
     "metadata": {},
     "output_type": "execute_result"
    }
   ],
   "source": [
    "def remove(st):\n",
    "    res=\"\"\n",
    "    for i in st:\n",
    "        if i==\" \":\n",
    "            res+=\"\"\n",
    "        else:\n",
    "            res+=i\n",
    "    return res\n",
    "remove(\"hello world python\")\n"
   ]
  },
  {
   "cell_type": "code",
   "execution_count": null,
   "metadata": {},
   "outputs": [
    {
     "data": {
      "text/plain": [
       "'a-b+c*d+e/f'"
      ]
     },
     "execution_count": 19,
     "metadata": {},
     "output_type": "execute_result"
    }
   ],
   "source": [
    "def remove(st):\n",
    "    res=\"\"\n",
    "    for i in st:\n",
    "        if i in \"{,},[,],(,)\":\n",
    "            res+=\"\"\n",
    "        else:\n",
    "            res+=i\n",
    "    return res\n",
    "remove(\"(a-b)+[c*d]+{e/f})\")\n"
   ]
  },
  {
   "cell_type": "code",
   "execution_count": null,
   "metadata": {},
   "outputs": [
    {
     "data": {
      "text/plain": [
       "12"
      ]
     },
     "execution_count": 21,
     "metadata": {},
     "output_type": "execute_result"
    }
   ],
   "source": [
    "def count(st):\n",
    "    sum=0\n",
    "    for i in st:\n",
    "        if \"0\"<=i<=\"9\":\n",
    "            sum+=int(i)\n",
    "        else:\n",
    "            pass\n",
    "    return sum\n",
    "count(\"4PREP2INSTAA6\")\n"
   ]
  },
  {
   "cell_type": "code",
   "execution_count": null,
   "metadata": {},
   "outputs": [
    {
     "data": {
      "text/plain": [
       "'HeLLO'"
      ]
     },
     "execution_count": 26,
     "metadata": {},
     "output_type": "execute_result"
    }
   ],
   "source": [
    "# Python program to convert first and last letter of string to Upper-Case\n",
    "\n",
    "def capitalise(st):\n",
    "    res=st[0:1].upper()+st[1:len(st)-1]+st[len(st)-1:len(st)].upper()\n",
    "    return res\n",
    "capitalise(\"heLLo\")"
   ]
  },
  {
   "cell_type": "code",
   "execution_count": null,
   "metadata": {},
   "outputs": [
    {
     "data": {
      "text/plain": [
       "31"
      ]
     },
     "execution_count": 5,
     "metadata": {},
     "output_type": "execute_result"
    }
   ],
   "source": [
    "# Wap to count the number from 1 to n except the 3\n",
    "# if n=10 then count=9 and n=20 count=18==>3,13 leave\n",
    "\n",
    "def fun(n):\n",
    "    count=0\n",
    "    for i in range(1,n+1):\n",
    "        if \"3\" in str(i):\n",
    "            pass\n",
    "        else:\n",
    "            count+=1\n",
    "    return count\n",
    "fun(45)"
   ]
  },
  {
   "cell_type": "code",
   "execution_count": null,
   "metadata": {},
   "outputs": [
    {
     "name": "stdout",
     "output_type": "stream",
     "text": [
      "{'p': 2, 'r': 1, 'e': 1, 'i': 1, 'n': 1, 's': 1, 't': 1, 'a': 1}\n",
      "r e i n s t a "
     ]
    }
   ],
   "source": [
    "# Python program to find non repeating characters in a string\n",
    "\n",
    "def nonrepeat(st):\n",
    "    d={}\n",
    "    for i in st:\n",
    "        if i not in d:\n",
    "            d[i]=1\n",
    "        else:\n",
    "            d[i]+=1\n",
    "    print(d)\n",
    "    for j in d:\n",
    "        if d[j]==1:\n",
    "            print(j,end=\" \")\n",
    "nonrepeat(\"prepinsta\")"
   ]
  },
  {
   "cell_type": "code",
   "execution_count": null,
   "metadata": {},
   "outputs": [
    {
     "name": "stdout",
     "output_type": "stream",
     "text": [
      "h e o "
     ]
    }
   ],
   "source": [
    "# Python program to find non repeating characters in a string\n",
    "\n",
    "def repeat(st):\n",
    "    for i in st:\n",
    "        count=0\n",
    "        for j in st:\n",
    "            if i==j:\n",
    "                count+=1\n",
    "            if count>1:\n",
    "                break\n",
    "        if count==1:\n",
    "            print(i,end=\" \")\n",
    "repeat(\"hello\")"
   ]
  },
  {
   "cell_type": "code",
   "execution_count": null,
   "metadata": {},
   "outputs": [
    {
     "data": {
      "text/plain": [
       "{'s': 1, 'o': 2, 'l': 2, ' ': 1, 'i': 1, 'f': 1, 'e': 1}"
      ]
     },
     "execution_count": 14,
     "metadata": {},
     "output_type": "execute_result"
    }
   ],
   "source": [
    "def freq(st):\n",
    "    d={}\n",
    "    for i in st:\n",
    "        if i not in d:\n",
    "            d[i]=1\n",
    "        else:\n",
    "            d[i]+=1\n",
    "    return d\n",
    "freq(\"solo life\")"
   ]
  },
  {
   "cell_type": "code",
   "execution_count": null,
   "metadata": {},
   "outputs": [
    {
     "data": {
      "text/plain": [
       "'anagram'"
      ]
     },
     "execution_count": 17,
     "metadata": {},
     "output_type": "execute_result"
    }
   ],
   "source": [
    "# wap to check the given string is anagram or not\n",
    "\n",
    "def anagram(st1,st2):\n",
    "    l1=sorted(st1.lower())\n",
    "    l2=sorted(st2.lower())\n",
    "    return [\"not anagram\",\"anagram\"][l1==l2]\n",
    "anagram(\"Silent\",\"Listen\")"
   ]
  },
  {
   "cell_type": "code",
   "execution_count": null,
   "metadata": {},
   "outputs": [
    {
     "data": {
      "text/plain": [
       "'prepster'"
      ]
     },
     "execution_count": 22,
     "metadata": {},
     "output_type": "execute_result"
    }
   ],
   "source": [
    "def replace(st,subst,rep):\n",
    "    res=\"\"\n",
    "    for i in range(len(st)):\n",
    "        if st[i]==subst[0]:\n",
    "            if st[i:i+len(subst)+1]==subst:\n",
    "                res+=st[0:i]+rep\n",
    "    return res\n",
    "replace(\"prepinsta\",\"insta\",\"ster\")"
   ]
  },
  {
   "cell_type": "code",
   "execution_count": 24,
   "metadata": {},
   "outputs": [
    {
     "data": {
      "text/plain": [
       "'prepster'"
      ]
     },
     "execution_count": 24,
     "metadata": {},
     "output_type": "execute_result"
    }
   ],
   "source": [
    "st=\"prepinsta\"\n",
    "sub=\"insta\"\n",
    "rep=\"ster\"\n",
    "st.replace(sub,rep)"
   ]
  },
  {
   "cell_type": "code",
   "execution_count": 4,
   "metadata": {},
   "outputs": [
    {
     "name": "stdout",
     "output_type": "stream",
     "text": [
      "[-2, -7, -1, 1, 5, 2, 4, 3]\n"
     ]
    }
   ],
   "source": [
    "l=[1,-2,5,2,-7,4,-1,3]\n",
    "l1=[]\n",
    "l2=[]\n",
    "for i in l:\n",
    "    if i<0:\n",
    "        l1+=[i]\n",
    "    else:\n",
    "        l2+=[i]\n",
    "l1.extend(l2)\n",
    "print(l1)\n"
   ]
  },
  {
   "cell_type": "code",
   "execution_count": null,
   "metadata": {},
   "outputs": [],
   "source": [
    "l=[1, 90, 34, 89, 7, 9]\n",
    "l1=sorted(l)\n",
    "l2=[]\n",
    "for i in range(0,len(l)//2):\n",
    "    l2+=[i]\n",
    "l3=sorted(l2)\n",
    "for j in range(len(l)//2):\n",
    "    \n",
    "\n",
    "\n"
   ]
  },
  {
   "cell_type": "code",
   "execution_count": 31,
   "metadata": {},
   "outputs": [
    {
     "data": {
      "text/plain": [
       "3"
      ]
     },
     "execution_count": 31,
     "metadata": {},
     "output_type": "execute_result"
    }
   ],
   "source": [
    "from itertools import combinations\n",
    "n=int(input())\n",
    "arr=list(map(int, input().split()))\n",
    "if n==len(arr):\n",
    "    def fun(arr):\n",
    "        comb=combinations(arr,2)\n",
    "        count=0\n",
    "        for i in list(comb):\n",
    "            if sum(i)==60:\n",
    "                count+=1\n",
    "        return count\n",
    "fun(arr)\n",
    "    "
   ]
  },
  {
   "cell_type": "code",
   "execution_count": 39,
   "metadata": {},
   "outputs": [
    {
     "name": "stdout",
     "output_type": "stream",
     "text": [
      "[(12, 48), (12, 30), (12, 14), (12, 30), (48, 30), (48, 14), (48, 30), (30, 14), (30, 30), (14, 30)]\n",
      "2\n"
     ]
    }
   ],
   "source": [
    "from itertools import combinations\n",
    "n=int(input())\n",
    "arr=list(map(int, \"12 48 30 14 30\".split()))\n",
    "comb=combinations(arr,2)\n",
    "l=list(comb)\n",
    "print(l)\n",
    "count=0\n",
    "for i in l:\n",
    "    if sum(i)==60:\n",
    "        count+=1\n",
    "print(count)\n"
   ]
  },
  {
   "cell_type": "code",
   "execution_count": 34,
   "metadata": {},
   "outputs": [
    {
     "name": "stdout",
     "output_type": "stream",
     "text": [
      "[12, 13, 14, 15, 16]\n"
     ]
    }
   ],
   "source": [
    "arr=list(map(int, \"12 13 14 15 16\".split()))\n",
    "# if len(arr)==4:\n",
    "print(arr)"
   ]
  },
  {
   "cell_type": "code",
   "execution_count": 40,
   "metadata": {},
   "outputs": [
    {
     "name": "stdout",
     "output_type": "stream",
     "text": [
      "153\n"
     ]
    }
   ],
   "source": [
    "# wap to print the series of armstrong numbers\n",
    "\n",
    "n=153\n",
    "sum=0\n",
    "for i in str(n):\n",
    "    sum+=int(i)**3\n",
    "print(sum)"
   ]
  },
  {
   "cell_type": "code",
   "execution_count": 57,
   "metadata": {},
   "outputs": [
    {
     "data": {
      "text/plain": [
       "'prime'"
      ]
     },
     "execution_count": 57,
     "metadata": {},
     "output_type": "execute_result"
    }
   ],
   "source": [
    "# wap to print the prime numbers\n",
    "def fun(start,n):\n",
    "    for i in range(start,n):\n",
    "        if n==2:\n",
    "            return \"prime\"\n",
    "        if n%i==0:\n",
    "            return \"not prime\"\n",
    "        return \"prime\"\n",
    "fun(2,93)"
   ]
  },
  {
   "cell_type": "code",
   "execution_count": 10,
   "metadata": {},
   "outputs": [
    {
     "name": "stdout",
     "output_type": "stream",
     "text": [
      "0\n"
     ]
    }
   ],
   "source": [
    "#wap to print the numbers contains only 1,4,9\n",
    "\n",
    "for i in range(100,200):\n",
    "    count=0\n",
    "    if str(j) in \"1\":\n",
    "        count+=1\n",
    "print(count)"
   ]
  },
  {
   "cell_type": "code",
   "execution_count": 22,
   "metadata": {},
   "outputs": [
    {
     "name": "stdout",
     "output_type": "stream",
     "text": [
      "9\n"
     ]
    }
   ],
   "source": [
    "count=0\n",
    "for i in range(100,200):\n",
    "    if all(digit in \"149\" for digit in str(i)):\n",
    "        count+=1\n",
    "print(count)\n"
   ]
  },
  {
   "cell_type": "code",
   "execution_count": 20,
   "metadata": {},
   "outputs": [
    {
     "name": "stdout",
     "output_type": "stream",
     "text": [
      "Count of special numbers between 1 and 100: 12\n"
     ]
    }
   ],
   "source": [
    "def count_special_numbers(m, n):\n",
    "    count = 0\n",
    "    for num in range(m, n + 1):\n",
    "        # Convert the number to a string to check its digits\n",
    "        num_str = str(num)\n",
    "        # Check if all digits in the number are 1, 4, or 9\n",
    "        if all(digit in '149' for digit in num_str):\n",
    "            count += 1\n",
    "    return count\n",
    "\n",
    "# Example usage:\n",
    "m = 1\n",
    "n = 100\n",
    "result = count_special_numbers(m, n)\n",
    "print(f\"Count of special numbers between {m} and {n}: {result}\")\n"
   ]
  },
  {
   "cell_type": "code",
   "execution_count": 26,
   "metadata": {},
   "outputs": [
    {
     "data": {
      "text/plain": [
       "12"
      ]
     },
     "execution_count": 26,
     "metadata": {},
     "output_type": "execute_result"
    }
   ],
   "source": [
    "def fun(start,end):\n",
    "    count=0\n",
    "    for i in range(start,end):\n",
    "        if all(digit in \"149\" for digit in str(i)):\n",
    "            count+=1\n",
    "    return count\n",
    "fun(1,100)\n"
   ]
  },
  {
   "cell_type": "code",
   "execution_count": 28,
   "metadata": {},
   "outputs": [
    {
     "name": "stdout",
     "output_type": "stream",
     "text": [
      "False\n"
     ]
    }
   ],
   "source": [
    "#all function\n",
    "\n",
    "#wap to check all the numbres are even\n",
    "\n",
    "l=[2,4,6,8,10,11]\n",
    "res=all(i%2==0 for i in l)\n",
    "print(res)"
   ]
  },
  {
   "cell_type": "code",
   "execution_count": 37,
   "metadata": {},
   "outputs": [
    {
     "data": {
      "text/plain": [
       "2"
      ]
     },
     "execution_count": 37,
     "metadata": {},
     "output_type": "execute_result"
    }
   ],
   "source": [
    "# product of numbers\n",
    "\n",
    "from itertools import combinations\n",
    "from math import prod\n",
    "def fun(pro,len,arr):\n",
    "    count=0\n",
    "    comb=list(combinations(arr,3))\n",
    "    for i in comb:\n",
    "        if prod(i)==pro:\n",
    "            count+=1\n",
    "    return count\n",
    "pro=int(input(\"pro\"))\n",
    "len=int(input(\"len\"))\n",
    "arr=list(map(int,input().split()))\n",
    "fun(pro,len,arr)  "
   ]
  },
  {
   "cell_type": "code",
   "execution_count": 1,
   "metadata": {},
   "outputs": [
    {
     "name": "stdout",
     "output_type": "stream",
     "text": [
      "82\n",
      "2\n"
     ]
    }
   ],
   "source": [
    "def fun(l,lar=0):\n",
    "    for i in l:\n",
    "        if i>lar:\n",
    "            lar=i\n",
    "    print(lar)\n",
    "    print(l.index(lar))\n",
    "l=list(map(int,input().split()))\n",
    "fun(l)\n",
    "    "
   ]
  },
  {
   "cell_type": "code",
   "execution_count": 5,
   "metadata": {},
   "outputs": [
    {
     "data": {
      "text/plain": [
       "72"
      ]
     },
     "execution_count": 5,
     "metadata": {},
     "output_type": "execute_result"
    }
   ],
   "source": [
    "#lcm\n",
    "\n",
    "def lcm(n1,n2):\n",
    "    if n1>n2:\n",
    "        large=n1\n",
    "    else:\n",
    "        large=n2\n",
    "    val=large\n",
    "    while True:\n",
    "        if large%n1==0 and large%n2==0:\n",
    "            lcm1=large\n",
    "            break\n",
    "        large+=val\n",
    "    return lcm1\n",
    "lcm(24,36)"
   ]
  },
  {
   "cell_type": "code",
   "execution_count": 7,
   "metadata": {},
   "outputs": [
    {
     "data": {
      "text/plain": [
       "1"
      ]
     },
     "execution_count": 7,
     "metadata": {},
     "output_type": "execute_result"
    }
   ],
   "source": [
    "#hcf programme\n",
    "\n",
    "def hcf(n1,n2):\n",
    "    if n1<n2:\n",
    "        small=n1\n",
    "    else:\n",
    "        small=n2\n",
    "    for i in range(1,small+1):\n",
    "        if n1%i==0 and n2%i==0:\n",
    "            hcf=i\n",
    "    return hcf\n",
    "hcf(8,13)"
   ]
  },
  {
   "cell_type": "code",
   "execution_count": 9,
   "metadata": {},
   "outputs": [
    {
     "name": "stdout",
     "output_type": "stream",
     "text": [
      "10\n"
     ]
    }
   ],
   "source": [
    "#binary to decimal conversion\n",
    "\n",
    "num=1010\n",
    "bin1=num\n",
    "dec=0\n",
    "base=1\n",
    "while num>0:\n",
    "    rem=num%10\n",
    "    dec=dec+rem*base\n",
    "    num//=10\n",
    "    base*=2\n",
    "print(dec)"
   ]
  },
  {
   "cell_type": "code",
   "execution_count": 8,
   "metadata": {},
   "outputs": [
    {
     "name": "stdout",
     "output_type": "stream",
     "text": [
      "ab 4\n"
     ]
    }
   ],
   "source": [
    "#wap to find the max occurance of the char\n",
    "st=\"abcabdabeabf\"\n",
    "def repeat(st,d={},l=[],max=0):\n",
    "    for i in range(len(st)):\n",
    "        for j in range(i,len(st)+1):\n",
    "            l+=[st[i:j]]\n",
    "    for k in l:\n",
    "        if len(k)==2:\n",
    "            if k not in d:\n",
    "                d[k]=1\n",
    "            else:\n",
    "                d[k]+=1\n",
    "    ch=\"\"\n",
    "    for x in d:\n",
    "        if d[x]>max:\n",
    "            max=d[x]\n",
    "            ch=x\n",
    "    print(ch,max)     \n",
    "repeat(st)\n"
   ]
  },
  {
   "cell_type": "code",
   "execution_count": 10,
   "metadata": {},
   "outputs": [
    {
     "data": {
      "text/plain": [
       "[['a', 3], ['b', 4], ['c', 4]]"
      ]
     },
     "execution_count": 10,
     "metadata": {},
     "output_type": "execute_result"
    }
   ],
   "source": [
    "l=[[\"a\",2],[\"a\",3],[\"a\",1],[\"b\",8],[\"b\",4],[\"c\",5],[\"c\",4]]\n",
    "def occur(l,ch=l[0][0],x=0,m={},i=0):\n",
    "    for i in range(len(l)):\n",
    "        if ch==l[i][0]:\n",
    "            if l[i][1]>x:\n",
    "                x=l[i][1]\n",
    "            if l[i][0] not in m:\n",
    "                m[l[i][0]]=x\n",
    "            else:\n",
    "                m[l[i][0]]=x\n",
    "        else:\n",
    "            ch=l[i][0]\n",
    "            x=0\n",
    "            i-=1\n",
    "    x=[[j,m[j]] for j in m]\n",
    "    return x\n",
    "occur(l)\n",
    "            "
   ]
  },
  {
   "cell_type": "code",
   "execution_count": 11,
   "metadata": {},
   "outputs": [
    {
     "name": "stdout",
     "output_type": "stream",
     "text": [
      "\n",
      "a\n",
      "ab\n",
      "abc\n",
      "abca\n",
      "abcab\n",
      "abcabd\n",
      "abcabda\n",
      "abcabdab\n",
      "\n",
      "b\n",
      "bc\n",
      "bca\n",
      "bcab\n",
      "bcabd\n",
      "bcabda\n",
      "bcabdab\n",
      "\n",
      "c\n",
      "ca\n",
      "cab\n",
      "cabd\n",
      "cabda\n",
      "cabdab\n",
      "\n",
      "a\n",
      "ab\n",
      "abd\n",
      "abda\n",
      "abdab\n",
      "\n",
      "b\n",
      "bd\n",
      "bda\n",
      "bdab\n",
      "\n",
      "d\n",
      "da\n",
      "dab\n",
      "\n",
      "a\n",
      "ab\n",
      "\n",
      "b\n",
      "\n"
     ]
    }
   ],
   "source": [
    "st=\"abcabdabf\"\n",
    "for i in range(len(st)):\n",
    "    for j in range(i,len(st)):\n",
    "        print(st[i:j])"
   ]
  },
  {
   "cell_type": "code",
   "execution_count": 11,
   "metadata": {},
   "outputs": [
    {
     "data": {
      "text/plain": [
       "[2, 1, 1, 2, 1, 1, 1, 1, 2, 2, 1, 1, 1, 1, 1, 1, 1, 1]"
      ]
     },
     "execution_count": 11,
     "metadata": {},
     "output_type": "execute_result"
    }
   ],
   "source": [
    "str1='aabbbccddddeeffeeaa'\n",
    "def comm(str1,occ,l=[],count=0,i=0):\n",
    "    for i in range(len(str1)-occ):\n",
    "        if ord(str1[i])==ord(str1[i+occ]):\n",
    "            count+=1\n",
    "        if ord(str1[i])==ord(str1[i-occ]):\n",
    "            count+=1\n",
    "        l+=[count]\n",
    "        count=0\n",
    "    return l\n",
    "comm(str1,1)\n"
   ]
  },
  {
   "cell_type": "code",
   "execution_count": 18,
   "metadata": {},
   "outputs": [
    {
     "data": {
      "text/plain": [
       "'not'"
      ]
     },
     "execution_count": 18,
     "metadata": {},
     "output_type": "execute_result"
    }
   ],
   "source": [
    "def prime(num,count=0):\n",
    "    for i in range(2,num):\n",
    "        if num%i==0:\n",
    "            count+=1\n",
    "    return [\"not\",\"prime\"][count==0]\n",
    "prime(15)"
   ]
  },
  {
   "cell_type": "code",
   "execution_count": 21,
   "metadata": {},
   "outputs": [
    {
     "data": {
      "text/plain": [
       "45"
      ]
     },
     "execution_count": 21,
     "metadata": {},
     "output_type": "execute_result"
    }
   ],
   "source": [
    "def sum2(num,sum1=0):\n",
    "    for i in range(num):\n",
    "        sum1+=i\n",
    "    return sum1\n",
    "sum2(10)"
   ]
  },
  {
   "cell_type": "code",
   "execution_count": 23,
   "metadata": {},
   "outputs": [
    {
     "data": {
      "text/plain": [
       "120"
      ]
     },
     "execution_count": 23,
     "metadata": {},
     "output_type": "execute_result"
    }
   ],
   "source": [
    "def fact1(num,fact=1):\n",
    "    while num:\n",
    "        fact*=num\n",
    "        num-=1\n",
    "    return fact\n",
    "fact1(5)\n"
   ]
  },
  {
   "cell_type": "code",
   "execution_count": 27,
   "metadata": {},
   "outputs": [
    {
     "data": {
      "text/plain": [
       "'perf'"
      ]
     },
     "execution_count": 27,
     "metadata": {},
     "output_type": "execute_result"
    }
   ],
   "source": [
    "def perf(num,count=0):\n",
    "    for i in range(1,num):\n",
    "        if num%i==0:\n",
    "            count+=i\n",
    "    return [\"not perf\",\"perf\"][num==count]\n",
    "perf(6)\n"
   ]
  },
  {
   "cell_type": "code",
   "execution_count": 48,
   "metadata": {},
   "outputs": [
    {
     "name": "stdout",
     "output_type": "stream",
     "text": [
      "1 2 145 "
     ]
    }
   ],
   "source": [
    "def strong(num1,num2):\n",
    "    for num in range(num1,num2):\n",
    "        sum=0\n",
    "        i=0\n",
    "        temp=num\n",
    "        while i<num:\n",
    "            ld=num%10\n",
    "            fact=1\n",
    "            while ld:\n",
    "                fact=fact*ld\n",
    "                ld-=1\n",
    "            sum+=fact\n",
    "            num//=10\n",
    "        if temp==sum:\n",
    "            print(temp,end=\" \")\n",
    "strong(1,146)"
   ]
  },
  {
   "cell_type": "code",
   "execution_count": 47,
   "metadata": {},
   "outputs": [
    {
     "name": "stdout",
     "output_type": "stream",
     "text": [
      "1 2 3 4 5 6 7 8 9 22 123 132 213 231 312 321 "
     ]
    }
   ],
   "source": [
    "def spy(num1,num2):\n",
    "    for num in range(num1,num2):\n",
    "        fact=1\n",
    "        sum=0\n",
    "        temp=num\n",
    "        while num:\n",
    "            ld=num%10\n",
    "            sum+=ld\n",
    "            fact*=ld\n",
    "            num//=10\n",
    "        if sum==fact:\n",
    "            print(temp,end=\" \")\n",
    "spy(1,1000)\n"
   ]
  },
  {
   "cell_type": "code",
   "execution_count": 4,
   "metadata": {},
   "outputs": [
    {
     "name": "stdout",
     "output_type": "stream",
     "text": [
      "1\n"
     ]
    }
   ],
   "source": [
    "def fun(n):\n",
    "    while n>9:\n",
    "        sum=0\n",
    "        while n:\n",
    "            ld=n%10\n",
    "            sum+=ld\n",
    "            n=n//10\n",
    "        n=sum\n",
    "        # print(sum)\n",
    "    print(sum)\n",
    "fun(145)"
   ]
  }
 ],
 "metadata": {
  "kernelspec": {
   "display_name": "Python 3",
   "language": "python",
   "name": "python3"
  },
  "language_info": {
   "codemirror_mode": {
    "name": "ipython",
    "version": 3
   },
   "file_extension": ".py",
   "mimetype": "text/x-python",
   "name": "python",
   "nbconvert_exporter": "python",
   "pygments_lexer": "ipython3",
   "version": "3.12.2"
  }
 },
 "nbformat": 4,
 "nbformat_minor": 2
}
