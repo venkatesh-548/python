{
 "cells": [
  {
   "cell_type": "code",
   "execution_count": 16,
   "metadata": {},
   "outputs": [
    {
     "name": "stdout",
     "output_type": "stream",
     "text": [
      "10\n",
      "100\n"
     ]
    }
   ],
   "source": [
    "#1 Find Largest element in an array using Python\n",
    "\n",
    "a =[10,23,45,98,23,34,100]\n",
    "def large(l):\n",
    "    lar=l[0]\n",
    "    small=l[0]\n",
    "    for i in range(len(l)):\n",
    "        if lar < l[i]:\n",
    "            lar=l[i]\n",
    "        if small>l[i]:\n",
    "            small=l[i]\n",
    "    print(small)\n",
    "    print(lar)\n",
    "large(a)"
   ]
  },
  {
   "cell_type": "code",
   "execution_count": 18,
   "metadata": {},
   "outputs": [
    {
     "name": "stdout",
     "output_type": "stream",
     "text": [
      "98\n"
     ]
    }
   ],
   "source": [
    "# Find Second Smallest Element in an Array\n",
    "\n",
    "a =[10,23,45,98,23,34,100]\n",
    "def lar(l):\n",
    "    l1=sorted(l)\n",
    "    del l1[-1]\n",
    "    print(l1[-1])\n",
    "lar(a)\n",
    "\n"
   ]
  },
  {
   "cell_type": "code",
   "execution_count": 19,
   "metadata": {},
   "outputs": [
    {
     "data": {
      "text/plain": [
       "256"
      ]
     },
     "execution_count": 19,
     "metadata": {},
     "output_type": "execute_result"
    }
   ],
   "source": [
    "# Calculate the sum of elements in an array \n",
    "arr = [10, 89, 9, 56, 4, 80, 8]\n",
    "def sum(l):\n",
    "    sum=0\n",
    "    for i in l:\n",
    "        sum+=i\n",
    "    return sum\n",
    "sum(arr)\n"
   ]
  },
  {
   "cell_type": "code",
   "execution_count": null,
   "metadata": {},
   "outputs": [],
   "source": [
    "# Sort first half in ascending order and second half in descending\n",
    "\n",
    "arr = [10, 89, 9, 56, 4, 80, 8]\n",
    "def sort(l):\n",
    "    for i in range(0,len(l)/2):\n",
    "        "
   ]
  },
  {
   "cell_type": "code",
   "execution_count": 15,
   "metadata": {},
   "outputs": [
    {
     "name": "stdout",
     "output_type": "stream",
     "text": [
      "{30: 3, 10: 4, 20: 2}\n",
      "[(10, 4), (20, 2), (30, 3)]\n",
      "30\n",
      "10\n",
      "20\n"
     ]
    }
   ],
   "source": [
    "# Finding the frequency of elements in an array\n",
    "\n",
    "l=[30,10, 30, 10, 20, 10, 20, 30, 10]\n",
    "d={}\n",
    "for i in l:\n",
    "    if i not in d:\n",
    "        d[i]=1\n",
    "    else:\n",
    "        d[i]+=1\n",
    "print(d)\n",
    "l2=sorted(d.items())\n",
    "print(l2)\n",
    "\n",
    "# for i in d:\n",
    "\n",
    "#     print(f'{i} : {d[i]}')\n",
    "for k in l2:\n",
    "    m1=1\n",
    "    for m in k:\n",
    "        m1*=m\n",
    "    \n",
    "\n",
    "    \n",
    "\n"
   ]
  },
  {
   "cell_type": "code",
   "execution_count": 1,
   "metadata": {},
   "outputs": [
    {
     "name": "stdout",
     "output_type": "stream",
     "text": [
      "ijkl mnop abcd efgh "
     ]
    }
   ],
   "source": [
    "\n",
    "st=\"abcd efgh ijkl mnop\"\n",
    "l=st.split()\n",
    "for i in range(len(l)):\n",
    "    print(l[i-2],end=\" \")"
   ]
  },
  {
   "cell_type": "code",
   "execution_count": 3,
   "metadata": {},
   "outputs": [
    {
     "name": "stdout",
     "output_type": "stream",
     "text": [
      "spdmcnf frmjfnf esnd adfnjr emdfnjf rokxcnf "
     ]
    }
   ],
   "source": [
    "def fun(le,st,step):\n",
    "    l=st.split()\n",
    "    for i in range(len(l)):\n",
    "        print(l[i-step],end=\" \")\n",
    "le=19\n",
    "st=\"adfnjr emdfnjf rokxcnf spdmcnf frmjfnf esnd\"\n",
    "step=int(input())\n",
    "fun(le,st,step)"
   ]
  },
  {
   "cell_type": "code",
   "execution_count": 6,
   "metadata": {},
   "outputs": [
    {
     "data": {
      "text/plain": [
       "1"
      ]
     },
     "execution_count": 6,
     "metadata": {},
     "output_type": "execute_result"
    }
   ],
   "source": [
    "def perf(n):\n",
    "    i=1\n",
    "    sum=0\n",
    "    while i<n:\n",
    "        if n%i==0:\n",
    "            sum+=i\n",
    "        i+=1\n",
    "    if sum==n:\n",
    "        return 1\n",
    "    else:\n",
    "        return sum\n",
    "perf(28)"
   ]
  },
  {
   "cell_type": "code",
   "execution_count": 9,
   "metadata": {},
   "outputs": [
    {
     "data": {
      "text/plain": [
       "0"
      ]
     },
     "execution_count": 9,
     "metadata": {},
     "output_type": "execute_result"
    }
   ],
   "source": [
    "def fun(st):\n",
    "    if st==st[::-1]:\n",
    "        return 0\n",
    "    else:\n",
    "        return len(st)-1\n",
    "fun(\"abba\")"
   ]
  },
  {
   "cell_type": "code",
   "execution_count": 13,
   "metadata": {},
   "outputs": [
    {
     "name": "stdout",
     "output_type": "stream",
     "text": [
      "THIS\n",
      "IS\n",
      "A\n",
      "TEST\n"
     ]
    }
   ],
   "source": [
    "st=\"thisIsATest\"\n",
    "res=\"\"\n",
    "for i in range(0,len(st)): \n",
    "    if \"A\"<=st[i]<=\"Z\":\n",
    "        print(res.upper())\n",
    "        res=st[i]\n",
    "    else:\n",
    "        res+=st[i]\n",
    "print(res.upper())"
   ]
  },
  {
   "cell_type": "code",
   "execution_count": 2,
   "metadata": {},
   "outputs": [
    {
     "name": "stdout",
     "output_type": "stream",
     "text": [
      "THIS\n",
      "IS\n",
      "A\n",
      "TEST\n"
     ]
    }
   ],
   "source": [
    "#swapcase code\n",
    "st=\"thisIsATest\"\n",
    "def swap(st):\n",
    "    res=\"\"\n",
    "    for i in range(0,len(st)):\n",
    "        if \"A\"<=st[i]<=\"Z\":\n",
    "            print(res.upper())\n",
    "            res=st[i]\n",
    "        else:\n",
    "            res+=st[i]\n",
    "    print(res.upper())\n",
    "swap(st) "
   ]
  },
  {
   "cell_type": "code",
   "execution_count": 34,
   "metadata": {},
   "outputs": [
    {
     "name": "stdout",
     "output_type": "stream",
     "text": [
      "BDF\n",
      "ACE\n"
     ]
    }
   ],
   "source": [
    "def fun(st):\n",
    "    ec=\"\"\n",
    "    oc=\"\"\n",
    "    for i in range(len(st)):\n",
    "        if i%2==0:\n",
    "            ec+=st[i]\n",
    "        else:\n",
    "            oc+=st[i]\n",
    "    print(oc)\n",
    "    print(ec)\n",
    "fun(\"ABCDEF\")\n"
   ]
  },
  {
   "cell_type": "code",
   "execution_count": 39,
   "metadata": {},
   "outputs": [
    {
     "name": "stdout",
     "output_type": "stream",
     "text": [
      "30\n",
      "1\n",
      "30\n"
     ]
    }
   ],
   "source": [
    "l=[14,2,5,1,3,4,1]\n",
    "ts=sum(l)\n",
    "print(ts)\n",
    "ls=0\n",
    "for i in range(0,len(l)):\n",
    "    ts=ts-l[i]\n",
    "    if ts==ls:\n",
    "        print(i)\n",
    "    ls=ls+l[i]\n",
    "print(ls)\n",
    "        "
   ]
  },
  {
   "cell_type": "code",
   "execution_count": 37,
   "metadata": {},
   "outputs": [
    {
     "data": {
      "text/plain": [
       "3"
      ]
     },
     "execution_count": 37,
     "metadata": {},
     "output_type": "execute_result"
    }
   ],
   "source": [
    "#equilibrium\n",
    "\n",
    "def fun(arr):\n",
    "    ts=sum(arr)\n",
    "    ls=0\n",
    "    for i in range(0,len(arr)):\n",
    "        ts=ts-arr[i]\n",
    "        if ts==ls:\n",
    "            return i\n",
    "        ls+=arr[i]\n",
    "    return -1\n",
    "arr=list(map(int,input().split()))\n",
    "fun(arr)"
   ]
  },
  {
   "cell_type": "code",
   "execution_count": 49,
   "metadata": {},
   "outputs": [
    {
     "name": "stdout",
     "output_type": "stream",
     "text": [
      "[1, 2, 3, 4, 5, 6, 7, 8, 9]\n"
     ]
    }
   ],
   "source": [
    "arr=[[3,2,1],[9,5,7],[4,8,6]]\n",
    "l1=[]\n",
    "\n",
    "for i in arr:\n",
    "    for j in i:\n",
    "        l1+=[j]\n",
    "print(sorted(l1))"
   ]
  },
  {
   "cell_type": "code",
   "execution_count": 70,
   "metadata": {},
   "outputs": [
    {
     "data": {
      "text/plain": [
       "5"
      ]
     },
     "execution_count": 70,
     "metadata": {},
     "output_type": "execute_result"
    }
   ],
   "source": [
    "# chocolate distribution\n",
    "from itertools import permutations\n",
    "comb=list(permutations([1,2,3,4,5,6,7,8,9,10,11,12],2))\n",
    "def dist(comb):\n",
    "    count=0\n",
    "    for i in comb:\n",
    "        if i[0]>i[1]:\n",
    "            if sum(i)==12:\n",
    "                count+=1\n",
    "    return count\n",
    "dist(comb)"
   ]
  },
  {
   "cell_type": "code",
   "execution_count": 1,
   "metadata": {},
   "outputs": [
    {
     "name": "stdout",
     "output_type": "stream",
     "text": [
      "(7, 5)\n",
      "(8, 4)\n",
      "(9, 3)\n",
      "(10, 2)\n",
      "(11, 1)\n"
     ]
    },
    {
     "data": {
      "text/plain": [
       "5"
      ]
     },
     "execution_count": 1,
     "metadata": {},
     "output_type": "execute_result"
    }
   ],
   "source": [
    "from itertools import permutations\n",
    "arr=[1,2,3,4,5,6,7,8,9,10,11,12]\n",
    "perm=list(permutations(arr,2))\n",
    "# print(perm)\n",
    "def dist(perm):\n",
    "    count=0\n",
    "    for i in perm:\n",
    "        if i[0]>i[1]:\n",
    "            if sum(i)==12:\n",
    "                count+=1\n",
    "                print(i)\n",
    "    return count\n",
    "dist(perm)"
   ]
  },
  {
   "cell_type": "code",
   "execution_count": 3,
   "metadata": {},
   "outputs": [
    {
     "ename": "IndexError",
     "evalue": "list index out of range",
     "output_type": "error",
     "traceback": [
      "\u001b[1;31m---------------------------------------------------------------------------\u001b[0m",
      "\u001b[1;31mIndexError\u001b[0m                                Traceback (most recent call last)",
      "\u001b[1;32mc:\\Users\\venka\\Documents\\GitHub\\basic-python1\\python-Qspy\\practise\\lists.ipynb Cell 18\u001b[0m line \u001b[0;36m6\n\u001b[0;32m      <a href='vscode-notebook-cell:/c%3A/Users/venka/Documents/GitHub/basic-python1/python-Qspy/practise/lists.ipynb#X23sZmlsZQ%3D%3D?line=3'>4</a>\u001b[0m res\u001b[39m=\u001b[39m[]\n\u001b[0;32m      <a href='vscode-notebook-cell:/c%3A/Users/venka/Documents/GitHub/basic-python1/python-Qspy/practise/lists.ipynb#X23sZmlsZQ%3D%3D?line=4'>5</a>\u001b[0m \u001b[39mwhile\u001b[39;00m m\u001b[39m<\u001b[39m\u001b[39m=\u001b[39m\u001b[39mlen\u001b[39m(l)\u001b[39m-\u001b[39m\u001b[39m1\u001b[39m:\n\u001b[1;32m----> <a href='vscode-notebook-cell:/c%3A/Users/venka/Documents/GitHub/basic-python1/python-Qspy/practise/lists.ipynb#X23sZmlsZQ%3D%3D?line=5'>6</a>\u001b[0m     res\u001b[39m+\u001b[39m\u001b[39m=\u001b[39m[l[m]]\u001b[39m+\u001b[39m[l[n]]\n\u001b[0;32m      <a href='vscode-notebook-cell:/c%3A/Users/venka/Documents/GitHub/basic-python1/python-Qspy/practise/lists.ipynb#X23sZmlsZQ%3D%3D?line=6'>7</a>\u001b[0m     m\u001b[39m+\u001b[39m\u001b[39m=\u001b[39m\u001b[39m1\u001b[39m\n\u001b[0;32m      <a href='vscode-notebook-cell:/c%3A/Users/venka/Documents/GitHub/basic-python1/python-Qspy/practise/lists.ipynb#X23sZmlsZQ%3D%3D?line=7'>8</a>\u001b[0m     n\u001b[39m+\u001b[39m\u001b[39m=\u001b[39m\u001b[39m1\u001b[39m\n",
      "\u001b[1;31mIndexError\u001b[0m: list index out of range"
     ]
    }
   ],
   "source": [
    "l=[1,2,3,4,5,6]\n",
    "m=0\n",
    "n=len(l)//2\n",
    "res=[]\n",
    "while m<=len(l)-1:\n",
    "    res+=[l[m]]+[l[n]]\n",
    "    m+=1\n",
    "    n+=1\n",
    "print(res)"
   ]
  },
  {
   "cell_type": "code",
   "execution_count": 10,
   "metadata": {},
   "outputs": [
    {
     "name": "stdout",
     "output_type": "stream",
     "text": [
      "(2, 1)\n"
     ]
    },
    {
     "data": {
      "text/plain": [
       "2"
      ]
     },
     "execution_count": 10,
     "metadata": {},
     "output_type": "execute_result"
    }
   ],
   "source": [
    "import math\n",
    "def fun(sum1,arr):\n",
    "    if len(arr)<=2:\n",
    "        return 0\n",
    "    from itertools import combinations\n",
    "    l=list(combinations(arr,2))\n",
    "    \n",
    "    for i in sorted(l):\n",
    "        if sum(i)<sum1:\n",
    "            print(i)\n",
    "            mul=math.prod(i)\n",
    "            if mul<sum1:\n",
    "                return mul\n",
    "sum1=9\n",
    "arr=[5,2,4,3,9,7,1]\n",
    "fun(sum1,arr)"
   ]
  },
  {
   "cell_type": "code",
   "execution_count": 11,
   "metadata": {},
   "outputs": [
    {
     "name": "stdout",
     "output_type": "stream",
     "text": [
      "101\n",
      "103\n",
      "107\n",
      "109\n",
      "113\n",
      "113\n"
     ]
    }
   ],
   "source": [
    "def prime(n,m=5):\n",
    "    count=0\n",
    "    for i in range(n+1,n+200):\n",
    "        ct=0\n",
    "        for j in range(2,i):\n",
    "            if i%j==0:\n",
    "                ct+=1\n",
    "        if ct==0:\n",
    "            print(i)\n",
    "            count+=1\n",
    "            if count==m:\n",
    "                print(i)\n",
    "                break\n",
    "prime(97)"
   ]
  },
  {
   "cell_type": "code",
   "execution_count": 30,
   "metadata": {},
   "outputs": [
    {
     "data": {
      "text/plain": [
       "81"
      ]
     },
     "execution_count": 30,
     "metadata": {},
     "output_type": "execute_result"
    }
   ],
   "source": [
    "import math\n",
    "def sqr(n):\n",
    "    sqr=math.isqrt(n)\n",
    "    sqr+=1\n",
    "    nextsqr=sqr**2\n",
    "    return nextsqr\n",
    "sqr(78)\n"
   ]
  },
  {
   "cell_type": "code",
   "execution_count": 28,
   "metadata": {},
   "outputs": [
    {
     "name": "stdout",
     "output_type": "stream",
     "text": [
      "The next perfect square greater than 12 is 16\n"
     ]
    }
   ],
   "source": [
    "import math\n",
    "\n",
    "def find_next_perfect_square(n):\n",
    "    # Find the square root of n\n",
    "    sqrt_n = math.isqrt(n)\n",
    "\n",
    "    # Increment the square root value by 1\n",
    "    sqrt_n += 1\n",
    "\n",
    "    # Find the next perfect square by squaring the incremented value\n",
    "    next_square = sqrt_n ** 2\n",
    "\n",
    "    return next_square\n",
    "\n",
    "# Input from the user\n",
    "n = 12\n",
    "\n",
    "# Find the next perfect square\n",
    "next_square = find_next_perfect_square(n)\n",
    "\n",
    "# Print the result\n",
    "print(f\"The next perfect square greater than {n} is {next_square}\")\n"
   ]
  },
  {
   "cell_type": "code",
   "execution_count": 27,
   "metadata": {},
   "outputs": [
    {
     "name": "stdout",
     "output_type": "stream",
     "text": [
      "2\n"
     ]
    }
   ],
   "source": [
    "import math\n",
    "print(math.isqrt(7))"
   ]
  },
  {
   "cell_type": "code",
   "execution_count": 3,
   "metadata": {},
   "outputs": [
    {
     "name": "stdout",
     "output_type": "stream",
     "text": [
      "{4: 4, 6: 1, 3: 4, 8: 1}\n"
     ]
    },
    {
     "data": {
      "text/plain": [
       "[4, 3]"
      ]
     },
     "execution_count": 3,
     "metadata": {},
     "output_type": "execute_result"
    }
   ],
   "source": [
    "#Extract elements with Frequency greater than K\n",
    "l=[4, 6, 4, 3, 3, 4, 3, 4, 3, 8]\n",
    "k=3\n",
    "def freq(l,k,d={},l1=[]):\n",
    "    for i in l:\n",
    "        if i not in d:\n",
    "            d[i]=1\n",
    "        else:\n",
    "            d[i]+=1\n",
    "    print(d)\n",
    "    for j in d:\n",
    "        if d[j]>k:\n",
    "            l1.append(j)\n",
    "    return l1\n",
    "freq(l,k)\n",
    "\n"
   ]
  },
  {
   "cell_type": "code",
   "execution_count": 7,
   "metadata": {},
   "outputs": [
    {
     "name": "stdout",
     "output_type": "stream",
     "text": [
      "False\n"
     ]
    }
   ],
   "source": [
    "#Test if List contains elements in Range\n",
    "l=[4, 5, 6, 7, 3, 9,1]\n",
    "i,j=3,10\n",
    "for k in l:\n",
    "    if k<i or k>j:\n",
    "        res=False\n",
    "        break\n",
    "    res=True\n",
    "print(res)"
   ]
  },
  {
   "cell_type": "code",
   "execution_count": 11,
   "metadata": {},
   "outputs": [
    {
     "name": "stdout",
     "output_type": "stream",
     "text": [
      "1 22 "
     ]
    }
   ],
   "source": [
    "# Python program to check if the list contains three consecutive common numbers in Python\n",
    "\n",
    "l=[1, 1, 1, 64, 23, 64, 22, 22, 22]\n",
    "def cons(l):\n",
    "    len1=len(l)\n",
    "    for i in range(len1-2):\n",
    "        if (l[i]==l[i+1]) and l[i+1]==l[i+2]:\n",
    "            print(l[i],end=\" \")\n",
    "cons(l)\n",
    "\n"
   ]
  },
  {
   "cell_type": "code",
   "execution_count": 16,
   "metadata": {},
   "outputs": [
    {
     "name": "stdout",
     "output_type": "stream",
     "text": [
      "5 "
     ]
    }
   ],
   "source": [
    "# Python program to find the Strongest Neighbour\n",
    "l=[1,2,2,3,4,5]\n",
    "l=[5,5]\n",
    "def neib(l):\n",
    "    for i in range(len(l)-1):\n",
    "        if l[i]<=l[i+1]:\n",
    "            print(l[i+1],end=\" \")\n",
    "neib(l)"
   ]
  },
  {
   "cell_type": "code",
   "execution_count": 21,
   "metadata": {},
   "outputs": [
    {
     "name": "stdout",
     "output_type": "stream",
     "text": [
      "1 2 3\n",
      "1 3 2\n",
      "2 1 3\n",
      "2 3 1\n",
      "3 1 2\n",
      "3 2 1\n",
      "[(1, 2, 3), (1, 3, 2), (2, 1, 3), (2, 3, 1), (3, 1, 2), (3, 2, 1)]\n"
     ]
    }
   ],
   "source": [
    "# Python Program to print all Possible Combinations from the three Digits\n",
    "l=[1,2,3]\n",
    "def comb(l):\n",
    "    for i in range(3):\n",
    "        for j in range(3):\n",
    "            for k in range(3):\n",
    "                if i!=j and j!=k and k!=i:\n",
    "                    print(l[i],l[j],l[k])\n",
    "comb(l)\n",
    "\n",
    "from itertools import permutations\n",
    "l=[1,2,3]\n",
    "comb=list(permutations(l,3))\n",
    "print(comb)\n"
   ]
  },
  {
   "cell_type": "code",
   "execution_count": null,
   "metadata": {},
   "outputs": [],
   "source": [
    "#  Get all possible combinations of a list’s elements using combinations\n",
    "\n",
    "from itertools import combinations\n",
    "l=[1,2,3]\n",
    "comb=list(combinations(l,2))\n",
    "count=0\n",
    "for i in comb:\n",
    "    count+=1\n",
    "    "
   ]
  },
  {
   "cell_type": "code",
   "execution_count": 3,
   "metadata": {},
   "outputs": [
    {
     "name": "stdout",
     "output_type": "stream",
     "text": [
      "\n",
      "\n",
      "\n",
      "\n",
      "\n",
      "\n",
      "\n",
      "\n",
      "\n",
      "\n",
      "\n",
      "\n"
     ]
    },
    {
     "ename": "IndexError",
     "evalue": "string index out of range",
     "output_type": "error",
     "traceback": [
      "\u001b[1;31m---------------------------------------------------------------------------\u001b[0m",
      "\u001b[1;31mIndexError\u001b[0m                                Traceback (most recent call last)",
      "\u001b[1;32mc:\\Users\\venka\\Documents\\GitHub\\basic-python1\\python-Qspy\\practise\\lists.ipynb Cell 30\u001b[0m line \u001b[0;36m4\n\u001b[0;32m      <a href='vscode-notebook-cell:/c%3A/Users/venka/Documents/GitHub/basic-python1/python-Qspy/practise/lists.ipynb#X41sZmlsZQ%3D%3D?line=1'>2</a>\u001b[0m res\u001b[39m=\u001b[39m\u001b[39m'\u001b[39m\u001b[39m'\u001b[39m\n\u001b[0;32m      <a href='vscode-notebook-cell:/c%3A/Users/venka/Documents/GitHub/basic-python1/python-Qspy/practise/lists.ipynb#X41sZmlsZQ%3D%3D?line=2'>3</a>\u001b[0m \u001b[39mfor\u001b[39;00m i \u001b[39min\u001b[39;00m \u001b[39mrange\u001b[39m(\u001b[39mlen\u001b[39m(s)):\n\u001b[1;32m----> <a href='vscode-notebook-cell:/c%3A/Users/venka/Documents/GitHub/basic-python1/python-Qspy/practise/lists.ipynb#X41sZmlsZQ%3D%3D?line=3'>4</a>\u001b[0m     \u001b[39mif\u001b[39;00m i\u001b[39m==\u001b[39m\u001b[39mlen\u001b[39m(s)\u001b[39m-\u001b[39m\u001b[39m1\u001b[39m \u001b[39mand\u001b[39;00m \u001b[39mchr\u001b[39m(\u001b[39mord\u001b[39m(s[i]))\u001b[39m==\u001b[39m\u001b[39mchr\u001b[39m(\u001b[39mord\u001b[39m(s[i\u001b[39m+\u001b[39;49m\u001b[39m1\u001b[39;49m])\u001b[39m-\u001b[39m\u001b[39m1\u001b[39m):\n\u001b[0;32m      <a href='vscode-notebook-cell:/c%3A/Users/venka/Documents/GitHub/basic-python1/python-Qspy/practise/lists.ipynb#X41sZmlsZQ%3D%3D?line=4'>5</a>\u001b[0m         res\u001b[39m+\u001b[39m\u001b[39m=\u001b[39ms[i]\n\u001b[0;32m      <a href='vscode-notebook-cell:/c%3A/Users/venka/Documents/GitHub/basic-python1/python-Qspy/practise/lists.ipynb#X41sZmlsZQ%3D%3D?line=5'>6</a>\u001b[0m     \u001b[39melif\u001b[39;00m \u001b[39mchr\u001b[39m(\u001b[39mord\u001b[39m(s[i])\u001b[39m+\u001b[39m\u001b[39m1\u001b[39m)\u001b[39m==\u001b[39m\u001b[39mchr\u001b[39m(\u001b[39mord\u001b[39m(s[i])):\n",
      "\u001b[1;31mIndexError\u001b[0m: string index out of range"
     ]
    }
   ],
   "source": [
    "s=\"abcdepqrstxyz\"\n",
    "res=''\n",
    "for i in range(len(s)):\n",
    "    if i==len(s)-1 and chr(ord(s[i]))==chr(ord(s[i+1])-1):\n",
    "        res+=s[i]\n",
    "    elif chr(ord(s[i])+1)==chr(ord(s[i])):\n",
    "        res+=s[i]\n",
    "    else:\n",
    "        print(res)\n",
    "    \n"
   ]
  }
 ],
 "metadata": {
  "kernelspec": {
   "display_name": "Python 3",
   "language": "python",
   "name": "python3"
  },
  "language_info": {
   "codemirror_mode": {
    "name": "ipython",
    "version": 3
   },
   "file_extension": ".py",
   "mimetype": "text/x-python",
   "name": "python",
   "nbconvert_exporter": "python",
   "pygments_lexer": "ipython3",
   "version": "3.11.4"
  }
 },
 "nbformat": 4,
 "nbformat_minor": 2
}
