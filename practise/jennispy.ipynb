{
 "cells": [
  {
   "cell_type": "code",
   "execution_count": 1,
   "metadata": {},
   "outputs": [
    {
     "name": "stdout",
     "output_type": "stream",
     "text": [
      "First program-Python print function\n",
      "It is declared like this:\n",
      "print('what to print')\n"
     ]
    }
   ],
   "source": [
    "# 1wap to print like\n",
    "#First program-Python print function\n",
    "#It is declared like this:\n",
    "#print('what to print')\n",
    "\n",
    "print('First program-Python print function')\n",
    "print(\"It is declared like this:\")\n",
    "print(\"print('what to print')\")"
   ]
  },
  {
   "cell_type": "code",
   "execution_count": 2,
   "metadata": {},
   "outputs": [
    {
     "name": "stdout",
     "output_type": "stream",
     "text": [
      "a 2\n",
      "b 1\n"
     ]
    }
   ],
   "source": [
    "#2 wap to swap the two numbers\n",
    "\n",
    "a=int(input(\"enter value of a:\"))#1\n",
    "b=int(input(\"enter value of b:\"))#2\n",
    "#a,b=b,a\n",
    "temp=a\n",
    "a=b\n",
    "b=temp\n",
    "print(\"a\",a)\n",
    "print(\"b\",b)"
   ]
  },
  {
   "cell_type": "code",
   "execution_count": 4,
   "metadata": {},
   "outputs": [
    {
     "name": "stdout",
     "output_type": "stream",
     "text": [
      "7\n"
     ]
    }
   ],
   "source": [
    "#3 wap to add the digits\n",
    "\n",
    "n=input(\"enter a number:\")\n",
    "sum=int(n[0])+int(n[1])\n",
    "print(sum)"
   ]
  },
  {
   "cell_type": "code",
   "execution_count": 5,
   "metadata": {},
   "outputs": [
    {
     "name": "stdout",
     "output_type": "stream",
     "text": [
      "the bmi is:  23\n"
     ]
    }
   ],
   "source": [
    "# 4 wap to calculate the bmi\n",
    "\n",
    "hei=float(input(\"enter height:\")) #height should enter in meters only\n",
    "wei=int(input(\"enter weight:\")) #weight kgs only\n",
    "bmi=int(wei/hei**2)\n",
    "print(f'the bmi is: ',bmi)"
   ]
  },
  {
   "cell_type": "code",
   "execution_count": 6,
   "metadata": {},
   "outputs": [
    {
     "name": "stdout",
     "output_type": "stream",
     "text": [
      "you hava remaing 67 years and 3484 weeks and 24388 days\n"
     ]
    }
   ],
   "source": [
    "#5 wap to findout how mant days and years rom your age\n",
    "\n",
    "age=int(input(\"enter age:\"))\n",
    "total=90\n",
    "left=total-age\n",
    "years=left\n",
    "weeks=years*52\n",
    "days=weeks*7\n",
    "print(f'you hava remaing {years} years and {weeks} weeks and {days} days')"
   ]
  },
  {
   "cell_type": "code",
   "execution_count": 8,
   "metadata": {},
   "outputs": [
    {
     "name": "stdout",
     "output_type": "stream",
     "text": [
      "the given number 13 is odd\n"
     ]
    }
   ],
   "source": [
    "#6 wap to check wheather the number is even or odd\n",
    "\n",
    "n=int(input(\"enter a number:\"))\n",
    "if n%2==0:\n",
    "    print(f'the given number {n} is even')\n",
    "else:\n",
    "    print(f'the given number {n} is odd')\n"
   ]
  },
  {
   "cell_type": "code",
   "execution_count": 15,
   "metadata": {},
   "outputs": [
    {
     "name": "stdout",
     "output_type": "stream",
     "text": [
      "your BMI is 27.1 and you are overweight(pre-obese)\n"
     ]
    }
   ],
   "source": [
    "# 7 wap to give the bmi result\n",
    "\n",
    "hei=float(input(\"enter height:\")) #height should enter in meters only\n",
    "wei=int(input(\"enter weight:\")) #weight kgs only\n",
    "bm=float(wei/(hei**2))\n",
    "bmi=round(bm,1)\n",
    "if bmi<16.0:\n",
    "    print(f'your BMI is {bmi} and you are Underweight(serve thinness)')\n",
    "elif 16.0<=bmi<=16.9:\n",
    "    print(f'your BMI is {bmi} and you are Underweight(moderate thinness)')\n",
    "elif 17.0<=bmi<=18.4:\n",
    "    print(f'your BMI is {bmi} and you are Underweight(mild thinness)')\n",
    "elif 18.5<=bmi<=24.9:\n",
    "    print(f'your BMI is {bmi} and you are Normal weight')\n",
    "elif 25.0<=bmi<=29.9:\n",
    "    print(f'your BMI is {bmi} and you are overweight(pre-obese)')\n",
    "elif 30.0<=bmi<=34.9:\n",
    "    print(f'your BMI is {bmi} and you are overweight(class-1)')\n",
    "elif 35.0<=bmi<=39.9:\n",
    "    print(f'your BMI is {bmi} and you are overweight(class-2)')\n",
    "elif bmi>=40.0:\n",
    "    print(f'your BMI is {bmi} and you are overweight(class-3)')\n",
    "else:\n",
    "    print(\"enter a valid details\")\n"
   ]
  },
  {
   "cell_type": "code",
   "execution_count": 17,
   "metadata": {},
   "outputs": [
    {
     "name": "stdout",
     "output_type": "stream",
     "text": [
      "not leap year\n"
     ]
    }
   ],
   "source": [
    "# 8 wap to check wheather the given year is leap or not\n",
    "year=int(input(\"enter a year:\"))\n",
    "if year%4==0:\n",
    "    if year%100==0:\n",
    "        if year%400==0:\n",
    "            print(\"leap year\")\n",
    "        else:\n",
    "            print(\"not leap year\")\n",
    "    else:\n",
    "        print(\"leap year\")\n",
    "else:\n",
    "    print(\"not leap year\")\n"
   ]
  },
  {
   "cell_type": "code",
   "execution_count": 10,
   "metadata": {},
   "outputs": [
    {
     "name": "stdout",
     "output_type": "stream",
     "text": [
      "220\n"
     ]
    }
   ],
   "source": [
    "# 9 pizzza order program\n",
    "\n",
    "pizz=input(\"choose the size of the pizza(S/M/L)?\")\n",
    "bill=0\n",
    "if (pizz==\"s\" or pizz==\"S\"):\n",
    "    bill+=100\n",
    "elif (pizz==\"m\"or pizz==\"M\"):\n",
    "    bill+=200\n",
    "elif (pizz==\"l\" or pizz==\"L\"):\n",
    "    bill+=300\n",
    "else:\n",
    "    (\"none\")\n",
    "add_perp=input(\"do you want to add perponi (y/n)?\")\n",
    "if add_perp==\"y\" or add_perp==\"Y\":\n",
    "    if (pizz==\"s\" or pizz==\"S\"):\n",
    "        bill+=20\n",
    "    else:\n",
    "        bill+=50\n",
    "else:\n",
    "    bill+=0\n",
    "ext_che=input(\"do you want extra cheese(y/n)?\")\n",
    "if ext_che==\"y\" or ext_che==\"Y\":\n",
    "    bill+=20\n",
    "print(bill)\n",
    "\n"
   ]
  },
  {
   "cell_type": "code",
   "execution_count": 16,
   "metadata": {},
   "outputs": [
    {
     "name": "stdout",
     "output_type": "stream",
     "text": [
      "33\n"
     ]
    }
   ],
   "source": [
    "#10 wap to print love calculator\n",
    "\n",
    "name1=input(\"enter name1:\")\n",
    "name2=input(\"enter name2:\")\n",
    "name=name1+name2\n",
    "name=name.lower()\n",
    "t=name.count(\"t\")\n",
    "r=name.count(\"r\")\n",
    "u=name.count(\"u\")\n",
    "e=name.count(\"e\")\n",
    "true=t+r+u+e\n",
    "l=name.count(\"l\")\n",
    "o=name.count(\"o\")\n",
    "v=name.count(\"v\")\n",
    "e=name.count(\"e\")\n",
    "love=l+o+v+e\n",
    "print(str(true)+str(love))"
   ]
  },
  {
   "cell_type": "code",
   "execution_count": 28,
   "metadata": {},
   "outputs": [
    {
     "name": "stdout",
     "output_type": "stream",
     "text": [
      "10\n",
      "4\n",
      "0.9333287213586609\n",
      "2.9850313204679444\n",
      "2\n",
      "[5, 1, 2, 3, 4]\n"
     ]
    }
   ],
   "source": [
    "#random module\n",
    "import random\n",
    "print(random.randint(1,10))# it genatate one random number between 1to 10\n",
    "print(random.randrange(1,5))# it genaretes upto 4 only\n",
    "print(random.random())\n",
    "print(random.uniform(1,5))\n",
    "print(random.choice([1,2,3,4,5]))\n",
    "l1=[1,2,3,4,5]\n",
    "random.shuffle(l1)\n",
    "print(l1)"
   ]
  },
  {
   "cell_type": "code",
   "execution_count": 9,
   "metadata": {},
   "outputs": [
    {
     "name": "stdout",
     "output_type": "stream",
     "text": [
      "tails\n"
     ]
    }
   ],
   "source": [
    "import random\n",
    "side=random.randint(0,1)\n",
    "if side==0:\n",
    "    print(\"heads\")\n",
    "else:\n",
    "    print(\"tails\")"
   ]
  },
  {
   "cell_type": "code",
   "execution_count": 8,
   "metadata": {},
   "outputs": [
    {
     "name": "stdout",
     "output_type": "stream",
     "text": [
      "rohit\n",
      "rohit\n"
     ]
    }
   ],
   "source": [
    "import random\n",
    "l=[\"rohit\",\"gill\",\"virat\",\"rahul\",\"iyer\"]\n",
    "x=random.choice(l)\n",
    "print(x)"
   ]
  },
  {
   "cell_type": "code",
   "execution_count": null,
   "metadata": {},
   "outputs": [],
   "source": []
  }
 ],
 "metadata": {
  "kernelspec": {
   "display_name": "Python 3",
   "language": "python",
   "name": "python3"
  },
  "language_info": {
   "codemirror_mode": {
    "name": "ipython",
    "version": 3
   },
   "file_extension": ".py",
   "mimetype": "text/x-python",
   "name": "python",
   "nbconvert_exporter": "python",
   "pygments_lexer": "ipython3",
   "version": "3.11.4"
  },
  "orig_nbformat": 4
 },
 "nbformat": 4,
 "nbformat_minor": 2
}
