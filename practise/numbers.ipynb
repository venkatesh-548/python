{
 "cells": [
  {
   "cell_type": "code",
   "execution_count": 9,
   "metadata": {},
   "outputs": [
    {
     "name": "stdout",
     "output_type": "stream",
     "text": [
      "not a prime\n"
     ]
    }
   ],
   "source": [
    "#prime number \n",
    "def prime(num):\n",
    "    # i=2\n",
    "    count=0\n",
    "    for i in range(1,num+1):\n",
    "        if num%i==0:\n",
    "            count+=1\n",
    "    if count==2:\n",
    "        print('prime number')\n",
    "    else:\n",
    "        print('not a prime')\n",
    "prime(201)"
   ]
  },
  {
   "cell_type": "code",
   "execution_count": 12,
   "metadata": {},
   "outputs": [
    {
     "data": {
      "text/plain": [
       "720"
      ]
     },
     "execution_count": 12,
     "metadata": {},
     "output_type": "execute_result"
    }
   ],
   "source": [
    "#factorial\n",
    "def fact(num):\n",
    "    fac=1\n",
    "    for i in range(1,num+1):\n",
    "        fac=fac*i\n",
    "    return fac\n",
    "fact(6)\n"
   ]
  },
  {
   "cell_type": "code",
   "execution_count": 24,
   "metadata": {},
   "outputs": [
    {
     "name": "stdout",
     "output_type": "stream",
     "text": [
      "3\n",
      "armstrong\n"
     ]
    }
   ],
   "source": [
    "# Program to check Armstrong Number\n",
    "def armstrong(num):\n",
    "    num1=num\n",
    "    tot=0\n",
    "    print(len(str(num)))\n",
    "    while num:\n",
    "        ld=num%10\n",
    "        tot=tot+ld**3\n",
    "        num//=10\n",
    "    if num1==tot:\n",
    "        print('armstrong')\n",
    "    else:\n",
    "        print(\"not armstrong\")\n",
    "armstrong(371)\n"
   ]
  },
  {
   "cell_type": "code",
   "execution_count": 28,
   "metadata": {},
   "outputs": [
    {
     "name": "stdout",
     "output_type": "stream",
     "text": [
      "2 3 5 7 11 13 17 19 23 29 31 37 41 43 47 53 59 61 67 71 73 79 83 89 97 "
     ]
    }
   ],
   "source": [
    "#prime numbers 1-100\n",
    "\n",
    "def primes(num):\n",
    "    for i in range(1,num):\n",
    "        count=0\n",
    "        for j in range(1,i+1):\n",
    "            if i%j==0:\n",
    "                count+=1\n",
    "        if count==2:\n",
    "            print(i,end=' ')\n",
    "primes(100)"
   ]
  },
  {
   "cell_type": "code",
   "execution_count": 31,
   "metadata": {},
   "outputs": [
    {
     "name": "stdout",
     "output_type": "stream",
     "text": [
      "strong\n"
     ]
    }
   ],
   "source": [
    "#strong number\n",
    "\n",
    "def strong(num):\n",
    "    num1=num\n",
    "    sum=0\n",
    "    while num:\n",
    "        ld=num%10\n",
    "        fact=1\n",
    "        for i in range(1,ld+1):\n",
    "            fact*=i\n",
    "        sum+=fact\n",
    "        num//=10\n",
    "    if sum==num1:\n",
    "        print('strong')\n",
    "    else:\n",
    "        print('not stronng')\n",
    "strong(145)\n",
    "\n",
    "        \n"
   ]
  }
 ],
 "metadata": {
  "kernelspec": {
   "display_name": "Python 3",
   "language": "python",
   "name": "python3"
  },
  "language_info": {
   "codemirror_mode": {
    "name": "ipython",
    "version": 3
   },
   "file_extension": ".py",
   "mimetype": "text/x-python",
   "name": "python",
   "nbconvert_exporter": "python",
   "pygments_lexer": "ipython3",
   "version": "3.12.2"
  }
 },
 "nbformat": 4,
 "nbformat_minor": 2
}
