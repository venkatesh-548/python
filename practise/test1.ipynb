{
 "cells": [
  {
   "cell_type": "code",
   "execution_count": 1,
   "metadata": {},
   "outputs": [
    {
     "name": "stdout",
     "output_type": "stream",
     "text": [
      "541\n"
     ]
    }
   ],
   "source": [
    "n=145\n",
    "rev=0\n",
    "while n:\n",
    "    x=n%10\n",
    "    rev=((rev*10)+x)\n",
    "    n=n//10\n",
    "print(rev)"
   ]
  },
  {
   "cell_type": "code",
   "execution_count": 7,
   "metadata": {},
   "outputs": [
    {
     "name": "stdout",
     "output_type": "stream",
     "text": [
      "145 145\n",
      "strong numbr\n"
     ]
    }
   ],
   "source": [
    "n=145\n",
    "t=n\n",
    "s=0\n",
    "while n:\n",
    "    x=n%10\n",
    "    a=1\n",
    "    b=1\n",
    "    while a<=x:\n",
    "        b*=a\n",
    "        a+=1\n",
    "    n//=10 \n",
    "    s=s+b\n",
    "print(s,t)\n",
    "res=['not a strong number','strong numbr'][s==t]\n",
    "print(res)"
   ]
  },
  {
   "cell_type": "code",
   "execution_count": 9,
   "metadata": {},
   "outputs": [
    {
     "name": "stdout",
     "output_type": "stream",
     "text": [
      "1\n",
      "2\n",
      "31\n",
      "62\n"
     ]
    }
   ],
   "source": [
    "n=62\n",
    "i=1\n",
    "while i<=n:\n",
    "    if n%i==0 and i%2==0:\n",
    "        print(i)\n",
    "    i+=1"
   ]
  },
  {
   "cell_type": "code",
   "execution_count": 10,
   "metadata": {},
   "outputs": [
    {
     "name": "stdout",
     "output_type": "stream",
     "text": [
      "prime number\n"
     ]
    }
   ],
   "source": [
    "n=11\n",
    "i=1\n",
    "c=0\n",
    "while i<=n:\n",
    "    if n%i==0:\n",
    "        c+=1\n",
    "    i+=1\n",
    "if c==2:\n",
    "    print('prime number')\n",
    "else:\n",
    "    print('not a prime')"
   ]
  },
  {
   "cell_type": "code",
   "execution_count": 11,
   "metadata": {},
   "outputs": [
    {
     "name": "stdout",
     "output_type": "stream",
     "text": [
      "945\n"
     ]
    }
   ],
   "source": [
    "n=65\n",
    "i=25\n",
    "res=0\n",
    "while i<=n:\n",
    "    if i%2 !=0:\n",
    "        res+=i\n",
    "    i+=1 \n",
    "print(res)"
   ]
  },
  {
   "cell_type": "code",
   "execution_count": 13,
   "metadata": {},
   "outputs": [
    {
     "name": "stdout",
     "output_type": "stream",
     "text": [
      "15\n",
      "14\n",
      "13\n",
      "12\n",
      "11\n",
      "10\n",
      "9\n",
      "8\n",
      "7\n",
      "6\n",
      "5\n",
      "4\n",
      "3\n",
      "2\n",
      "1\n"
     ]
    }
   ],
   "source": [
    "n=15\n",
    "i=0\n",
    "while i<n:\n",
    "    print(n-i)\n",
    "    i+=1"
   ]
  },
  {
   "cell_type": "code",
   "execution_count": 16,
   "metadata": {},
   "outputs": [
    {
     "name": "stdout",
     "output_type": "stream",
     "text": [
      "sum 12\n",
      "1\n",
      "2\n",
      "3\n",
      "4\n",
      "6\n",
      "12\n"
     ]
    }
   ],
   "source": [
    "n=723\n",
    "s=0\n",
    "while n:\n",
    "    x=n%10\n",
    "    s+=x\n",
    "    n=n//10\n",
    "print('sum',s)\n",
    "i=1\n",
    "while i<=s:\n",
    "    if s%i==0:\n",
    "        print(i)\n",
    "    i+=1"
   ]
  },
  {
   "cell_type": "code",
   "execution_count": 71,
   "metadata": {},
   "outputs": [
    {
     "name": "stdout",
     "output_type": "stream",
     "text": [
      "2 6 24 120 720 5040 40320 362880 "
     ]
    }
   ],
   "source": [
    "#wap to print the series of the factorial numbers in range using nested function\n",
    "\n",
    "def fun(start,end):\n",
    "    for i in range(start,end):\n",
    "        n=i\n",
    "        def fact(n):\n",
    "            fact=1\n",
    "            if n==1:\n",
    "                return 0\n",
    "            else:\n",
    "                i=1\n",
    "                while i<=n:\n",
    "                    fact*=i\n",
    "                    i+=1\n",
    "                print(fact,end=\" \")\n",
    "        fact(n)\n",
    "fun(1,10)"
   ]
  },
  {
   "cell_type": "code",
   "execution_count": 13,
   "metadata": {},
   "outputs": [
    {
     "name": "stdout",
     "output_type": "stream",
     "text": [
      "1 2 6 24 120 720 5040 40320 "
     ]
    }
   ],
   "source": [
    "def fun(start,end):\n",
    "    for i in range(start,end):\n",
    "        n=i\n",
    "        fact=1\n",
    "        i=1\n",
    "        while i<n:\n",
    "            fact=fact*i\n",
    "            i+=1\n",
    "        print(fact,end=\" \")\n",
    "fun(2,10)\n"
   ]
  },
  {
   "cell_type": "code",
   "execution_count": 66,
   "metadata": {},
   "outputs": [
    {
     "name": "stdout",
     "output_type": "stream",
     "text": [
      "2 "
     ]
    }
   ],
   "source": [
    "def fact(n):\n",
    "    fact=1\n",
    "    if n==1:\n",
    "        return 0\n",
    "    else:\n",
    "        i=1\n",
    "        while i<=n:\n",
    "            fact*=i\n",
    "            i+=1\n",
    "        print(fact,end=\" \")\n",
    "fact(2)"
   ]
  },
  {
   "cell_type": "code",
   "execution_count": 31,
   "metadata": {},
   "outputs": [
    {
     "name": "stdout",
     "output_type": "stream",
     "text": [
      "1 x 1 = 1\n",
      "1 x 2 = 2\n",
      "1 x 3 = 3\n",
      "1 x 4 = 4\n",
      "1 x 5 = 5\n",
      "1 x 6 = 6\n",
      "1 x 7 = 7\n",
      "1 x 8 = 8\n",
      "1 x 9 = 9\n",
      "1 x 10 = 10\n",
      "\n",
      "2 x 1 = 2\n",
      "2 x 2 = 4\n",
      "2 x 3 = 6\n",
      "2 x 4 = 8\n",
      "2 x 5 = 10\n",
      "2 x 6 = 12\n",
      "2 x 7 = 14\n",
      "2 x 8 = 16\n",
      "2 x 9 = 18\n",
      "2 x 10 = 20\n",
      "\n",
      "3 x 1 = 3\n",
      "3 x 2 = 6\n",
      "3 x 3 = 9\n",
      "3 x 4 = 12\n",
      "3 x 5 = 15\n",
      "3 x 6 = 18\n",
      "3 x 7 = 21\n",
      "3 x 8 = 24\n",
      "3 x 9 = 27\n",
      "3 x 10 = 30\n",
      "\n",
      "4 x 1 = 4\n",
      "4 x 2 = 8\n",
      "4 x 3 = 12\n",
      "4 x 4 = 16\n",
      "4 x 5 = 20\n",
      "4 x 6 = 24\n",
      "4 x 7 = 28\n",
      "4 x 8 = 32\n",
      "4 x 9 = 36\n",
      "4 x 10 = 40\n",
      "\n",
      "5 x 1 = 5\n",
      "5 x 2 = 10\n",
      "5 x 3 = 15\n",
      "5 x 4 = 20\n",
      "5 x 5 = 25\n",
      "5 x 6 = 30\n",
      "5 x 7 = 35\n",
      "5 x 8 = 40\n",
      "5 x 9 = 45\n",
      "5 x 10 = 50\n",
      "\n",
      "6 x 1 = 6\n",
      "6 x 2 = 12\n",
      "6 x 3 = 18\n",
      "6 x 4 = 24\n",
      "6 x 5 = 30\n",
      "6 x 6 = 36\n",
      "6 x 7 = 42\n",
      "6 x 8 = 48\n",
      "6 x 9 = 54\n",
      "6 x 10 = 60\n",
      "\n",
      "7 x 1 = 7\n",
      "7 x 2 = 14\n",
      "7 x 3 = 21\n",
      "7 x 4 = 28\n",
      "7 x 5 = 35\n",
      "7 x 6 = 42\n",
      "7 x 7 = 49\n",
      "7 x 8 = 56\n",
      "7 x 9 = 63\n",
      "7 x 10 = 70\n",
      "\n",
      "8 x 1 = 8\n",
      "8 x 2 = 16\n",
      "8 x 3 = 24\n",
      "8 x 4 = 32\n",
      "8 x 5 = 40\n",
      "8 x 6 = 48\n",
      "8 x 7 = 56\n",
      "8 x 8 = 64\n",
      "8 x 9 = 72\n",
      "8 x 10 = 80\n",
      "\n",
      "9 x 1 = 9\n",
      "9 x 2 = 18\n",
      "9 x 3 = 27\n",
      "9 x 4 = 36\n",
      "9 x 5 = 45\n",
      "9 x 6 = 54\n",
      "9 x 7 = 63\n",
      "9 x 8 = 72\n",
      "9 x 9 = 81\n",
      "9 x 10 = 90\n",
      "\n",
      "10 x 1 = 10\n",
      "10 x 2 = 20\n",
      "10 x 3 = 30\n",
      "10 x 4 = 40\n",
      "10 x 5 = 50\n",
      "10 x 6 = 60\n",
      "10 x 7 = 70\n",
      "10 x 8 = 80\n",
      "10 x 9 = 90\n",
      "10 x 10 = 100\n",
      "\n",
      "11 x 1 = 11\n",
      "11 x 2 = 22\n",
      "11 x 3 = 33\n",
      "11 x 4 = 44\n",
      "11 x 5 = 55\n",
      "11 x 6 = 66\n",
      "11 x 7 = 77\n",
      "11 x 8 = 88\n",
      "11 x 9 = 99\n",
      "11 x 10 = 110\n",
      "\n",
      "12 x 1 = 12\n",
      "12 x 2 = 24\n",
      "12 x 3 = 36\n",
      "12 x 4 = 48\n",
      "12 x 5 = 60\n",
      "12 x 6 = 72\n",
      "12 x 7 = 84\n",
      "12 x 8 = 96\n",
      "12 x 9 = 108\n",
      "12 x 10 = 120\n",
      "\n",
      "13 x 1 = 13\n",
      "13 x 2 = 26\n",
      "13 x 3 = 39\n",
      "13 x 4 = 52\n",
      "13 x 5 = 65\n",
      "13 x 6 = 78\n",
      "13 x 7 = 91\n",
      "13 x 8 = 104\n",
      "13 x 9 = 117\n",
      "13 x 10 = 130\n",
      "\n",
      "14 x 1 = 14\n",
      "14 x 2 = 28\n",
      "14 x 3 = 42\n",
      "14 x 4 = 56\n",
      "14 x 5 = 70\n",
      "14 x 6 = 84\n",
      "14 x 7 = 98\n",
      "14 x 8 = 112\n",
      "14 x 9 = 126\n",
      "14 x 10 = 140\n",
      "\n",
      "15 x 1 = 15\n",
      "15 x 2 = 30\n",
      "15 x 3 = 45\n",
      "15 x 4 = 60\n",
      "15 x 5 = 75\n",
      "15 x 6 = 90\n",
      "15 x 7 = 105\n",
      "15 x 8 = 120\n",
      "15 x 9 = 135\n",
      "15 x 10 = 150\n",
      "\n",
      "16 x 1 = 16\n",
      "16 x 2 = 32\n",
      "16 x 3 = 48\n",
      "16 x 4 = 64\n",
      "16 x 5 = 80\n",
      "16 x 6 = 96\n",
      "16 x 7 = 112\n",
      "16 x 8 = 128\n",
      "16 x 9 = 144\n",
      "16 x 10 = 160\n",
      "\n",
      "17 x 1 = 17\n",
      "17 x 2 = 34\n",
      "17 x 3 = 51\n",
      "17 x 4 = 68\n",
      "17 x 5 = 85\n",
      "17 x 6 = 102\n",
      "17 x 7 = 119\n",
      "17 x 8 = 136\n",
      "17 x 9 = 153\n",
      "17 x 10 = 170\n",
      "\n",
      "18 x 1 = 18\n",
      "18 x 2 = 36\n",
      "18 x 3 = 54\n",
      "18 x 4 = 72\n",
      "18 x 5 = 90\n",
      "18 x 6 = 108\n",
      "18 x 7 = 126\n",
      "18 x 8 = 144\n",
      "18 x 9 = 162\n",
      "18 x 10 = 180\n",
      "\n",
      "19 x 1 = 19\n",
      "19 x 2 = 38\n",
      "19 x 3 = 57\n",
      "19 x 4 = 76\n",
      "19 x 5 = 95\n",
      "19 x 6 = 114\n",
      "19 x 7 = 133\n",
      "19 x 8 = 152\n",
      "19 x 9 = 171\n",
      "19 x 10 = 190\n",
      "\n"
     ]
    }
   ],
   "source": [
    "def fun(start,end):\n",
    "    for i in range(start,end):\n",
    "        for j in range(1,11):\n",
    "            print(f'{i} x {j} = {i*j}')\n",
    "        print()\n",
    "fun(1,20)"
   ]
  },
  {
   "cell_type": "code",
   "execution_count": 16,
   "metadata": {},
   "outputs": [
    {
     "name": "stdout",
     "output_type": "stream",
     "text": [
      "SrEdIpSyP\n"
     ]
    }
   ],
   "source": [
    "#wap to return the following output\n",
    "#i/p: PYSPIDERS\n",
    "#o/p: SrEdIpSyP\n",
    "st=\"PYSPIDERS\"\n",
    "res=\"\"\n",
    "for i in range(0,len(st)):\n",
    "    if i%2==0:\n",
    "        res=st[i]+res\n",
    "    else:\n",
    "        res=chr(ord(st[i])+32)+res\n",
    "print(res)\n"
   ]
  },
  {
   "cell_type": "code",
   "execution_count": 29,
   "metadata": {},
   "outputs": [
    {
     "name": "stdout",
     "output_type": "stream",
     "text": [
      "['i', 'love', 'india', 'i', 'love', 'my']\n",
      "{'i': 2, 'love': 2, 'india': 1, 'my': 1}\n"
     ]
    }
   ],
   "source": [
    "\n",
    "st=\"i love india i love my country\"\n",
    "res=\"\"\n",
    "l=[]\n",
    "for i in st:\n",
    "    if i !=\" \":\n",
    "        res+=i\n",
    "    else:\n",
    "        if len(st)>1:\n",
    "            l+=[res]\n",
    "            res=\"\"\n",
    "print(l)\n",
    "d={}\n",
    "for a in l:\n",
    "    if a not in d:\n",
    "        d[a]=1\n",
    "    else:\n",
    "        d[a]+=1\n",
    "print(d)"
   ]
  },
  {
   "cell_type": "code",
   "execution_count": 36,
   "metadata": {},
   "outputs": [
    {
     "name": "stdout",
     "output_type": "stream",
     "text": [
      "{1: 1, 2: 8, 3: 27, 4: 64, 5: 125, 6: 216, 7: 343, 8: 512, 9: 729}\n"
     ]
    }
   ],
   "source": [
    "# wap to print the the series of the cubes\n",
    "\n",
    "d={i:i**3 for i in range(1,10)}\n",
    "print(d)"
   ]
  },
  {
   "cell_type": "code",
   "execution_count": 61,
   "metadata": {},
   "outputs": [
    {
     "name": "stdout",
     "output_type": "stream",
     "text": [
      "[1, 2, 3, 4, 5, 6, 7, 8, 9, 10, 11, 12, 13, 14, 15, 16, 17, 18, 19]\n",
      "{1: 1, 2: 8, 3: 27, 4: 64, 5: 125, 6: 216, 7: 343, 8: 512, 9: 729, 10: 1000, 11: 1331, 12: 1728, 13: 2197, 14: 2744, 15: 3375, 16: 4096, 17: 4913, 18: 5832}\n"
     ]
    }
   ],
   "source": [
    "# wap to print the the series of the cubes\n",
    "def fun(a,b):\n",
    "    l=[]\n",
    "    for i in range(a,b):\n",
    "        l+=[i]\n",
    "    print(l)\n",
    "    d={}\n",
    "    for j in range(1,len(l)):\n",
    "        if l[j] not in d:\n",
    "            d[j]=j**3\n",
    "        else:\n",
    "            pass\n",
    "    print(d) \n",
    "fun(1,20)\n",
    "\n",
    "    "
   ]
  },
  {
   "cell_type": "code",
   "execution_count": 44,
   "metadata": {},
   "outputs": [
    {
     "name": "stdout",
     "output_type": "stream",
     "text": [
      "6\n",
      "28\n",
      "496\n"
     ]
    }
   ],
   "source": [
    "#wap to print the series of the perfect numbers\n",
    "\n",
    "def fun(a,b):\n",
    "    for i in range(a,b):\n",
    "        n=i\n",
    "        temp=n\n",
    "        j=1\n",
    "        sum=0\n",
    "        while j<n:\n",
    "            if n%j==0:\n",
    "                sum+=j\n",
    "            j+=1\n",
    "        if temp==sum:\n",
    "            print(temp)\n",
    "fun(1,1800)"
   ]
  },
  {
   "cell_type": "code",
   "execution_count": 47,
   "metadata": {},
   "outputs": [
    {
     "name": "stdout",
     "output_type": "stream",
     "text": [
      "['python', 'is', 'a', 'high', 'level', 'procedural', 'and', 'it', 'is', 'a', 'functional', 'python', 'high']\n",
      "{'python': 2, 'is': 2, 'a': 2, 'high': 2, 'level': 1, 'procedural': 1, 'and': 1, 'it': 1, 'functional': 1}\n"
     ]
    }
   ],
   "source": [
    "#wap to print the frequence of the words in the given string\n",
    "\n",
    "st=\"python is a high level procedural and it is a functional python high\"\n",
    "res=\"\"\n",
    "l=[]\n",
    "for i in st:\n",
    "    if i !=\" \":\n",
    "        res+=i\n",
    "    else:\n",
    "        if len(res)>=1:\n",
    "            l+=[res]\n",
    "            res=\"\"\n",
    "l+=[res]\n",
    "print(l)\n",
    "d={}\n",
    "for i in l:\n",
    "    if i not in d:\n",
    "        d[i]=1\n",
    "    else:\n",
    "        d[i]+=1\n",
    "print(d)\n",
    "\n"
   ]
  },
  {
   "cell_type": "code",
   "execution_count": 56,
   "metadata": {},
   "outputs": [
    {
     "name": "stdout",
     "output_type": "stream",
     "text": [
      "0 1 1 2 3 5 8 13 21 34 55 89 144 233 "
     ]
    }
   ],
   "source": [
    "#wap to print the nth fabinocci series\n",
    "def fun(n,i=1):\n",
    "    n1=0\n",
    "    n2=1\n",
    "    print(n1,end=\" \")\n",
    "    print(n2,end=\" \")\n",
    "    while i<n:\n",
    "        n3=n1+n2\n",
    "        n1,n2=n2,n3\n",
    "        print(n3,end=\" \")\n",
    "        i+=1\n",
    "fun(13)"
   ]
  },
  {
   "cell_type": "code",
   "execution_count": 7,
   "metadata": {},
   "outputs": [
    {
     "name": "stdout",
     "output_type": "stream",
     "text": [
      "{'python': 2, 'is': 2, 'a': 2, 'high': 1, 'level': 1, 'procedural': 1, 'and': 1, 'it': 1, 'functional': 1}\n"
     ]
    }
   ],
   "source": [
    "#\n",
    "st=\"python is a high level procedural and it is a functional python high\"\n",
    "res=\"\"\n",
    "d={}\n",
    "for i in st:\n",
    "    if i != \" \":\n",
    "        res+=i\n",
    "    else:\n",
    "        if len(res)>=0:\n",
    "            if res not in d:\n",
    "                d[res]=1\n",
    "            else:\n",
    "                d[res]+=1\n",
    "            res=\"\"\n",
    "print(d)"
   ]
  },
  {
   "cell_type": "code",
   "execution_count": 19,
   "metadata": {},
   "outputs": [
    {
     "name": "stdout",
     "output_type": "stream",
     "text": [
      "2 6 24 120 720 5040 40320 362880 3628800 "
     ]
    }
   ],
   "source": [
    "#\n",
    "def fact(n,m):\n",
    "    for n in range(n,m):\n",
    "        def mul(mul):\n",
    "            i=1\n",
    "            while i<=n:\n",
    "                mul*=i\n",
    "                i+=1\n",
    "            print(mul,end=\" \")\n",
    "        n+=1\n",
    "        mul(1)\n",
    "fact(1,10)\n",
    "\n",
    "\n",
    "\n"
   ]
  },
  {
   "cell_type": "code",
   "execution_count": 41,
   "metadata": {},
   "outputs": [
    {
     "name": "stdout",
     "output_type": "stream",
     "text": [
      "6\n",
      "28\n",
      "496\n"
     ]
    }
   ],
   "source": [
    "def fun(a,b):\n",
    "    for i in range(a,b):\n",
    "        n=i\n",
    "        temp=n\n",
    "        j=1\n",
    "        sum=0\n",
    "        while j<n:\n",
    "            if n%j==0:\n",
    "                sum+=j\n",
    "            j+=1\n",
    "        if temp==sum:\n",
    "            print(temp)\n",
    "fun(1,1800)"
   ]
  },
  {
   "cell_type": "code",
   "execution_count": 44,
   "metadata": {},
   "outputs": [
    {
     "name": "stdout",
     "output_type": "stream",
     "text": [
      "6\n",
      "28\n",
      "496\n"
     ]
    }
   ],
   "source": [
    "def perfect(n,m):\n",
    "    for i in range(n,m):\n",
    "        temp=i\n",
    "        sum=0\n",
    "        j=1\n",
    "        while j<i:\n",
    "            if i%j==0:\n",
    "                sum+=j\n",
    "            j+=1\n",
    "        if sum==temp:\n",
    "            print(sum)\n",
    "perfect(1,1800)"
   ]
  },
  {
   "cell_type": "code",
   "execution_count": 66,
   "metadata": {},
   "outputs": [
    {
     "name": "stdout",
     "output_type": "stream",
     "text": [
      "145 "
     ]
    }
   ],
   "source": [
    "#strong number\n",
    "def fun(start,end):\n",
    "    for i in range(start,end):\n",
    "        n=i\n",
    "        temp=n\n",
    "        sum=0\n",
    "        while n>0:\n",
    "            ld=n%10\n",
    "            fact=1\n",
    "            i=1\n",
    "            while i<=ld:\n",
    "                fact=fact*i\n",
    "                i+=1\n",
    "            sum+=fact\n",
    "            n=n//10\n",
    "        if sum==temp:\n",
    "            print(temp,end=\" \")\n",
    "fun(100,200)\n"
   ]
  },
  {
   "cell_type": "code",
   "execution_count": 56,
   "metadata": {},
   "outputs": [
    {
     "name": "stdout",
     "output_type": "stream",
     "text": [
      "1 2 3 4 5 6 7 8 9 10 11 12 13 14 15 16 17 18 19 20 21 22 23 24 25 26 27 28 29 "
     ]
    }
   ],
   "source": [
    "for i in range(1,30):\n",
    "    n=i\n",
    "    print(n,end=\" \")"
   ]
  },
  {
   "cell_type": "code",
   "execution_count": 6,
   "metadata": {},
   "outputs": [
    {
     "data": {
      "text/plain": [
       "19"
      ]
     },
     "execution_count": 6,
     "metadata": {},
     "output_type": "execute_result"
    }
   ],
   "source": [
    "def fun(n,m,sum1=0,sum2=0):\n",
    "    for i in range(1,m+1):\n",
    "        if i%n==0:\n",
    "            # print(i)\n",
    "            sum2+=i\n",
    "        else:\n",
    "            sum1+=i\n",
    "    # print(sum1,sum2)\n",
    "    diff=sum1-sum2\n",
    "    return diff\n",
    "fun(3,10)\n"
   ]
  },
  {
   "cell_type": "code",
   "execution_count": 28,
   "metadata": {},
   "outputs": [
    {
     "name": "stdout",
     "output_type": "stream",
     "text": [
      "[0, 0, 0, 0]\n"
     ]
    }
   ],
   "source": [
    "def fun(arr,l1=[],l2=[]):\n",
    "    for i in range(0,len(arr)):\n",
    "        if len(arr)<=3:\n",
    "            return 0\n",
    "        if i%2==0:\n",
    "            l1+=[arr[i]]\n",
    "        else:\n",
    "            l2+=[arr[i]]\n",
    "    n1=sorted(l1)\n",
    "    n2=sorted(l2)\n",
    "    n3=n1[-2]+n2[-2]\n",
    "    return n3\n",
    "arr=list(map(int,input().split()))\n",
    "fun(arr)\n",
    "        "
   ]
  },
  {
   "cell_type": "code",
   "execution_count": 23,
   "metadata": {},
   "outputs": [
    {
     "name": "stdout",
     "output_type": "stream",
     "text": [
      "[2, 3, 3, 4, 5, 6, 34]\n"
     ]
    }
   ],
   "source": [
    "l=[3,4,5,6,34,3,2]\n",
    "l.sort()\n",
    "print(l)\n"
   ]
  },
  {
   "cell_type": "code",
   "execution_count": 2,
   "metadata": {},
   "outputs": [
    {
     "name": "stdout",
     "output_type": "stream",
     "text": [
      "you are how hello hai \n"
     ]
    }
   ],
   "source": [
    "s=\"hai hello how are you\"\n",
    "l=s.split()\n",
    "res=\"\"\n",
    "for i in l:\n",
    "    res=i+\" \"+res\n",
    "print(res)"
   ]
  }
 ],
 "metadata": {
  "kernelspec": {
   "display_name": "Python 3",
   "language": "python",
   "name": "python3"
  },
  "language_info": {
   "codemirror_mode": {
    "name": "ipython",
    "version": 3
   },
   "file_extension": ".py",
   "mimetype": "text/x-python",
   "name": "python",
   "nbconvert_exporter": "python",
   "pygments_lexer": "ipython3",
   "version": "3.11.4"
  },
  "orig_nbformat": 4
 },
 "nbformat": 4,
 "nbformat_minor": 2
}
