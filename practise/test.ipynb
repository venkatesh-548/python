{
 "cells": [
  {
   "cell_type": "code",
   "execution_count": 4,
   "metadata": {},
   "outputs": [
    {
     "name": "stdout",
     "output_type": "stream",
     "text": [
      "python programe\n",
      "emmargorp\n"
     ]
    }
   ],
   "source": [
    "#1 write a program of a given string if the length of the string is even concat the new string into it if it is odd reverse the given string\n",
    "\n",
    "s=\"programe\"\n",
    "if len(s)%2==0:\n",
    "    s=\"python \"+s\n",
    "else:\n",
    "    s=s[::-1]\n",
    "print(s)\n",
    "\n",
    "s=\"programme\"\n",
    "if len(s)%2==0:\n",
    "    s=\"python \"+s\n",
    "else:\n",
    "    s=s[::-1]\n",
    "print(s)"
   ]
  },
  {
   "cell_type": "code",
   "execution_count": 14,
   "metadata": {},
   "outputs": [
    {
     "data": {
      "text/plain": [
       "4"
      ]
     },
     "execution_count": 14,
     "metadata": {},
     "output_type": "execute_result"
    }
   ],
   "source": [
    "def count_min_integers(arr, x, y):\n",
    "    # Find the indices of x and y in the array\n",
    "    x_index = arr.index(x) if x in arr else -1\n",
    "    y_index = arr.index(y) if y in arr else -1\n",
    "\n",
    "    # If either x or y is not in the array, return -1\n",
    "    if x_index == -1 or y_index == -1:\n",
    "        return -1\n",
    "\n",
    "    # Calculate the number of integers between x and y\n",
    "    min_count = abs(x_index - y_index) - 1\n",
    "\n",
    "    return min_count\n",
    "arr=[10,3,2,4,5,6,9,7,3]\n",
    "x=9\n",
    "y=3\n",
    "count_min_integers(arr,x,y)"
   ]
  },
  {
   "cell_type": "code",
   "execution_count": 10,
   "metadata": {},
   "outputs": [
    {
     "name": "stdout",
     "output_type": "stream",
     "text": [
      "Number of integers between 3 and 6: 5\n"
     ]
    }
   ],
   "source": [
    "def count_integers_between(arr,x, y):\n",
    "    count = 0\n",
    "\n",
    "    for num in arr:\n",
    "        if x <= num <= y:\n",
    "            count += 1\n",
    "\n",
    "    return count\n",
    "\n",
    "# Example usage:\n",
    "arr = [10,3,2,4,5,6,9,7,3]\n",
    "x = 3\n",
    "y = 6\n",
    "result = count_integers_between(arr,x, y)\n",
    "print(f\"Number of integers between {x} and {y}: {result}\")\n"
   ]
  },
  {
   "cell_type": "code",
   "execution_count": 17,
   "metadata": {},
   "outputs": [
    {
     "data": {
      "text/plain": [
       "207"
      ]
     },
     "execution_count": 17,
     "metadata": {},
     "output_type": "execute_result"
    }
   ],
   "source": [
    "def sum_of_leaders(arr,n):\n",
    "    max_from_right = arr[n-1]\n",
    "    sum_leaders = max_from_right  # The rightmost element is always a leader\n",
    "\n",
    "    # Traverse from right to left and keep track of the maximum\n",
    "    for i in range(n-2, -1, -1):\n",
    "        if max_from_right <= arr[i]:\n",
    "            max_from_right = arr[i]\n",
    "            sum_leaders += max_from_right\n",
    "\n",
    "    return sum_leaders\n",
    "arr=[52,66,64,36,45,24,32]\n",
    "n=len(arr)\n",
    "sum_of_leaders(arr,n)"
   ]
  },
  {
   "cell_type": "code",
   "execution_count": 20,
   "metadata": {},
   "outputs": [
    {
     "data": {
      "text/plain": [
       "1"
      ]
     },
     "execution_count": 20,
     "metadata": {},
     "output_type": "execute_result"
    }
   ],
   "source": [
    "def count_min_integers(arr, x, y):\n",
    "    # Find the indices of x and y in the array\n",
    "    x_indices = [i for i, n in enumerate(arr) if n == x]\n",
    "    y_indices = [i for i, n in enumerate(arr) if n == y]\n",
    "\n",
    "    # If either x or y is not in the array, return -1\n",
    "    if not x_indices or not y_indices:\n",
    "        return -1\n",
    "\n",
    "    # Calculate the minimum number of integers between x and y\n",
    "    min_count = min(abs(x_i - y_i) for x_i in x_indices for y_i in y_indices) - 1\n",
    "\n",
    "    return min_count\n",
    "arr = [10,3,2,4,5,6,9,7,3]\n",
    "x = 3\n",
    "y = 9\n",
    "count_min_integers(arr, x, y)"
   ]
  },
  {
   "cell_type": "code",
   "execution_count": null,
   "metadata": {},
   "outputs": [],
   "source": [
    "integer p,q,r\n",
    "set p=5,q=8,r=5\n",
    "if((9&p)<r || q>r)\n",
    "    q=5&q\n",
    "end if\n",
    "q=11+p\n",
    "if((q+p)>(p-q))\n",
    "    r=(p+q)+q\n",
    "end if\n",
    "p=(p+r)+q\n",
    "print p+q+r"
   ]
  },
  {
   "cell_type": "code",
   "execution_count": 6,
   "metadata": {},
   "outputs": [
    {
     "name": "stdout",
     "output_type": "stream",
     "text": [
      "{'a': 12, 'b': 20, 'c': 30}\n",
      "{'a': 10, 'b': 20, 'c': 30, 'd': 50}\n"
     ]
    }
   ],
   "source": [
    "#2 wap to check wheather given key is is not present in the dict or not.if present modify the key value with multiple of 2if it is not present append the the new key value inside the dict\n",
    "\n",
    "d={\"a\":10,\"b\":20,\"c\":30}\n",
    "if \"a\" in d:\n",
    "    d[\"a\"]=12\n",
    "    s=d\n",
    "else:\n",
    "    d[\"a\"]=50\n",
    "    s=d\n",
    "print(d)\n",
    "\n",
    "d={\"a\":10,\"b\":20,\"c\":30}\n",
    "if \"d\" in d:\n",
    "    d[\"a\"]=12\n",
    "    s=d\n",
    "else:\n",
    "    d[\"d\"]=50\n",
    "    s=d\n",
    "print(d)"
   ]
  },
  {
   "cell_type": "code",
   "execution_count": 9,
   "metadata": {},
   "outputs": [
    {
     "name": "stdout",
     "output_type": "stream",
     "text": [
      "@\n",
      "97\n"
     ]
    }
   ],
   "source": [
    "#3 wap wheather given char is special char or not . if it is special char print special char else respective asci val print\n",
    "\n",
    "ch=\"@\"\n",
    "if not(\"a\"<=ch<=\"z\" or \"A\"<=ch<=\"Z\" or \"0\"<=ch<=\"9\"):\n",
    "    res=ch\n",
    "else:\n",
    "    res=ord(ch)\n",
    "print(res)\n",
    "\n",
    "ch=\"a\"\n",
    "if not(\"a\"<=ch<=\"z\" or \"A\"<=ch<=\"Z\" or \"0\"<=ch<=\"9\"):\n",
    "    res=ch\n",
    "else:\n",
    "    res=ord(ch)\n",
    "print(res)\n"
   ]
  },
  {
   "cell_type": "code",
   "execution_count": 19,
   "metadata": {},
   "outputs": [
    {
     "name": "stdout",
     "output_type": "stream",
     "text": [
      "[1, 2, 'hi', 4, 5]\n"
     ]
    }
   ],
   "source": [
    "# if the given input is a collection datatype if it is list modify the middle value with new val,if it is tuple append new val at start of the position,if set add one val,string sting val asci num dict format\n",
    "\n",
    "d=[1,2,3,4,5] \n",
    "p={}\n",
    "if type(d) == list:\n",
    "    d[len(d)//2]=\"hi\"\n",
    "    res=d\n",
    "elif type(d)==tuple:\n",
    "    res=\"a\"+d\n",
    "elif type(d)==set:\n",
    "    a={8}\n",
    "    d|=a\n",
    "    res=d\n",
    "elif type(d)==str:\n",
    "    a=d[0]\n",
    "    p|=ord(a)\n",
    "    res=p\n",
    "\n",
    "print(res)\n",
    "\n",
    "\n"
   ]
  },
  {
   "cell_type": "code",
   "execution_count": 1,
   "metadata": {},
   "outputs": [
    {
     "name": "stdout",
     "output_type": "stream",
     "text": [
      "['hai', 'hello', 'python']\n"
     ]
    }
   ],
   "source": [
    "s=\"hai hello python\"\n",
    "l=s.split()\n",
    "print(l)"
   ]
  },
  {
   "cell_type": "code",
   "execution_count": 22,
   "metadata": {},
   "outputs": [
    {
     "name": "stdout",
     "output_type": "stream",
     "text": [
      "RAJAranvijay\n"
     ]
    }
   ],
   "source": [
    "g=([1,2,3,45],(\"raja\"),[10,20,(30)],[\"vinay\",450,{11,11},(50)])\n",
    "#RAJAranvijay\n",
    "\n",
    "a=g[1]\n",
    "b=(chr(ord(a[0])-32)+chr(ord(a[1])-32)+chr(ord(a[2])-32)+chr(ord(a[3])-32))\n",
    "c=a[:2:]\n",
    "d=g[-1][0][2]\n",
    "e=g[-1][0][:2]\n",
    "f=(a[-2])\n",
    "h=(g[-1][0][3:])\n",
    "print(b+c+d+e+f+h)\n",
    "\n"
   ]
  },
  {
   "cell_type": "code",
   "execution_count": 2,
   "metadata": {},
   "outputs": [
    {
     "ename": "TypeError",
     "evalue": "list indices must be integers or slices, not str",
     "output_type": "error",
     "traceback": [
      "\u001b[1;31m---------------------------------------------------------------------------\u001b[0m",
      "\u001b[1;31mTypeError\u001b[0m                                 Traceback (most recent call last)",
      "Cell \u001b[1;32mIn[2], line 10\u001b[0m\n\u001b[0;32m      8\u001b[0m c\u001b[39m=\u001b[39m((d[\u001b[39m1\u001b[39m][\u001b[39m0\u001b[39m][\u001b[39m-\u001b[39m\u001b[39m1\u001b[39m]))\n\u001b[0;32m      9\u001b[0m e\u001b[39m=\u001b[39m(d[\u001b[39m1\u001b[39m][\u001b[39m2\u001b[39m][::\u001b[39m-\u001b[39m\u001b[39m1\u001b[39m])\n\u001b[1;32m---> 10\u001b[0m \u001b[39mprint\u001b[39m(d[\u001b[39m\"\u001b[39;49m\u001b[39mRAJA\u001b[39;49m\u001b[39m\"\u001b[39;49m][\u001b[39m'\u001b[39m\u001b[39ma\u001b[39m\u001b[39m'\u001b[39m])\n\u001b[0;32m     11\u001b[0m \u001b[39mprint\u001b[39m(f)\n\u001b[0;32m     12\u001b[0m \u001b[39m# print(a+b+c+e)\u001b[39;00m\n",
      "\u001b[1;31mTypeError\u001b[0m: list indices must be integers or slices, not str"
     ]
    }
   ],
   "source": [
    "d = [{\"RAJA\": {'s': 'sagar', 'a': 'ajay', 'S': {\"raja\",'sahil'}}}, [[100, 200, (300)],500,'ranvijay', \n",
    "(100,'vijay', [10000,20000])], {(10, (20,))}]\n",
    "\n",
    "#[10000,20000,100,200,(300,),\"yajivnar\",'yajasagar','Iha']\n",
    "\n",
    "a=(d[1][-1][-1])\n",
    "b=(d[1][0])\n",
    "c=((d[1][0][-1]))\n",
    "e=(d[1][2][::-1])\n",
    "print(d[\"RAJA\"]['a'])\n",
    "print(f)\n",
    "# print(a+b+c+e)"
   ]
  },
  {
   "cell_type": "code",
   "execution_count": 11,
   "metadata": {},
   "outputs": [
    {
     "name": "stdout",
     "output_type": "stream",
     "text": [
      "yajasagar\n"
     ]
    }
   ],
   "source": [
    "d={\"RAJA\": {'s': 'sagar', 'a': 'ajay', 'S': {\"raja\",'sahil'}}}\n",
    "a=(d[\"RAJA\"]['a'])\n",
    "res=a[::-1]\n",
    "b=(d[\"RAJA\"]['s'])\n",
    "c=res+b\n",
    "print(c)"
   ]
  },
  {
   "cell_type": "code",
   "execution_count": 1,
   "metadata": {},
   "outputs": [
    {
     "name": "stdout",
     "output_type": "stream",
     "text": [
      "15\n",
      "14\n",
      "13\n",
      "12\n",
      "11\n",
      "10\n",
      "9\n",
      "8\n",
      "7\n",
      "6\n",
      "5\n",
      "4\n",
      "3\n",
      "2\n",
      "1\n"
     ]
    }
   ],
   "source": [
    "#to genarate from 15-1\n",
    "n=15\n",
    "while n:\n",
    "    print(n)\n",
    "    n=n-1"
   ]
  },
  {
   "cell_type": "code",
   "execution_count": 2,
   "metadata": {},
   "outputs": [
    {
     "name": "stdout",
     "output_type": "stream",
     "text": [
      "945\n"
     ]
    }
   ],
   "source": [
    "#sum of odd values\n",
    "m=25\n",
    "n=65\n",
    "sum=0\n",
    "while m<=n:\n",
    "    if m%2!=0:\n",
    "        sum+=m\n",
    "    m+=1\n",
    "print(sum)\n",
    "\n"
   ]
  },
  {
   "cell_type": "code",
   "execution_count": 4,
   "metadata": {},
   "outputs": [
    {
     "name": "stdout",
     "output_type": "stream",
     "text": [
      "not prime\n"
     ]
    }
   ],
   "source": [
    "#prime or not\n",
    "n=14\n",
    "i=1\n",
    "count=0\n",
    "while i<=n:\n",
    "    if n%i==0:\n",
    "        count+=1\n",
    "    i+=1\n",
    "if count==2:\n",
    "    print(\"prime\")\n",
    "else:\n",
    "    print(\"not prime\")"
   ]
  },
  {
   "cell_type": "code",
   "execution_count": 6,
   "metadata": {},
   "outputs": [
    {
     "name": "stdout",
     "output_type": "stream",
     "text": [
      "2\n",
      "6\n",
      "10\n",
      "30\n"
     ]
    }
   ],
   "source": [
    "# print even factors from the given number\n",
    "n=30\n",
    "i=1\n",
    "while i<=n:\n",
    "    if n%i==0 and i%2==0:\n",
    "        print(i)\n",
    "    i+=1\n"
   ]
  },
  {
   "cell_type": "code",
   "execution_count": 9,
   "metadata": {},
   "outputs": [
    {
     "name": "stdout",
     "output_type": "stream",
     "text": [
      "strong\n"
     ]
    }
   ],
   "source": [
    "#strong or not\n",
    "n=145\n",
    "t=n\n",
    "sum=0\n",
    "while n:\n",
    "    ld=n%10\n",
    "    i=1\n",
    "    fact=1\n",
    "    while i<=ld:\n",
    "        fact=fact*i\n",
    "        i+=1\n",
    "    sum+=fact\n",
    "    n=n//10\n",
    "if t==sum:\n",
    "    print(\"strong\")\n",
    "else:\n",
    "    print(\"not strong\")"
   ]
  },
  {
   "cell_type": "code",
   "execution_count": 10,
   "metadata": {},
   "outputs": [
    {
     "name": "stdout",
     "output_type": "stream",
     "text": [
      "6543\n"
     ]
    }
   ],
   "source": [
    "#rev the number\n",
    "n=3456\n",
    "rev=0\n",
    "while n:\n",
    "    ld=n%10\n",
    "    rev=rev*10+ld\n",
    "    n=n//10\n",
    "print(rev)"
   ]
  },
  {
   "cell_type": "code",
   "execution_count": 11,
   "metadata": {},
   "outputs": [
    {
     "name": "stdout",
     "output_type": "stream",
     "text": [
      "25\n",
      "1\n",
      "5\n",
      "25\n"
     ]
    }
   ],
   "source": [
    "#sum of all digits and factors\n",
    "n=8764\n",
    "sum=0\n",
    "while n:\n",
    "    ld=n%10\n",
    "    sum+=ld\n",
    "    n=n//10\n",
    "print(sum)\n",
    "i=1\n",
    "fact=1\n",
    "while i<=sum:\n",
    "    if sum%i==0:\n",
    "        print(i)\n",
    "    i+=1\n",
    "\n",
    "\n"
   ]
  },
  {
   "cell_type": "code",
   "execution_count": 9,
   "metadata": {},
   "outputs": [
    {
     "name": "stdout",
     "output_type": "stream",
     "text": [
      "3\n"
     ]
    }
   ],
   "source": [
    "num=89274868734\n",
    "def sum_of_digits(num):\n",
    "    while num>9:\n",
    "        sum=0\n",
    "        while num:\n",
    "            ld=num%10\n",
    "            sum+=ld\n",
    "            num//=10\n",
    "        num=sum\n",
    "    print(sum)\n",
    "sum_of_digits(num)\n"
   ]
  },
  {
   "cell_type": "code",
   "execution_count": 27,
   "metadata": {},
   "outputs": [
    {
     "data": {
      "text/plain": [
       "'prime'"
      ]
     },
     "execution_count": 27,
     "metadata": {},
     "output_type": "execute_result"
    }
   ],
   "source": [
    "# spy number\n",
    "num=17\n",
    "def spy(num,sum=0,fact=1):\n",
    "    for i in str(num):\n",
    "        sum+=int(i)\n",
    "        fact*=int(i)\n",
    "    if sum==fact:\n",
    "        n1=0\n",
    "        n2=1\n",
    "        print(n1,end=\" \")\n",
    "        print(n2,end=\" \")\n",
    "        for i in range(0,sum):\n",
    "            n3=n1+n2\n",
    "            n1,n2=n2,n3\n",
    "            print(n3,end=\" \")\n",
    "    else:\n",
    "        for i in range(2,num):\n",
    "            count=0\n",
    "            if num%i==0:\n",
    "                count+=1\n",
    "            return [\"not prime\",\"prime\"][count==0]        \n",
    "spy(num)\n",
    "\n",
    "\n"
   ]
  },
  {
   "cell_type": "code",
   "execution_count": 32,
   "metadata": {},
   "outputs": [
    {
     "name": "stdout",
     "output_type": "stream",
     "text": [
      "1\n",
      "2\n",
      "6\n",
      "24\n",
      "120\n",
      "720\n",
      "5040\n",
      "40320\n",
      "362880\n",
      "3628800\n"
     ]
    }
   ],
   "source": [
    "import math\n",
    "def ser(a=1,b=11):\n",
    "    if a==b:\n",
    "        return\n",
    "    print(math.factorial(a))\n",
    "    ser(a+1,b)\n",
    "ser()"
   ]
  },
  {
   "cell_type": "code",
   "execution_count": 1,
   "metadata": {},
   "outputs": [
    {
     "name": "stdout",
     "output_type": "stream",
     "text": [
      "1 2 6 24 120 720 5040 40320 362880 3628800 "
     ]
    }
   ],
   "source": [
    "def factr(n,fact=1):\n",
    "    if n==0:\n",
    "        return fact\n",
    "    fact*=n\n",
    "    return factr(n-1,fact)\n",
    "for i in range(1,11):\n",
    "    print(factr(i),end=\" \")"
   ]
  },
  {
   "cell_type": "code",
   "execution_count": null,
   "metadata": {},
   "outputs": [],
   "source": []
  },
  {
   "cell_type": "code",
   "execution_count": 16,
   "metadata": {},
   "outputs": [
    {
     "name": "stdout",
     "output_type": "stream",
     "text": [
      "1\n",
      "2\n",
      "0\n",
      "8\n",
      "11\n"
     ]
    }
   ],
   "source": [
    "num='1011'\n",
    "l=list(num)\n",
    "l.reverse()\n",
    "sum=0\n",
    "for i in range(len(l)):\n",
    "    print(int(l[i])*(2**i))\n",
    "    sum+=(int(l[i])*(2**i))\n",
    "print(sum)\n",
    "\n"
   ]
  },
  {
   "cell_type": "code",
   "execution_count": 42,
   "metadata": {},
   "outputs": [
    {
     "name": "stdout",
     "output_type": "stream",
     "text": [
      "['.com', '.in', '.edu', '.nic.in']\n"
     ]
    }
   ],
   "source": [
    "st=\"www.google.com www.python.in www.yahoo.edu www.kar.nic.in www.youtube.com\"\n",
    "count=0\n",
    "res=\"\"\n",
    "l=[]\n",
    "for i in range(len(st)):\n",
    "    if st[i]==\".\":\n",
    "        count+=1\n",
    "        res+=st[i]\n",
    "        if count==2:\n",
    "            # print(\"hai\")\n",
    "            res=\"\"\n",
    "            res+=st[i]\n",
    "            # print(res)\n",
    "    elif st[i]==\" \":\n",
    "        l+=[res]\n",
    "        res=\"\"\n",
    "        count=0\n",
    "    else:\n",
    "        res+=st[i]\n",
    "print(l)\n",
    "\n",
    "\n"
   ]
  },
  {
   "cell_type": "code",
   "execution_count": 1,
   "metadata": {},
   "outputs": [
    {
     "name": "stdout",
     "output_type": "stream",
     "text": [
      " www.google.com www.python.in www.yahoo.edu www.kar.nic.in www.youtube.com\n",
      "[('com', 'in', 'edu', 'nic.in', 'com'), {'com': 2, 'in': 1, 'edu': 1, 'nic.in': 1}]\n"
     ]
    }
   ],
   "source": [
    "st=[\"www.google.com\",\"www.python.in\", \"www.yahoo.edu\", \"www.kar.nic.in\", \"www.youtube.com\"]\n",
    "res=\"\"\n",
    "for j in st:\n",
    "    res=res+\" \"+j\n",
    "print(res)\n",
    "l=[]\n",
    "l1=[]\n",
    "tem=\"\"\n",
    "count=0\n",
    "for i in res:\n",
    "    if i==\".\":\n",
    "        count+=1\n",
    "        tem+=i\n",
    "        if count==2:\n",
    "            tem=\"\"\n",
    "            # tem+=i\n",
    "    elif i==\" \":\n",
    "        if len(tem)!=0:\n",
    "            l+=[tem]\n",
    "            tem=\"\"\n",
    "            count=0\n",
    "    else:\n",
    "        tem+=i\n",
    "else:\n",
    "    l+=[tem]\n",
    "t=tuple(l)\n",
    "l1+=[t]\n",
    "d={}\n",
    "for i in l:\n",
    "    if i not in d:\n",
    "        d[i]=1\n",
    "    else:\n",
    "        d[i]+=1\n",
    "l1+=[d]\n",
    "print(l1)"
   ]
  },
  {
   "cell_type": "code",
   "execution_count": 3,
   "metadata": {},
   "outputs": [
    {
     "name": "stdout",
     "output_type": "stream",
     "text": [
      "['@gmail.com', '@gmail.com', '@gmail.com', '@co.in']\n"
     ]
    }
   ],
   "source": [
    "st=\"venky@gmail.com pyspider@gmail.com qsp@gmail.com jsp@co.in\"\n",
    "l=[]\n",
    "res=\"\"\n",
    "for i in st:\n",
    "    if i==\"@\":\n",
    "        res=\"\"\n",
    "        res+=i\n",
    "    elif i==\" \":\n",
    "        if len(res)!=0:\n",
    "            l+=[res]\n",
    "            res=''\n",
    "    else:\n",
    "        res+=i\n",
    "if len(res)!=0:\n",
    "    l+=[res]\n",
    "print(l)\n",
    "\n"
   ]
  },
  {
   "cell_type": "code",
   "execution_count": 31,
   "metadata": {},
   "outputs": [
    {
     "name": "stdout",
     "output_type": "stream",
     "text": [
      "ogle.com.in\n",
      "oogle.com.in\n",
      "google.com.in\n",
      ".google.com.in\n"
     ]
    }
   ],
   "source": [
    "st=\"www.google.com.in\"\n",
    "count=0\n",
    "for i in range(len(st)):\n",
    "    if st[i]==\".\":\n",
    "        count+=1\n",
    "    if count==2:\n",
    "        print(st[-i-1:])"
   ]
  },
  {
   "cell_type": "code",
   "execution_count": 2,
   "metadata": {},
   "outputs": [
    {
     "name": "stdout",
     "output_type": "stream",
     "text": [
      "1100\n"
     ]
    }
   ],
   "source": [
    "n=12\n",
    "st=\"\"\n",
    "rem=0\n",
    "while n:\n",
    "    ld=n//2\n",
    "    rem=n%2\n",
    "    st=str(rem)+st\n",
    "    n=ld\n",
    "print(st)"
   ]
  },
  {
   "cell_type": "code",
   "execution_count": 2,
   "metadata": {},
   "outputs": [
    {
     "name": "stdout",
     "output_type": "stream",
     "text": [
      "11\n"
     ]
    }
   ],
   "source": [
    "n=1011\n",
    "sum=0\n",
    "i=0\n",
    "while n:\n",
    "    ld=n%10\n",
    "    sum+=ld*(2**i)\n",
    "    i+=1\n",
    "    n//=10\n",
    "print(sum)\n"
   ]
  }
 ],
 "metadata": {
  "kernelspec": {
   "display_name": "Python 3",
   "language": "python",
   "name": "python3"
  },
  "language_info": {
   "codemirror_mode": {
    "name": "ipython",
    "version": 3
   },
   "file_extension": ".py",
   "mimetype": "text/x-python",
   "name": "python",
   "nbconvert_exporter": "python",
   "pygments_lexer": "ipython3",
   "version": "3.11.4"
  },
  "orig_nbformat": 4
 },
 "nbformat": 4,
 "nbformat_minor": 2
}
